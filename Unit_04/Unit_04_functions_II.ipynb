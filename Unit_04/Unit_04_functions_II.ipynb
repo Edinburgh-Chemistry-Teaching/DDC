{
 "cells": [
  {
   "cell_type": "markdown",
   "metadata": {},
   "source": [
    "# Unit 04: Functions II\n",
    "\n",
    "<a rel=\"license\" href=\"http://creativecommons.org/licenses/by/4.0/\"><img alt=\"Creative Commons Licence\" style=\"border-width:0\" src=\"https://i.creativecommons.org/l/by/4.0/88x31.png\" title='This work is licensed under a Creative Commons Attribution 4.0 International License.' align=\"right\"/></a>\n",
    "\n",
    "Authors: Dr Claire Hobday and & Dr Antonia Mey   \n",
    "Email: claire.hobday@ed.ac.uk, antonia.mey@ed.ac.uk\n",
    "\n",
    "### Learning objectives:\n",
    "\n",
    "This session is split into two notebooks both discuss how to use and write your own functions.\n",
    "\n",
    "- ***Functions I*** (Previous notebook)\n",
    "    - understand inbuilt functions \n",
    "    - understand the format of a function\n",
    "    - input into functions\n",
    "    - using loops and conditionals in functions\n",
    "    - calling a function\n",
    "\n",
    "- ***Functions II*** (This notebook)\n",
    "    - getting information out of a function\n",
    "    - how to write reusable code\n",
    "    - write functions to interrogate data\n",
    "\n",
    "### Table of Contents\n",
    "- [Previous notebook: Functions II](Unit_04_functions_I.ipynb)\n",
    "- [4. Returning values from a function](#returns)   \n",
    "- [5. Functions calling functions](#function)   \n",
    "\n",
    "### Links to documentation\n",
    "- [numpy](https://numpy.org/doc/stable/)\n",
    "- [matplotlib](https://matplotlib.org/stable/index.html)\n",
    "\n",
    "**<span style=\"color:black\">Jupyter Cheat Sheet</span>**\n",
    "- To run the currently highlighted cell and move focus to the next cell, hold <kbd>&#x21E7; Shift</kbd> and press <kbd>&#x23ce; Enter</kbd>;\n",
    "- To run the currently highlighted cell and keep focus in the same cell, hold <kbd>&#x21E7; Ctrl</kbd> and press <kbd>&#x23ce; Enter</kbd>;\n",
    "- To get help for a specific function, place the cursor within the function's brackets, hold <kbd>&#x21E7; Shift</kbd>, and press <kbd>&#x21E5; Tab</kbd>;"
   ]
  },
  {
   "cell_type": "markdown",
   "metadata": {
    "button": false,
    "new_sheet": false,
    "run_control": {
     "read_only": false
    }
   },
   "source": [
    "## 4. Returning values from a function\n",
    "<a id=\"returns\"></a>\n"
   ]
  },
  {
   "cell_type": "markdown",
   "metadata": {
    "button": false,
    "new_sheet": false,
    "run_control": {
     "read_only": false
    }
   },
   "source": [
    "In all the examples previously, we have been using the `print()` to output our information from the function. Programmers rarely use functions to print to the screen as the `print()` function already does that for us. Normally functions are used to do something to the argument that is passed to it then return the result of that something.\n",
    "\n",
    "Consider the `len()` function:\n",
    "```python\n",
    "seq_len = len('ACGTGGGTA')\n",
    "```\n",
    "In this code we pass a DNA sequence as a string to `len()` which  **returns** its length which we can assign to a variable, in this case called `seq_len`. \n",
    "\n",
    "This is a more versatile use of functions than just printing because we can now use the value of `seq_len` for many other purposes.\n",
    "\n",
    "In the code below is a function called `square_it()` that takes a number, squares it and **returns** the square. \n",
    "\n",
    "<div class=\"alert alert-info\">\n",
    "<b>Run it to see what happens.</b>\n",
    "</div>"
   ]
  },
  {
   "cell_type": "code",
   "execution_count": null,
   "metadata": {},
   "outputs": [],
   "source": [
    "import numpy as np\n",
    "import matplotlib.pyplot as plt\n",
    "%matplotlib inline"
   ]
  },
  {
   "cell_type": "code",
   "execution_count": null,
   "metadata": {},
   "outputs": [],
   "source": [
    "def square_it(x):\n",
    "    \"\"\"Return the square of the number x\"\"\"\n",
    "\n",
    "    square = x ** 2\n",
    "    return square\n",
    "\n",
    "\n",
    "# Call \"square_it()\" with the argument 9.\n",
    "# Assign the returned value (which is 81) to the variable \"y\".\n",
    "y = square_it(9.)\n",
    "print(y)"
   ]
  },
  {
   "cell_type": "markdown",
   "metadata": {},
   "source": [
    "The function `square_it()` takes a number and stores it in the parameter `x`. `x` is squared (remember `**` is the power operator, i.e., `x` to the power 2 is x squared.). The square of `x` is assigned to the variable `square`. Finally, the function returns the value in `square` back to the main program where it is assigned to the variable `y`, and the printed.\n"
   ]
  },
  {
   "cell_type": "markdown",
   "metadata": {},
   "source": [
    "In this next example, we input 3 variables, `deltaG`, `R` and `T` and return one value `K`, the equilibrium constant.\n",
    "These are related through the equation:\n",
    "\n",
    "\\begin{equation}\n",
    "K = \\exp (\\frac{-\\Delta G}{RT}) \n",
    "\\end{equation}"
   ]
  },
  {
   "cell_type": "code",
   "execution_count": null,
   "metadata": {},
   "outputs": [],
   "source": [
    "#we use numpy as np and use np.exp \n",
    "#This gives us access to the exponential function within numpy.\n",
    "def equilibrium_constant(deltaG, R, T):\n",
    "    K = np.exp(-deltaG / (R * T))\n",
    "    return K\n",
    "\n",
    "deltaG = -20.5 #kJ/mol\n",
    "R = 8.314 #J/Kmol\n",
    "R = 8.314 * 0.001 #kJ/Kmol\n",
    "T = 300 #K\n",
    "\n",
    "K = equilibrium_constant(deltaG, R, T)\n",
    "print('The equilibrium constant is {:.3f}'.format(K))"
   ]
  },
  {
   "cell_type": "markdown",
   "metadata": {},
   "source": [
    "## Functions can return more than one value"
   ]
  },
  {
   "cell_type": "markdown",
   "metadata": {},
   "source": [
    "The above function returned just a single value, but functions can return as many values as we like.\n",
    "\n",
    "See the example below for finding the roots of a quadratic equation. \n",
    "\n",
    "$$ y = ax^2 + bx + c $$\n",
    "\n",
    "where, $a = 1$, $b = 4$, and $c = 2$. \n",
    "\n",
    "And of course the postive and negative roots are:\n",
    "$$ x+ = \\frac{-b + \\sqrt{b^2 - 4ac}}{2a} $$\n",
    "\n",
    "$$ x- = \\frac{-b - \\sqrt{b^2 - 4ac}}{2a} $$"
   ]
  },
  {
   "cell_type": "code",
   "execution_count": null,
   "metadata": {},
   "outputs": [],
   "source": [
    "#Here we are using numpy's squareroot function np.sqrt\n",
    "def getRoots(a, b, c):\n",
    "    x_plus = (-b + np.sqrt(b ** 2 - 4 * a * c)) / (2 * a)\n",
    "    x_minus = (-b - np.sqrt(b ** 2 - 4 * a * c)) / (2 * a)\n",
    "    return x_plus, x_minus\n",
    "\n",
    "x_plus, x_minus = getRoots(1, 4, 2)\n",
    "print(f'The positive root is {x_plus}')\n",
    "print(f'The negative root is {x_minus}')"
   ]
  },
  {
   "cell_type": "markdown",
   "metadata": {},
   "source": [
    "The function returns both values stored in the variables `x_plus` and `x_minus` simultaneously back to the main program."
   ]
  },
  {
   "cell_type": "markdown",
   "metadata": {},
   "source": [
    "## 5.  Functions can call functions\n",
    "<a id=\"function\"></a>"
   ]
  },
  {
   "cell_type": "markdown",
   "metadata": {},
   "source": [
    "As we've seen a function can be called form inside another function. The code below shows an example we've already seen."
   ]
  },
  {
   "cell_type": "code",
   "execution_count": null,
   "metadata": {},
   "outputs": [],
   "source": [
    "def say_hello(name):\n",
    "    \"\"\"Print Hello name\"\"\"\n",
    "    \n",
    "    print(f'Hello {name}')\n",
    "    \n",
    "say_hello('Bob')"
   ]
  },
  {
   "cell_type": "markdown",
   "metadata": {},
   "source": [
    "In this example we call the function `say_hello()` which we have written. Our function calls the inbuilt function `print()`.\n",
    "\n",
    "But our function can also call another function that **we** have written.\n",
    "\n",
    "Remember the function which converts fahrenheit to celsius?\n",
    "```python\n",
    "def fahr_to_celsius(temp):\n",
    "    return ((temp - 32) * (5/9))\n",
    "```\n",
    "Let's write another one which will convert celsius to kelvin:\n"
   ]
  },
  {
   "cell_type": "code",
   "execution_count": null,
   "metadata": {},
   "outputs": [],
   "source": [
    "def fahr_to_celsius(temp):\n",
    "    return ((temp - 32) * (5/9))\n",
    "def celsius_to_kelvin(temp_c):\n",
    "    return temp_c + 273.15"
   ]
  },
  {
   "cell_type": "markdown",
   "metadata": {},
   "source": [
    "Now, let's convert Farhenheit to Kelvin. \n",
    "\n",
    "We could write out the formula, but we don’t need to. Instead, we can compose the two functions we have already created:"
   ]
  },
  {
   "cell_type": "code",
   "execution_count": null,
   "metadata": {},
   "outputs": [],
   "source": [
    "def fahr_to_kelvin(temp_f):\n",
    "    temp_c = fahr_to_celsius(temp_f)\n",
    "    temp_k = celsius_to_kelvin(temp_c)\n",
    "    return temp_k"
   ]
  },
  {
   "cell_type": "code",
   "execution_count": null,
   "metadata": {},
   "outputs": [],
   "source": [
    "print('boiling point of water in Kelvin:', fahr_to_kelvin(212.0))"
   ]
  },
  {
   "cell_type": "markdown",
   "metadata": {},
   "source": [
    "## The scope of a variable is the part of a program that can ‘see’ that variable.\n",
    "\n",
    "- There are only so many sensible names for variables.\n",
    "- People using functions shouldn’t have to worry about what variable names the author of the function used.\n",
    "- People writing functions shouldn’t have to worry about what variable names the function’s caller uses.\n",
    "- The part of a program in which a variable is visible is called its scope."
   ]
  },
  {
   "cell_type": "code",
   "execution_count": null,
   "metadata": {},
   "outputs": [],
   "source": [
    "pressure = 103.9\n",
    "\n",
    "def adjust(t):\n",
    "    temperature = t * 1.43 / pressure\n",
    "    return temperature\n"
   ]
  },
  {
   "cell_type": "markdown",
   "metadata": {},
   "source": [
    "- `pressure` is a *global variable*.\n",
    "   - Defined outside any particular function.\n",
    "   - Visible everywhere.\n",
    "- `t` and `temperature` are local variables in adjust.\n",
    "   - Defined in the function.\n",
    "   - Not visible in the main program.\n",
    "   - Remember: a function parameter is a variable that is automatically assigned a value when the function is called."
   ]
  },
  {
   "cell_type": "code",
   "execution_count": null,
   "metadata": {},
   "outputs": [],
   "source": [
    "print('adjusted:', adjust(0.9))\n",
    "print('temperature after call:', temperature)"
   ]
  },
  {
   "cell_type": "markdown",
   "metadata": {},
   "source": [
    "## Tasks"
   ]
  },
  {
   "cell_type": "markdown",
   "metadata": {},
   "source": [
    "<div class=\"alert alert-success\">\n",
    "<b>Task 5.1: Trace the values of all variables in this program as it is executed.\n",
    " </b>\n",
    "(Use <code>—</code> as the value of variables before and after they exist.)"
   ]
  },
  {
   "cell_type": "code",
   "execution_count": null,
   "metadata": {},
   "outputs": [],
   "source": [
    "limit = 100\n",
    "\n",
    "def clip(value):\n",
    "    return min(max(0.0, value), limit)\n",
    "\n",
    "value = -22.5\n",
    "print(clip(value))"
   ]
  },
  {
   "cell_type": "markdown",
   "metadata": {},
   "source": [
    "<details><summary {style='color:green;font-weight:bold'}> Click here to see solution to Task 5.1. </summary>\n",
    "    \n",
    "```python\n",
    "limit = 100\n",
    "# value = -\n",
    "\n",
    "def clip(value):\n",
    "    return min(max(0.0, value), limit)\n",
    "\n",
    "value = -22.5\n",
    "# value = -22.5\n",
    "print(clip(value))\n",
    "# value = -22.5\n",
    "```"
   ]
  },
  {
   "cell_type": "markdown",
   "metadata": {},
   "source": [
    "<div class=\"alert alert-success\">\n",
    "<b>Task 5.2: Modify your code from Task 2.2 so that the function <code>average()</code> returns the average of a list of numbers rather than printing it.</b>"
   ]
  },
  {
   "cell_type": "code",
   "execution_count": null,
   "metadata": {},
   "outputs": [],
   "source": [
    "def average(x):\n",
    "    '''Average of a list of numbers'''\n",
    "    print(sum(x) / len(x))\n",
    "    #FIXME"
   ]
  },
  {
   "cell_type": "code",
   "execution_count": null,
   "metadata": {},
   "outputs": [],
   "source": [
    "Titre_values = [22.2, 23.3, 22.3, 22.4, 22.4, 23.0, 22.0, 22.1, 21.9]"
   ]
  },
  {
   "cell_type": "code",
   "execution_count": null,
   "metadata": {},
   "outputs": [],
   "source": [
    "ave = average(Titre_values)\n",
    "print(ave)"
   ]
  },
  {
   "cell_type": "markdown",
   "metadata": {},
   "source": [
    "<details><summary {style='color:green;font-weight:bold'}> Click here to see solution to Task 5.2 </summary>\n",
    "    \n",
    "```python\n",
    "def average(x):\n",
    "    '''Average of a list of numbers'''\n",
    "    return sum(x) / len(x)\n",
    "```"
   ]
  },
  {
   "cell_type": "markdown",
   "metadata": {},
   "source": [
    "<div class=\"alert alert-success\">\n",
    "<b>Task 5.3: Now write a program that will not only calculate the average, but also the standard deviation of these values and return both values. </b>\n",
    "</div>\n",
    "\n",
    "Hint: Have a look at this [wikipedia article](https://en.wikipedia.org/wiki/Average) and remember to use the math module. \n",
    "\n",
    "You can also check your answer by running the following code:\n",
    "\n",
    "```python\n",
    "import numpy as np\n",
    "print(np.mean(Titre_values))\n",
    "print(np.std(Titre_values))\n",
    "```"
   ]
  },
  {
   "cell_type": "code",
   "execution_count": null,
   "metadata": {},
   "outputs": [],
   "source": [
    "def ave_std_dev(x):\n",
    "    #FIXME"
   ]
  },
  {
   "cell_type": "code",
   "execution_count": null,
   "metadata": {},
   "outputs": [],
   "source": [
    "ave, std_dev = ave_std_dev(Titre_values)\n",
    "print(ave)\n",
    "print(std_dev)"
   ]
  },
  {
   "cell_type": "markdown",
   "metadata": {},
   "source": [
    "##### Solution\n",
    "<details><summary {style='color:green;font-weight:bold'}> Click here to see solution to Task 5.3 </summary>\n",
    "    \n",
    "```python\n",
    "def ave_std_dev(x):\n",
    "    \"\"\"Average of a list of numbers\n",
    "    Parametres\n",
    "    -----------\n",
    "    x : 1-D array of floats or ints\n",
    "        List of values to be averaged\n",
    "    Returns\n",
    "    -------\n",
    "    avg : float\n",
    "        averge of the list\n",
    "    std : float\n",
    "        standard deviation of list\n",
    "    \"\"\"\n",
    "    \n",
    "    avg = (sum(x) / len(x))\n",
    "    x_minus_average_square = 0\n",
    "    for x_i in x:\n",
    "        x_minus_mean = x_i - avg\n",
    "        x_minus_average_square = x_minus_average_square + (x_minus_mean ** 2)\n",
    "    std_dev = math.sqrt(1 / (len(x)) * x_minus_average_square)\n",
    "    return avg, std_dev\n",
    "```\n"
   ]
  },
  {
   "cell_type": "markdown",
   "metadata": {},
   "source": [
    "<div class=\"alert alert-success\">\n",
    "<b>Task 5.4: Write a function (<code>split_name</code>) that splits someone's full name into a forename and surname and returns both of these separately.</b> Test it out of the list <code>full_names</code>\n"
   ]
  },
  {
   "cell_type": "code",
   "execution_count": null,
   "metadata": {},
   "outputs": [],
   "source": [
    "def split_name():\n",
    "    #FIXME"
   ]
  },
  {
   "cell_type": "code",
   "execution_count": null,
   "metadata": {},
   "outputs": [],
   "source": [
    "full_names = ['Harry Potter', 'Hermione Granger', 'Ronald Weasley']"
   ]
  },
  {
   "cell_type": "code",
   "execution_count": null,
   "metadata": {},
   "outputs": [],
   "source": [
    "for name in full_names:\n",
    "    forename, surname = split_name(name)\n",
    "    print(f'{surname.upper()} {forename}')"
   ]
  },
  {
   "cell_type": "markdown",
   "metadata": {},
   "source": [
    "<details><summary {style='color:green;font-weight:bold'}> Click here to see solution to Task 5.4 </summary>\n",
    "    \n",
    "```python\n",
    "def split_name(full_name):\n",
    "    '''Split a full name into forename and surname'''\n",
    "    idx = full_name.find(' ')\n",
    "    forename = full_name[:idx]\n",
    "    surname = full_name[idx+1:]\n",
    "    return forename, surname\n",
    "```    \n",
    "\n"
   ]
  },
  {
   "cell_type": "markdown",
   "metadata": {},
   "source": [
    "<div class=\"alert alert-success\">\n",
    "<b>Task 5.5: Write a program that passes a peptide sequence to a function called <code>peptide_mass</code> and return its molecular mass.</b>"
   ]
  },
  {
   "cell_type": "code",
   "execution_count": null,
   "metadata": {},
   "outputs": [],
   "source": [
    "masses = {\n",
    "    'A' : 71.03711,\n",
    "    'C' : 103.00919,\n",
    "    'D' : 115.02694,\n",
    "    'E' : 129.04259,\n",
    "    'F' : 147.06841,\n",
    "    'G' :  57.02146,\n",
    "    'H' : 137.05891,\n",
    "    'I' : 113.08406,\n",
    "    'K' : 128.09496,\n",
    "    'L' : 113.08406,\n",
    "    'M' : 131.04049,\n",
    "    'N' : 114.04293,\n",
    "    'P' :  97.05276,\n",
    "    'Q' : 128.05858,\n",
    "    'R' : 156.10111,\n",
    "    'S' :  87.03203,\n",
    "    'T' : 101.04768,\n",
    "    'V' :  99.06841,\n",
    "    'W' : 186.07931,\n",
    "    'Y' : 163.06333}"
   ]
  },
  {
   "cell_type": "code",
   "execution_count": null,
   "metadata": {},
   "outputs": [],
   "source": [
    "def peptide_mass(peptide):\n",
    "    #FIXME\n",
    "\n",
    "for peptide in ['CPHRALIAIT', 'NGQSVCGMSG', 'WPFYWRICNH', 'DLQVIDQMNW', 'CEWIMYVTDE']:\n",
    "    print(f'Mass of {peptide} is {peptide_mass(peptide):.5f} Daltons')"
   ]
  },
  {
   "cell_type": "markdown",
   "metadata": {},
   "source": [
    "<details><summary {style='color:green;font-weight:bold'}> Click here to see solution to Task 5.5 </summary>\n",
    "    \n",
    "```python\n",
    "def peptide_mass(peptide):\n",
    "    '''calculate the molecular mass of peptide'''\n",
    "    mass = 0\n",
    "\n",
    "    for aa in peptide:\n",
    "        mass += masses[aa]\n",
    "        \n",
    "    return mass\n",
    "```"
   ]
  }
 ],
 "metadata": {
  "anaconda-cloud": {},
  "kernelspec": {
   "display_name": "Python 3",
   "language": "python",
   "name": "python3"
  },
  "language_info": {
   "codemirror_mode": {
    "name": "ipython",
    "version": 3
   },
   "file_extension": ".py",
   "mimetype": "text/x-python",
   "name": "python",
   "nbconvert_exporter": "python",
   "pygments_lexer": "ipython3",
   "version": "3.8.10"
  },
  "toc": {
   "base_numbering": 1,
   "nav_menu": {},
   "number_sections": false,
   "sideBar": true,
   "skip_h1_title": false,
   "title_cell": "Table of Contents",
   "title_sidebar": "Contents",
   "toc_cell": false,
   "toc_position": {},
   "toc_section_display": true,
   "toc_window_display": true
  }
 },
 "nbformat": 4,
 "nbformat_minor": 4
}

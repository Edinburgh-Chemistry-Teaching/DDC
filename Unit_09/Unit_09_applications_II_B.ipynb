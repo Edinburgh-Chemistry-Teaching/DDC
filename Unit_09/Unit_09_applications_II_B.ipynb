{
 "cells": [
  {
   "cell_type": "markdown",
   "metadata": {},
   "source": [
    "## Session 9: Applications II B"
   ]
  },
  {
   "cell_type": "markdown",
   "metadata": {},
   "source": [
    "<a rel=\"license\" href=\"https://creativecommons.org/licenses/by/4.0/\"><img alt=\"Creative Commons Licence\" style=\"border-width:0\" src=\"https://licensebuttons.net/l/by/4.0/88x31.png\" title='This work is licensed under a Creative Commons Attribution 4.0 International License.' align=\"right\"/></a>\n",
    "\n",
    "Authors: \n",
    "- Dr Antonia Mey\n",
    "- J. Jasmin Güven   \n",
    "Email: antonia.mey@ed.ac.uk\n",
    "\n",
    "Thanks to: Dr Rafal Szabla\n",
    "\n",
    "### Learning objectives\n",
    "By the end of this unit, you should be able to\n",
    "* Read and manipulate'real' data files and troubleshoot them.\n",
    "* Understand hidden characters in files.\n",
    "* Estimate error bars and plot them from absorbance data.\n",
    "* Analyse UV-Vis data using Beer-Lambert's law.\n",
    "* Load protein trajectory data from a simulation.\n",
    "* Compute running averages over trajectories (dataseries)."
   ]
  },
  {
   "cell_type": "markdown",
   "metadata": {},
   "source": [
    "### Table of Contents\n",
    "\n",
    "### Application 2: Protein crystallography and simulations\n",
    "1. [Working with protein crystals and molecular simulations](#1-working-with-protein-crystals-and-molecular-simulations)   \n",
    "    1.1 [PDB files](#11-pdb-files)     \n",
    "    1.2 [Measuring properties from crystal structures](#12-measuring-properties-from-crystal-structures)     \n",
    "    1.3 [What are molecular dynamics simulation?](#13-what-are-molecular-dynamics-simulations)    \n",
    "2. [Excursion into thermodynamics or how to check the equilibration of a simulation](#2-excursion-into-thermodynamics-or-how-to-check-the-equilibration-of-a-simulation)    \n",
    "     2.1 [Tasks 4](#tasks-4)   \n",
    "3. [Assessing the stability of a protein in a simulation](#3-assessing-the-stability-of-a-protein-in-a-simulation)    \n",
    "     3.1 [Tasks 5](#tasks-5)    "
   ]
  },
  {
   "cell_type": "markdown",
   "metadata": {},
   "source": [
    "**<span style=\"color:black\">Jupyter Cheat Sheet</span>**\n",
    "- To run the currently highlighted cell and move focus to the next cell, hold <kbd>&#x21E7; Shift</kbd> and press <kbd>&#x23ce; Enter</kbd>;\n",
    "- To run the currently highlighted cell and keep focus in the same cell, hold <kbd>&#x21E7; Ctrl</kbd> and press <kbd>&#x23ce; Enter</kbd>;\n",
    "- To get help for a specific function, place the cursor within the function's brackets, hold <kbd>&#x21E7; Shift</kbd>, and press <kbd>&#x21E5; Tab</kbd>;"
   ]
  },
  {
   "cell_type": "markdown",
   "metadata": {},
   "source": [
    "# Import libraries"
   ]
  },
  {
   "cell_type": "code",
   "execution_count": 1,
   "metadata": {},
   "outputs": [],
   "source": [
    "import glob\n",
    "import numpy as np\n",
    "import pandas as pd\n",
    "import matplotlib.pyplot as plt"
   ]
  },
  {
   "cell_type": "markdown",
   "metadata": {},
   "source": [
    "# 1. Working with protein crystals and molecular simulations\n",
    "<a id=\"1-working-with-protein-crystals-and-molecular-simulations\"></a>\n",
    "\n",
    "Proteins are polymers that are made up of 20 different amino acids. It is possible to crystalise proteins and then use X-rays to probe their structure. \n",
    "\n",
    "All structural data of proteins are collected in the [protein data bank](https://www.rcsb.org) (PDB). With over 180000 protein structures available. 3D structure data is invaluable for applications in many different areas of chemistry, as proteins underpin most vital functions in living organisms as natural catalysts. \n",
    "\n",
    "## 1.1 PDB files <a id=\"11-pdb-files\"></a>\n",
    "\n",
    "To store information about proteins a fileformat called pdb was invented. It stores the names of the atoms in the protein, as well as the 3D coordinates that were determined from the crystal structure. Don't worry you will not need to interact much with these files. In Jupyter we can visualise protein structures from pdb files in different ways. In the following we will use `py3Dmol`.\n",
    "\n",
    "Run the code cell below to see the first 20 lines of a pdb file:"
   ]
  },
  {
   "cell_type": "code",
   "execution_count": null,
   "metadata": {},
   "outputs": [],
   "source": [
    "!head -n 20 data/Section4/1aki.pdb"
   ]
  },
  {
   "cell_type": "markdown",
   "metadata": {},
   "source": [
    "As part of her final year project Rachel has been looking at the **hen egg white lysozyme** protein. She has been investigating the structure of it and has also run simulations to look at its stability over time. But she needs some help with analysing the simulations and understanding the data. \n",
    "\n",
    "Let's start by visualising the protein in the notebook:"
   ]
  },
  {
   "cell_type": "code",
   "execution_count": null,
   "metadata": {},
   "outputs": [],
   "source": [
    "# Install py3Dmol\n",
    "!pip install py3Dmol"
   ]
  },
  {
   "cell_type": "code",
   "execution_count": null,
   "metadata": {},
   "outputs": [],
   "source": [
    "import py3Dmol\n",
    "# This line will grab the pdb file from the data bank\n",
    "view = py3Dmol.view(query=\"pdb:1aki\") \n",
    "view.setStyle({\"cartoon\":{\"color\":\"spectrum\"}})\n",
    "view.show()"
   ]
  },
  {
   "cell_type": "markdown",
   "metadata": {},
   "source": [
    "## 1.2 Measuring properties from crystal structures <a id=\"12-measuring-properties-from-crystal-structures\"></a>\n",
    "\n",
    "It is possible to measure different properties from the X-ray structure data, such as `bond lengths`, `angles`, etc. You will try some of this as part of the assessment."
   ]
  },
  {
   "cell_type": "markdown",
   "metadata": {},
   "source": [
    "## 1.3 What are molecular dynamics simulations? <a id=\"13-what-are-molecular-dynamics-simulations\"></a>\n",
    "Molecular dynamics (MD) simulations are a way to understand how proteins behave inside cells, by using a computer to model this behaviour. Cells are crowded environments full of proteins and water. \n",
    "\n",
    "Take a look at this movie of a simulation of a bacterial cell. "
   ]
  },
  {
   "cell_type": "code",
   "execution_count": null,
   "metadata": {},
   "outputs": [],
   "source": [
    "from IPython import display\n",
    "display.HTML(\"<img src='data/Section4/crowded_cell.mp4'></img>\")"
   ]
  },
  {
   "cell_type": "markdown",
   "metadata": {},
   "source": [
    "In a molecular dynamics (MD) simulation we model atoms and bonds like balls and springs and generate so called trajectories over time using Newton's Laws of motion. \n",
    "\n",
    "Newton's second law is given by:\n",
    "$$\\mathbf{F} = \\frac{d^2\\mathbf{r}_i}{dt^2}$$\n",
    "\n",
    "where $\\mathbf{F}$ is the force on each atom $i$ and $\\mathbf{r}_i$ is the position of atom $i$. The above equation is solved at every time step over a number of time steps, to calculate the position and velocity of each atom. \n",
    "\n",
    "To get started with an MD simulation you need some initial coordinates for a protein. These are often taken from the protein data bank. \n",
    "\n",
    "Here you see an example of a short trajectory of a single protein: lysozyme.\n"
   ]
  },
  {
   "cell_type": "code",
   "execution_count": null,
   "metadata": {},
   "outputs": [],
   "source": [
    "from IPython import display\n",
    "display.HTML(\"<img src='data/Section4/lys.gif' width='400'></img>\")"
   ]
  },
  {
   "cell_type": "markdown",
   "metadata": {},
   "source": [
    "# 2. Excursion into thermodynamics or how to check the equilibration of a simulation\n",
    "<a id=\"2-excursion-into-thermodynamics-or-how-to-check-the-equilibration-of-a-simulation\"></a>\n",
    "\n",
    "Molecular simulations are often run in similar conditions that mimic a lab environment, namely at **constant temperature**, **constant pressure**, and **constant number of particles** (NPT). To achieve this, the simulation needs to get a chance to equilibrate and some clever algorithmic tricks need to be done to achieve $N$ i.e. number of particles, $T$ temperature, and $p$ pressure to be constant. \n",
    "\n",
    "This can be done with pressure and temperature equilibrations. If you want to know more about the algorithms used in these equilibrations, see https://ftp.gromacs.org/pub/manual/manual-5.0.4.pdf.\n",
    "\n",
    "The temperature equilibration step is called NVT, because the number of atoms $N$, volume $V$ and temperature $T$ are kept constant. Similarly, the pressure equilibration step is called NPT.\n",
    "\n",
    "We will also plot the **running average** to see the equilibration better. The running average, denoted SMA for Simple Moving Average, is defined as \n",
    "\n",
    "$$ \\mathrm{SMA} = \\frac{1}{k} \\sum_{i = n-k+1}^{n} p_i$$\n",
    "\n",
    "where $p$ is a data point, $k$ is the window and $n$ is the total number of data points. "
   ]
  },
  {
   "cell_type": "markdown",
   "metadata": {},
   "source": [
    "# Tasks 4 <a id=\"tasks-4\"></a>"
   ]
  },
  {
   "cell_type": "markdown",
   "metadata": {},
   "source": [
    "<div class=\"alert alert-success\">\n",
    "    <b>Task 4.1 </b>: Plotting temperature over time from the MD simulation.\n",
    "</div>\n",
    "\n",
    "The time is in picoseconds (ps) and the data is collected for 100 ps. The temperature is in Kelvin. \n",
    "\n",
    "* Load in a file called `temperature.txt` from the folder `data/Section5`. You can take a look at the file in the folder to see what character is used as the separator. \n",
    "* Plot the temperature against time. \n",
    "* Add axis correct axis labels."
   ]
  },
  {
   "cell_type": "code",
   "execution_count": null,
   "metadata": {},
   "outputs": [],
   "source": [
    "# FIXME"
   ]
  },
  {
   "cell_type": "markdown",
   "metadata": {},
   "source": [
    "<details>\n",
    "<summary {style=\"color:green; font-weight:bold\"}> Click here to see the solution to Task 4.1</summary>\n",
    "    \n",
    "```python\n",
    "\n",
    "# Load data in\n",
    "NVT = pd.read_csv(\"data/Section5/temperature.txt\", sep = \"\\t\")\n",
    "\n",
    "# Get time and temperature in lists\n",
    "time = NVT[\"t\"].tolist()\n",
    "temperature = NVT[\"T\"].tolist()\n",
    "\n",
    "\n",
    "# Plot\n",
    "fig, ax = plt.subplots()\n",
    "ax.plot(time,temperature, color = \"black\")\n",
    "ax.set_xlabel(\"Time (ps)\")\n",
    "ax.set_ylabel(\"Temperature (K)\")\n",
    "plt.show()\n",
    "```\n",
    "\n",
    "</details>"
   ]
  },
  {
   "cell_type": "markdown",
   "metadata": {},
   "source": [
    "<div class=\"alert alert-success\">\n",
    "    <b>Task 4.2</b>: Write a function that will compute the running average of an observable, e.g. temperature. \n",
    "</div>\n",
    "\n",
    "Define a function `SMA()` that takes in a list of data, total number of data points and the size of the window. Calculate the cumulative sum and from this calculate the running average, and return it.\n",
    "\n",
    "Take a look at the draft Rachel has made, can you fix the function so that it will work? It is easiest to debug problems with the function if you try and plot the output with the data you are trying to compute the running average for.\n",
    "\n",
    "You could also check visually if this is similar to the running average function you can find in `pandas`.\n"
   ]
  },
  {
   "cell_type": "code",
   "execution_count": null,
   "metadata": {},
   "outputs": [],
   "source": [
    "# FIXME\n",
    "def SMA(data, n, window):\n",
    "    '''\n",
    "    Function to calculate the simple moving average. \n",
    "    \n",
    "    Parameters\n",
    "    ----------\n",
    "    data: list\n",
    "        list of data \n",
    "    n: int\n",
    "        total number of data points\n",
    "    \n",
    "    window: int\n",
    "        size of the running average window\n",
    "    '''\n",
    "\n",
    "    S_i = 0\n",
    "    cumulative_sum = []\n",
    "    for i in range(n):\n",
    "        cumulative_sum.append(S_i)\n",
    "        S_i = S_i + data[i]\n",
    "    cumulative_sum = np.array(cumulative_sum)    \n",
    "    running_avg = cumulative_sum / float(window)\n",
    "    return running_avge"
   ]
  },
  {
   "cell_type": "markdown",
   "metadata": {},
   "source": [
    "<details>\n",
    "<summary {style=\"color:green; font-weight:bold\"}> Click here to see the solution to Task 4.2 </summary>\n",
    "    \n",
    "```python\n",
    "# Example solution\n",
    "\n",
    "def SMA(data, n, window):\n",
    "    \"\"\"\n",
    "    Function to calculate the simple moving average. \n",
    "    \n",
    "    Parameters\n",
    "    ----------\n",
    "    data: list\n",
    "        list of data \n",
    "    n: int\n",
    "        total number of data points\n",
    "    \n",
    "    window: int\n",
    "        size of the running average window\n",
    "    \"\"\"\n",
    "\n",
    "    S_i = 0\n",
    "    cumulative_sum = []\n",
    "    for i in range(n):\n",
    "        S_i = S_i + data[i]\n",
    "        cumulative_sum.append(S_i)\n",
    "    cumulative_sum = np.array(cumulative_sum)    \n",
    "    running_avg = (cumulative_sum[window:] - cumulative_sum[:-window]) / float(window)\n",
    "    return running_avg\n",
    "\n",
    "```\n",
    "\n",
    "</details>"
   ]
  },
  {
   "cell_type": "markdown",
   "metadata": {},
   "source": [
    "<div class=\"alert alert-success\"><b>Task 4.3</b> Use the above function and plot the running average together with the original data.  </div> \n",
    "\n",
    "**10-ps average for NVT**\n",
    "\n",
    "1. Plot the temperature data in black, with label `\"Data\"`\n",
    "2. Plot the 10-ps running average for temperature in red, with label `\"10-ps average\"`\n",
    "3. Define axis labels and add a legend.\n",
    "\n",
    "Do you think the simulation has equilibrated?"
   ]
  },
  {
   "cell_type": "code",
   "execution_count": null,
   "metadata": {},
   "outputs": [],
   "source": [
    "# FIXME\n",
    "\n",
    "ax.plot(time,temperature, color = \"black\")\n"
   ]
  },
  {
   "cell_type": "markdown",
   "metadata": {},
   "source": [
    "<details>\n",
    "<summary {style=\"color:green; font-weight:bold\"}> Click here to see the solution to Task 4.3</summary>\n",
    "    \n",
    "```python\n",
    "fig, ax = plt.subplots()\n",
    "ax.plot(time, temperature, color = \"black\")\n",
    "ax.set_xlabel(\"Time (ps)\")\n",
    "ax.set_ylabel(\"Temperature (K)\")\n",
    "n_T = len(temperature)\n",
    "T_SMA = SMA(temperature, n_T, 10)\n",
    "ax.plot(time[10:],T_SMA, color = \"red\", label = \"10-ps running avg.\")\n",
    "ax.plot(time,temperature, color = \"black\", label = \"Data\")\n",
    "\n",
    "ax.legend(loc=\"upper right\")\n",
    "plt.show()\n",
    "```\n",
    "\n",
    "</details>"
   ]
  },
  {
   "cell_type": "markdown",
   "metadata": {},
   "source": [
    "<div class=\"alert alert-warning\">\n",
    "    <b>Advanced Task 4.4</b>: NPT equilibration with density \n",
    "</div>\n",
    "\n",
    "The time is in picoseconds (ps) and the data is collected for 100 ps. The density is in kg m$^{-3}$. \n",
    "\n",
    "1. Load in a file called `density.txt` from the folder `data`. You can take a look at the file in the folder to see what character is used as the separator. \n",
    "2. Plot the density against time. \n",
    "3. Plot the SMA of density in red.\n",
    "4. Add correct axis labels and a legend.\n"
   ]
  },
  {
   "cell_type": "code",
   "execution_count": null,
   "metadata": {},
   "outputs": [],
   "source": [
    "# FIXME\n"
   ]
  },
  {
   "cell_type": "markdown",
   "metadata": {},
   "source": [
    "<details>\n",
    "<summary> Click here to see the solution to Task 4.4 (advanced) </summary>\n",
    "    \n",
    "```python\n",
    "# Load data in\n",
    "density_data = pd.read_csv(\"data/Section5/density.txt\", sep = \"\\t\")\n",
    "\n",
    "time = density_data[\"t\"].tolist()\n",
    "density = density_data[\"rho\"].tolist()\n",
    "\n",
    "n_rho = len(density)\n",
    "\n",
    "\n",
    "fig = plt.figure()\n",
    "ax = fig.add_subplot()\n",
    "ax.plot(time,density, color = \"black\")\n",
    "ax.set_xlabel(\"Time (ps)\")\n",
    "ax.set_ylabel(\"Density (kg m$^{-3}$)\")\n",
    "rho_SMA = SMA(density,n_rho,10)\n",
    "ax.plot(time[10:],rho_SMA, color = \"red\", label = \"10 ps running avg.\")\n",
    "ax.plot(time,density, color = \"black\", label = \"Data\")\n",
    "ax.legend(loc = \"lower right\")\n",
    "plt.show()\n",
    "```\n",
    "\n",
    "</details>"
   ]
  },
  {
   "cell_type": "markdown",
   "metadata": {},
   "source": [
    "# 3. Assessing the stability of a protein in a simulation <a id=\"3-assessing-the-stability-of-a-protein-in-a-simulation\"></a>\n",
    "\n",
    "In this part we will consider the root-mean-square deviation (RMSD) and the radius of gyration of the protein during the simulation. These two quantities are useful to judge if the protein maintains it shape, i.e. if the simulation is stable or the protein breaks apart. \n",
    "\n",
    "The root-mean square deviation is given by\n",
    "$$\\mathrm{RMSD} = \\sqrt{\\frac{1}{N} \\sum_{i=0}^{N} (v_i - w_i )^2}$$\n",
    "\n",
    "where $v_i$ is the position of a reference structure and $w_i$ is the structure we're interested in.\n",
    "\n",
    "The radius of gyration is a *measure of the compactness* of a protein, and is given by\n",
    "\n",
    "$$R_\\mathrm{g}(x) = \\sqrt{\\frac{\\sum_i m_i r_i(y)^2 + m_ir_i(z)^2}{\\sum_i m_i}}$$\n",
    "\n",
    "\n"
   ]
  },
  {
   "cell_type": "markdown",
   "metadata": {},
   "source": [
    "# Tasks 5 <a id=\"tasks-5\"></a>"
   ]
  },
  {
   "cell_type": "markdown",
   "metadata": {},
   "source": [
    "<div class=\"alert alert-success\">\n",
    "    <b>Task 5.1 </b>: Radius of gyration plot\n",
    "</div>\n",
    "\n",
    "The radius of gyration data is given in the file `data/Section6/gyrate.txt`. The time is in picoseconds (ps) and the radius of gyration values are given in nanometers (nm). \n",
    "\n",
    "1. Load the file gyrate.txt in.\n",
    "2. Plot the radius of gyration. \n",
    "3. Add axis labels.\n"
   ]
  },
  {
   "cell_type": "code",
   "execution_count": null,
   "metadata": {},
   "outputs": [],
   "source": [
    "# FIXME\n",
    "\n"
   ]
  },
  {
   "cell_type": "markdown",
   "metadata": {},
   "source": [
    "<details>\n",
    "<summary {style=\"color:green; font-weight:bold\"}> Click here to see the solution to Task 5.1 </summary>\n",
    "    \n",
    "```python\n",
    "\n",
    "Rg_data = pd.read_csv(\"data/Section6/gyrate.txt\", sep = \"\\t\")\n",
    "\n",
    "time = Rg_data[\"t\"].tolist()\n",
    "Rg = Rg_data[\"Rg\"].tolist()\n",
    "\n",
    "fig = plt.figure()\n",
    "ax = fig.add_subplot()\n",
    "ax.plot(time, Rg, color = \"k\")\n",
    "ax.set_xlabel(\"Time (ps)\")\n",
    "ax.set_ylabel(\"R$_\\mathrm{g}$ (nm)\")\n",
    "\n",
    "```\n",
    "\n",
    "</details>"
   ]
  },
  {
   "cell_type": "markdown",
   "metadata": {},
   "source": [
    "<div class=\"alert alert-success\">\n",
    "    <b>Task 5.2 </b>: Average radius of gyration\n",
    "</div>\n",
    "\n",
    "We can calculate the average from the $R_\\mathrm{g}$ data and use the standard deviation as an estimate of the error on the mean value. \n",
    "\n",
    "Code this in the cell below and output the values nicely.\n"
   ]
  },
  {
   "cell_type": "code",
   "execution_count": null,
   "metadata": {},
   "outputs": [],
   "source": [
    "# FIXME"
   ]
  },
  {
   "cell_type": "markdown",
   "metadata": {},
   "source": [
    "<details>\n",
    "<summary {style=\"color:green; font-weight:bold\"}> Click here to see the solution to Task 5.2</summary>\n",
    "    \n",
    "```python\n",
    "\n",
    "mean_Rg = np.mean(Rg)\n",
    "std_Rg = np.std(Rg)\n",
    "\n",
    "print(f\"Radius of gyration: ({mean_Rg:.2f} +/- {std_Rg:.2f}) nm\")\n",
    "\n",
    "```\n",
    "\n",
    "</details>"
   ]
  },
  {
   "cell_type": "markdown",
   "metadata": {},
   "source": [
    "<div class=\"alert alert-warning\">\n",
    "    <b>Advanced Task 5.3 </b>: RMSD plots\n",
    "</div>\n",
    "\n",
    "As with the above equilibration plots, we want to see if the RMSD plot levels off. \n",
    "\n",
    "To plot the RMSD plots, we have to load in two files: RMSD.txt and RMSD-xtal.txt (both are found in `data/Section6`), where the former is the simulated structure and the latter is the crystal structure. \n",
    "\n",
    "The RMSD is measured in nanometers (nm) and time is now in nanoseconds (ns).\n",
    "\n",
    "1. Load the files in.\n",
    "2. Plot both RMSD and RMSD_xtal in the same plot. \n",
    "3. Add axis labels and a legend.\n"
   ]
  },
  {
   "cell_type": "code",
   "execution_count": null,
   "metadata": {},
   "outputs": [],
   "source": [
    "# FIXME"
   ]
  },
  {
   "cell_type": "markdown",
   "metadata": {},
   "source": [
    "<details>\n",
    "<summary {style=\"color:green; font-weight:bold\"}> Click here to see the solution to Task 5.3 </summary>\n",
    "    \n",
    "```python\n",
    "\n",
    "RMSD_data = pd.read_csv('data/Section6/rmsd.txt', sep = '\\t')\n",
    "RMSD_xtal_data = pd.read_csv('data/Section6/rmsd-xtal.txt', sep = '\\t')\n",
    "\n",
    "RMSD_t = RMSD_data['t'].tolist()\n",
    "RMSD = RMSD_data['RMSD'].tolist()\n",
    "RMSD_xtal_t = RMSD_xtal_data['t'].tolist()\n",
    "RMSD_xtal = RMSD_xtal_data['RMSD'].tolist()\n",
    "\n",
    "fig = plt.figure()\n",
    "ax = fig.add_subplot()\n",
    "ax.plot(RMSD_t, RMSD, color = 'black', label = 'MD structure')\n",
    "ax.plot(RMSD_xtal_t, RMSD_xtal, color = 'red', label = 'Crystal structure')\n",
    "ax.set_xlabel('Time / ns')\n",
    "ax.set_ylabel('RMSD / nm')\n",
    "ax.legend()\n",
    "\n",
    "```\n",
    "\n",
    "</details>"
   ]
  },
  {
   "cell_type": "markdown",
   "metadata": {},
   "source": [
    "<div class=\"alert alert-warning\"><b> Questions for discussion</b> </div>\n",
    "\n",
    "1. Has the protein stabilised in the MD simulation?\n",
    "2. Why aren't the MD structure and the crystal structure always perfectly overlapping?"
   ]
  },
  {
   "cell_type": "markdown",
   "metadata": {},
   "source": [
    "<details><summary {style=\"color:green; font-weight:bold\"}> Click here to see the answers</summary>\n",
    "\n",
    "1. Yes, you can see it levels off to roughly 0.1 nm.\n",
    "2. This is because the MD structure has been energy-minimised and because the position restraints are not 100% accurate. "
   ]
  },
  {
   "cell_type": "markdown",
   "metadata": {},
   "source": [
    "## Feedback"
   ]
  }
 ],
 "metadata": {
  "kernelspec": {
   "display_name": "Python 3 (ipykernel)",
   "language": "python",
   "name": "python3"
  },
  "language_info": {
   "codemirror_mode": {
    "name": "ipython",
    "version": 3
   },
   "file_extension": ".py",
   "mimetype": "text/x-python",
   "name": "python",
   "nbconvert_exporter": "python",
   "pygments_lexer": "ipython3",
   "version": "3.8.13"
  },
  "vscode": {
   "interpreter": {
    "hash": "cf51243a6e93b78f1f5c5d179cd4f66e9bfd7b6269bebfcfdbed7f35483e292c"
   }
  }
 },
 "nbformat": 4,
 "nbformat_minor": 4
}

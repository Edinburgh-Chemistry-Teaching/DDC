{
 "cells": [
  {
   "cell_type": "markdown",
   "metadata": {},
   "source": [
    "## Session 9: Applications II"
   ]
  },
  {
   "cell_type": "markdown",
   "metadata": {},
   "source": [
    "<a rel=\"license\" href=\"https://creativecommons.org/licenses/by-sa/4.0/\"><img alt=\"Creative Commons Licence\" style=\"border-width:0\" src=\"https://licensebuttons.net/l/by-sa/4.0/88x31.png\" title='This work is licensed under a Creative Commons Attribution 4.0 International License.' align=\"right\"/></a>\n",
    "\n",
    "Authors: Dr Antonia Mey, J. Jasmin Güven   \n",
    "Email: antonia.mey@ed.ac.uk\n",
    "\n",
    "Thanks to: Dr Rafal Szabla\n",
    "\n",
    "### Learning objectives\n",
    "By the end of this unit, you should be able to\n",
    "* Read and manipulate'real' data files and troubleshoot them.\n",
    "* Understand hidden characters in files.\n",
    "* Estimate error bars and plot them from absorbance data.\n",
    "* Analyse UV-Vis data using Beer-Lambert's law.\n",
    "* Load protein trajectory data from a simulation.\n",
    "* Compute running averages over trajectories (dataseries)."
   ]
  },
  {
   "cell_type": "markdown",
   "metadata": {},
   "source": [
    "### Table of Contents\n",
    "\n",
    "### Application 1: UV-vis spectroscopy\n",
    "* [1. Recap of ultraviolet visible spectroscopy](#1-recap-of-ultraviolet-visible-spectroscopy)  \n",
    "    * [1.1. Principles of colorimetry](#11-principles-of-colorimetry)    \n",
    "    * [1.2. Meet Rachel](#12-meet-rachel)\n",
    "* [Tasks 1](#tasks-1)\n",
    "* [2. Estimating and plotting the error on an absorption spectrum](#2-estimating-and-plotting-the-error-on-an-absorption-spectrum)     \n",
    "* [Tasks 2](#tasks-2)\n",
    "* [3. Find the unknown concentration of the compound based on Beer Lambert's Law](#3-find-the-unknown-concentration-of-the-compound-based-on-beer-lamberts-law)\n",
    "* [Tasks 3](#tasks-3)\n",
    "\n",
    "### Application 2: Protein crystallography and simulations\n",
    "4. [What is a protein crystal?](#proteins)  \n",
    "5. [Finding running averages in timeseries data](#running_average)\n",
    "6. [Assessing the stability of a protein in a simulation](#stability)"
   ]
  },
  {
   "cell_type": "markdown",
   "metadata": {},
   "source": [
    "**Jupyter cheat sheet**:\n",
    "- to run the currently highlighted cell, hold <kbd>&#x21E7; Shift</kbd> and press <kbd>&#x23ce; Enter</kbd>;\n",
    "- to get help for a specific function, place the cursor within the function's brackets, hold <kbd>&#x21E7; Shift</kbd>, and press <kbd>&#x21E5; Tab</kbd>;"
   ]
  },
  {
   "cell_type": "markdown",
   "metadata": {},
   "source": [
    "# Import libraries"
   ]
  },
  {
   "cell_type": "code",
   "execution_count": null,
   "metadata": {},
   "outputs": [],
   "source": [
    "import glob\n",
    "import numpy as np\n",
    "import pandas as pd\n",
    "import matplotlib.pyplot as plt\n",
    "import sys\n",
    "import os.path\n",
    "sys.path.append(os.path.abspath('../'))\n",
    "# from helper_modules.mentimeter import Mentimeter"
   ]
  },
  {
   "cell_type": "markdown",
   "metadata": {},
   "source": [
    "# 1. Recap of ultraviolet visible spectroscopy\n",
    "<a id='1-recap-of-ultraviolet-visible-spectroscopy'></a>\n",
    "In this section you will learn how to analyse data you have collected with a UV-vis spectrometer such as [this one](https://www.agilent.com/en/product/molecular-spectroscopy/uv-vis-uv-vis-nir-spectroscopy/uv-vis-uv-vis-nir-systems/cary-60-uv-vis-spectrophotometer). UV-vis spectroscopy is very useful in determining the concentration of UV active compounds. \n",
    "Both transition metals and organic compounds with conjugated $\\pi$ systems will often be active in the UV-visible region of light. \n",
    "\n",
    "\n",
    "<img src=\"images/light.jpg\" alt=\"light\" width=\"400\"/>"
   ]
  },
  {
   "cell_type": "markdown",
   "metadata": {},
   "source": [
    "## 1.1 Principles of Colorimetry <a id=\"11-principles-of-colorimetry\"></a>\n",
    "For example, The color of Allura Red solution is... red! Generally, the observed color is complementary to the color of light absorbed. In Figure 2, red is complementary to green. Thus, Allura Red absorbs primarily wavelengths in the 480-560 nm range. Wavelengths of 640-700 nm are not absorbed but transmitted, thus resulting in our perception of a red solution. \n",
    "\n",
    "<img src=\"images/light2.png\" alt=\"light\" width=\"300\"/>\n",
    "\n",
    "Take a look at the colour wheel of wavelengths of light corresponding to each color for transmission and absorbance. \n",
    "In general the higher the concentration of the compound that is absorbing light, the greater the absoprtion at that frequency. We will be looking at peaks of absorptions measured in the lab for this session. "
   ]
  },
  {
   "cell_type": "markdown",
   "metadata": {},
   "source": [
    "## 1.2. Meet Rachel <a id=\"12-meet-rachel\"></a>\n",
    "\n",
    "Rachel is a final year student and as part of her final year project she needs to estimate the unknown concentration of the dye Rhodamine 6G in methanol, because she forgot to label one of her samples. Luckily she can use UV-Vis spectroscopy of Rhodamine in methanol and use Beer Lambert's law to estimate the concentration of the unlabelled sample. Her data can be found in the folder `data/Section4`. She has never tried this analysis in Python before, so rather than working straight on the actual dataset she wanted to try some parts of her analysis on different sets of data first. \n",
    "\n",
    "Can you help her fix her code and find the concentration of her unlabelled sample? \n",
    "\n",
    "<img src=\"images/Rachel.png\" alt=\"Rachel\" width=\"200\"/>"
   ]
  },
  {
   "cell_type": "markdown",
   "metadata": {},
   "source": [
    "# Tasks 1 <a id=\"tasks-1\"></a>"
   ]
  },
  {
   "cell_type": "markdown",
   "metadata": {},
   "source": [
    "In the directory `data/Section1` you find a file called `Rhodamine 6G in methanol .csv` Rachel collected in the lab to measure the absorbance of the dye Rhodamine 6G with respect to wavelength. \n",
    "\n",
    "This is what Rhodamine 6G looks like:\n",
    "<img src=\"images/Rhodamine_6G.png\" alt=\"drawing\" width=\"200\"/>\n",
    "\n",
    "<div class=\"alert alert-success\">\n",
    "    <b>Tas; 1.1 </b>: Read the data and plot it in a sensible way. (Try different ways, pandas, numpy, or even a completely different way). \n",
    "</div>"
   ]
  },
  {
   "cell_type": "code",
   "execution_count": null,
   "metadata": {},
   "outputs": [],
   "source": [
    "# FIXME\n"
   ]
  },
  {
   "cell_type": "markdown",
   "metadata": {},
   "source": [
    "<details>\n",
    "<summary {style=\"color:green; font-weight:bold\"}> Click here to see the solution to Task 1.1</summary>\n",
    "    \n",
    "```python\n",
    "# pandas way\n",
    "data = pd.read_csv(\"data/Section1/Rhodamine 6G in methanol .csv\", names=[\"lam\",\"absorb\", \"not_needed\"], skiprows=2)\n",
    "fig, ax = plt.subplots(1,1)\n",
    "ax.plot(data[\"lam\"], data[\"absorb\"], marker =\"o\", ms=2, alpha=0.7, color=\"darkblue\")\n",
    "ax.set_xlabel(\"wavelength $\\lambda$ (nm)\", fontsize=15)\n",
    "ax.set_ylabel(\"Absorbance (arb. units)\", fontsize=15)\n",
    "plt.show()\n",
    "    \n",
    "# numpy way\n",
    "data = np.loadtxt(\"data/Section1/Rhodamine 6G in methanol .csv\",skiprows=2, usecols=[0,1], delimiter=\",\")\n",
    "fig, ax = plt.subplots(1, 1)\n",
    "ax.plot(data[:,0], data[:,1], marker =\"o\", ms=2, alpha=0.7, color=\"darklue\")\n",
    "ax.xlabel(\"wavelength $\\lambda$ (nm)\", fontsize=15)\n",
    "ax.ylabel(\"Absorbance (arb. units)\", fontsize=15)\n",
    "plt.show()\n",
    "```\n",
    "\n",
    "</details>"
   ]
  },
  {
   "cell_type": "markdown",
   "metadata": {},
   "source": [
    "Please give us some idea of errors you encounter with this task in the mentimeter wordcloud. "
   ]
  },
  {
   "cell_type": "markdown",
   "metadata": {},
   "source": [
    "<div class=\"alert alert-success\">\n",
    "    <b>Task 1.2</b> : Find the highest absorbance peak in the data file:  \"data/Section1/Rhodamine 6G in methanol .csv\".\n",
    "</div>"
   ]
  },
  {
   "cell_type": "code",
   "execution_count": null,
   "metadata": {},
   "outputs": [],
   "source": [
    "# FIXME"
   ]
  },
  {
   "cell_type": "markdown",
   "metadata": {},
   "source": []
  },
  {
   "cell_type": "markdown",
   "metadata": {},
   "source": [
    "<details><summary {style=\"color:green; font-weight:bold\"}> Click here to see the solution to Task 1.2 </summary>\n",
    "    \n",
    "```python\n",
    "# SOLUTION\n",
    "import scipy.signal\n",
    "# with pandas\n",
    "idxs, heights = scipy.signal.find_peaks(data[\"absorb\"], height = 0.03)\n",
    "# with numpy\n",
    "idxs, heights = scipy.signal.find_peaks(data[:,1], height = 0.03)\n",
    "\n",
    "```\n",
    "\n",
    "</details>"
   ]
  },
  {
   "cell_type": "markdown",
   "metadata": {},
   "source": [
    "# 2. Estimating and plotting the error on an absorption spectrum <a id=\"2-estimating-and-plotting-the-error-on-an-absorption-spectrum\"></a>"
   ]
  },
  {
   "cell_type": "markdown",
   "metadata": {},
   "source": [
    "Rachel has taken 5 repeat measurements of PAO in ethanol at a given concentration, another UV-vis active molecule. She wants to know what the error on the absorbance is for this measurement. Rather than plotting the 5 repeats in one plot, she wants a plot of the mean absorbance and the standard deviation of the absorbance as error bars. \n",
    "\n",
    "Can you help her with this? \n",
    "\n",
    "The data can be found in `data/Section2`. \n",
    "\n",
    "Here is an example of all the data in one plot:"
   ]
  },
  {
   "cell_type": "code",
   "execution_count": null,
   "metadata": {},
   "outputs": [],
   "source": [
    "pao_data_files = glob.glob(\"data/Section2/*.csv\")\n",
    "fig, ax = plt.subplots()\n",
    "for d_file in pao_data_files:\n",
    "    data = pd.read_csv(d_file, names=[\"lam\",\"absorb\", \"not_needed\"], skiprows=2)\n",
    "    ax.plot(data[\"lam\"], data[\"absorb\"], label=d_file)\n",
    "    ax.legend()\n",
    "ax.set_xlabel(\"wavelength (nm)\", fontsize=15)\n",
    "ax.set_ylabel(\"absorbance (arb. units)\", fontsize=15)\n",
    "plt.show()"
   ]
  },
  {
   "cell_type": "markdown",
   "metadata": {},
   "source": [
    "# Tasks 2 <a id=\"tasks-2\"></a>"
   ]
  },
  {
   "cell_type": "markdown",
   "metadata": {},
   "source": [
    "<div class=\"alert alert-success\">\n",
    "    <b>Task 2.1</b>: Rachel has started writing code that will help her find the mean of each 5 measures of absorbance at each wavelength, as well as the standard deviation, can you help her fix her code in the cells below? You don't have to use the same way she started to solve the problem if you prefer a different and maybe easier route!\n",
    "</div>"
   ]
  },
  {
   "cell_type": "markdown",
   "metadata": {},
   "source": [
    "<div class=\"alert alert-info\">\n",
    "    <b>Hint</b>: Use the print function to help you debug some of her code! Try out the bits that fail. Google errors you get!\n",
    "</div>"
   ]
  },
  {
   "cell_type": "code",
   "execution_count": null,
   "metadata": {},
   "outputs": [],
   "source": [
    "# Rachel's attempt\n",
    "\n",
    "wavelengths_array = []\n",
    "absorbance_array = []\n",
    "\n",
    "# Let's first read the data into an numpy array\n",
    "for d_file in pao_data_files:\n",
    "    data = pd.read_csv(d_file, names=[\"lam\",\"absorb\", \"not_needed\"], skiprows=2)\n",
    "    if wavelengths_array is None:\n",
    "        wavelengths_array = data[\"lam\"].tolist()\n",
    "    else:\n",
    "        assert(data[\"lam\"] == wavelengths_array)\n",
    "        print(\"we already have wavelengths and they match\")\n",
    "    absorbance_array.append(data[\"absorb\"].tolist())\n",
    "    \n",
    "# Convert the two lists to numpy arrays\n",
    "wave_lengths = np.array(wavelengths_array)\n",
    "absorbance = np.array(absorbance_array)\n",
    "\n",
    "# Work out the mean and standar deviation of the absorbance array\n",
    "print(\"Do I need another loop here or can I work out the mean and error differently?\")\n",
    "mean_absorbance = None\n",
    "std_absorbance = None"
   ]
  },
  {
   "cell_type": "markdown",
   "metadata": {},
   "source": [
    "<details>\n",
    "<summary {style=\"color:green; font-weight:bold\"}> Click here to see the solution to Task 2.1</summary>\n",
    "    \n",
    "```python\n",
    "wavelengths_array = []\n",
    "absorbance_array = []\n",
    "for d_file in pao_data_files:\n",
    "    data = pd.read_csv(d_file, names=['lam','absorb', 'not_needed'], skiprows=2)\n",
    "    if len(wavelengths_array) < len(data['lam']):\n",
    "        wavelengths_array = data['lam'].tolist()\n",
    "    else:\n",
    "        if ((data['lam'] == wavelengths_array).all()):\n",
    "            print('we already have wavelengths and they match!')\n",
    "    absorbance_array.append(data['absorb'].tolist())\n",
    "\n",
    "# Convert the two lists to numpy arrays\n",
    "wave_lengths = np.array(wavelengths_array)\n",
    "absorbance = np.array(absorbance_array)\n",
    "\n",
    "# Mean and std of absorbance using axes in numpy\n",
    "mean_absorbance = np.mean(absorbance, axis=0)\n",
    "std_absorbance = np.std(absorbance, axis=0)\n",
    "\n",
    "```\n",
    "\n",
    "</details>"
   ]
  },
  {
   "cell_type": "markdown",
   "metadata": {},
   "source": [
    "<div class=\"alert alert-success\">\n",
    "    <b>Task 2.2</b>: Can you show Rachel how to plot the mean and the standard deviation as an errorbar plot? Only plot the region of wavelengths between 200 nm and 400 nm.\n",
    "</div>"
   ]
  },
  {
   "cell_type": "code",
   "execution_count": null,
   "metadata": {},
   "outputs": [],
   "source": [
    "# FIXME\n"
   ]
  },
  {
   "cell_type": "markdown",
   "metadata": {},
   "source": [
    "<details>\n",
    "<summary {style=\"color:green; font-weight:bold\"}> Click here to see the solution to Task 2.2 </summary>\n",
    "    \n",
    "```python\n",
    "\n",
    "fig, ax = plt.subplots(figsize=(10,5))\n",
    "\n",
    "ax.errorbar(wave_lengths,mean_absorbance,yerr=std_absorbance, label=\"5 measurement average\")\n",
    "ax.set_xlabel(\"wavelength (nm)\", fontsize = 15)\n",
    "ax.set_ylabel(\"absorbance (arb. units)\", fontsize =15)\n",
    "ax.set_xlim(200, 400)\n",
    "ax.legend()\n",
    "plt.show()\n",
    "\n",
    "```\n",
    "\n",
    "</details>"
   ]
  },
  {
   "cell_type": "markdown",
   "metadata": {},
   "source": [
    "<div class=\"alert alert-info\">\n",
    "    <b>Task 2.3 (advanced) </b>: Rather than using error bars on each data point can you use a shaded region to indicate the 1 σ confidence interval instead? Look at the example below. \n",
    "</div>\n",
    "\n",
    "**Hint**: Take a look at the function `fill_between` in [matplotlib](https://matplotlib.org).\n",
    "\n",
    "<img src=\"images/fill-between.png\" alt=\"fill\" width=\"400\"/>"
   ]
  },
  {
   "cell_type": "code",
   "execution_count": null,
   "metadata": {},
   "outputs": [],
   "source": [
    "# FIXME"
   ]
  },
  {
   "cell_type": "markdown",
   "metadata": {},
   "source": [
    "<details><summary {style=\"color:green; font-weight:bold\"}> Click here to see the solution to Task 2.3 (advanced)</summary>\n",
    "\n",
    "```python\n",
    "\n",
    "fig, ax = plt.subplots(figsize=(10,5))\n",
    "\n",
    "ax.plot(wave_lengths,mean_absorbance, label=\"5 measurement average\")\n",
    "ax.fill_between(wave_lengths, mean_absorbance + std_absorbance, mean_absorbance - std_absorbance, alpha=0.5)\n",
    "ax.set_xlabel(\"wavelength (nm)\", fontsize = 15)\n",
    "ax.set_ylabel(\"absorbance (arb. units)\", fontsize =15)\n",
    "ax.set_xlim(200, 400)\n",
    "ax.legend()\n",
    "plt.show()\n",
    "\n",
    "```\n"
   ]
  },
  {
   "cell_type": "markdown",
   "metadata": {},
   "source": [
    "## 3. Find the unknown concentration of the compound based on Beer Lambert's Law \n",
    "<a id=\"3-find-the-unknown-concentration-of-the-compound-based-on-beer-lamberts-law\"></a>\n",
    "\n",
    "In this section we will put some of the indidividual parts together of the previous sections to help identify Rachel the concentration of the sample series E she measured, but forgot to write down the concentration.\n",
    "\n",
    "You will find her experimental absorbance data in `data/Section3`. For each concentration there are 3 measurements. There is a file called `data/Section3/concentrations.csv`, that tell you which sample had which concentration. For some reason sample `C` has noted down a concentration of `NaN`. You should be able to figure out the concentration at which the sample was measured though based on Beer Lambert's Law. You can use the data you have to create a calibration plot and make sure of the linearity of the Beer Lambert law. It stats that the absorption of light by a substance is proportional to its concentration in solution, or in equation format:\n",
    "\n",
    "$$A = \\epsilon l c,$$\n",
    "\n",
    "where $A$ is the absorbance (unitless), $\\epsilon$ is the molar absorptivity coefficient (M$^{-1}$cm$^{-1}$), $l$ is the pathlength of light through the cuvette (cm), and $c$ is the concentration (M).\n",
    "\n",
    "A typical calibration curve will look like this:\n",
    "\n",
    "\n",
    "<img src=\"images/Calibration_plot.png\" alt=\"calibration\" width=\"400\"/>\n",
    "\n",
    "Image courtesy of Vernier Software and Technology\n",
    "\n",
    "In Rachel's case she has 4 repeat measurements of her absorbance with known concentration and 3 repeats of a measurements with unknown concentration. In this section you will reconstruct what the concentration of Rhodamine 6G was in sample `C`. "
   ]
  },
  {
   "cell_type": "markdown",
   "metadata": {},
   "source": [
    "# Tasks 3 <a id=\"tasks-3\"></a>"
   ]
  },
  {
   "cell_type": "markdown",
   "metadata": {},
   "source": [
    "<div class=\"alert alert-success\">\n",
    "    <b>Task 3.1</b>: Compute the mean absorbance curve of each concentration and plot these.\n",
    "</div>\n",
    "\n",
    "- Write a function called `mean_absorbance` to easily loop over this. You should be able to reuse what you have done in [Section 2](#2-estimating-and-plotting-the-error-on-an-absorption-spectrum) and wrap this into a function.\n",
    "- Loop over all 5 data sets and compute mean absorbance and plot the absorbance v. wavelength (don't worry about error bars this time)"
   ]
  },
  {
   "cell_type": "code",
   "execution_count": 15,
   "metadata": {},
   "outputs": [],
   "source": [
    "# FIXME\n"
   ]
  },
  {
   "cell_type": "markdown",
   "metadata": {},
   "source": [
    "<details>\n",
    "<summary {style=\"color:green; font-weight:bold\"}> Click here to see the solution to Task 3.1 </summary>\n",
    "    \n",
    "```python\n",
    "\n",
    "def mean_absorbance(file_names):\n",
    "    \"\"\"takes list of filenames with absorbances\"\"\"\n",
    "    wavelengths_array = []\n",
    "    absorbance_array = []\n",
    "    for d_file in file_names:\n",
    "        data = pd.read_csv(d_file, names=[\"lam\",\"absorb\",\"not_needed\"], skiprows=2)\n",
    "        if len(wavelengths_array) < len(data[\"lam\"]):\n",
    "            wavelengths_array = data[\"lam\"].tolist()\n",
    "        else:\n",
    "            if ((data[\"lam\"] == wavelengths_array).all()):\n",
    "                absorbance_array.append(data[\"absorb\"].tolist())\n",
    "\n",
    "    # Convert the two lists to numpy arrays\n",
    "    wave_lengths = np.array(wavelengths_array)\n",
    "    absorbance = np.array(absorbance_array)\n",
    "\n",
    "    # Mean and std of absorbance using axes in numpy\n",
    "    mean_absorbance = np.mean(absorbance, axis=0)\n",
    "    std_absorbance = np.std(absorbance, axis=0)\n",
    "    return wave_lengths,mean_absorbance\n",
    "\n",
    "fig, ax = plt.subplots()\n",
    "for concentrations in [\"A\", \"C\", \"D\", \"E\", \"F\"]:\n",
    "    f_names_c = glob.glob(f\"data/Section3/*{concentrations}*.csv\")\n",
    "    lams, absorbs = mean_absorbance(f_names_c)\n",
    "    ax.plot(lams,absorbs, label=concentrations)\n",
    "    ax.set_xlim(450,550)\n",
    "    ax.set_ylim(0.0,0.12)\n",
    "    ax.legend()\n",
    "    ax.set_xlabel(\"wavelength (nm)\")\n",
    "    ax.set_ylabel(\"absorbance (arb. units)\")\n",
    "plt.show()\n",
    "\n",
    "```\n",
    "\n",
    "</details>"
   ]
  },
  {
   "cell_type": "markdown",
   "metadata": {},
   "source": [
    "<div class=\"alert alert-success\">\n",
    "    <b>Task 3.2</b>: Find the peak absorbance data at 530 nm for each concentration.\n",
    "</div>\n",
    "\n",
    "- Fix Rachel's function called `find_peak_absorbance` to find peaks around 530 nm.\n",
    "- Collect the data in a list called `absorbance_peaks`\n",
    "\n",
    "Hint: You can find maxima with either `scipy.signal` or define a wavelength range where you know you only have one peak signal. Use boolean masks to define index ranges of e.g. 500-550 nm ranges to then find a maximum in the absorbance in this range. \n",
    "\n",
    "There are many different ways to solve this problem, so be creative!"
   ]
  },
  {
   "cell_type": "code",
   "execution_count": null,
   "metadata": {},
   "outputs": [],
   "source": [
    "def find_peak_absorbance(absorbance_data, wave_lengths, idx_of_wavelength_range=None, height=None):\n",
    "    \"\"\"find peak absorbance in a given range of wavelengths\n",
    "    Parameters:\n",
    "    -----------\n",
    "    absorbance_data : array\n",
    "        array of all the whole dataset\n",
    "    \n",
    "    wave_lengths : nd array \n",
    "        array corresponding to the wave_lengths\n",
    "    \n",
    "    idx_of_wavelength_range : \n",
    "        indexes of absorbance data array that correspond to e.g. 500-550 nm wavelength range\n",
    "    \n",
    "    height: float \n",
    "        peak height used by scipy.signal.find_peaks\n",
    "        \n",
    "    Returns:\n",
    "    --------\n",
    "    wave_length_at_max : float\n",
    "        wavelength of the corresponding absorbance maximum\n",
    "    max_absorbance : float\n",
    "        data point we are after\n",
    "    \n",
    "    \"\"\"\n",
    "    # FIXME\n",
    "    return wave_length_at_max, max_absorbance"
   ]
  },
  {
   "cell_type": "code",
   "execution_count": null,
   "metadata": {},
   "outputs": [],
   "source": [
    "# There are some issues in the code below too can you find them?\n",
    "# FIXME\n",
    "# Define the list\n",
    "absorbance_peaks = []\n",
    "# loop over concentrations\n",
    "for concentrations in ['A', 'C', 'D', 'E', 'F']:\n",
    "    f_names_c = glob.glob('data/Section3/*'+concentrations+\"*.csv\")\n",
    "    # get the mean absorbance and wavelengths\n",
    "    wave_lengths, absorbance_at_given_c = mean_absorbance(f_names_c)\n",
    "    # find the indexes using a boolean mask\n",
    "    wave_length_idxs = np.where(wave_lengths> 450 & wavelngths < 550)\n",
    "    wavelength_max, absorbance_max = find_peak_absorbance(absorbance_at_given_c, wave_legth, idx_of_wavelength_range=wave_length_idxs, height=0.012)\n",
    "    print(wavelength_max,absorbance_max)\n",
    "    absorbance_peaks.append(absorbance_max)"
   ]
  },
  {
   "cell_type": "markdown",
   "metadata": {},
   "source": [
    "<details>\n",
    "<summary {style=\"color:green; font-weight:bold\"}> Click here to see the solution to Task 3.2 </summary>\n",
    "    \n",
    "```python\n",
    "\n",
    "def find_peak_absorbance(data, wave_lengths=None, idx_of_wavelength_range=None, height=None):\n",
    "    \"\"\"find peak absorbance in a given range of wavelengths\n",
    "    Parameters:\n",
    "    -----------\n",
    "    absorbance_data : array\n",
    "        array of all the whole dataset\n",
    "    \n",
    "    wave_lengths : nd array \n",
    "        array corresponding to the wave_lengths\n",
    "    \n",
    "    idx_of_wavelength_range : \n",
    "        indexes of absorbance data array that correspond to e.g. 500-550 nm wavelength range\n",
    "    \n",
    "    height: float \n",
    "        peak height used by scipy.signal.find_peaks\n",
    "        \n",
    "    Returns:\n",
    "    --------\n",
    "    wave_length_at_max : float\n",
    "        wavelength of the corresponding absorbance maximum\n",
    "    max_absorbance : float\n",
    "        data point we are after\n",
    "    \n",
    "    \"\"\"   \n",
    "    idxs, heights = scipy.signal.find_peaks(data[idx_of_wavelength_range], height = height)\n",
    "    max_absorbance = np.max(data[idx_of_wavelength_range])\n",
    "    max_absorbance_index = np.argmax(data[idx_of_wavelength_range])\n",
    "    wave_length_at_max = wave_lengths[idx_of_wavelength_range][max_absorbance_index]\n",
    "    if max_absorbance_index in idxs:\n",
    "        print(\"Found peak\")\n",
    "        return wave_length_at_max, max_absorbance\n",
    "    else:\n",
    "        print('encountered an issue\")\n",
    "        return None\n",
    "    \n",
    "# Define the list (or a dictionary)\n",
    "absorbance_peaks = []\n",
    "# loop over concentrations\n",
    "for concentrations in [\"A\", \"C\", \"D\", \"E\", \"F\"]:\n",
    "    f_names_c = glob.glob(f\"data/Section3/*{concentrations}*.csv\")\n",
    "    # get the mean absorbance and wavelengths\n",
    "    wave_lengths, absorbance_at_given_c = mean_absorbance(f_names_c)\n",
    "    # find the indexes in the \n",
    "    bool_array = (wave_lengths > 450) & (wave_lengths < 550)\n",
    "    wave_length_idxs = np.where(bool_array)[0]\n",
    "    wavelength_max, absorbance_max = find_peak_absorbance(absorbance_at_given_c, wave_lengths, idx_of_wavelength_range=wave_length_idxs, height=0.012)\n",
    "    print(wavelength_max,absorbance_max)\n",
    "    absorbance_peaks.append(absorbance_max)\n",
    "\n",
    "```\n",
    "\n",
    "</details>"
   ]
  },
  {
   "cell_type": "markdown",
   "metadata": {},
   "source": [
    "<div class=\"alert alert-success\">\n",
    "    <b>Task 3.3</b>: Read in known concentrations and plot concentration against absorbance. \n",
    "</div>\n",
    "\n",
    "- Rachel has made a file with all the concentrations you can find in `data/Section3/concentrations.csv`. This is where you will notice that for `C` the entry is `NaN`. "
   ]
  },
  {
   "cell_type": "code",
   "execution_count": null,
   "metadata": {},
   "outputs": [],
   "source": [
    "# FIXME\n"
   ]
  },
  {
   "cell_type": "markdown",
   "metadata": {},
   "source": [
    "<details>\n",
    "<summary {style=\"color:green; font-weight:bold\"}> Click here to see the solution to Task 3.3 </summary>\n",
    "    \n",
    "```python\n",
    "\n",
    "concentrations = np.loadtxt(\"data/Section3/concentrations.csv\", delimiter=\",\", skiprows=2)\n",
    "absorbance_peaks = np.array(absorbance_peaks)\n",
    "concentrations = concentrations.astype(np.double)\n",
    "concentration_mask = np.isfinite(concentrations)\n",
    "\n",
    "print(concentration_mask)\n",
    "fig, ax = plt.subplots()\n",
    "ax.plot(concentrations[concentration_mask], absorbance_peaks[concentration_mask], \"o\")\n",
    "ax.set_xlabel(\"concentration (mol/L)\", fontsize=15)\n",
    "ax.set_ylabel(\"absorbance (arb. units)\", fontsize=15)\n",
    "plt.show()\n",
    "```\n",
    "\n",
    "</details>"
   ]
  },
  {
   "cell_type": "markdown",
   "metadata": {},
   "source": [
    "<div class=\"alert alert-success\">\n",
    "    <b>TASK 3.4</b>: Find the concentration of sample C based on Beer Lambert's Law.  \n",
    "</div>"
   ]
  },
  {
   "cell_type": "code",
   "execution_count": null,
   "metadata": {},
   "outputs": [],
   "source": [
    "# FIXME"
   ]
  },
  {
   "cell_type": "markdown",
   "metadata": {},
   "source": [
    "<details>\n",
    "<summary {style=\"color:green; font-weight:bold\"}> Click here to see the solution to Task 3.4</summary>\n",
    "    \n",
    "```python\n",
    "from scipy import stats\n",
    "c = concentrations[concentration_mask]\n",
    "a = absorbance_peaks[concentration_mask]\n",
    "res = stats.linregress(c, a)\n",
    "concentration_of_c = absorbance_peaks[1]/ res.slope - res.intercept \n",
    "print(f\"Concentration of sample C is {concentration_of_c:.4f} mM.\")\n",
    "    \n",
    "# And a reassurance plot\n",
    "fig, ax = plt.subplots()\n",
    "ax.plot(c, a, \"o\", label=\"absorbance peaks\")\n",
    "ax.plot(np.array(c), res.intercept + res.slope*np.array(c), \"r\", label=\"fitted line\")\n",
    "ax.legend()\n",
    "ax.set_xlabel(\"concentration\")\n",
    "ax.set_ylabel(\"absorance\")\n",
    "plt.show()\n",
    "```\n",
    "\n",
    "</details>"
   ]
  },
  {
   "cell_type": "markdown",
   "metadata": {},
   "source": [
    "## Break\n",
    "<img src=\"images/break.png\" alt=\"drawing\" width=\"200\"/>"
   ]
  },
  {
   "cell_type": "markdown",
   "metadata": {},
   "source": [
    "## 4. Working with protein crystals and molecular simulations\n",
    "<a id=proteins></a>\n",
    "To understand the structure of protein, polymers that are made up of 20 different amino acids. It is possible to crystalise proteins and then use X-ray's to probe their structure. \n",
    "\n",
    "All structural data of proteins are collected in the [protein data bank](https://www.rcsb.org) (PDB). With over 180000 protein structures available. 3-D structure data is invaluable for applications in many different areas of chemistry, as proteins underpin most vital functions in living organisms as natural catalysts. \n",
    "\n",
    "### 4.1 PDB files\n",
    "To store information about proteins a fileformat called pdb was invited. It stores the names of the atoms in the protein, as well as the 3-D coordinates that were determined from the crystal structure. Don't worry you will not need to interact much with these files. In Jupyter we can visualise protein structures from pdb files in different ways. In the following we will use py3Dmol.\n"
   ]
  },
  {
   "cell_type": "code",
   "execution_count": null,
   "metadata": {},
   "outputs": [],
   "source": [
    "!head -n 20 data/Section4/1aki.pdb"
   ]
  },
  {
   "cell_type": "markdown",
   "metadata": {},
   "source": [
    "As part of her final year project Rachel has been looking at the **hen egg white lysozyme** protein. She has been investigating the structure of it and has also run simulations to look at its stability over time. But she needs some help with analysing the simulations and understanding the data. Let's start by looking at the protein in the notebook."
   ]
  },
  {
   "cell_type": "code",
   "execution_count": null,
   "metadata": {},
   "outputs": [],
   "source": [
    "!pip install py3Dmol"
   ]
  },
  {
   "cell_type": "code",
   "execution_count": null,
   "metadata": {},
   "outputs": [],
   "source": [
    "import py3Dmol\n",
    "view = py3Dmol.view(query='pdb:1aki') # This line will grab the pdb file from the data bank\n",
    "view.setStyle({'cartoon':{'color':'spectrum'}})\n",
    "view.show()"
   ]
  },
  {
   "cell_type": "markdown",
   "metadata": {},
   "source": [
    "### 4.2 Measuring properties from crystal structures\n",
    "\n",
    "It is possible to measure different properties from the X-ray structure data, such as `bond lengths`, `angles`, etc. You will try some of this as part of the assessment."
   ]
  },
  {
   "cell_type": "markdown",
   "metadata": {},
   "source": [
    "### 4.3 What are molecular dynamics simulations?\n",
    "Molecular dynamics (MD) simulations are a way to understand how proteins may behave inside cells, by using a computer to model this behaviour. Cells are crowded environments full of proteins and water. Take a look at this movie of a simulation of a bacterial cell. "
   ]
  },
  {
   "cell_type": "code",
   "execution_count": null,
   "metadata": {},
   "outputs": [],
   "source": [
    "from IPython import display\n",
    "display.HTML(\"<img src='data/Section4/crowded_cell.mp4'></img>\")"
   ]
  },
  {
   "cell_type": "markdown",
   "metadata": {},
   "source": [
    "In a molecular dynamics (MD) simulation we model atoms and bonds like balls and springs and generate so called trajectories over time using Newton's Laws of motion. \n",
    "\n",
    "$$\\mathbf{F} = \\frac{d^2\\mathbf{r}_i}{dt^2}$$\n",
    "\n",
    "where $\\mathbf{F}$ is the force on each atom $i$ and $\\mathbf{r}_i$ is the position of atom $i$. The above equation is solved at every time-step over a number of time-steps, to calculate the position and velocity of each atom. \n",
    "\n",
    "To get started with an MD simulation you need some initial coordinates for a protein. These are often taken from the protein data bank. \n",
    "\n",
    "Here you see an example of a short trajectory of a single protein: lysozyme.\n"
   ]
  },
  {
   "cell_type": "code",
   "execution_count": null,
   "metadata": {},
   "outputs": [],
   "source": [
    "from IPython import display\n",
    "display.HTML(\"<img src='data/Section4/lys.gif' width='400'></img>\")"
   ]
  },
  {
   "cell_type": "markdown",
   "metadata": {},
   "source": [
    "## 5. Excursion into thermodynamics or how to check equilibration\n",
    "\n",
    "Molecular simulations are often run in similar conditions that mimic a lab environment, namely at **constant temperature**, **constant pressure**, and **constant number of particles** (NPT). To achieve this, the simulation needs to get a chance to equilibrate and some clever algorithmic tricks need to be done to achieve $N$ i.e. number of particles, $T$ temperature, and $p$ pressure to be constant. \n",
    "\n",
    "This can be done with pressure and temperature equilibrations. If you want to know more about the algorithms used in these equilibrations, see https://ftp.gromacs.org/pub/manual/manual-5.0.4.pdf.\n",
    "\n",
    "The temperature equilibration step is called NVT, because the number of atoms $N$, volume $V$ and temperature $T$ are kept constant. Similarly, the pressure equilibration step is called NPT.\n",
    "\n",
    "We will also plot the **running average** to see the equilibration better. The running average, denoted SMA for Simple Moving Average, is defined as \n",
    "\n",
    "$$ \\mathrm{SMA} = \\frac{1}{k} \\sum_{i = n-k+1}^{n} p_i$$\n",
    "\n",
    "where $p$ is a data point, $k$ is the window and $n$ is the total number of data points. "
   ]
  },
  {
   "cell_type": "markdown",
   "metadata": {},
   "source": [
    "### Time for the break out room\n",
    "In this breakout room you will assess the equilibration of a trajectory Rachel generated with MD simulations. Help her figure out how to compute a running average and plot this. \n",
    "Please attempt exercises:   \n",
    "\n",
    "5.1 NVT equilibration plot   \n",
    "5.2 Fixing the implementation of the SMA function   \n",
    "5.3 Compute SMA of the temperature and plot everything together.  \n",
    "5.4 Density analysis (advanced)\n",
    "\n",
    "<img src=\"images/breakout-room.png\" alt=\"drawing\" width=\"200\"/>"
   ]
  },
  {
   "cell_type": "markdown",
   "metadata": {},
   "source": [
    "<div class=\"alert alert-success\">\n",
    "    <b>TASK 5.1 </b>: Plotting temperature over time from the MD simulation.\n",
    "</div>\n",
    "\n",
    "The time is in picoseconds (ps) and the data is collected for 100 ps. The temperature is in Kelvin. \n",
    "\n",
    "* Load in a file called `temperature.txt` from the folder `data/Section5`. You can take a look at the file in the folder to see what character is used as the separator. \n",
    "* Plot the temperature against time. \n",
    "* Add axis correct axis labels."
   ]
  },
  {
   "cell_type": "code",
   "execution_count": null,
   "metadata": {},
   "outputs": [],
   "source": [
    "# Your code here:\n",
    "\n"
   ]
  },
  {
   "cell_type": "markdown",
   "metadata": {},
   "source": [
    "<details>\n",
    "<summary> <mark> EXAMPLE SOLUTION:</mark> </summary>\n",
    "    \n",
    "```python\n",
    "\n",
    "# Solution\n",
    "# Load data in\n",
    "NVT = pd.read_csv('data/Section5/temperature.txt', sep = '\\t')\n",
    "#print(temperature)\n",
    "\n",
    "#temperature.plot('t','T')\n",
    "\n",
    "time = NVT['t'].tolist()\n",
    "temperature = NVT['T'].tolist()\n",
    "\n",
    "n_T = len(temperature)\n",
    "\n",
    "#my_cumsum = SMA(temperature,n_T,10)\n",
    "#np_cumsum = NVT['T'].rolling(window = 10).mean().dropna().tolist()\n",
    "\n",
    "#for i in range(len(my_cumsum)):\n",
    " #   print(f'My SMA: {my_cumsum[i]}. DF SMA: {np_cumsum[i]}')\n",
    "\n",
    "#print(T_SMA)\n",
    "#print(running_avg)\n",
    "fig = plt.figure()\n",
    "ax = fig.add_subplot()\n",
    "ax.plot(time,temperature, color = 'black')\n",
    "ax.set_xlabel('Time / ps')\n",
    "ax.set_ylabel('Temperature / K')\n",
    "\n",
    "```\n",
    "\n",
    "</details>"
   ]
  },
  {
   "cell_type": "markdown",
   "metadata": {},
   "source": [
    "<div class=\"alert alert-success\">\n",
    "    <b>TASK 5.2 and TASK 5.3 </b>: Write a function that will compute the running average of an observable, e.g. temperature and plot this together with the original data. \n",
    "</div>\n",
    "\n",
    "Define a function `SMA()` that takes in a list of data, total number of data points and the size of the window. Calculate the cumulative sum and from this calculate the running average, and return it.\n",
    "\n",
    "Take a look at the draft Rachel has made, can you fix the function so that it will work? It is easiest to debug problems with the function if you try and plot the output with the data you are trying to compute the running average for.\n",
    "\n",
    "You could also check visually if this is similar to the running average function you can find in `pandas`.\n"
   ]
  },
  {
   "cell_type": "code",
   "execution_count": null,
   "metadata": {},
   "outputs": [],
   "source": [
    "# Your answer here\n",
    "\n",
    "def SMA(data, n, window):\n",
    "    '''\n",
    "    Function to calculate the simple moving average. \n",
    "    \n",
    "    Parameters\n",
    "    ----------\n",
    "    data: list\n",
    "        list of data \n",
    "    n: int\n",
    "        total number of data points\n",
    "    \n",
    "    window: int\n",
    "        size of the running average window\n",
    "    '''\n",
    "\n",
    "    S_i = 0\n",
    "    cumulative_sum = []\n",
    "    for i in range(n):\n",
    "        cumulative_sum.append(S_i)\n",
    "        S_i = S_i + data[i]\n",
    "    cumulative_sum = np.array(cumulative_sum)    \n",
    "    running_avg = cumulative_sum / float(window)\n",
    "    return running_avge"
   ]
  },
  {
   "cell_type": "markdown",
   "metadata": {},
   "source": [
    "<details>\n",
    "<summary> <mark> EXAMPLE SOLUTION:</mark> </summary>\n",
    "    \n",
    "```python\n",
    "# Example solution\n",
    "\n",
    "def SMA(data, n, window):\n",
    "    '''\n",
    "    Function to calculate the simple moving average. \n",
    "    \n",
    "    Parameters\n",
    "    ----------\n",
    "    data: list\n",
    "        list of data \n",
    "    n: int\n",
    "        total number of data points\n",
    "    \n",
    "    window: int\n",
    "        size of the running average window\n",
    "    '''\n",
    "\n",
    "    S_i = 0\n",
    "    cumulative_sum = []\n",
    "    for i in range(n):\n",
    "        S_i = S_i + data[i]\n",
    "        cumulative_sum.append(S_i)\n",
    "    cumulative_sum = np.array(cumulative_sum)    \n",
    "    running_avg = (cumulative_sum[window:] - cumulative_sum[:-window]) / float(window)\n",
    "    return running_avg\n",
    "\n",
    "\n",
    "\n",
    "```\n",
    "\n",
    "</details>"
   ]
  },
  {
   "cell_type": "markdown",
   "metadata": {},
   "source": [
    "### 10-ps average for NVT\n",
    "\n",
    "1. Plot the temperature data in black, with label `'Data'`\n",
    "2. Plot the 10-ps running average for temperature in red, with label `'10-ps average'`\n",
    "3. Define axis labels and add a legend."
   ]
  },
  {
   "cell_type": "code",
   "execution_count": null,
   "metadata": {},
   "outputs": [],
   "source": [
    "# Your answer for plotting data and running average\n",
    "fig = plt.figure()\n",
    "ax = fig.add_subplot()\n",
    "ax.plot(time,temperature, color = 'black')\n"
   ]
  },
  {
   "cell_type": "markdown",
   "metadata": {},
   "source": [
    "<details>\n",
    "<summary> <mark> EXAMPLE SOLUTION:</mark> </summary>\n",
    "    \n",
    "```python\n",
    "\n",
    "# Example solution\n",
    "\n",
    "fig = plt.figure()\n",
    "ax = fig.add_subplot()\n",
    "ax.plot(time,temperature, color = 'black')\n",
    "ax.set_xlabel('Time / ps')\n",
    "ax.set_ylabel('Temperature / K')\n",
    "T_SMA = SMA(temperature,n_T,10)\n",
    "running_avg = NVT['T'].rolling(window = 10).mean()\n",
    "plt.plot(time[10:],T_SMA, color = 'red', label = '10-ps running avg.')\n",
    "ax.plot(time,temperature, color = 'black', label = 'Data')\n",
    "#plt.plot(time,running_avg, color = 'orange')\n",
    "ax.legend(loc = 'upper right')\n",
    "\n",
    "```\n",
    "\n",
    "</details>"
   ]
  },
  {
   "cell_type": "code",
   "execution_count": null,
   "metadata": {},
   "outputs": [],
   "source": [
    "# Mentimeter do you think the simulation is equilibrated? YES? NO? I don't know.\n",
    "Mentimeter(vote=\"https://www.menti.com/y2sihiqcyr\").show()\n"
   ]
  },
  {
   "cell_type": "code",
   "execution_count": null,
   "metadata": {},
   "outputs": [],
   "source": [
    "Mentimeter(result=\"https://www.mentimeter.com/s/807a0fe288a596bc3154275f4ed14a2d/33da515773f7\").show()"
   ]
  },
  {
   "cell_type": "markdown",
   "metadata": {},
   "source": [
    "<div class=\"alert alert-info\">\n",
    "    <b>ADVANCED TASK 5.4 </b>: NPT equilibration with density \n",
    "</div>\n",
    "\n",
    "The time is in picoseconds (ps) and the data is collected for 100 ps. The density is in kg m$^{-3}$. \n",
    "\n",
    "1. Load in a file called `density.txt` from the folder `data`. You can take a look at the file in the folder to see what character is used as the separator. \n",
    "2. Plot the density against time. \n",
    "3. Plot the SMA of density in red.\n",
    "4. Add correct axis labels and a legend.\n"
   ]
  },
  {
   "cell_type": "code",
   "execution_count": null,
   "metadata": {},
   "outputs": [],
   "source": [
    "# your answer\n"
   ]
  },
  {
   "cell_type": "markdown",
   "metadata": {},
   "source": [
    "<details>\n",
    "<summary> <mark> EXAMPLE SOLUTION:</mark> </summary>\n",
    "    \n",
    "```python\n",
    "\n",
    "# Solution \n",
    "\n",
    "# Load data in\n",
    "density_data = pd.read_csv('data/Section5/density.txt', sep = '\\t')\n",
    "\n",
    "time = density_data['t'].tolist()\n",
    "density = density_data['rho'].tolist()\n",
    "\n",
    "n_rho = len(density)\n",
    "\n",
    "#my_cumsum = SMA(temperature,n_T,10)\n",
    "#np_cumsum = NVT['T'].rolling(window = 10).mean().dropna().tolist()\n",
    "\n",
    "#for i in range(len(my_cumsum)):\n",
    " #   print(f'My SMA: {my_cumsum[i]}. DF SMA: {np_cumsum[i]}')\n",
    "\n",
    "\n",
    "#print(T_SMA)\n",
    "#print(running_avg)\n",
    "fig = plt.figure()\n",
    "ax = fig.add_subplot()\n",
    "ax.plot(time,density, color = 'black')\n",
    "ax.set_xlabel('Time / ps')\n",
    "ax.set_ylabel(r'Density / kg m$^{-3}$')\n",
    "rho_SMA = SMA(density,n_rho,10)\n",
    "plt.plot(time[10:],rho_SMA, color = 'red', label = '10 ps running avg.')\n",
    "ax.plot(time,density, color = 'black', label = 'Data')\n",
    "#plt.plot(time,running_avg, color = 'orange')\n",
    "ax.legend(loc = 'lower right')\n",
    "\n",
    "```\n",
    "\n",
    "</details>"
   ]
  },
  {
   "cell_type": "markdown",
   "metadata": {},
   "source": [
    "## 6. Assessing the stability of simulations\n",
    "In this part we will consider the root-mean-square deviation (RMSD) and the radius of gyration of the protein during the simulation. These two quantities are useful to judge if the protein maintains it shape, i.e. if the simulation is stable or the protein breaks apart. \n",
    "\n",
    "The root-mean square deviation is given by\n",
    "$$\\mathrm{RMSD} = \\sqrt{\\frac{1}{N} \\sum_{i=0}^{N} (v_i - w_i )^2}$$\n",
    "\n",
    "where $v_i$ is the position of a reference structure and $w_i$ is the structure we're interested in.\n",
    "\n",
    "The radius of gyration is a *measure of the compactness* of a protein, and is given by\n",
    "\n",
    "$$R_\\mathrm{g}(x) = \\sqrt{\\frac{\\sum_i m_i r_i(y)^2 + m_ir_i(z)^2}{\\sum_i m_i}}$$\n",
    "\n",
    "\n"
   ]
  },
  {
   "cell_type": "markdown",
   "metadata": {},
   "source": [
    "### Time for the break out room\n",
    "In this breakout room you will assess the structural stability of a trajectory Rachel generated with MD simulations. Help her figure out how to compute a running average and plot this. \n",
    "Please attempt exercises:   \n",
    "\n",
    "6.1 Radius of gyration plot   \n",
    "6.2 Average radius of gyration   \n",
    "6.3 RMSD plot (advanced)    \n",
    "\n",
    "\n",
    "<img src=\"images/breakout-room.png\" alt=\"drawing\" width=\"200\"/>"
   ]
  },
  {
   "cell_type": "markdown",
   "metadata": {},
   "source": [
    "<div class=\"alert alert-success\">\n",
    "    <b>TASK 6.1 </b>: Radius of gyration plot\n",
    "</div>\n",
    "\n",
    "The radius of gyration data is given in the file `data/Section6/gyrate.txt`. The time is in picoseconds (ps) and the radius of gyration values are given in nanometers (nm). \n",
    "\n",
    "1. Load the file gyrate.txt in.\n",
    "2. Plot the radius of gyration. \n",
    "3. Add axis labels.\n"
   ]
  },
  {
   "cell_type": "code",
   "execution_count": null,
   "metadata": {},
   "outputs": [],
   "source": [
    "# your answer here\n",
    "\n"
   ]
  },
  {
   "cell_type": "markdown",
   "metadata": {},
   "source": [
    "<details>\n",
    "<summary> <mark> EXAMPLE SOLUTION:</mark> </summary>\n",
    "    \n",
    "```python\n",
    "\n",
    "## Solution\n",
    "\n",
    "Rg_data = pd.read_csv('data/Section6/gyrate.txt', sep = '\\t')\n",
    "\n",
    "time = Rg_data['t'].tolist()\n",
    "Rg = Rg_data['Rg'].tolist()\n",
    "\n",
    "fig = plt.figure()\n",
    "ax = fig.add_subplot()\n",
    "ax.plot(time, Rg, color = 'k')\n",
    "ax.set_xlabel('Time / ps')\n",
    "ax.set_ylabel(r'R$_\\mathrm{g}$ / nm')\n",
    "\n",
    "```\n",
    "\n",
    "</details>"
   ]
  },
  {
   "cell_type": "markdown",
   "metadata": {},
   "source": [
    "<div class=\"alert alert-success\">\n",
    "    <b>TASK 6.2 </b>: Average radius of gyration\n",
    "</div>\n",
    "\n",
    "We can calculate the average from the $R_\\mathrm{g}$ data and use the standard deviation as an estimate of the error on the mean value. \n",
    "\n",
    "Code this in the cell below and output the values nicely.\n"
   ]
  },
  {
   "cell_type": "code",
   "execution_count": null,
   "metadata": {},
   "outputs": [],
   "source": [
    "# Your answer here\n",
    "\n"
   ]
  },
  {
   "cell_type": "markdown",
   "metadata": {},
   "source": [
    "<details>\n",
    "<summary> <mark> EXAMPLE SOLUTION:</mark> </summary>\n",
    "    \n",
    "```python\n",
    "\n",
    "# Solution\n",
    "\n",
    "mean_Rg = np.mean(Rg)\n",
    "std_Rg = np.std(Rg)\n",
    "\n",
    "print(f\"Radius of gyration: ({mean_Rg:.2f} +/- {std_Rg:.2f}) nm\")\n",
    "\n",
    "```\n",
    "\n",
    "</details>"
   ]
  },
  {
   "cell_type": "markdown",
   "metadata": {},
   "source": [
    "<div class=\"alert alert-info\">\n",
    "    <b>ADVANCED TASK 6.3 </b>: RMSD plots\n",
    "</div>\n",
    "\n",
    "As with the above equilibration plots, we want to see if the RMSD plot levels off. \n",
    "\n",
    "To plot the RMSD plots, we have to load in two files: RMSD.txt and RMSD-xtal.txt (both are found in `data/Section6`), where the former is the simulated structure and the latter is the crystal structure. \n",
    "\n",
    "The RMSD is measured in nanometers (nm) and time is now in nanoseconds (ns).\n",
    "\n",
    "1. Load the files in.\n",
    "2. Plot both RMSD and RMSD_xtal in the same plot. \n",
    "3. Add axis labels and a legend.\n"
   ]
  },
  {
   "cell_type": "code",
   "execution_count": null,
   "metadata": {},
   "outputs": [],
   "source": [
    "# Your answer here\n",
    "\n"
   ]
  },
  {
   "cell_type": "markdown",
   "metadata": {},
   "source": [
    "<details>\n",
    "<summary> <mark> EXAMPLE SOLUTION:</mark> </summary>\n",
    "    \n",
    "```python\n",
    "# Solution\n",
    "\n",
    "RMSD_data = pd.read_csv('data/Section6/rmsd.txt', sep = '\\t')\n",
    "RMSD_xtal_data = pd.read_csv('data/Section6/rmsd-xtal.txt', sep = '\\t')\n",
    "\n",
    "RMSD_t = RMSD_data['t'].tolist()\n",
    "RMSD = RMSD_data['RMSD'].tolist()\n",
    "RMSD_xtal_t = RMSD_xtal_data['t'].tolist()\n",
    "RMSD_xtal = RMSD_xtal_data['RMSD'].tolist()\n",
    "\n",
    "fig = plt.figure()\n",
    "ax = fig.add_subplot()\n",
    "ax.plot(RMSD_t, RMSD, color = 'black', label = 'MD structure')\n",
    "ax.plot(RMSD_xtal_t, RMSD_xtal, color = 'red', label = 'Crystal structure')\n",
    "ax.set_xlabel('Time / ns')\n",
    "ax.set_ylabel('RMSD / nm')\n",
    "ax.legend()\n",
    "\n",
    "```\n",
    "\n",
    "</details>"
   ]
  },
  {
   "cell_type": "markdown",
   "metadata": {},
   "source": [
    "### Questions for discussion\n",
    "\n",
    "1. Has the protein stabilised in the MD simulation?\n",
    "2. Why aren't the MD structure and the crystal structure always perfectly overlapping?"
   ]
  },
  {
   "cell_type": "code",
   "execution_count": null,
   "metadata": {},
   "outputs": [],
   "source": [
    "# Mentimeter\n",
    "\n",
    "Mentimeter(vote=\"https://www.menti.com/a4nwnd6xne\").show()"
   ]
  },
  {
   "cell_type": "code",
   "execution_count": null,
   "metadata": {},
   "outputs": [],
   "source": [
    "Mentimeter(result=\"https://www.mentimeter.com/s/03b6d88b44ce9a2e30738cf1e68ed824/e404dd0089be\").show()"
   ]
  },
  {
   "cell_type": "markdown",
   "metadata": {},
   "source": [
    "### Answers\n",
    "\n",
    "1. Yes, you can see it levels off to roughly 0.1 nm.\n",
    "2. This is because the MD structure has been energy-minimised and because the position restraints are not 100% accurate. "
   ]
  },
  {
   "cell_type": "markdown",
   "metadata": {},
   "source": [
    "## Feedback"
   ]
  },
  {
   "cell_type": "code",
   "execution_count": null,
   "metadata": {},
   "outputs": [],
   "source": [
    "Mentimeter(vote=\"https://www.menti.com/jfhzzoi566\").show()"
   ]
  },
  {
   "cell_type": "markdown",
   "metadata": {},
   "source": [
    "## THE END!"
   ]
  }
 ],
 "metadata": {
  "kernelspec": {
   "display_name": "Python 3.10.2 ('jupyterlab')",
   "language": "python",
   "name": "python3"
  },
  "language_info": {
   "codemirror_mode": {
    "name": "ipython",
    "version": 3
   },
   "file_extension": ".py",
   "mimetype": "text/x-python",
   "name": "python",
   "nbconvert_exporter": "python",
   "pygments_lexer": "ipython3",
   "version": "3.10.2"
  },
  "vscode": {
   "interpreter": {
    "hash": "cf51243a6e93b78f1f5c5d179cd4f66e9bfd7b6269bebfcfdbed7f35483e292c"
   }
  }
 },
 "nbformat": 4,
 "nbformat_minor": 4
}

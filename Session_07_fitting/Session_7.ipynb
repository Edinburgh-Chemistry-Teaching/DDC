{
 "cells": [
  {
   "cell_type": "markdown",
   "metadata": {},
   "source": [
    "# Session 7: How to fit data"
   ]
  },
  {
   "cell_type": "markdown",
   "metadata": {
    "slideshow": {
     "slide_type": "slide"
    }
   },
   "source": [
    "<a rel=\"license\" href=\"https://creativecommons.org/licenses/by-sa/4.0/\"><img alt=\"Creative Commons Licence\" style=\"border-width:0\" src=\"https://licensebuttons.net/l/by-sa/4.0/88x31.png\" title='This work is licensed under a Creative Commons Attribution 4.0 International License.' align=\"right\"/></a>\n",
    "\n",
    "Author: Dr Antonia Mey   \n",
    "Email: antonia.mey@ed.ac.uk\n",
    "  \n",
    "\n",
    "Some material was contributed by Dr Matteo Degiacomi and Dr Valentina Erastova   \n",
    "\n",
    "## Learning outcomes\n",
    "1. Get more practice with plotting data and computing molecular properties.\n",
    "2. Test how correlated two datasets are using `scipy`\n",
    "3. Understand how to find the minimum of a function computationally.\n",
    "4. Use the library `scipy` to find a line of best fit.\n",
    "5. Use the library `scipy` to be able to fit an exponential function.\n",
    "6. Know of other fitting functions, such as polynomial or Gaussian fits. "
   ]
  },
  {
   "cell_type": "markdown",
   "metadata": {
    "slideshow": {
     "slide_type": "slide"
    }
   },
   "source": [
    "**Jupyter cheat sheet**:\n",
    "- to run the currently highlighted cell, hold <kbd>&#x21E7; Shift</kbd> and press <kbd>&#x23ce; Enter</kbd>;\n",
    "- to get help for a specific function, place the cursor within the function's brackets, hold <kbd>&#x21E7; Shift</kbd>, and press <kbd>&#x21E5; Tab</kbd>;"
   ]
  },
  {
   "cell_type": "markdown",
   "metadata": {
    "slideshow": {
     "slide_type": "slide"
    }
   },
   "source": [
    "# Table of Contents\n",
    "1. [Recap: molecular geometries and plotting](#plotting)    \n",
    "\n",
    "2. [Computing correlations](#Correlation)   \n",
    "   2.1. [Pearson's correlation coefficient](#pearson)    \n",
    "   2.2. [Spearman's rank correlation coefficient](#spearman)    \n",
    "\n",
    "3. [Fitting data](#minimization)    \n",
    "   3.1. [Finding the minimum of a function](#optimization)   \n",
    "   3.2. [Line of best fit and residuals](#residuals)    \n",
    "   3.3. [Fitting non-linear functions](#advanced_fitting_exponential)    \n",
    "   3.4. [Fitting a Gaussian distribution](#advanced_fitting_gaussian)    \n",
    "4. [Feedback](#feedback)"
   ]
  },
  {
   "cell_type": "markdown",
   "metadata": {},
   "source": [
    "<div class=\"alert alert-danger\"><b>\n",
    "⚠️ Execute the cell below! It will allow you to run the notebook properly! ⚠️\n",
    "</b></div>"
   ]
  },
  {
   "cell_type": "code",
   "execution_count": 3,
   "metadata": {},
   "outputs": [],
   "source": [
    "import sys\n",
    "import os.path\n",
    "sys.path.append(os.path.abspath('../'))\n",
    "from helper_functions.mentimeter import Mentimeter\n",
    "import numpy as np\n",
    "import matplotlib.pylab as plt\n",
    "import pandas as pd\n",
    "import math"
   ]
  },
  {
   "cell_type": "markdown",
   "metadata": {
    "slideshow": {
     "slide_type": "slide"
    }
   },
   "source": [
    "# 1. Recap: molecular geometries and plotting\n",
    "<a id='plotting'></a>"
   ]
  },
  {
   "cell_type": "markdown",
   "metadata": {
    "slideshow": {
     "slide_type": "slide"
    }
   },
   "source": [
    "## 1.1 Recap: molecular geometries \n",
    "<a id='geometries'></a>"
   ]
  },
  {
   "cell_type": "markdown",
   "metadata": {},
   "source": [
    "### Bonds\n",
    "To compute the length of a bond **a**, we need to know the length of the vector connecting two atoms A and B using this formula:\n",
    "\n",
    "$\\vert\\vert \\mathbf{a}\\vert \\vert$=$\\sqrt{(x_B-x_A)^2+(y_B-y_A)^2+(z_B-z_A)^2}$\n",
    "\n",
    "In Python, `np.linalg.norm(B-A)` is a fast way of computing the distance between two vectors if the input is the form of a numpy array."
   ]
  },
  {
   "cell_type": "code",
   "execution_count": null,
   "metadata": {},
   "outputs": [],
   "source": [
    "# Example positions of a water molecle\n",
    "\n",
    "position_atom_H1 = np.array([0.758602,0.000000,0.504284])\n",
    "position_atom_O = np.array([0.000,0.000,0.000])\n",
    "position_atom_H2 = np.array([0.260455, 0.000000, -0.872893])"
   ]
  },
  {
   "cell_type": "code",
   "execution_count": null,
   "metadata": {},
   "outputs": [],
   "source": [
    "def compute_bond_length(atom1, atom2):\n",
    "    \"\"\" This funciton computes the bond length between two atoms\n",
    "    \n",
    "    Parameters:\n",
    "    -----------\n",
    "    atom1:numpy array \n",
    "        contains 3 entries as x, y and z coordinates\n",
    "    atom2:numpy array\n",
    "        contains 3 entries as x, y and z coordinates\n",
    "    \n",
    "    Returns:\n",
    "    --------\n",
    "    bond_length :float\n",
    "        value of the bond length\n",
    "    \"\"\"\n",
    "    \n",
    "    bond_length = np.linalg.norm(atom1-atom2)\n",
    "    return bond_length"
   ]
  },
  {
   "cell_type": "code",
   "execution_count": null,
   "metadata": {},
   "outputs": [],
   "source": [
    "bond_length = compute_bond_length(position_atom_H1, position_atom_O)\n",
    "print(f'The H-O bondlength is: {bond_length:.2f} Å.')"
   ]
  },
  {
   "cell_type": "markdown",
   "metadata": {},
   "source": [
    "### Angles"
   ]
  },
  {
   "cell_type": "markdown",
   "metadata": {},
   "source": [
    "Here is an example of an angle in a water molecule, where vector *H1*, *O*, and *H2*  give the positions of the atoms in space.\n",
    "\n",
    "![indexing](images/bond_angles.png)\n",
    "\n",
    "The bond length between H1 and O is given by the vector connecting these two atoms **a** in the image and can be computed using the above formula. \n",
    "\n",
    "\n",
    "To determine the angle between two vectors you can use the scalar product: \n",
    "$$\\mathbf{a}\\cdot \\mathbf{b} = \\vert\\vert\\mathbf{a}\\vert\\vert \\,\\vert\\vert\\mathbf{b}\\vert\\vert\\cos \\phi,$$\n",
    "where $\\mathbf{a}$ and $\\mathbf{b}$ are vectors, and  $\\phi$ is the valence angle we are after. We need to solve the dot product according to the valence angle $\\phi$ by rearranging the above equation:\n",
    "$$\\phi = \\arccos\\big(\\frac{\\mathbf{a}\\cdot\\mathbf{b}}{\\vert\\vert\\mathbf{a}\\vert\\vert \\,\\vert\\vert\\mathbf{b} \\vert\\vert}\\big)$$\n",
    "\n",
    "You can use the `math` library to get the arccos of an angle, e.g.: `math.acos()`"
   ]
  },
  {
   "cell_type": "markdown",
   "metadata": {},
   "source": [
    "The scalar product or dot product can be computed using `np.dot()` in Python."
   ]
  },
  {
   "cell_type": "code",
   "execution_count": null,
   "metadata": {},
   "outputs": [],
   "source": [
    "def compute_angle_water(O_position,H1_position, H2_position):\n",
    "    \"\"\"This function computes the angle between two three atoms\n",
    "    \n",
    "    Parameters:\n",
    "    -----------\n",
    "    H1_position:numpy array \n",
    "        contains 3 entries as x, y and z coordinates\n",
    "    O_position:numpy array\n",
    "        contains 3 entries as x, y and z coordinates\n",
    "    H2_position:numpy array\n",
    "        contains 3 entries as x, y and z coordinates\n",
    "    \n",
    "    Returns:\n",
    "    --------\n",
    "    angle :float\n",
    "        value of the angle\n",
    "    \"\"\"\n",
    "    vector_of_bond_a = H1_position-O_position\n",
    "    vector_of_bond_b = H2_position-O_position\n",
    "\n",
    "    bond_length_a = compute_bond_length(H1_position, O_position)\n",
    "    bond_length_b = compute_bond_length(O_position, H2_position)\n",
    "    \n",
    "    angle = math.acos(np.dot(vector_of_bond_a,vector_of_bond_b)/(bond_length_a*bond_length_b))\n",
    "    return np.degrees(angle)\n",
    "    "
   ]
  },
  {
   "cell_type": "code",
   "execution_count": null,
   "metadata": {},
   "outputs": [],
   "source": [
    "angle = compute_angle_water(position_atom_O,position_atom_H1,position_atom_H2)\n",
    "print(f'The angle of a water molecule is: {angle:.2f}°.')"
   ]
  },
  {
   "cell_type": "markdown",
   "metadata": {
    "slideshow": {
     "slide_type": "slide"
    }
   },
   "source": [
    "### Recap: Reminder of further resources\n",
    "If you ever get stuck with Matplotlib, they have some very helpful [cheatsheets](https://matplotlib.org/cheatsheets/), one of which is shown below:\n",
    "\n",
    "![Matplotlib beginner cheat sheet](https://matplotlib.org/cheatsheets/handout-beginner.png)"
   ]
  },
  {
   "cell_type": "markdown",
   "metadata": {
    "slideshow": {
     "slide_type": "slide"
    }
   },
   "source": [
    "## 1.2 Recap: Plotting distributions\n",
    "\n",
    "Take a look at the following code:\n",
    "\n",
    "```python\n",
    "\n",
    "# Generate 10000 random samples from a normal distriubution \n",
    "X = np.random.normal(4, 0.3, 10000)\n",
    "# initiate the plot\n",
    "fig, ax = plt.subplots()\n",
    "fig.set_figwidth(4)\n",
    "fig.set_figheight(4)\n",
    "# Use numpy to compute a histogram\n",
    "prob, edges = np.histogram(X, density = True, bins=30)\n",
    "half_width = (edges[1]-edges[0])/2\n",
    "bin_centres = edges[:-1]+half_width\n",
    "# plot the probability density from the histogram\n",
    "ax.plot(bin_centres, prob, marker='o', color='red')\n",
    "\n",
    "\n",
    "```\n",
    "\n",
    "How would you expect the final plot to look like?"
   ]
  },
  {
   "cell_type": "code",
   "execution_count": null,
   "metadata": {
    "slideshow": {
     "slide_type": "fragment"
    }
   },
   "outputs": [],
   "source": [
    "Mentimeter(vote = 'https://www.menti.com/aladq88k3pq6').show()"
   ]
  },
  {
   "cell_type": "markdown",
   "metadata": {},
   "source": [
    "## Tasks 1"
   ]
  },
  {
   "cell_type": "markdown",
   "metadata": {},
   "source": [
    "<div class=\"alert alert-success\">\n",
    "    <b>Task 1.1 </b> : generate a 1D array, $x$, and plot $x^2$ using non-default line types and colours, label the plot\n",
    "</div>"
   ]
  },
  {
   "cell_type": "markdown",
   "metadata": {},
   "source": [
    " Practice labelling your plot as well!\n",
    " - `xlabel()`\n",
    " - `ylabel()` \n",
    " - `title()`\n",
    "\n",
    "<div class=\"alert alert-info\">\n",
    "    <b>Hint</b> : To neatly write sub- and superscripts on the plots, like  $x_2$  or $x^2$ in the example above, use the $LaTeX$ notation in the code - <code>$x_2$</code> and <code>$x^2$</code> respectively. For  <a href=\"https://matplotlib.org/3.1.1/tutorials/text/mathtext.html\">more examples see here</a>.\n",
    "\n",
    "</div>\n",
    "\n"
   ]
  },
  {
   "cell_type": "code",
   "execution_count": null,
   "metadata": {},
   "outputs": [],
   "source": [
    "# Task 1: Test out the solution in this cell:\n",
    "\n"
   ]
  },
  {
   "cell_type": "markdown",
   "metadata": {},
   "source": [
    "<details><summary {style='color:green;font-weight:bold'}> Click here to see solution to Task. </summary>\n",
    "    \n",
    "```python\n",
    "\n",
    "#generating an array\n",
    "x = np.linspace(-10, 10, 21) \n",
    "y = x**2\n",
    "\n",
    "#plotting with x in a named colour, connected by a dotted line of a declared width\n",
    "plt.plot(x, y, 'x:', color='tomato', linewidth='1.5') \n",
    "\n",
    "#adding labens\n",
    "plt.xlabel('x')\n",
    "plt.ylabel('y')\n",
    "plt.title('my plot $y=x^2$')\n",
    "\n",
    "plt.show()\n",
    "\n",
    "```\n",
    "\n",
    "</details>"
   ]
  },
  {
   "cell_type": "markdown",
   "metadata": {},
   "source": [
    "<div class=\"alert alert-success\">\n",
    "    <b>Task 1.2 </b> : The file <code>data/water.xyz</code> contains a cluster of ice, i.e. many water molecules in a solid state. It has the <code>xyz</code> -file format and below is some help given how to read data from the file. \n",
    "</div>\n",
    "\n",
    "1. Take a look at how the file is read and make sure you understand it. This is one example way of reading this file. There are many other options too.   \n",
    "2. Compute the angle of each water molecule using the function defined above and append each angle to a list of angles.      \n",
    "3. Plot a distribution of from the list of angles and report its mean and standard deviation.     \n"
   ]
  },
  {
   "cell_type": "code",
   "execution_count": null,
   "metadata": {},
   "outputs": [],
   "source": [
    "# Have a look at the data file first\n",
    "!head data/water.xyz"
   ]
  },
  {
   "cell_type": "code",
   "execution_count": null,
   "metadata": {},
   "outputs": [],
   "source": [
    "# reading the data in\n",
    "# This generates a numpy array with the coordinates\n",
    "data = np.genfromtxt('data/water.xyz', skip_header=1, usecols=[1,2,3])\n",
    "# We don't want to use the first row and the first column this is what skup_header and use_cols does\n",
    "\n",
    "# now we loop over this in threes to group the molecules together:\n",
    "water_molecules = []\n",
    "for i in range(0,len(data),3):\n",
    "    # This selects each water molecule\n",
    "    water_molecule = data[i:i+3]\n",
    "    # Uncomment this line to see what is happening in detail\n",
    "    # print(water_molecule)\n",
    "    water_molecules.append(water_molecule)\n",
    "print(f'We have {len(water_molecules)} water molecules in our file.')"
   ]
  },
  {
   "cell_type": "code",
   "execution_count": null,
   "metadata": {},
   "outputs": [],
   "source": [
    "# Solution to task here:\n",
    "\n"
   ]
  },
  {
   "cell_type": "markdown",
   "metadata": {},
   "source": [
    "<details><summary {style='color:green;font-weight:bold'}> Click here to see solution to Task. </summary>\n",
    "    \n",
    "```python\n",
    "\n",
    "#subtask 2\n",
    "# computing angle\n",
    "angles = []\n",
    "for water in water_molecules:\n",
    "    angle = compute_angle_water(water[0], water[1], water[2])\n",
    "    angles.append(angle)\n",
    "    \n",
    "#subtask 3\n",
    "# plotting the distribution\n",
    "plt.hist(angles, bins=30)\n",
    "plt.xlabel('angle in degree')\n",
    "plt.ylabel('Count')\n",
    "\n",
    "print(f'The mean is {np.mean(angles):.2f}')\n",
    "print(f'The standard deviation is {np.std(angles):.2f}')\n",
    "\n",
    "```\n",
    "\n",
    "</details>"
   ]
  },
  {
   "cell_type": "markdown",
   "metadata": {},
   "source": [
    "<div class=\"alert alert-success\">\n",
    "    <b>Task 1.3 </b> : Working with data. Use the file <code>data/anscombes_quartet.dat</code>. This file is a tab delimiter file with 8 columns. The first and second columns make up one data set, the second and third the next one, and so forth.\n",
    "</div>\n",
    "\n",
    "1. Read the data into a pandas dataframe,    \n",
    "2. Create four subplots of the data,       \n",
    "3. Answer the mentimeter question.      \n"
   ]
  },
  {
   "cell_type": "code",
   "execution_count": null,
   "metadata": {},
   "outputs": [],
   "source": [
    "# Task 3: Test out the solution in this cell:\n",
    "\n",
    "#An example of naming the columns of the file\n",
    "colnames=['X1', 'Y1', 'X2', 'Y2', 'X3', 'Y3', 'X4', 'Y4']\n",
    "\n",
    "data = pd.read_csv(# Your code here\n",
    "                   skiprows=2, names=colnames)\n",
    "\n",
    "# Setup your 4 subplots\n",
    "fig, axs = plt.subplots(2, 2)\n",
    "\n",
    "# Set the figure size\n",
    "fig.set_figwidth(8)\n",
    "fig.set_figheight(8)\n",
    "\n",
    "# add data to plot\n",
    "axs[0, 0].scatter(data['X1'], data['Y1'])\n",
    "# ...\n",
    "# ...\n",
    "\n",
    "# make sure it is labelled\n",
    "for ax in axs.flat:\n",
    "    ax.set(xlabel='x-data', ylabel='y-data')\n",
    "    \n",
    "for ax in axs.flat:\n",
    "    ax.label_outer()\n",
    "\n",
    "# Set the ranges of all axes\n",
    "plt.setp(ax, xlim=(4,20), ylim=(3,13))"
   ]
  },
  {
   "cell_type": "markdown",
   "metadata": {},
   "source": [
    "<details><summary {style='color:green;font-weight:bold'}> Click here to see solution to Task. </summary>\n",
    "    \n",
    "```python\n",
    "\n",
    "# Loading the dataset\n",
    "colnames=['X1', 'Y1', 'X2', 'Y2', 'X3', 'Y3', 'X4', 'Y4']\n",
    "data = pd.read_csv('data/anscombes_quartet.dat', delimiter='\\t', skiprows=2, names=colnames)\n",
    "\n",
    "# Setup your 4 subplots\n",
    "fig, axs = plt.subplots(2, 2)\n",
    "fig.set_figwidth(8)\n",
    "fig.set_figheight(8)\n",
    "\n",
    "# add data to plot\n",
    "axs[0, 0].scatter(data['X1'], data['Y1'])\n",
    "axs[0, 1].scatter(data['X2'], data['Y2'])\n",
    "axs[1, 0].scatter(data['X3'], data['Y3'])\n",
    "axs[1, 1].scatter(data['X4'], data['Y4'])\n",
    "\n",
    "# make sure it is lablled\n",
    "for ax in axs.flat:\n",
    "    ax.set(xlabel='x-data', ylabel='y-data')\n",
    "    \n",
    "for ax in axs.flat:\n",
    "    ax.label_outer()\n",
    "\n",
    "# Setting the values for all axes.\n",
    "plt.setp(ax, xlim=(4,20), ylim=(3,13))\n",
    "\n",
    "```\n",
    "\n",
    "</details>"
   ]
  },
  {
   "cell_type": "markdown",
   "metadata": {},
   "source": [
    "Data is said to be **perfectly correlated**, if all points fall onto a straight line that is $x=y$. Take a look at your data: which of the four plots do you think is the most correlated?"
   ]
  },
  {
   "cell_type": "code",
   "execution_count": null,
   "metadata": {},
   "outputs": [],
   "source": [
    "Mentimeter(vote = 'https://www.menti.com/alr8x73cpd77').show()"
   ]
  },
  {
   "cell_type": "markdown",
   "metadata": {},
   "source": [
    "<div class=\"alert alert-info\">\n",
    "    <b>Task 4 (advanced) </b> : Working with data. Use the file <code>data/ramachandran.dat</code>. It contains dihedral angles of the backbone of a protein in two columns. Column 1 is the $\\phi$ angle and column 2 the $\\psi$ angle. To find out more about Ramachandran diagrams take a look <a href=\"https://en.wikipedia.org/wiki/Ramachandran_plot\">here</a>, and for more on dihedral angles see <a href=\"https://en.wikipedia.org/wiki/Dihedral_angle\">here</a>. \n",
    "<p>1. Read the data into a pandas dataframe,  </p>  \n",
    "<p>2. Create a single plot that is a 2D density map of $\\phi$ against $\\psi$,  </p>\n",
    "<p>3. Make sure your plot is labelled correctly and displays a colour bar!   </p>   \n",
    "</div>"
   ]
  },
  {
   "cell_type": "code",
   "execution_count": null,
   "metadata": {},
   "outputs": [],
   "source": [
    "# Task 4: Test out the solution in this cell:\n",
    "\n"
   ]
  },
  {
   "cell_type": "markdown",
   "metadata": {},
   "source": [
    "# 2. Computing correlations\n",
    "<a id='Correlation'></a>"
   ]
  },
  {
   "cell_type": "markdown",
   "metadata": {},
   "source": [
    "## Reminder: mean $\\mu$ and standard deviation $\\sigma$\n",
    "\n",
    "The **mean** $\\mu$ is given by:\n",
    "\n",
    "\\begin{equation}\n",
    "\\mu = \\frac{1}{N} \\sum_i^N x_i ,\n",
    "\\end{equation}\n",
    "\n",
    "where $N$ is a number of samples, as as they increase the mean becomes closer to the 'true' value. \n",
    "\n",
    "\n",
    "```python\n",
    "mu = np.sum(x) / len(x)\n",
    "```\n",
    "\n",
    "or as a `np.mean(x)`.\n",
    "\n",
    "_Note:_ **Median** is a middle value separating the greater and lesser halves of a data set, since the normal distribution is symmetric, mean and median are equivalent. \n",
    "\n",
    "\n",
    "\n",
    "The **standard deviation** (STD), $\\sigma$ quantifies how much the numbers in our set deviate from the mean, $\\mu$\n",
    "\n",
    "\\begin{equation}\n",
    "\\sigma = \\sqrt{\\frac{1}{N}\\sum_{i=1}^N(x_i-\\mu)^2}.\n",
    "\\end{equation}\n",
    "\n",
    "it can be written as:\n",
    "\n",
    "```python\n",
    "sigma = np.sqrt( np.sum( ( x - np.mean(x))**2 ) / len(x) )\n",
    "```\n",
    "\n",
    "or as `np.std(x)`.\n",
    "\n",
    "\n",
    "\n",
    "On a **normal distribution** the values that are less than 1 $\\sigma$ away from the mean, $\\mu$, will account for the 68.27% of the set - this is our **confidence interval**\n",
    "\n",
    "<img src=\"images/NormalDist.png\" width=\"500\">\n",
    "\n"
   ]
  },
  {
   "cell_type": "markdown",
   "metadata": {},
   "source": [
    "## 2.1. Pearson's correlation coefficient\n",
    "<a id='pearson'></a>"
   ]
  },
  {
   "cell_type": "markdown",
   "metadata": {},
   "source": [
    "One way of quantifying the correlation between two datasets is to compute their **Pearson correlation coefficient $R$**. \n",
    "- If $R$ it is 1, or close to 1 the data is highly correlated, \n",
    "- around 0 the data is not correlated  \n",
    "- when it is close to -1 the data is anticorrelated."
   ]
  },
  {
   "cell_type": "markdown",
   "metadata": {},
   "source": [
    "Mathematically the correlation coefficient is defined as:\n",
    "\n",
    "$R = \\frac{\\langle(X-\\mu_X)(Y-\\mu_Y)\\rangle}{\\sigma_X\\sigma_Y}$,\n",
    "\n",
    "where $\\sigma$ is the standard deviation of the data set $X$ or $Y$ and the symbol $\\langle \\cdot \\rangle$ denotes computing the mean of the quantities inside the angular bracket."
   ]
  },
  {
   "cell_type": "markdown",
   "metadata": {},
   "source": [
    "The equation contains exactly what you learned last week!"
   ]
  },
  {
   "cell_type": "markdown",
   "metadata": {},
   "source": [
    "Can you think of examples of correlated data?"
   ]
  },
  {
   "cell_type": "code",
   "execution_count": null,
   "metadata": {},
   "outputs": [],
   "source": [
    "# Mentimeter wordcloud\n",
    "Mentimeter(vote='https://www.menti.com/alrkms7ko5ap').show()"
   ]
  },
  {
   "cell_type": "code",
   "execution_count": null,
   "metadata": {},
   "outputs": [],
   "source": [
    "Mentimeter(result='https://www.mentimeter.com/app/presentation/alvhzfdayjzxnd5detr24zse7jq15wur').show()"
   ]
  },
  {
   "cell_type": "markdown",
   "metadata": {},
   "source": [
    "## Tasks 2"
   ]
  },
  {
   "cell_type": "markdown",
   "metadata": {},
   "source": [
    "<div class=\"alert alert-success\">\n",
    "    <b>Task 2.1 </b> : Write a function that computes the Pearson correlation coefficient between two datasets, making use of the numpy functions <code>np.mean()</code> and <code>np.std()</code> to compute the mean and standard deviation.\n",
    "</div>"
   ]
  },
  {
   "cell_type": "code",
   "execution_count": null,
   "metadata": {},
   "outputs": [],
   "source": [
    "X = 20 * np.random.randn(1000) + 100\n",
    "Y = X + (10 * np.random.randn(1000) + 50)"
   ]
  },
  {
   "cell_type": "code",
   "execution_count": null,
   "metadata": {},
   "outputs": [],
   "source": [
    "# Task 1: Test out the solution in this cell:\n",
    "def compute_pearson_r(X, Y):\n",
    "    r''' function that computes the Pearson correlation coefficient\n",
    "    Parameters\n",
    "    ----------\n",
    "    Computes the correlation between X and Y\n",
    "    \n",
    "    X : 1-d numpy array\n",
    "        dataset 1\n",
    "    Y : 1-d numpy array\n",
    "        dataset 2\n",
    "        \n",
    "    Returns:\n",
    "    --------\n",
    "    R : float\n",
    "        value of pearson R\n",
    "    '''\n",
    "    \n",
    "    R = None\n",
    "    # Your code here\n",
    "    \n",
    "    \n",
    "    return R"
   ]
  },
  {
   "cell_type": "markdown",
   "metadata": {},
   "source": [
    "<details><summary {style='color:green;font-weight:bold'}> Click here to see solution to Task. </summary>\n",
    "    \n",
    "```python\n",
    "\n",
    "\n",
    "def compute_pearson_r(X,Y):\n",
    "    r''' function that computes the Pearson correlation coefficient\n",
    "    Parameters\n",
    "    ----------\n",
    "    Computes the correlation between X and Y\n",
    "    \n",
    "    X : 1-d numpy array\n",
    "        dataset 1\n",
    "    Y : 1-d numpy array\n",
    "        dataset 2\n",
    "        \n",
    "    Returns:\n",
    "    --------\n",
    "    R : float\n",
    "        value of pearson R\n",
    "    '''\n",
    "    \n",
    "    R = None\n",
    "    mean_x = np.mean(X)\n",
    "    mean_y = np.mean(Y)\n",
    "    std_x = np.std(X)\n",
    "    std_y = np.std(Y)\n",
    "    covariance = np.mean((X-mean_x)*(Y-mean_y))\n",
    "    R = covariance/(std_x*std_y)\n",
    "    \n",
    "    return R\n",
    "\n",
    "```\n",
    "\n",
    "</details>"
   ]
  },
  {
   "cell_type": "markdown",
   "metadata": {},
   "source": [
    "<div class=\"alert alert-success\">\n",
    "    <b>Task 2.2 </b> : Does your function work correctly? Check if you get the same answers as from the built-in function <code>pearsonr</code> in the <code>scipy.stats</code> package. \n",
    "</div>"
   ]
  },
  {
   "cell_type": "code",
   "execution_count": null,
   "metadata": {},
   "outputs": [],
   "source": [
    "from scipy.stats import pearsonr\n",
    "# you use pearson are from the scipy.stats package in the following way:\n",
    "\n",
    "# pearsonr(dataset1, dataset2)[0]\n",
    "# Check what happens when you remove the [0] at the end and print the output. "
   ]
  },
  {
   "cell_type": "code",
   "execution_count": null,
   "metadata": {},
   "outputs": [],
   "source": [
    "# Task 2: Test out the solution in this cell:\n"
   ]
  },
  {
   "cell_type": "markdown",
   "metadata": {},
   "source": [
    "<details><summary {style='color:green;font-weight:bold'}> Click here to see solution to Task. </summary>\n",
    "    \n",
    "```python\n",
    "\n",
    "pearson1 = pearsonr(X, Y)[0]\n",
    "pearson2 = compute_pearson_r(X, Y)\n",
    "print(pearson1, pearson2)\n",
    "\n",
    "```\n",
    "\n",
    "</details>"
   ]
  },
  {
   "cell_type": "markdown",
   "metadata": {},
   "source": [
    "<div class=\"alert alert-success\">\n",
    "    <b>Task 2.3 </b> : Compute the correlation coefficient of all 4 datasets of the Anscombe's quartet. What do you observe?\n",
    "</div>"
   ]
  },
  {
   "cell_type": "code",
   "execution_count": null,
   "metadata": {},
   "outputs": [],
   "source": [
    "# Task 3: Test out the solution in this cell:\n"
   ]
  },
  {
   "cell_type": "markdown",
   "metadata": {},
   "source": [
    "<details><summary {style='color:green;font-weight:bold'}> Click here to see solution to Task. </summary>\n",
    "\n",
    "```Python\n",
    "pearson1 = pearsonr(data['X1'], data['Y1'])[0]\n",
    "pearson2 = pearsonr(data['X2'], data['Y2'])[0]\n",
    "pearson3 = pearsonr(data['X3'], data['Y3'])[0]\n",
    "pearson4 = pearsonr(data['X4'], data['Y4'])[0]\n",
    "print(f'{pearson1}\\n{pearson2}\\n{pearson3}\\n{pearson4}')\n",
    "```\n",
    "\n",
    "</details>"
   ]
  },
  {
   "cell_type": "markdown",
   "metadata": {},
   "source": [
    "## 2.2. Spearman's Rank Correlation coefficient\n",
    "<a id='spearman'></a>\n",
    "There are other ways of measuring correlation. Take a look at the documentation of the Spearman rank correlation coefficient in the scipy package [here](https://docs.scipy.org/doc/scipy/reference/generated/scipy.stats.spearmanr.html) and a bit more background on it [here](https://en.wikipedia.org/wiki/Spearman%27s_rank_correlation_coefficient). "
   ]
  },
  {
   "cell_type": "markdown",
   "metadata": {},
   "source": [
    "<div class=\"alert alert-info\">\n",
    "    <b>Task 2.4 (advanced) </b> : Compute the Spearman's rank correlation coefficient for the Anscombe's quartet. "
   ]
  },
  {
   "cell_type": "code",
   "execution_count": null,
   "metadata": {},
   "outputs": [],
   "source": [
    "# Task 4: Test out the solution in this cell:\n"
   ]
  },
  {
   "cell_type": "markdown",
   "metadata": {},
   "source": [
    "<details><summary {style='color:green;font-weight:bold'}> Click here to see solution to Task. </summary>\n",
    "\n",
    "```Python\n",
    "from scipy.stats import spearmanr\n",
    "    \n",
    "spearman1 = spearmanr(data['X1'], data['Y1'])[0]\n",
    "spearman2 = spearmanr(data['X2'], data['Y2'])[0]\n",
    "spearman3 = spearmanr(data['X3'], data['Y3'])[0]\n",
    "spearman4 = spearmanr(data['X4'], data['Y4'])[0]\n",
    "print(f'{spearman1}\\n{spearman2}\\n{spearman3}\\n{spearman4}')\n",
    "```\n",
    "\n"
   ]
  },
  {
   "cell_type": "markdown",
   "metadata": {},
   "source": [
    "# Break\n",
    "<img src=\"images/break.png\" alt=\"drawing\" width=\"200\"/>"
   ]
  },
  {
   "cell_type": "markdown",
   "metadata": {},
   "source": [
    "# 3. Finding the line of best fit between two sets of data points\n",
    "<a id='minimization'></a>"
   ]
  },
  {
   "cell_type": "markdown",
   "metadata": {},
   "source": [
    "From the Anscombe's quartet we have learned that the correlation coefficient alone will not tell us everything about the data. \n",
    "- how many data points are we correlating?\n",
    "- Are there any outliers?\n",
    "- What is the best fitting line that goes through the data?"
   ]
  },
  {
   "cell_type": "markdown",
   "metadata": {},
   "source": [
    "## Reminder: functions and graphs\n",
    "\n",
    "Plots usually show the relationship between two related values, one (or more) independent variable(s), and a dependent variable one. In an experiment:\n",
    "- Independent variables (often denoted $x$) are measurable and unaffected by the value of other variables\n",
    "- Dependent variables (often denoted $y$) have values that are affected by the value of independent variables\n",
    "\n",
    "Mathematically one can say: $y = \\mathrm{function}(x)$, or $y = f(x)$."
   ]
  },
  {
   "cell_type": "markdown",
   "metadata": {},
   "source": [
    "#### Typical functions in chemistry\n",
    "1. Linear function: $y=mx+b$\n",
    "2. Polynomial functions: $y=ax^n+bx^m+c$\n",
    "2. Power Function: $y=ax^m$   \n",
    "Power functions can be linear, when taking the logarithm. Remember:\n",
    "$\\log y = m \\log x + \\log a$\n",
    "3. Exponential functions: $y=ae^{mx}$   \n",
    "Exponential functions are linear for a plot of the natural logarithm of the dependent variable against the independent variable: $\\ln y = mx+\\ln a$"
   ]
  },
  {
   "cell_type": "markdown",
   "metadata": {},
   "source": [
    "#### Example: Solubility of sodium chloride\n",
    "The maximum amont of sodium chloride you can dissolve in water will change as a function of temperature. The file <code>sodium_data.dat</code> contains some measurements by a student raising water temperature from 0$^\\circ$C to 100$^\\circ$C.\n",
    "For example, if you have 26.1 g of salt it will dissolve in 100 g of water at 20$^\\circ$C, but if you add another 2 g the remaining salt will just stay solid. However, at 70$^\\circ$C the additional 2 g will also dissolve. Solubility is the dependent variable, as it depends on the independent variable temperature. \n",
    "\n",
    "The independent variable is often plotted along the x-axis and the dependent variable along the y-axis. "
   ]
  },
  {
   "cell_type": "code",
   "execution_count": null,
   "metadata": {},
   "outputs": [],
   "source": [
    " data = pd.read_csv('data/sodium_data.dat', delimiter='\\t')"
   ]
  },
  {
   "cell_type": "code",
   "execution_count": null,
   "metadata": {},
   "outputs": [],
   "source": [
    "## Plot the data here, and answer the question below\n"
   ]
  },
  {
   "cell_type": "markdown",
   "metadata": {},
   "source": [
    "<details><summary {style='color:green;font-weight:bold'}> Click here to see the solution. </summary>\n",
    "\n",
    "```Python\n",
    "temp = data['temperature/C']\n",
    "solubility = data['solubility/g NaCl/100g water']\n",
    "plt.plot(temp,solubility)\n",
    "plt.xlabel('temperature/C')\n",
    "plt.ylabel('solubility/g')\n",
    "```\n",
    "\n"
   ]
  },
  {
   "cell_type": "code",
   "execution_count": null,
   "metadata": {},
   "outputs": [],
   "source": [
    "Mentimeter(vote=\"https://www.menti.com/al8svn8ad9as\").show()"
   ]
  },
  {
   "cell_type": "code",
   "execution_count": null,
   "metadata": {},
   "outputs": [],
   "source": [
    "Mentimeter(result=\"https://www.mentimeter.com/app/presentation/al44gz6x2z8hwd19stuxngoukg88sss3\").show()"
   ]
  },
  {
   "cell_type": "markdown",
   "metadata": {},
   "source": [
    "## Mean Square Error (MSE)"
   ]
  },
  {
   "cell_type": "markdown",
   "metadata": {},
   "source": [
    "How do we find a line of best fit through our data?\n",
    "1. ~~Eyeball it by hand~~\n",
    "2. Programmatically\n",
    "\n",
    "To find the best fit, the computer needs to be able to quantify how well a line fits the data."
   ]
  },
  {
   "cell_type": "markdown",
   "metadata": {
    "slideshow": {
     "slide_type": "slide"
    }
   },
   "source": [
    "As an example, let's take some scattered data (green points below). We want to fit a linear model (blue line) through them. By eye, we can see that a line at $y = 0$ does not fit the data well. \n",
    "<img src=\"images/scatter_data.png\" alt=\"drawing\" width=\"300\"/>"
   ]
  },
  {
   "cell_type": "markdown",
   "metadata": {
    "slideshow": {
     "slide_type": "slide"
    }
   },
   "source": [
    "Each green point is located at a certain distance from the blue line. We call this distance a **residual**. A good fit leads to small residuals.\n",
    "<img src=\"images/initial_guess.png\" alt=\"drawing\" width=\"300\"/>"
   ]
  },
  {
   "cell_type": "markdown",
   "metadata": {
    "slideshow": {
     "slide_type": "slide"
    }
   },
   "source": [
    "We can quantify how well a line fits the data by calculating the **Mean square error (MSE)**. The MSE is a *second order polynomial* is defined as:\n",
    "\n",
    "$\\mathrm{MSE} = \\frac{1}{n}\\sum(Y_i - \\hat Y_i)^2$\n",
    "\n",
    "$n$ is the number of data points,   \n",
    "$Y_i$ is the observed value (i.e. the measured data point),   \n",
    "$\\hat Y_i$ is the predicted value (i.e. the value that lies on the line of best fit).   "
   ]
  },
  {
   "cell_type": "markdown",
   "metadata": {
    "slideshow": {
     "slide_type": "slide"
    }
   },
   "source": [
    "To find the line of best fit, we need to find which combination of its parameters (for a linear function, slope and intercept) leads to the smallest MSE.\n",
    "\n",
    "<img src=\"images/best_fit_loss.png\" alt=\"drawing\" width=\"300\"/>\n",
    "\n",
    " How do we minimise a function again?"
   ]
  },
  {
   "cell_type": "markdown",
   "metadata": {},
   "source": [
    "## 3.1. Finding the minimum of a function\n",
    "<a id='optimization'></a>"
   ]
  },
  {
   "cell_type": "markdown",
   "metadata": {},
   "source": [
    "To remind ourselves of how the minimum of a function can be found, we will take as example a diatomic molecule, e.g. $O_2$.\n",
    "We can model the bond between the two atoms as a harmonic oscillator (i.e. a spring): $y=a(x+b)^2$."
   ]
  },
  {
   "cell_type": "markdown",
   "metadata": {
    "slideshow": {
     "slide_type": "slide"
    }
   },
   "source": [
    "### Tasks 3"
   ]
  },
  {
   "cell_type": "markdown",
   "metadata": {},
   "source": [
    "<div class=\"alert alert-success\">\n",
    "    <b>Task 3.1 </b> : Find the minimum of $f(r) = 0.5(r -2)^2$ manually.  \n",
    "</div>"
   ]
  },
  {
   "cell_type": "markdown",
   "metadata": {},
   "source": [
    "<details><summary {style='color:green;font-weight:bold'}> Click here to see solution to Task. </summary>\n",
    "\n",
    "We start with the first order derivative of the function\n",
    "$f'(r) = 2/2(r-2)^1(1) = (r-2)$\n",
    "\n",
    "In order to find the minimum we set the first order derivative to zero\n",
    "$f'(r) = 0 = r-2$\n",
    "\n",
    "And we solve for r:\n",
    "The minimum can be found at $r=2$\n",
    "\n",
    "</details>"
   ]
  },
  {
   "cell_type": "markdown",
   "metadata": {},
   "source": [
    "<div class=\"alert alert-success\">\n",
    "    <b>Task 3.2 </b> : Find the minimum of $f(r) = 0.5(r -2)^2$ by using <code>scipy.optimize.minimize<code>\n",
    "</div>\n",
    "\n",
    "You can find more information on the minimize function in the documentation [here](https://docs.scipy.org/doc/scipy/reference/generated/scipy.optimize.minimize.html). Let's arbitrarily choose an initial guess of $r = 4$, and use the minimize function. What do the outputs mean? Does the output change based on the solver method used? Can you also plot the function?\n",
    "\n",
    "*Hint*: Start by writing a function `def f(r)` defining our harmonic oscillator."
   ]
  },
  {
   "cell_type": "code",
   "execution_count": null,
   "metadata": {},
   "outputs": [],
   "source": [
    "# Task 2: Test out the solution in this cell:\n",
    "def f(r):\n",
    "    #Fix me\n",
    "\n",
    "# create and array using np.arange with 100 values from -10 to 10. \n",
    "r = \n",
    "\n",
    "# plot the function r v. f(r)\n",
    "\n",
    "# use optimise.minimize to find the minimum\n",
    "\n",
    "# what happens if you use a different starting point? Try a different optimizer? \n",
    "\n"
   ]
  },
  {
   "cell_type": "markdown",
   "metadata": {},
   "source": [
    "<details><summary {style='color:green;font-weight:bold'}> Click here to see solution to Task. </summary>\n",
    "    \n",
    "```python\n",
    "from scipy import optimize\n",
    "def f(r):\n",
    "    return 0.5*(r-2)**2\n",
    "\n",
    "# defining the r values\n",
    "r = np.arange(-10,10,0.1)\n",
    "plt.plot(r, f(r))\n",
    "print(optimize.minimize(f, x0=4))\n",
    "\n",
    "# Trying with a different method and starting point\n",
    "print(optimize.minimize(f, x0=7, method=\"L-BFGS-B\"))\n",
    "\n",
    "```\n",
    "</details>\n",
    "\n"
   ]
  },
  {
   "cell_type": "markdown",
   "metadata": {},
   "source": [
    "<div class=\"alert alert-info\">\n",
    "    <b>Task 3.3 (advanced) </b> : Find the minimum of $f(x) = x^4+x^3-6x^2$ by using <code>scipy.optimize.minimize</code>. Try different starting points and plot the function!\n",
    "</div>"
   ]
  },
  {
   "cell_type": "code",
   "execution_count": null,
   "metadata": {},
   "outputs": [],
   "source": [
    "# Your code here\n"
   ]
  },
  {
   "cell_type": "markdown",
   "metadata": {},
   "source": [
    "<details><summary {style='color:green;font-weight:bold'}> Click here to see solution to Task. </summary>\n",
    "\n",
    "```Python\n",
    "    \n",
    "from scipy import optimize\n",
    "def f(x):\n",
    "    return np.power(x,4)+np.power(x,3)-6*x**2\n",
    "\n",
    "# defining the r values\n",
    "r = np.arange(-4.1,3.7,0.1)\n",
    "plt.plot(r, f(r))\n",
    "print(optimize.minimize(f, x0=4))\n",
    "\n",
    "# Trying with a different method and starting point\n",
    "print(optimize.minimize(f, x0=7, method=\"L-BFGS-B\"))    \n",
    "```"
   ]
  },
  {
   "cell_type": "markdown",
   "metadata": {},
   "source": [
    "## 3.2. Line of best fit and residuals\n",
    "\n",
    "<a id='residuals'></a>\n",
    "\n",
    "Take a look at the [linregress](https://docs.scipy.org/doc/scipy/reference/generated/scipy.stats.linregress.html) function in scipy. It will allow you to find the line of best fit."
   ]
  },
  {
   "cell_type": "markdown",
   "metadata": {},
   "source": [
    "In order to find the line of best fit, we need to find the minimum of the $\\mathrm{MSE}$ function, but it is now give by $\\mathrm{MSE}=\\frac{1}{n}\\sum(Y_i-\\hat Y_i)^2$. Now the issue that this function does not depend on a single data point Y anymore but many $Y$s! You can think of it graphically. You are trying to minimize the area of squares around your residuals. \n",
    "\n",
    "You can use linear least squares if your model parameters combine linearly. \n",
    "\n",
    "<img src=\"images/least_square_bad.jpg\" alt=\"drawing\" width=\"300\"/>\n",
    "\n",
    "Then the best line will have the smallest area of all squares of your residuals:\n",
    "\n",
    "<img src=\"images/least_square.jpg\" alt=\"drawing\" width=\"300\"/>"
   ]
  },
  {
   "cell_type": "markdown",
   "metadata": {},
   "source": [
    "## Tasks 4"
   ]
  },
  {
   "cell_type": "markdown",
   "metadata": {},
   "source": [
    "<div class=\"alert alert-success\">\n",
    "    <b>Task 4.1 </b> : Discuss how you would try and find the line of best fit algorithmically.   \n",
    "</div>"
   ]
  },
  {
   "cell_type": "markdown",
   "metadata": {},
   "source": [
    "<details>\n",
    "<summary> <mark> Mathematical background:</mark> </summary>\n",
    "    \n",
    "There are many different algorithms for this problem. If you have linear data and your problem is overdetermined the analytical solution of using linear least squares, will be the best.     \n",
    "https://en.wikipedia.org/wiki/Least_squares   \n",
    "https://www.youtube.com/watch?v=YwZYSTQs-Hk\n",
    "\n",
    "</details>\n"
   ]
  },
  {
   "cell_type": "markdown",
   "metadata": {},
   "source": [
    "<div class=\"alert alert-success\">\n",
    "    <b>Task 4.2 </b> : Compute the line of best fit using the <code>linregress</code> function in <code>scipy.stats</code> for the solvation data of NaCl? \n",
    "</div>"
   ]
  },
  {
   "cell_type": "code",
   "execution_count": null,
   "metadata": {},
   "outputs": [],
   "source": [
    "# Your code here\n"
   ]
  },
  {
   "cell_type": "markdown",
   "metadata": {},
   "source": [
    "<details><summary {style='color:green;font-weight:bold'}> Click here to see solution to Task. </summary>\n",
    "    \n",
    "```python\n",
    "from scipy import stats\n",
    "data = pd.read_csv('data/sodium_data.dat', delimiter='\\t')\n",
    "temp = data.iloc[:, 1].to_list()\n",
    "solubility = data.iloc[:, 2].to_list()\n",
    "res = stats.linregress(temp,solubility)\n",
    "\n",
    "```\n",
    "\n",
    "</details>"
   ]
  },
  {
   "cell_type": "markdown",
   "metadata": {},
   "source": [
    "<div class=\"alert alert-success\">\n",
    "    <b>Task 4.3 </b> : Plot your line of best fit, the data and a histogram of residuals. \n",
    "</div>"
   ]
  },
  {
   "cell_type": "code",
   "execution_count": null,
   "metadata": {},
   "outputs": [],
   "source": [
    "# Your code here\n"
   ]
  },
  {
   "cell_type": "markdown",
   "metadata": {},
   "source": [
    "<details>\n",
    " <summary {style='color:green;font-weight:bold'}> SOLUTION plotting fit line: </summary>\n",
    "    \n",
    "```python\n",
    "\n",
    "# plotting the line of best fit\n",
    "plt.plot(temp, solubility, 'o', label='solubility data')\n",
    "plt.plot(np.array(temp), res.intercept + res.slope*np.array(temp), 'r', label='fitted line')\n",
    "plt.legend()\n",
    "plt.xlabel('Temperature/$^{\\circ}$C')\n",
    "plt.ylabel('Solubility/mole/l')\n",
    "    \n",
    "```\n",
    "\n",
    "</details>"
   ]
  },
  {
   "cell_type": "markdown",
   "metadata": {},
   "source": [
    "<details>\n",
    "<summary {style='color:green;font-weight:bold'}> SOLUTION plotting residuals: </summary>\n",
    "    \n",
    "```python\n",
    "# plotting the residuals\n",
    "residual = solubility -(res.intercept + res.slope*np.array(temp))\n",
    "plt.plot(temp,residual, 'o', color='darkblue')\n",
    "plt.title(\"Residual Plot\")\n",
    "plt.xlabel(\"Independent Variable\")\n",
    "plt.ylabel(\"Residual\")\n",
    "```\n",
    "\n",
    "</details>"
   ]
  },
  {
   "cell_type": "markdown",
   "metadata": {},
   "source": [
    "<details>\n",
    "<summary {style='color:green;font-weight:bold'}> SOLUTION plotting histogram of residuals: </summary>\n",
    "    \n",
    "```python\n",
    "# plotting the residuals\n",
    "histogram = plt.hist(residual, bins=20)\n",
    "plt.xlabel('Residual')\n",
    "plt.ylabel('Frequency of Residual')\n",
    "```\n",
    "\n",
    "</details>"
   ]
  },
  {
   "cell_type": "markdown",
   "metadata": {},
   "source": [
    "#### Sanity checking your linear regression"
   ]
  },
  {
   "cell_type": "markdown",
   "metadata": {},
   "source": [
    "When looking at the distribution of residuals you expect them to be Normally distributed. This basically means that the regression model (your line of best fit) should be randomly better or worse for certain data points making the right prediction. You can check this by plotting a histogram of your residuals. Your data behaves as expected if the distribution follows a normal distribution. For more analysis you can do on your regression fit see [here](https://www.itl.nist.gov/div898/handbook/pri/section2/pri24.htm)."
   ]
  },
  {
   "cell_type": "markdown",
   "metadata": {},
   "source": [
    "## 3.3. Fitting a non-linear function\n",
    "<a id='advanced_fitting_exponential'></a>"
   ]
  },
  {
   "cell_type": "markdown",
   "metadata": {
    "slideshow": {
     "slide_type": "slide"
    }
   },
   "source": [
    "The time a drug will survive in the body can often be described by a single exponential process similar to $C(t) = C(0)\\exp(-kt)$, where k is the reaction constant and $C(t)$ the concentration of e.g. a drug in the blood after time $t$. Let's look at an example measurement of concentrations over time and see if we can determine the reaction rate $k$."
   ]
  },
  {
   "cell_type": "code",
   "execution_count": null,
   "metadata": {},
   "outputs": [],
   "source": [
    "## Loading the data\n",
    "exp_data = pd.read_csv('data/drug_concentration.txt', delimiter='\\t')"
   ]
  },
  {
   "cell_type": "code",
   "execution_count": null,
   "metadata": {},
   "outputs": [],
   "source": [
    "time = exp_data.iloc[:, 1].to_list()\n",
    "concentration = exp_data.iloc[:, 2].to_list()\n",
    "plt.scatter(time, concentration)\n",
    "plt.xlabel('time')\n",
    "plt.ylabel('Concentration')"
   ]
  },
  {
   "cell_type": "markdown",
   "metadata": {},
   "source": [
    "#### Defining a fitting function\n",
    "We need to define the type of function we want to fit. The data looks like an exponential decay, so we can define an exponential function to be fitted. Using the definition from before, $f(x) = a\\exp(kx)+b$, we can determine the rate constant from the fit. \n"
   ]
  },
  {
   "cell_type": "code",
   "execution_count": null,
   "metadata": {},
   "outputs": [],
   "source": [
    "def exp_func(x, a, k, b):\n",
    "    return a*np.exp(x*k) + b"
   ]
  },
  {
   "cell_type": "markdown",
   "metadata": {},
   "source": [
    "#### Initial guesses\n",
    "Just like for the linear regression we previously saw, we will need to give the function that will allow us to fit this exponential curve guesses for the initial parameters. Now we don't just have $x_0$, but inital guesses for the three parameters $a$, $k$ and $b$. This can be defined as an array!\n",
    "\n",
    "The actual curve fitting is done with the `scipy.optimize.curve_fit` function. Take a look at the documentation [here](https://docs.scipy.org/doc/scipy/reference/generated/scipy.optimize.curve_fit.html)."
   ]
  },
  {
   "cell_type": "code",
   "execution_count": null,
   "metadata": {},
   "outputs": [],
   "source": [
    "import scipy.optimize\n",
    "# using the scipy library to fit the x- and y-axis data \n",
    "# p0 is where you give the function guesses for the fitting parameters\n",
    "# this function returns:\n",
    "#   popt_exponential: this contains the fitting parameters\n",
    "#   pcov_exponential: estimated covariance of the fitting paramters\n",
    "popt_exponential, pcov_exponential = scipy.optimize.curve_fit(exp_func, time, concentration, p0=[1,-0.5, 1])\n",
    "\n",
    "# we then can find the error of the fitting parameters\n",
    "# from the pcov_linear array\n",
    "perr_exponential = np.sqrt(np.diag(pcov_exponential))"
   ]
  },
  {
   "cell_type": "code",
   "execution_count": null,
   "metadata": {},
   "outputs": [],
   "source": [
    "# this cell prints the fitting parameters with their errors\n",
    "print(f\"pre-exponential factor = {popt_exponential[0]:2.2f} ± {perr_exponential[0]:2.2f}\")\n",
    "print(f\"rate constant = {popt_exponential[1]:2.2f} ± {perr_exponential[1]:2.2f} \")"
   ]
  },
  {
   "cell_type": "markdown",
   "metadata": {},
   "source": [
    "<div class=\"alert alert-info\">\n",
    "    <b>Task (advanced) </b> : Plot your line of best fit, the data and a histogram of residuals for the exponential fit! \n",
    "</div>"
   ]
  },
  {
   "cell_type": "code",
   "execution_count": null,
   "metadata": {},
   "outputs": [],
   "source": [
    "# Task (advanced): Test out the solution in this cell:\n"
   ]
  },
  {
   "cell_type": "markdown",
   "metadata": {},
   "source": [
    "<details><summary {style='color:green;font-weight:bold'}> Click here to see solution to Task. </summary>\n",
    "\n",
    "```Python\n",
    "plt.scatter(time, concentration)\n",
    "plt.plot(time,exp_func(np.array(time),popt_exponential[0],popt_exponential[1],popt_exponential[2]))\n",
    "plt.xlabel('time')\n",
    "plt.ylabel('Concentration')\n",
    "```"
   ]
  },
  {
   "cell_type": "markdown",
   "metadata": {},
   "source": [
    "## 3.4. Fitting a Gaussian distribution\n",
    "<a id='advanced_fitting_gaussian'></a>\n",
    "\n",
    "Let's revisit the dataset from the previous session and fit a Gaussian or normal distribution to the densities of white wine. "
   ]
  },
  {
   "cell_type": "code",
   "execution_count": null,
   "metadata": {},
   "outputs": [],
   "source": [
    "# Loading the white wine dataset\n",
    "df_whites = pd.read_csv(\"data/winequality-white.csv\", delimiter=';')\n",
    "pH_whites = df_whites['pH']\n",
    "plt.hist(pH_whites, bins=50, alpha=0.5)"
   ]
  },
  {
   "cell_type": "code",
   "execution_count": null,
   "metadata": {},
   "outputs": [],
   "source": [
    "import pylab as plb\n",
    "from scipy.optimize import curve_fit\n",
    "from scipy import asarray as ar,exp\n",
    "heights, edges = np.histogram(pH_whites, bins=50, density=True)\n",
    "\n",
    "# Just an easy way of defining x and y\n",
    "x = edges[:49]\n",
    "y = heights[:49]\n",
    "\n",
    "plt.plot(x,y)"
   ]
  },
  {
   "cell_type": "code",
   "execution_count": null,
   "metadata": {},
   "outputs": [],
   "source": [
    "n = len(x)                          #the number of data\n",
    "mean = sum(x*y)/n                   #note this correction\n",
    "sigma = sum(y*(x-mean)**2)/n       #note this correction\n",
    "\n",
    "# defining the Gaussian distribution\n",
    "def Gauss(X,C,X_mean,sigma):\n",
    "    return C*exp(-(X-X_mean)**2/(2*sigma**2))\n",
    "\n",
    "# The actual curve fitting\n",
    "popt,pcov = curve_fit(Gauss,x,y,p0=[max(y),mean, sigma],maxfev=5000)\n",
    "\n",
    "# plotting the result\n",
    "plt.plot(x,y,'b+:',label='data')\n",
    "plt.plot(x,Gauss(x,*popt),'ro:',label='fit')"
   ]
  },
  {
   "cell_type": "markdown",
   "metadata": {},
   "source": [
    "<div class=\"alert alert-success\">\n",
    "    <b>Task 4.4 </b> : Fit a Gaussian to the citric acid of white wine and plot the fitted Gaussian over your histogram\n",
    "</div>\n",
    "Hint: use the above code as a template"
   ]
  },
  {
   "cell_type": "code",
   "execution_count": null,
   "metadata": {},
   "outputs": [],
   "source": [
    "# Your code here\n",
    "\n"
   ]
  },
  {
   "cell_type": "markdown",
   "metadata": {},
   "source": [
    "<details><summary {style='color:green;font-weight:bold'}> Click here to see solution to Task. </summary>\n",
    "\n",
    "```Python\n",
    "citric_acid = df_whites['citric acid'] # This is the main difference, I am now selecting to citric acid column\n",
    "heights, edges = np.histogram(citric_acid, bins=50, density=True)\n",
    "x = edges[:49]\n",
    "y = heights[:49]\n",
    "\n",
    "# Copying code from before\n",
    "n = len(x)                          #the number of data\n",
    "mean = sum(x*y)/n                   #note this correction\n",
    "sigma = sum(y*(x-mean)**2)/n       #note this correction\n",
    "\n",
    "def Gauss(X,C,X_mean,sigma):\n",
    "    return C*exp(-(X-X_mean)**2/(2*sigma**2))\n",
    "\n",
    "popt,pcov = curve_fit(Gauss,x,y,p0=[max(y),mean, sigma],maxfev=5000)\n",
    "plt.plot(x,y,'b+:',label='data')\n",
    "plt.plot(x,Gauss(x,*popt),'ro:',label='fit')\n",
    "```"
   ]
  },
  {
   "cell_type": "markdown",
   "metadata": {},
   "source": [
    "<div class=\"alert alert-info\">\n",
    "    <b>Something to try </b> : You can also use <code>scipy.optimize.curve_fit</code> to fit a linear function. The way you do this is by defining the fitting function as a linear function. \n",
    "</div>\n",
    "\n",
    "Hint use:\n",
    "\n",
    "```Python\n",
    "def linear_function(x, slope, intercept):\n",
    "    return slope*x + intercept\n",
    "```"
   ]
  },
  {
   "cell_type": "markdown",
   "metadata": {},
   "source": [
    "## 5. Feedback"
   ]
  },
  {
   "cell_type": "markdown",
   "metadata": {},
   "source": [
    "### Positive feedback for today's session:"
   ]
  },
  {
   "cell_type": "code",
   "execution_count": 4,
   "metadata": {},
   "outputs": [
    {
     "data": {
      "text/html": [
       "<div style='width:100%; height:40vh;'> <iframe src=https://www.menti.com/alueo3qdf23e height=100% width=70%></iframe> </div>"
      ],
      "text/plain": [
       "<IPython.core.display.HTML object>"
      ]
     },
     "execution_count": 4,
     "metadata": {},
     "output_type": "execute_result"
    }
   ],
   "source": [
    "Mentimeter(vote = 'https://www.menti.com/alueo3qdf23e').show()"
   ]
  },
  {
   "cell_type": "markdown",
   "metadata": {},
   "source": [
    "### Things to be improved in today's session:"
   ]
  },
  {
   "cell_type": "code",
   "execution_count": 5,
   "metadata": {},
   "outputs": [
    {
     "data": {
      "text/html": [
       "<div style='width:100%; height:40vh;'> <iframe src=https://www.menti.com/al93adwyg2bw height=100% width=70%></iframe> </div>"
      ],
      "text/plain": [
       "<IPython.core.display.HTML object>"
      ]
     },
     "execution_count": 5,
     "metadata": {},
     "output_type": "execute_result"
    }
   ],
   "source": [
    "Mentimeter(vote = 'https://www.menti.com/al93adwyg2bw').show()"
   ]
  },
  {
   "cell_type": "markdown",
   "metadata": {},
   "source": [
    "# END\n",
    "\n",
    "Next session will look at some chemistry applications of what you have learned!"
   ]
  }
 ],
 "metadata": {
  "kernelspec": {
   "display_name": "Python 3 (ipykernel)",
   "language": "python",
   "name": "python3"
  },
  "language_info": {
   "codemirror_mode": {
    "name": "ipython",
    "version": 3
   },
   "file_extension": ".py",
   "mimetype": "text/x-python",
   "name": "python",
   "nbconvert_exporter": "python",
   "pygments_lexer": "ipython3",
   "version": "3.8.13"
  }
 },
 "nbformat": 4,
 "nbformat_minor": 4
}

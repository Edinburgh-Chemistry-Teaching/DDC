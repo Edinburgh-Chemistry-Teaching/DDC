{
 "cells": [
  {
   "cell_type": "markdown",
   "metadata": {},
   "source": [
    "# Unit 09: Applications II UV-Vis Spectroscopy"
   ]
  },
  {
   "cell_type": "markdown",
   "metadata": {},
   "source": [
    "<a rel=\"license\" href=\"https://creativecommons.org/licenses/by/4.0/\"><img alt=\"Creative Commons Licence\" style=\"border-width:0\" src=\"https://licensebuttons.net/l/by/4.0/88x31.png\" title='This work is licensed under a Creative Commons Attribution 4.0 International License.' align=\"right\"/></a>\n",
    "\n",
    "Authors: \n",
    "- Dr Antonia Mey\n",
    "- Jasmin Güven   \n",
    "\n",
    "Email: antonia.mey@ed.ac.uk\n",
    "\n",
    "Thanks to: Dr Rafal Szabla\n",
    "\n",
    "### Learning objectives\n",
    "By the end of this unit, you should be able to\n",
    "* Read and manipulate'real' data files and troubleshoot them.\n",
    "* Understand hidden characters in files.\n",
    "* Estimate error bars and plot them from absorbance data.\n",
    "* Analyse UV-Vis data using Beer-Lambert's law.\n",
    "* Load protein trajectory data from a simulation.\n",
    "* Compute running averages over trajectories (dataseries)."
   ]
  },
  {
   "cell_type": "markdown",
   "metadata": {},
   "source": [
    "## Table of Contents\n",
    "\n",
    "## Application UV-vis Spectroscopy\n",
    "1. [Recap of ultraviolet visible spectroscopy](#1-recap-of-ultraviolet-visible-spectroscopy)  \n",
    "    1.1 [Principles of colorimetry](#11-principles-of-colorimetry)    \n",
    "    1.2 [Meet Rachel](#12-meet-rachel)    \n",
    "    1.3 [Tasks 1](#tasks-1)    \n",
    "2. [Estimating and plotting the error on an absorption spectrum](#2-estimating-and-plotting-the-error-on-an-absorption-spectrum)     \n",
    "     2.1 [Tasks 2](#tasks-2)\n",
    "3. [Find the unknown concentration of the compound based on Beer Lambert's Law](#3-find-the-unknown-concentration-of-the-compound-based-on-beer-lamberts-law)   \n",
    "     3.1 [Tasks 3](#tasks-3)\n",
    "    \n",
    "[Next notebook](#next-notebook)\n",
    "\n",
    "\n",
    "### Link to documentation:\n",
    "You can find the full documentation at [scipy.org](https://scipy.org).\n",
    "\n",
    "**<span style=\"color:black\">Jupyter Cheat Sheet</span>**\n",
    "- To run the currently highlighted cell and move focus to the next cell, hold <kbd>&#x21E7; Shift</kbd> and press <kbd>&#x23ce; Enter</kbd>;\n",
    "- To run the currently highlighted cell and keep focus in the same cell, hold <kbd>&#x21E7; Ctrl</kbd> and press <kbd>&#x23ce; Enter</kbd>;\n",
    "- To get help for a specific function, place the cursor within the function's brackets, hold <kbd>&#x21E7; Shift</kbd>, and press <kbd>&#x21E5; Tab</kbd>;"
   ]
  },
  {
   "cell_type": "markdown",
   "metadata": {},
   "source": [
    "# Import libraries"
   ]
  },
  {
   "cell_type": "code",
   "execution_count": 1,
   "metadata": {},
   "outputs": [],
   "source": [
    "import glob\n",
    "import numpy as np\n",
    "import pandas as pd\n",
    "import matplotlib.pyplot as plt\n",
    "import sys\n",
    "import os.path"
   ]
  },
  {
   "cell_type": "markdown",
   "metadata": {},
   "source": [
    "# 1. Recap of ultraviolet visible spectroscopy\n",
    "<a id='1-recap-of-ultraviolet-visible-spectroscopy'></a>\n",
    "In this section you will learn how to analyse data you have collected with a UV-vis spectrometer such as [this one](https://www.agilent.com/en/product/molecular-spectroscopy/uv-vis-uv-vis-nir-spectroscopy/uv-vis-uv-vis-nir-systems/cary-60-uv-vis-spectrophotometer). UV-vis spectroscopy is very useful in determining the concentration of UV active compounds. \n",
    "Both transition metals and organic compounds with conjugated $\\pi$ systems will often be active in the UV-visible region of light. \n",
    "\n",
    "\n",
    "<img src=\"images/light.jpg\" alt=\"light\" width=\"400\">"
   ]
  },
  {
   "cell_type": "markdown",
   "metadata": {},
   "source": [
    "## 1.1 Principles of Colorimetry <a id=\"11-principles-of-colorimetry\"></a>\n",
    "For example, The color of Allura Red solution is... red! Generally, the observed color is complementary to the color of light absorbed. In Figure 2, red is complementary to green. Thus, Allura Red absorbs primarily wavelengths in the 480-560 nm range. Wavelengths of 640-700 nm are not absorbed but transmitted, thus resulting in our perception of a red solution. \n",
    "\n",
    "<img src=\"images/light2.png\" alt=\"light\" width=\"300\">\n",
    "\n",
    "Take a look at the colour wheel of wavelengths of light corresponding to each color for transmission and absorbance. \n",
    "In general the higher the concentration of the compound that is absorbing light, the greater the absoprtion at that frequency. We will be looking at peaks of absorptions measured in the lab for this session. "
   ]
  },
  {
   "cell_type": "markdown",
   "metadata": {},
   "source": [
    "## 1.2. Meet Rachel <a id=\"12-meet-rachel\"></a>\n",
    "\n",
    "Rachel is a final year student and as part of her final year project she needs to estimate the unknown concentration of the dye Rhodamine 6G in methanol, because she forgot to label one of her samples. Luckily she can use UV-Vis spectroscopy of Rhodamine in methanol and use Beer Lambert's law to estimate the concentration of the unlabelled sample. Her data can be found in the folder `data/Section4`. She has never tried this analysis in Python before, so rather than working straight on the actual dataset she wanted to try some parts of her analysis on different sets of data first. \n",
    "\n",
    "Can you help her fix her code and find the concentration of her unlabelled sample? \n",
    "\n",
    "<img src=\"images/Rachel.png\" alt=\"Rachel\" width=\"200\">"
   ]
  },
  {
   "cell_type": "markdown",
   "metadata": {},
   "source": [
    "# Tasks 1 <a id=\"tasks-1\"></a>"
   ]
  },
  {
   "cell_type": "markdown",
   "metadata": {},
   "source": [
    "In the directory `data/Section1` you find a file called `Rhodamine 6G in methanol .csv` Rachel collected in the lab to measure the absorbance of the dye Rhodamine 6G with respect to wavelength. \n",
    "\n",
    "This is what Rhodamine 6G looks like:\n",
    "<img src=\"images/Rhodamine_6G.png\" alt=\"drawing\" width=\"200\">\n",
    "\n",
    "<div class=\"alert alert-success\">\n",
    "    <b>Tas; 1.1 </b>: Read the data and plot it in a sensible way. (Try different ways, pandas, numpy, or even a completely different way). \n",
    "</div>"
   ]
  },
  {
   "cell_type": "code",
   "execution_count": 2,
   "metadata": {},
   "outputs": [],
   "source": [
    "# FIXME\n"
   ]
  },
  {
   "cell_type": "markdown",
   "metadata": {},
   "source": [
    "<details>\n",
    "<summary {style=\"color:green; font-weight:bold\"}> Click here to see the solution to Task 1.1</summary>\n",
    "    \n",
    "```python\n",
    "# pandas way\n",
    "data = pd.read_csv(\"data/Section1/Rhodamine 6G in methanol .csv\", names=[\"lam\",\"absorb\", \"not_needed\"], skiprows=2)\n",
    "fig, ax = plt.subplots(1,1)\n",
    "ax.plot(data[\"lam\"], data[\"absorb\"], marker =\"o\", ms=2, alpha=0.7, color=\"darkblue\")\n",
    "ax.set_xlabel(\"wavelength $\\lambda$ (nm)\", fontsize=15)\n",
    "ax.set_ylabel(\"Absorbance (arb. units)\", fontsize=15)\n",
    "plt.show()\n",
    "    \n",
    "# numpy way\n",
    "data = np.loadtxt(\"data/Section1/Rhodamine 6G in methanol .csv\",skiprows=2, usecols=[0,1], delimiter=\",\")\n",
    "fig, ax = plt.subplots(1, 1)\n",
    "ax.plot(data[:,0], data[:,1], marker =\"o\", ms=2, alpha=0.7, color=\"darklue\")\n",
    "ax.xlabel(\"wavelength $\\lambda$ (nm)\", fontsize=15)\n",
    "ax.ylabel(\"Absorbance (arb. units)\", fontsize=15)\n",
    "plt.show()\n",
    "```\n",
    "\n",
    "</details>"
   ]
  },
  {
   "cell_type": "markdown",
   "metadata": {},
   "source": [
    "<div class=\"alert alert-success\">\n",
    "    <b>Task 1.2</b> : Find the highest absorbance peak in the data file:  \"data/Section1/Rhodamine 6G in methanol .csv\".\n",
    "</div>"
   ]
  },
  {
   "cell_type": "code",
   "execution_count": 3,
   "metadata": {},
   "outputs": [],
   "source": [
    "# FIXME"
   ]
  },
  {
   "cell_type": "markdown",
   "metadata": {},
   "source": [
    "<details><summary {style=\"color:green; font-weight:bold\"}> Click here to see the solution to Task 1.2 </summary>\n",
    "    \n",
    "```python\n",
    "# SOLUTION\n",
    "import scipy.signal\n",
    "# with pandas\n",
    "idxs, heights = scipy.signal.find_peaks(data[\"absorb\"], height = 0.03)\n",
    "# with numpy\n",
    "idxs, heights = scipy.signal.find_peaks(data[:,1], height = 0.03)\n",
    "\n",
    "```\n",
    "\n",
    "</details>"
   ]
  },
  {
   "cell_type": "markdown",
   "metadata": {},
   "source": [
    "# 2. Estimating and plotting the error on an absorption spectrum <a id=\"2-estimating-and-plotting-the-error-on-an-absorption-spectrum\"></a>"
   ]
  },
  {
   "cell_type": "markdown",
   "metadata": {},
   "source": [
    "Rachel has taken 5 repeat measurements of PAO in ethanol at a given concentration, another UV-vis active molecule. She wants to know what the error on the absorbance is for this measurement. Rather than plotting the 5 repeats in one plot, she wants a plot of the mean absorbance and the standard deviation of the absorbance as error bars. \n",
    "\n",
    "Can you help her with this? \n",
    "\n",
    "The data can be found in `data/Section2`. \n",
    "\n",
    "Here is an example of all the data in one plot:"
   ]
  },
  {
   "cell_type": "code",
   "execution_count": 4,
   "metadata": {},
   "outputs": [
    {
     "data": {
      "image/png": "[encoded data removed]",
      "text/plain": [
       "<Figure size 640x480 with 1 Axes>"
      ]
     },
     "metadata": {
      "filenames": {
       "image/png": "/Users/toni_brain/Projects_git/DDC/_build/jupyter_execute/Unit_09/Unit_09_applications_II_part_I_17_0.png"
      }
     },
     "output_type": "display_data"
    }
   ],
   "source": [
    "pao_data_files = glob.glob(\"data/Section2/*.csv\")\n",
    "fig, ax = plt.subplots()\n",
    "for d_file in pao_data_files:\n",
    "    data = pd.read_csv(d_file, names=[\"lam\",\"absorb\", \"not_needed\"], skiprows=2)\n",
    "    ax.plot(data[\"lam\"], data[\"absorb\"], label=d_file)\n",
    "    ax.legend()\n",
    "ax.set_xlabel(\"wavelength (nm)\", fontsize=15)\n",
    "ax.set_ylabel(\"absorbance (arb. units)\", fontsize=15)\n",
    "plt.show()"
   ]
  },
  {
   "cell_type": "markdown",
   "metadata": {},
   "source": [
    "# Tasks 2 <a id=\"tasks-2\"></a>"
   ]
  },
  {
   "cell_type": "markdown",
   "metadata": {},
   "source": [
    "<div class=\"alert alert-success\">\n",
    "    <b>Task 2.1</b>: Rachel has started writing code that will help her find the mean of each 5 measures of absorbance at each wavelength, as well as the standard deviation, can you help her fix her code in the cells below? You don't have to use the same way she started to solve the problem if you prefer a different and maybe easier route!\n",
    "</div>"
   ]
  },
  {
   "cell_type": "markdown",
   "metadata": {},
   "source": [
    "<div class=\"alert alert-info\">\n",
    "    <b>Hint</b>: Use the print function to help you debug some of her code! Try out the bits that fail. Google errors you get!\n",
    "</div>"
   ]
  },
  {
   "cell_type": "code",
   "execution_count": 5,
   "metadata": {},
   "outputs": [
    {
     "ename": "ValueError",
     "evalue": "('Lengths must match to compare', (601,), (0,))",
     "output_type": "error",
     "traceback": [
      "\u001b[0;31m---------------------------------------------------------------------------\u001b[0m",
      "\u001b[0;31mValueError\u001b[0m                                Traceback (most recent call last)",
      "Cell \u001b[0;32mIn[5], line 12\u001b[0m\n\u001b[1;32m     10\u001b[0m     wavelengths_array \u001b[38;5;241m=\u001b[39m data[\u001b[38;5;124m\"\u001b[39m\u001b[38;5;124mlam\u001b[39m\u001b[38;5;124m\"\u001b[39m]\u001b[38;5;241m.\u001b[39mtolist()\n\u001b[1;32m     11\u001b[0m \u001b[38;5;28;01melse\u001b[39;00m:\n\u001b[0;32m---> 12\u001b[0m     \u001b[38;5;28;01massert\u001b[39;00m(\u001b[43mdata\u001b[49m\u001b[43m[\u001b[49m\u001b[38;5;124;43m\"\u001b[39;49m\u001b[38;5;124;43mlam\u001b[39;49m\u001b[38;5;124;43m\"\u001b[39;49m\u001b[43m]\u001b[49m\u001b[43m \u001b[49m\u001b[38;5;241;43m==\u001b[39;49m\u001b[43m \u001b[49m\u001b[43mwavelengths_array\u001b[49m)\n\u001b[1;32m     13\u001b[0m     \u001b[38;5;28mprint\u001b[39m(\u001b[38;5;124m\"\u001b[39m\u001b[38;5;124mwe already have wavelengths and they match\u001b[39m\u001b[38;5;124m\"\u001b[39m)\n\u001b[1;32m     14\u001b[0m absorbance_array\u001b[38;5;241m.\u001b[39mappend(data[\u001b[38;5;124m\"\u001b[39m\u001b[38;5;124mabsorb\u001b[39m\u001b[38;5;124m\"\u001b[39m]\u001b[38;5;241m.\u001b[39mtolist())\n",
      "File \u001b[0;32m~/miniconda3/envs/jup-book/lib/python3.11/site-packages/pandas/core/ops/common.py:72\u001b[0m, in \u001b[0;36m_unpack_zerodim_and_defer.<locals>.new_method\u001b[0;34m(self, other)\u001b[0m\n\u001b[1;32m     68\u001b[0m             \u001b[38;5;28;01mreturn\u001b[39;00m \u001b[38;5;28mNotImplemented\u001b[39m\n\u001b[1;32m     70\u001b[0m other \u001b[38;5;241m=\u001b[39m item_from_zerodim(other)\n\u001b[0;32m---> 72\u001b[0m \u001b[38;5;28;01mreturn\u001b[39;00m \u001b[43mmethod\u001b[49m\u001b[43m(\u001b[49m\u001b[38;5;28;43mself\u001b[39;49m\u001b[43m,\u001b[49m\u001b[43m \u001b[49m\u001b[43mother\u001b[49m\u001b[43m)\u001b[49m\n",
      "File \u001b[0;32m~/miniconda3/envs/jup-book/lib/python3.11/site-packages/pandas/core/arraylike.py:42\u001b[0m, in \u001b[0;36mOpsMixin.__eq__\u001b[0;34m(self, other)\u001b[0m\n\u001b[1;32m     40\u001b[0m \u001b[38;5;129m@unpack_zerodim_and_defer\u001b[39m(\u001b[38;5;124m\"\u001b[39m\u001b[38;5;124m__eq__\u001b[39m\u001b[38;5;124m\"\u001b[39m)\n\u001b[1;32m     41\u001b[0m \u001b[38;5;28;01mdef\u001b[39;00m \u001b[38;5;21m__eq__\u001b[39m(\u001b[38;5;28mself\u001b[39m, other):\n\u001b[0;32m---> 42\u001b[0m     \u001b[38;5;28;01mreturn\u001b[39;00m \u001b[38;5;28;43mself\u001b[39;49m\u001b[38;5;241;43m.\u001b[39;49m\u001b[43m_cmp_method\u001b[49m\u001b[43m(\u001b[49m\u001b[43mother\u001b[49m\u001b[43m,\u001b[49m\u001b[43m \u001b[49m\u001b[43moperator\u001b[49m\u001b[38;5;241;43m.\u001b[39;49m\u001b[43meq\u001b[49m\u001b[43m)\u001b[49m\n",
      "File \u001b[0;32m~/miniconda3/envs/jup-book/lib/python3.11/site-packages/pandas/core/series.py:6243\u001b[0m, in \u001b[0;36mSeries._cmp_method\u001b[0;34m(self, other, op)\u001b[0m\n\u001b[1;32m   6240\u001b[0m rvalues \u001b[38;5;241m=\u001b[39m extract_array(other, extract_numpy\u001b[38;5;241m=\u001b[39m\u001b[38;5;28;01mTrue\u001b[39;00m, extract_range\u001b[38;5;241m=\u001b[39m\u001b[38;5;28;01mTrue\u001b[39;00m)\n\u001b[1;32m   6242\u001b[0m \u001b[38;5;28;01mwith\u001b[39;00m np\u001b[38;5;241m.\u001b[39merrstate(\u001b[38;5;28mall\u001b[39m\u001b[38;5;241m=\u001b[39m\u001b[38;5;124m\"\u001b[39m\u001b[38;5;124mignore\u001b[39m\u001b[38;5;124m\"\u001b[39m):\n\u001b[0;32m-> 6243\u001b[0m     res_values \u001b[38;5;241m=\u001b[39m \u001b[43mops\u001b[49m\u001b[38;5;241;43m.\u001b[39;49m\u001b[43mcomparison_op\u001b[49m\u001b[43m(\u001b[49m\u001b[43mlvalues\u001b[49m\u001b[43m,\u001b[49m\u001b[43m \u001b[49m\u001b[43mrvalues\u001b[49m\u001b[43m,\u001b[49m\u001b[43m \u001b[49m\u001b[43mop\u001b[49m\u001b[43m)\u001b[49m\n\u001b[1;32m   6245\u001b[0m \u001b[38;5;28;01mreturn\u001b[39;00m \u001b[38;5;28mself\u001b[39m\u001b[38;5;241m.\u001b[39m_construct_result(res_values, name\u001b[38;5;241m=\u001b[39mres_name)\n",
      "File \u001b[0;32m~/miniconda3/envs/jup-book/lib/python3.11/site-packages/pandas/core/ops/array_ops.py:264\u001b[0m, in \u001b[0;36mcomparison_op\u001b[0;34m(left, right, op)\u001b[0m\n\u001b[1;32m    259\u001b[0m \u001b[38;5;28;01mif\u001b[39;00m \u001b[38;5;28misinstance\u001b[39m(rvalues, (np\u001b[38;5;241m.\u001b[39mndarray, ABCExtensionArray)):\n\u001b[1;32m    260\u001b[0m     \u001b[38;5;66;03m# TODO: make this treatment consistent across ops and classes.\u001b[39;00m\n\u001b[1;32m    261\u001b[0m     \u001b[38;5;66;03m#  We are not catching all listlikes here (e.g. frozenset, tuple)\u001b[39;00m\n\u001b[1;32m    262\u001b[0m     \u001b[38;5;66;03m#  The ambiguous case is object-dtype.  See GH#27803\u001b[39;00m\n\u001b[1;32m    263\u001b[0m     \u001b[38;5;28;01mif\u001b[39;00m \u001b[38;5;28mlen\u001b[39m(lvalues) \u001b[38;5;241m!=\u001b[39m \u001b[38;5;28mlen\u001b[39m(rvalues):\n\u001b[0;32m--> 264\u001b[0m         \u001b[38;5;28;01mraise\u001b[39;00m \u001b[38;5;167;01mValueError\u001b[39;00m(\n\u001b[1;32m    265\u001b[0m             \u001b[38;5;124m\"\u001b[39m\u001b[38;5;124mLengths must match to compare\u001b[39m\u001b[38;5;124m\"\u001b[39m, lvalues\u001b[38;5;241m.\u001b[39mshape, rvalues\u001b[38;5;241m.\u001b[39mshape\n\u001b[1;32m    266\u001b[0m         )\n\u001b[1;32m    268\u001b[0m \u001b[38;5;28;01mif\u001b[39;00m should_extension_dispatch(lvalues, rvalues) \u001b[38;5;129;01mor\u001b[39;00m (\n\u001b[1;32m    269\u001b[0m     (\u001b[38;5;28misinstance\u001b[39m(rvalues, (Timedelta, BaseOffset, Timestamp)) \u001b[38;5;129;01mor\u001b[39;00m right \u001b[38;5;129;01mis\u001b[39;00m NaT)\n\u001b[1;32m    270\u001b[0m     \u001b[38;5;129;01mand\u001b[39;00m \u001b[38;5;129;01mnot\u001b[39;00m is_object_dtype(lvalues\u001b[38;5;241m.\u001b[39mdtype)\n\u001b[1;32m    271\u001b[0m ):\n\u001b[1;32m    272\u001b[0m     \u001b[38;5;66;03m# Call the method on lvalues\u001b[39;00m\n\u001b[1;32m    273\u001b[0m     res_values \u001b[38;5;241m=\u001b[39m op(lvalues, rvalues)\n",
      "\u001b[0;31mValueError\u001b[0m: ('Lengths must match to compare', (601,), (0,))"
     ]
    }
   ],
   "source": [
    "# Rachel's attempt\n",
    "\n",
    "wavelengths_array = []\n",
    "absorbance_array = []\n",
    "\n",
    "# Let's first read the data into an numpy array\n",
    "for d_file in pao_data_files:\n",
    "    data = pd.read_csv(d_file, names=[\"lam\",\"absorb\", \"not_needed\"], skiprows=2)\n",
    "    if wavelengths_array is None:\n",
    "        wavelengths_array = data[\"lam\"].tolist()\n",
    "    else:\n",
    "        assert(data[\"lam\"] == wavelengths_array)\n",
    "        print(\"we already have wavelengths and they match\")\n",
    "    absorbance_array.append(data[\"absorb\"].tolist())\n",
    "    \n",
    "# Convert the two lists to numpy arrays\n",
    "wave_lengths = np.array(wavelengths_array)\n",
    "absorbance = np.array(absorbance_array)\n",
    "\n",
    "# Work out the mean and standar deviation of the absorbance array\n",
    "print(\"Do I need another loop here or can I work out the mean and error differently?\")\n",
    "mean_absorbance = None\n",
    "std_absorbance = None"
   ]
  },
  {
   "cell_type": "markdown",
   "metadata": {},
   "source": [
    "<details>\n",
    "<summary {style=\"color:green; font-weight:bold\"}> Click here to see the solution to Task 2.1</summary>\n",
    "    \n",
    "```python\n",
    "wavelengths_array = []\n",
    "absorbance_array = []\n",
    "for d_file in pao_data_files:\n",
    "    data = pd.read_csv(d_file, names=['lam','absorb', 'not_needed'], skiprows=2)\n",
    "    if len(wavelengths_array) < len(data['lam']):\n",
    "        wavelengths_array = data['lam'].tolist()\n",
    "    else:\n",
    "        if ((data['lam'] == wavelengths_array).all()):\n",
    "            print('we already have wavelengths and they match!')\n",
    "    absorbance_array.append(data['absorb'].tolist())\n",
    "\n",
    "# Convert the two lists to numpy arrays\n",
    "wave_lengths = np.array(wavelengths_array)\n",
    "absorbance = np.array(absorbance_array)\n",
    "\n",
    "# Mean and std of absorbance using axes in numpy\n",
    "mean_absorbance = np.mean(absorbance, axis=0)\n",
    "std_absorbance = np.std(absorbance, axis=0)\n",
    "\n",
    "```\n",
    "\n",
    "</details>"
   ]
  },
  {
   "cell_type": "markdown",
   "metadata": {},
   "source": [
    "<div class=\"alert alert-success\">\n",
    "    <b>Task 2.2</b>: Can you show Rachel how to plot the mean and the standard deviation as an errorbar plot? Only plot the region of wavelengths between 200 nm and 400 nm.\n",
    "</div>"
   ]
  },
  {
   "cell_type": "code",
   "execution_count": null,
   "metadata": {},
   "outputs": [],
   "source": [
    "# FIXME\n"
   ]
  },
  {
   "cell_type": "markdown",
   "metadata": {},
   "source": [
    "<details>\n",
    "<summary {style=\"color:green; font-weight:bold\"}> Click here to see the solution to Task 2.2 </summary>\n",
    "    \n",
    "```python\n",
    "\n",
    "fig, ax = plt.subplots(figsize=(10,5))\n",
    "\n",
    "ax.errorbar(wave_lengths,mean_absorbance,yerr=std_absorbance, label=\"5 measurement average\")\n",
    "ax.set_xlabel(\"wavelength (nm)\", fontsize = 15)\n",
    "ax.set_ylabel(\"absorbance (arb. units)\", fontsize =15)\n",
    "ax.set_xlim(200, 400)\n",
    "ax.legend()\n",
    "plt.show()\n",
    "\n",
    "```\n",
    "\n",
    "</details>"
   ]
  },
  {
   "cell_type": "markdown",
   "metadata": {},
   "source": [
    "<div class=\"alert alert-info\">\n",
    "    <b>Task 2.3 (advanced) </b>: Rather than using error bars on each data point can you use a shaded region to indicate the 1 σ confidence interval instead? Look at the example below. \n",
    "</div>\n",
    "\n",
    "**Hint**: Take a look at the function `fill_between` in [matplotlib](https://matplotlib.org).\n",
    "\n",
    "<img src=\"images/fill-between.png\" alt=\"fill\" width=\"400\">"
   ]
  },
  {
   "cell_type": "code",
   "execution_count": null,
   "metadata": {},
   "outputs": [],
   "source": [
    "# FIXME"
   ]
  },
  {
   "cell_type": "markdown",
   "metadata": {},
   "source": [
    "<details><summary {style=\"color:green; font-weight:bold\"}> Click here to see the solution to Task 2.3 (advanced)</summary>\n",
    "\n",
    "```python\n",
    "\n",
    "fig, ax = plt.subplots(figsize=(10,5))\n",
    "\n",
    "ax.plot(wave_lengths,mean_absorbance, label=\"5 measurement average\")\n",
    "ax.fill_between(wave_lengths, mean_absorbance + std_absorbance, mean_absorbance - std_absorbance, alpha=0.5)\n",
    "ax.set_xlabel(\"wavelength (nm)\", fontsize = 15)\n",
    "ax.set_ylabel(\"absorbance (arb. units)\", fontsize =15)\n",
    "ax.set_xlim(200, 400)\n",
    "ax.legend()\n",
    "plt.show()\n",
    "\n",
    "```\n"
   ]
  },
  {
   "cell_type": "markdown",
   "metadata": {},
   "source": [
    "## 3. Find the unknown concentration of the compound based on Beer Lambert's Law \n",
    "<a id=\"3-find-the-unknown-concentration-of-the-compound-based-on-beer-lamberts-law\"></a>\n",
    "\n",
    "In this section we will put some of the indidividual parts together of the previous sections to help identify Rachel the concentration of the sample series E she measured, but forgot to write down the concentration.\n",
    "\n",
    "You will find her experimental absorbance data in `data/Section3`. For each concentration there are 3 measurements. There is a file called `data/Section3/concentrations.csv`, that tell you which sample had which concentration. For some reason sample `C` has noted down a concentration of `NaN`. You should be able to figure out the concentration at which the sample was measured though based on Beer Lambert's Law. You can use the data you have to create a calibration plot and make sure of the linearity of the Beer Lambert law. It stats that the absorption of light by a substance is proportional to its concentration in solution, or in equation format:\n",
    "\n",
    "$$A = \\epsilon l c,$$\n",
    "\n",
    "where $A$ is the absorbance (unitless), $\\epsilon$ is the molar absorptivity coefficient (M$^{-1}$cm$^{-1}$), $l$ is the pathlength of light through the cuvette (cm), and $c$ is the concentration (M).\n",
    "\n",
    "A typical calibration curve will look like this:\n",
    "\n",
    "\n",
    "<img src=\"images/beer_law.png\" alt=\"calibration\" width=\"400\">\n",
    "\n",
    "In Rachel's case she has 4 repeat measurements of her absorbance with known concentration and 3 repeats of a measurements with unknown concentration. In this section you will reconstruct what the concentration of Rhodamine 6G was in sample `C`. "
   ]
  },
  {
   "cell_type": "markdown",
   "metadata": {},
   "source": [
    "# Tasks 3 <a id=\"tasks-3\"></a>"
   ]
  },
  {
   "cell_type": "markdown",
   "metadata": {},
   "source": [
    "<div class=\"alert alert-success\">\n",
    "    <b>Task 3.1</b>: Compute the mean absorbance curve of each concentration and plot these.\n",
    "</div>\n",
    "\n",
    "- Write a function called `mean_absorbance` to easily loop over this. You should be able to reuse what you have done in [Section 2](#2-estimating-and-plotting-the-error-on-an-absorption-spectrum) and wrap this into a function.\n",
    "- Loop over all 5 data sets and compute mean absorbance and plot the absorbance v. wavelength (don't worry about error bars this time)"
   ]
  },
  {
   "cell_type": "code",
   "execution_count": 15,
   "metadata": {},
   "outputs": [],
   "source": [
    "# FIXME\n"
   ]
  },
  {
   "cell_type": "markdown",
   "metadata": {},
   "source": [
    "<details>\n",
    "<summary {style=\"color:green; font-weight:bold\"}> Click here to see the solution to Task 3.1 </summary>\n",
    "    \n",
    "```python\n",
    "\n",
    "def mean_absorbance(file_names):\n",
    "    \"\"\"takes list of filenames with absorbances\"\"\"\n",
    "    wavelengths_array = []\n",
    "    absorbance_array = []\n",
    "    for d_file in file_names:\n",
    "        data = pd.read_csv(d_file, names=[\"lam\",\"absorb\",\"not_needed\"], skiprows=2)\n",
    "        if len(wavelengths_array) < len(data[\"lam\"]):\n",
    "            wavelengths_array = data[\"lam\"].tolist()\n",
    "        else:\n",
    "            if ((data[\"lam\"] == wavelengths_array).all()):\n",
    "                absorbance_array.append(data[\"absorb\"].tolist())\n",
    "\n",
    "    # Convert the two lists to numpy arrays\n",
    "    wave_lengths = np.array(wavelengths_array)\n",
    "    absorbance = np.array(absorbance_array)\n",
    "\n",
    "    # Mean and std of absorbance using axes in numpy\n",
    "    mean_absorbance = np.mean(absorbance, axis=0)\n",
    "    std_absorbance = np.std(absorbance, axis=0)\n",
    "    return wave_lengths,mean_absorbance\n",
    "\n",
    "fig, ax = plt.subplots()\n",
    "for concentrations in [\"A\", \"C\", \"D\", \"E\", \"F\"]:\n",
    "    f_names_c = glob.glob(f\"data/Section3/*{concentrations}*.csv\")\n",
    "    lams, absorbs = mean_absorbance(f_names_c)\n",
    "    ax.plot(lams,absorbs, label=concentrations)\n",
    "    ax.set_xlim(450,550)\n",
    "    ax.set_ylim(0.0,0.12)\n",
    "    ax.legend()\n",
    "    ax.set_xlabel(\"wavelength (nm)\")\n",
    "    ax.set_ylabel(\"absorbance (arb. units)\")\n",
    "plt.show()\n",
    "\n",
    "```\n",
    "\n",
    "</details>"
   ]
  },
  {
   "cell_type": "markdown",
   "metadata": {},
   "source": [
    "<div class=\"alert alert-success\">\n",
    "    <b>Task 3.2</b>: Find the peak absorbance data at 530 nm for each concentration.\n",
    "</div>\n",
    "\n",
    "- Fix Rachel's function called `find_peak_absorbance` to find peaks around 530 nm.\n",
    "- Collect the data in a list called `absorbance_peaks`\n",
    "\n",
    "Hint: You can find maxima with either `scipy.signal` or define a wavelength range where you know you only have one peak signal. Use boolean masks to define index ranges of e.g. 500-550 nm ranges to then find a maximum in the absorbance in this range. \n",
    "\n",
    "There are many different ways to solve this problem, so be creative!"
   ]
  },
  {
   "cell_type": "code",
   "execution_count": null,
   "metadata": {},
   "outputs": [],
   "source": [
    "def find_peak_absorbance(absorbance_data, wave_lengths, idx_of_wavelength_range=None, height=None):\n",
    "    \"\"\"find peak absorbance in a given range of wavelengths\n",
    "    Parameters:\n",
    "    -----------\n",
    "    absorbance_data : array\n",
    "        array of all the whole dataset\n",
    "    \n",
    "    wave_lengths : nd array \n",
    "        array corresponding to the wave_lengths\n",
    "    \n",
    "    idx_of_wavelength_range : \n",
    "        indexes of absorbance data array that correspond to e.g. 500-550 nm wavelength range\n",
    "    \n",
    "    height: float \n",
    "        peak height used by scipy.signal.find_peaks\n",
    "        \n",
    "    Returns:\n",
    "    --------\n",
    "    wave_length_at_max : float\n",
    "        wavelength of the corresponding absorbance maximum\n",
    "    max_absorbance : float\n",
    "        data point we are after\n",
    "    \n",
    "    \"\"\"\n",
    "    # FIXME\n",
    "    return wave_length_at_max, max_absorbance"
   ]
  },
  {
   "cell_type": "code",
   "execution_count": null,
   "metadata": {},
   "outputs": [],
   "source": [
    "# There are some issues in the code below too can you find them?\n",
    "# FIXME\n",
    "# Define the list\n",
    "absorbance_peaks = []\n",
    "# loop over concentrations\n",
    "for concentrations in ['A', 'C', 'D', 'E', 'F']:\n",
    "    f_names_c = glob.glob('data/Section3/*'+concentrations+\"*.csv\")\n",
    "    # get the mean absorbance and wavelengths\n",
    "    wave_lengths, absorbance_at_given_c = mean_absorbance(f_names_c)\n",
    "    # find the indexes using a boolean mask\n",
    "    wave_length_idxs = np.where(wave_lengths> 450 & wavelngths < 550)\n",
    "    wavelength_max, absorbance_max = find_peak_absorbance(absorbance_at_given_c, wave_legth, idx_of_wavelength_range=wave_length_idxs, height=0.012)\n",
    "    print(wavelength_max,absorbance_max)\n",
    "    absorbance_peaks.append(absorbance_max)"
   ]
  },
  {
   "cell_type": "markdown",
   "metadata": {},
   "source": [
    "<details>\n",
    "<summary {style=\"color:green; font-weight:bold\"}> Click here to see the solution to Task 3.2 </summary>\n",
    "    \n",
    "```python\n",
    "\n",
    "def find_peak_absorbance(data, wave_lengths=None, idx_of_wavelength_range=None, height=None):\n",
    "    \"\"\"find peak absorbance in a given range of wavelengths\n",
    "    Parameters:\n",
    "    -----------\n",
    "    absorbance_data : array\n",
    "        array of all the whole dataset\n",
    "    \n",
    "    wave_lengths : nd array \n",
    "        array corresponding to the wave_lengths\n",
    "    \n",
    "    idx_of_wavelength_range : \n",
    "        indexes of absorbance data array that correspond to e.g. 500-550 nm wavelength range\n",
    "    \n",
    "    height: float \n",
    "        peak height used by scipy.signal.find_peaks\n",
    "        \n",
    "    Returns:\n",
    "    --------\n",
    "    wave_length_at_max : float\n",
    "        wavelength of the corresponding absorbance maximum\n",
    "    max_absorbance : float\n",
    "        data point we are after\n",
    "    \n",
    "    \"\"\"   \n",
    "    idxs, heights = scipy.signal.find_peaks(data[idx_of_wavelength_range], height = height)\n",
    "    max_absorbance = np.max(data[idx_of_wavelength_range])\n",
    "    max_absorbance_index = np.argmax(data[idx_of_wavelength_range])\n",
    "    wave_length_at_max = wave_lengths[idx_of_wavelength_range][max_absorbance_index]\n",
    "    if max_absorbance_index in idxs:\n",
    "        print(\"Found peak\")\n",
    "        return wave_length_at_max, max_absorbance\n",
    "    else:\n",
    "        print('encountered an issue\")\n",
    "        return None\n",
    "    \n",
    "# Define the list (or a dictionary)\n",
    "absorbance_peaks = []\n",
    "# loop over concentrations\n",
    "for concentrations in [\"A\", \"C\", \"D\", \"E\", \"F\"]:\n",
    "    f_names_c = glob.glob(f\"data/Section3/*{concentrations}*.csv\")\n",
    "    # get the mean absorbance and wavelengths\n",
    "    wave_lengths, absorbance_at_given_c = mean_absorbance(f_names_c)\n",
    "    # find the indexes in the \n",
    "    bool_array = (wave_lengths > 450) & (wave_lengths < 550)\n",
    "    wave_length_idxs = np.where(bool_array)[0]\n",
    "    wavelength_max, absorbance_max = find_peak_absorbance(absorbance_at_given_c, wave_lengths, idx_of_wavelength_range=wave_length_idxs, height=0.012)\n",
    "    print(wavelength_max,absorbance_max)\n",
    "    absorbance_peaks.append(absorbance_max)\n",
    "\n",
    "```\n",
    "\n",
    "</details>"
   ]
  },
  {
   "cell_type": "markdown",
   "metadata": {},
   "source": [
    "<div class=\"alert alert-success\">\n",
    "    <b>Task 3.3</b>: Read in known concentrations and plot concentration against absorbance. \n",
    "</div>\n",
    "\n",
    "- Rachel has made a file with all the concentrations you can find in `data/Section3/concentrations.csv`. This is where you will notice that for `C` the entry is `NaN`. "
   ]
  },
  {
   "cell_type": "code",
   "execution_count": null,
   "metadata": {},
   "outputs": [],
   "source": [
    "# FIXME\n"
   ]
  },
  {
   "cell_type": "markdown",
   "metadata": {},
   "source": [
    "<details>\n",
    "<summary {style=\"color:green; font-weight:bold\"}> Click here to see the solution to Task 3.3 </summary>\n",
    "    \n",
    "```python\n",
    "\n",
    "concentrations = np.loadtxt(\"data/Section3/concentrations.csv\", delimiter=\",\", skiprows=2)\n",
    "absorbance_peaks = np.array(absorbance_peaks)\n",
    "concentrations = concentrations.astype(np.double)\n",
    "concentration_mask = np.isfinite(concentrations)\n",
    "\n",
    "print(concentration_mask)\n",
    "fig, ax = plt.subplots()\n",
    "ax.plot(concentrations[concentration_mask], absorbance_peaks[concentration_mask], \"o\")\n",
    "ax.set_xlabel(\"concentration (mol/L)\", fontsize=15)\n",
    "ax.set_ylabel(\"absorbance (arb. units)\", fontsize=15)\n",
    "plt.show()\n",
    "```\n",
    "\n",
    "</details>"
   ]
  },
  {
   "cell_type": "markdown",
   "metadata": {},
   "source": [
    "<div class=\"alert alert-success\">\n",
    "    <b>TASK 3.4</b>: Find the concentration of sample C based on Beer Lambert's Law.  \n",
    "</div>"
   ]
  },
  {
   "cell_type": "code",
   "execution_count": null,
   "metadata": {},
   "outputs": [],
   "source": [
    "# FIXME"
   ]
  },
  {
   "cell_type": "markdown",
   "metadata": {},
   "source": [
    "<details>\n",
    "<summary {style=\"color:green; font-weight:bold\"}> Click here to see the solution to Task 3.4</summary>\n",
    "    \n",
    "```python\n",
    "from scipy import stats\n",
    "c = concentrations[concentration_mask]\n",
    "a = absorbance_peaks[concentration_mask]\n",
    "res = stats.linregress(c, a)\n",
    "concentration_of_c = absorbance_peaks[1]/ res.slope - res.intercept \n",
    "print(f\"Concentration of sample C is {concentration_of_c:.4f} mM.\")\n",
    "    \n",
    "# And a reassurance plot\n",
    "fig, ax = plt.subplots()\n",
    "ax.plot(c, a, \"o\", label=\"absorbance peaks\")\n",
    "ax.plot(np.array(c), res.intercept + res.slope*np.array(c), \"r\", label=\"fitted line\")\n",
    "ax.legend()\n",
    "ax.set_xlabel(\"concentration\")\n",
    "ax.set_ylabel(\"absorance\")\n",
    "plt.show()\n",
    "```\n",
    "\n",
    "</details>"
   ]
  },
  {
   "cell_type": "markdown",
   "metadata": {},
   "source": [
    "## Break\n",
    "<img src=\"images/break.png\" alt=\"drawing\" width=\"200\">"
   ]
  },
  {
   "cell_type": "markdown",
   "metadata": {},
   "source": [
    "# Next notebook <a id=\"next-notebook\">\n",
    "\n",
    "[Unit 09 Applications II Part II](Unit_09_applications_II_part_II.ipynb)"
   ]
  },
  {
   "cell_type": "markdown",
   "metadata": {},
   "source": [
    "---"
   ]
  }
 ],
 "metadata": {
  "kernelspec": {
   "display_name": "Python 3 (ipykernel)",
   "language": "python",
   "name": "python3"
  },
  "language_info": {
   "codemirror_mode": {
    "name": "ipython",
    "version": 3
   },
   "file_extension": ".py",
   "mimetype": "text/x-python",
   "name": "python",
   "nbconvert_exporter": "python",
   "pygments_lexer": "ipython3",
   "version": "3.11.0"
  },
  "vscode": {
   "interpreter": {
    "hash": "cf51243a6e93b78f1f5c5d179cd4f66e9bfd7b6269bebfcfdbed7f35483e292c"
   }
  }
 },
 "nbformat": 4,
 "nbformat_minor": 4
}
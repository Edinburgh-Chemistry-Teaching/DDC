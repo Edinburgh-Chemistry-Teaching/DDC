{
 "cells": [
  {
   "cell_type": "markdown",
   "metadata": {},
   "source": [
    "# Plotting \n",
    "\n",
    "<a rel=\"license\" href=\"http://creativecommons.org/licenses/by/4.0/\"><img alt=\"Creative Commons Licence\" style=\"border-width:0\" src=\"https://i.creativecommons.org/l/by/4.0/88x31.png\" title='This work is licensed under a Creative Commons Attribution 4.0 International License.' align=\"right\"/></a>\n",
    "\n",
    "\n",
    "### Extra material for Unit 05\n",
    "<br>\n",
    "\n",
    "Authors: \n",
    "- Dr Valentina Erastova\n",
    "- Hannah Pollak\n",
    "\n",
    "Email: <valentina.erastova@ed.ac.uk>"
   ]
  },
  {
   "cell_type": "markdown",
   "metadata": {
    "slideshow": {
     "slide_type": "slide"
    }
   },
   "source": [
    "## Matplotlib CheatSheet   <a id=\"cheatsheet\"></a>\n",
    "There are some helpful [cheatsheets](https://matplotlib.org/cheatsheets/)\n",
    "\n",
    "You may find the bellow useful:\n",
    "\n",
    "![Matplotlib Beginner cheat sheet](https://matplotlib.org/cheatsheets/handout-beginner.png)\n",
    "![Matplotlib Intermid cheat sheet](https://matplotlib.org/cheatsheets/handout-intermediate.png)\n",
    "![Matplotlib tips and tricks](https://matplotlib.org/cheatsheets/handout-tips.png)"
   ]
  },
  {
   "cell_type": "markdown",
   "metadata": {},
   "source": [
    "<a class=\"anchor\" id=\"Practice1\"></a>\n",
    "<div class=\"alert alert-info\">\n",
    "    <b>PRACTICE - Plotting</b>  \n",
    "    <p>- generate a 1D array, $x$, between -10 and 10, in a step of 1 </p>\n",
    "    <p>- create an array $z$ of the same length as $x$ </p>\n",
    "    <p>- create subplots: </p>\n",
    "     <p>  <img src=\"FIGS/figsubplots.png\" width=\"500\"></p>\n",
    "             <p>  <img src=\"FIGS/figsubplots1.png\" width=\"500\"></p>\n",
    "    <b> NOTE - these produce equivalent plots:  </b> \n",
    "<p>\n",
    "    \n",
    "```python\n",
    "plt.figure()\n",
    "plt.subplot(1, 2, 1) \n",
    "plt.subplot(1, 2, 2) \n",
    "```  \n",
    "    \n",
    "```python\n",
    "fig,(ax1,ax2)=plt.subplots(1, 2) \n",
    "ax1.plot(x, y1)\n",
    "ax2.plot(x, y2)\n",
    "```  \n",
    "    \n",
    "```python\n",
    "fig,ax=plt.subplots(1, 2) \n",
    "ax[0].plot(x, y1)\n",
    "ax[1].plot(x, y2)\n",
    "```  \n",
    "</p>   \n",
    "    <p>- plot $x^2$ and $\\frac{1}{4}x^3$  using non-default line types and colours, label the plot</p>\n",
    "    <p>- on a subplot to the left plot $5x-exp(\\frac{1}{z})$ add points over the last line, label everything</p>   \n",
    "    <p> - save figure <code> plt.savefig('name.extension') </code></p>\n",
    "    \n",
    "</div>"
   ]
  },
  {
   "cell_type": "code",
   "execution_count": 2,
   "metadata": {},
   "outputs": [],
   "source": [
    "# your solution \n",
    "\n",
    "\n",
    "\n",
    "\n"
   ]
  },
  {
   "cell_type": "markdown",
   "metadata": {},
   "source": [
    "<details>\n",
    "<summary> <mark> EXAMPLE SOLUTION:</mark> </summary>\n",
    "    \n",
    "```python\n",
    "\n",
    "\n",
    "import numpy as np\n",
    "import matplotlib.pyplot as plt\n",
    "\n",
    "#generate array x\n",
    "x = np.linspace(-10, 10, 21) \n",
    "\n",
    "#generate array z of equivalent shape \n",
    "z = np.linspace(-11, 28, x.shape[0])\n",
    "\n",
    "#some math\n",
    "y1 = x**2\n",
    "y2 = 1/4*x**3\n",
    "y3 = 5*x-np.exp(1/z)\n",
    "\n",
    "#plot these \n",
    "\n",
    "# create a figure - I prefer this way\n",
    "plt.figure()\n",
    "\n",
    "#NOTE - you can also use:\n",
    "#fig,(ax1,ax2)=plt.subplots(1, 2) \n",
    "#ax1.plot(x, y1)\n",
    "#ax2.plot(x, y2)\n",
    "\n",
    "\n",
    "plt.subplot(1, 2, 1) #1 plot per line, 2 per column, plot 1            \n",
    "plt.plot(x, y1, '.--', color='k', label='$x^2$')\n",
    "plt.plot(x, y2, 'x:', color='coral', label=r'$\\frac{1}{4}x^3$') #note use or 'r' before the LaTex string\n",
    "plt.title('functions of $x$')\n",
    "plt.xlabel('x')\n",
    "plt.ylabel('y')\n",
    "plt.legend(loc=\"upper left\")\n",
    "\n",
    "\n",
    "plt.subplot(1, 2, 2) #1 plot per line, 2 per column, plot 2\n",
    "#set one label to use a few times\n",
    "l=r'$5x-exp(\\frac{1}{z})$'\n",
    "plt.plot(x, y3, '-', color='teal')\n",
    "plt.plot(x, y3, marker='o', alpha=0.2, markersize=10, label=l)\n",
    "plt.title(l)\n",
    "plt.xlabel('x')\n",
    "plt.ylabel('y')\n",
    "plt.legend(loc=\"upper left\")\n",
    "\n",
    "#adjust the spacing between subplots, so they do not overlap\n",
    "#matplotlib.pyplot.subplots_adjust(left=None, bottom=None, right=None, top=None, wspace=None, hspace=None)\n",
    "plt.subplots_adjust(wspace=0.5)\n",
    "\n",
    "#save image as .png (or .eps or .pdf or many other)\n",
    "plt.savefig(\"myfigure.png\")\n",
    "\n",
    "plt.show()\n",
    "```\n",
    "    \n",
    "</details>\n",
    "\n"
   ]
  }
 ],
 "metadata": {
  "kernelspec": {
   "display_name": "Python 3 (ipykernel)",
   "language": "python",
   "name": "python3"
  },
  "language_info": {
   "codemirror_mode": {
    "name": "ipython",
    "version": 3
   },
   "file_extension": ".py",
   "mimetype": "text/x-python",
   "name": "python",
   "nbconvert_exporter": "python",
   "pygments_lexer": "ipython3",
   "version": "3.9.13"
  }
 },
 "nbformat": 4,
 "nbformat_minor": 4
}
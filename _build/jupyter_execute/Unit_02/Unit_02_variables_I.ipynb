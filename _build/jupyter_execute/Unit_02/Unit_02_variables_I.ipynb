{
 "cells": [
  {
   "cell_type": "markdown",
   "metadata": {},
   "source": [
    "# Unit 02: First steps in Python I\n",
    "\n",
    "<a rel=\"license\" href=\"https://creativecommons.org/licenses/by/4.0/\"><img alt=\"Creative Commons Licence\" style=\"border-width:0\" src=\"https://licensebuttons.net/l/by/4.0/88x31.png\" title='This work is licensed under a Creative Commons Attribution 4.0 International License.' align=\"right\"/></a>\n",
    "\n",
    "Author: Dr Antonia Mey   \n",
    "Email: antonia.mey@ed.ac.uk\n",
    "\n",
    "### Learning objectives:\n",
    "* Interact with a Jupyter notebook\n",
    "* Declare variables\n",
    "* Print Variables\n",
    "* Getting help\n",
    "* Read data from a file\n",
    "\n",
    "You will be using the following concepts:\n",
    "\n",
    "- Variables\n",
    "- In-built functions such as `print()`\n",
    "\n",
    "Some of the content is adapted from [Software carpentry lessons](http://swcarpentry.github.io/python-novice-gapminder/index.html).\n",
    "\n",
    "### Table of Contents\n",
    "\n",
    "Notebook I (this notebook)   \n",
    "1. [Variables and Assignments](#variables)    \n",
    "2. [Data Types and Type Conversion](#datatypes)    \n",
    "3. [Built in Functions and Getting Help](#debugging) \n",
    "\n",
    "Notebook II   \n",
    "\n",
    "4. [More Data Types: Booleans and Lists](Unit_02_variables_II.ipynb)\n",
    "5. [More Data Types: Dictionaries and Tuples](Unit_02_variables_II.ipynb)  \n",
    "6. [Reading Files](Unit_02_variables_II.ipynb)  \n",
    "\n",
    "\n",
    "### Further reading for this topic\n",
    "\n",
    "- [Software carpentry lessons](http://swcarpentry.github.io/python-novice-gapminder/index.html)\n",
    "\n",
    "**<span style=\"color:black\">Jupyter Cheat Sheet</span>**\n",
    "- To run the currently highlighted cell and move focus to the next cell, hold <kbd>&#x21E7; Shift</kbd> and press <kbd>&#x23ce; Enter</kbd>;\n",
    "- To run the currently highlighted cell and keep focus in the same cell, hold <kbd>&#x21E7; Ctrl</kbd> and press <kbd>&#x23ce; Enter</kbd>;\n",
    "- To get help for a specific function, place the cursor within the function's brackets, hold <kbd>&#x21E7; Shift</kbd>, and press <kbd>&#x21E5; Tab</kbd>;"
   ]
  },
  {
   "cell_type": "markdown",
   "metadata": {},
   "source": [
    "### Warmup quiz"
   ]
  },
  {
   "cell_type": "markdown",
   "metadata": {},
   "source": [
    "An example of a typical mentimeter question to gauge the level of Python knowledge present in the class.\n",
    "<div>\n",
    "<img src=\"images/mentimeter_quiz.png\" alt=\"drawing\" width=\"400\"></img>\n",
    "</div>"
   ]
  },
  {
   "cell_type": "markdown",
   "metadata": {},
   "source": [
    "## 1. Variables and Assignments\n",
    "<a id='variables'></a>\n",
    "### Use variables to store values.\n",
    "\n",
    "* Variables are names for values.\n",
    "* In Python the `=` symbol assigns the value on the right to the name on the left.\n",
    "* The variable is created when a value is assigned to it.\n",
    "* Here, Python assigns an `age` to a variable age and a name in quotes to a variable `first_name`."
   ]
  },
  {
   "cell_type": "code",
   "execution_count": null,
   "metadata": {},
   "outputs": [],
   "source": [
    "age = 42\n",
    "first_name = 'Ahmed'"
   ]
  },
  {
   "cell_type": "markdown",
   "metadata": {},
   "source": [
    "* Variable names    \n",
    "   * can only contain letters, digits, and underscore _ (typically used to separate words in long variable names)\n",
    "   * cannot start with a digit\n",
    "   * are case sensitive (age, Age and AGE are three different variables)\n",
    "* Variable names that start with underscores like `__alistairs_real_age` have a special meaning so we won’t use these until we understand the convention."
   ]
  },
  {
   "cell_type": "markdown",
   "metadata": {},
   "source": [
    "### Use `print()` to display values"
   ]
  },
  {
   "cell_type": "markdown",
   "metadata": {},
   "source": [
    "* Python has a built-in function called `print()` that prints things as text.\n",
    "* Call the function (i.e., tell Python to run it) by using its name.\n",
    "* Provide values to the function (i.e., the things to print) in parentheses.\n",
    "* To add a string to the printout, wrap the string in single or double quotes.\n",
    "* The values passed to the function are called arguments."
   ]
  },
  {
   "cell_type": "code",
   "execution_count": null,
   "metadata": {},
   "outputs": [],
   "source": [
    "print(first_name, 'is', age, 'years old')"
   ]
  },
  {
   "cell_type": "markdown",
   "metadata": {},
   "source": [
    "* `print()` automatically puts a single space between items to separate them.\n",
    "* And wraps around to a new line at the end."
   ]
  },
  {
   "cell_type": "markdown",
   "metadata": {},
   "source": [
    "<div class=\"alert alert-info\"><b>Variables persist between cells</b>\n",
    "    \n",
    "    \n",
    "Be aware that <em>it is the order of execution of cells that is important</em> in a Jupyter notebook, not the <em>order</em> in which they appear. Python will remember <em>all</em> the code that was run previously, including any variables you have defined, irrespective of the order in the notebook. Therefore, if you define variables lower down the notebook and then (re)run cells further up, those defined further down will still be present. As an example, create two cells with the following content, in this order:\n",
    "    \n",
    "<code>print(atom)</code><br>\n",
    "<code>atom = Helium</code>\n",
    "    \n",
    "If you execute this in order, the first cell will give an error. However, if you run the first cell after the second cell it will print out 1. To prevent confusion, it can be helpful to use the <em>Kernel -> Restart & Run All</em> option which clears the interpreter and runs everything from a clean slate going top to bottom.</div>\n",
    "        "
   ]
  },
  {
   "cell_type": "markdown",
   "metadata": {},
   "source": [
    "### Variables can be used in calculations\n",
    "***\n",
    "We can use variables in calculations just as if they were values.    \n",
    "**Remember**, we assigned the value 42 to age a few lines ago."
   ]
  },
  {
   "cell_type": "code",
   "execution_count": null,
   "metadata": {},
   "outputs": [],
   "source": [
    "age = age + 3\n",
    "print('Age in three years:', age)"
   ]
  },
  {
   "cell_type": "markdown",
   "metadata": {},
   "source": [
    "### Python is case-sensitive\n",
    "\n",
    "* Python thinks that upper- and lower-case letters are different, so `Name` and `name` are different variables.\n",
    "* There are conventions for using upper-case letters at the start of variable names so we will use lower-case letters for now."
   ]
  },
  {
   "cell_type": "markdown",
   "metadata": {},
   "source": [
    "### Use meaningful variable names\n",
    "\n",
    "Python doesn't care what you call variables as long as they obey the rules (alphanumeric characters and the underscore)."
   ]
  },
  {
   "cell_type": "code",
   "execution_count": null,
   "metadata": {},
   "outputs": [],
   "source": [
    "flabadab = 42\n",
    "ewr_422_yY = 'Ahmed'\n",
    "print(ewr_422_yY, 'is', flabadab, 'years old')"
   ]
  },
  {
   "cell_type": "markdown",
   "metadata": {},
   "source": [
    "⚠️ **Use meaningful variable names** to help other people understand what the program does.\n",
    "The most important “other person” is your **future self**."
   ]
  },
  {
   "cell_type": "markdown",
   "metadata": {},
   "source": [
    "## Tasks:"
   ]
  },
  {
   "cell_type": "markdown",
   "metadata": {},
   "source": [
    "<div class=\"alert alert-success\">\n",
    "<b>Task 1.1: Assign the following variables and print them:<br></b>\n",
    "\n",
    "- Christina Miller to the variable name `Researcher_name`\n",
    "- Joseph Black to the variable name `Researcher_name_2`\n",
    "- 12 to the variable name `Carbon_mass`\n",
    "- Print all assigned variables\n",
    "    \n",
    "\n",
    "</div>    "
   ]
  },
  {
   "cell_type": "code",
   "execution_count": null,
   "metadata": {},
   "outputs": [],
   "source": [
    "# FIXME\n"
   ]
  },
  {
   "cell_type": "markdown",
   "metadata": {},
   "source": [
    "<details><summary {style='color:green;font-weight:bold'}> Click here to see the solution to Task 1.1</summary>\n",
    "    \n",
    "```python\n",
    "\n",
    "Researcher_name = \"Christina Miller\"\n",
    "Researcher_name_2 = \"Joseph Black\"\n",
    "Carbon_mass = 12\n",
    "print(\"Researcher one is:\", Researcher_name)\n",
    "print(\"Researcher two is:\", Researcher_name_2)\n",
    "print(\"The mass of carbon is:\",Carbon_mass)\n",
    "\n",
    "```\n",
    "</details>"
   ]
  },
  {
   "cell_type": "markdown",
   "metadata": {},
   "source": [
    "<div class=\"alert alert-success\">\n",
    "<b>Task 1.2: Arithmetic:<br></b>\n",
    "    \n",
    "In your head, or on paper, work out the following arithmetic as you would expect Python to do it using the rules of precedence.\n",
    "    \n",
    "1. 20 + 7 * 9 - 4 = ?\n",
    "2. 4 + 4 / 2 = ?\n",
    "3. 2 * 5 ** 2 = ?\n",
    "4. -9 / 3 ** 2 = ?\n",
    "    \n",
    "Check your answers using code cells.\n",
    "    \n",
    "Do you get the same answer if you assign variables to each value in the equation in 1?\n",
    "</b></div>"
   ]
  },
  {
   "cell_type": "code",
   "execution_count": null,
   "metadata": {},
   "outputs": [],
   "source": [
    "# FIXME\n"
   ]
  },
  {
   "cell_type": "markdown",
   "metadata": {},
   "source": [
    "<details><summary {style='color:green;font-weight:bold'}> Click here to see the solution to Task 1.2</summary>\n",
    "    \n",
    "```python\n",
    "\n",
    "print(20 + 7 * 9 - 4)\n",
    "print(4 + 4 / 2)\n",
    "print(2 * 5 ** 2)\n",
    "print(-9 / 3 ** 2)\n",
    "\n",
    "a = 20\n",
    "b = 7\n",
    "c = 9\n",
    "d = 4\n",
    "\n",
    "print(a+b*c-d)\n",
    "\n",
    "```"
   ]
  },
  {
   "cell_type": "markdown",
   "metadata": {},
   "source": [
    "<div class=\"alert alert-success\">\n",
    "<b>Task 1.3: Predicting Values:<br></b>\n",
    "    What is the final value of position in the program below? \n",
    "    \n",
    "(Try to predict the value without running the program, then check your prediction, by using `print()` to query the value of position.)</div>"
   ]
  },
  {
   "cell_type": "code",
   "execution_count": null,
   "metadata": {},
   "outputs": [],
   "source": [
    "initial = 'left'\n",
    "position = initial\n",
    "initial = 'right'"
   ]
  },
  {
   "cell_type": "code",
   "execution_count": null,
   "metadata": {},
   "outputs": [],
   "source": [
    "# FIXME\n"
   ]
  },
  {
   "cell_type": "markdown",
   "metadata": {},
   "source": [
    "<details><summary {style='color:green;font-weight:bold'}> Click here to see the solution to Task 1.3</summary>\n",
    "    \n",
    "```python\n",
    "print(position)\n",
    "```\n",
    "    \n",
    "##### Explanation\n",
    "The `initial` variable is assigned the value `'left'`. In the second line, the `position` variable also receives the string value `'left'`. In third line, the `initial` variable is given the value `'right'`, but the `position` variable retains its string value of `'left'`.\n",
    "</details>"
   ]
  },
  {
   "cell_type": "markdown",
   "metadata": {},
   "source": [
    "<div class=\"alert alert-success\">\n",
    "<b>Task 1.3: Choosing a Name<br>\n",
    "Which is a better variable name, m, min, or minutes? Why?</b>\n",
    "    \n",
    "Hint: think about which code you would rather inherit from someone who is leaving the lab:\n",
    "\n",
    "1. `ts = m * 60 + s`\n",
    "2. `tot_sec = min * 60 + sec`\n",
    "3. `total_seconds = minutes * 60 + seconds`</div>"
   ]
  },
  {
   "cell_type": "code",
   "execution_count": null,
   "metadata": {},
   "outputs": [],
   "source": [
    "#FIXME\n"
   ]
  },
  {
   "cell_type": "markdown",
   "metadata": {},
   "source": [
    "<details><summary {style='color:green;font-weight:bold'}> Click here to see the solution to Task 1.3. </summary>\n",
    "    \n",
    "```python\n",
    "\n",
    "```\n",
    "\n",
    "`minutes` is better because `min` might mean something like “minimum” (and actually is an existing built-in function in Python that we will cover later).\n",
    " </details>"
   ]
  },
  {
   "cell_type": "markdown",
   "metadata": {},
   "source": [
    "<div class=\"alert alert-success\">\n",
    "<b>Task 1.4: Challenge:<br></b>\n",
    "If you assign <code>a = 123</code>, what happens if you try to get the second digit of a via <code>a[1]</code>? What happens if you use <code>str(a[1])</code></div>"
   ]
  },
  {
   "cell_type": "code",
   "execution_count": null,
   "metadata": {},
   "outputs": [],
   "source": [
    "#FIXME\n"
   ]
  },
  {
   "cell_type": "markdown",
   "metadata": {},
   "source": [
    "<details><summary {style='color:green;font-weight:bold'}> Click here to see the solution to Task 1.4</summary>\n",
    "    \n",
    "```python\n",
    "print(a[1])\n",
    "print(str(a[1]))\n",
    "```\n",
    "    \n",
    "Numbers are not strings or sequences and Python will raise an error if you try to perform an index operation on a number. In the next part on types and type conversion we will learn more about types and how to convert between different types. If you want the Nth digit of a number you can convert it into a string using the `str` built-in function and then perform an index operation on that string.\n",
    "</details>"
   ]
  },
  {
   "cell_type": "markdown",
   "metadata": {},
   "source": [
    "<div class=\"alert alert-warning\">\n",
    "<b>Advanced Task 1.5: Fill in the blanks to get a substring</b>\n",
    "</div>"
   ]
  },
  {
   "cell_type": "code",
   "execution_count": null,
   "metadata": {},
   "outputs": [],
   "source": [
    "atom_name = 'carbon'\n",
    "print('atom_name[1:3] is:', #FIXME)"
   ]
  },
  {
   "cell_type": "markdown",
   "metadata": {},
   "source": [
    "<details><summary {style='color:green;font-weight:bold'}> Click here to see the solution to Task 1.5.</summary>\n",
    "    \n",
    "```python\n",
    "atom_name = 'carbon'\n",
    "print('atom_name[1:3] is:', atom_name[1:3])\n",
    "```\n",
    "</details>"
   ]
  },
  {
   "cell_type": "markdown",
   "metadata": {},
   "source": [
    "<div class=\"alert alert-info\"> <b>Key Points</b>\n",
    "\n",
    "- Use variables to store values.   \n",
    "- Use `print()` to display values.   \n",
    "- Variables persist between cells.   \n",
    "- Variables must be created before they are used.  \n",
    "- Variables can be used in calculations.   \n",
    "- Use an index to get a single character from a string.\n",
    "- Use a slice to get a substring.\n",
    "- Python is case-sensitive.\n",
    "- Use meaningful variable names.\n",
    "</div>"
   ]
  },
  {
   "cell_type": "markdown",
   "metadata": {},
   "source": [
    "## 2. Data Types and Type Conversion\n",
    "<a id='datatypes'></a>"
   ]
  },
  {
   "cell_type": "markdown",
   "metadata": {},
   "source": [
    "### Every value has a type\n",
    "\n",
    "* Every value in a program has a specific type.\n",
    "* Integer (`int`): represents positive or negative whole numbers like 3 or -512.\n",
    "* Floating point number (`float`): represents real numbers like 3.14159 or -2.5.\n",
    "* Character string (usually called “string”, `str`): text.\n",
    "  * Written in either single quotes or double quotes (as long as they match).\n",
    "  * The quote marks aren't printed when the string is displayed."
   ]
  },
  {
   "cell_type": "markdown",
   "metadata": {},
   "source": [
    "### Use the built-in function type to find the type of a value\n",
    "\n",
    "* Use the built-in function `type()` to find out what type a value has.\n",
    "* Works on variables as well.\n",
    "  * But remember: ⚠️ the *value* has the type — the *variable* is just a label."
   ]
  },
  {
   "cell_type": "code",
   "execution_count": null,
   "metadata": {},
   "outputs": [],
   "source": [
    "print(type(52))"
   ]
  },
  {
   "cell_type": "code",
   "execution_count": null,
   "metadata": {},
   "outputs": [],
   "source": [
    "fitness = 'average'\n",
    "print(type(fitness))"
   ]
  },
  {
   "cell_type": "markdown",
   "metadata": {},
   "source": [
    "### Types control what operations (or methods) can be performed on a given value\n",
    "\n",
    "A value's type determines what the program can do to it."
   ]
  },
  {
   "cell_type": "code",
   "execution_count": null,
   "metadata": {},
   "outputs": [],
   "source": [
    "print(5 - 3)"
   ]
  },
  {
   "cell_type": "code",
   "execution_count": null,
   "metadata": {},
   "outputs": [],
   "source": [
    "print('hello' - 'h')"
   ]
  },
  {
   "cell_type": "markdown",
   "metadata": {},
   "source": [
    "### You can use the “+” and “*” operators on strings\n",
    "\n",
    "“Adding” character strings concatenates them."
   ]
  },
  {
   "cell_type": "code",
   "execution_count": null,
   "metadata": {},
   "outputs": [],
   "source": [
    "full_name = 'Ahmed' + ' ' + 'Walsh'\n",
    "print(full_name)"
   ]
  },
  {
   "cell_type": "markdown",
   "metadata": {},
   "source": [
    "* Multiplying a character string by an integer N creates a new string that consists of that character string repeated N times.\n",
    "  * Since multiplication is repeated addition."
   ]
  },
  {
   "cell_type": "code",
   "execution_count": null,
   "metadata": {},
   "outputs": [],
   "source": [
    "separator = '=' * 10\n",
    "print(separator)"
   ]
  },
  {
   "cell_type": "markdown",
   "metadata": {},
   "source": [
    "### Strings have a length (but numbers don't)\n",
    "\n",
    "The built-in function `len()` counts the number of characters in a string."
   ]
  },
  {
   "cell_type": "code",
   "execution_count": null,
   "metadata": {},
   "outputs": [],
   "source": [
    "print(len(full_name))"
   ]
  },
  {
   "cell_type": "code",
   "execution_count": null,
   "metadata": {},
   "outputs": [],
   "source": [
    "print(len(52))"
   ]
  },
  {
   "cell_type": "markdown",
   "metadata": {},
   "source": [
    "### Use an index to get a single character from a string\n",
    "***\n",
    "* The characters (individual letters, numbers, and so on) in a string are ordered. For example, the string 'AB' is not the same as 'BA'. Because of this ordering, we can treat the string as a list of characters.\n",
    "* Each position in the string (first, second, etc.) is given a number. This number is called an index or sometimes a subscript.\n",
    "* Indexes are numbered from 0.\n",
    "* Use the position's index in square brackets to get the character at that position.   \n",
    "\n",
    "<div>\n",
    "<img src=\"images/indexing.png\" alt=\"drawing\" width=\"300\"></img>\n",
    "</div>"
   ]
  },
  {
   "cell_type": "code",
   "execution_count": null,
   "metadata": {},
   "outputs": [],
   "source": [
    "atom_name = 'helium'\n",
    "print(atom_name[0])"
   ]
  },
  {
   "cell_type": "markdown",
   "metadata": {},
   "source": [
    "### Use a slice to get a substring\n",
    "\n",
    "* A part of a string is called a **substring**. A substring can be as short as a single character.\n",
    "* An item in a list is called an **element**. Whenever we treat a string as if it were a list, the string's elements are its individual characters.\n",
    "* A **slice** is a part of a string (or, more generally, any list-like thing).\n",
    "* We take a slice by using `[start:stop]`, where `start` is replaced with the index of the first element we want and `stop` is replaced with the index of the element just after the last element we want.\n",
    "* Mathematically, you might say that a slice selects `[start:stop)`.\n",
    "* The difference between `stop` and `start` is the slice’s length.\n",
    "* Taking a slice does not change the contents of the original string. Instead, the slice is a copy of part of the original string."
   ]
  },
  {
   "cell_type": "code",
   "execution_count": null,
   "metadata": {},
   "outputs": [],
   "source": [
    "atom_name = 'sodium'\n",
    "print(atom_name[0:3])"
   ]
  },
  {
   "cell_type": "markdown",
   "metadata": {},
   "source": [
    "### Must convert numbers to strings or vice versa when operating on them\n",
    "\n",
    "Cannot add numbers and strings."
   ]
  },
  {
   "cell_type": "code",
   "execution_count": null,
   "metadata": {},
   "outputs": [],
   "source": [
    "print(1 + '2')"
   ]
  },
  {
   "cell_type": "markdown",
   "metadata": {},
   "source": [
    "* Not allowed because it's ambiguous: should 1 + '2' be 3 or '12'?\n",
    "* Some types can be converted to other types by using the type name as a function."
   ]
  },
  {
   "cell_type": "code",
   "execution_count": null,
   "metadata": {},
   "outputs": [],
   "source": [
    "print(1 + int('2'))\n",
    "print(str(1) + '2')"
   ]
  },
  {
   "cell_type": "markdown",
   "metadata": {},
   "source": [
    "### Can mix integers and floats freely in operations\n",
    "\n",
    "* Integers and floating-point numbers can be mixed in arithmetic.\n",
    "* Python 3 automatically converts integers to floats as needed. "
   ]
  },
  {
   "cell_type": "code",
   "execution_count": null,
   "metadata": {},
   "outputs": [],
   "source": [
    "print('half is', 1 / 2.0)\n",
    "print('three squared is', 3.0 ** 2)"
   ]
  },
  {
   "cell_type": "markdown",
   "metadata": {},
   "source": [
    "### Variables only change value when something is assigned to them\n",
    "\n",
    "* If we make one cell in a spreadsheet depend on another, and update the latter, the former updates automatically.\n",
    "* This does **not** happen in programming languages."
   ]
  },
  {
   "cell_type": "code",
   "execution_count": null,
   "metadata": {},
   "outputs": [],
   "source": [
    "first = 1\n",
    "second = 5 * first\n",
    "first = 2\n",
    "print('first is', first, 'and second is', second)"
   ]
  },
  {
   "cell_type": "markdown",
   "metadata": {},
   "source": [
    "* The computer reads the value of `first` when doing the multiplication, creates a new value, and assigns it to `second`.\n",
    "* After that, `second` does not remember where it came from."
   ]
  },
  {
   "cell_type": "markdown",
   "metadata": {},
   "source": [
    "## Tasks"
   ]
  },
  {
   "cell_type": "markdown",
   "metadata": {},
   "source": [
    "<div class=\"alert alert-success\">\n",
    "<b>Task 2.1: Rational numbers:</b>\n",
    "    \n",
    "What type of value is 3.4? How can you find out?</div>"
   ]
  },
  {
   "cell_type": "code",
   "execution_count": null,
   "metadata": {},
   "outputs": [],
   "source": [
    "#FIXME\n"
   ]
  },
  {
   "cell_type": "markdown",
   "metadata": {},
   "source": [
    "<details><summary {style='color:green;font-weight:bold'}> Click here to see the solution to Task 2.1</summary>\n",
    "    \n",
    "```python\n",
    "print(type(3.4))\n",
    "```\n",
    "It is a floating-point number (often abbreviated “float”).\n",
    "</details>"
   ]
  },
  {
   "cell_type": "markdown",
   "metadata": {},
   "source": [
    "<div class=\"alert alert-success\">\n",
    "<b>Task 2.2: Automatic type conversion:</b>\n",
    "    \n",
    "What type of value is $3.25 + 4$? </div>"
   ]
  },
  {
   "cell_type": "code",
   "execution_count": null,
   "metadata": {},
   "outputs": [],
   "source": [
    "# FIXME\n"
   ]
  },
  {
   "cell_type": "markdown",
   "metadata": {},
   "source": [
    "<details><summary {style='color:green;font-weight:bold'}> Click here to see the solution to Task 2.2. </summary>\n",
    "    \n",
    "```python\n",
    "result = 3.25 + 4\n",
    "print(result, 'is', type(result))\n",
    "```\n",
    "It is a float: integers are automatically converted to floats as necessary.\n",
    "</details>"
   ]
  },
  {
   "cell_type": "markdown",
   "metadata": {},
   "source": [
    "<div class=\"alert alert-success\"><b>Task 2.3: Choosing a type:</b>\n",
    "    \n",
    "What type of value (integer, floating point number, or character string) would you use to represent each of the following? \n",
    "    \n",
    "Try to come up with more than one good answer for each problem.\n",
    "\n",
    "1. Number of days since the start of the year.\n",
    "2. Time elapsed from the start of the year until now in days.\n",
    "3. Serial number of a piece of lab equipment.\n",
    "4. A lab specimen's age\n",
    "5. Current population of a city.\n",
    "6. Average population of a city over time.\n",
    "    \n",
    "(You should give a Markdown solution)</div>"
   ]
  },
  {
   "cell_type": "code",
   "execution_count": null,
   "metadata": {},
   "outputs": [],
   "source": [
    "# 1.\n",
    "# FIXME\n"
   ]
  },
  {
   "cell_type": "code",
   "execution_count": null,
   "metadata": {},
   "outputs": [],
   "source": [
    "# 2.\n",
    "# FIXME"
   ]
  },
  {
   "cell_type": "code",
   "execution_count": null,
   "metadata": {},
   "outputs": [],
   "source": [
    "# 3.\n",
    "# FIXME"
   ]
  },
  {
   "cell_type": "code",
   "execution_count": null,
   "metadata": {},
   "outputs": [],
   "source": [
    "# 4.\n",
    "# FIXME"
   ]
  },
  {
   "cell_type": "code",
   "execution_count": null,
   "metadata": {},
   "outputs": [],
   "source": [
    "# 5.\n",
    "# FIXME"
   ]
  },
  {
   "cell_type": "code",
   "execution_count": null,
   "metadata": {},
   "outputs": [],
   "source": [
    "# 6.\n",
    "# FIXME"
   ]
  },
  {
   "cell_type": "markdown",
   "metadata": {},
   "source": [
    "<details><summary {style='color:green;font-weight:bold'}> Click here to see the solution to Task 2.3. </summary>\n",
    "Explanation <br>    \n",
    "  \n",
    "1. Integer, since the number of days would lie between 1 and 365. <br>\n",
    "2. Floating point, since fractional days are required <br>\n",
    "3. Character string if serial number contains letters and numbers, otherwise integer if the serial number consists only of numerals <br>\n",
    "4. This will vary! How do you define a specimen's age? whole days since collection (integer)? date and time (string)? <br>\n",
    "5. Choose floating point to represent population as large aggregates (eg millions), or integer to represent population in units of individuals. <br>\n",
    "6. Floating point number, since an average is likely to have a fractional part.\n",
    "</details>\n"
   ]
  },
  {
   "cell_type": "code",
   "execution_count": null,
   "metadata": {},
   "outputs": [],
   "source": [
    "#FIXME\n"
   ]
  },
  {
   "cell_type": "markdown",
   "metadata": {},
   "source": [
    "<div class=\"alert alert-success\"><b>Task 2.4: Predicting types:</br></b>\n",
    "    \n",
    "What are the types of each of the following numbers?\n",
    "\n",
    "- 6   \n",
    "- 10.3   \n",
    "- -99.0   \n",
    "- 1.0   \n",
    "</div>"
   ]
  },
  {
   "cell_type": "code",
   "execution_count": null,
   "metadata": {},
   "outputs": [],
   "source": [
    "# TRY ME\n"
   ]
  },
  {
   "cell_type": "markdown",
   "metadata": {},
   "source": [
    "<details><summary {style='color:green;font-weight:bold'}> Click here to see the solution to Task 2.4. </summary>\n",
    "\n",
    "    6 -> integer\n",
    "    10.3 -> floating point\n",
    "    -99.0 -> floating point\n",
    "    1.0 -> floating point\n",
    "    \n",
    "If you are unsure use the <code>type</code> function.\n",
    "</details>\n"
   ]
  },
  {
   "cell_type": "markdown",
   "metadata": {},
   "source": [
    "<div class=\"alert alert-success\"><b>Task 2.4: Strings to numbers:</br></b>\n",
    "    \n",
    "You can convert a float to an integer in the following way: \n",
    "<code>print(int(3.4))</code> \n",
    "    \n",
    "What kind of output do you get for the following conversions? \n",
    "\n",
    "Why do some of them fail?\n",
    "\n",
    "1. <code>print(\"string to float:\", float(\"3.4\"))</code>\n",
    "2. <code>print(\"float to int:\", int(3.4))</code>\n",
    "3. <code>print(\"string to float:\", float(\"Hello world!\"))</code>\n",
    "4. <code>print(\"fractional string to int:\", int(\"3.4\"))</code>\n",
    "</div>"
   ]
  },
  {
   "cell_type": "code",
   "execution_count": null,
   "metadata": {},
   "outputs": [],
   "source": [
    "# 1.\n",
    "# FIXME\n"
   ]
  },
  {
   "cell_type": "code",
   "execution_count": null,
   "metadata": {},
   "outputs": [],
   "source": [
    "# 2.\n",
    "# FIXME"
   ]
  },
  {
   "cell_type": "code",
   "execution_count": null,
   "metadata": {},
   "outputs": [],
   "source": [
    "# 3.\n",
    "# FIXME"
   ]
  },
  {
   "cell_type": "code",
   "execution_count": null,
   "metadata": {},
   "outputs": [],
   "source": [
    "# 4.\n",
    "# FIXME"
   ]
  },
  {
   "cell_type": "markdown",
   "metadata": {},
   "source": [
    "<details><summary {style='color:green;font-weight:bold'}> Click here to see solution to Task 2.4 </summary>\n",
    "    \n",
    "1. ```python\n",
    "print(\"string to float:\", float(\"3.4\"))\n",
    "```\n",
    "2. ```python\n",
    " print(\"float to int:\", int(3.4))\n",
    "```\n",
    "3. ```python\n",
    "print(\"string to float:\", float(\"Hello world!\"))\n",
    "```\n",
    "4. ```python\n",
    "print(\"fractional string to int:\", int(\"3.4\"))\n",
    "```\n",
    "\n",
    "What do you expect this program to do? It would not be so unreasonable to expect the Python 3 `int` command to convert the string “3.4” to 3.4 and an additional type conversion to 3. After all, Python 3 performs a lot of other magic - isn’t that part of its charm?\n",
    "However, Python 3 throws an error. Why? To be consistent, possibly. If you ask Python to perform two consecutive typecasts, you must convert it explicitly in code.\n",
    "</details>"
   ]
  },
  {
   "cell_type": "markdown",
   "metadata": {},
   "source": [
    "<div class=\"alert alert-success\"><b>Task 2.5: Operations on numbers:</br></b>\n",
    "\n",
    "- What type of number do you get if you do 4 / 2?\n",
    "- What type of number do you get if you do 4 // 2?\n",
    "\n",
    "</div>"
   ]
  },
  {
   "cell_type": "markdown",
   "metadata": {},
   "source": [
    "<details><summary {style='color:green;font-weight:bold'}> Click here to see the solution to Task 2.5. </summary>\n",
    "\n",
    "```python\n",
    "    print(4/2, \"is of type\", type(4/2))\n",
    "    print(4//2, \"is of type\", type(4//2))\n",
    "```\n",
    "</details>"
   ]
  },
  {
   "cell_type": "markdown",
   "metadata": {},
   "source": [
    "<div class=\"alert alert-info\"> <b>Key Points<br></b>\n",
    "\n",
    "- Every value has a `type()`.\n",
    "- Use the built-in function `type~ to find the type of a value.\n",
    "- Types control what operations can be done on values.\n",
    "- Strings can be added and multiplied.\n",
    "- Strings have a length (but numbers don't).\n",
    "- Must convert numbers to strings or vice versa when operating on them.\n",
    "- Can mix integers and floats freely in operations.\n",
    "- Variables only change value when something is assigned to them.</div>\n",
    "\n"
   ]
  },
  {
   "cell_type": "markdown",
   "metadata": {},
   "source": [
    "## 3. Built-in Functions and Getting Help\n",
    "<a id='debugging'></a>"
   ]
  },
  {
   "cell_type": "markdown",
   "metadata": {},
   "source": [
    "### Use comments to add documentation to programs\n",
    "\n",
    "- You can use `#` to set a comment. Typically you would place a space after the `#` before writing the comment.\n",
    "- You can also use `\"\"\"` for longer comments that stretch across multiple lines."
   ]
  },
  {
   "cell_type": "code",
   "execution_count": null,
   "metadata": {},
   "outputs": [],
   "source": [
    "# This sentence isn't executed by Python.\n",
    "adjustment = 0.5   # Neither is this - anything after '#' is ignored."
   ]
  },
  {
   "cell_type": "code",
   "execution_count": null,
   "metadata": {},
   "outputs": [],
   "source": [
    "\"\"\"This is also a way to comment, but if you just want to \n",
    "write comments over\n",
    "multiple lines.\n",
    "This way you don't have to use the # symbol at the start of each line\n",
    "\"\"\"\n",
    "weight = 0.5\n",
    "print('The weight is:',weight)"
   ]
  },
  {
   "cell_type": "markdown",
   "metadata": {},
   "source": [
    "### A function may take zero or more arguments\n",
    "\n",
    "* We have seen some functions already — now let's take a closer look.\n",
    "* An **argument** is a value passed into a function.\n",
    "* `len()` takes exactly one.\n",
    "* `int`, `str`, and `float` create a new value from an existing one.\n",
    "* `print` takes zero or more.\n",
    "* `print` with no arguments prints a blank line.\n",
    "  * Must always use parentheses, even if they're empty, so that Python knows a function is being called.\n",
    "* `id()` returns a unique integer (identity) of a passed argument object.\n",
    "* You will learn how to write your own functions in Session 4."
   ]
  },
  {
   "cell_type": "code",
   "execution_count": null,
   "metadata": {},
   "outputs": [],
   "source": [
    "print('before')\n",
    "print()\n",
    "print('after')"
   ]
  },
  {
   "cell_type": "markdown",
   "metadata": {},
   "source": [
    "### Commonly-used built-in functions include max and min\n",
    "* Use `max()` to find the largest value of one or more values.\n",
    "* Use `min()` to find the smallest.\n",
    "* Both work on character strings as well as numbers.\n",
    "  * “Larger” and “smaller” use (0-9, A-Z, a-z) to compare letters."
   ]
  },
  {
   "cell_type": "code",
   "execution_count": null,
   "metadata": {},
   "outputs": [],
   "source": [
    "print(max(1, 2, 3))\n",
    "print(min('a', 'A', '0'))"
   ]
  },
  {
   "cell_type": "markdown",
   "metadata": {},
   "source": [
    "### Functions may only work for certain (combinations of) arguments\n",
    "\n",
    "* `max()` and `min()` must be given at least one argument.\n",
    "   * “Largest of the empty set” is a meaningless question.\n",
    "* And they must be given things that can meaningfully be compared.\n"
   ]
  },
  {
   "cell_type": "code",
   "execution_count": null,
   "metadata": {},
   "outputs": [],
   "source": [
    "print(max(1, 'a'))"
   ]
  },
  {
   "cell_type": "markdown",
   "metadata": {},
   "source": [
    "### Use the built-in function help to get help for a function\n",
    "* Every built-in function has online documentation."
   ]
  },
  {
   "cell_type": "code",
   "execution_count": null,
   "metadata": {},
   "outputs": [],
   "source": [
    "help(min)"
   ]
  },
  {
   "cell_type": "markdown",
   "metadata": {},
   "source": [
    "### Python reports a syntax error when it can't understand the source of a program\n",
    "* Won't even try to run the program if it can't be parsed.\n"
   ]
  },
  {
   "cell_type": "code",
   "execution_count": null,
   "metadata": {},
   "outputs": [],
   "source": [
    "# Forgot to close the quote marks around the string.\n",
    "name = 'Feng"
   ]
  },
  {
   "cell_type": "code",
   "execution_count": null,
   "metadata": {},
   "outputs": [],
   "source": [
    "# An extra '=' in the assignment.\n",
    "age = = 52"
   ]
  },
  {
   "cell_type": "code",
   "execution_count": null,
   "metadata": {},
   "outputs": [],
   "source": [
    "print(\"hello world\""
   ]
  },
  {
   "cell_type": "markdown",
   "metadata": {},
   "source": [
    "### The error message can help\n",
    "* The message indicates a problem on first line of the input (“line 1”).\n",
    "* In this case the “ipython-input” section of the file name tells us that we are working with input into IPython, the Python interpreter used by the Jupyter Notebook.\n",
    "* The `-xx-` part of the filename indicates that the error occurred in cell XX of our Notebook.\n",
    "* Next is the problematic line of code, indicating the problem with a `^` pointer."
   ]
  },
  {
   "cell_type": "markdown",
   "metadata": {},
   "source": [
    "## Python reports a runtime error when something goes wrong while a program is executing"
   ]
  },
  {
   "cell_type": "code",
   "execution_count": null,
   "metadata": {},
   "outputs": [],
   "source": [
    "age = 53\n",
    "remaining = 100 - aege # mis-spelled 'age'"
   ]
  },
  {
   "cell_type": "markdown",
   "metadata": {},
   "source": [
    "* Fix syntax errors by reading the source and runtime errors by tracing execution."
   ]
  },
  {
   "cell_type": "markdown",
   "metadata": {},
   "source": [
    "### The Jupyter Notebook has two ways to get help\n",
    "\n",
    "* Place the cursor anywhere in the function invocation (i.e., the function name or its parameters), hold down `shift`, and press `tab`.\n",
    "* Or type a function name with a question mark after it."
   ]
  },
  {
   "cell_type": "code",
   "execution_count": null,
   "metadata": {},
   "outputs": [],
   "source": [
    "len?"
   ]
  },
  {
   "cell_type": "code",
   "execution_count": null,
   "metadata": {},
   "outputs": [],
   "source": [
    "len()"
   ]
  },
  {
   "cell_type": "markdown",
   "metadata": {},
   "source": [
    "### The function `id()` can help you understand how a variable is assigned"
   ]
  },
  {
   "cell_type": "code",
   "execution_count": null,
   "metadata": {},
   "outputs": [],
   "source": [
    "print(\"id of 'Curie' =\", id('Curie'))\n",
    "\n",
    "name = 'Curie'\n",
    "\n",
    "print(\"id of name =\", id(name))\n",
    "\n",
    "first_name = name\n",
    "\n",
    "print(\"id of first_name =\", id(first_name))\n",
    "\n",
    "name_lower_case = 'curie'\n",
    "\n",
    "print(\"id of name_lower_case =\", id(name_lower_case))"
   ]
  },
  {
   "cell_type": "markdown",
   "metadata": {},
   "source": [
    "* The `id()` function returns a unique integer number for every unique value it is used with.\n",
    "\n",
    "* In the above example, we have used the `id()` function with variables a, b and c and got their corresponding ids.\n",
    "\n",
    "* The `id()` function returns the integer same integer for both a = 5 and 5, as well as b."
   ]
  },
  {
   "cell_type": "markdown",
   "metadata": {},
   "source": [
    "### Every function returns something\n",
    "\n",
    "* Every function call produces some result.\n",
    "* If the function doesn't have a useful result to return, it usually returns the special value `None`."
   ]
  },
  {
   "cell_type": "code",
   "execution_count": null,
   "metadata": {},
   "outputs": [],
   "source": [
    "result = print('example')\n",
    "print('result of print is', result)"
   ]
  },
  {
   "cell_type": "markdown",
   "metadata": {},
   "source": [
    "<div class=\"alert alert-info\"> <b>Key Points<br></b>\n",
    "\n",
    "* Use comments to add documentation to programs.\n",
    "* A function may take zero or more arguments.\n",
    "* Commonly-used built-in functions include `max` and `min`.\n",
    "* Functions may only work for certain (combinations of) arguments.\n",
    "* Functions may have default values for some arguments.\n",
    "* Use the built-in function `help` to get help for a function.\n",
    "* The Jupyter Notebook has two ways to get help.\n",
    "* Every function returns something.\n",
    "* Python reports a syntax error when it can't understand the source of a program.\n",
    "* Python reports a runtime error when something goes wrong while a program is executing.\n",
    "* Fix syntax errors by reading the source code, and runtime errors by tracing the program's execution.</div>"
   ]
  },
  {
   "cell_type": "markdown",
   "metadata": {},
   "source": [
    "<div>\n",
    "<img src=\"images/break.png\" alt=\"drawing\" width=\"300\"></img>\n",
    "</div>"
   ]
  },
  {
   "cell_type": "markdown",
   "metadata": {},
   "source": [
    "# Next notebook:\n",
    "\n",
    "[Unit 02 variables II](Unit_02_variables_II.ipynb)"
   ]
  }
 ],
 "metadata": {
  "kernelspec": {
   "display_name": "Python 3 (ipykernel)",
   "language": "python",
   "name": "python3"
  },
  "language_info": {
   "codemirror_mode": {
    "name": "ipython",
    "version": 3
   },
   "file_extension": ".py",
   "mimetype": "text/x-python",
   "name": "python",
   "nbconvert_exporter": "python",
   "pygments_lexer": "ipython3",
   "version": "3.9.13"
  },
  "toc": {
   "base_numbering": 1,
   "nav_menu": {},
   "number_sections": false,
   "sideBar": true,
   "skip_h1_title": false,
   "title_cell": "Table of Contents",
   "title_sidebar": "Contents",
   "toc_cell": false,
   "toc_position": {},
   "toc_section_display": true,
   "toc_window_display": false
  },
  "vscode": {
   "interpreter": {
    "hash": "02f18a21a35e5954c18fa769bc3437e1d5dd28e5f0ee8ec3c48889ec5af25b37"
   }
  }
 },
 "nbformat": 4,
 "nbformat_minor": 4
}
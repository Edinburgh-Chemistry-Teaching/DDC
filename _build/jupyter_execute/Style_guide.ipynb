{
 "cells": [
  {
   "cell_type": "markdown",
   "id": "af626032",
   "metadata": {},
   "source": [
    "# Title of notebook"
   ]
  },
  {
   "cell_type": "markdown",
   "id": "3b85fc2c",
   "metadata": {},
   "source": [
    "<a rel=\"license\" href=\"http://creativecommons.org/licenses/by/4.0/\"><img alt=\"Creative Commons Licence\" style=\"border-width:0\" src=\"https://i.creativecommons.org/l/by/4.0/88x31.png\" title='This work is licensed under a Creative Commons Attribution 4.0 International License.' align=\"right\"/></a>\n",
    "\n",
    "Author: Dr James Cumby   \n",
    "Email: james.cumby@ed.ac.uk"
   ]
  },
  {
   "attachments": {},
   "cell_type": "markdown",
   "id": "afad4439",
   "metadata": {},
   "source": [
    "## Overview\n",
    "\n",
    "A brief introduction to the Unit\n",
    "\n",
    "### Learning Objectives\n",
    "\n",
    "- List learning objectives\n",
    "\n",
    "### Table of Contents\n",
    "- [1 first item in toc](#link) \n",
    "    - [1.1 first subitem in toc](#link3)\n",
    "- [2 second item in toc](#link2)\n",
    "\n",
    "Use TOC if the notebook is long, doesn't have to be there if the notebook is short.\n",
    "\n",
    "### Further reading for this topic\n",
    "- give links here\n",
    "\n",
    "### Link to documentation:\n",
    "You can find the full documentation at [scipy.org](https://scipy.org).\n",
    "\n",
    "**<span style=\"color:black\">Jupyter Cheat Sheet</span>**\n",
    "- To run the currently highlighted cell and move focus to the next cell, hold <kbd>&#x21E7; Shift</kbd> and press <kbd>&#x23ce; Enter</kbd>;\n",
    "- To run the currently highlighted cell and keep focus in the same cell, hold <kbd>&#x21E7; Ctrl</kbd> and press <kbd>&#x23ce; Enter</kbd>;\n",
    "- To get help for a specific function, place the cursor within the function's brackets, hold <kbd>&#x21E7; Shift</kbd>, and press <kbd>&#x21E5; Tab</kbd>;"
   ]
  },
  {
   "cell_type": "code",
   "execution_count": 1,
   "id": "a2d0e56f",
   "metadata": {},
   "outputs": [],
   "source": [
    "# This would be where we should put global imports in the notebook\n",
    "import matplotlib.pylab as plt"
   ]
  },
  {
   "cell_type": "markdown",
   "id": "a67efc5d",
   "metadata": {},
   "source": [
    "## 1 Use Level 2 heading for section headings\n",
    "### 1.1 Use Level 3 heading for subsection headings"
   ]
  },
  {
   "cell_type": "markdown",
   "id": "f4c9f63a",
   "metadata": {},
   "source": [
    "## Tasks:\n",
    "\n",
    "Make sure tasks are numbered. \n",
    "\n",
    "Tasks are announced using an alert alert-success box in this way:\n",
    "<div class=\"alert alert-success\">\n",
    "<b>Task 5.2: Write a function that computes bond lengths:</b>\n",
    "    \n",
    " Task instructions \n",
    "</div>\n",
    "and followed by an incomplete cell. All exercises should be numbered. \n",
    "Missing parts are indicated by:\n",
    "\n",
    "```python\n",
    "#FIXME\n",
    "```\n",
    "\n",
    "Solutions to tasks are given in the cell below using the following details tag that can be used for expansion using the standardised text to do so:\n",
    "\n",
    "<details><summary {style='color:green;font-weight:bold'}> Click here to see solution to Task. </summary>\n",
    "    \n",
    "```python\n",
    "from math import sqrt\n",
    "```\n",
    "    \n",
    "  "
   ]
  },
  {
   "cell_type": "markdown",
   "id": "452413d6",
   "metadata": {},
   "source": [
    "<div class=\"alert alert-warning\">\n",
    "<b>Advanced Task 5.3: Extra exercises are given in yellow </b>\n",
    "    \n",
    "and more instructions here\n",
    "</div>  "
   ]
  },
  {
   "cell_type": "markdown",
   "id": "741e8195",
   "metadata": {},
   "source": [
    "## Additional information noteworthy things\n",
    "\n",
    "<div class=\"alert alert-info\">\n",
    "<b>Anything noteworthy should be added to an info box. You can use the <code>I am code</code> tags to write code here</b>\n",
    "\n",
    " But it doesn't all have to be in bold\n",
    "</div>\n",
    "\n",
    "To give extra attention use the exclamation mark warning sign: ⚠️ (Literally copy this icon and put it into the file)"
   ]
  },
  {
   "cell_type": "markdown",
   "id": "d4868ac2",
   "metadata": {},
   "source": [
    "## Questions for deliberation:"
   ]
  },
  {
   "cell_type": "markdown",
   "id": "efb93735",
   "metadata": {},
   "source": [
    "<div class=\"alert alert-danger\"><b>\n",
    "Question:</b> What is the difference between <code>tuple</code>, <code>array</code> and a <code>list</code>? \n",
    "</div>\n",
    "\n",
    "Questions should use the alert-danger class."
   ]
  },
  {
   "cell_type": "markdown",
   "id": "67b3f936",
   "metadata": {},
   "source": [
    "### Some formatting:\n",
    "\n",
    "- All equations should be type set using LaTex, i.e. $\\Delta \\Delta G$ and not ΔΔG. \n",
    "- Make sure you format equations according to ACS, or AMS guidelines, i.e. subscripts that are short for a word should not be in italics, e.g. Measured intensity should be $I_{\\mathrm{m}}$. The same applies to quantities in equations, $\\mathrm{time} = \\ldots$\n",
    "- All packages should be highlighted in code, i.e. `scipy`. \n",
    "- Common abbreviations could be highlighted either in the Readme or the first notebook. \n",
    "- use `'` but `\"` where necessary, i.e. a string with a string inside it. "
   ]
  },
  {
   "cell_type": "markdown",
   "id": "cf457599",
   "metadata": {},
   "source": [
    "## Structure of directory for each Unit"
   ]
  },
  {
   "cell_type": "markdown",
   "id": "eccbb1e6",
   "metadata": {},
   "source": [
    "### Images\n",
    "Any images that are displayed in the notebook should be in an `images` directory, arranged in this way: `Unit_xx/images/name_of_image.png`\n",
    "\n",
    "### Data\n",
    "Any data used in the notebook should be in a `data` directory, arranged in this way: `Unit_xx/data/name_of_data_file.txt`"
   ]
  },
  {
   "cell_type": "markdown",
   "id": "51570f42",
   "metadata": {},
   "source": [
    "### License\n",
    "\n",
    "All data and images need to be licensed under CC-BY. Each notebook should have the CC-BY badge at the top as shown above. "
   ]
  },
  {
   "cell_type": "markdown",
   "id": "d542c2be",
   "metadata": {},
   "source": [
    "### Language\n",
    "\n",
    "Use inclusive language:\n",
    "- not master or slave\n",
    "- not parent or child\n",
    "- avoid complicated language such as parsing a file without explaining it. "
   ]
  },
  {
   "cell_type": "markdown",
   "id": "12452ae9",
   "metadata": {},
   "source": [
    "## Python Style Guide\n",
    "\n",
    "In general we should follow PEP8. But let's not break a leg over it: https://peps.python.org/pep-0008/ "
   ]
  },
  {
   "cell_type": "markdown",
   "id": "e50ad5ed",
   "metadata": {},
   "source": [
    "### Things we should definitely do:\n",
    "1. Use fStrings: https://realpython.com/python-f-strings/ \n",
    "2. Place a space between a hashtag for a comment and code e.g.:\n",
    "    \n",
    "    ```Python\n",
    "    # This is a comment\n",
    "    a = 20\n",
    "    ```\n",
    "3. Avoid overflowing line lengths.\n",
    "4. Every function should be documented.\n",
    "5. Use descriptive variable names e.g. (don't go and change everything, but some examples my be very bad):\n",
    "   \n",
    "   ```Python\n",
    "   # bad\n",
    "   x = np.array([3,4,5,6])\n",
    "   # good\n",
    "   pressures = np.array([3,4,5,6])\n",
    "   ```\n",
    "6. Update all instances of random number generators to match this: https://numpy.org/neps/nep-0019-rng-policy.html"
   ]
  },
  {
   "cell_type": "code",
   "execution_count": null,
   "id": "47d523d0",
   "metadata": {},
   "outputs": [],
   "source": []
  }
 ],
 "metadata": {
  "kernelspec": {
   "display_name": "Python 3 (ipykernel)",
   "language": "python",
   "name": "python3"
  },
  "language_info": {
   "codemirror_mode": {
    "name": "ipython",
    "version": 3
   },
   "file_extension": ".py",
   "mimetype": "text/x-python",
   "name": "python",
   "nbconvert_exporter": "python",
   "pygments_lexer": "ipython3",
   "version": "3.11.0"
  },
  "vscode": {
   "interpreter": {
    "hash": "31f2aee4e71d21fbe5cf8b01ff0e069b9275f58929596ceb00d14d90e3e16cd6"
   }
  }
 },
 "nbformat": 4,
 "nbformat_minor": 5
}
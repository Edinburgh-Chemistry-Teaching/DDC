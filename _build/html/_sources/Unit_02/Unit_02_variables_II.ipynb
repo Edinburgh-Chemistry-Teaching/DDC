{
 "cells": [
  {
   "cell_type": "markdown",
   "id": "8fdd89c3",
   "metadata": {},
   "source": [
    "# Unit 2: First steps in Python II"
   ]
  },
  {
   "cell_type": "markdown",
   "id": "bc577818",
   "metadata": {},
   "source": [
    "<a rel=\"license\" href=\"https://creativecommons.org/licenses/by/4.0/\"><img alt=\"Creative Commons Licence\" style=\"border-width:0\" src=\"https://licensebuttons.net/l/by/4.0/88x31.png\" title='This work is licensed under a Creative Commons Attribution 4.0 International License.' align=\"right\"/></a>\n",
    "\n",
    "Author: Dr Antonia Mey   \n",
    "Email: antonia.mey@ed.ac.uk\n",
    "\n",
    "### Learning objectives:\n",
    "* Interact with a Jupyter notebook\n",
    "* Declare variables\n",
    "* Print Variables\n",
    "* Getting help\n",
    "* Read data from a file\n",
    "\n",
    "You will be using the following concepts:\n",
    "\n",
    "- Variables\n",
    "- In-built functions such as `print()`\n",
    "\n",
    "### Table of Contents\n",
    "\n",
    "Notebook I   \n",
    "1. [Variables and Assignments](Unit_02_variables_I.ipynb)    \n",
    "2. [Data Types and Type Conversion](Unit_02_variables_I.ipynb)    \n",
    "3. [Built in Functions and Getting Help](Unit_02_variables_I.ipynb)\n",
    "\n",
    "Notebook II (this notebook)\n",
    "\n",
    "4. [More Data Types: Booleans and Lists](#advanced_types_i)\n",
    "5. [More Data Types: Dictionaries and Tuples](#advanced_types_ii)\n",
    "6. [Reading Files](#reading)"
   ]
  },
  {
   "cell_type": "markdown",
   "id": "5688ddda",
   "metadata": {},
   "source": [
    "## 4. More Data Types: Booleans and Lists\n",
    "<a id='advanced_types_i'></a>"
   ]
  },
  {
   "cell_type": "markdown",
   "id": "4a32e9cc",
   "metadata": {},
   "source": [
    "### `Bool` is a binary type where a variable can either be `True` or `False`\n",
    "Note how the syntax highlighting tells you that `True` and `False` are key words, and how they are case dependent."
   ]
  },
  {
   "cell_type": "code",
   "execution_count": null,
   "id": "9f0f655f",
   "metadata": {},
   "outputs": [],
   "source": [
    "two_is_a_prime = True\n",
    "pi_is_an_integer = False"
   ]
  },
  {
   "cell_type": "code",
   "execution_count": null,
   "id": "c723fbd6",
   "metadata": {},
   "outputs": [],
   "source": [
    "print(type(two_is_a_prime))\n",
    "print(type(pi_is_an_integer))"
   ]
  },
  {
   "cell_type": "markdown",
   "id": "027e2e33",
   "metadata": {},
   "source": [
    "### A list stores many values in a single structure"
   ]
  },
  {
   "cell_type": "markdown",
   "id": "b10706a7",
   "metadata": {},
   "source": [
    "* Doing calculations with a hundred variables called `pressure_001`, `pressure_002`, etc., would be at least as slow as doing them by hand.\n",
    "* Use a list to store many values together.\n",
    "  * Contained within square brackets `[...]`.\n",
    "  * Values separated by commas `,`.\n",
    "* Use `len` to find out how many values are in a list."
   ]
  },
  {
   "cell_type": "code",
   "execution_count": null,
   "id": "2ce47950",
   "metadata": {},
   "outputs": [],
   "source": [
    "pressures = [0.273, 0.275, 0.277, 0.275, 0.276]\n",
    "print('pressures:', pressures)\n",
    "print('length:', len(pressures))"
   ]
  },
  {
   "cell_type": "markdown",
   "id": "dbdd1c1f",
   "metadata": {},
   "source": [
    "### Use an item's index to fetch it from a list\n",
    "* Just like strings"
   ]
  },
  {
   "cell_type": "code",
   "execution_count": null,
   "id": "002c416c",
   "metadata": {},
   "outputs": [],
   "source": [
    "print('zeroth item of pressures:', pressures[0])\n",
    "print('fourth item of pressures:', pressures[4])"
   ]
  },
  {
   "cell_type": "markdown",
   "id": "a8ca480f",
   "metadata": {},
   "source": [
    "### Lists' values can be replaced by assigning new values to them\n",
    "* Use an index expression on the left of assignment to replace a value."
   ]
  },
  {
   "cell_type": "code",
   "execution_count": null,
   "id": "b9bc1c2c",
   "metadata": {},
   "outputs": [],
   "source": [
    "pressures[0] = 0.265\n",
    "print('pressures is now:', pressures)"
   ]
  },
  {
   "cell_type": "markdown",
   "id": "2c12d8e3",
   "metadata": {},
   "source": [
    "### Appending items to a list extends the list\n",
    "* Use `list_name.append()` to add items to the end of a list."
   ]
  },
  {
   "cell_type": "code",
   "execution_count": null,
   "id": "25c8f0c0",
   "metadata": {},
   "outputs": [],
   "source": [
    "primes = [2, 3, 5]\n",
    "print('primes is initially:', primes)\n",
    "primes.append(7)\n",
    "print('primes has become:', primes)"
   ]
  },
  {
   "cell_type": "markdown",
   "id": "9c100e55",
   "metadata": {},
   "source": [
    "* `append()` is a method of lists.\n",
    "  * Like a function, but tied to a particular object.\n",
    "* Use `object_name.method_name()` to call methods.\n",
    "  * Deliberately resembles the way we refer to things in a library.\n",
    "* We will meet other methods of lists as we go along.\n",
    "  * Use help(list) for a preview.\n",
    "* `extend()` is similar to `append()`, but it allows you to combine two lists. For example:"
   ]
  },
  {
   "cell_type": "code",
   "execution_count": null,
   "id": "eff0ad6e",
   "metadata": {},
   "outputs": [],
   "source": [
    "teen_primes = [11, 13, 17, 19]\n",
    "middle_aged_primes = [37, 41, 43, 47]\n",
    "print('primes is currently:', primes)\n",
    "primes.extend(teen_primes)\n",
    "print('primes has now become:', primes)\n",
    "primes.append(middle_aged_primes)\n",
    "print('primes has finally become:', primes)"
   ]
  },
  {
   "cell_type": "markdown",
   "id": "efa093f2",
   "metadata": {},
   "source": [
    "Note that while `extend()` maintains the “flat” structure of the list, appending a list to a list makes the result two-dimensional - the last element in `primes` is a list, not an integer."
   ]
  },
  {
   "cell_type": "markdown",
   "id": "90786eef",
   "metadata": {},
   "source": [
    "### Use `del` to remove items from a list entirely\n",
    "* We use `del list_name[index]` to remove an element from a list (in the example, 9 is not a prime number) and thus shorten it.\n",
    "* `del` is not a function or a method, but a statement in the language."
   ]
  },
  {
   "cell_type": "code",
   "execution_count": null,
   "id": "5a54025f",
   "metadata": {},
   "outputs": [],
   "source": [
    "primes = [2, 3, 5, 7, 9]\n",
    "print('primes before removing last item:', primes)\n",
    "del primes[4]\n",
    "print('primes after removing last item:', primes)"
   ]
  },
  {
   "cell_type": "markdown",
   "id": "250590c8",
   "metadata": {},
   "source": [
    "### The empty list contains no values\n",
    "* Use `[]` on its own to represent a list that doesn't contain any values.\n",
    "  * “The zero of lists.”"
   ]
  },
  {
   "cell_type": "markdown",
   "id": "e5c8f569",
   "metadata": {},
   "source": [
    "### Lists may contain values of different types\n",
    "* A single list may contain numbers, strings, and anything else."
   ]
  },
  {
   "cell_type": "code",
   "execution_count": null,
   "id": "243e4bc8",
   "metadata": {},
   "outputs": [],
   "source": [
    "goals = [1, 'Create lists.', 2, 'Extract items from lists.', 3, 'Modify lists.']"
   ]
  },
  {
   "cell_type": "markdown",
   "id": "1fc1dbcc",
   "metadata": {},
   "source": [
    "### Character strings can be indexed in the same way as lists\n",
    "* Get single characters from a character string using indexes in square brackets."
   ]
  },
  {
   "cell_type": "code",
   "execution_count": null,
   "id": "47ff8c8e",
   "metadata": {},
   "outputs": [],
   "source": [
    "element = 'carbon'\n",
    "print('zeroth character:', element[0])\n",
    "print('third character:', element[3])"
   ]
  },
  {
   "cell_type": "markdown",
   "id": "a4c3c9e8",
   "metadata": {},
   "source": [
    "### Character strings are immutable\n",
    "\n",
    "* Cannot change the characters in a string after it has been created.\n",
    "  * Immutable: can't be changed after creation.\n",
    "  * In contrast, lists are mutable: they can be modified in place.\n",
    "* Python considers the string to be a single value with parts, not a collection of values."
   ]
  },
  {
   "cell_type": "code",
   "execution_count": null,
   "id": "8bd098ef",
   "metadata": {},
   "outputs": [],
   "source": [
    "element[0] = 'C'"
   ]
  },
  {
   "cell_type": "markdown",
   "id": "1a63664b",
   "metadata": {},
   "source": [
    "* Lists and character strings are both collections."
   ]
  },
  {
   "cell_type": "markdown",
   "id": "46d2869c",
   "metadata": {},
   "source": [
    "### Indexing beyond the end of the collection is an error\n",
    "* Python reports an `IndexError` if we attempt to access a value that doesn't exist.\n",
    "  * This is a kind of [runtime error](http://swcarpentry.github.io/python-novice-gapminder/04-built-in/#runtime-error).\n",
    "  * Cannot be detected as the code is parsed because the index might be calculated based on data."
   ]
  },
  {
   "cell_type": "markdown",
   "id": "31068db2",
   "metadata": {},
   "source": [
    "### You can sort a list in place using list_variable_name.sort()"
   ]
  },
  {
   "cell_type": "code",
   "execution_count": null,
   "id": "ef099e44",
   "metadata": {},
   "outputs": [],
   "source": [
    "wavelengths_in_nm = [560, 780, 340, 570]\n",
    "print(wavelengths_in_nm)\n",
    "wavelengths_in_nm.sort()\n",
    "print(wavelengths_in_nm)"
   ]
  },
  {
   "cell_type": "markdown",
   "id": "a51f1087",
   "metadata": {},
   "source": [
    "## Tasks"
   ]
  },
  {
   "cell_type": "markdown",
   "id": "2e2abcf3",
   "metadata": {},
   "source": [
    "<div class=\"alert alert-success\"><b>Task 4.1: Working with lists I<br></b>\n",
    "    \n",
    "Create the following lists:\n",
    "\n",
    "- A list containing the first 5 prime numbers\n",
    "- A list containing elements 11-15\n",
    "- A list containing the formation enthalpy of H$_2$O, molar entropy of H$_2$O and the Gibbs free energy of H$_2$O. This list should have 6 elements, the values and strings indicating what value will follow next in the list. Use the data below for this:\n",
    "    \n",
    "    | $\\Delta_\\mathrm{f} H^{\\circ}$ in kJ/mol | $S_\\mathrm{m}^{\\circ}$ in J/K mol | $c_\\mathrm{p}$ in J/kg K |\n",
    "|-----------------------------------------|-----------------------------------|------------------------|\n",
    "| -285.83                                 | 69.95                             | 4189                   |\n",
    "    \n",
    "Carefully consider your variable name for each list. \n",
    "</div>"
   ]
  },
  {
   "cell_type": "code",
   "execution_count": null,
   "id": "ac478d14",
   "metadata": {},
   "outputs": [],
   "source": [
    "# FIXME\n"
   ]
  },
  {
   "cell_type": "markdown",
   "id": "8fb43585",
   "metadata": {},
   "source": [
    "<details><summary {style='color:green;font-weight:bold'}> Click here to see the solution to Task 4.1 </summary>\n",
    "    \n",
    "```python\n",
    "primes = [2, 3, 5, 7, 11]\n",
    "elements = ['Na', 'Mg', 'Al', 'Si', 'P']\n",
    "thermodynamic_data_h2o = ['enthalpy of formation',-285.83 ,'molar entropy',69.95 , 'specific heat', 4148]\n",
    "\n",
    "```\n",
    "</details>"
   ]
  },
  {
   "cell_type": "markdown",
   "id": "9ea7a74a",
   "metadata": {},
   "source": [
    "<div class=\"alert alert-success\"><b>Task 4.2: Working with lists II<br></b>\n",
    "    \n",
    "Using the lists you have assigned above:\n",
    "\n",
    "- print each list\n",
    "- print the length of each list\n",
    "- remove the first element of the elements list\n",
    "- reassign the value of specific heat $c_\\mathrm{p}$ to 4184 as the above value is wrong.\n",
    "- reassign your primes list to be an empty list\n",
    "</div>"
   ]
  },
  {
   "cell_type": "code",
   "execution_count": null,
   "id": "4f92d958",
   "metadata": {},
   "outputs": [],
   "source": [
    "# FIXME\n"
   ]
  },
  {
   "cell_type": "markdown",
   "id": "f9aaeb4c",
   "metadata": {},
   "source": [
    "<details><summary {style='color:green;font-weight:bold'}> Click here to see the solution to Task 4.2 </summary>\n",
    "    \n",
    "```python\n",
    "# print each list\n",
    "print(primes)\n",
    "print(elements)\n",
    "print(thermodynamic_data_h2o)\n",
    "\n",
    "# print length of each list\n",
    "print(len(primes))\n",
    "print(len(elements))\n",
    "print(len(thermodynamic_data_h2o))\n",
    "\n",
    "# remove first element\n",
    "del elements [0]\n",
    "print(elements)\n",
    "# reassign specific heat value\n",
    "thermodynamic_data_h2o[-1] = 4184\n",
    "# make primes an empty list\n",
    "primes = []\n",
    "\n",
    "```\n",
    "</details>"
   ]
  },
  {
   "cell_type": "markdown",
   "id": "72fd505c",
   "metadata": {},
   "source": [
    "<div class=\"alert alert-success\"><b>Task 4.3: Lists with booleans<br></b>\n",
    "    \n",
    "\n",
    "Create and empty list and append 3 elements of type boolean to it. Make a random choice if the boolean is true or false.\n",
    "   \n",
    "</div>"
   ]
  },
  {
   "cell_type": "code",
   "execution_count": null,
   "id": "af3f1b98",
   "metadata": {},
   "outputs": [],
   "source": [
    "# FIXME\n"
   ]
  },
  {
   "cell_type": "markdown",
   "id": "6ef5fab9",
   "metadata": {},
   "source": [
    "<details><summary {style='color:green;font-weight:bold'}> Click here to see the solution to Task 4.3 </summary>\n",
    "    \n",
    "```python\n",
    "boolean_list = []\n",
    "boolean_list.append(True)\n",
    "boolean_list.append(False)\n",
    "boolean_list.append(True)\n",
    "print(boolean_list)\n",
    "\n",
    "```\n",
    "</details>"
   ]
  },
  {
   "cell_type": "markdown",
   "id": "f3d7dfc2",
   "metadata": {},
   "source": [
    "<div class=\"alert alert-success\"><b>Task 4.4: How large is the slice?<br></b>\n",
    "\n",
    "If ‘low’ and ‘high’ are both non-negative integers, how long is resulting list ```values[low:high]``` ? \n",
    "    \n",
    "Try a few examples.\n",
    "\n",
    "Notice how lists can be sliced in the same way as strings!\n",
    "</div>"
   ]
  },
  {
   "cell_type": "code",
   "execution_count": null,
   "id": "173368d0",
   "metadata": {},
   "outputs": [],
   "source": [
    "values = [2,5,7,2,4,7,9,0,33,1,245]"
   ]
  },
  {
   "cell_type": "code",
   "execution_count": null,
   "id": "5e7f0ea6",
   "metadata": {},
   "outputs": [],
   "source": [
    "#FIXME\n"
   ]
  },
  {
   "cell_type": "markdown",
   "id": "e3a8e1f1",
   "metadata": {},
   "source": [
    "<details><summary {style='color:green;font-weight:bold'}> Click here to see the solution to Task 4.4 </summary>\n",
    "# Examples  \n",
    "    \n",
    "```python\n",
    "print(values[1:4])\n",
    "print(values[4:5])\n",
    "```\n",
    "    \n",
    "The list `values[low:high]` has high - low elements. For example, `values[1:4]` has the 3 elements `values[1]`, `values[2]`, and `values[3]`. Note that the expression will only work if `high` is less than the total length of the list `values`.\n",
    "</details>"
   ]
  },
  {
   "cell_type": "markdown",
   "id": "bc016925",
   "metadata": {},
   "source": [
    "<div class=\"alert alert-success\"><b>Task 4.5: Fill in the blanks<br></b>\n",
    "    \n",
    "\n",
    "Write a bit of code that the following is printed in the Jupyter cell you are running the bit of Python code \n",
    "    \n",
    "`first time: [1, 3, 5]`    \n",
    "`second time: [3, 5]`\n",
    "</div>"
   ]
  },
  {
   "cell_type": "code",
   "execution_count": null,
   "id": "6a5bd3be",
   "metadata": {},
   "outputs": [],
   "source": [
    "# FIXME\n",
    "values = []\n",
    "# FIXME\n"
   ]
  },
  {
   "cell_type": "markdown",
   "id": "c40f4d15",
   "metadata": {},
   "source": [
    "<details><summary {style='color:green;font-weight:bold'}> Click here to see the solution to Task 4.1 </summary>\n",
    "    \n",
    "```python\n",
    "values = []\n",
    "values.append(1)\n",
    "values.append(3)\n",
    "values.append(5)\n",
    "print('first time:', values)\n",
    "values = values[1:]\n",
    "print('second time:', values)   \n",
    "\n",
    "```\n",
    "</details>\n"
   ]
  },
  {
   "cell_type": "markdown",
   "id": "6f0a7b31",
   "metadata": {},
   "source": [
    "<div class=\"alert alert-warning\"><b>Advanced Task 4.6: From Strings to Lists and Back<br></b>\n",
    "\n",
    "Given the code below:\n",
    "    \n",
    "```Python\n",
    "print('string to list:', list('tin'))    \n",
    "print('list to string:', ''.join(['g', 'o', 'l', 'd']))\n",
    "\n",
    "```\n",
    "\n",
    "Answer the following questions:    \n",
    "1. What does `list('some string')` do?\n",
    "2. What does `'-'.join(['x','y','x'])` do?\n",
    "\n",
    "</div>"
   ]
  },
  {
   "cell_type": "code",
   "execution_count": null,
   "id": "37786b2c",
   "metadata": {},
   "outputs": [],
   "source": [
    "print('string to list:', list('tin'))"
   ]
  },
  {
   "cell_type": "code",
   "execution_count": null,
   "id": "c4d6bc43",
   "metadata": {},
   "outputs": [],
   "source": [
    "print('list to string:', ''.join(['g', 'o', 'l', 'd']))"
   ]
  },
  {
   "cell_type": "code",
   "execution_count": null,
   "id": "d136de6d",
   "metadata": {},
   "outputs": [],
   "source": [
    "# 1. \n",
    "#FIXME"
   ]
  },
  {
   "cell_type": "code",
   "execution_count": null,
   "id": "568c5baf",
   "metadata": {},
   "outputs": [],
   "source": [
    "# 2.\n",
    "#FIXME"
   ]
  },
  {
   "cell_type": "markdown",
   "id": "c209ebcc",
   "metadata": {},
   "source": [
    "<details><summary {style='color:green;font-weight:bold'}> Click here to see the solution to Advanced Task 4.6 </summary>\n",
    "    \n",
    "1. ```python\n",
    "    list('some string') \n",
    "```\n",
    "converts a string into a list containing all of its characters.\n",
    "2. ```python\n",
    "    .join \n",
    "```\n",
    "    returns a string that is the concatenation of each string element in the list and adds the separator between each element in the list. <br>\n",
    "    This results in `x-y-z`. The separator between the elements is the string that provides this method.  \n",
    "\n",
    "</details>\n"
   ]
  },
  {
   "cell_type": "markdown",
   "id": "be642be4",
   "metadata": {},
   "source": [
    "<div class=\"alert alert-warning\"><b>Task 4.7: Working with the End<br></b>\n",
    "\n",
    "\n",
    "Execute the cell below, what does it print?\n",
    "\n",
    "1. How does Python interpret a negative index?\n",
    "2. If a list or string has N elements, what is the most negative index that can safely be used with it, and what location does that index represent?\n",
    "3. If `values` is a list, what does `del values[-1]` do?\n",
    "4. How can you display all elements but the last one without changing `values`? (Hint: you will need to combine slicing and negative indexing.)\n",
    "\n",
    "<code>element = 'helium'\n",
    "print(element[-1])</code>\n",
    "</div>"
   ]
  },
  {
   "cell_type": "code",
   "execution_count": null,
   "id": "7babf7fe",
   "metadata": {},
   "outputs": [],
   "source": [
    "# 1.\n",
    "#FIXME\n"
   ]
  },
  {
   "cell_type": "code",
   "execution_count": null,
   "id": "de91c94a",
   "metadata": {},
   "outputs": [],
   "source": [
    "# 2.\n",
    "#FIXME\n"
   ]
  },
  {
   "cell_type": "code",
   "execution_count": null,
   "id": "8a604f92",
   "metadata": {},
   "outputs": [],
   "source": [
    "# 3.\n",
    "#FIXME\n"
   ]
  },
  {
   "cell_type": "code",
   "execution_count": null,
   "id": "9868dc53",
   "metadata": {},
   "outputs": [],
   "source": [
    "# 4.\n",
    "#FIXME\n"
   ]
  },
  {
   "cell_type": "markdown",
   "id": "35ed9a4d",
   "metadata": {},
   "source": [
    "<details><summary {style='color:green;font-weight:bold'}> Click here to see solution to Task 4.7 </summary>\n",
    "    \n",
    "```python\n",
    "```\n",
    "The program prints `m`. \n",
    "    <br>\n",
    "1. Python interprets a negative index as starting from the end (as opposed to starting from the beginning). The last element is `-1`. <br>\n",
    "2. The last index that can safely be used with a list of N elements is element -N, which represents the first element. <br>\n",
    "3. `del values[-1]` removes the last element from the list. <br>\n",
    "4. `values[:-1]` \n",
    "    \n",
    "\n",
    "\n",
    "</details>"
   ]
  },
  {
   "cell_type": "markdown",
   "id": "727eb55e",
   "metadata": {},
   "source": [
    "<div class=\"alert alert-warning\"><b>Task 4.8: Sort and Sorted:<br></b>\n",
    "\n",
    "What does program A print and what does program B print? In simple terms, explain the difference between <code>sorted(letters)</code> and <code>letters.sort()</code>.\n",
    "</div>"
   ]
  },
  {
   "cell_type": "code",
   "execution_count": null,
   "id": "2eb8f3b5",
   "metadata": {},
   "outputs": [],
   "source": [
    "# Program A\n",
    "letters = list('gold')\n",
    "result = sorted(letters)\n",
    "print('letters is', letters, 'and result is', result)"
   ]
  },
  {
   "cell_type": "code",
   "execution_count": null,
   "id": "a6b1f205",
   "metadata": {},
   "outputs": [],
   "source": [
    "# Program B\n",
    "letters = list('gold')\n",
    "result = letters.sort()\n",
    "print('letters is', letters, 'and result is', result)\n"
   ]
  },
  {
   "cell_type": "markdown",
   "id": "a8dc27fa",
   "metadata": {},
   "source": [
    "<details><summary {style='color:green;font-weight:bold'}> Click here to see solution to Task 4.8 </summary>\n",
    "    \n",
    "\n",
    "\n",
    "Program A prints\n",
    "\n",
    "```Python\n",
    "letters is ['g', 'o', 'l', 'd'] and result is ['d', 'g', 'l', 'o']\n",
    "\n",
    "```\n",
    "\n",
    "Program B print\n",
    "\n",
    "```Python\n",
    "letters is ['d', 'g', 'l', 'o'] and result is None\n",
    "```\n",
    "\n",
    "`sorted(letters)` returns a sorted copy of the list `letters` (the original list `letters` remains unchanged), while `letters.sort()` sorts the list `letters` in-place and does not return anything.\n",
    "    \n",
    "</details>"
   ]
  },
  {
   "cell_type": "markdown",
   "id": "ed37d864",
   "metadata": {},
   "source": [
    "<div class=\"alert alert-warning\"><b>Advanced Task 4.9: Copying or not:<br></b>\n",
    "\n",
    "What do these two programs print? \n",
    "    \n",
    "In simple terms, explain the difference between `new = old` and `new = old[:]`.\n",
    "    \n",
    "(You should give a Markdown answer)\n",
    "</div>"
   ]
  },
  {
   "cell_type": "code",
   "execution_count": null,
   "id": "b9451ca6",
   "metadata": {},
   "outputs": [],
   "source": [
    "# Program A\n",
    "old = list('gold')\n",
    "new = old      # simple assignment\n",
    "new[0] = 'D'\n",
    "print('new is', new, 'and old is', old)"
   ]
  },
  {
   "cell_type": "code",
   "execution_count": null,
   "id": "edd397a8",
   "metadata": {},
   "outputs": [],
   "source": [
    "# Program B\n",
    "old = list('gold')\n",
    "new = old[:]   # assigning a slice\n",
    "new[0] = 'D'\n",
    "print('new is', new, 'and old is', old)"
   ]
  },
  {
   "cell_type": "code",
   "execution_count": null,
   "id": "1a1b50a1",
   "metadata": {},
   "outputs": [],
   "source": [
    "# FIXME\n"
   ]
  },
  {
   "cell_type": "markdown",
   "id": "0e2356ee",
   "metadata": {},
   "source": [
    "<details><summary {style='color:green;font-weight:bold'}> Click here to see solution to Task 4.8 </summary>\n",
    "    \n",
    "\n",
    "Program A prints\n",
    "\n",
    "```Python\n",
    "new is ['D', 'o', 'l', 'd'] and old is ['D', 'o', 'l', 'd']\n",
    "```\n",
    "\n",
    "Program B prints\n",
    "\n",
    "```Python\n",
    "new is ['D', 'o', 'l', 'd'] and old is ['g', 'o', 'l', 'd']\n",
    "```\n",
    "\n",
    "\n",
    "`new = old` makes `new` a reference to the list `old`; `new` and `old` point towards the same object.\n",
    "`new = old[:]` however, creates a new list object `new` containing all elements from the list `old`; `new` and `old` are different objects.\n",
    "    \n",
    "</details>"
   ]
  },
  {
   "cell_type": "markdown",
   "id": "a7e8bc2f",
   "metadata": {},
   "source": [
    "<div class=\"alert alert-info\"> <b>Key Points<br></b>\n",
    "\n",
    "* A list stores many values in a single structure.\n",
    "* Use an item’s index to fetch it from a list.\n",
    "* Lists’ values can be replaced by assigning to them.\n",
    "* Appending items to a list lengthens it.\n",
    "* Use `del` to remove items from a list entirely.\n",
    "* The empty list contains no values.\n",
    "* Lists may contain values of different types.\n",
    "* Character strings can be indexed like lists.\n",
    "* Character strings are immutable.\n",
    "* Indexing beyond the end of the collection is an error.</div>"
   ]
  },
  {
   "cell_type": "markdown",
   "id": "7fc53102",
   "metadata": {},
   "source": [
    "## 5. More Datatypes: Dictionaries and Tuples\n",
    "<a id='advanced_types_ii'></a>"
   ]
  },
  {
   "cell_type": "markdown",
   "id": "73d00400",
   "metadata": {},
   "source": [
    "### Dictionaries are an unordered collection of key and value pairs.\n",
    "**Keys are:**\n",
    "* Immutable: You cannot change them after assignment\n",
    "* Unique: You can only have the same key once in a dictionary\n",
    "* not stored in any particular order\n",
    "\n",
    "**Values:**\n",
    "* Do not have restrictions\n",
    "* Do not have to be immutable or unique\n",
    "\n",
    "You create a dictionary by putting `key:value` pairs in `{}`\n",
    "\n",
    "![dictionaries](images/dictionaries.png)"
   ]
  },
  {
   "cell_type": "code",
   "execution_count": null,
   "id": "336c41e8",
   "metadata": {},
   "outputs": [],
   "source": [
    "birthdays = {'Newton' : 1642, 'Darwin' : 1809}"
   ]
  },
  {
   "cell_type": "markdown",
   "id": "8c6e8bc8",
   "metadata": {},
   "source": [
    "### Retrieve a dictionary value by putting a key in `[]`.\n",
    "* This is just like indexing strings and lists"
   ]
  },
  {
   "cell_type": "code",
   "execution_count": null,
   "id": "72df498f",
   "metadata": {},
   "outputs": [],
   "source": [
    "print(birthdays['Newton'])"
   ]
  },
  {
   "cell_type": "markdown",
   "id": "0fd035fd",
   "metadata": {},
   "source": [
    "### Just like using a phonebook or dictionary add values by assigning to it."
   ]
  },
  {
   "cell_type": "code",
   "execution_count": null,
   "id": "1561d64a",
   "metadata": {},
   "outputs": [],
   "source": [
    "birthdays['Turing'] = 1612 "
   ]
  },
  {
   "cell_type": "markdown",
   "id": "a84c0f29",
   "metadata": {},
   "source": [
    "### Overwrite a value by assigning it as well.\n",
    "Oh no we made a mistake Allan Turing's birthyear is actually 1912."
   ]
  },
  {
   "cell_type": "code",
   "execution_count": null,
   "id": "5cdcd561",
   "metadata": {},
   "outputs": [],
   "source": [
    "birthdays['Turing'] = 1912"
   ]
  },
  {
   "cell_type": "markdown",
   "id": "e3f89293",
   "metadata": {},
   "source": [
    "### A key must be in a dictionary before use"
   ]
  },
  {
   "cell_type": "code",
   "execution_count": null,
   "id": "d3e4c73c",
   "metadata": {},
   "outputs": [],
   "source": [
    "birthdays['Nightingale']"
   ]
  },
  {
   "cell_type": "markdown",
   "id": "996dd1ab",
   "metadata": {},
   "source": [
    "### You can test if a key is present using `in`"
   ]
  },
  {
   "cell_type": "code",
   "execution_count": null,
   "id": "9a83d721",
   "metadata": {},
   "outputs": [],
   "source": [
    "print(\"Nightingale\" in birthdays)\n",
    "print(\"Darwin\" in birthdays)"
   ]
  },
  {
   "cell_type": "markdown",
   "id": "e3415bd1",
   "metadata": {},
   "source": [
    "### Values can be of any type, also list"
   ]
  },
  {
   "cell_type": "code",
   "execution_count": null,
   "id": "a7c9e51d",
   "metadata": {},
   "outputs": [],
   "source": [
    "periodic_table = {'group_one' : ['H', 'Li', 'Na', 'K', 'Rb', 'Cs', 'Fr'], 'group_eight':['He', 'Ne', 'Ar', 'Kr', 'Xe', 'Rn']}"
   ]
  },
  {
   "cell_type": "code",
   "execution_count": null,
   "id": "37fc8243",
   "metadata": {},
   "outputs": [],
   "source": [
    "print(periodic_table['group_one'])"
   ]
  },
  {
   "cell_type": "markdown",
   "id": "543e8b39",
   "metadata": {},
   "source": [
    "## Tasks"
   ]
  },
  {
   "cell_type": "markdown",
   "id": "5f7156b9",
   "metadata": {},
   "source": [
    "<div class=\"alert alert-success\"><b>Task 5.1: Convert list to dictionary:<br></b>\n",
    "    \n",
    "Given the following two lists, rewrite them as a dictionary:   \n",
    "    \n",
    "<code>keys['Curie', 'Noether', 'Sommerville']\n",
    "values['French', 'German', 'British']</code>\n",
    "</div>"
   ]
  },
  {
   "cell_type": "code",
   "execution_count": null,
   "id": "7f8e310e",
   "metadata": {},
   "outputs": [],
   "source": [
    "scientists = {#FIXME}\n"
   ]
  },
  {
   "cell_type": "markdown",
   "id": "f3e166ff",
   "metadata": {},
   "source": [
    "<details><summary {style='color:green;font-weight:bold'}> Click here to see solution to Task 5.1 (remember to test out this answer above!)</summary>\n",
    "    \n",
    "```python\n",
    "scientists = {'Curie':'French','Noether':'German', 'Sommerville':'British'}\n",
    "    \n",
    "print(scientists)\n",
    "print(type(scientists)) \n",
    "```\n",
    "</details>"
   ]
  },
  {
   "cell_type": "markdown",
   "id": "7975f24f",
   "metadata": {},
   "source": [
    "<div class=\"alert alert-success\"><b>Task 5.2: Check if a key is in a dictionary<br></b>\n",
    "\n",
    "Assign the variable <code>key_exists</code> and print it to check if the following keys exist in the dictionary below:\n",
    "\n",
    "```python\n",
    "periodic_table = {\n",
    "    'group_one' : ['H', 'Li', 'Na', 'K', 'Rb', 'Cs', 'Fr'],\n",
    "    'group_two':[], \n",
    "    'group_three':[], \n",
    "    'group_eight':['He', 'Ne', 'Ar', 'Kr', 'Xe', 'Rn']\n",
    "    }\n",
    "```\n",
    "\n",
    "1. `group_one`\n",
    "2. `halogens`\n",
    "3. `metals`\n",
    "</div>"
   ]
  },
  {
   "cell_type": "code",
   "execution_count": null,
   "id": "453b57d1",
   "metadata": {},
   "outputs": [],
   "source": [
    "periodic_table = {\n",
    "    'group_one' : ['H', 'Li', 'Na', 'K', 'Rb', 'Cs', 'Fr'],\n",
    "    'group_two':[],\n",
    "    'group_three':[],\n",
    "    'group_eight':['He', 'Ne', 'Ar', 'Kr', 'Xe', 'Rn']\n",
    "    }\n",
    "key_exists = #FIXME\n",
    "print(key_exists)"
   ]
  },
  {
   "cell_type": "markdown",
   "id": "bcfcf39a",
   "metadata": {},
   "source": [
    "<details><summary {style='color:green;font-weight:bold'}> Click here to see solution to Task 5.2.1 </summary>\n",
    " \n",
    "key: `group_one`    \n",
    "```python\n",
    "periodic_table = {\n",
    "    'group_one' : ['H', 'Li', 'Na', 'K', 'Rb', 'Cs', 'Fr'], \n",
    "    'group_two':[], \n",
    "    'group_three':[], \n",
    "    'group_eight':['He', 'Ne', 'Ar', 'Kr', 'Xe', 'Rn']\n",
    "    }\n",
    "key_exists = 'group_one' in periodic_table\n",
    "print(key_exists)\n",
    "```\n",
    "prints `True`\n",
    "</details>\n"
   ]
  },
  {
   "cell_type": "code",
   "execution_count": null,
   "id": "da145c04",
   "metadata": {},
   "outputs": [],
   "source": [
    "periodic_table = {\n",
    "    'group_one' : ['H', 'Li', 'Na', 'K', 'Rb', 'Cs', 'Fr'],\n",
    "    'group_two':[],\n",
    "    'group_three':[],\n",
    "    'group_eight':['He', 'Ne', 'Ar', 'Kr', 'Xe', 'Rn']\n",
    "    }\n",
    "key_exists = #FIXME\n",
    "print(key_exists)"
   ]
  },
  {
   "cell_type": "markdown",
   "id": "3273ae14",
   "metadata": {},
   "source": [
    "<details><summary {style='color:green;font-weight:bold'}> Click here to see solution to Task 5.2.2 </summary>\n",
    "    \n",
    "key: `halogens` \n",
    "    \n",
    "```python\n",
    "periodic_table = {\n",
    "    'group_one' : ['H', 'Li', 'Na', 'K', 'Rb', 'Cs', 'Fr'], \n",
    "    'group_two':[], \n",
    "    'group_three':[], \n",
    "    'group_eight':['He', 'Ne', 'Ar', 'Kr', 'Xe', 'Rn']\n",
    "    }\n",
    "key_exists = 'halogens' in periodic_table\n",
    "print(key_exists)\n",
    "```\n",
    "prints `False`\n",
    "</details>"
   ]
  },
  {
   "cell_type": "markdown",
   "id": "2ae425f4",
   "metadata": {},
   "source": [
    "<details><summary {style='color:green;font-weight:bold'}> Click here to see solution to Task 5.2.3 </summary>\n",
    "\n",
    "key: `metals`\n",
    "\n",
    "```python\n",
    "periodic_table = {\n",
    "    'group_one' : ['H', 'Li', 'Na', 'K', 'Rb', 'Cs', 'Fr'], \n",
    "    'group_two':[], \n",
    "    'group_three':[], \n",
    "    'group_eight':['He', 'Ne', 'Ar', 'Kr', 'Xe', 'Rn']\n",
    "    }\n",
    "key_exists = 'metals' in periodic_table\n",
    "print(key_exists)\n",
    "```\n",
    "prints `False`\n",
    "</details>"
   ]
  },
  {
   "cell_type": "markdown",
   "id": "180b9b20",
   "metadata": {},
   "source": [
    "### A tuple is an immutable heterogenous sequence.\n",
    "* This is essentially a list that cannot be changed after creation.\n",
    "* You can create a tuple using `()` instead of `[]`."
   ]
  },
  {
   "cell_type": "code",
   "execution_count": null,
   "id": "72a91cfd",
   "metadata": {},
   "outputs": [],
   "source": [
    "elements = ('H', 'He', 'Li', 'Br', 'B', 'C')"
   ]
  },
  {
   "cell_type": "markdown",
   "id": "a0bfefd7",
   "metadata": {},
   "source": [
    "### Tuples are still indexed with square brackets `[]` and can be sliced:"
   ]
  },
  {
   "cell_type": "code",
   "execution_count": null,
   "id": "3ffe3123",
   "metadata": {},
   "outputs": [],
   "source": [
    "print(elements[0])\n",
    "print(elements[-1])\n",
    "print(elements[1:4])"
   ]
  },
  {
   "cell_type": "markdown",
   "id": "71b2408c",
   "metadata": {},
   "source": [
    "### You can query the length of a tuple."
   ]
  },
  {
   "cell_type": "code",
   "execution_count": null,
   "id": "4cb16127",
   "metadata": {},
   "outputs": [],
   "source": [
    "len(elements)"
   ]
  },
  {
   "cell_type": "markdown",
   "id": "832dde96",
   "metadata": {},
   "source": [
    "### But because they are immutable you cannot reassign or append elements to the tuple"
   ]
  },
  {
   "cell_type": "code",
   "execution_count": null,
   "id": "588211ad",
   "metadata": {},
   "outputs": [],
   "source": [
    "elements.append('N')"
   ]
  },
  {
   "cell_type": "code",
   "execution_count": null,
   "id": "9549da91",
   "metadata": {},
   "outputs": [],
   "source": [
    "elements[0] = 'Hydrogen'"
   ]
  },
  {
   "cell_type": "markdown",
   "id": "8ec148d6",
   "metadata": {},
   "source": [
    "<div class=\"alert alert-info\"> <b>Key Points</b>\n",
    "\n",
    "* A dictionary is an unordered collection of key and value pairs.\n",
    "* Keys must be unique and are immutable.\n",
    "* Values can be of any type and are mutable and don't have to be unique.\n",
    "* `{}` are used to create an empty dictionary.\n",
    "* You can add to a dictionary by giving it a new key, value pair.\n",
    "* You can query if a key exists using `in`.\n",
    "* Tuples are lists that cannot be changed after their creation (immutable).\n",
    "* `()` are used for creating a tuple.\n",
    "* To access elements of a tuple you still use `[]`.\n",
    "</div>"
   ]
  },
  {
   "cell_type": "markdown",
   "id": "d53de510",
   "metadata": {},
   "source": [
    "## 6. Reading Files\n",
    "<a id='reading'></a>"
   ]
  },
  {
   "cell_type": "markdown",
   "id": "6c3923ac",
   "metadata": {},
   "source": [
    "### There are many different ways to read files in Python.\n",
    "\n",
    "* One way is to use the built-in function `open()`\n",
    "* The output of open returns a `file object`\n",
    "* When reading files it just dumps the content of the file into a string\n",
    "* Sometimes reading a file can also be called **parsing** a file, particularly if the content of the file has a complicated structure. "
   ]
  },
  {
   "cell_type": "code",
   "execution_count": null,
   "id": "76be307a",
   "metadata": {},
   "outputs": [],
   "source": [
    "reader = open('primes.txt', 'r') # create a file object\n",
    "data = reader.read() ## read content of file into data\n",
    "reader.close() ## close the reader\n",
    "print(data)"
   ]
  },
  {
   "cell_type": "markdown",
   "id": "eeeb76e8",
   "metadata": {},
   "source": [
    "* The second argument for `open` `'r'` indicates that you are reading a file. You can also use `'a'` for appending to a file or `'w'` for just writing to a file. "
   ]
  },
  {
   "cell_type": "markdown",
   "id": "f10a97f4",
   "metadata": {},
   "source": [
    "### Using the `open` function means alot of post formatting strings needs to be done on the file content"
   ]
  },
  {
   "cell_type": "code",
   "execution_count": null,
   "id": "c4e68983",
   "metadata": {},
   "outputs": [],
   "source": [
    "print(type(data))"
   ]
  },
  {
   "cell_type": "markdown",
   "id": "2c0a66d0",
   "metadata": {},
   "source": [
    "* You can use the attribute split on a string and it will split instances of a string according to the argument given."
   ]
  },
  {
   "cell_type": "code",
   "execution_count": null,
   "id": "ed8ba6c8",
   "metadata": {},
   "outputs": [],
   "source": [
    "data_split = data.split(',') # this uses the delimiter , to split the data"
   ]
  },
  {
   "cell_type": "code",
   "execution_count": null,
   "id": "cb69190b",
   "metadata": {},
   "outputs": [],
   "source": [
    "print (data_split)"
   ]
  },
  {
   "cell_type": "markdown",
   "id": "31944330",
   "metadata": {},
   "source": [
    "* All files have so called **hidden characters** you wouldn't see if you opened them in word. \n",
    "* One such hidden character is the `\\n` this is an end of line character used for machines to know to move to the next line.\n",
    "* You can get a *tab* using the tab character given by `\\t`"
   ]
  },
  {
   "cell_type": "code",
   "execution_count": null,
   "id": "60a749e7",
   "metadata": {},
   "outputs": [],
   "source": [
    "data = data.strip('\\n') # \\n is a new line character that is hidden, strip removes it\n"
   ]
  },
  {
   "cell_type": "code",
   "execution_count": null,
   "id": "37e59b6b",
   "metadata": {},
   "outputs": [],
   "source": [
    "data_split = data.split(',')"
   ]
  },
  {
   "cell_type": "code",
   "execution_count": null,
   "id": "c8fbb81a",
   "metadata": {},
   "outputs": [],
   "source": [
    "print(data_split)"
   ]
  },
  {
   "cell_type": "markdown",
   "id": "c8e392f9",
   "metadata": {},
   "source": [
    "### There are tools available that are better at reading file content that will come already pre-formatted"
   ]
  },
  {
   "cell_type": "code",
   "execution_count": null,
   "id": "e5d220ee",
   "metadata": {},
   "outputs": [],
   "source": [
    "import numpy as np ## you'll learn about imports next week\n",
    "primes = np.loadtxt('primes.txt', delimiter=',')"
   ]
  },
  {
   "cell_type": "code",
   "execution_count": null,
   "id": "ffd49769",
   "metadata": {},
   "outputs": [],
   "source": [
    "print(primes)"
   ]
  },
  {
   "cell_type": "markdown",
   "id": "7e4c5a05",
   "metadata": {},
   "source": [
    "## Tasks"
   ]
  },
  {
   "cell_type": "markdown",
   "id": "aa551c02",
   "metadata": {},
   "source": [
    "<div class=\"alert alert-success\"><b>Task 6.1: Hidden characters and string formatting:<br></b>\n",
    "\n",
    "Let's have a look at different behaviours of strings.\n",
    "1. Use the print function for the following string: `\"The element carbon has mass 12.\\nThe element oxygen has mass 16.\\n\"`\n",
    "2. What happens if you replace the `\\n` character with `\\t`?\n",
    "3. What happens if you use `sentence.split(' ')` on the string?\n",
    "4. What about if you use `sentence.split('t')` on the string?\n",
    "</div>"
   ]
  },
  {
   "cell_type": "code",
   "execution_count": null,
   "id": "837ae346",
   "metadata": {},
   "outputs": [],
   "source": [
    "sentence = \"The element carbon has mass 12.\\nThe element oxygen has mass 16.\\n\"\n",
    "# FIXME\n"
   ]
  },
  {
   "cell_type": "markdown",
   "id": "505b75f4",
   "metadata": {},
   "source": [
    "<details><summary {style='color:green;font-weight:bold'}> Click here to see solution to Task 6.1 </summary>\n",
    "    \n",
    "```python\n",
    "# 1. \n",
    "print(sentence)\n",
    "\n",
    "# 2.\n",
    "new_sentence = \"The element carbon has mass 12.\\tThe element oxygen has mass 16.\\t\"\n",
    "print(new_sentence)\n",
    "\n",
    "# 3.\n",
    "split_space = sentence.split(' ')\n",
    "print(split_space)\n",
    "\n",
    "# 4.    \n",
    "split_t = sentence.split('t')\n",
    "print(split_t)\n",
    "\n",
    "```\n",
    "    \n",
    "When using `sentence.split(' ')`. The spaces are removed and each word is put into a list. Each element of the list is a string consisting of a word. There is some mess around the new line characters though. \n",
    "    \n",
    "When using `sentence.split('t')`. The all `t`s are removed and each part is split into a list. Notice, how the splitting is case sensitive!\n",
    "</details>"
   ]
  },
  {
   "cell_type": "markdown",
   "id": "a3b77f0f",
   "metadata": {},
   "source": [
    "<div class=\"alert alert-success\"><b>Task 6.2: Writing a file:<br></b>\n",
    "\n",
    "Take a look at the `open(filename, 'r')` functionality. \n",
    "    \n",
    "In a similar way you can write a file using `open(filename,'w')`. \n",
    "\n",
    "Define a string and write it to file. \n",
    "</div>"
   ]
  },
  {
   "cell_type": "code",
   "execution_count": null,
   "id": "8d2a4d14",
   "metadata": {},
   "outputs": [],
   "source": [
    "my_string = '#FIXME'\n",
    "writer = #FIXME\n",
    "writer.write(my_string)\n",
    "writer.close()"
   ]
  },
  {
   "cell_type": "markdown",
   "id": "70118b2c",
   "metadata": {},
   "source": [
    "<details><summary {style='color:green;font-weight:bold'}> Click here to see solution to Task 6.2 </summary>\n",
    "    \n",
    "```python\n",
    "my_string = 'I am a fun string to be written to file'\n",
    "writer = open('test.dat', 'w' )\n",
    "writer.write(my_string)\n",
    "writer.close()\n",
    "\n",
    "```\n",
    "</details>"
   ]
  },
  {
   "cell_type": "markdown",
   "id": "3ff54394",
   "metadata": {},
   "source": [
    "## END UNIT 2"
   ]
  },
  {
   "cell_type": "markdown",
   "id": "7911a11d",
   "metadata": {},
   "source": [
    "---"
   ]
  }
 ],
 "metadata": {
  "kernelspec": {
   "display_name": "Python 3 (ipykernel)",
   "language": "python",
   "name": "python3"
  },
  "language_info": {
   "codemirror_mode": {
    "name": "ipython",
    "version": 3
   },
   "file_extension": ".py",
   "mimetype": "text/x-python",
   "name": "python",
   "nbconvert_exporter": "python",
   "pygments_lexer": "ipython3",
   "version": "3.9.13"
  }
 },
 "nbformat": 4,
 "nbformat_minor": 5
}

{
 "cells": [
  {
   "cell_type": "markdown",
   "metadata": {},
   "source": [
    "# More Statistics and Working with Molecular Geometries\n",
    "\n",
    "<a rel=\"license\" href=\"https://creativecommons.org/licenses/by/4.0/\"><img alt=\"Creative Commons Licence\" style=\"border-width:0\" src=\"https://licensebuttons.net/l/by/4.0/88x31.png\" title='This work is licensed under a Creative Commons Attribution 4.0 International License.' align=\"right\"/></a>\n",
    "\n",
    "Authors: \n",
    "- Dr Antonia Mey   \n",
    "- Dr Rafal Szabla\n",
    "\n",
    "Email: antonia.mey@ed.ac.uk\n",
    "\n",
    "\n",
    "## Learning objectives:\n",
    "\n",
    "* Read and manipulate molecular file formats: `xyz` and `pdb` files\n",
    "* Visualise molecules in a Jupyter notebook\n",
    "\n",
    "\n",
    "## Table of Contents\n",
    "1. [Analysis of Molecular Geometries](#geometries)    \n",
    "    1.1 [Molecular File Formats](#file_formats)   \n",
    "    1.2 [Measuring structural parameters](#parameters)   \n",
    "    1.3 [Tasks](#tasks)\n",
    "2. [Molecular trajectories [Extra Topic]](#trajectories)   \n",
    "\n",
    "\n",
    "### Further reading for this topic\n",
    "- give links here\n",
    "\n",
    "### Link to documentation:\n",
    "\n",
    "##FIXME"
   ]
  },
  {
   "cell_type": "markdown",
   "metadata": {},
   "source": [
    "**<span style=\"color:black\">Jupyter Cheat Sheet</span>**\n",
    "- To run the currently highlighted cell and move focus to the next cell, hold <kbd>&#x21E7; Shift</kbd> and press <kbd>&#x23ce; Enter</kbd>;\n",
    "- To run the currently highlighted cell and keep focus in the same cell, hold <kbd>&#x21E7; Ctrl</kbd> and press <kbd>&#x23ce; Enter</kbd>;\n",
    "- To get help for a specific function, place the cursor within the function's brackets, hold <kbd>&#x21E7; Shift</kbd>, and press <kbd>&#x21E5; Tab</kbd>;"
   ]
  },
  {
   "cell_type": "markdown",
   "metadata": {},
   "source": [
    "#  Analysis of Molecular Geometries\n",
    "<a id='geometries'></a>"
   ]
  },
  {
   "cell_type": "markdown",
   "metadata": {},
   "source": [
    "## 3.1 Molecular file formats\n",
    "<a id='file_format'></a>\n",
    "Structural information about molecular systems can be obtained from various sources such as spectroscopy, crystallography, molecular dynamics or quantum chemical simulations. These data can be stored in various formats depending on their origin and intended applications. Apart from simple information about types of atoms and their positions in space, structural data may include information about bonding, protein or nucleic acid residues, atom types, properties (atomic numbers, charges), energies etc. In this section, you will learn how to visualize and manipulate structural data based on vector algebra. Most importantly, you will learn how to analyse complex files with molecular structures to understand and interpret various chemical phenomena. \n",
    "\n",
    "Below you can find brief descriptions of the most popular file formats used to store information on molecular structure:\n",
    "- xyz files - contain atom names and their Cartesian coordinates in separate columns, in Angstroms. The first line defines the number of atoms, while the second line is a comment (e.g. energy, molecule name etc.)\n",
    "- pdb files - a more complex format with atomic Cartesian coordinates, most commonly used for biological systems. Contain information about atom types and residues.\n",
    "- Z-matrices - contain information about bonding parameters, valence angles and dihedral angles. Can be used for constructing simple molecules in ordinary text editors.\n",
    "- CIF files - crystallographic information files. Contain crystal structure and information about the periodic unit cell of the given material. This file format is the only format capable of describing periodic materials.     \n",
    "\n",
    "While there are many other file formats for representing molecular structures, we will primarily focus on the first three types. In particular, we will learn how to extract valuable information.\n",
    "\n",
    "We will start with the simplest format, i.e. xyz files. Let's start by considering a simple xyz file containing the structure of formamide. To view the contents of the formamide-min.xyz file in your directory, open the file, assign all its contents to a variable called molecule, and print it."
   ]
  },
  {
   "cell_type": "markdown",
   "metadata": {},
   "source": [
    "### xyz files store x,y,z coordinates of a molecule and represent one of the simplest possible molecular file formats\n",
    "\n",
    "We can read the content of formamide-min.xyz  using the `open()` command. This creates a *file handle* (called `f`, in this case), enabling us to interact with the file. Using the file handle, we can read all the content of the file calling the `read()` method."
   ]
  },
  {
   "cell_type": "code",
   "execution_count": null,
   "metadata": {},
   "outputs": [],
   "source": [
    "f = open('data/formamide-min.xyz') # open the file\n",
    "molecule = f.read() # read its content\n",
    "f.close() #close the file"
   ]
  },
  {
   "cell_type": "markdown",
   "metadata": {},
   "source": [
    "### Understanding the content of an xyz file\n",
    "- The first line gives information on how many atoms there are in the molecule\n",
    "- The second line provides a name for the molecule\n",
    "- The next six lines consists of 4 columns:\n",
    "    - The first column is the name of the element, \n",
    "    - The second, third, and forth give x,y, and z spatial coordinates, respectively. "
   ]
  },
  {
   "cell_type": "code",
   "execution_count": null,
   "metadata": {},
   "outputs": [],
   "source": [
    "print(molecule)"
   ]
  },
  {
   "cell_type": "markdown",
   "metadata": {},
   "source": [
    "Let's now repeat the same operations as above, this time loading a file in the pdb format."
   ]
  },
  {
   "cell_type": "code",
   "execution_count": null,
   "metadata": {},
   "outputs": [],
   "source": [
    "f = open('data/formamide.pdb') # open the file\n",
    "molecule_pdb = f.read() # read its content\n",
    "f.close() #close the file"
   ]
  },
  {
   "cell_type": "code",
   "execution_count": null,
   "metadata": {},
   "outputs": [],
   "source": [
    "print(molecule_pdb)"
   ]
  },
  {
   "cell_type": "markdown",
   "metadata": {},
   "source": [
    "### Difference between pdb and xyz file formats\n",
    "\n",
    "- The pdb file contains similar content to the xyz file, namely the coordiantes of the molecule\n",
    "- It also contains additional bonding information and has a very specific, more complex format\n",
    "- For visuatlisation purpose we will use the pdb format, for everything else xyz, due to its simplicity"
   ]
  },
  {
   "cell_type": "markdown",
   "metadata": {},
   "source": [
    "### NGLView is a tool for viewing the spatial coordinates of a molecule\n",
    "- NGLView supports multiple file formats, but not natively xyz\n",
    "- You can use it to visualise trajectories of molecules (think molecular movie)\n",
    "- It is a handy tool to sanity check, e.g. bond lengths visually\n",
    "- You can use the `show_file()` method to visualise the file"
   ]
  },
  {
   "cell_type": "code",
   "execution_count": null,
   "metadata": {},
   "outputs": [],
   "source": [
    "import nglview # Let's start by importing nglview\n",
    "nglview.show_file('data/formamide.pdb')"
   ]
  },
  {
   "cell_type": "markdown",
   "metadata": {},
   "source": [
    "### Revisiting Dictionaries\n",
    "\n",
    "- A dictionary is a table similar to lists and tuples, which uses keys instead of indices. \n",
    "- A key can be almost any Python object, e.g. string, number, tuple etc. \n",
    "- Use self-explanatory keys to keep Python code easy to understand.\n",
    "\n",
    "Here follows an *example of usage of a dictionary* using information on the building blocks proteins: amino acids. \n",
    "There are 20 different naturally occurring amino acids. Let's assume we have written a function that stores the number of different amino acids occurring in a single protein. The result can be conveniently stored in a dictionary:"
   ]
  },
  {
   "cell_type": "code",
   "execution_count": null,
   "metadata": {},
   "outputs": [],
   "source": [
    "amino_acids_in_protein = { \"ALA\" : 21, \"GLY\" : 14, \"PRO\" : 3, \"CYS\" : 2 }"
   ]
  },
  {
   "cell_type": "markdown",
   "metadata": {},
   "source": [
    "The amino acid names are used as keys and the occurrence of each amino acid is used as the value.\n",
    "\n",
    "⚠️ **Remember**: Dictionaries use curly brackets instead of square brackets (for lists) when initiated, but you can add a new item to a dictionary or query a value based on a key in the following way:"
   ]
  },
  {
   "cell_type": "code",
   "execution_count": null,
   "metadata": {},
   "outputs": [],
   "source": [
    "# Add a new pair\n",
    "amino_acids_in_protein[\"TYR\"] = 4\n",
    "print(amino_acids_in_protein)\n",
    "\n",
    "# Query the number of a given amino acid\n",
    "print(f'There are {amino_acids_in_protein[\"ALA\"]} \"ALA\" amino acids in the protein.')"
   ]
  },
  {
   "cell_type": "markdown",
   "metadata": {},
   "source": [
    " The `.keys()` method returns all the keys in a dictionary. This is useful when you want to iterate over the dictionary in a loop:"
   ]
  },
  {
   "cell_type": "code",
   "execution_count": null,
   "metadata": {},
   "outputs": [],
   "source": [
    "for k in amino_acids_in_protein.keys():\n",
    "    print(f'{k} = {amino_acids_in_protein[k]}')"
   ]
  },
  {
   "cell_type": "markdown",
   "metadata": {},
   "source": [
    "### Parsing xyz files with Python "
   ]
  },
  {
   "cell_type": "markdown",
   "metadata": {},
   "source": [
    "The information provided by xyz files is limited to the positions of different atoms in 3-dimensional space. However, with some additional analysis we can learn more about the molecule itself, e.g.:\n",
    " - measuring bond lengths, \n",
    " - measuring angles,\n",
    " - calculating the numbers of atoms of a given elements,\n",
    " - calculating the molecular mass.\n",
    "\n",
    "For this, we need to parse the file into separate lines. The file handle `f` enables us to do this via the the `readlines()` method. This allows us to create a list of all lines in the file."
   ]
  },
  {
   "cell_type": "code",
   "execution_count": null,
   "metadata": {},
   "outputs": [],
   "source": [
    "f = open('data/formamide-min.xyz','r')\n",
    "lines = f.readlines()\n",
    "### remember to close the file\n",
    "f.close()\n",
    "\n",
    "print(lines)"
   ]
  },
  {
   "cell_type": "markdown",
   "metadata": {},
   "source": [
    "The `readlines()` method creates a list of lines from a text file. Notice how:\n",
    "- each of them ending with the `\\n` \n",
    "- Each line is stored as a string\n",
    "\n",
    "The `\\n` symbol is used to mark the of the line in text files on linux-based platforms.\n",
    "For the majority of analyses, we will only need the lines containing atomic specification. Using list ranges, print only the lines containing atomic specifications:"
   ]
  },
  {
   "cell_type": "code",
   "execution_count": null,
   "metadata": {},
   "outputs": [],
   "source": [
    "print(lines[2:])"
   ]
  },
  {
   "cell_type": "markdown",
   "metadata": {},
   "source": [
    "In order to extract the information on atom types and their positions, we need to further parse each line using the `split()` function (apart from the first two lines). This function generates a list of elements present in each line. Without any attribute, this method assumes that the elements are separated by spaces.\n",
    "\n",
    "This is how you can separate a space-separated string of text (here, the fourth line of our formamide text file) into a list of elements:"
   ]
  },
  {
   "cell_type": "code",
   "execution_count": null,
   "metadata": {},
   "outputs": [],
   "source": [
    "list_of_elements = lines[3].split()\n",
    "print(list_of_elements)"
   ]
  },
  {
   "cell_type": "markdown",
   "metadata": {},
   "source": [
    "The opposite operation, i.e. joining a list into a single string with space-separated elements, can be carried out as follows:"
   ]
  },
  {
   "cell_type": "code",
   "execution_count": null,
   "metadata": {},
   "outputs": [],
   "source": [
    "some_text = ' '.join(list_of_elements)\n",
    "print(some_text)"
   ]
  },
  {
   "cell_type": "markdown",
   "metadata": {},
   "source": [
    "## Tasks 4\n",
    "<a id='tasks6'></a>"
   ]
  },
  {
   "cell_type": "markdown",
   "metadata": {},
   "source": [
    "<div class=\"alert alert-success\">\n",
    "<b>Task 4.1: Count the number of atoms in formamide:</b>\n",
    "</div>\n",
    "Parse the file <code>data/formamide-min.xyz</code> file and count the number of atoms per atom type: how many Hydrogens, Carbons and Nitrogens are there? You will need to loop over the lines of the file, split the individual lines and then use the <code>count()</code> method for this. "
   ]
  },
  {
   "cell_type": "code",
   "execution_count": null,
   "metadata": {},
   "outputs": [],
   "source": [
    "# Task 1: Test out the solution in this cell:\n"
   ]
  },
  {
   "cell_type": "markdown",
   "metadata": {},
   "source": [
    "<details><summary {style='color:green;font-weight:bold'}> Click here to see solution to Task. </summary>\n",
    "    \n",
    "```python\n",
    "f = open('data/formamide-min.xyz', 'r')\n",
    "lines = f.readlines()\n",
    "f.close()\n",
    "    \n",
    "atoms=[]\n",
    "for line in lines[2:]:\n",
    "    atomname = line.split()[0]\n",
    "    atoms.append(atomname)\n",
    "    \n",
    "print(f'List of all atoms in formamide: {atoms}')\n",
    "print(f'Number of H atoms in this molecule = {atoms.count(\"H\")}')\n",
    "print(f'Number of N atoms in this molecule = {atoms.count(\"N\")}')\n",
    "print(f'Number of C atoms in this molecule = {atoms.count(\"C\")}')\n",
    "\n",
    "```\n",
    "</details>"
   ]
  },
  {
   "cell_type": "markdown",
   "metadata": {},
   "source": [
    "<div class=\"alert alert-success\">\n",
    "<b>Task 4.2: Calculating the molecular mass of formamide:</b>\n",
    "</div>\n",
    "\n",
    "1. Create a dictionary <code>atom_mass</code> containing C, N, O and H atoms as keys and their atomic masses (in atomic units) as values.\n",
    "\n",
    "2. create a function taking two parameters: a dictionary containing atomic masses (such as the one created in the previous point), and the name of an xyz file. The function will iterate over the lines in the xyz file, and return the molecular mass of the molecule. Here you can exploit code written in the previous task!\n",
    "\n",
    "3. Use the function to calculate the molecular mass of formamide, and on the file `data/colesterol.xyz`. The latter should have a mass of 386.   "
   ]
  },
  {
   "cell_type": "code",
   "execution_count": null,
   "metadata": {},
   "outputs": [],
   "source": [
    "# Task 2: Test out the solution in this cell:\n",
    "\n"
   ]
  },
  {
   "cell_type": "markdown",
   "metadata": {},
   "source": [
    "<details><summary {style='color:green;font-weight:bold'}> Click here to see solution to Task. </summary>\n",
    "    \n",
    "```python\n",
    "# definition of the mass of each element\n",
    "atom_mass = {'C':12, 'N':14, 'O':16, 'H':1}\n",
    "\n",
    "def get_mass_of_molecule_from_file(atom_mass, file_name):\n",
    "    '''reads an xyz file and computes the atomic mass of the molecule in the file\n",
    "    \n",
    "    Parameters:\n",
    "    -----------\n",
    "    atom_mass : dictionary\n",
    "        dictionary containing atomic masses\n",
    "    \n",
    "    file_name : string\n",
    "        path to the xyz file to be read; only xyz is supported\n",
    "    \n",
    "    \n",
    "    Returns:\n",
    "    --------\n",
    "    mass_of_molecule : Integer\n",
    "        returns the molecular mass of the molecules in file_name\n",
    "    \n",
    "    '''\n",
    "    \n",
    "    # you could include a check if the file you are trying to read exists here\n",
    "    # reading file\n",
    "    f = open(file_name, 'r')\n",
    "    lines = f.readlines()\n",
    "    f.close()\n",
    "    \n",
    "    atoms = []\n",
    "    for line in lines[2:]:\n",
    "        atom_name = line.split()[0]\n",
    "        atoms.append(atom_name)\n",
    "    \n",
    "    no_C = atoms.count('C')\n",
    "    no_N = atoms.count('N')\n",
    "    no_H = atoms.count('H')\n",
    "    no_O = atoms.count('O')\n",
    "    \n",
    "    mass_of_molecule=no_C*atom_mass['C']+no_N*atom_mass['N']+no_H*atom_mass['H']+no_O*atom_mass['O']\n",
    "    return mass_of_molecule\n",
    "\n",
    "#call the function on formamide\n",
    "mass_formamide = get_mass_of_molecule_from_file(atom_mass, \"data/formamide-min.xyz\")\n",
    "print(mass_formamide)\n",
    "\n",
    "#call the function on cholesterol\n",
    "mass_colesterol = get_mass_of_molecule_from_file(atom_mass, \"data/colesterol.xyz\")\n",
    "print(mass_colesterol)\n",
    "```\n",
    "</details>"
   ]
  },
  {
   "cell_type": "markdown",
   "metadata": {},
   "source": [
    "## 3.2. Measuring structural parameters\n",
    "<a id='measuring'></a>"
   ]
  },
  {
   "cell_type": "markdown",
   "metadata": {},
   "source": [
    "### Calculating bond lengths, angles, or dihedrals is a typical task for a Chemist\n",
    "\n",
    "- bonds, angles, and dihedrals are internal coordinates of a molecule (i.e. their value is independent on the specific position and orientation of the molecule). These can be used to represent molecular geometries in a z-matrix format.\n",
    "- bond lengths, angles, and dihedrals can be extracted from xyz files using vector algebra.\n",
    "- a bond can be seen as a vector between two points in space, A and B, where A and B are the coordinates of two atoms."
   ]
  },
  {
   "cell_type": "markdown",
   "metadata": {},
   "source": [
    "### Bonds\n",
    "To compute the length of a bond, we need to know the length of the vector connecting two atoms A and B using this formula:\n",
    "\n",
    "$\\vert\\vert v\\vert \\vert$=$\\sqrt{(x_B-x_A)^2+(y_B-y_A)^2+(z_B-z_A)^2}$\n",
    "\n",
    "Let's look at an example:"
   ]
  },
  {
   "cell_type": "code",
   "execution_count": null,
   "metadata": {},
   "outputs": [],
   "source": [
    "A = [0.25, -0.1, 0.15]\n",
    "B = [0.8, 0.65, 0.7]"
   ]
  },
  {
   "cell_type": "markdown",
   "metadata": {},
   "source": [
    "What is the distance between A and B?"
   ]
  },
  {
   "cell_type": "code",
   "execution_count": null,
   "metadata": {},
   "outputs": [],
   "source": [
    "from math import sqrt\n",
    "\n",
    "v=sqrt((B[0]-A[0])**2+(B[1]-A[1])**2+(B[2]-A[2])**2)\n",
    "print(f'The distance between A and B is {v:.2f}')"
   ]
  },
  {
   "cell_type": "markdown",
   "metadata": {},
   "source": [
    "Remember for real bonds you will also have a unit for the distance, typically Å!"
   ]
  },
  {
   "cell_type": "markdown",
   "metadata": {},
   "source": [
    "### Or using a built in function in Numpy\n",
    "`np.linalg.norm` is a quick way of working out the length of a vector. "
   ]
  },
  {
   "cell_type": "markdown",
   "metadata": {},
   "source": [
    "## Tasks 5\n",
    "<a id='tasks5'></a>"
   ]
  },
  {
   "cell_type": "markdown",
   "metadata": {},
   "source": [
    "<div class=\"alert alert-success\">\n",
    "<b>Task 5.1: Show how you can use the build in norm function in NumPy to compute the distance between A and B :</b>\n",
    "</div>\n",
    "Hint: you may need to convert the lists to NumPy arrays. "
   ]
  },
  {
   "cell_type": "markdown",
   "metadata": {},
   "source": [
    "<details><summary {style='color:green;font-weight:bold'}> Click here to see solution to Task. </summary>\n",
    "    \n",
    "```python\n",
    "v=sqrt((B[0]-A[0])**2+(B[1]-A[1])**2+(B[2]-A[2])**2)\n",
    "print(f'The distance between A and B is {v:.2f}')\n",
    "dist = np.linalg.norm(np.array(A)-np.array(B))\n",
    "print(f'The distance between A and B is {dist:.2f}')\n",
    "```\n",
    "</details>"
   ]
  },
  {
   "cell_type": "markdown",
   "metadata": {},
   "source": [
    "<div class=\"alert alert-success\">\n",
    "<b>Task 5.2: Write a function that computes bond lengths:</b>\n",
    "</div>\n",
    "\n",
    "1. Create a function called `bond_length`. The function accepts as arguments a list of lines from an xyz file and two atomic indices, and returns the distance between the two atoms (in Å).\n",
    "\n",
    "2. Find the indices of the C and O atoms in the file `data/formamide-min.xyz` (already parsed in the `coordinates` list in the cell below). \n",
    "\n",
    "3. Calculate the C=O bond length for the provided geometry of formamide (You should expect something around 1.2 Å)."
   ]
  },
  {
   "cell_type": "code",
   "execution_count": null,
   "metadata": {},
   "outputs": [],
   "source": [
    "# Test out the solution in this cell:\n",
    "file = open('data/formamide-min.xyz','r')\n",
    "lines=file.readlines()\n",
    "file.close()\n",
    "\n",
    "coordinates = lines[2:]\n",
    "\n",
    "### your code here! ###"
   ]
  },
  {
   "cell_type": "markdown",
   "metadata": {},
   "source": [
    "<details><summary {style='color:green;font-weight:bold'}> Click here to see solution to Task. </summary>\n",
    "    \n",
    "```python\n",
    "from math import sqrt\n",
    "\n",
    "def bond_length(atom1_index,atom2_index,coordslist):\n",
    "    '''compute the bond length from two coordinates\n",
    "    Parameters:\n",
    "    -----------\n",
    "    atom1_index : integer\n",
    "        index of the first atom in the file\n",
    "    atom2 : integer\n",
    "        index of the second atom in the file\n",
    "    \n",
    "    coordslist : list\n",
    "        list that contains strings of coordinates as parsed with an xyz file\n",
    "    \n",
    "    Returns:\n",
    "    --------\n",
    "    bond_length : float\n",
    "        bond length in Angstrom\n",
    "    \n",
    "    '''\n",
    "    #extract the atomic coordinates of two desired atoms\n",
    "    atom1 = coordslist[atom1_index].split()\n",
    "    atom2 = coordslist[atom2_index].split()\n",
    "    atom1_vec = [float(atom1[1]),float(atom1[2]),float(atom1[3])]\n",
    "    atom2_vec = [float(atom2[1]),float(atom2[2]),float(atom2[3])]\n",
    "    \n",
    "    # define the vector |AB| connecting the two atoms\n",
    "    diff_vec = [atom2_vec[0]-atom1_vec[0],\n",
    "                atom2_vec[1]-atom1_vec[1],\n",
    "                atom2_vec[2]-atom1_vec[2]]\n",
    "    \n",
    "    # calculate the length of the |AB| vector\n",
    "    bond_length = sqrt(diff_vec[0]**2+diff_vec[1]**2+diff_vec[2]**2)\n",
    "    \n",
    "    return bond_length\n",
    "\n",
    "print(f'The bond length of the C=O bond is : {bond_length(0,1,coordinates):.2f} Å.')\n",
    "\n",
    "```\n",
    "</details>"
   ]
  },
  {
   "cell_type": "markdown",
   "metadata": {},
   "source": [
    "### Angles\n",
    "\n",
    "Here is an example of different valence angles:\n",
    "\n",
    "![indexing](images/bond_angles.png)\n",
    "\n",
    "You can see, how an angle always includes 3 atoms. In the first example this is two hydrogen and an oxygen atoms. The angle can be computed from the bond between the first hydrogen and oxygen and the second hydrogen and the oxygen.\n",
    "\n",
    "We can treat this problem as a mathematical problem for vectors. Assume each bond involved in the angle is a vector. To determine the angle between two vectors you can use the scalar product: \n",
    "$$\\mathbf{a}\\cdot \\mathbf{b} = \\vert\\vert\\mathbf{a}\\vert\\vert \\,\\vert\\vert\\mathbf{b}\\vert\\vert\\cos \\theta,$$\n",
    "where $\\mathbf{a}$ and $\\mathbf{b}$ are vectors, and  $\\theta$ is the valence angle we are after. We need to solve the dot product according to the valence angle $\\theta$ by rearranging the above equation:\n",
    "$$\\theta = \\arccos\\big(\\frac{\\mathbf{a}\\cdot\\mathbf{b}}{\\vert\\vert\\mathbf{a}\\vert\\vert \\,\\vert\\vert\\mathbf{b} \\vert\\vert}\\big)$$"
   ]
  },
  {
   "cell_type": "markdown",
   "metadata": {},
   "source": [
    "Let's try and measure the angle between some bonds in formamide. To measure the valence angle between the C-O and C-N bonds in formamide, you can reuse the coordinates we have loaded in the previous task.\n",
    "\n",
    "We already have a way of working out $\\vert\\vert\\mathbf{a}\\vert\\vert \\, \\vert\\vert\\mathbf{b}\\vert\\vert$ with the function `bond_length` created in the previous task. What we still need to define, is a function that works out the vector for the C=O (e.g. $\\mathbf{a}$ in our example above) and C-N (e.g $\\mathbf{b}$ in our example) bonds and then we can define an angle. Let's call this function `get_vector_along_bond`."
   ]
  },
  {
   "cell_type": "code",
   "execution_count": null,
   "metadata": {},
   "outputs": [],
   "source": [
    "def get_vector_along_bond(atom1_index, atom2_index, coords):\n",
    "    '''retun the vector along a bond\n",
    "    Parameters:\n",
    "    -----------\n",
    "    atom1_index : integer\n",
    "        index of the first atom in the file\n",
    "    atom2 : integer\n",
    "        index of the second atom in the file\n",
    "\n",
    "    coordslist : list\n",
    "        list that contains strings of coordinates as parsed with an xyz file\n",
    "\n",
    "    Returns:\n",
    "    --------\n",
    "    bond_vector : list\n",
    "        bond vector contains the vector that describes the vector between \n",
    "        atom1_index and atom2_index\n",
    "    \n",
    "    '''\n",
    "    x_coor=float(coords[atom1_index].split()[1])-float(coords[atom2_index].split()[1])\n",
    "    y_coor=float(coords[atom1_index].split()[2])-float(coords[atom2_index].split()[2])                                      \n",
    "    z_coor=float(coords[atom1_index].split()[3])-float(coords[atom2_index].split()[3])\n",
    "                                       \n",
    "    bond_vector=[x_coor,y_coor,z_coor]\n",
    "    return bond_vector\n",
    "    "
   ]
  },
  {
   "cell_type": "markdown",
   "metadata": {},
   "source": [
    "## Tasks 6\n",
    "<a id='tasks6'></a>"
   ]
  },
  {
   "cell_type": "markdown",
   "metadata": {},
   "source": [
    "<div class=\"alert alert-success\">\n",
    "<b>Task 6: Write a function that computes the angle between three atoms:</b>\n",
    "</div>\n",
    "\n",
    "Create a function `get_angle` which takes in two bond lengths and two bond vectors to compute the angle between three atoms. Make use of the functions we have written so far. Do this for an example of the angle between O-C-N in formamide. \n",
    "\n",
    "⚠️ The arccos is calculated with the function `acos` in `math` package, which returns an angle in radians."
   ]
  },
  {
   "cell_type": "code",
   "execution_count": null,
   "metadata": {},
   "outputs": [],
   "source": [
    "# Task: Test out the solution in this cell:\n",
    "from math import acos\n",
    "import numpy as np\n"
   ]
  },
  {
   "cell_type": "markdown",
   "metadata": {},
   "source": [
    "<details><summary {style='color:green;font-weight:bold'}> Click here to see solution to Task. </summary>\n",
    "    \n",
    "```python\n",
    "def get_angle(bond1_vector, bond2_vector, bond1_length, bond2_length):\n",
    "    '''Returns the angle between three atoms forming two bonds\n",
    "    Parameters:\n",
    "    -----------\n",
    "    bond1_vector : list\n",
    "        vector along bond1\n",
    "    bond2_vector : list\n",
    "        vector along bond2\n",
    "    bond1_length : float\n",
    "        length of bond1 in A\n",
    "    bond2_length : float\n",
    "        length of bond2 in A\n",
    "        \n",
    "    Returns:\n",
    "    --------\n",
    "    angle : float\n",
    "        angle in radians\n",
    "    \n",
    "    '''\n",
    "    theta = acos(np.dot(bond1_vector, bond2_vector)/(bond1_length*bond2_length))   \n",
    "    return theta\n",
    "\n",
    "CO_vector = get_vector_along_bond(0,1,coordinates)\n",
    "CN_vector = get_vector_along_bond(0,3,coordinates)\n",
    "CO_bond = bond_length(0,1,coordinates)\n",
    "CN_bond = bond_length(0,3,coordinates)\n",
    "theta = get_angle(CO_vector, CN_vector, CO_bond, CN_bond)\n",
    "    \n",
    "# theta is currently in radians. Let's convert it into degrees\n",
    "theta_deg = np.degrees(theta)\n",
    "print(f'The valence O-C-N angle amounts to {theta:.3f} radians or {theta_deg:.3f} degrees.')\n",
    "```\n",
    "</details>"
   ]
  },
  {
   "cell_type": "markdown",
   "metadata": {},
   "source": [
    "### There are many Python packages/libraries that can help you with tasks such as these"
   ]
  },
  {
   "cell_type": "markdown",
   "metadata": {},
   "source": [
    "<div class=\"alert alert-info\">\n",
    "<b>⚠️ Note, generally you would not be expected to compute angles or bonds manually there are many Python packages available that will help you with these tasks here are some examples:</b>\n",
    "</div>\n",
    "\n",
    "- [Biopython](https://biopython.org)\n",
    "- [MDAnalysis](https://www.mdanalysis.org)\n",
    "- [MDTraj](https://www.mdtraj.org/1.9.8.dev0/index.html)\n",
    "- [BioBox](https://degiacomi-lab.github.io/biobox/)\n",
    "- [ASE](https://wiki.fysik.dtu.dk/ase/)\n",
    "- ... and many more "
   ]
  },
  {
   "cell_type": "markdown",
   "metadata": {},
   "source": [
    "## 4. Feedback\n",
    "<a id='feedback'></a>"
   ]
  },
  {
   "cell_type": "code",
   "execution_count": null,
   "metadata": {},
   "outputs": [],
   "source": [
    "### Positive feedback for today's session:"
   ]
  },
  {
   "cell_type": "code",
   "execution_count": null,
   "metadata": {
    "scrolled": true
   },
   "outputs": [],
   "source": [
    "Mentimeter(vote = 'https://www.menti.com/al3r7i7kzzb1').show()"
   ]
  },
  {
   "cell_type": "code",
   "execution_count": null,
   "metadata": {},
   "outputs": [],
   "source": [
    "### Things to be improved in today's session:"
   ]
  },
  {
   "cell_type": "code",
   "execution_count": null,
   "metadata": {
    "scrolled": true
   },
   "outputs": [],
   "source": [
    "Mentimeter(vote = 'https://www.menti.com/almqpwxk7jrg').show()"
   ]
  },
  {
   "cell_type": "markdown",
   "metadata": {},
   "source": [
    "## Reminder: remember to pull the content for the next sessions!\n",
    "\n",
    "https://git.ecdf.ed.ac.uk/data-driven-chemistry/data-driven-chemistry-22-23"
   ]
  },
  {
   "cell_type": "markdown",
   "metadata": {},
   "source": [
    "### 5. Molecular trajectories [Extra topic]\n",
    "<a id='trajectories'></a>"
   ]
  },
  {
   "cell_type": "markdown",
   "metadata": {},
   "source": [
    "### Working with molecular trajectory files \n",
    "\n",
    "- xyz files may contain more geometries written one after another. \n",
    "- This allows to store trajectories, e.g., information about the evolution of atomic coordinates of a given molecular system in time frame. \n",
    "- Trajectories can be generated through molecular dynamics simulations and subsequent structures correspond to different, consecutive time steps. \n",
    "- This format can be also used to store reaction paths, either optimized or obtained with simple interpolation between substrates and products. "
   ]
  },
  {
   "cell_type": "markdown",
   "metadata": {},
   "source": [
    "### Visualising a trajectory\n",
    "- NGLView can be used to visualise a trajectory\n",
    "- This will require a pdb file with multiple frames in the same and xyz file can use multiple frames\n",
    "\n",
    "Here is how you can visualise a trajectory of formamide stored in the file: `data/formamide-traj.pdb`"
   ]
  },
  {
   "cell_type": "code",
   "execution_count": null,
   "metadata": {},
   "outputs": [],
   "source": [
    "!pip install pytraj"
   ]
  },
  {
   "cell_type": "code",
   "execution_count": null,
   "metadata": {},
   "outputs": [],
   "source": [
    "import pytraj as pt\n",
    "import nglview as nv\n",
    "traj = pt.load('data/formamide-traj.pdb')\n",
    "view = nv.show_pytraj(traj)\n",
    "view"
   ]
  },
  {
   "cell_type": "markdown",
   "metadata": {},
   "source": [
    " Every structure in the provided trajectory file corresponds to time step of 1 fs, and the entire trajectory is 100 fs long. In this particular file, every second line of each structure block contains the energy of the molecule (calculated with a semi-empirical density functional theory approach). Therefore, we can plot the time evolution of the energy of formamide."
   ]
  },
  {
   "cell_type": "markdown",
   "metadata": {},
   "source": [
    "### Extra Tasks"
   ]
  },
  {
   "cell_type": "markdown",
   "metadata": {},
   "source": [
    "<div class=\"alert alert-info\">\n",
    "<b>Task 1: Parsing a trajectory file to extract energies:</b>\n",
    "</div>\n",
    "\n",
    "Parse the trajectory file `data/formamide-traj.xyz` and extract the energy of the molecule at each time step using a `for` loop. Lines containing energy information start with the `' energy:'` phrase, and can be located with a Python function. Append each energy measurement in the `energies` list, so that they appear in the same order as in the `formamide-traj.xyz` file. Store in the list `timesteps` the timestep associated to each energy measurement. Considering that the first geometry in the trajectory corresponds to the energy of the molecule after 1 fs of dynamics, and subsequent geometries were collected after 1 fs steps, you should get a list with 100 numbers from 1 to 100. The variable `t` contains information on the timestep being analysed. It is initialised as `t=1`, and needs to beincremented every time the script finds a line containing energy information."
   ]
  },
  {
   "cell_type": "code",
   "execution_count": null,
   "metadata": {},
   "outputs": [],
   "source": [
    "# Task 1: Test out the solution in this cell:\n",
    "# Hint:\n",
    "traj = open(...\n",
    "t = 1\n",
    "energies = []\n",
    "timesteps = []\n",
    "\n",
    "for line in traj:\n",
    "    if line...:\n",
    "        energy = ...\n",
    "        ..."
   ]
  },
  {
   "cell_type": "markdown",
   "metadata": {},
   "source": [
    "<details><summary {style='color:green;font-weight:bold'}> Click here to see solution to Task. </summary>\n",
    "    \n",
    "```python\n",
    "file=open('data/formamide-traj.xyz','r')\n",
    "traj=file.readlines()\n",
    "file.close()\n",
    "t=1\n",
    "energies=[]\n",
    "timesteps=[]\n",
    "\n",
    "for line in traj:\n",
    "    if line.startswith(' energy:'):\n",
    "        energy=line.split()[1]\n",
    "        energies.append(float(energy))\n",
    "        timesteps.append(t)\n",
    "        t+=1\n",
    "print(energies)\n",
    "print(timesteps)\n",
    "\n",
    "```\n",
    "</details>"
   ]
  },
  {
   "cell_type": "markdown",
   "metadata": {},
   "source": [
    "<div class=\"alert alert-info\">\n",
    "<b>Task 2: A better way to find energies and plotting them:</b>\n",
    "</div>\n",
    "\n",
    "Energy information appears at regular intervals through the trajectory file. Above, we identified lines containing energy informations as those starting with `' energy:'`. However, some data of interest appearing at regular intervals, may not be preceded by such a useful tag. Propose an alternative way of finding all of the lines containing the energy.\n",
    "\n",
    "*Hint*: After parsing the file into a list of lines, use the formula giving the indices of all lines containing the energy. The energies can be extracted by iterating over the list of lines in the following way:"
   ]
  },
  {
   "cell_type": "code",
   "execution_count": null,
   "metadata": {},
   "outputs": [],
   "source": [
    "# Task 2: Test out the solution in this cell:\n",
    "# Hint:\n",
    "steps = 100\n",
    "for n in range(steps):\n",
    "    lineindex = n*8+1\n",
    "    energy = traj[..."
   ]
  },
  {
   "cell_type": "markdown",
   "metadata": {},
   "source": [
    "<details><summary {style='color:green;font-weight:bold'}> Click here to see solution to Task. </summary>\n",
    "    \n",
    "```python\n",
    "steps=100\n",
    "file=open('data/formamide-traj.xyz','r')\n",
    "traj=file.readlines()\n",
    "file.close()\n",
    "t=1\n",
    "energies=[]\n",
    "timesteps=[]\n",
    "\n",
    "\n",
    "for n in range(steps):\n",
    "    lineindex=n*8+1\n",
    "    energy=traj[lineindex].split()[1]\n",
    "    energies.append(float(energy))\n",
    "    timesteps.append(t)\n",
    "    t+=1\n",
    "print(energies)\n",
    "print(timesteps)\n",
    "\n",
    "```\n",
    "</details>"
   ]
  },
  {
   "cell_type": "markdown",
   "metadata": {},
   "source": [
    "Now we can use the two lists to plot the energy of the molecule in time frame. For this purpose you need to import the `matplotlip.pylab` module and use the `plot(x, y)` function. Use the timesteps as x and energies as y."
   ]
  },
  {
   "cell_type": "markdown",
   "metadata": {},
   "source": [
    "<details><summary {style='color:green;font-weight:bold'}> Click here to see solution to Task. </summary>\n",
    "    \n",
    "```python\n",
    "import matplotlib.pylab as plt\n",
    "\n",
    "plt.plot(timesteps, energies)\n",
    "plt.xlabel('timestep in [fs]')\n",
    "plt.ylabel('Energy in kJ')\n",
    "plt.show()\n",
    "\n",
    "```\n",
    "</details>"
   ]
  }
 ],
 "metadata": {
  "kernelspec": {
   "display_name": "Python 3 (ipykernel)",
   "language": "python",
   "name": "python3"
  },
  "language_info": {
   "codemirror_mode": {
    "name": "ipython",
    "version": 3
   },
   "file_extension": ".py",
   "mimetype": "text/x-python",
   "name": "python",
   "nbconvert_exporter": "python",
   "pygments_lexer": "ipython3",
   "version": "3.8.13"
  },
  "toc": {
   "base_numbering": 1,
   "nav_menu": {},
   "number_sections": false,
   "sideBar": true,
   "skip_h1_title": false,
   "title_cell": "Table of Contents",
   "title_sidebar": "Contents",
   "toc_cell": false,
   "toc_position": {},
   "toc_section_display": true,
   "toc_window_display": false
  }
 },
 "nbformat": 4,
 "nbformat_minor": 4
}

{
 "cells": [
  {
   "cell_type": "markdown",
   "metadata": {},
   "source": [
    "# Unit 06: More Statistics and Working with Molecular Geometries\n",
    "\n",
    "<a rel=\"license\" href=\"https://creativecommons.org/licenses/by/4.0/\"><img alt=\"Creative Commons Licence\" style=\"border-width:0\" src=\"https://licensebuttons.net/l/by/4.0/88x31.png\" title='This work is licensed under a Creative Commons Attribution 4.0 International License.' align=\"right\"/></a>\n",
    "\n",
    "Author: Dr Antonia Mey   \n",
    "Email: antonia.mey@ed.ac.uk\n",
    "\n",
    "### Learning Objectives\n",
    "\n",
    "* Be confident in computing statistical properties of a dataset\n",
    "* Know how to plot a histogram and box-plot\n",
    "* Use the Student's t-test in Python to compare datasets\n",
    "\n",
    "### Table of Contents\n",
    "1. [Reading data files](#understanding)\n",
    "2. [Recap of some statistics and plotting](#dataset)    \n",
    "   2.1 [Working with measurement data](#data)    \n",
    "   2.2 [Histograms](#Histogram)     \n",
    "3. [How do I know if two distributions are the same?](#stats)    \n",
    "   3.1 [The Gauss distribution](#Gauss)    \n",
    "   3.2 [Parametric tests](#test)    \n",
    "\n",
    "\n",
    "### Further reading for this topic\n",
    "- give links here\n",
    "\n",
    "### Link to documentation:\n",
    "\n",
    "#### Loading files\n",
    "- [np.loadtxt()](https://numpy.org/doc/stable/reference/generated/numpy.loadtxt.html)\n",
    "- [np.genfromtxt()](https://numpy.org/doc/stable/reference/generated/numpy.genfromtxt.html)\n",
    "- [pd.read_csv()](https://pandas.pydata.org/docs/reference/api/pandas.read_csv.html)\n",
    "\n",
    "#### Statistics\n",
    "- [np.mean](https://numpy.org/doc/stable/reference/generated/numpy.mean.html)\n",
    "- [np.median]()\n",
    "- [np.std]()\n"
   ]
  },
  {
   "cell_type": "markdown",
   "metadata": {},
   "source": [
    "**<span style=\"color:black\">Jupyter Cheat Sheet</span>**\n",
    "- To run the currently highlighted cell and move focus to the next cell, hold <kbd>&#x21E7; Shift</kbd> and press <kbd>&#x23ce; Enter</kbd>;\n",
    "- To run the currently highlighted cell and keep focus in the same cell, hold <kbd>&#x21E7; Ctrl</kbd> and press <kbd>&#x23ce; Enter</kbd>;\n",
    "- To get help for a specific function, place the cursor within the function's brackets, hold <kbd>&#x21E7; Shift</kbd>, and press <kbd>&#x21E5; Tab</kbd>;"
   ]
  },
  {
   "cell_type": "markdown",
   "metadata": {},
   "source": [
    "<div class=\"alert alert-danger\"><b>\n",
    "⚠️ Execute the cell below! It will allow you to run the notebook properly! ⚠️\n",
    "</b></div>"
   ]
  },
  {
   "cell_type": "code",
   "execution_count": 10,
   "metadata": {},
   "outputs": [],
   "source": [
    "import sys\n",
    "import os.path\n",
    "sys.path.append(os.path.abspath('../'))\n",
    "from helper_functions.mentimeter import Mentimeter\n",
    "import numpy as np\n",
    "import matplotlib.pylab as plt\n",
    "import pandas as pd"
   ]
  },
  {
   "cell_type": "markdown",
   "metadata": {},
   "source": [
    "## 1. Which method should I use for reading a data file?\n",
    "<a id='reading'></a>\n",
    "\n",
    "In Python there are many different was to read a file and multiple methods will work for a file. In the following is a quick overview of the different methods you have encountered so far and how to decide which is the best method to use for a given file you are working with. \n",
    "\n",
    "<div class=\"alert alert-info\"><b>\n",
    "⚠️ Note: Reading a file can also be called parsing a file ⚠️\n",
    "</b></div>"
   ]
  },
  {
   "cell_type": "markdown",
   "metadata": {},
   "source": [
    "### 1.1 Inspecting the file\n",
    "- The first step is to look at the content of the file before you try and read it.\n",
    "- You can do so by opening the file with a text editor. \n",
    "- Some files may be large, so using something like `!head` maybe better\n",
    "\n",
    "**<code>head</code>**:\n",
    "- Gives you the first 10 lines of your file.\n",
    "- It is a Linux command that will work in a Jupyter notbeook if you use `!` before this command. "
   ]
  },
  {
   "cell_type": "code",
   "execution_count": 4,
   "metadata": {},
   "outputs": [
    {
     "name": "stdout",
     "output_type": "stream",
     "text": [
      "C3H6O\r\n",
      "APtclcactv06051922463D 0   0.00000     0.00000\r\n",
      " \r\n",
      " 10  9  0  0  0  0  0  0  0  0999 V2000\r\n",
      "    1.3051    0.6772    0.0000 C   0  0  0  0  0  0  0  0  0  0  0  0\r\n",
      "    0.0000   -0.0763   -0.0000 C   0  0  0  0  0  0  0  0  0  0  0  0\r\n",
      "   -1.3051    0.6772   -0.0000 C   0  0  0  0  0  0  0  0  0  0  0  0\r\n",
      "   -0.0000   -1.2839   -0.0000 O   0  0  0  0  0  0  0  0  0  0  0  0\r\n",
      "    1.1059    1.7488   -0.0000 H   0  0  0  0  0  0  0  0  0  0  0  0\r\n",
      "    1.8767    0.4138    0.8900 H   0  0  0  0  0  0  0  0  0  0  0  0\r\n"
     ]
    }
   ],
   "source": [
    "!head data/example_1.mol"
   ]
  },
  {
   "cell_type": "code",
   "execution_count": 6,
   "metadata": {},
   "outputs": [
    {
     "name": "stdout",
     "output_type": "stream",
     "text": [
      "cccccc\r\n"
     ]
    }
   ],
   "source": [
    "!head data/example_2.smi"
   ]
  },
  {
   "cell_type": "code",
   "execution_count": 7,
   "metadata": {},
   "outputs": [
    {
     "name": "stdout",
     "output_type": "stream",
     "text": [
      "Date,Co measured in V ngm-3\r\n",
      "2021-09-15,0.087\r\n",
      "2021-09-16,0.109\r\n",
      "2021-09-17,0.099\r\n",
      "2021-09-18,0.077\r\n",
      "2021-09-19,0.123\r\n",
      "2021-09-20,0.127\r\n",
      "2021-09-21,0.093\r\n",
      "2021-09-22,0.079\r\n",
      "2021-09-23,0.105\r\n"
     ]
    }
   ],
   "source": [
    "!head data/example_3.csv"
   ]
  },
  {
   "cell_type": "code",
   "execution_count": 8,
   "metadata": {},
   "outputs": [
    {
     "name": "stdout",
     "output_type": "stream",
     "text": [
      "concentration,volume\r\n",
      "0.1,1.0\r\n",
      "0.2,1.1\r\n",
      "0.3,1.5\r\n",
      "0.4,1.7\r\n",
      "0.6,1.8\r\n",
      "0.8,1.0\r\n"
     ]
    }
   ],
   "source": [
    "!head data/example_4.csv"
   ]
  },
  {
   "cell_type": "markdown",
   "metadata": {},
   "source": [
    "### 1.2 Reading a file with NumPy\n",
    "Out of all the file examples `data/example_4.csv` will be the best for using numpy. It only contains numerical data and has a header that can be easily skipped. "
   ]
  },
  {
   "cell_type": "code",
   "execution_count": 14,
   "metadata": {},
   "outputs": [
    {
     "name": "stdout",
     "output_type": "stream",
     "text": [
      "[[0.1 1. ]\n",
      " [0.2 1.1]\n",
      " [0.3 1.5]\n",
      " [0.4 1.7]\n",
      " [0.6 1.8]\n",
      " [0.8 1. ]]\n"
     ]
    }
   ],
   "source": [
    "data = np.loadtxt('data/example_4.csv', skiprows=1, delimiter=',')\n",
    "print(data)"
   ]
  },
  {
   "cell_type": "markdown",
   "metadata": {},
   "source": [
    "- `np.loadtxt()`, requires explicit information on which rows you want to skip, because they represent headers\n",
    "- `np.loadtxt()`, requires explicit information on the delimiter used in the file.\n",
    "- a `numPy` array is returned"
   ]
  },
  {
   "cell_type": "code",
   "execution_count": 17,
   "metadata": {},
   "outputs": [
    {
     "name": "stdout",
     "output_type": "stream",
     "text": [
      "[[nan nan]\n",
      " [0.1 1. ]\n",
      " [0.2 1.1]\n",
      " [0.3 1.5]\n",
      " [0.4 1.7]\n",
      " [0.6 1.8]\n",
      " [0.8 1. ]]\n"
     ]
    }
   ],
   "source": [
    "data1 = np.genfromtxt('data/example_4.csv',delimiter=',' )\n",
    "print(data1)"
   ]
  },
  {
   "cell_type": "markdown",
   "metadata": {},
   "source": [
    "- `np.genfromtxt()` tries to be a bit cleverer and will generate also incomplete data. "
   ]
  },
  {
   "cell_type": "markdown",
   "metadata": {},
   "source": [
    "### 1.3 Reading a file with Pandas\n",
    "\n",
    "`data/example_3.csv` is a good example to use with Pandas. This is because it uses a mixture of datatypes. You have a date in the first column and a floating point in the second column. "
   ]
  },
  {
   "cell_type": "code",
   "execution_count": 19,
   "metadata": {},
   "outputs": [
    {
     "name": "stdout",
     "output_type": "stream",
     "text": [
      "           Date  Co measured in V ngm-3\n",
      "0    2021-09-15                   0.087\n",
      "1    2021-09-16                   0.109\n",
      "2    2021-09-17                   0.099\n",
      "3    2021-09-18                   0.077\n",
      "4    2021-09-19                   0.123\n",
      "..          ...                     ...\n",
      "360  2022-09-10                   0.081\n",
      "361  2022-09-11                   0.117\n",
      "362  2022-09-12                   0.053\n",
      "363  2022-09-13                   0.095\n",
      "364  2022-09-14                     NaN\n",
      "\n",
      "[365 rows x 2 columns]\n"
     ]
    }
   ],
   "source": [
    "df = pd.read_csv('data/example_3.csv')\n",
    "print(df)"
   ]
  },
  {
   "cell_type": "markdown",
   "metadata": {},
   "source": [
    "- `pd.read_csv()` has many option to customise the reading of a file and can manage many exceptions by default. Reading the documentation here is your friend. \n",
    "- It returns a pandas data frame."
   ]
  },
  {
   "cell_type": "markdown",
   "metadata": {},
   "source": [
    "### 1.4 Reading a file using basic Python\n",
    "\n",
    "Not all files are data files. A lot of chemistry files are quite complicated. In this case sometimes a file needs to be read 'manually'. Or you need to find a suitable existing Python package that can help with reading typical chemistry files. \n",
    "\n",
    "Examples of such files are `data/example_1.mol` and `data/example_2.smi`. The first one is a mol file and the second a smiles string. If you are unsure here is an example of how you can read these:"
   ]
  },
  {
   "cell_type": "code",
   "execution_count": 20,
   "metadata": {},
   "outputs": [
    {
     "name": "stdout",
     "output_type": "stream",
     "text": [
      "['cccccc\\n']\n"
     ]
    }
   ],
   "source": [
    "f = open('data/example_2.smi', 'r')\n",
    "lines = f.readlines()\n",
    "print (lines)"
   ]
  },
  {
   "cell_type": "code",
   "execution_count": 21,
   "metadata": {},
   "outputs": [
    {
     "name": "stdout",
     "output_type": "stream",
     "text": [
      "['C3H6O\\n', 'APtclcactv06051922463D 0   0.00000     0.00000\\n', ' \\n', ' 10  9  0  0  0  0  0  0  0  0999 V2000\\n', '    1.3051    0.6772    0.0000 C   0  0  0  0  0  0  0  0  0  0  0  0\\n', '    0.0000   -0.0763   -0.0000 C   0  0  0  0  0  0  0  0  0  0  0  0\\n', '   -1.3051    0.6772   -0.0000 C   0  0  0  0  0  0  0  0  0  0  0  0\\n', '   -0.0000   -1.2839   -0.0000 O   0  0  0  0  0  0  0  0  0  0  0  0\\n', '    1.1059    1.7488   -0.0000 H   0  0  0  0  0  0  0  0  0  0  0  0\\n', '    1.8767    0.4138    0.8900 H   0  0  0  0  0  0  0  0  0  0  0  0\\n', '    1.8767    0.4138   -0.8900 H   0  0  0  0  0  0  0  0  0  0  0  0\\n', '   -1.1059    1.7488    0.0000 H   0  0  0  0  0  0  0  0  0  0  0  0\\n', '   -1.8767    0.4138   -0.8900 H   0  0  0  0  0  0  0  0  0  0  0  0\\n', '   -1.8767    0.4138    0.8900 H   0  0  0  0  0  0  0  0  0  0  0  0\\n', '  1  2  1  0  0  0  0\\n', '  2  3  1  0  0  0  0\\n', '  2  4  2  0  0  0  0\\n', '  1  5  1  0  0  0  0\\n', '  1  6  1  0  0  0  0\\n', '  1  7  1  0  0  0  0\\n', '  3  8  1  0  0  0  0\\n', '  3  9  1  0  0  0  0\\n', '  3 10  1  0  0  0  0\\n', 'M  END\\n', '\\n', 'ADDITIONAL INFORMATION CAN BE ADDED HERE\\n', '$$$$\\n']\n"
     ]
    }
   ],
   "source": [
    "f = open('data/example_1.mol', 'r')\n",
    "lines = f.readlines()\n",
    "print (lines)"
   ]
  },
  {
   "cell_type": "code",
   "execution_count": 24,
   "metadata": {},
   "outputs": [
    {
     "name": "stdout",
     "output_type": "stream",
     "text": [
      "[['C3H6O'], ['APtclcactv06051922463D', '0', '0.00000', '0.00000'], [], ['10', '9', '0', '0', '0', '0', '0', '0', '0', '0999', 'V2000'], ['1.3051', '0.6772', '0.0000', 'C', '0', '0', '0', '0', '0', '0', '0', '0', '0', '0', '0', '0'], ['0.0000', '-0.0763', '-0.0000', 'C', '0', '0', '0', '0', '0', '0', '0', '0', '0', '0', '0', '0'], ['-1.3051', '0.6772', '-0.0000', 'C', '0', '0', '0', '0', '0', '0', '0', '0', '0', '0', '0', '0'], ['-0.0000', '-1.2839', '-0.0000', 'O', '0', '0', '0', '0', '0', '0', '0', '0', '0', '0', '0', '0'], ['1.1059', '1.7488', '-0.0000', 'H', '0', '0', '0', '0', '0', '0', '0', '0', '0', '0', '0', '0'], ['1.8767', '0.4138', '0.8900', 'H', '0', '0', '0', '0', '0', '0', '0', '0', '0', '0', '0', '0'], ['1.8767', '0.4138', '-0.8900', 'H', '0', '0', '0', '0', '0', '0', '0', '0', '0', '0', '0', '0'], ['-1.1059', '1.7488', '0.0000', 'H', '0', '0', '0', '0', '0', '0', '0', '0', '0', '0', '0', '0'], ['-1.8767', '0.4138', '-0.8900', 'H', '0', '0', '0', '0', '0', '0', '0', '0', '0', '0', '0', '0'], ['-1.8767', '0.4138', '0.8900', 'H', '0', '0', '0', '0', '0', '0', '0', '0', '0', '0', '0', '0'], ['1', '2', '1', '0', '0', '0', '0'], ['2', '3', '1', '0', '0', '0', '0'], ['2', '4', '2', '0', '0', '0', '0'], ['1', '5', '1', '0', '0', '0', '0'], ['1', '6', '1', '0', '0', '0', '0'], ['1', '7', '1', '0', '0', '0', '0'], ['3', '8', '1', '0', '0', '0', '0'], ['3', '9', '1', '0', '0', '0', '0'], ['3', '10', '1', '0', '0', '0', '0'], ['M', 'END'], [], ['ADDITIONAL', 'INFORMATION', 'CAN', 'BE', 'ADDED', 'HERE'], ['$$$$']]\n"
     ]
    }
   ],
   "source": [
    "data = []\n",
    "for line in lines:\n",
    "    data.append(line.strip().split()) # strip removes end of line characters and split split things into arrays.\n",
    "print(data) # now each line is an array of string elements"
   ]
  },
  {
   "cell_type": "markdown",
   "metadata": {},
   "source": [
    "### Tasks"
   ]
  },
  {
   "cell_type": "markdown",
   "metadata": {},
   "source": [
    "<div class=\"alert alert-success\">\n",
    "<b>Task 1.1: Inspecting a file</b>\n",
    "\n",
    "Look at the file: `data/GC2_stage1_Free_Energy_Set_1.csv`\n",
    " - What method is best for reading this file?\n",
    " - Does it have a delimiter? If so what is it?\n",
    "</div>"
   ]
  },
  {
   "cell_type": "code",
   "execution_count": null,
   "metadata": {},
   "outputs": [],
   "source": [
    "# FIXME\n"
   ]
  },
  {
   "cell_type": "markdown",
   "metadata": {},
   "source": [
    "<details><summary {style='color:green;font-weight:bold'}> Click here to see solution to Task. </summary>\n",
    "    \n",
    "<code>!head data/GC2_stage1_Free_Energy_Set_1.csv</code>\n",
    "    \n",
    "    \n",
    "The best method would be pandas as the columns are a mix of strings and numerica data\n",
    "The delimiter is a comma. \n",
    "\n",
    "<deltails>"
   ]
  },
  {
   "cell_type": "markdown",
   "metadata": {},
   "source": [
    "<div class=\"alert alert-success\">\n",
    "<b>Task 1.2: Choosing how to read a file</b>\n",
    "    \n",
    "Read the file `data/GC2_stage1_Free_Energy_Set_1.csv` with the best method for reading it from task 1.1. Could you still read it using a different method?\n",
    "</div>"
   ]
  },
  {
   "cell_type": "code",
   "execution_count": null,
   "metadata": {},
   "outputs": [],
   "source": [
    "# FIXME\n"
   ]
  },
  {
   "cell_type": "markdown",
   "metadata": {},
   "source": [
    "<details><summary {style='color:green;font-weight:bold'}> Click here to see solution to Task. </summary>\n",
    "    \n",
    "    \n",
    "```Python\n",
    "df = pd.read_csv('data/GC2_stage1_Free_Energy_Set_1.csv', delimiter=',')\n",
    "print(df)\n",
    "\n",
    "# You could use np.genfromtext, but this makes it more complicated. \n",
    "data = np.genfromtxt('data/GC2_stage1_Free_Energy_Set_1.csv', delimiter=',', skip_header=1)\n",
    "# the first column will be garbage because it is the receiptID which is a string\n",
    "print(data[:,1:]) # only distplay from second column (remember that python starts counting from 0!)\n",
    "```\n",
    "\n",
    "<deltails>"
   ]
  },
  {
   "cell_type": "code",
   "execution_count": 43,
   "metadata": {},
   "outputs": [
    {
     "name": "stdout",
     "output_type": "stream",
     "text": [
      "[[ 1.50e+01  1.93e-02  1.88e-01  6.43e-02  2.51e-01  2.60e-02  1.59e-01\n",
      "   7.47e-01  1.84e-01]\n",
      " [ 1.50e+01  1.16e-01  2.26e-01  2.07e-01  2.78e-01  2.56e-01  1.72e-01\n",
      "   6.77e-01  2.01e-01]\n",
      " [ 1.50e+01 -2.91e-02  2.17e-01 -2.59e-02  2.77e-01  4.92e-03  2.59e-01\n",
      "   2.42e+01  1.35e+01]\n",
      " [ 1.50e+01  1.74e-01  2.03e-01  2.46e-01  2.49e-01  1.75e-01  2.28e-01\n",
      "   2.25e+00  1.89e-01]\n",
      " [ 1.50e+01  2.90e-01  1.58e-01  4.96e-01  1.84e-01  4.23e-01  1.41e-01\n",
      "   1.06e+00  1.84e-01]\n",
      " [ 1.50e+01  1.15e-01  2.08e-01  1.70e-01  2.50e-01  8.99e-02  2.45e-01\n",
      "   7.04e-01  2.44e-01]\n",
      " [ 1.50e+01 -2.91e-02  2.21e-01 -2.59e-02  2.82e-01  1.63e-01  2.90e-01\n",
      "   3.38e+00  1.09e+00]\n",
      " [ 1.50e+01  3.87e-02  1.43e-01  8.93e-02  2.17e-01 -1.37e-03  1.44e-01\n",
      "   5.50e+00  1.24e+00]\n",
      " [ 1.50e+01  3.87e-02  1.81e-01  9.64e-02  2.44e-01  1.40e-01  2.02e-01\n",
      "   2.95e+00  8.59e-01]\n",
      " [ 1.50e+01 -3.67e-01  1.56e-01 -5.32e-01  1.88e-01 -2.63e-01  1.48e-01\n",
      "   1.74e+00  2.65e-01]\n",
      " [ 1.50e+01  6.33e-02  2.27e-01  1.42e-01  2.57e-01  1.73e-01  2.20e-01\n",
      "   1.85e+00  2.95e-01]\n",
      " [ 1.50e+01  1.15e-01  2.11e-01  1.70e-01  2.51e-01  8.99e-02  2.50e-01\n",
      "   7.04e-01  2.45e-01]\n",
      " [ 1.50e+01  5.80e-02  1.77e-01  3.93e-02  2.43e-01  1.20e-01  1.96e-01\n",
      "   2.55e+00  2.92e-01]\n",
      " [ 1.50e+01  3.90e-01  1.67e-01  5.55e-01  1.82e-01  3.26e-01  1.77e-01\n",
      "   9.05e-01  1.90e-01]\n",
      " [ 1.50e+01  0.00e+00  0.00e+00  0.00e+00  0.00e+00  8.20e-01  6.00e-02\n",
      "   0.00e+00  0.00e+00]]\n"
     ]
    }
   ],
   "source": [
    "# Solution\n"
   ]
  },
  {
   "cell_type": "markdown",
   "metadata": {},
   "source": [
    "<div class=\"alert alert-info\"><b>Key points on how to read data files</b>   \n",
    "    \n",
    "- Check the content of your file using e.g. <code>!head</code>, or by opening the file using a text editor\n",
    "- <code>np.loadtxt('filename')</code>, or <code>np.genfromtxt('filename')</code>\n",
    "    - If the file contain a header, but otherwise numerical values that are separated by a delimiter\n",
    "    - You can skip the header by using <code>skiprows = number of rows</code>\n",
    "    - You can specify a delimiter with <code>delimiter=','</code>\n",
    "- <code>pd.read_csv('filename')</code>\n",
    "    - Use this if you have tabular data, such as you would find in excel with a header row that you want to use as information\n",
    "    - The data is a mixture of numerical and other datatypes\n",
    "    - There is data missing, managing <code>NaN</code> with pandas is much easier. \n",
    "- <code> f=open('filename', 'r') </code>\n",
    "    - If the file seems quite unstructured you may need to clean the data manually then use a generic file reader and read the file line by line.\n",
    "    - You will need to use tools such as <code>line.strip()</code> or <code>line.split(' ')</code> to clean the data.\n",
    "- Reading a file can also be referred to as <b>parsing</b> a file. \n",
    "    \n",
    "</div>"
   ]
  },
  {
   "cell_type": "markdown",
   "metadata": {},
   "source": [
    "# 0. Test your understanding\n",
    "<a id='understanding'></a>"
   ]
  },
  {
   "cell_type": "markdown",
   "metadata": {},
   "source": [
    "### Test your understanding of plotting data\n",
    "\n"
   ]
  },
  {
   "cell_type": "code",
   "execution_count": null,
   "metadata": {},
   "outputs": [],
   "source": [
    "# generating some data for plotting, use x and y to test things out\n",
    "def f(t):\n",
    "    return np.exp(-t) * np.cos(2*np.pi*t)\n",
    "\n",
    "x = np.arange(0.0, 5.0, 0.1)\n",
    "y = f(x)"
   ]
  },
  {
   "cell_type": "markdown",
   "metadata": {},
   "source": [
    "#### How to plot data?"
   ]
  },
  {
   "cell_type": "code",
   "execution_count": null,
   "metadata": {},
   "outputs": [],
   "source": [
    "# Use this cell to try and plot x and y so you can answer the question below\n",
    "\n"
   ]
  },
  {
   "cell_type": "code",
   "execution_count": null,
   "metadata": {},
   "outputs": [],
   "source": [
    "Mentimeter(vote = 'https://www.menti.com/aln82n9hefth').show()"
   ]
  },
  {
   "cell_type": "code",
   "execution_count": null,
   "metadata": {},
   "outputs": [],
   "source": [
    "Mentimeter(result = 'https://www.mentimeter.com/app/presentation/alxiyho61vnrxh15vcdv5gfz5r5oduub').show()"
   ]
  },
  {
   "cell_type": "markdown",
   "metadata": {},
   "source": [
    "#### How do you add axis labels correctly?"
   ]
  },
  {
   "cell_type": "code",
   "execution_count": null,
   "metadata": {},
   "outputs": [],
   "source": [
    "# testing adding axis labels\n"
   ]
  },
  {
   "cell_type": "code",
   "execution_count": null,
   "metadata": {},
   "outputs": [],
   "source": [
    "Mentimeter(vote = 'https://www.menti.com/alyo5kw8ip4p').show()"
   ]
  },
  {
   "cell_type": "code",
   "execution_count": null,
   "metadata": {},
   "outputs": [],
   "source": [
    "Mentimeter(result = 'https://www.mentimeter.com/app/presentation/alupjdi6mj82y7tira48romrp9s6w2r8').show()"
   ]
  },
  {
   "cell_type": "markdown",
   "metadata": {},
   "source": [
    "#### How do you plot data using a logarithmic x-axis (you have not been taught this, try and figure it out)"
   ]
  },
  {
   "cell_type": "code",
   "execution_count": null,
   "metadata": {},
   "outputs": [],
   "source": [
    "# test showing axis in logarithmic scale\n"
   ]
  },
  {
   "cell_type": "code",
   "execution_count": null,
   "metadata": {},
   "outputs": [],
   "source": [
    "Mentimeter(vote = 'https://www.menti.com/algxbq487k4b').show()"
   ]
  },
  {
   "cell_type": "code",
   "execution_count": null,
   "metadata": {},
   "outputs": [],
   "source": [
    "Mentimeter(result ='https://www.mentimeter.com/app/presentation/al1nn7v5at8jqxdkz3gpf1ng6gc5zc7t').show()"
   ]
  },
  {
   "cell_type": "markdown",
   "metadata": {},
   "source": [
    "### Test your understanding of loading files with pandas and NumPy"
   ]
  },
  {
   "cell_type": "markdown",
   "metadata": {},
   "source": [
    "### How confident do you feel about loading data and plotting data?"
   ]
  },
  {
   "cell_type": "code",
   "execution_count": null,
   "metadata": {},
   "outputs": [],
   "source": [
    "Mentimeter(vote = 'https://www.menti.com/almhs5d8m4h6').show()"
   ]
  },
  {
   "cell_type": "markdown",
   "metadata": {},
   "source": [
    "#### Additional practice material:"
   ]
  },
  {
   "cell_type": "markdown",
   "metadata": {},
   "source": [
    "If you do not feel confident enough with plotting and loading data yet, you can practice a little with [this](Extra_practice.ipynb) notebook after today's session **in your own time**. "
   ]
  },
  {
   "cell_type": "markdown",
   "metadata": {},
   "source": [
    "# 1. Handling datasets and statistics\n",
    "<a id='dataset'></a>"
   ]
  },
  {
   "cell_type": "markdown",
   "metadata": {},
   "source": [
    "## 1.1. Working with measurement data\n",
    "<a id='data'></a>\n",
    "The file `data/air_quality.csv` contains measurements of the concentration of Cobalt in the air in Westminster taken in the last year. We want to look at the `mean`, `median`, and `standard deviation` of this data set through a series of short tasks.  "
   ]
  },
  {
   "cell_type": "markdown",
   "metadata": {},
   "source": [
    "#### The population mean of a dataset gives you the average value by summing all datapoints and dividing by the number of data points\n",
    "\n",
    "\\begin{equation}\n",
    "\\mu = \\frac{1}{N} \\sum_i^N x_i ,\n",
    "\\end{equation}\n",
    "where $N$ is a number of samples and $x_i$ is the ith sample in a dataset $X$. In a measurement, as $N$ increases the mean becomes closer to the 'true' value.\n",
    "```python\n",
    "mu = np.sum(x) / len(x)\n",
    "```\n",
    "or as a `np.mean(x)`."
   ]
  },
  {
   "cell_type": "markdown",
   "metadata": {},
   "source": [
    "#### The median is a middle value separating the greater and lesser halves of a data set and is computed on the elements of a sorted dataset\n",
    "\n",
    "For a dataset $X$ of $N$ elements ordered from smallest to greatest the median is given by:\n",
    "\n",
    "$$\\mathrm{median}(X) = x_{(N+1)/2}$$ if $N$ is odd and\n",
    "\n",
    "\n",
    "$$\\mathrm{median}(X) = \\frac{x_{(N/2)}+x_{(N/2+1)}}{2}$$ if $N$ is even.\n",
    "\n",
    "\n",
    "<div class=\"alert alert-info\">\n",
    "⚠️ You can use <code>np.median(x)</code> to compute the median with numpy. \n",
    "</div>"
   ]
  },
  {
   "cell_type": "markdown",
   "metadata": {},
   "source": [
    "#### The population standard deviation (STD), $\\sigma$ quantifies how much the numbers in a dataset deviate from the mean, $\\mu$\n",
    "Mathematically this can be expressed as:\n",
    "\\begin{equation}\n",
    "\\sigma = \\sqrt{\\frac{1}{N}\\sum_{i=1}^N(x_i-\\mu)^2}.\n",
    "\\end{equation}\n",
    "And using Python code you can write it as:\n",
    "```python\n",
    "sigma = np.sqrt( np.sum( ( x - np.mean(x))**2 ) / len(x) )\n",
    "```\n",
    "<div class=\"alert alert-info\">\n",
    "⚠️ You can also simply use <code>np.std(x)</code> to compute the standard deviation with numpy. \n",
    "</div>"
   ]
  },
  {
   "cell_type": "markdown",
   "metadata": {},
   "source": [
    "## Tasks 1\n",
    "<a id='tasks1'></a>"
   ]
  },
  {
   "cell_type": "markdown",
   "metadata": {},
   "source": [
    "<div class=\"alert alert-success\">\n",
    "<b>Task 1.1: Compute statistics from an air quality measurement dataset:</b>\n",
    "\n",
    "Read the file <code>data/air_quality.csv</code> and remove the <code>NaN</code> measurement points and compute the mean, median and standard deviation of the dataset.\n",
    "</div>"
   ]
  },
  {
   "cell_type": "code",
   "execution_count": null,
   "metadata": {},
   "outputs": [],
   "source": [
    "# Task: Test out the solution in this cell:\n"
   ]
  },
  {
   "cell_type": "markdown",
   "metadata": {},
   "source": [
    "<details><summary {style='color:green;font-weight:bold'}> Click here to see solution to Task. </summary>\n",
    "    \n",
    "```Python\n",
    "import pandas as pd\n",
    "data = pd.read_csv('data/air_quality.csv')\n",
    "mean = np.mean(data['Co measured in V ngm-3'].dropna())\n",
    "std = np.std(data['Co measured in V ngm-3'].dropna())\n",
    "median = np.median(data['Co measured in V ngm-3'].dropna())\n",
    "print(f\"The mean Co concentration is {mean:.3f} V ngm-3, the median Co concentration is {median:.3f} V ngm-3, and the standard deviation is {std:.3f} V ngm-3.\")\n",
    "\n",
    "```\n",
    "</details>"
   ]
  },
  {
   "cell_type": "markdown",
   "metadata": {},
   "source": [
    "<div class=\"alert alert-success\">\n",
    "<b>Task 1.2: Plot a distribution using a histogram of the data:</b>\n",
    "</div>"
   ]
  },
  {
   "cell_type": "code",
   "execution_count": null,
   "metadata": {},
   "outputs": [],
   "source": [
    "# Task: Test out the solution in this cell:\n",
    "\n"
   ]
  },
  {
   "cell_type": "markdown",
   "metadata": {},
   "source": [
    "<details><summary {style='color:green;font-weight:bold'}> Click here to see solution to Task. </summary>\n",
    "    \n",
    "```Python\n",
    "import matplotlib.pylab as plt\n",
    "plt.hist(data['Co measured in V ngm-3'].dropna(), bins=30)\n",
    "plt.xlabel(r'Co V ngm$^{-3}$')\n",
    "plt.ylabel('Count')\n",
    "\n",
    "```\n",
    "</details>"
   ]
  },
  {
   "cell_type": "markdown",
   "metadata": {},
   "source": [
    "<div class=\"alert alert-success\">\n",
    "<b>Task 1.3: What is the difference between standard deviation, standard error, and confidence interval?</b>\n",
    "</div>\n",
    "\n",
    "Use Google if you are unsure and give an answer in markdown"
   ]
  },
  {
   "cell_type": "code",
   "execution_count": null,
   "metadata": {},
   "outputs": [],
   "source": [
    "# Task: Test out the solution in this cell:\n",
    "\n"
   ]
  },
  {
   "cell_type": "markdown",
   "metadata": {},
   "source": [
    "<details><summary {style='color:green;font-weight:bold'}> Click here to see solution to Task. </summary>\n",
    "    \n",
    "- Standard deviation (STD) measures the dispersion of a dataset relative to its mean.\n",
    "- STD is used frequently in statistics\n",
    "- The standard error of the mean (SEM) measures how much discrepancy is likely in a sample’s mean compared with the population mean.\n",
    "- The SEM takes the STD and divides it by the square root of the sample size.\n",
    "- The SEM will always be smaller than the SD.\n",
    "</details>"
   ]
  },
  {
   "cell_type": "markdown",
   "metadata": {},
   "source": [
    "# 2. How do I know if two distributions are the same?\n",
    "<a id='stats'></a>\n",
    "\n",
    "- Plotting a histogram of the data tells you something about the underlying distribution of the data. \n",
    "- There are many different types of distributions, here are some examples:\n",
    "<img src=\"images/distributions.png\" width=\"700\">"
   ]
  },
  {
   "cell_type": "markdown",
   "metadata": {},
   "source": [
    "<details><summary {style='color:green;font-weight:bold'}> Click here to see the code used to generate these plots. </summary>\n",
    "\n",
    "    \n",
    "Please note that you would not be expected to generate this. We are using libraries here we do not teach (seaborn and advanced plotting library) and lambda functions, a concept that is an advanced programming concept.\n",
    "```Python\n",
    "import numpy as np\n",
    "import seaborn as sns\n",
    "sns.set_context(\"paper\", font_scale=2) \n",
    "#make this example reproducible\n",
    "np.random.seed(0)\n",
    "#create data\n",
    "x = np.random.normal(size=10000)\n",
    "\n",
    "#create normal distribution histogram\n",
    "#sns.displot(x)\n",
    "sns.displot(x, kde=True, line_kws={'lw': 3}, facecolor='azure', edgecolor='black', height=5,aspect=1.5)\n",
    "plt.xlabel('position')\n",
    "sns.displot(np.random.uniform(size=100000), kde=True, line_kws={'lw': 3}, facecolor='azure', edgecolor='black',height=5,aspect=1.5)\n",
    "plt.xlabel('position')\n",
    "sns.displot(np.random.exponential(size=10000), kde=True, line_kws={'lw': 3}, facecolor='azure', edgecolor='black',height=5,aspect=1.5)\n",
    "plt.xlabel('position')\n",
    "sample_bimodal = pd.DataFrame({'feature1' : np.random.normal(10, 5, 10000),\n",
    "                   'feature2' : np.random.normal(40, 10, 10000),\n",
    "                   'feature3' : np.random.randint(0, 2, 10000),\n",
    "                  })\n",
    "sample_bimodal['combined'] = sample_bimodal.apply(lambda x: x.feature1 if (x.feature3 == 0 ) else x.feature2, axis=1)\n",
    "sns.displot(sample_bimodal['combined'].values, kde=True, line_kws={'lw': 3}, facecolor='azure', edgecolor='black', height=5,aspect=1.5)\n",
    "plt.xlabel('position')\n",
    "\n",
    "```\n",
    "</details>"
   ]
  },
  {
   "cell_type": "markdown",
   "metadata": {},
   "source": [
    "## 2.1 The Normal or Gaussian distribution\n",
    "<a id='Gauss'></a>\n",
    "\n",
    "The **normal distribution** is a well-behaved symmetric distribution. On a normal distribution the values that are less than 1 $\\sigma$ away from the mean, $\\mu$, will account for the 68.27% of the dataset. This means the **confidence interval** is equal to the standard deviation of 1 $\\sigma$ (dark blue shading). \n",
    "<img src=\"images/NormalDist.png\" width=\"500\">\n",
    "\n",
    "\n",
    "Mathematically, you can write down the probability density function of a normal distribution as:\n",
    "\n",
    "$$ f(x) = \\frac{1}{\\sigma\\sqrt{2\\pi}}\\exp\\big[-\\frac{1}{2}\\big(\\frac{x-\\mu}{\\sigma}\\Big)^2\\big]. $$\n",
    "\n",
    "This looks scarier than it is, as you already know what $\\mu$ and $\\sigma$ are, namely the mean and standard deviation respectively. Writing down the probability density function in this way assumes a continous set of values of $x$ and not necessarily a dataset containing $N$ values. A quick way of notating that a random variable $X$, such as one measured in an experiment, is normally distributed with mean $\\mu$ and standard deviation $\\sigma$ is:\n",
    "\n",
    "$$ X\\sim \\mathcal{N}(\\mu,\\sigma^2).$$"
   ]
  },
  {
   "cell_type": "markdown",
   "metadata": {},
   "source": [
    "### Generating N data points according to a normal distribution in Python\n",
    "\n",
    "You can use the <code>numpy</code> library to generate a normal distribution as follows"
   ]
  },
  {
   "cell_type": "code",
   "execution_count": null,
   "metadata": {},
   "outputs": [],
   "source": [
    "mu = 0 # mean\n",
    "sigma = 0.1 # standard deviation\n",
    "samples = 10 # number of samples\n",
    "distribution = np.random.normal(mu, sigma, samples)"
   ]
  },
  {
   "cell_type": "code",
   "execution_count": null,
   "metadata": {},
   "outputs": [],
   "source": [
    "print(distribution)"
   ]
  },
  {
   "cell_type": "markdown",
   "metadata": {},
   "source": [
    "## Tasks 2\n",
    "<a id='tasks2'></a>"
   ]
  },
  {
   "cell_type": "markdown",
   "metadata": {},
   "source": [
    "<div class=\"alert alert-success\">\n",
    "<b>Task 2.1: Can you think of examples of normally distributed data?</b>\n",
    "\n",
    "Use the Mentimeter wordcloud below to collect some ideas.\n",
    "</div>"
   ]
  },
  {
   "cell_type": "code",
   "execution_count": null,
   "metadata": {},
   "outputs": [],
   "source": [
    "# Task: \n",
    "Mentimeter(vote = 'https://www.menti.com/ale4kausv31z').show()\n"
   ]
  },
  {
   "cell_type": "code",
   "execution_count": null,
   "metadata": {},
   "outputs": [],
   "source": [
    "# Answers\n",
    "Mentimeter(result ='https://www.mentimeter.com/app/presentation/566bce822cae4bde979cf3328d5e9f5a').show()\n"
   ]
  },
  {
   "cell_type": "markdown",
   "metadata": {},
   "source": [
    "<details><summary {style='color:green;font-weight:bold'}> Click here to see solution to Task. </summary>\n",
    "    \n",
    "Examples are:\n",
    "    - Height\n",
    "    - Birth weight\n",
    "    - Reaction yields\n",
    "    - pipetting volume\n",
    "    - ...\n",
    "</details>"
   ]
  },
  {
   "cell_type": "markdown",
   "metadata": {},
   "source": [
    "<div class=\"alert alert-success\">\n",
    "<b>Task 2.2: Do you think pollutants that are measured to assess air quality are distributed according to a normal distribution in general?</b>\n",
    "\n",
    "Use the Mentimeter quiz to give us an answer.\n",
    "    \n",
    "</div>"
   ]
  },
  {
   "cell_type": "code",
   "execution_count": null,
   "metadata": {},
   "outputs": [],
   "source": [
    "# Task :\n",
    "Mentimeter(vote = 'https://www.menti.com/aly6defkurtc').show()"
   ]
  },
  {
   "cell_type": "code",
   "execution_count": null,
   "metadata": {},
   "outputs": [],
   "source": [
    "# Answers\n",
    "Mentimeter(result ='https://www.mentimeter.com/app/presentation/15318fd2a07378525c49782f62f9c8b8').show()"
   ]
  },
  {
   "cell_type": "markdown",
   "metadata": {},
   "source": [
    "<details><summary {style='color:green;font-weight:bold'}> Click here to see solution to Task. </summary>\n",
    "    \n",
    "   No, this seems like a good example. Ideally you want pollutants to be zero, therefore the peak should be at zero and you cannot have negative values of pollutants.\n",
    "</details>"
   ]
  },
  {
   "cell_type": "markdown",
   "metadata": {},
   "source": [
    "<div class=\"alert alert-success\">\n",
    "<b>Task 2.3: Exploring Normal distributions</b>\n",
    "\n",
    "Generate the following distributions, plot them, and discuss what you see:\n",
    "\n",
    "- Normal distribution with $\\mu$ = 0 and $\\sigma$=2\n",
    "- Normal distribution with $\\mu$ = 3 and $\\sigma$ = 0.2\n",
    "- What happens if you change the number of samples? Try 10, 100 or even 10000\n",
    "- Are the mean and standard deviation the same as the input?\n",
    "- Are the mean and median the same?\n",
    "</div>"
   ]
  },
  {
   "cell_type": "code",
   "execution_count": null,
   "metadata": {},
   "outputs": [],
   "source": [
    "# Task: Test out the solution in this cell:\n",
    "\n"
   ]
  },
  {
   "cell_type": "markdown",
   "metadata": {},
   "source": [
    "<details><summary {style='color:green;font-weight:bold'}> Click here to see solution to Task. </summary>\n",
    "    \n",
    "```Python\n",
    "# Comparing two distributions\n",
    "distribution1 = np.random.normal(0, 2, 1000)\n",
    "distribution2 = np.random.normal(3, 0.2, 1000)\n",
    "plt.hist(distribution1, bins=50)\n",
    "plt.hist(distribution2, bins=50)\n",
    "\n",
    "\n",
    "# Distributions with many samples\n",
    "dist_low_sample = np.random.normal(0, 2, 10)\n",
    "dist_med_sample = np.random.normal(0, 2, 100)\n",
    "dist_high_sample = np.random.normal(0, 2, 10000)\n",
    "\n",
    "print(\"low sample: \")\n",
    "print(f'mean:{np.mean(dist_low_sample):.3f}, median:{np.median(dist_low_sample):.3f}, standard deviation:{np.std(dist_low_sample):.3f}')\n",
    "\n",
    "print(\"medium sample: \")\n",
    "print(f'mean:{np.mean(dist_med_sample):.3f}, median:{np.median(dist_med_sample):.3f}, standard deviation:{np.std(dist_med_sample):.3f}')\n",
    "\n",
    "print(\"high sample: \")\n",
    "print(f'mean:{np.mean(dist_high_sample):.3f}, median:{np.median(dist_high_sample):.3f}, standard deviation:{np.std(dist_high_sample):.3f}')\n",
    "    \n",
    "    \n",
    "```\n",
    "</details>"
   ]
  },
  {
   "cell_type": "markdown",
   "metadata": {},
   "source": [
    "<div class=\"alert alert-warning\">\n",
    "<b>Advanced Task: Write your own function that generates the probability density function of a normal distribution:</b>\n",
    "\n",
    "Write a function called <code>normal_distribution(x, height, mean, sigma)</code> that returns a normal distribution for a set of positions <code>x</code>. Generate data for your distribution using <code>np.random.choice</code> and plot the data. \n",
    "\n",
    "\n",
    "Here are some suggestions for the input data:\n",
    "\n",
    "```Python\n",
    "x = np.linsapce(-10,10,100)\n",
    "height = 12\n",
    "mean = 0\n",
    "sigma =1\n",
    "```\n",
    "    \n",
    "</div>    "
   ]
  },
  {
   "cell_type": "code",
   "execution_count": null,
   "metadata": {},
   "outputs": [],
   "source": [
    "# Advanced task: Test out the solution in this cell:\n",
    "\n",
    "\n"
   ]
  },
  {
   "cell_type": "markdown",
   "metadata": {},
   "source": [
    "<details><summary {style='color:green;font-weight:bold'}> Click here to see solution to Task. </summary>\n",
    "    \n",
    "```Python\n",
    "def normal_distribution(x,height, mean, sigma):\n",
    "    return height*np.exp(-(x-mean)**2/(2*sigma**2))\n",
    "\n",
    "x = np.linspace(-10,10,100)\n",
    "parameters = [12, 0, 1] \n",
    "p = normal_distribution(x, *parameters)\n",
    "p = p/p.sum()\n",
    "samples = np.random.choice(x, p=p, size=100)\n",
    "plt.hist(samples, density=True)\n",
    "plt.plot(x,p,'ro:')\n",
    "\n",
    "```\n",
    "</details>"
   ]
  },
  {
   "cell_type": "markdown",
   "metadata": {},
   "source": [
    "## 2.2 Comparing two distributions\n",
    "<a id='test'></a>\n",
    "Let us look at an example dataset of red and white wine to see if we can compare distributions easily. \n",
    "\n",
    "You will be able to find the datasets in `data/winequality-red.csv` and `data/winequality-white.csv`. Both datasets have been taken from [here](http://www3.dsi.uminho.pt/pcortez/wine/winequality.zip) and were first featured in this [publication](https://www.sciencedirect.com/science/article/abs/pii/S0167923609001377?via%3Dihub)."
   ]
  },
  {
   "cell_type": "markdown",
   "metadata": {},
   "source": [
    "### Plotting a histogram of a dataset gives some information, but there may be better ways of plotting data\n",
    "You can plot histograms of two distributions and judge by eye if they overlap:"
   ]
  },
  {
   "cell_type": "markdown",
   "metadata": {},
   "source": [
    "Let's load the two datasets and compare the pH of red and white wines. "
   ]
  },
  {
   "cell_type": "code",
   "execution_count": null,
   "metadata": {},
   "outputs": [],
   "source": [
    "# Loading the data\n",
    "df_red = pd.read_csv(\"data/winequality-red.csv\")\n",
    "df_whites = pd.read_csv(\"data/winequality-white.csv\", delimiter=';')"
   ]
  },
  {
   "cell_type": "markdown",
   "metadata": {},
   "source": [
    "Let's have a look at the column headings:"
   ]
  },
  {
   "cell_type": "code",
   "execution_count": null,
   "metadata": {},
   "outputs": [],
   "source": [
    "print(df_whites.columns)"
   ]
  },
  {
   "cell_type": "markdown",
   "metadata": {},
   "source": [
    "And double check that there is no data missing in the dataset:"
   ]
  },
  {
   "cell_type": "code",
   "execution_count": null,
   "metadata": {},
   "outputs": [],
   "source": [
    "print(df_red.isnull().values.any())\n",
    "print(df_whites.isnull().values.any())"
   ]
  },
  {
   "cell_type": "markdown",
   "metadata": {},
   "source": [
    "#### Comparing the distribution of pH between red and white wines"
   ]
  },
  {
   "cell_type": "code",
   "execution_count": null,
   "metadata": {},
   "outputs": [],
   "source": [
    "pH_whites = df_whites['pH']\n",
    "pH_reds = df_red['pH']\n",
    "plt.hist(pH_whites, bins=50, color='gray', alpha=0.5, label=\"white\")\n",
    "plt.hist(pH_reds, bins=50, color='red', alpha=0.5, label=\"red\")\n",
    "plt.xlabel('pH')\n",
    "plt.ylabel('counts')\n",
    "plt.legend();"
   ]
  },
  {
   "cell_type": "markdown",
   "metadata": {},
   "source": [
    "The two distributions look different, but is there a better way at looking them? "
   ]
  },
  {
   "cell_type": "markdown",
   "metadata": {},
   "source": [
    "### A boxplot can graphically show the locality, spread and distribution of the data"
   ]
  },
  {
   "cell_type": "markdown",
   "metadata": {},
   "source": [
    "- A box plot lets you quickly examine multiple distributions graphically\n",
    "- It is great for comparing distributions\n",
    "- You don't have to make a choice on number of bins\n",
    "- You can immediately see the median, 50% region of the data, quantiles, as well as outliers.  \n",
    "- You can also display the mean and median giving you an idea how skewed the data is and whether assuming that data is normally distributed is a good assumption. \n",
    "\n",
    "<img src=\"images/Boxplot_vs_PDF.png\" width=\"500\">\n",
    "\n",
    "By Jhguch at en.wikipedia, CC BY-SA 2.5, https://commons.wikimedia.org/w/index.php?curid=14524285"
   ]
  },
  {
   "cell_type": "markdown",
   "metadata": {},
   "source": [
    "Here is an example of how the boxplot in matplotlib will look like:   "
   ]
  },
  {
   "cell_type": "raw",
   "metadata": {},
   "source": [
    "  \n",
    "     \n",
    "     Q1-1.5IQR   Q1   median  Q3   Q3+1.5IQR\n",
    "                  |-----:-----|\n",
    "  o      |--------|     :     |--------|    o  o\n",
    "                  |-----:-----|\n",
    "flier             <----------->            fliers\n",
    "                       IQR"
   ]
  },
  {
   "cell_type": "markdown",
   "metadata": {},
   "source": [
    "#### Let's plot the pH data as a boxplot"
   ]
  },
  {
   "cell_type": "code",
   "execution_count": null,
   "metadata": {},
   "outputs": [],
   "source": [
    "columns = [pH_whites, pH_reds]\n",
    "\n",
    "fig, ax = plt.subplots()\n",
    "# in matplotlib you can use the boxplot function and set the show means to True\n",
    "ax.boxplot(columns, showmeans=True) \n",
    "plt.xticks([1, 2], [\"pH whites\", \"pH reds\"], rotation=90)\n",
    "plt.show()\n",
    "# the orange lines represent the median of the data and the green triangles the mean"
   ]
  },
  {
   "cell_type": "markdown",
   "metadata": {},
   "source": [
    "From the boxplot we can see that the mean and median are quite similar. We could not see this on the distribution plot before. Now let's look at the actual values for the means, medians and standard deviations?"
   ]
  },
  {
   "cell_type": "code",
   "execution_count": null,
   "metadata": {},
   "outputs": [],
   "source": [
    "print(f'The mean pH is {np.mean(pH_whites):.3f}, \\\n",
    "the median pH is {np.median(pH_whites):.3f}, \\\n",
    "and the standard deviation in white wines is {np.std(pH_whites):.3f}.')\n",
    "print(f'The mean pH is {np.mean(pH_reds):.3f}, \\\n",
    "the median pH is {np.median(pH_reds):.3f}, \\\n",
    "and the standard deviation in red wines is {np.std(pH_reds):.3f}.')"
   ]
  },
  {
   "cell_type": "markdown",
   "metadata": {},
   "source": [
    "#### These numbers look quite similar. Can we statistically say if they come from a different underlying distribution?"
   ]
  },
  {
   "cell_type": "markdown",
   "metadata": {},
   "source": [
    "## 2.3 The Student's t-test"
   ]
  },
  {
   "cell_type": "markdown",
   "metadata": {},
   "source": [
    "### When to use a t-test?\n",
    "\n",
    "A t-test is a parametric test of difference, meaning that the underlying data is as follows:\n",
    "1. Your samples of the data are independent.\n",
    "2. They are approximately normally distributed.\n",
    "3. Have a similar amount of variance. \n",
    "\n",
    "You can also only compare means of two groups. If want to compare multiple means not in a pairwise fashion there are [other tests](https://www.statisticshowto.com/probability-and-statistics/hypothesis-testing/anova/wil). In the same spirit, if the above assumptions do not fit, you can use a nonparametric test such as the [Wilcoxon Signed Rank](https://www.statstest.com/wilcoxon-signed-rank-test/) test. A lot of these tests are implemented in Python. "
   ]
  },
  {
   "cell_type": "markdown",
   "metadata": {},
   "source": [
    "### Performing a t-test\n",
    "In a t-test you are estimating the **true** difference between two dataset means. This is done by using the ratio of the difference in dataset means over the pooled standard error of the two datasets. Mathematically you can write the student t-test as:\n",
    "\n",
    "$$t = \\frac{\\mu_1-\\mu_2}{s_p\\sqrt{\\frac{2}{N}}} $$\n",
    "\n",
    "As before $\\mu_1$ and $\\mu_2$ represent the means of the respective two datasets, $N_1$=$N_2$=$N$ and are the number of samples and $s_p$ is the pooled standard deviation of the datasets. There is a more general form with the two dataset having different sample sizes too!"
   ]
  },
  {
   "cell_type": "markdown",
   "metadata": {},
   "source": [
    "### Pooled standard deviations of a dataset\n",
    "The pooled standard deviation is a method for estimating a single standard deviation to represent all independent samples or groups in your study when they are assumed to come from populations with a common standard deviation. The pooled standard deviation is the average spread of all data points about their group mean (not the overall mean). It is a weighted average of each group's standard deviation.\n",
    "\n",
    "Mathematically you can write the pooled standard deviation as:\n",
    "\n",
    "$S_p = \\sqrt{\\frac{\\sigma_1^2+\\sigma_2^2}{2}}$\n"
   ]
  },
  {
   "cell_type": "markdown",
   "metadata": {},
   "source": [
    "### What does the calculated t-value mean?\n",
    "\n",
    "A large t-value means that the difference between the means of the two datasets is greater than the pooled standard error, which means there is likely a significant difference between the two datasets. \n",
    "\n",
    "Typically you would compare your t-value to tabulated t-values to decided if you accept the null hypothesis. Have a look here for more details: https://www.statology.org/here-is-how-to-find-the-p-value-from-the-t-distribution-table/"
   ]
  },
  {
   "cell_type": "markdown",
   "metadata": {},
   "source": [
    "### The Null hypothesis and tabulated data\n",
    "The hypothesis you are testing against, is that the difference in means between two datasets is 0. \n",
    "When you perform a t-test with Python, you will get a p-value returned, giving you the probability of how likely is it to see this result by chance. The p-value is a proportion: if your p-value is 0.05, that means that 5% of the time you would see a test statistic at least as extreme as the one you found if the null hypothesis was true.\n",
    "\n",
    "Let's have a look at using the t-test for our wine dataset:"
   ]
  },
  {
   "cell_type": "markdown",
   "metadata": {},
   "source": [
    "### Performing a two sample t-test\n",
    "\n",
    "Previously we have seen that our data is approximately normally distributed. We also want to make sure that our ratio of variances of the two datasets is less than 4:1. So we start with that."
   ]
  },
  {
   "cell_type": "code",
   "execution_count": null,
   "metadata": {},
   "outputs": [],
   "source": [
    "ratio = np.var(pH_reds)/np.var(pH_whites)\n",
    "print(ratio)\n",
    "## Looks like we are good to go with our t-test"
   ]
  },
  {
   "cell_type": "code",
   "execution_count": null,
   "metadata": {},
   "outputs": [],
   "source": [
    "# We are using scipy stats library to peform the t-test\n",
    "import scipy.stats as stats\n",
    "\n",
    "t_test_out = stats.ttest_ind(a=pH_reds, b= pH_whites, equal_var = True)\n",
    "print(t_test_out)"
   ]
  },
  {
   "cell_type": "markdown",
   "metadata": {},
   "source": [
    "#### Hypothesis reminder:\n",
    "H0 => $\\mu_1$ = $\\mu_2$ (population mean of dataset1 is equal to dataset2)\n",
    "\n",
    "HA => $\\mu_1 \\ne \\mu_2$ (population mean of dataset1 is different from dataset2)"
   ]
  },
  {
   "cell_type": "markdown",
   "metadata": {},
   "source": [
    "The p-value is smaller than alpha=0.05 means we **can reject the null hypothesis (H0)**. There is sufficient evidence that the mean pH of white wine is different to the mean pH of red wine in the dataset. "
   ]
  },
  {
   "cell_type": "markdown",
   "metadata": {},
   "source": [
    "## Tasks 3\n",
    "<a id='tasks3'></a>"
   ]
  },
  {
   "cell_type": "markdown",
   "metadata": {},
   "source": [
    "<div class=\"alert alert-success\">\n",
    "<b>Task 3.1: Compare the density of red and white wines</b>\n",
    "\n",
    "Compute the following:\n",
    "\n",
    "- Histogram of the density\n",
    "- Boxplot of the density\n",
    "- After you are sure you can carry out a t-test, carry it out. \n",
    "- What happens if you only take every 200th data point? What does the null hypothesis of the t-test say?\n",
    "    \n",
    " </div>"
   ]
  },
  {
   "cell_type": "code",
   "execution_count": null,
   "metadata": {},
   "outputs": [],
   "source": [
    "# Task 1: Test out the solution in this cell:\n"
   ]
  },
  {
   "cell_type": "markdown",
   "metadata": {},
   "source": [
    "<details><summary {style='color:green;font-weight:bold'}> Click here to see solution to Task. </summary>\n",
    "    \n",
    "```Python\n",
    "# Histograms \n",
    "density_whites = df_whites['density']\n",
    "density_reds = df_red['density']\n",
    "plt.hist(density_whites, bins=50, alpha=0.5)\n",
    "plt.hist(density_reds, bins=50, color='green', alpha=0.5)\n",
    "plt.xlabel('density')\n",
    "plt.ylabel('counts')\n",
    "    \n",
    "# Box plots\n",
    "columns = [density_whites, density_reds]\n",
    "\n",
    "fig, ax = plt.subplots()\n",
    "ax.boxplot(columns, showmeans=True) # in matplotlib you can use the boxplot function and set the show means to True\n",
    "plt.xticks([1, 2], [\"density whites\", \"density reds\"], rotation=90)\n",
    "plt.show()\n",
    "    \n",
    "# t-testing\n",
    "print(np.var(density_reds)/np.var(density_whites))\n",
    "print(\"yes we can do a t-test\")\n",
    "t_test = stats.ttest_ind(a=density_reds, b= density_whites, equal_var = True)\n",
    "print(t_test)\n",
    "t_test_sub_sample = stats.ttest_ind(a=density_reds[::200], b= density_whites[::200], equal_var = True)\n",
    "print(t_test_sub_sample)\n",
    "print(\"The two density distributions have two different means for the original dataset. When you subsample heavily the null hypothesis does not hold true anymore.\")\n",
    "\n",
    "```\n",
    "</details>"
   ]
  },
  {
   "cell_type": "markdown",
   "metadata": {},
   "source": [
    "<div class=\"alert alert-success\">\n",
    "<b>Task 3.2: Compare the residual sugar of red and white wines</b>\n",
    "\n",
    "Compute the following:\n",
    "\n",
    "- Histogram of the residual sugar\n",
    "- Boxplot of the residual sugar\n",
    "- Is the data suitable for a t-test? If so, carry out a t-test. \n",
    "    \n",
    "</div>"
   ]
  },
  {
   "cell_type": "code",
   "execution_count": null,
   "metadata": {},
   "outputs": [],
   "source": [
    "# Task 2: Test out the solution in this cell:\n",
    "\n",
    "\n"
   ]
  },
  {
   "cell_type": "markdown",
   "metadata": {},
   "source": [
    "<details><summary {style='color:green;font-weight:bold'}> Click here to see solution to Task. </summary>\n",
    "    \n",
    "```Python\n",
    "# Histograms \n",
    "sugar_whites = df_whites['residual sugar']\n",
    "sugar_reds = df_red['residual sugar']\n",
    "plt.hist(sugar_whites, bins=50, alpha=0.5)\n",
    "plt.hist(sugar_reds, bins=50, color='green', alpha=0.5)\n",
    "plt.xlabel('residual sugar')\n",
    "plt.ylabel('counts')\n",
    "\n",
    "# Box plots\n",
    "columns = [sugar_whites, sugar_reds]\n",
    "\n",
    "fig, ax = plt.subplots()\n",
    "ax.boxplot(columns, showmeans=True) # in matplotlib you can use the boxplot function and set the show means to True\n",
    "plt.xticks([1, 2], [\"residual sugar whites\", \"residual sugar reds\"], rotation=90)\n",
    "plt.show()\n",
    "\n",
    "# t-testing\n",
    "print(np.var(sugar_reds)/np.var(sugar_whites))\n",
    "print(\"No we cannot do a t-test\")\n",
    "\n",
    "```\n",
    "</details>"
   ]
  },
  {
   "cell_type": "markdown",
   "metadata": {},
   "source": [
    "<div class=\"alert alert-warning\">\n",
    "<b>Advanced Task 3.3: Write a function that computes the t-value based on the formula given above</b>\n",
    "</div>\n"
   ]
  },
  {
   "cell_type": "code",
   "execution_count": null,
   "metadata": {},
   "outputs": [],
   "source": [
    "# Task 3: Test out the solution in this cell:\n",
    "\n",
    "\n"
   ]
  },
  {
   "cell_type": "markdown",
   "metadata": {},
   "source": [
    "# Break\n",
    "<img src=\"images/break.png\" alt=\"drawing\" width=\"200\"/>"
   ]
  },
  {
   "cell_type": "markdown",
   "metadata": {},
   "source": [
    "## Next Notebook:\n",
    "[Unit_06_molecular_geometries_II.ipynb](Unit_06_molecular_geometries_II.ipynb)"
   ]
  }
 ],
 "metadata": {
  "kernelspec": {
   "display_name": "Python 3 (ipykernel)",
   "language": "python",
   "name": "python3"
  },
  "language_info": {
   "codemirror_mode": {
    "name": "ipython",
    "version": 3
   },
   "file_extension": ".py",
   "mimetype": "text/x-python",
   "name": "python",
   "nbconvert_exporter": "python",
   "pygments_lexer": "ipython3",
   "version": "3.8.13"
  },
  "toc": {
   "base_numbering": 1,
   "nav_menu": {},
   "number_sections": false,
   "sideBar": true,
   "skip_h1_title": false,
   "title_cell": "Table of Contents",
   "title_sidebar": "Contents",
   "toc_cell": false,
   "toc_position": {},
   "toc_section_display": true,
   "toc_window_display": false
  }
 },
 "nbformat": 4,
 "nbformat_minor": 4
}

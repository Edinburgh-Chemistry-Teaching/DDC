{
 "cells": [
  {
   "cell_type": "markdown",
   "metadata": {
    "slideshow": {
     "slide_type": "slide"
    }
   },
   "source": [
    "# Unit 10 - Analysing NMR Data from Start to Finish <a class='tocSkip'>\n",
    "$$\\require{mhchem}$$\n",
    "    \n",
    "<a rel=\"license\" href=\"http://creativecommons.org/licenses/by/4.0/\"><img alt=\"Creative Commons Licence\" style=\"border-width:0\" src=\"https://i.creativecommons.org/l/by/4.0/88x31.png\" title='This work is licensed under a Creative Commons Attribution 4.0 International License.' align=\"right\"/></a>\n",
    "\n",
    "Author: Dr James Cumby   \n",
    "Email: james.cumby@ed.ac.uk"
   ]
  },
  {
   "cell_type": "markdown",
   "metadata": {
    "slideshow": {
     "slide_type": "skip"
    }
   },
   "source": [
    "## Overview\n",
    "In this Unit, we will focus on handling real experimental results using Python, from the initial stage of importing data right through to fitting models and plotting the results.\n",
    "While you could achieve this manually using Origin or Excel, hopefully you'll see that writing code makes the analysis easier, particularly when you have lots of data!\n",
    "<div class=\"alert alert-info\">\n",
    "<b>\n",
    "Note:</b> this session does not intend to teach new concepts, but may inadvertently introduce different ways of achieving the same results. Please ask me/a demonstrator if you unsure.\n",
    "</div>"
   ]
  },
  {
   "cell_type": "markdown",
   "metadata": {
    "slideshow": {
     "slide_type": "subslide"
    }
   },
   "source": [
    "### Learning Objectives\n",
    "\n",
    "This unit covers the learning outcomes of the entire course:\n",
    " - Perform numerical operations such as vector algebra and calculate simple statistics on data sets.\n",
    " - Write readable, well-documented and modular code.\n",
    " - Break a problem into logical steps, and use loops and decision operations to solve tasks.\n",
    " - Import and clean experimental data, and choose the appropriate variable types to hold information.\n",
    " - Fit models to numerical data, and plot the results in a number of different formats.\n",
    "\n",
    "\n",
    "### Table of Contents\n",
    "1. [The Problem](#problem)     \n",
    "2. [Reading Data](#read)\n",
    "3. [NMR data exploration](#explore)\n",
    "4. [Peak hunting](#peak)\n",
    "5. [Analysing Results](#analysis)\n",
    "\n",
    "\n",
    "### Link to documentation:\n",
    "\n",
    "You may wish to include links to package documentation here, if you wish to refer to them later.\n"
   ]
  },
  {
   "cell_type": "code",
   "execution_count": null,
   "metadata": {},
   "outputs": [],
   "source": [
    "# Add any packages you need to import here"
   ]
  },
  {
   "cell_type": "markdown",
   "metadata": {},
   "source": [
    "## 1. The Problem\n",
    "<a id='problem'></a>\n",
    "> Do you get more peaks in the <sup>1</sup>H NMR spectrum if you have an odd number of heteroatoms compared with an even number?\n",
    "\n",
    "The information available is a CSV file containing the number of heteroatoms and an identifier for the molecules, and a folder of NMR data with the matching identifiers. You do not know the chemical formulae."
   ]
  },
  {
   "cell_type": "markdown",
   "metadata": {},
   "source": [
    "### Surveying the class\n",
    "<img src=\"images/mentimeter_1.png\" alt=\"isolated\" width=\"400\"/>"
   ]
  },
  {
   "cell_type": "markdown",
   "metadata": {},
   "source": [
    "# Tasks\n",
    "\n",
    "You will work in pairs or small groups to try and answer this question, with help and guidance from academic demonstrators. Don't worry if you can't immediately solve the problem - try out a few ideas, and ask for help when you're ready!\n",
    "\n",
    "If you get stuck don't panic - you will be given hints throughout the workshop, and a model answer will be made available after the session."
   ]
  },
  {
   "cell_type": "markdown",
   "metadata": {},
   "source": [
    "<div class=\"alert alert-success\">\n",
    "<b>Task 1.1 Thinking about the problem</b>\n",
    "\n",
    "In small groups, discuss the following:\n",
    "- the chemistry behind the problem;\n",
    "- what steps are required to solve the problem.\n",
    "\n",
    "As you discuss your ideas, add steps to the mentimeter:\n",
    "</div>"
   ]
  },
  {
   "cell_type": "markdown",
   "metadata": {
    "scrolled": false
   },
   "source": [
    "<img src=\"images/mentimeter_2.png\" alt=\"isolated\" width=\"400\"/>"
   ]
  },
  {
   "cell_type": "raw",
   "metadata": {},
   "source": [
    "## Gather some ideas:\n",
    "\n"
   ]
  },
  {
   "cell_type": "markdown",
   "metadata": {},
   "source": [
    "<details><summary {style='color:green;font-weight:bold'}> Click here to see solution to Task. </summary>\n",
    "    \n",
    "Some ideas:\n",
    "- Collect NMR data\n",
    "- Collect information on hetero atoms\n",
    "- most abundant isotopes of heteroatoms\n",
    "</details>"
   ]
  },
  {
   "cell_type": "markdown",
   "metadata": {},
   "source": [
    "<!-- begin silent_answer -->\n",
    "## 2. Reading Data\n",
    "<a id='read'></a>\n",
    "\n",
    "<div class=\"alert alert-info\">\n",
    "<b>Data:    \n",
    "</b>\n",
    "You will find all the data you need to answer the question in the directory <code>data</code>. The summary file tells you about the hetero atom counts, the weights file about the molecular weights. In <code>data/NMR_data</code> you find many files with different spectra. \n",
    "</div>\n",
    "\n",
    "### Task 2\n",
    "\n",
    "<div class=\"alert alert-success\">\n",
    "<b>Getting started with the data</b>\n",
    "    \n",
    "1. Import the <code>NMR_summary.csv</code> file   \n",
    "2. Work out how to read a single NMR spectrum from a file    \n",
    "3. Write a function <code>read_NMR_data</code>that can read in all NMR files    \n",
    "</div>\n",
    "<!-- end silent_answer -->"
   ]
  },
  {
   "cell_type": "markdown",
   "metadata": {},
   "source": [
    "<!-- begin silent_answer -->\n",
    "### 2.1 - Import summary file\n",
    "First, we need to import the summary data file; here we'll use Pandas.\n",
    "<!-- end silent_answer -->"
   ]
  },
  {
   "cell_type": "code",
   "execution_count": null,
   "metadata": {},
   "outputs": [],
   "source": [
    "\n",
    "# FIXME\n",
    "\n"
   ]
  },
  {
   "cell_type": "markdown",
   "metadata": {},
   "source": [
    "<!-- begin silent_answer -->\n",
    "### 2.2 - Read in NMR data file\n",
    "First, we need to work out how to read one file\n",
    "<!-- end silent_answer -->"
   ]
  },
  {
   "cell_type": "code",
   "execution_count": null,
   "metadata": {},
   "outputs": [],
   "source": [
    "\n",
    "# FIXME\n"
   ]
  },
  {
   "cell_type": "markdown",
   "metadata": {},
   "source": [
    "<!-- begin silent_answer -->\n",
    "### 2.3 - Read in all NMR files\n",
    "Now we can read one file, we should write a function that can read them all.\n",
    "<!-- end silent_answer -->"
   ]
  },
  {
   "cell_type": "code",
   "execution_count": null,
   "metadata": {},
   "outputs": [],
   "source": [
    "# FIXME"
   ]
  },
  {
   "cell_type": "markdown",
   "metadata": {},
   "source": [
    "<!-- begin silent_answer -->\n",
    "## 3. NMR data exploration\n",
    "<a id='explore'></a>\n",
    "To answer the problem\n",
    "> Do you get more peaks in the <sup>1</sup>H NMR spectrum if you have an odd number of heteroatoms compared with an even number?\n",
    "\n",
    "we will need to determine the number of peaks in a spectrum. \n",
    "\n",
    "<div class=\"alert alert-info\">\n",
    "<b>Questions to ask of the data</b>\n",
    "    \n",
    "To peak search automatically, we need the NMR data to have similar numerical values. Things to check are: \n",
    "\n",
    "- What range of chemical shift do they cover?\n",
    "- What is the maximum intensity?\n",
    "- How noisy is the baseline?\n",
    "</div>\n",
    "<!-- end silent_answer -->"
   ]
  },
  {
   "cell_type": "markdown",
   "metadata": {},
   "source": [
    "<!-- begin silent_answer -->\n",
    "## Task 3\n",
    "\n",
    "<div class=\"alert alert-success\">\n",
    "<b>Exploring the data:</b>\n",
    "    \n",
    "1. Write a function that can quantify the following information:   \n",
    "    - Range of chemical shifts   \n",
    "    - Maximum intensity   \n",
    "    - Level of noise in the spectrum background   \n",
    "2. Extract and store these values for all NMR data    \n",
    "3. Plot histograms of each of each parameter, and decide whether any corrections to the data are required   \n",
    "4. Make any corrections required   \n",
    "</div>\n",
    "<!-- end silent_answer -->"
   ]
  },
  {
   "cell_type": "markdown",
   "metadata": {},
   "source": [
    "<!-- begin silent_answer -->\n",
    "### 3.1/3.2 - Extract key features from each spectrum\n",
    "<!-- end silent_answer -->"
   ]
  },
  {
   "cell_type": "code",
   "execution_count": null,
   "metadata": {},
   "outputs": [],
   "source": [
    "#FIXME"
   ]
  },
  {
   "cell_type": "markdown",
   "metadata": {},
   "source": [
    "<!-- begin silent_answer -->\n",
    "### 3.3 - Plot histograms across all NMR data\n",
    "<!-- end silent_answer -->"
   ]
  },
  {
   "cell_type": "code",
   "execution_count": null,
   "metadata": {},
   "outputs": [],
   "source": [
    "# FIXME"
   ]
  },
  {
   "cell_type": "markdown",
   "metadata": {},
   "source": [
    "<!-- begin silent_answer -->\n",
    "### 3.4 - Apply corrections to standardise the data\n",
    "\n",
    "For peak searching to work effectively, we need to standardise our data. The simplest change would be to normalise the intensity values so that, e.g. the maximum is 100.\n",
    "<!-- end silent_answer -->"
   ]
  },
  {
   "cell_type": "code",
   "execution_count": null,
   "metadata": {},
   "outputs": [],
   "source": [
    "# FIXME"
   ]
  },
  {
   "cell_type": "markdown",
   "metadata": {},
   "source": [
    "<!-- begin silent_answer -->\n",
    "## NMR peak hunting\n",
    "<a id='peak'></a>\n",
    "A number of different peak finding algorithms exist, but here we will focus on `scipy.signal.find_peaks` that you saw in unit 7. Use this to determine the number of peaks in each NMR spectrum, and store these values for plotting. We can optimise the peak finding using the `prominence` parameter (in this case; other problems might need different parameters).\n",
    "<!-- end silent_answer -->"
   ]
  },
  {
   "cell_type": "markdown",
   "metadata": {},
   "source": [
    "<!-- begin silent_answer -->\n",
    "## Task 4\n",
    "\n",
    "<div class=\"alert alert-success\">\n",
    "<b> Finding Peaks:</b>\n",
    "    \n",
    "1. Write a function capable of extracting peaks from any of the NMR spectra\n",
    "2. Test how the peak-fitting parameters affect the number of peaks determined\n",
    "    > Hint: \"prominence\" is particularly useful for these peak shapes\n",
    "3. Optimise these parameter(s) to determine the number of peaks in each spectrum\n",
    "</b>\n",
    "<!-- end silent_answer -->"
   ]
  },
  {
   "cell_type": "markdown",
   "metadata": {},
   "source": [
    "<!-- begin silent_answer -->\n",
    "### 4.1 - Function to extract peaks\n",
    "<!-- end silent_answer -->"
   ]
  },
  {
   "cell_type": "code",
   "execution_count": null,
   "metadata": {},
   "outputs": [],
   "source": [
    "# FIXME"
   ]
  },
  {
   "cell_type": "markdown",
   "metadata": {},
   "source": [
    "<!-- begin silent_answer -->\n",
    "### 4.2 - Optimising the prominence parameter\n",
    "\n",
    "To find peaks automatically we need to choose a prominence value. Let's systematically test a few different ones and see what the effect is on number of peaks. There are many ways to tackle this, but here we'll use the power of pandas to plot multiple curves quickly (and neatly)!\n",
    "<!-- end silent_answer -->"
   ]
  },
  {
   "cell_type": "code",
   "execution_count": null,
   "metadata": {},
   "outputs": [],
   "source": [
    "# FIXME"
   ]
  },
  {
   "cell_type": "markdown",
   "metadata": {},
   "source": [
    "<details><summary {style='color:green;font-weight:bold'}> Click here to see some discussion on the prominence parameter. </summary>\n",
    "    \n",
    "A prominence above ~1 seems to give a fairly constant number of peaks, but anything below this gives a number of peaks strongly dependent on this parameter.\n",
    "\n",
    "We will choose prominence = 1 to avoid biasing the number of peaks in one spectrum over another. It is possible that we are missing some \"real\" peaks, but we are unlikely to do better in one spectrum than another.\n",
    "    \n",
    "</details>"
   ]
  },
  {
   "cell_type": "markdown",
   "metadata": {},
   "source": [
    "<!-- begin silent_answer -->\n",
    "### 4.3 - Optimise the parameters and extract peak count\n",
    "\n",
    "<!-- end silent_answer -->"
   ]
  },
  {
   "cell_type": "code",
   "execution_count": null,
   "metadata": {},
   "outputs": [],
   "source": [
    "# FIXME"
   ]
  },
  {
   "cell_type": "markdown",
   "metadata": {},
   "source": [
    "<!-- begin silent_answer -->\n",
    "## 5. Analysing the results\n",
    "<a id='analysis'></a>\n",
    "Now we have computed the number of peaks, we can this for each spectrum in order to answer the original question.\n",
    "<!-- end silent_answer -->"
   ]
  },
  {
   "cell_type": "markdown",
   "metadata": {},
   "source": [
    "<!-- begin silent_answer -->\n",
    "### Task 5\n",
    "<div class=\"alert alert-success\">\n",
    "<b> Plotting:</b>\n",
    "    \n",
    "Plot graphs to determine whether the number of heteroatoms influences the number of NMR peaks.\n",
    "</div>\n",
    "<!-- end silent_answer -->"
   ]
  },
  {
   "cell_type": "code",
   "execution_count": null,
   "metadata": {},
   "outputs": [],
   "source": [
    "# FIXME"
   ]
  },
  {
   "cell_type": "markdown",
   "metadata": {},
   "source": [
    "<!-- begin silent_answer -->\n",
    "# Conclusions\n",
    "<div class=\"alert alert-info\">\n",
    "<b>\n",
    "Key points:</b>\n",
    "    \n",
    "- Starting from a hypothesis and some available data, you have been able to work through the problem logically to reach a conclusion.\n",
    "- It is important to inspect and \"clean\" your data before automating your analysis, as some assumptions may be incorrect.\n",
    "- There is more than one way to perform these sorts of analysis, but it is important to be aware of the benefits/limitations of different approaches.\n",
    "\n",
    "<!-- end silent_answer -->"
   ]
  },
  {
   "cell_type": "markdown",
   "metadata": {},
   "source": [
    "# Tasks to complete after this session\n",
    "\n",
    "- Read through the notebook with solutions, and check that you have understood the steps\n",
    "- Find and read the documentation for any Python commands you are less familiar with\n",
    "- Think about other ways to solve the problem, and try to implement/compare them\n",
    "- Extend your analysis to explore other peak searching approaches (or parameters)\n",
    "- Use statistical methods you have learned to quantify any correlations we have observed"
   ]
  },
  {
   "cell_type": "markdown",
   "metadata": {},
   "source": []
  }
 ],
 "metadata": {
  "kernelspec": {
   "display_name": "Python 3 (ipykernel)",
   "language": "python",
   "name": "python3"
  },
  "language_info": {
   "codemirror_mode": {
    "name": "ipython",
    "version": 3
   },
   "file_extension": ".py",
   "mimetype": "text/x-python",
   "name": "python",
   "nbconvert_exporter": "python",
   "pygments_lexer": "ipython3",
   "version": "3.9.13"
  },
  "rise": {
   "enable_chalkboard": true,
   "scroll": true
  },
  "toc": {
   "base_numbering": 1,
   "nav_menu": {},
   "number_sections": false,
   "sideBar": true,
   "skip_h1_title": false,
   "title_cell": "Table of Contents",
   "title_sidebar": "Contents",
   "toc_cell": false,
   "toc_position": {
    "height": "calc(100% - 180px)",
    "left": "10px",
    "top": "150px",
    "width": "384px"
   },
   "toc_section_display": true,
   "toc_window_display": true
  },
  "toc-autonumbering": true
 },
 "nbformat": 4,
 "nbformat_minor": 4
}

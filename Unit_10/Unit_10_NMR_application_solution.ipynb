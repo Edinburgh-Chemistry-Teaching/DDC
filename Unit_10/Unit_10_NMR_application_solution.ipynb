{
 "cells": [
  {
   "cell_type": "markdown",
   "metadata": {
    "slideshow": {
     "slide_type": "slide"
    }
   },
   "source": [
    "# Unit 10: Solutions to Analysing NMR Data from Start to Finish <a class='tocSkip'>\n",
    "$$\\require{mhchem}$$\n",
    "    \n",
    "<a rel=\"license\" href=\"http://creativecommons.org/licenses/by/4.0/\"><img alt=\"Creative Commons Licence\" style=\"border-width:0\" src=\"https://i.creativecommons.org/l/by/4.0/88x31.png\" title='This work is licensed under a Creative Commons Attribution 4.0 International License.' align=\"right\"/></a>\n",
    "\n",
    "Author: Dr James Cumby   \n",
    "Email: james.cumby@ed.ac.uk"
   ]
  },
  {
   "cell_type": "markdown",
   "metadata": {
    "slideshow": {
     "slide_type": "subslide"
    }
   },
   "source": [
    "### Learning Objectives\n",
    "\n",
    "This unit covers the learning outcomes of the entire course:\n",
    " - Perform numerical operations using:\n",
    "     - vector algebra \n",
    "     - simple statistics on data sets.\n",
    " - Write readable, well-documented and modular code.\n",
    " - Break problem into logical steps with:\n",
    "     - loops \n",
    "     - and decision operations.\n",
    " - Import and clean experimental data\n",
    " - Fit models to numerical data\n",
    " - Practice plotting the results.\n",
    "\n",
    "### Table of Contents\n",
    "1. [The Problem](#problem)     \n",
    "2. [Reading Data](#read)\n",
    "3. [NMR data exploration](#explore)\n",
    "4. [Peak hunting](#peak)\n",
    "5. [Analysing Results](#analysis)\n",
    "\n",
    "\n",
    "### Link to documentation:\n",
    "\n",
    "- Documentation for `scipy.signal.find_peaks` can be found [here](https://docs.scipy.org/doc/scipy/reference/generated/scipy.signal.find_peaks.html)\n",
    "- An overview of plotting with Pandas can be found [here](https://pandas.pydata.org/docs/user_guide/visualization.html)"
   ]
  },
  {
   "cell_type": "markdown",
   "metadata": {},
   "source": [
    "**<span style=\"color:black\">Jupyter Cheat Sheet</span>**\n",
    "- To run the currently highlighted cell and move focus to the next cell, hold <kbd>&#x21E7; Shift</kbd> and press <kbd>&#x23ce; Enter</kbd>;\n",
    "- To run the currently highlighted cell and keep focus in the same cell, hold <kbd>&#x21E7; Ctrl</kbd> and press <kbd>&#x23ce; Enter</kbd>;\n",
    "- To get help for a specific function, place the cursor within the function's brackets, hold <kbd>&#x21E7; Shift</kbd>, and press <kbd>&#x21E5; Tab</kbd>;"
   ]
  },
  {
   "cell_type": "markdown",
   "metadata": {
    "slideshow": {
     "slide_type": "skip"
    }
   },
   "source": [
    "## Overview\n",
    "\n",
    "In this Unit, we will focus on handling real experimental results using Python, from the initial stage of importing data right through to fitting models and plotting the results.\n",
    "While you could achieve this manually using Origin or Excel, hopefully you'll see that writing code makes the analysis easier, particularly when you have lots of data!\n",
    "<div class=\"alert alert-info\">\n",
    "<b>\n",
    "Note:</b> this session does not intend to teach new concepts, but may inadvertently introduce different ways of achieving the same results. Please ask me/a demonstrator if you unsure.\n",
    "</div>"
   ]
  },
  {
   "cell_type": "code",
   "execution_count": null,
   "metadata": {},
   "outputs": [],
   "source": [
    "import pandas as pd\n",
    "import numpy as np\n",
    "import matplotlib.pyplot as plt"
   ]
  },
  {
   "cell_type": "markdown",
   "metadata": {},
   "source": [
    "## 1. The Problem\n",
    "<a id='problem'></a>\n",
    "> Do you get more peaks in the <sup>1</sup>H NMR spectrum if you have an odd number of heteroatoms compared with an even number?\n",
    "\n",
    "The information available is a CSV file containing the number of heteroatoms and an identifier for the molecules, and a folder of NMR data with the matching identifiers. You do not know the chemical formulae."
   ]
  },
  {
   "cell_type": "markdown",
   "metadata": {},
   "source": [
    "### Surveying the class\n",
    "<img src=\"images/mentimeter_1.png\" alt=\"isolated\" width=\"400\"/>"
   ]
  },
  {
   "cell_type": "markdown",
   "metadata": {},
   "source": [
    "# Tasks\n",
    "\n",
    "You will work in pairs or small groups to try and answer this question, with help and guidance from academic demonstrators. Don't worry if you can't immediately solve the problem - try out a few ideas, and ask for help when you're ready!\n",
    "\n",
    "If you get stuck don't panic - you will be given hints throughout the workshop, and a model answer will be made available after the session."
   ]
  },
  {
   "cell_type": "markdown",
   "metadata": {},
   "source": [
    "<div class=\"alert alert-success\">\n",
    "<b>Task 1.1 Thinking about the problem</b>\n",
    "\n",
    "In small groups, discuss the following:\n",
    "- the chemistry behind the problem;\n",
    "- what steps are required to solve the problem.\n",
    "\n",
    "As you discuss your ideas, add steps to the mentimeter:\n",
    "</div>"
   ]
  },
  {
   "cell_type": "markdown",
   "metadata": {
    "scrolled": false
   },
   "source": [
    "<img src=\"images/mentimeter_2.png\" alt=\"isolated\" width=\"400\"/>"
   ]
  },
  {
   "cell_type": "raw",
   "metadata": {},
   "source": [
    "## Gather some ideas:\n",
    "\n"
   ]
  },
  {
   "cell_type": "markdown",
   "metadata": {},
   "source": [
    "<details><summary {style='color:green;font-weight:bold'}> Click here to see solution to Task. </summary>\n",
    "    \n",
    "Some ideas:\n",
    "- Collect NMR data\n",
    "- Collect information on hetero atoms\n",
    "- most abundant isotopes of heteroatoms\n",
    "</details>"
   ]
  },
  {
   "cell_type": "markdown",
   "metadata": {},
   "source": [
    "<!-- begin silent_answer -->\n",
    "## 2. Reading Data\n",
    "<a id='read'></a>\n",
    "\n",
    "<div class=\"alert alert-info\">\n",
    "<b>Data:    \n",
    "</b>\n",
    "You will find all the data you need to answer the question in the directory <code>data</code>. The summary file tells you about the hetero atom counts, the weights file about the molecular weights. In <code>data/NMR_data</code> you find many files with different spectra. \n",
    "</div>\n",
    "\n",
    "### Task 2\n",
    "\n",
    "<div class=\"alert alert-success\">\n",
    "<b>Getting started with the data</b>\n",
    "    \n",
    "1. Import the <code>NMR_summary.csv</code> file   \n",
    "2. Work out how to read a single NMR spectrum from a file    \n",
    "3. Write a function <code>read_NMR_data</code>that can read in all NMR files    \n",
    "</div>\n",
    "<!-- end silent_answer -->"
   ]
  },
  {
   "cell_type": "markdown",
   "metadata": {},
   "source": [
    "<!-- begin silent_answer -->\n",
    "### 2.1 - Import summary file\n",
    "First, we need to import the summary data file; here we'll use Pandas.\n",
    "<!-- end silent_answer -->"
   ]
  },
  {
   "cell_type": "code",
   "execution_count": null,
   "metadata": {},
   "outputs": [],
   "source": [
    "!head data_sources/NMR_summary.csv\n"
   ]
  },
  {
   "cell_type": "code",
   "execution_count": null,
   "metadata": {},
   "outputs": [],
   "source": [
    "summary = pd.read_csv('data/NMR_summary.csv', sep=';')\n",
    "summary.head()\n"
   ]
  },
  {
   "cell_type": "code",
   "execution_count": null,
   "metadata": {},
   "outputs": [],
   "source": [
    "summary = summary.set_index('Molecule_ID')\n",
    "summary.head()\n"
   ]
  },
  {
   "cell_type": "markdown",
   "metadata": {},
   "source": [
    "<!-- begin silent_answer -->\n",
    "### 2.2 - Read in NMR data file\n",
    "First, we need to work out how to read one file\n",
    "<!-- end silent_answer -->"
   ]
  },
  {
   "cell_type": "code",
   "execution_count": null,
   "metadata": {},
   "outputs": [],
   "source": [
    "NMR = pd.read_csv('data/NMR_data/1.txt', sep='\\t', names=['a','b','c'])\n",
    "NMR.head()\n"
   ]
  },
  {
   "cell_type": "code",
   "execution_count": null,
   "metadata": {},
   "outputs": [],
   "source": [
    "NMR.plot(figsize=(10,6))\n"
   ]
  },
  {
   "cell_type": "code",
   "execution_count": null,
   "metadata": {},
   "outputs": [],
   "source": [
    "NMR = pd.read_csv('data/NMR_data/1.txt', sep='\\t', names=['shift','intensity','derivative'])\n",
    "NMR.head()\n"
   ]
  },
  {
   "cell_type": "code",
   "execution_count": null,
   "metadata": {},
   "outputs": [],
   "source": [
    "NMR.plot(x='shift', y='intensity')\n"
   ]
  },
  {
   "cell_type": "markdown",
   "metadata": {},
   "source": [
    "<!-- begin silent_answer -->\n",
    "### 2.3 - Read in all NMR files\n",
    "Now we can read one file, we should write a function that can read them all.\n",
    "<!-- end silent_answer -->"
   ]
  },
  {
   "cell_type": "code",
   "execution_count": null,
   "metadata": {},
   "outputs": [],
   "source": [
    "def read_NMR_data(NMR):\n",
    "    \"\"\" Read NMR data. \"\"\"\n",
    "\n",
    "    data = pd.read_csv(NMR, sep='\\t', names=['shift','intensity','derivative'])\n",
    "    return data\n",
    "\n",
    "read_NMR_data('data/NMR_data/10.txt')\n",
    "    \n"
   ]
  },
  {
   "cell_type": "code",
   "execution_count": null,
   "metadata": {},
   "outputs": [],
   "source": [
    "NMR_data = {}\n",
    "for ID in summary.index:\n",
    "    NMR_file = 'data/NMR_data/' + str(ID) + '.txt'\n",
    "    NMR_data[ID] = read_NMR_data(NMR_file)\n",
    "    \n",
    "NMR_data[11]\n"
   ]
  },
  {
   "cell_type": "markdown",
   "metadata": {},
   "source": [
    "<!-- begin silent_answer -->\n",
    "## 3. NMR data exploration\n",
    "<a id='explore'></a>\n",
    "To answer the problem\n",
    "> Do you get more peaks in the <sup>1</sup>H NMR spectrum if you have an odd number of heteroatoms compared with an even number?\n",
    "\n",
    "we will need to determine the number of peaks in a spectrum. \n",
    "\n",
    "<div class=\"alert alert-info\">\n",
    "<b>Questions to ask of the data</b>\n",
    "    \n",
    "To peak search automatically, we need the NMR data to have similar numerical values. Things to check are: \n",
    "\n",
    "- What range of chemical shift do they cover?\n",
    "- What is the maximum intensity?\n",
    "- How noisy is the baseline?\n",
    "</div>\n",
    "<!-- end silent_answer -->"
   ]
  },
  {
   "cell_type": "markdown",
   "metadata": {},
   "source": [
    "<!-- begin silent_answer -->\n",
    "## Task 3\n",
    "\n",
    "<div class=\"alert alert-success\">\n",
    "<b>Exploring the data:</b>\n",
    "    \n",
    "1. Write a function that can quantify the following information:   \n",
    "    - Range of chemical shifts   \n",
    "    - Maximum intensity   \n",
    "    - Level of noise in the spectrum background   \n",
    "2. Extract and store these values for all NMR data    \n",
    "3. Plot histograms of each of each parameter, and decide whether any corrections to the data are required   \n",
    "4. Make any corrections required   \n",
    "</div>\n",
    "<!-- end silent_answer -->"
   ]
  },
  {
   "cell_type": "markdown",
   "metadata": {},
   "source": [
    "<!-- begin silent_answer -->\n",
    "### 3.1/3.2 - Extract key features from each spectrum\n",
    "<!-- end silent_answer -->"
   ]
  },
  {
   "cell_type": "code",
   "execution_count": null,
   "metadata": {},
   "outputs": [],
   "source": [
    "\n",
    "# Calculate shift range\n",
    "min_shift = NMR_data[1]['shift'].min()\n",
    "max_shift = NMR_data[1]['shift'].max()\n",
    "shift_range = max_shift - min_shift\n",
    "\n",
    "print( f\"Spectrum covers {shift_range:.3f} ppm from {min_shift:.3f} to {max_shift:.3f} ppm.\")\n",
    "\n",
    "# Calculate max intensity\n",
    "max_intensity = NMR_data[1]['intensity'].max()\n",
    "print( f\"Maximum intensity is {max_intensity:.3f}.\")\n",
    "\n",
    "# Calculate baseline\n",
    "number_of_points = NMR_data[1].shape[0]\n",
    "baseline_std = NMR_data[1]['intensity'].nsmallest(n = int(number_of_points*0.5)).std()\n",
    "print( f\"Baseline noise is {baseline_std:.3f}.\")\n"
   ]
  },
  {
   "cell_type": "code",
   "execution_count": null,
   "metadata": {},
   "outputs": [],
   "source": [
    "# Now, we convert the code above into a function that can work for any NMR DataFrame\n",
    "\n",
    "def summary_statistics(NMR_data, ID):\n",
    "    \"\"\" Return summary statistics for an NMR spectrum. \"\"\"\n",
    "    \n",
    "    # Calculate shift range\n",
    "    min_shift = NMR_data[ID]['shift'].min()\n",
    "    max_shift = NMR_data[ID]['shift'].max()\n",
    "    shift_range = max_shift - min_shift\n",
    "\n",
    "    # Calculate max intensity\n",
    "    max_intensity = NMR_data[ID]['intensity'].max()\n",
    "\n",
    "    # Calculate baseline\n",
    "    num_points = NMR_data[ID].shape[0]\n",
    "    baseline_std = NMR_data[ID]['intensity'].nsmallest(n = int(num_points*0.5)).std()\n",
    "    \n",
    "    return shift_range, max_intensity, baseline_std"
   ]
  },
  {
   "cell_type": "code",
   "execution_count": null,
   "metadata": {},
   "outputs": [],
   "source": [
    "for ID in summary.index:\n",
    "    stats = summary_statistics(NMR_data, ID)\n",
    "    summary.loc[ID, ['shift_range', 'max_intensity', 'baseline_std']] = stats\n",
    "    \n",
    "summary.head()"
   ]
  },
  {
   "cell_type": "code",
   "execution_count": null,
   "metadata": {},
   "outputs": [],
   "source": [
    "summary.describe()"
   ]
  },
  {
   "cell_type": "markdown",
   "metadata": {},
   "source": [
    "<!-- begin silent_answer -->\n",
    "### 3.3 - Plot histograms across all NMR data\n",
    "<!-- end silent_answer -->"
   ]
  },
  {
   "cell_type": "code",
   "execution_count": null,
   "metadata": {},
   "outputs": [],
   "source": [
    "fig = plt.figure()\n",
    "ax = fig.add_subplot()\n",
    "summary['shift_range'].plot(kind='hist', bins=50, ax=ax, label='ppm range')\n",
    "ax.set_xlabel('Chemical shift range')\n"
   ]
  },
  {
   "cell_type": "code",
   "execution_count": null,
   "metadata": {},
   "outputs": [],
   "source": [
    "fig = plt.figure()\n",
    "ax = fig.add_subplot()\n",
    "summary['max_intensity'].plot(kind='hist', bins=50, ax=ax, label='Maximum intensity')\n",
    "ax.set_xlabel('Maximum intensity')"
   ]
  },
  {
   "cell_type": "code",
   "execution_count": null,
   "metadata": {},
   "outputs": [],
   "source": [
    "fig = plt.figure()\n",
    "ax = fig.add_subplot()\n",
    "summary['baseline_std'].plot(kind='hist', bins=50, ax=ax, label='Baseline sigma')\n",
    "ax.set_xlabel('Baseline standard deviation')"
   ]
  },
  {
   "cell_type": "markdown",
   "metadata": {},
   "source": [
    "<!-- begin silent_answer -->\n",
    "### 3.4 - Apply corrections to standardise the data\n",
    "\n",
    "For peak searching to work effectively, we need to standardise our data. The simplest change would be to normalise the intensity values so that, e.g. the maximum is 100.\n",
    "<!-- end silent_answer -->"
   ]
  },
  {
   "cell_type": "code",
   "execution_count": null,
   "metadata": {},
   "outputs": [],
   "source": [
    "for ID in summary.index:\n",
    "    NMR_data[ID]['intensity'] = NMR_data[ID]['intensity'] / NMR_data[ID]['intensity'].max() * 100\n"
   ]
  },
  {
   "cell_type": "code",
   "execution_count": null,
   "metadata": {},
   "outputs": [],
   "source": [
    "for ID in summary.index:\n",
    "    stats = summary_statistics(NMR_data, ID)\n",
    "    summary.loc[ID, ['shift_range', 'max_int', 'baseline_std']] = stats\n"
   ]
  },
  {
   "cell_type": "code",
   "execution_count": null,
   "metadata": {},
   "outputs": [],
   "source": [
    "fig = plt.figure()\n",
    "ax = fig.add_subplot()\n",
    "summary['baseline_std'].plot(kind='hist', bins=50, ax=ax, label='Baseline sigma')\n",
    "ax.set_xlabel('Baseline standard deviation')\n"
   ]
  },
  {
   "cell_type": "markdown",
   "metadata": {},
   "source": [
    "<!-- begin silent_answer -->\n",
    "## NMR peak hunting\n",
    "<a id='peak'></a>\n",
    "A number of different peak finding algorithms exist, but here we will focus on `scipy.signal.find_peaks` that you saw in unit 7. Use this to determine the number of peaks in each NMR spectrum, and store these values for plotting. We can optimise the peak finding using the `prominence` parameter (in this case; other problems might need different parameters).\n",
    "<!-- end silent_answer -->"
   ]
  },
  {
   "cell_type": "markdown",
   "metadata": {},
   "source": [
    "<!-- begin silent_answer -->\n",
    "## Task 4\n",
    "\n",
    "<div class=\"alert alert-success\">\n",
    "<b> Finding Peaks:</b>\n",
    "    \n",
    "1. Write a function capable of extracting peaks from any of the NMR spectra\n",
    "2. Test how the peak-fitting parameters affect the number of peaks determined\n",
    "    > Hint: \"prominence\" is particularly useful for these peak shapes\n",
    "3. Optimise these parameter(s) to determine the number of peaks in each spectrum\n",
    "</b>\n",
    "</div>\n",
    "<!-- end silent_answer -->"
   ]
  },
  {
   "cell_type": "markdown",
   "metadata": {},
   "source": [
    "<!-- begin silent_answer -->\n",
    "### 4.1 - Function to extract peaks\n",
    "<!-- end silent_answer -->"
   ]
  },
  {
   "cell_type": "code",
   "execution_count": null,
   "metadata": {},
   "outputs": [],
   "source": [
    "from scipy.signal import find_peaks\n",
    "ID = 1\n",
    "prominence = 0.3\n",
    "peaks, peak_info = find_peaks(NMR_data[ID]['intensity'],\n",
    "                              prominence = prominence)\n",
    "fig = plt.figure()\n",
    "ax = fig.add_subplot()\n",
    "\n",
    "ax.plot(NMR_data[ID]['shift'], NMR_data[ID]['intensity'])\n",
    "ax.scatter(NMR_data[ID]['shift'][peaks],\n",
    "           NMR_data[ID]['intensity'][peaks],\n",
    "           color='r'\n",
    "          )\n",
    "\n",
    "ax.set_xlabel('Chemical shift (ppm)')\n",
    "ax.set_ylabel('Normalised intensity')\n",
    "\n",
    "#ax.set_xlim(7.3,8)\n",
    "#ax.set_ylim(0,20)\n"
   ]
  },
  {
   "cell_type": "code",
   "execution_count": null,
   "metadata": {},
   "outputs": [],
   "source": [
    "from scipy.signal import find_peaks\n",
    "\n",
    "def count_peaks(NMR_data, ID, prominence):\n",
    "    \"\"\" Return the number of peaks in an NMR spectrum. \"\"\"\n",
    "    \n",
    "    peaks, peak_info = find_peaks(NMR_data[ID]['intensity'],\n",
    "                                  prominence = prominence)\n",
    "    \n",
    "    return len(peaks)"
   ]
  },
  {
   "cell_type": "markdown",
   "metadata": {},
   "source": [
    "<!-- begin silent_answer -->\n",
    "### 4.2 - Optimising the prominence parameter\n",
    "\n",
    "To find peaks automatically we need to choose a prominence value. Let's systematically test a few different ones and see what the effect is on number of peaks. There are many ways to tackle this, but here we'll use the power of pandas to plot multiple curves quickly (and neatly)!\n",
    "<!-- end silent_answer -->"
   ]
  },
  {
   "cell_type": "code",
   "execution_count": null,
   "metadata": {},
   "outputs": [],
   "source": [
    "prominence_range = np.arange(0.1, 5, 0.2)\n",
    "\n",
    "\n",
    "# Make an empty DataFrame with 'prominence value' as the row index and 'ID' as the columns\n",
    "prom_testing = pd.DataFrame(index=prominence_range, columns=summary.index)\n",
    "\n",
    "for prom in prom_testing.index:\n",
    "    for ID in prom_testing.columns:\n",
    "        prom_testing.loc[prom, ID] = count_peaks(NMR_data, ID, prom)\n"
   ]
  },
  {
   "cell_type": "code",
   "execution_count": null,
   "metadata": {},
   "outputs": [],
   "source": [
    "ax = prom_testing.plot(figsize=(10,8), colormap='viridis')\n",
    "ax.set_xlabel('Prominence')\n",
    "ax.set_ylabel('Number of detected peaks')\n",
    "ax.legend(ncol=5)\n"
   ]
  },
  {
   "cell_type": "markdown",
   "metadata": {},
   "source": [
    "<details><summary {style='color:green;font-weight:bold'}> Click here to see some discussion on the prominence parameter. </summary>\n",
    "    \n",
    "A prominence above ~1 seems to give a fairly constant number of peaks, but anything below this gives a number of peaks strongly dependent on this parameter.\n",
    "\n",
    "We will choose prominence = 1 to avoid biasing the number of peaks in one spectrum over another. It is possible that we are missing some \"real\" peaks, but we are unlikely to do better in one spectrum than another.\n",
    "    \n",
    "</details>"
   ]
  },
  {
   "cell_type": "markdown",
   "metadata": {},
   "source": [
    "<!-- begin silent_answer -->\n",
    "### 4.3 - Optimise the parameters and extract peak count\n",
    "\n",
    "<!-- end silent_answer -->"
   ]
  },
  {
   "cell_type": "code",
   "execution_count": null,
   "metadata": {},
   "outputs": [],
   "source": [
    "# Calculate number of peaks using optimum prominence value\n",
    "for ID in summary.index:\n",
    "    summary.loc[ID,'num_peaks'] = count_peaks(NMR_data, ID, prominence=1)\n"
   ]
  },
  {
   "cell_type": "markdown",
   "metadata": {},
   "source": [
    "<!-- begin silent_answer -->\n",
    "## 5. Analysing the results\n",
    "<a id='analysis'></a>\n",
    "Now we have computed the number of peaks, we can this for each spectrum in order to answer the original question.\n",
    "<!-- end silent_answer -->"
   ]
  },
  {
   "cell_type": "markdown",
   "metadata": {},
   "source": [
    "<!-- begin silent_answer -->\n",
    "### Task 5\n",
    "<div class=\"alert alert-success\">\n",
    "<b> Plotting:</b>\n",
    "    \n",
    "Plot graphs to determine whether the number of heteroatoms influences the number of NMR peaks.\n",
    "</div>\n",
    "<!-- end silent_answer -->"
   ]
  },
  {
   "cell_type": "code",
   "execution_count": null,
   "metadata": {},
   "outputs": [],
   "source": [
    "ax = summary.boxplot(column = 'num_peaks', by='heteroatom_count', showmeans=True)\n",
    "ax.set_xlabel('Number of heteroatoms')\n",
    "ax.set_ylabel('Number of peaks in $^1$H NMR')\n",
    "\n",
    "# We need these lines to remove the additional \"title\" text\n",
    "# (try commenting them to see what happens)\n",
    "ax.set_title('')\n",
    "ax.get_figure().suptitle('')"
   ]
  },
  {
   "cell_type": "code",
   "execution_count": null,
   "metadata": {},
   "outputs": [],
   "source": [
    "summary['even_heteroatoms'] = (summary['heteroatom_count'] % 2) == 0\n"
   ]
  },
  {
   "cell_type": "code",
   "execution_count": null,
   "metadata": {},
   "outputs": [],
   "source": [
    "ax = summary.boxplot(column = 'num_peaks', by='even_heteroatoms', showmeans=True)\n",
    "ax.set_xlabel('Number of heteroatoms')\n",
    "ax.set_ylabel('Number of peaks in $^1$H NMR')\n",
    "\n",
    "# We need these lines to remove the additional \"title\" text\n",
    "# (try commenting them to see what happens)\n",
    "ax.set_title('')\n",
    "ax.get_figure().suptitle('')\n"
   ]
  },
  {
   "cell_type": "code",
   "execution_count": null,
   "metadata": {},
   "outputs": [],
   "source": [
    "fig = plt.figure()\n",
    "ax1 = fig.add_subplot(211)\n",
    "ax2 = fig.add_subplot(212, sharex=ax1)\n",
    "ax1.hist(summary[summary['even_heteroatoms']]['num_peaks'], alpha=0.5)\n",
    "ax2.hist(summary[~summary['even_heteroatoms']]['num_peaks'], alpha=0.5)\n",
    "\n",
    "ax2.set_xlabel('Number of $^1$H NMR peaks')\n",
    "ax1.set_ylabel('Count')\n",
    "ax2.set_ylabel('Count')\n",
    "\n",
    "ax1.text(75,6.5, 'Even', fontsize=14)\n",
    "ax2.text(75,5, 'Odd', fontsize=14)\n",
    "\n",
    "ax1.vlines(summary[summary['even_heteroatoms']]['num_peaks'].mean(), 0, 7.5)\n",
    "ax2.vlines(summary[~summary['even_heteroatoms']]['num_peaks'].mean(), 0, 7.5)\n"
   ]
  },
  {
   "cell_type": "markdown",
   "metadata": {},
   "source": [
    "<!-- begin silent_answer -->\n",
    "# Conclusions\n",
    "<div class=\"alert alert-info\">\n",
    "<b>\n",
    "Key points:</b>\n",
    "    \n",
    "- The number of <sup>1</sup>H NMR peaks appears to decrease with increasing numbers of heteratoms   \n",
    "    - This may just be due to a smaller number of compounds in this range   \n",
    "- Molecules with one heteroatom show the highest number of NMR peaks on average\n",
    "- Comparing odd with even numbers of heteratoms, there is little evidence from these data of any difference\n",
    "    - Further work would be to apply statistical testing on these distributions, ideally using a greater number of measurements.</div>\n",
    "<!-- end silent_answer -->"
   ]
  },
  {
   "cell_type": "markdown",
   "metadata": {},
   "source": [
    "# Tasks to complete after this session\n",
    "\n",
    "- Read through the notebook with answers, and check that you have understood the steps\n",
    "- Find and read the documentation for any Python commands you are less familiar with\n",
    "- Think about other ways to solve the problem, and try to implement/compare them\n",
    "- Extend your analysis to explore other peak searching approaches (or parameters)\n",
    "- Use statistical methods you have learned to quantify any correlations we have observed"
   ]
  },
  {
   "cell_type": "markdown",
   "metadata": {},
   "source": [
    "## END UNIT 10"
   ]
  },
  {
   "cell_type": "markdown",
   "metadata": {},
   "source": [
    "---"
   ]
  }
 ],
 "metadata": {
  "kernelspec": {
   "display_name": "Python 3 (ipykernel)",
   "language": "python",
   "name": "python3"
  },
  "language_info": {
   "codemirror_mode": {
    "name": "ipython",
    "version": 3
   },
   "file_extension": ".py",
   "mimetype": "text/x-python",
   "name": "python",
   "nbconvert_exporter": "python",
   "pygments_lexer": "ipython3",
   "version": "3.9.16"
  },
  "rise": {
   "enable_chalkboard": true,
   "scroll": true
  },
  "toc": {
   "base_numbering": 1,
   "nav_menu": {},
   "number_sections": false,
   "sideBar": true,
   "skip_h1_title": false,
   "title_cell": "Table of Contents",
   "title_sidebar": "Contents",
   "toc_cell": false,
   "toc_position": {
    "height": "calc(100% - 180px)",
    "left": "10px",
    "top": "150px",
    "width": "384px"
   },
   "toc_section_display": true,
   "toc_window_display": true
  },
  "toc-autonumbering": true
 },
 "nbformat": 4,
 "nbformat_minor": 4
}

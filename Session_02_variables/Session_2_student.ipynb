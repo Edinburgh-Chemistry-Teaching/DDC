{
 "cells": [
  {
   "cell_type": "markdown",
   "metadata": {},
   "source": [
    "# First steps in Python\n",
    "\n",
    "<a rel=\"license\" href=\"https://creativecommons.org/licenses/by-sa/4.0/\"><img alt=\"Creative Commons Licence\" style=\"border-width:0\" src=\"https://licensebuttons.net/l/by-sa/4.0/88x31.png\" title='This work is licensed under a Creative Commons Attribution 4.0 International License.' align=\"right\"/></a>\n",
    "\n",
    "Author: Dr Antonia Mey   \n",
    "Email: antonia.mey@ed.ac.uk\n",
    "\n",
    "## Learning outcomes:\n",
    "* Interact with a Jupyter notebook\n",
    "* Declare variables\n",
    "* Print Variables\n",
    "* Getting help\n",
    "* Read data from a file\n",
    "\n",
    "You will be using the following concepts:\n",
    "\n",
    "- Variables\n",
    "- In-built functions such as `print()`\n",
    "\n",
    "\n",
    "Some of the content is adapted from [Software carpentry lessons](http://swcarpentry.github.io/python-novice-gapminder/index.html)."
   ]
  },
  {
   "cell_type": "markdown",
   "metadata": {},
   "source": [
    "**Jupyter cheat sheet**:\n",
    "- to run the currently highlighted cell, hold <kbd>&#x21E7; Shift</kbd> and press <kbd>&#x23ce; Enter</kbd>;\n",
    "- to get help for a specific function, place the cursor within the function's brackets, hold <kbd>&#x21E7; Shift</kbd>, and press <kbd>&#x21E5; Tab</kbd>;"
   ]
  },
  {
   "cell_type": "markdown",
   "metadata": {},
   "source": [
    "## Table of Contents\n",
    "1. [Variables and Assignments](#variables)    \n",
    "2. [Data Types and Type conversion](#datatypes)    \n",
    "3. [Built in functions and getting help](#debugging)     \n",
    "4. [More data types](#advanced_types)\n",
    "5. [Reading files](#reading)   \n",
    "6. [Advanced tasks](#advanced)"
   ]
  },
  {
   "cell_type": "markdown",
   "metadata": {},
   "source": [
    "## Quick Quiz"
   ]
  },
  {
   "cell_type": "code",
   "execution_count": null,
   "metadata": {},
   "outputs": [],
   "source": [
    "import sys\n",
    "import os.path\n",
    "sys.path.append(os.path.abspath('../'))\n",
    "from helper_functions.mentimeter import Mentimeter\n",
    "from IPython.display import IFrame"
   ]
  },
  {
   "cell_type": "code",
   "execution_count": null,
   "metadata": {},
   "outputs": [],
   "source": [
    "mood = Mentimeter(vote = 'https://www.menti.com/ali6d9pi9dr2')\n",
    "mood.show()"
   ]
  },
  {
   "cell_type": "code",
   "execution_count": null,
   "metadata": {},
   "outputs": [],
   "source": [
    "mood_result = Mentimeter(result = 'https://www.mentimeter.com/app/presentation/e6ba5112c3ddebbeb036a035ced7c6a7/b1aa79ce572f')\n",
    "mood_result.show()"
   ]
  },
  {
   "cell_type": "code",
   "execution_count": null,
   "metadata": {},
   "outputs": [],
   "source": [
    "python_experience = Mentimeter(vote = 'https://www.menti.com/alqeewd5zafj')\n",
    "python_experience.show()"
   ]
  },
  {
   "cell_type": "code",
   "execution_count": null,
   "metadata": {},
   "outputs": [],
   "source": [
    "python_experience_result = Mentimeter(result = 'https://www.mentimeter.com/app/presentation/6c002fe187ed6b9fcaf6bc35499cd7fb/758faf4b9670')\n",
    "python_experience_result.show()"
   ]
  },
  {
   "cell_type": "markdown",
   "metadata": {},
   "source": [
    "## 1. Variables and Assignments\n",
    "<a id='variables'></a>"
   ]
  },
  {
   "cell_type": "markdown",
   "metadata": {},
   "source": [
    "### Use variables to store values.\n",
    "***\n",
    "\n",
    "* Variables are names for values.\n",
    "* In Python the `=` symbol assigns the value on the right to the name on the left.\n",
    "* The variable is created when a value is assigned to it.\n",
    "* Here, Python assigns an `age` to a variable age and a name in quotes to a variable `first_name`."
   ]
  },
  {
   "cell_type": "code",
   "execution_count": null,
   "metadata": {},
   "outputs": [],
   "source": [
    "age = 42\n",
    "first_name = 'Ahmed'"
   ]
  },
  {
   "cell_type": "markdown",
   "metadata": {},
   "source": [
    "* Variable names    \n",
    "   * can only contain letters, digits, and underscore _ (typically used to separate words in long variable names)\n",
    "   * cannot start with a digit\n",
    "   * are case sensitive (age, Age and AGE are three different variables)\n",
    "* Variable names that start with underscores like `__alistairs_real_age` have a special meaning so we won’t use these until we understand the convention."
   ]
  },
  {
   "cell_type": "markdown",
   "metadata": {},
   "source": [
    "### Use `print()` to display values\n",
    "***"
   ]
  },
  {
   "cell_type": "markdown",
   "metadata": {},
   "source": [
    "* Python has a built-in function called `print()` that prints things as text.\n",
    "* Call the function (i.e., tell Python to run it) by using its name.\n",
    "* Provide values to the function (i.e., the things to print) in parentheses.\n",
    "* To add a string to the printout, wrap the string in single or double quotes.\n",
    "* The values passed to the function are called arguments."
   ]
  },
  {
   "cell_type": "code",
   "execution_count": null,
   "metadata": {},
   "outputs": [],
   "source": [
    "print(first_name, 'is', age, 'years old')"
   ]
  },
  {
   "cell_type": "markdown",
   "metadata": {},
   "source": [
    "* `print()` automatically puts a single space between items to separate them.\n",
    "* And wraps around to a new line at the end."
   ]
  },
  {
   "cell_type": "markdown",
   "metadata": {},
   "source": [
    "<div class=\"alert alert-warning\"><b>Variables persist between cells</b> \n",
    "    \n",
    "Be aware that <em>it is the order of execution of cells that is important</em> in a Jupyter notebook, not the <em>order</em> in which they appear. Python will remember <em>all</em> the code that was run previously, including any variables you have defined, irrespective of the order in the notebook. Therefore, if you define variables lower down the notebook and then (re)run cells further up, those defined further down will still be present. As an example, create two cells with the following content, in this order: </div> "
   ]
  },
  {
   "cell_type": "code",
   "execution_count": null,
   "metadata": {},
   "outputs": [],
   "source": [
    "print(atom)"
   ]
  },
  {
   "cell_type": "code",
   "execution_count": null,
   "metadata": {},
   "outputs": [],
   "source": [
    "atom = 'Helium'"
   ]
  },
  {
   "cell_type": "markdown",
   "metadata": {},
   "source": [
    "<div class=\"alert alert-block alert-warning\">If you execute this in order, the first cell will give an error. However, if you run the first cell after the second cell it will print out 1. To prevent confusion, it can be helpful to use the <b>Kernel -> Restart & Run All</b> option which clears the interpreter and runs everything from a clean slate going top to bottom.</div>"
   ]
  },
  {
   "cell_type": "markdown",
   "metadata": {},
   "source": [
    "### Variables can be used in calculations\n",
    "***\n",
    "We can use variables in calculations just as if they were values.    \n",
    "**Remember**, we assigned the value 42 to age a few lines ago."
   ]
  },
  {
   "cell_type": "code",
   "execution_count": null,
   "metadata": {},
   "outputs": [],
   "source": [
    "age = age + 3\n",
    "print('Age in three years:', age)"
   ]
  },
  {
   "cell_type": "markdown",
   "metadata": {},
   "source": [
    "### Python is case-sensitive\n",
    "***\n",
    "* Python thinks that upper- and lower-case letters are different, so `Name` and `name` are different variables.\n",
    "* There are conventions for using upper-case letters at the start of variable names so we will use lower-case letters for now."
   ]
  },
  {
   "cell_type": "markdown",
   "metadata": {},
   "source": [
    "### Use meaningful variable names\n",
    "***\n",
    "Python doesn't care what you call variables as long as they obey the rules (alphanumeric characters and the underscore)."
   ]
  },
  {
   "cell_type": "code",
   "execution_count": null,
   "metadata": {},
   "outputs": [],
   "source": [
    "flabadab = 42\n",
    "ewr_422_yY = 'Ahmed'\n",
    "print(ewr_422_yY, 'is', flabadab, 'years old')"
   ]
  },
  {
   "cell_type": "markdown",
   "metadata": {},
   "source": [
    "⚠️ **Use meaningful variable names** to help other people understand what the program does.\n",
    "The most important “other person” is your **future self**."
   ]
  },
  {
   "cell_type": "markdown",
   "metadata": {},
   "source": [
    "## Tasks"
   ]
  },
  {
   "cell_type": "markdown",
   "metadata": {},
   "source": [
    "<div class=\"alert alert-success\">\n",
    "<b>Task 1: Predicting Values:</b>\n",
    "</div>"
   ]
  },
  {
   "cell_type": "markdown",
   "metadata": {},
   "source": [
    "What is the final value of position in the program below? (Try to predict the value without running the program, then check your prediction, by using `print()` to query the value of position.)\n"
   ]
  },
  {
   "cell_type": "code",
   "execution_count": null,
   "metadata": {},
   "outputs": [],
   "source": [
    "initial = 'left'\n",
    "position = initial\n",
    "initial = 'right'"
   ]
  },
  {
   "cell_type": "code",
   "execution_count": null,
   "metadata": {},
   "outputs": [],
   "source": [
    "#Task 1: Test out the solution in this cell:\n",
    "\n"
   ]
  },
  {
   "cell_type": "code",
   "execution_count": null,
   "metadata": {},
   "outputs": [],
   "source": [
    "# Your solution here:\n"
   ]
  },
  {
   "cell_type": "markdown",
   "metadata": {},
   "source": [
    "<div class=\"alert alert-success\">\n",
    "<b>Task 2: Challenge:</b>\n",
    "</div>\n",
    "If you assign <code>a = 123</code>, what happens if you try to get the second digit of a via <code>a[1]</code>? What happens if you use <code>str(a[1])</code>"
   ]
  },
  {
   "cell_type": "code",
   "execution_count": null,
   "metadata": {},
   "outputs": [],
   "source": [
    "#Task 2: Test out the solution in this cell:\n"
   ]
  },
  {
   "cell_type": "markdown",
   "metadata": {},
   "source": [
    "<div class=\"alert alert-success\">\n",
    "<b>Task 3: Choosing a Name:</b>\n",
    "</div>\n",
    "Which is a better variable name, m, min, or minutes? Why? Hint: think about which code you would rather inherit from someone who is leaving the lab:\n",
    "\n",
    "1. `ts = m * 60 + s`\n",
    "2. `tot_sec = min * 60 + sec`\n",
    "3. `total_seconds = minutes * 60 + seconds`"
   ]
  },
  {
   "cell_type": "markdown",
   "metadata": {},
   "source": [
    "<div class=\"alert alert-success\">\n",
    "<b>Task 4: Fill in the blanks to get a substring</b>\n",
    "</div>"
   ]
  },
  {
   "cell_type": "code",
   "execution_count": null,
   "metadata": {},
   "outputs": [],
   "source": [
    "atom_name = 'carbon'\n",
    "print('atom_name[1:3] is:', #Fix me)"
   ]
  },
  {
   "cell_type": "code",
   "execution_count": null,
   "metadata": {},
   "outputs": [],
   "source": [
    "#Task 4: Test out the solution in this cell:\n",
    "\n"
   ]
  },
  {
   "cell_type": "markdown",
   "metadata": {},
   "source": [
    "<div class=\"alert alert-info\"> <b>Key Points</b></div>\n",
    "\n",
    "- Use variables to store values.   \n",
    "- Use `print()` to display values.   \n",
    "- Variables persist between cells.   \n",
    "- Variables must be created before they are used.  \n",
    "- Variables can be used in calculations.   \n",
    "- Use an index to get a single character from a string.\n",
    "- Use a slice to get a substring.\n",
    "- Python is case-sensitive.\n",
    "- Use meaningful variable names.\n"
   ]
  },
  {
   "cell_type": "markdown",
   "metadata": {},
   "source": [
    "## 2. Data Types and Type Conversion\n",
    "<a id='datatypes'></a>"
   ]
  },
  {
   "cell_type": "markdown",
   "metadata": {},
   "source": [
    "### Every value has a type\n",
    "***\n",
    "* Every value in a program has a specific type.\n",
    "* Integer (`int`): represents positive or negative whole numbers like 3 or -512.\n",
    "* Floating point number (`float`): represents real numbers like 3.14159 or -2.5.\n",
    "* Character string (usually called “string”, `str`): text.\n",
    "  * Written in either single quotes or double quotes (as long as they match).\n",
    "  * The quote marks aren't printed when the string is displayed."
   ]
  },
  {
   "cell_type": "markdown",
   "metadata": {},
   "source": [
    "### Use the built-in function type to find the type of a value\n",
    "*** \n",
    "* Use the built-in function `type()` to find out what type a value has.\n",
    "* Works on variables as well.\n",
    "  * But remember: ⚠️ the *value* has the type — the *variable* is just a label."
   ]
  },
  {
   "cell_type": "code",
   "execution_count": null,
   "metadata": {},
   "outputs": [],
   "source": [
    "print(type(52))"
   ]
  },
  {
   "cell_type": "code",
   "execution_count": null,
   "metadata": {},
   "outputs": [],
   "source": [
    "fitness = 'average'\n",
    "print(type(fitness))"
   ]
  },
  {
   "cell_type": "markdown",
   "metadata": {},
   "source": [
    "### Types control what operations (or methods) can be performed on a given value\n",
    "***\n",
    "A value's type determines what the program can do to it."
   ]
  },
  {
   "cell_type": "code",
   "execution_count": null,
   "metadata": {},
   "outputs": [],
   "source": [
    "print(5 - 3)"
   ]
  },
  {
   "cell_type": "code",
   "execution_count": null,
   "metadata": {},
   "outputs": [],
   "source": [
    "print('hello' - 'h')"
   ]
  },
  {
   "cell_type": "markdown",
   "metadata": {},
   "source": [
    "### You can use the “+” and “*” operators on strings\n",
    "***\n",
    "“Adding” character strings concatenates them."
   ]
  },
  {
   "cell_type": "code",
   "execution_count": null,
   "metadata": {},
   "outputs": [],
   "source": [
    "full_name = 'Ahmed' + ' ' + 'Walsh'\n",
    "print(full_name)"
   ]
  },
  {
   "cell_type": "markdown",
   "metadata": {},
   "source": [
    "* Multiplying a character string by an integer N creates a new string that consists of that character string repeated N times.\n",
    "  * Since multiplication is repeated addition."
   ]
  },
  {
   "cell_type": "code",
   "execution_count": null,
   "metadata": {},
   "outputs": [],
   "source": [
    "separator = '=' * 10\n",
    "print(separator)"
   ]
  },
  {
   "cell_type": "markdown",
   "metadata": {},
   "source": [
    "### Strings have a length (but numbers don't)\n",
    "***\n",
    "The built-in function `len()` counts the number of characters in a string."
   ]
  },
  {
   "cell_type": "code",
   "execution_count": null,
   "metadata": {},
   "outputs": [],
   "source": [
    "print(len(full_name))"
   ]
  },
  {
   "cell_type": "code",
   "execution_count": null,
   "metadata": {},
   "outputs": [],
   "source": [
    "print(len(52))"
   ]
  },
  {
   "cell_type": "markdown",
   "metadata": {},
   "source": [
    "### Use an index to get a single character from a string\n",
    "***\n",
    "* The characters (individual letters, numbers, and so on) in a string are ordered. For example, the string 'AB' is not the same as 'BA'. Because of this ordering, we can treat the string as a list of characters.\n",
    "* Each position in the string (first, second, etc.) is given a number. This number is called an index or sometimes a subscript.\n",
    "* Indexes are numbered from 0.\n",
    "* Use the position's index in square brackets to get the character at that position.   \n",
    "![indexing](images/indexing.png)"
   ]
  },
  {
   "cell_type": "code",
   "execution_count": null,
   "metadata": {},
   "outputs": [],
   "source": [
    "atom_name = 'helium'\n",
    "print(atom_name[0])"
   ]
  },
  {
   "cell_type": "markdown",
   "metadata": {},
   "source": [
    "### Use a slice to get a substring\n",
    "***\n",
    "* A part of a string is called a **substring**. A substring can be as short as a single character.\n",
    "* An item in a list is called an **element**. Whenever we treat a string as if it were a list, the string's elements are its individual characters.\n",
    "* A **slice** is a part of a string (or, more generally, any list-like thing).\n",
    "* We take a slice by using `[start:stop]`, where `start` is replaced with the index of the first element we want and `stop` is replaced with the index of the element just after the last element we want.\n",
    "* Mathematically, you might say that a slice selects `[start:stop)`.\n",
    "* The difference between `stop` and `start` is the slice’s length.\n",
    "* Taking a slice does not change the contents of the original string. Instead, the slice is a copy of part of the original string."
   ]
  },
  {
   "cell_type": "code",
   "execution_count": null,
   "metadata": {},
   "outputs": [],
   "source": [
    "atom_name = 'sodium'\n",
    "print(atom_name[0:3])"
   ]
  },
  {
   "cell_type": "markdown",
   "metadata": {},
   "source": [
    "### Must convert numbers to strings or vice versa when operating on them\n",
    "***\n",
    "Cannot add numbers and strings."
   ]
  },
  {
   "cell_type": "code",
   "execution_count": null,
   "metadata": {},
   "outputs": [],
   "source": [
    "print(1 + '2')"
   ]
  },
  {
   "cell_type": "markdown",
   "metadata": {},
   "source": [
    "* Not allowed because it's ambiguous: should 1 + '2' be 3 or '12'?\n",
    "* Some types can be converted to other types by using the type name as a function."
   ]
  },
  {
   "cell_type": "code",
   "execution_count": null,
   "metadata": {},
   "outputs": [],
   "source": [
    "print(1 + int('2'))\n",
    "print(str(1) + '2')"
   ]
  },
  {
   "cell_type": "markdown",
   "metadata": {},
   "source": [
    "### Can mix integers and floats freely in operations\n",
    "***\n",
    "* Integers and floating-point numbers can be mixed in arithmetic.\n",
    "* Python 3 automatically converts integers to floats as needed. "
   ]
  },
  {
   "cell_type": "code",
   "execution_count": null,
   "metadata": {},
   "outputs": [],
   "source": [
    "print('half is', 1 / 2.0)\n",
    "print('three squared is', 3.0 ** 2)"
   ]
  },
  {
   "cell_type": "markdown",
   "metadata": {},
   "source": [
    "### Variables only change value when something is assigned to them\n",
    "***\n",
    "* If we make one cell in a spreadsheet depend on another, and update the latter, the former updates automatically.\n",
    "* This does **not** happen in programming languages."
   ]
  },
  {
   "cell_type": "code",
   "execution_count": null,
   "metadata": {},
   "outputs": [],
   "source": [
    "first = 1\n",
    "second = 5 * first\n",
    "first = 2\n",
    "print('first is', first, 'and second is', second)"
   ]
  },
  {
   "cell_type": "markdown",
   "metadata": {},
   "source": [
    "* The computer reads the value of `first` when doing the multiplication, creates a new value, and assigns it to `second`.\n",
    "* After that, `second` does not remember where it came from."
   ]
  },
  {
   "cell_type": "markdown",
   "metadata": {},
   "source": [
    "## Tasks"
   ]
  },
  {
   "cell_type": "markdown",
   "metadata": {},
   "source": [
    "<div class=\"alert alert-success\">\n",
    "<b>Task 1: Rational numbers:</b>\n",
    "</div>\n",
    "What type of value is 3.4? How can you find out?"
   ]
  },
  {
   "cell_type": "code",
   "execution_count": null,
   "metadata": {},
   "outputs": [],
   "source": [
    "# Your solution here:\n",
    "\n"
   ]
  },
  {
   "cell_type": "markdown",
   "metadata": {},
   "source": [
    "<div class=\"alert alert-success\">\n",
    "<b>Task 2: Automatic type conversion:</b>\n",
    "</div>\n",
    "What type of value is 3.25 + 4 ?"
   ]
  },
  {
   "cell_type": "code",
   "execution_count": null,
   "metadata": {},
   "outputs": [],
   "source": [
    "# Your solution here:\n",
    "\n"
   ]
  },
  {
   "cell_type": "markdown",
   "metadata": {},
   "source": [
    "<div class=\"alert alert-success\"><b>Task 3: Choosing a type:</b>\n",
    "</div>\n",
    "What type of value (integer, floating point number, or character string) would you use to represent each of the following? Try to come up with more than one good answer for each problem.\n",
    "\n",
    "1. Number of days since the start of the year.\n",
    "2. Time elapsed from the start of the year until now in days.\n",
    "3. Serial number of a piece of lab equipment.\n",
    "4. A lab specimen's age\n",
    "5. Current population of a city.\n",
    "6. Average population of a city over time."
   ]
  },
  {
   "cell_type": "code",
   "execution_count": null,
   "metadata": {},
   "outputs": [],
   "source": [
    "# Your solution here: (This should be a Markdown solution)\n",
    "\n"
   ]
  },
  {
   "cell_type": "markdown",
   "metadata": {},
   "source": [
    "<div class=\"alert alert-success\"><b>Task 4: Strings to numbers:</b>\n",
    "</div>\n",
    "You can convert a float to an interger in the following way: <code>print(int(3.4))</code> What kind of output do you get for the following conversions? Why do some of them fail?\n",
    "\n",
    "1. <code>print(\"string to float:\", float(\"3.4\"))</code>\n",
    "2. <code>print(\"float to int:\", int(3.4))</code>\n",
    "3. <code>print(\"string to float:\", float(\"Hello world!\"))</code>\n",
    "4. <code>print(\"fractional string to int:\", int(\"3.4\"))</code>"
   ]
  },
  {
   "cell_type": "code",
   "execution_count": null,
   "metadata": {},
   "outputs": [],
   "source": [
    "# Your solution here:\n",
    "\n"
   ]
  },
  {
   "cell_type": "markdown",
   "metadata": {},
   "source": [
    "<div class=\"alert alert-success\"><b>Task 5: Arithmetic with different types:</b>\n",
    "</div>\n",
    "Which of the following will return the floating point number 2.0? Note: there may be more than one right answer.\n",
    "\n",
    "`first = 1.0\n",
    "second = \"1\"\n",
    "third = \"1.1\"`\n",
    "\n",
    "1. `first + float(second)`\n",
    "2. `float(second) + float(third)`\n",
    "3. `first + int(third)`\n",
    "4. `first + int(float(third))`\n",
    "5. `int(first) + int(float(third))`\n",
    "6. `2.0 * second`"
   ]
  },
  {
   "cell_type": "code",
   "execution_count": null,
   "metadata": {},
   "outputs": [],
   "source": [
    "# Your solution here:\n",
    "\n"
   ]
  },
  {
   "cell_type": "markdown",
   "metadata": {},
   "source": [
    "<div class=\"alert alert-info\"> <b>Key Points</b></div>\n",
    "\n",
    "- Every value has a `type()`.\n",
    "- Use the built-in function `type~ to find the type of a value.\n",
    "- Types control what operations can be done on values.\n",
    "- Strings can be added and multiplied.\n",
    "- Strings have a length (but numbers don't).\n",
    "- Must convert numbers to strings or vice versa when operating on them.\n",
    "- Can mix integers and floats freely in operations.\n",
    "- Variables only change value when something is assigned to them.\n",
    "\n"
   ]
  },
  {
   "cell_type": "markdown",
   "metadata": {},
   "source": [
    "## 3. Built-in functions and getting help\n",
    "<a id='debugging'></a>"
   ]
  },
  {
   "cell_type": "markdown",
   "metadata": {},
   "source": [
    "### Use comments to add documentation to programs"
   ]
  },
  {
   "cell_type": "code",
   "execution_count": null,
   "metadata": {},
   "outputs": [],
   "source": [
    "# This sentence isn't executed by Python.\n",
    "adjustment = 0.5   # Neither is this - anything after '#' is ignored."
   ]
  },
  {
   "cell_type": "code",
   "execution_count": null,
   "metadata": {},
   "outputs": [],
   "source": [
    "\"\"\"This is also a way to comment, but if you just want to \n",
    "write comments over\n",
    "multiple lines.\n",
    "This way you don't have to use the # symbol at the start of each line\n",
    "\"\"\"\n",
    "weight = 0.5\n",
    "print('The weight is:',weight)"
   ]
  },
  {
   "cell_type": "markdown",
   "metadata": {},
   "source": [
    "### A function may take zero or more arguments\n",
    "\n",
    "* We have seen some functions already — now let's take a closer look.\n",
    "* An **argument** is a value passed into a function.\n",
    "* `len()` takes exactly one.\n",
    "* `int`, `str`, and `float` create a new value from an existing one.\n",
    "* `print` takes zero or more.\n",
    "* `print` with no arguments prints a blank line.\n",
    "  * Must always use parentheses, even if they're empty, so that Python knows a function is being called.\n",
    "* `id()` returns a unique integer (identity) of a passed argument object.\n",
    "* You will learn how to write your own functions in Session 4."
   ]
  },
  {
   "cell_type": "code",
   "execution_count": null,
   "metadata": {},
   "outputs": [],
   "source": [
    "print('before')\n",
    "print()\n",
    "print('after')"
   ]
  },
  {
   "cell_type": "markdown",
   "metadata": {},
   "source": [
    "### Commonly-used built-in functions include max and min\n",
    "* Use `max()` to find the largest value of one or more values.\n",
    "* Use `min()` to find the smallest.\n",
    "* Both work on character strings as well as numbers.\n",
    "  * “Larger” and “smaller” use (0-9, A-Z, a-z) to compare letters."
   ]
  },
  {
   "cell_type": "code",
   "execution_count": null,
   "metadata": {},
   "outputs": [],
   "source": [
    "print(max(1, 2, 3))\n",
    "print(min('a', 'A', '0'))"
   ]
  },
  {
   "cell_type": "markdown",
   "metadata": {},
   "source": [
    "### Functions may only work for certain (combinations of) arguments\n",
    "\n",
    "* `max()` and `min()` must be given at least one argument.\n",
    "   * “Largest of the empty set” is a meaningless question.\n",
    "* And they must be given things that can meaningfully be compared.\n"
   ]
  },
  {
   "cell_type": "code",
   "execution_count": null,
   "metadata": {},
   "outputs": [],
   "source": [
    "print(max(1, 'a'))"
   ]
  },
  {
   "cell_type": "markdown",
   "metadata": {},
   "source": [
    "### Use the built-in function help to get help for a function\n",
    "* Every built-in function has online documentation."
   ]
  },
  {
   "cell_type": "code",
   "execution_count": null,
   "metadata": {},
   "outputs": [],
   "source": [
    "help(min)"
   ]
  },
  {
   "cell_type": "markdown",
   "metadata": {},
   "source": [
    "### Python reports a syntax error when it can't understand the source of a program\n",
    "* Won't even try to run the program if it can't be parsed.\n"
   ]
  },
  {
   "cell_type": "code",
   "execution_count": null,
   "metadata": {},
   "outputs": [],
   "source": [
    "# Forgot to close the quote marks around the string.\n",
    "name = 'Feng"
   ]
  },
  {
   "cell_type": "code",
   "execution_count": null,
   "metadata": {},
   "outputs": [],
   "source": [
    "# An extra '=' in the assignment.\n",
    "age = = 52"
   ]
  },
  {
   "cell_type": "code",
   "execution_count": null,
   "metadata": {},
   "outputs": [],
   "source": [
    "print(\"hello world\""
   ]
  },
  {
   "cell_type": "markdown",
   "metadata": {},
   "source": [
    "### The error message can help\n",
    "* The message indicates a problem on first line of the input (“line 1”).\n",
    "* In this case the “ipython-input” section of the file name tells us that we are working with input into IPython, the Python interpreter used by the Jupyter Notebook.\n",
    "* The `-xx-` part of the filename indicates that the error occurred in cell XX of our Notebook.\n",
    "* Next is the problematic line of code, indicating the problem with a `^` pointer."
   ]
  },
  {
   "cell_type": "markdown",
   "metadata": {},
   "source": [
    "## Python reports a runtime error when something goes wrong while a program is executing"
   ]
  },
  {
   "cell_type": "code",
   "execution_count": null,
   "metadata": {},
   "outputs": [],
   "source": [
    "age = 53\n",
    "remaining = 100 - aege # mis-spelled 'age'"
   ]
  },
  {
   "cell_type": "markdown",
   "metadata": {},
   "source": [
    "* Fix syntax errors by reading the source and runtime errors by tracing execution."
   ]
  },
  {
   "cell_type": "markdown",
   "metadata": {},
   "source": [
    "### The Jupyter Notebook has two ways to get help\n",
    "\n",
    "* Place the cursor anywhere in the function invocation (i.e., the function name or its parameters), hold down `shift`, and press `tab`.\n",
    "* Or type a function name with a question mark after it."
   ]
  },
  {
   "cell_type": "code",
   "execution_count": null,
   "metadata": {},
   "outputs": [],
   "source": [
    "len?"
   ]
  },
  {
   "cell_type": "code",
   "execution_count": null,
   "metadata": {},
   "outputs": [],
   "source": [
    "len()"
   ]
  },
  {
   "cell_type": "markdown",
   "metadata": {},
   "source": [
    "### The function `id()` can help you understand how a variable is assigned"
   ]
  },
  {
   "cell_type": "code",
   "execution_count": null,
   "metadata": {},
   "outputs": [],
   "source": [
    "print(\"id of 'Curie' =\", id('Curie'))\n",
    "\n",
    "name = 'Curie'\n",
    "\n",
    "print(\"id of name =\", id(name))\n",
    "\n",
    "first_name = name\n",
    "\n",
    "print(\"id of first_name =\", id(first_name))\n",
    "\n",
    "name_lower_case = 'curie'\n",
    "\n",
    "print(\"id of name_lower_case =\", id(name_lower_case))"
   ]
  },
  {
   "cell_type": "markdown",
   "metadata": {},
   "source": [
    "* The `id()` function returns a unique integer number for every unique value it is used with.\n",
    "\n",
    "* In the above example, we have used the `id()` function with variables a, b and c and got their corresponding ids.\n",
    "\n",
    "* The `id()` function returns the integer same integer for both a = 5 and 5, as well as b."
   ]
  },
  {
   "cell_type": "markdown",
   "metadata": {},
   "source": [
    "### Every function returns something\n",
    "\n",
    "* Every function call produces some result.\n",
    "* If the function doesn't have a useful result to return, it usually returns the special value `None`."
   ]
  },
  {
   "cell_type": "code",
   "execution_count": null,
   "metadata": {},
   "outputs": [],
   "source": [
    "result = print('example')\n",
    "print('result of print is', result)"
   ]
  },
  {
   "cell_type": "markdown",
   "metadata": {},
   "source": [
    "<div class=\"alert alert-info\"> <b>Key Points</b></div>\n",
    "\n",
    "* Use comments to add documentation to programs.\n",
    "* A function may take zero or more arguments.\n",
    "* Commonly-used built-in functions include `max` and `min`.\n",
    "* Functions may only work for certain (combinations of) arguments.\n",
    "* Functions may have default values for some arguments.\n",
    "* Use the built-in function `help` to get help for a function.\n",
    "* The Jupyter Notebook has two ways to get help.\n",
    "* Every function returns something.\n",
    "* Python reports a syntax error when it can’t understand the source of a program.\n",
    "* Python reports a runtime error when something goes wrong while a program is executing.\n",
    "* Fix syntax errors by reading the source code, and runtime errors by tracing the program’s execution."
   ]
  },
  {
   "cell_type": "markdown",
   "metadata": {},
   "source": [
    "![indexing](images/break.png)"
   ]
  },
  {
   "cell_type": "markdown",
   "metadata": {},
   "source": [
    "## 4. More Datatypes: booleans, collections (lists, dictionaries, tuples)\n",
    "<a id='advanced_types'></a>"
   ]
  },
  {
   "cell_type": "markdown",
   "metadata": {},
   "source": [
    "### `Bool` is a binary type where a variable can either be `True` or `False`\n",
    "Note how the syntax highlighting tells you that `True` and `False` are key words, and how they are case dependent."
   ]
  },
  {
   "cell_type": "code",
   "execution_count": null,
   "metadata": {},
   "outputs": [],
   "source": [
    "two_is_a_prime = True\n",
    "pi_is_an_integer = False"
   ]
  },
  {
   "cell_type": "code",
   "execution_count": null,
   "metadata": {},
   "outputs": [],
   "source": [
    "print(type(two_is_a_prime))\n",
    "print(type(pi_is_an_integer))"
   ]
  },
  {
   "cell_type": "markdown",
   "metadata": {},
   "source": [
    "### A list stores many values in a single structure"
   ]
  },
  {
   "cell_type": "markdown",
   "metadata": {},
   "source": [
    "* Doing calculations with a hundred variables called `pressure_001`, `pressure_002`, etc., would be at least as slow as doing them by hand.\n",
    "* Use a list to store many values together.\n",
    "  * Contained within square brackets `[...]`.\n",
    "  * Values separated by commas `,`.\n",
    "* Use `len` to find out how many values are in a list."
   ]
  },
  {
   "cell_type": "code",
   "execution_count": null,
   "metadata": {},
   "outputs": [],
   "source": [
    "pressures = [0.273, 0.275, 0.277, 0.275, 0.276]\n",
    "print('pressures:', pressures)\n",
    "print('length:', len(pressures))"
   ]
  },
  {
   "cell_type": "markdown",
   "metadata": {},
   "source": [
    "### Use an item's index to fetch it from a list\n",
    "* Just like strings"
   ]
  },
  {
   "cell_type": "code",
   "execution_count": null,
   "metadata": {},
   "outputs": [],
   "source": [
    "print('zeroth item of pressures:', pressures[0])\n",
    "print('fourth item of pressures:', pressures[4])"
   ]
  },
  {
   "cell_type": "markdown",
   "metadata": {},
   "source": [
    "### Lists' values can be replaced by assigning new values to them\n",
    "* Use an index expression on the left of assignment to replace a value."
   ]
  },
  {
   "cell_type": "code",
   "execution_count": null,
   "metadata": {},
   "outputs": [],
   "source": [
    "pressures[0] = 0.265\n",
    "print('pressures is now:', pressures)"
   ]
  },
  {
   "cell_type": "markdown",
   "metadata": {},
   "source": [
    "### Appending items to a list extends the list\n",
    "* Use `list_name.append()` to add items to the end of a list."
   ]
  },
  {
   "cell_type": "code",
   "execution_count": null,
   "metadata": {},
   "outputs": [],
   "source": [
    "primes = [2, 3, 5]\n",
    "print('primes is initially:', primes)\n",
    "primes.append(7)\n",
    "print('primes has become:', primes)"
   ]
  },
  {
   "cell_type": "markdown",
   "metadata": {},
   "source": [
    "* `append()` is a method of lists.\n",
    "  * Like a function, but tied to a particular object.\n",
    "* Use `object_name.method_name()` to call methods.\n",
    "  * Deliberately resembles the way we refer to things in a library.\n",
    "* We will meet other methods of lists as we go along.\n",
    "  * Use help(list) for a preview.\n",
    "* `extend()` is similar to `append()`, but it allows you to combine two lists. For example:"
   ]
  },
  {
   "cell_type": "code",
   "execution_count": null,
   "metadata": {},
   "outputs": [],
   "source": [
    "teen_primes = [11, 13, 17, 19]\n",
    "middle_aged_primes = [37, 41, 43, 47]\n",
    "print('primes is currently:', primes)\n",
    "primes.extend(teen_primes)\n",
    "print('primes has now become:', primes)\n",
    "primes.append(middle_aged_primes)\n",
    "print('primes has finally become:', primes)"
   ]
  },
  {
   "cell_type": "markdown",
   "metadata": {},
   "source": [
    "Note that while `extend()` maintains the “flat” structure of the list, appending a list to a list makes the result two-dimensional - the last element in `primes` is a list, not an integer."
   ]
  },
  {
   "cell_type": "markdown",
   "metadata": {},
   "source": [
    "### Use `del` to remove items from a list entirely\n",
    "* We use `del list_name[index]` to remove an element from a list (in the example, 9 is not a prime number) and thus shorten it.\n",
    "* `del` is not a function or a method, but a statement in the language."
   ]
  },
  {
   "cell_type": "code",
   "execution_count": null,
   "metadata": {},
   "outputs": [],
   "source": [
    "primes = [2, 3, 5, 7, 9]\n",
    "print('primes before removing last item:', primes)\n",
    "del primes[4]\n",
    "print('primes after removing last item:', primes)"
   ]
  },
  {
   "cell_type": "markdown",
   "metadata": {},
   "source": [
    "### The empty list contains no values\n",
    "* Use `[]` on its own to represent a list that doesn't contain any values.\n",
    "  * “The zero of lists.”"
   ]
  },
  {
   "cell_type": "markdown",
   "metadata": {},
   "source": [
    "### Lists may contain values of different types\n",
    "* A single list may contain numbers, strings, and anything else."
   ]
  },
  {
   "cell_type": "code",
   "execution_count": null,
   "metadata": {},
   "outputs": [],
   "source": [
    "goals = [1, 'Create lists.', 2, 'Extract items from lists.', 3, 'Modify lists.']"
   ]
  },
  {
   "cell_type": "markdown",
   "metadata": {},
   "source": [
    "### Character strings can be indexed in the same way as lists\n",
    "* Get single characters from a character string using indexes in square brackets."
   ]
  },
  {
   "cell_type": "code",
   "execution_count": null,
   "metadata": {},
   "outputs": [],
   "source": [
    "element = 'carbon'\n",
    "print('zeroth character:', element[0])\n",
    "print('third character:', element[3])"
   ]
  },
  {
   "cell_type": "markdown",
   "metadata": {},
   "source": [
    "### Character strings are immutable\n",
    "\n",
    "* Cannot change the characters in a string after it has been created.\n",
    "  * Immutable: can't be changed after creation.\n",
    "  * In contrast, lists are mutable: they can be modified in place.\n",
    "* Python considers the string to be a single value with parts, not a collection of values."
   ]
  },
  {
   "cell_type": "code",
   "execution_count": null,
   "metadata": {},
   "outputs": [],
   "source": [
    "element[0] = 'C'"
   ]
  },
  {
   "cell_type": "markdown",
   "metadata": {},
   "source": [
    "* Lists and character strings are both collections."
   ]
  },
  {
   "cell_type": "markdown",
   "metadata": {},
   "source": [
    "### Indexing beyond the end of the collection is an error\n",
    "* Python reports an `IndexError` if we attempt to access a value that doesn't exist.\n",
    "  * This is a kind of [runtime error](http://swcarpentry.github.io/python-novice-gapminder/04-built-in/#runtime-error).\n",
    "  * Cannot be detected as the code is parsed because the index might be calculated based on data."
   ]
  },
  {
   "cell_type": "markdown",
   "metadata": {},
   "source": [
    "## Tasks"
   ]
  },
  {
   "cell_type": "markdown",
   "metadata": {},
   "source": [
    "<div class=\"alert alert-success\"><b>Task 1: Fill in the blanks</b>\n",
    "</div>\n",
    "\n",
    "Fill in the blanks so that the program below produces the output:    \n",
    "`first time: [1, 3, 5]`    \n",
    "`second time: [3, 5]`\n"
   ]
  },
  {
   "cell_type": "code",
   "execution_count": null,
   "metadata": {},
   "outputs": [],
   "source": [
    "# Your solution here\n"
   ]
  },
  {
   "cell_type": "markdown",
   "metadata": {},
   "source": [
    "<div class=\"alert alert-success\"><b>Task 2: How large is the slice?</b>\n",
    "\n",
    "</div>\n",
    "\n",
    " \n",
    "If ‘low’ and ‘high’ are both non-negative integers, how long is the list ```values[low:high]``` ? Try a few examples."
   ]
  },
  {
   "cell_type": "code",
   "execution_count": null,
   "metadata": {},
   "outputs": [],
   "source": [
    "values = [2,5,7,2,4,7,9,0,33,1,245]\n",
    "# try some examples:\n"
   ]
  },
  {
   "cell_type": "markdown",
   "metadata": {},
   "source": [
    "<div class=\"alert alert-success\"><b>Task 3: From Strings to Lists and Back</b>\n",
    "</div>\n",
    "\n",
    "Given this:"
   ]
  },
  {
   "cell_type": "code",
   "execution_count": null,
   "metadata": {},
   "outputs": [],
   "source": [
    "print('string to list:', list('tin'))\n",
    "print('list to string:', ''.join(['g', 'o', 'l', 'd']))"
   ]
  },
  {
   "cell_type": "markdown",
   "metadata": {},
   "source": [
    "1. What does `list('some string')` do?\n",
    "2. What does `'-'.join(['x','y','x'])` do?"
   ]
  },
  {
   "cell_type": "code",
   "execution_count": null,
   "metadata": {},
   "outputs": [],
   "source": [
    "# Your solution here:\n"
   ]
  },
  {
   "cell_type": "markdown",
   "metadata": {},
   "source": [
    "<div class=\"alert alert-success\"><b>Task 4: Working with the End</b>\n",
    "</div>\n",
    "\n",
    "Execute the cell below, what does it print?\n",
    "\n",
    "1. How does Python interpret a negative index?\n",
    "2. If a list or string has N elements, what is the most negative index that can safely be used with it, and what location does that index represent?\n",
    "3. If `values` is a list, what does `del values[-1]` do?\n",
    "4. How can you display all elements but the last one without changing `values`? (Hint: you will need to combine slicing and negative indexing.)\n",
    "\n",
    "```Python\n",
    "element = 'helium'\n",
    "print(element[-1])\n",
    "```"
   ]
  },
  {
   "cell_type": "code",
   "execution_count": null,
   "metadata": {},
   "outputs": [],
   "source": [
    "# Your solution here:\n",
    "\n"
   ]
  },
  {
   "cell_type": "markdown",
   "metadata": {},
   "source": [
    "<div class=\"alert alert-success\"><b>Task 5: Sort and Sorted:</b>\n",
    "</div>\n",
    "\n",
    "What does program A print and what does program B print? In simple terms, explain the difference between <code>sorted(letters)</code> and <code>letters.sort()</code>."
   ]
  },
  {
   "cell_type": "code",
   "execution_count": null,
   "metadata": {},
   "outputs": [],
   "source": [
    "# Program A\n",
    "letters = list('gold')\n",
    "result = sorted(letters)\n",
    "print('letters is', letters, 'and result is', result)"
   ]
  },
  {
   "cell_type": "code",
   "execution_count": null,
   "metadata": {},
   "outputs": [],
   "source": [
    "# Program B\n",
    "letters = list('gold')\n",
    "result = letters.sort()\n",
    "print('letters is', letters, 'and result is', result)\n"
   ]
  },
  {
   "cell_type": "markdown",
   "metadata": {},
   "source": [
    "<div class=\"alert alert-success\"><b>Task 6: Copying or not:</b>\n",
    "</div>\n",
    "\n",
    "What do these two programs print? In simple terms, explain the difference between `new = old` and `new = old[:]`."
   ]
  },
  {
   "cell_type": "code",
   "execution_count": null,
   "metadata": {},
   "outputs": [],
   "source": [
    "# Program A\n",
    "old = list('gold')\n",
    "new = old      # simple assignment\n",
    "new[0] = 'D'\n",
    "print('new is', new, 'and old is', old)"
   ]
  },
  {
   "cell_type": "code",
   "execution_count": null,
   "metadata": {},
   "outputs": [],
   "source": [
    "# Program B\n",
    "old = list('gold')\n",
    "new = old[:]   # assigning a slice\n",
    "new[0] = 'D'\n",
    "print('new is', new, 'and old is', old)"
   ]
  },
  {
   "cell_type": "code",
   "execution_count": null,
   "metadata": {},
   "outputs": [],
   "source": [
    "# Your solution here (markdown explanation):\n",
    "\n"
   ]
  },
  {
   "cell_type": "markdown",
   "metadata": {},
   "source": [
    "<div class=\"alert alert-info\"> <b>Key Points</b></div>\n",
    "\n",
    "* A list stores many values in a single structure.\n",
    "* Use an item’s index to fetch it from a list.\n",
    "* Lists’ values can be replaced by assigning to them.\n",
    "* Appending items to a list lengthens it.\n",
    "* Use `del` to remove items from a list entirely.\n",
    "* The empty list contains no values.\n",
    "* Lists may contain values of different types.\n",
    "* Character strings can be indexed like lists.\n",
    "* Character strings are immutable.\n",
    "* Indexing beyond the end of the collection is an error."
   ]
  },
  {
   "cell_type": "markdown",
   "metadata": {},
   "source": [
    "### Dictionaries are an unordered collection of key and value pairs.\n",
    "Keys are:\n",
    "* Immutable: You cannot change them after assignment\n",
    "* Unique: You can only have the same key once in a dictionary\n",
    "* not stored in any particular order\n",
    "\n",
    "Values:\n",
    "* Do not have restrictions\n",
    "* Do not have to be immutable or unique\n",
    "\n",
    "You create a dictionary by putting `key:value` pairs in `{}`\n",
    "\n",
    "![dictionaries](images/dictionaries.png)"
   ]
  },
  {
   "cell_type": "code",
   "execution_count": null,
   "metadata": {},
   "outputs": [],
   "source": [
    "birthdays = {'Newton' : 1642, 'Darwin' : 1809}"
   ]
  },
  {
   "cell_type": "markdown",
   "metadata": {},
   "source": [
    "### Retrieve a dictionary value by putting a key in `[]`.\n",
    "* This is just like indexing strings and lists"
   ]
  },
  {
   "cell_type": "code",
   "execution_count": null,
   "metadata": {},
   "outputs": [],
   "source": [
    "print(birthdays['Newton'])"
   ]
  },
  {
   "cell_type": "markdown",
   "metadata": {},
   "source": [
    "### Just like using a phonebook or dictionary add values by assigning to it."
   ]
  },
  {
   "cell_type": "code",
   "execution_count": null,
   "metadata": {},
   "outputs": [],
   "source": [
    "birthdays['Turing'] = 1612 "
   ]
  },
  {
   "cell_type": "markdown",
   "metadata": {},
   "source": [
    "### Overwrite a value by assigning it as well.\n",
    "Oh no we made a mistake Allan Turing's birthyear is actually 1912."
   ]
  },
  {
   "cell_type": "code",
   "execution_count": null,
   "metadata": {},
   "outputs": [],
   "source": [
    "birthdays['Turing'] = 1912"
   ]
  },
  {
   "cell_type": "markdown",
   "metadata": {},
   "source": [
    "### A key must be in a dictionary before use"
   ]
  },
  {
   "cell_type": "code",
   "execution_count": null,
   "metadata": {},
   "outputs": [],
   "source": [
    "birthdays['Nightingale']"
   ]
  },
  {
   "cell_type": "markdown",
   "metadata": {},
   "source": [
    "### You can test if a key is present using `in`"
   ]
  },
  {
   "cell_type": "code",
   "execution_count": null,
   "metadata": {},
   "outputs": [],
   "source": [
    "print(\"Nightingale\" in birthdays)\n",
    "print(\"Darwin\" in birthdays)"
   ]
  },
  {
   "cell_type": "markdown",
   "metadata": {},
   "source": [
    "### Values can be of any type, also list"
   ]
  },
  {
   "cell_type": "code",
   "execution_count": null,
   "metadata": {},
   "outputs": [],
   "source": [
    "periodic_table = {'group_one' : ['H', 'Li', 'Na', 'K', 'Rb', 'Cs', 'Fr'], 'group_eight':['He', 'Ne', 'Ar', 'Kr', 'Xe', 'Rn']}"
   ]
  },
  {
   "cell_type": "code",
   "execution_count": null,
   "metadata": {},
   "outputs": [],
   "source": [
    "print(periodic_table['group_one'])"
   ]
  },
  {
   "cell_type": "markdown",
   "metadata": {},
   "source": [
    "## Tasks"
   ]
  },
  {
   "cell_type": "markdown",
   "metadata": {},
   "source": [
    "<div class=\"alert alert-success\"><b>Task 1: Convert list to dictionary:</b>\n",
    "</div>\n",
    "\n",
    "Given the following two lists, rewrite them as a dictionary:   \n",
    "`keys['Curie', 'Noether', 'Sommerville']`   \n",
    "`values['French', 'German', 'British']`"
   ]
  },
  {
   "cell_type": "code",
   "execution_count": null,
   "metadata": {},
   "outputs": [],
   "source": [
    "# Your solution here:\n",
    "scientists = {#FIXME}\n"
   ]
  },
  {
   "cell_type": "markdown",
   "metadata": {},
   "source": [
    "<div class=\"alert alert-success\"><b>Task 2: Check if a key is in a dictionary</b>\n",
    "</div>\n",
    "\n",
    "Assign the variable <code>key_exists</code> and print it to check if the following keys exist in the dictionary below:\n",
    "\n",
    "`periodic_table = {'group_one' : ['H', 'Li', 'Na', 'K', 'Rb', 'Cs', 'Fr'], 'group_two':[], 'group_three':[], 'group_eight':['He', 'Ne', 'Ar', 'Kr', 'Xe', 'Rn']}`\n",
    "\n",
    "1. `group_one`\n",
    "2. `halogens`\n",
    "3. `metals`\n",
    "    \n",
    "    "
   ]
  },
  {
   "cell_type": "code",
   "execution_count": null,
   "metadata": {},
   "outputs": [],
   "source": [
    "# Your solution here:\n",
    "periodic_table = {'group_one' : ['H', 'Li', 'Na', 'K', 'Rb', 'Cs', 'Fr'], 'group_two':[], 'group_three':[], 'group_eight':['He', 'Ne', 'Ar', 'Kr', 'Xe', 'Rn']}\n",
    "key_exists = #FIXME\n",
    "print(key_exists)"
   ]
  },
  {
   "cell_type": "markdown",
   "metadata": {},
   "source": [
    "### A tuple is an immutable heterogenous sequence.\n",
    "* This is essentially a list that cannot be changed after creation.\n",
    "* You can create a tuple using `()` instead of `[]`."
   ]
  },
  {
   "cell_type": "code",
   "execution_count": null,
   "metadata": {},
   "outputs": [],
   "source": [
    "elements = ('H', 'He', 'Li', 'Br', 'B', 'C')"
   ]
  },
  {
   "cell_type": "markdown",
   "metadata": {},
   "source": [
    "### Tuples are still indexed with square brackets `[]` and can be sliced:"
   ]
  },
  {
   "cell_type": "code",
   "execution_count": null,
   "metadata": {},
   "outputs": [],
   "source": [
    "print(elements[0])\n",
    "print(elements[-1])\n",
    "print(elements[1:4])"
   ]
  },
  {
   "cell_type": "markdown",
   "metadata": {},
   "source": [
    "### You can query the length of a tuple."
   ]
  },
  {
   "cell_type": "code",
   "execution_count": null,
   "metadata": {},
   "outputs": [],
   "source": [
    "len(elements)"
   ]
  },
  {
   "cell_type": "markdown",
   "metadata": {},
   "source": [
    "### But because they are immutable you cannot reassign or append elements to the tuple"
   ]
  },
  {
   "cell_type": "code",
   "execution_count": null,
   "metadata": {},
   "outputs": [],
   "source": [
    "elements.append('N')"
   ]
  },
  {
   "cell_type": "code",
   "execution_count": null,
   "metadata": {},
   "outputs": [],
   "source": [
    "elements[0] = 'Hydrogen'"
   ]
  },
  {
   "cell_type": "markdown",
   "metadata": {},
   "source": [
    "<div class=\"alert alert-info\"> <b>Key Points</b></div>\n",
    "\n",
    "* A dictionary is an unordered collection of key and value pairs.\n",
    "* Keys must be unique and are immutable.\n",
    "* Values can be of any type and are mutable and don't have to be unique.\n",
    "* `{}` are used to create an empty dictionary.\n",
    "* You can add to a dictionary by giving it a new key, value pair.\n",
    "* You can query if a key exists using `in`.\n",
    "* Tuples are lists that cannot be changed after their creation (immutable).\n",
    "* `()` are used for creating a tuple.\n",
    "* To access elements of a tuple you still use `[]`."
   ]
  },
  {
   "cell_type": "markdown",
   "metadata": {},
   "source": [
    "## 5. Reading files\n",
    "<a id='reading'></a>"
   ]
  },
  {
   "cell_type": "markdown",
   "metadata": {},
   "source": [
    "### There are many different ways to read files in Python.\n",
    "\n",
    "* One way is to use the built-in function `open()`\n",
    "* The output of open returns a file object\n",
    "* When reading files it just dumps the content of the file into a string"
   ]
  },
  {
   "cell_type": "code",
   "execution_count": null,
   "metadata": {},
   "outputs": [],
   "source": [
    "reader = open('primes.txt', 'r') # create a file object\n",
    "data = reader.read() ## read content of file into data\n",
    "reader.close() ## close the reader\n",
    "print(data)"
   ]
  },
  {
   "cell_type": "markdown",
   "metadata": {},
   "source": [
    "### Using the `open` function means alot of post formatting strings needs to be done on the file content"
   ]
  },
  {
   "cell_type": "code",
   "execution_count": null,
   "metadata": {},
   "outputs": [],
   "source": [
    "print(type(data))"
   ]
  },
  {
   "cell_type": "code",
   "execution_count": null,
   "metadata": {},
   "outputs": [],
   "source": [
    "data_split = data.split(',') # this uses the delimiter , to split the data"
   ]
  },
  {
   "cell_type": "code",
   "execution_count": null,
   "metadata": {},
   "outputs": [],
   "source": [
    "print (data_split)"
   ]
  },
  {
   "cell_type": "code",
   "execution_count": null,
   "metadata": {},
   "outputs": [],
   "source": [
    "data = data.strip('\\n') # \\n is a new line character that is hidden, strip removes it\n"
   ]
  },
  {
   "cell_type": "code",
   "execution_count": null,
   "metadata": {},
   "outputs": [],
   "source": [
    "data_split = data.split(',')"
   ]
  },
  {
   "cell_type": "code",
   "execution_count": null,
   "metadata": {},
   "outputs": [],
   "source": [
    "print(data_split)"
   ]
  },
  {
   "cell_type": "markdown",
   "metadata": {},
   "source": [
    "### There are tools available that are better at reading file content"
   ]
  },
  {
   "cell_type": "code",
   "execution_count": null,
   "metadata": {},
   "outputs": [],
   "source": [
    "import numpy as np ## you'll learn about imports next week\n",
    "primes = np.loadtxt('primes.txt', delimiter=',')"
   ]
  },
  {
   "cell_type": "code",
   "execution_count": null,
   "metadata": {},
   "outputs": [],
   "source": [
    "print(primes)"
   ]
  },
  {
   "cell_type": "markdown",
   "metadata": {},
   "source": [
    "## Tasks"
   ]
  },
  {
   "cell_type": "markdown",
   "metadata": {},
   "source": [
    "<div class=\"alert alert-success\"><b>Task Writing a file:</b>\n",
    "</div>\n",
    "\n",
    "Take a look at the `open(filename, 'r')` functionality. In a similar way you can write a file using `open(filename,'w')`. \n",
    "\n",
    "Define a string and write it to file. "
   ]
  },
  {
   "cell_type": "code",
   "execution_count": null,
   "metadata": {},
   "outputs": [],
   "source": [
    "# Your solution here:\n",
    "my_string = '#FIXME'\n",
    "writer = #FIXME\n",
    "writer.write(my_string)\n",
    "writer.close()"
   ]
  },
  {
   "cell_type": "markdown",
   "metadata": {},
   "source": [
    "## 6. Advanced Tasks\n",
    "<a id='advanced'></a>"
   ]
  },
  {
   "cell_type": "markdown",
   "metadata": {},
   "source": [
    "<div class=\"alert alert-info\"><b>Task Writing a file:</b>\n",
    "</div>\n",
    "Please note this task may require information you have not learned yet. It is not essential for you to complete it. \n",
    "Create a dictionary of atomic masses from Hydrogen to Neon and write this dictionary to file, such that the file output looks like this.\n",
    "\n",
    "Content of `Atomic_masses.csv`:    \n",
    "\n",
    "`Name of element, atomic mass   \n",
    "Hydrogen, 1   \n",
    "Helium, 2   \n",
    "...   \n",
    "Neon, 20   `"
   ]
  },
  {
   "cell_type": "code",
   "execution_count": null,
   "metadata": {},
   "outputs": [],
   "source": [
    "# Your answer here\n"
   ]
  },
  {
   "cell_type": "markdown",
   "metadata": {},
   "source": [
    "## 7. Feedback\n",
    "<a id='feedback'></a>"
   ]
  },
  {
   "cell_type": "code",
   "execution_count": null,
   "metadata": {
    "scrolled": true
   },
   "outputs": [],
   "source": [
    "feedback = Mentimeter(vote = 'https://www.menti.com/alib1apqh12o')\n",
    "feedback.show()"
   ]
  },
  {
   "cell_type": "markdown",
   "metadata": {},
   "source": [
    "## Reminder: Remember to pull the content for the next sessions!"
   ]
  }
 ],
 "metadata": {
  "kernelspec": {
   "display_name": "Python 3 (ipykernel)",
   "language": "python",
   "name": "python3"
  },
  "language_info": {
   "codemirror_mode": {
    "name": "ipython",
    "version": 3
   },
   "file_extension": ".py",
   "mimetype": "text/x-python",
   "name": "python",
   "nbconvert_exporter": "python",
   "pygments_lexer": "ipython3",
   "version": "3.8.13"
  },
  "toc": {
   "base_numbering": 1,
   "nav_menu": {},
   "number_sections": false,
   "sideBar": true,
   "skip_h1_title": false,
   "title_cell": "Table of Contents",
   "title_sidebar": "Contents",
   "toc_cell": false,
   "toc_position": {},
   "toc_section_display": true,
   "toc_window_display": false
  }
 },
 "nbformat": 4,
 "nbformat_minor": 4
}

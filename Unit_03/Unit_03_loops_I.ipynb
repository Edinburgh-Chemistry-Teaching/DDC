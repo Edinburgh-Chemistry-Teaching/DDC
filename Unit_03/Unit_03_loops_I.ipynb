{
 "cells": [
  {
   "cell_type": "markdown",
   "metadata": {},
   "source": [
    "# Unit 03: Loops, pandas and simple plotting I\n",
    "\n",
    "<a rel=\"license\" href=\"http://creativecommons.org/licenses/by/4.0/\"><img alt=\"Creative Commons Licence\" style=\"border-width:0\" src=\"https://i.creativecommons.org/l/by/4.0/88x31.png\" title='This work is licensed under a Creative Commons Attribution 4.0 International License.' align=\"right\"/></a>\n",
    "\n",
    "Author: Dr Claire Hobday   \n",
    "\n",
    "Email: claire.hobday@ed.ac.uk\n",
    "\n",
    "## Learning objectives:\n",
    "\n",
    "By the end of this unit, you should be able to\n",
    "- use in-built functionality in python\n",
    "- import modules and libraries \n",
    "- use the `math` module to do some simple scientific computing tasks\n",
    "- developemore `pandas` skills to deal with large volumes of data\n",
    "- use logical operations to filter data\n",
    "- understand and use the different types of loops to do repetitive tasks including:\n",
    "    - `for`\n",
    "    - `if`\n",
    "    - `else`/`elif`\n",
    "    - `while`\n",
    "    - `break`\n",
    "- combine these tools to analyse data in a large file containing information about the periodic table\n",
    "- use tools from python to understand trends in the periodic table\n",
    "\n",
    "Some of the material was adapted from [Dr Matteo Degiacomi](https://github.com/Degiacomi-Lab/python4science/blob/master/2_Python_numerical_data.ipynb), as well as [Software Carpentries](http://swcarpentry.github.io/python-novice-gapminder/index.html)."
   ]
  },
  {
   "cell_type": "markdown",
   "metadata": {},
   "source": [
    "## Table of Contents\n",
    "1. [Working with libraries](#1-working-with-libraries)  \n",
    "   1.1 [Importing libraries](#11-importing-libraries)     \n",
    "   1.2 [Tasks ](#tasks-1)   \n",
    "2. [Working with the Pandas library](#2-working-with-the-pandas-library)\n",
    "3. [Loops](#3-loops)    \n",
    "   3.1 [For loops](#31-for-loops)   \n",
    "   3.2 [Tasks](#tasks-321)    \n",
    "   3.3 [Conditional Loops](#32-conditional-loops)    \n",
    "   3.4 [Tasks](#tasks-3)\n",
    "   \n",
    "[Unit 03 Loops II](Unit_03_loops_II.ipynb)"
   ]
  },
  {
   "cell_type": "markdown",
   "metadata": {},
   "source": [
    "**<span style=\"color:black\">Jupyter Cheat Sheet</span>**\n",
    "- To run the currently highlighted cell and move focus to the next cell, hold <kbd>&#x21E7; Shift</kbd> and press <kbd>&#x23ce; Enter</kbd>;\n",
    "- To run the currently highlighted cell and keep focus in the same cell, hold <kbd>&#x21E7; Ctrl</kbd> and press <kbd>&#x23ce; Enter</kbd>;\n",
    "- To get help for a specific function, place the cursor within the function's brackets, hold <kbd>&#x21E7; Shift</kbd>, and press <kbd>&#x21E5; Tab</kbd>;"
   ]
  },
  {
   "cell_type": "markdown",
   "metadata": {},
   "source": [
    "### Links to documentation\n",
    "\n",
    "You can find useful information about using `math` and `pandas` at\n",
    "- [math](https://docs.python.org/3/library/math.html)\n",
    "- [pandas](https://pandas.pydata.org/)\n",
    "- [anaconda](https://anaconda.org)\n",
    "- [PyPI](https://pypi.org)"
   ]
  },
  {
   "cell_type": "markdown",
   "metadata": {},
   "source": [
    "# 1. Working with libraries <a id='1-working-with-libraries'></a>"
   ]
  },
  {
   "cell_type": "markdown",
   "metadata": {},
   "source": [
    "## 1.1 Importing libraries <a id=\"11-importing-libraries\"></a>"
   ]
  },
  {
   "cell_type": "markdown",
   "metadata": {},
   "source": [
    "### Most of the power of a programming language is in its libraries.\n",
    "\n",
    "- A library is a collection of files (called modules) that contains functions for use by other programs.\n",
    "- May also contain data values (e.g. numerical constants) and other things.\n",
    "A library’s contents are supposed to be related, but there’s no way to enforce that.\n",
    "- The Python standard library is an extensive suite of modules that comes with Python itself.\n",
    "- Many additional libraries are available from anaconda or PyPI (the Python Package Index, see above for links)."
   ]
  },
  {
   "cell_type": "markdown",
   "metadata": {},
   "source": [
    "### A program must import a library module before using it.\n",
    "- Use `import` to load a library module into a program’s memory.\n",
    "- Then refer to things from the module as `module_name.thing_name`.\n",
    "  - Python uses `.` to mean “part of”.\n",
    "- We will be using a library called `pandas`"
   ]
  },
  {
   "cell_type": "markdown",
   "metadata": {},
   "source": [
    "### Import specific items from a library module to shorten programs.\n",
    "- Use `from ... import ...` to load only specific items from a library module.\n",
    "- Then refer to them directly without library name as prefix.\n",
    "\n",
    "Run the cell below to import all the required libraries for this unit:"
   ]
  },
  {
   "cell_type": "code",
   "execution_count": null,
   "metadata": {},
   "outputs": [],
   "source": [
    "import numpy as np\n",
    "import matplotlib.pyplot as plt\n",
    "%matplotlib inline\n",
    "\n",
    "# Make the helper functions accessible\n",
    "import sys\n",
    "import os.path\n",
    "sys.path.append(os.path.abspath('../'))\n",
    "from helper_functions.mentimeter import Mentimeter"
   ]
  },
  {
   "cell_type": "markdown",
   "metadata": {},
   "source": [
    "### Quick aside on printing variables\n",
    "\n",
    "To print variables together with strings, we can use [f-strings](https://realpython.com/python-f-strings/).\n",
    "\n",
    "The structure of f-strings is as follows: \n",
    "```python\n",
    "my_variable = 4\n",
    "print(f\"some text before a variable: {my_variable}\")\n",
    "```\n",
    "This prints the following:\n",
    "```python\n",
    "some text before a variable: 4\n",
    "```"
   ]
  },
  {
   "cell_type": "markdown",
   "metadata": {},
   "source": [
    "Run the below cell to import $\\cos$ and $\\pi$ from the library `math`:"
   ]
  },
  {
   "cell_type": "code",
   "execution_count": null,
   "metadata": {},
   "outputs": [],
   "source": [
    "# We are importing the functions cos and the value pi from the library math\n",
    "from math import cos, pi\n",
    "\n",
    "print(f\"cos(pi) is {cos(pi)}\")"
   ]
  },
  {
   "cell_type": "markdown",
   "metadata": {},
   "source": [
    "### Create an alias for a library module when importing it to shorten programs.\n",
    "\n",
    "- Use `import ... as ...` to give a library a short alias while importing it.\n",
    "- Then refer to items in the library using that shortened name."
   ]
  },
  {
   "cell_type": "code",
   "execution_count": null,
   "metadata": {},
   "outputs": [],
   "source": [
    "import math as m\n",
    "\n",
    "print(f\"cos(pi) is {m.cos(m.pi)}\")"
   ]
  },
  {
   "cell_type": "markdown",
   "metadata": {},
   "source": [
    "# Tasks 1<a id=\"tasks-1\"></a> "
   ]
  },
  {
   "cell_type": "markdown",
   "metadata": {},
   "source": [
    "<div class=\"alert alert-success\">\n",
    "<b>Task 1.1: Jigsaw Puzzle (Parson’s Problem) Programming Example</b>\n",
    "\n",
    "\n",
    "Rearrange the following statements so that a random DNA base is printed and its index in the string. Remember that you've already imported math above! You can check it in an empty cell below to understand what it is doing. \n",
    "    \n",
    "</div>"
   ]
  },
  {
   "cell_type": "code",
   "execution_count": null,
   "metadata": {},
   "outputs": [],
   "source": [
    "from IPython.display import IFrame\n",
    "IFrame(\"https://parsons.herokuapp.com/puzzle/7cf55d16a0454de580f31418505f3b54\", width=1000, height=400)"
   ]
  },
  {
   "cell_type": "code",
   "execution_count": null,
   "metadata": {},
   "outputs": [],
   "source": [
    "# Test out the code in this cell once you have the right order!"
   ]
  },
  {
   "cell_type": "markdown",
   "metadata": {
    "tags": []
   },
   "source": [
    "<details><summary {style='color:green;font-weight:bold'}> Click here to see solution to Task 1.1 </summary>\n",
    "    \n",
    "```python\n",
    "import math \n",
    "import random\n",
    "bases = \"ACTTGCTTGAC\" \n",
    "n_bases = len(bases)\n",
    "idx = random.randrange(n_bases)\n",
    "print(f\"Random base {bases[idx]} base index {idx}.\")\n",
    "\n",
    "```\n",
    " </details>"
   ]
  },
  {
   "cell_type": "markdown",
   "metadata": {},
   "source": [
    "<div class=\"alert alert-success\">\n",
    "<b>Task 1.2: Importing With Aliases</b>\n",
    "\n",
    "\n",
    "\n",
    "1. Fill in the blanks so that the program below prints `90.0`.\n",
    "2. Rewrite the program so that it uses `import` without `as`.\n",
    "3. Which form do you find easier to read?\n",
    "    \n",
    "</div>"
   ]
  },
  {
   "cell_type": "code",
   "execution_count": null,
   "metadata": {},
   "outputs": [],
   "source": [
    "# Question 1\n",
    "import math as m\n",
    "angle = # FIXME.degrees(# FIXME.pi / 2)\n",
    "print(# FIXME)"
   ]
  },
  {
   "cell_type": "code",
   "execution_count": null,
   "metadata": {},
   "outputs": [],
   "source": [
    "# Question 2"
   ]
  },
  {
   "cell_type": "markdown",
   "metadata": {},
   "source": [
    "<details><summary {style='color:green;font-weight:bold'}> Click here to see solution to Task 1.2 </summary>\n",
    "    \n",
    "Filling in the right variables:  \n",
    "    \n",
    "```python\n",
    "import math as m\n",
    "angle = m.degrees(m.pi / 2)\n",
    "print(angle)   \n",
    "    \n",
    "```\n",
    "Re-writing the program without an import as:\n",
    "    \n",
    "```python\n",
    "import math\n",
    "angle = math.degrees(math.pi / 2)\n",
    "print(angle)  \n",
    "    \n",
    "```   \n",
    "    \n",
    "*Explanation*:\n",
    "  \n",
    "Since you just wrote the code and are familiar with it, you might actually find the first version easier to read. But when trying to read a huge piece of code written by someone else, or when getting back to your own huge piece of code after several months, non-abbreviated names are often easier, except where there are clear abbreviation conventions.\n",
    "\n",
    " </details>"
   ]
  },
  {
   "cell_type": "markdown",
   "metadata": {},
   "source": [
    "<div class=\"alert alert-success\">\n",
    "<b>Task 1.3: Importing specific items</b>\n",
    "\n",
    "\n",
    "\n",
    "1. Import the exponential function from the math libary.\n",
    "2. Use it to work out $e^{10}$.\n",
    "3. Import a function from math which will allow you to raise a number to a power of your choice.\n",
    "4. Raise $6^5$\n",
    "    \n",
    "</div>"
   ]
  },
  {
   "cell_type": "code",
   "execution_count": null,
   "metadata": {},
   "outputs": [],
   "source": [
    "# FIXME\n"
   ]
  },
  {
   "cell_type": "markdown",
   "metadata": {},
   "source": [
    "<details><summary {style='color:green;font-weight:bold'}> Click here to see solution to Task 1.3 </summary>\n",
    "    \n",
    "Filling in the right variables:  \n",
    "    \n",
    "```python\n",
    "#1\n",
    "from math import exp \n",
    "#2\n",
    "number= exp(10)\n",
    "print(number)\n",
    "#3\n",
    "from math import pow\n",
    "#4\n",
    "powered = pow(6,5)\n",
    "print(powered)   \n",
    "```   \n",
    "    \n",
    "*Explanation*:\n",
    "  \n",
    "The first part should be relatively straightforward. For part 3, you may need to google the math library and read the documentation to find the function that you need to raise a number to the power of another number. \n",
    "\n",
    " </details>"
   ]
  },
  {
   "cell_type": "markdown",
   "metadata": {},
   "source": [
    "<div class=\"alert alert-info\"> <b>Key Points</b>\n",
    "\n",
    "- Most of the power of a programming language is in its libraries.\n",
    "- A program must import a library module in order to use it.\n",
    "- Import specific items from a library to shorten programs.\n",
    "- Create an alias for a library when importing it to shorten programs.\n",
    "    \n",
    " </div>"
   ]
  },
  {
   "cell_type": "markdown",
   "metadata": {},
   "source": [
    "# 2. Working with the Pandas library <a id=\"2-working-with-the-pandas-library\"></a>\n",
    "\n",
    "In [Unit 02](../Unit_02/Unit_02_variables.ipynb), we looked at a couple of different ways of opening files, in this session we are going to exclusively use pandas. \n",
    "\n",
    "Pandas is a library in Python that works much like Excel, but we have the added advantage of being able to manipulate the data in a programmatic way. \n",
    "\n",
    "\n",
    "The community-agreed alias for `pandas` is `.pd`, so loading `pandas as pd` is assumed **standard practice** for all of the pandas documentation."
   ]
  },
  {
   "cell_type": "code",
   "execution_count": null,
   "metadata": {},
   "outputs": [],
   "source": [
    "import pandas as pd"
   ]
  },
  {
   "cell_type": "markdown",
   "metadata": {},
   "source": [
    "### Import the data"
   ]
  },
  {
   "cell_type": "markdown",
   "metadata": {},
   "source": [
    "Now, we need to import the data into what pandas calls a `DataFrame`, which takes the input data and formats it as a sort of \"spreadsheet\" with this form:\n",
    "\n",
    "\n",
    "\n",
    "![pandas-data-structure.svg](images/pandas-data-structure.svg)"
   ]
  },
  {
   "cell_type": "code",
   "execution_count": null,
   "metadata": {},
   "outputs": [],
   "source": [
    "# Use pandas to read the csv file:\n",
    "data = pd.read_csv(\"files/ptable.csv\") \n",
    "# View the imported dataframe, note how the index column \"element\" is in bold: \n",
    "data "
   ]
  },
  {
   "cell_type": "markdown",
   "metadata": {},
   "source": [
    "Now that we've imported this data, we will learn some more fundamental python concepts in order to examine the data at the end of the session. \n",
    "\n",
    "<br>"
   ]
  },
  {
   "cell_type": "markdown",
   "metadata": {},
   "source": [
    "### Accessing the dataframe <a id=\"accessing-the-dataframe\"></a>\n",
    "\n",
    "We are now going to try and view the dataframe in different ways </br>\n",
    "- `data.head()` shows us the first 5 lines of the dataframe.... Note how python counts from 0. </br>\n",
    "- `data.tail()` shows us the last 5 lines of the dataframe.</br>\n",
    "- `data.columns` lists us all the column headers which are properties associated with the elements.\n",
    "\n",
    "Test them out below:"
   ]
  },
  {
   "cell_type": "code",
   "execution_count": null,
   "metadata": {},
   "outputs": [],
   "source": [
    "data.head()"
   ]
  },
  {
   "cell_type": "code",
   "execution_count": null,
   "metadata": {},
   "outputs": [],
   "source": [
    "data.tail()"
   ]
  },
  {
   "cell_type": "code",
   "execution_count": null,
   "metadata": {
    "scrolled": true
   },
   "outputs": [],
   "source": [
    "data.columns"
   ]
  },
  {
   "cell_type": "markdown",
   "metadata": {},
   "source": [
    "We might also be interested in knowing what the datatypes are for the columns."
   ]
  },
  {
   "cell_type": "code",
   "execution_count": null,
   "metadata": {},
   "outputs": [],
   "source": [
    "print(f\"Period is data type {data['Period'].dtype}\")"
   ]
  },
  {
   "cell_type": "markdown",
   "metadata": {},
   "source": [
    "It is also possible to change the datatype of a column in a dataframe using `.astype()` function."
   ]
  },
  {
   "cell_type": "code",
   "execution_count": null,
   "metadata": {},
   "outputs": [],
   "source": [
    "data[\"Period\"] = data[\"Period\"].astype(float)"
   ]
  },
  {
   "cell_type": "code",
   "execution_count": null,
   "metadata": {},
   "outputs": [],
   "source": [
    "print(f\"Period is data type {data['Period'].dtype}\")"
   ]
  },
  {
   "cell_type": "markdown",
   "metadata": {},
   "source": [
    "<div class=\"alert alert-info\">\n",
    "Once we learn a little more about how to play around with arrays, we will come back and analyse this data.\n",
    "</div>"
   ]
  },
  {
   "cell_type": "markdown",
   "metadata": {},
   "source": [
    "# 3. Loops\n",
    "\n",
    "<a id='3-loops'></a>\n",
    "![loop.png](images/loop.png)\n",
    "\n",
    "\n",
    "A loop is used for iterating over a set of statements.\n",
    "There are many different kinds of loops that can be useful in different situations. We are going to go through some of the most common types of loops. "
   ]
  },
  {
   "cell_type": "markdown",
   "metadata": {},
   "source": [
    "## 3.1 For loops\n",
    "<a id='31-for-loops'></a>\n",
    "This loop is used for iterating over some kind of a sequence. That can be a list, tuple, dictionary, string, etc.\n",
    "\n",
    "Everything that is inside the for statement is going to be executed a number of times.\n",
    "\n",
    "![loop2.png](images/loop2.png)\n",
    "    \n",
    "  \n",
    "\n",
    "If we think about how we would define a `for` loop in python it would have the structure:\n",
    "```Python\n",
    "for variable in iterable:\n",
    "    statement(s) \n",
    "```\n",
    "\n",
    "where:\n",
    "* `variable` is a variable \n",
    "* `iterable` is a collection of objects such as a list or tuple\n",
    "* `statement(s)` in the loop body (denoted by the **indent**) are executed once for each item in **iterable**.\n",
    "\n",
    "The loop variable `variable` takes on the value of the next element in `iterable` each time through the loop, until we have iterated through all items in `iterable`."
   ]
  },
  {
   "cell_type": "markdown",
   "metadata": {},
   "source": [
    "Let's take a look at some simple examples that show us how powerful `for` loops can be, and how they must be properly structured to be interpreted by Python. "
   ]
  },
  {
   "cell_type": "markdown",
   "metadata": {},
   "source": [
    "### Example 1\n",
    "\n",
    "The first line of the `for` loop must end with a colon, and the body must be indented.\n"
   ]
  },
  {
   "cell_type": "code",
   "execution_count": null,
   "metadata": {},
   "outputs": [],
   "source": [
    "for number in [2,3,5]:\n",
    "    print(number)"
   ]
  },
  {
   "cell_type": "markdown",
   "metadata": {},
   "source": [
    "This `for` loop is equivalent to:"
   ]
  },
  {
   "cell_type": "code",
   "execution_count": null,
   "metadata": {},
   "outputs": [],
   "source": [
    "print(2)\n",
    "print(3)\n",
    "print(5)"
   ]
  },
  {
   "cell_type": "markdown",
   "metadata": {},
   "source": [
    "We can see that the `for` loop is a much more efficient way of doing this task, than having to type of `print(value)`. "
   ]
  },
  {
   "cell_type": "code",
   "execution_count": null,
   "metadata": {},
   "outputs": [],
   "source": [
    "# FIXME\n",
    "for number in [2,3,5]:\n",
    "print(number)"
   ]
  },
  {
   "cell_type": "code",
   "execution_count": null,
   "metadata": {},
   "outputs": [],
   "source": [
    "# FIXME\n",
    "for number in [2,3,5]\n",
    "    print(number)"
   ]
  },
  {
   "cell_type": "markdown",
   "metadata": {},
   "source": [
    "### Example 2"
   ]
  },
  {
   "cell_type": "markdown",
   "metadata": {},
   "source": [
    "Loop variables can be called anything. So please try to make them be as meaningful as possible"
   ]
  },
  {
   "cell_type": "code",
   "execution_count": null,
   "metadata": {},
   "outputs": [],
   "source": [
    "for kitten in [2, 3, 5]:\n",
    "    print(kitten)"
   ]
  },
  {
   "cell_type": "code",
   "execution_count": null,
   "metadata": {},
   "outputs": [],
   "source": [
    "for numbers in [2,3,5]:\n",
    "    print(numbers)"
   ]
  },
  {
   "cell_type": "markdown",
   "metadata": {},
   "source": [
    "### Example 3"
   ]
  },
  {
   "cell_type": "markdown",
   "metadata": {},
   "source": [
    "The body of a loop can contain many statements.\n",
    "However, its best practise to keep a loop to no more than a few lines long."
   ]
  },
  {
   "cell_type": "code",
   "execution_count": null,
   "metadata": {},
   "outputs": [],
   "source": [
    "primes = [2, 3, 5]\n",
    "for p in primes:\n",
    "    squared = p ** 2\n",
    "    cubed = p ** 3\n",
    "    print(p, squared, cubed)"
   ]
  },
  {
   "cell_type": "markdown",
   "metadata": {},
   "source": [
    "### Example 4\n"
   ]
  },
  {
   "cell_type": "markdown",
   "metadata": {},
   "source": [
    "Use `range` to iterate over a sequence of numbers.\n",
    "\n",
    "The built-in function `range` produces a sequence of numbers.\n",
    "\n",
    "Not a list: the numbers are produced on demand to make looping over large ranges more efficient. Its easier than typing `[2,3,5,7,9,11,13]` like we have done in above examples.\n",
    "\n",
    "`range(N)` is the numbers `0..N-1`\n",
    "\n",
    "Exactly the legal indices of a list or character string of length N\n",
    "\n",
    "e.g. `range(5)` would be `0,1,2,3,4`"
   ]
  },
  {
   "cell_type": "code",
   "execution_count": 1,
   "metadata": {},
   "outputs": [
    {
     "name": "stdout",
     "output_type": "stream",
     "text": [
      "a range is not a list: range(0, 3)\n",
      "0\n",
      "1\n",
      "2\n"
     ]
    }
   ],
   "source": [
    "print(\"a range is not a list: range(0, 3)\")\n",
    "for number in range(0, 3):\n",
    "    print(number)"
   ]
  },
  {
   "cell_type": "markdown",
   "metadata": {},
   "source": [
    "### Example 5 \n"
   ]
  },
  {
   "cell_type": "markdown",
   "metadata": {},
   "source": [
    "The Accumulator pattern turns many values into one.\n",
    "\n",
    "A common pattern in programs is to:\n",
    " 1. Initialize an accumulator variable to zero, the empty string, or the empty list.\n",
    " 2. Update the variable with values from a collection."
   ]
  },
  {
   "cell_type": "code",
   "execution_count": null,
   "metadata": {},
   "outputs": [],
   "source": [
    "# Sum the first 10 integers.\n",
    "total = 0\n",
    "for number in range(10):\n",
    "    total = total + (number + 1)\n",
    "print(total)"
   ]
  },
  {
   "cell_type": "markdown",
   "metadata": {},
   "source": [
    "- Read `total = total + (number + 1)` as:\n",
    " - Add 1 to the current value of the loop variable `number`.\n",
    " - Add that to the current value of the accumulator variable `total`.\n",
    " - Assign that to `total`, replacing the current value.\n",
    "- We have to add `number + 1` because `range` produces `0..9`, not `1..10`."
   ]
  },
  {
   "cell_type": "markdown",
   "metadata": {},
   "source": [
    "## Tasks 2 <a id=\"tasks-2\"></a>"
   ]
  },
  {
   "cell_type": "markdown",
   "metadata": {},
   "source": [
    "<div class=\"alert alert-success\">\n",
    "<b>Task 2.1: Practice Accumulating 1</b>\n",
    "\n",
    "\n",
    "Fill in the blanks \n",
    "    \n",
    "</div>"
   ]
  },
  {
   "cell_type": "code",
   "execution_count": null,
   "metadata": {},
   "outputs": [],
   "source": [
    "# Total length of the strings in the list: [\"red\", \"green\", \"blue\"] => 12\n",
    "total = 0\n",
    "for word in [\"red\", \"green\", \"blue\"]:\n",
    "    ____ = ____ + len(word) # FIXME\n",
    "print(total)"
   ]
  },
  {
   "cell_type": "markdown",
   "metadata": {},
   "source": [
    "<details><summary {style='color:green;font-weight:bold'}> Click here to see solution to Task 2.1 </summary>\n",
    "    \n",
    "```python\n",
    "total = 0\n",
    "for word in [\"red\", \"green\", \"blue\"]:\n",
    "    total = total + len(word)\n",
    "print(total)\n",
    "```\n",
    "</details>  "
   ]
  },
  {
   "cell_type": "markdown",
   "metadata": {},
   "source": [
    "<div class=\"alert alert-success\">\n",
    "<b>Task 2.2: Practice Accumulating 2</b>\n",
    "\n",
    "Fill in the blanks \n",
    "    \n",
    "</div>"
   ]
  },
  {
   "cell_type": "code",
   "execution_count": null,
   "metadata": {},
   "outputs": [],
   "source": [
    "# List of word lengths: [\"red\", \"green\", \"blue\"] => [3, 5, 4]\n",
    "lengths = ____ # FIXME\n",
    "for word in [\"red\", \"green\", \"blue\"]:\n",
    "    lengths.____(____) # FIXME\n",
    "print(lengths)"
   ]
  },
  {
   "cell_type": "markdown",
   "metadata": {},
   "source": [
    "<details><summary {style='color:green;font-weight:bold'}> Click here to see solution to Task 2.2</summary>\n",
    "    \n",
    "```python\n",
    " \n",
    "lengths = []\n",
    "for word in [\"red\", \"green\", \"blue\"]:\n",
    "    lengths.append(len(word))\n",
    "print(lengths)\n",
    "\n",
    "```\n",
    "\n",
    "\n",
    " </details>"
   ]
  },
  {
   "cell_type": "markdown",
   "metadata": {},
   "source": [
    "<div class=\"alert alert-success\">\n",
    "<b>Task 2.3: Practice Accumulating 3</b>\n",
    "\n",
    "Fill in the blanks\n",
    "</div>"
   ]
  },
  {
   "cell_type": "code",
   "execution_count": null,
   "metadata": {},
   "outputs": [],
   "source": [
    "# Concatenate all words: [\"red\", \"green\", \"blue\"] => \"redgreenblue\"\n",
    "words = [\"red\", \"green\", \"blue\"]\n",
    "result = ____  # FIXME\n",
    "for ____ in ____: # FIXME\n",
    "    ____  # FIXME\n",
    "print(result)"
   ]
  },
  {
   "cell_type": "markdown",
   "metadata": {},
   "source": [
    "<details><summary {style='color:green;font-weight:bold'}> Click here to see solution to Task 2.3 </summary>\n",
    "    \n",
    "```python\n",
    "words = [\"red\", \"green\", \"blue\"]\n",
    "result = \"\"\n",
    "for word in words:\n",
    "    result = result + word\n",
    "print(result)\n",
    "\n",
    "```\n",
    "\n",
    "\n",
    " </details>\n"
   ]
  },
  {
   "cell_type": "markdown",
   "metadata": {},
   "source": [
    "<div class=\"alert alert-success\">\n",
    "<b>Task 2.4: Create a whole loop</b>\n",
    "\n",
    "\n",
    "Start out with an empty string `acronym=\"\"`.\n",
    "Generate a loop that uses the words 'red', 'green', 'blue' and the function `upper()` that by the end of the loop the acronym contains \"RBG\" when you type `print(acronym)`\n",
    "    \n",
    "</div>"
   ]
  },
  {
   "cell_type": "code",
   "execution_count": null,
   "metadata": {},
   "outputs": [],
   "source": [
    "# FIXME\n",
    "acronym = \"\"\n",
    "\n",
    "\n",
    "print(acronym)"
   ]
  },
  {
   "cell_type": "markdown",
   "metadata": {},
   "source": [
    "<details><summary {style='color:green;font-weight:bold'}> Click here to see solution to Task 2.4 </summary>\n",
    "    \n",
    "```python\n",
    "acronym = \"\"\n",
    "for word in [\"red\", \"green\", \"blue\"]:\n",
    "    acronym = acronym + word[0].upper()\n",
    "print(acronym)\n",
    "\n",
    "```\n",
    "\n",
    "\n",
    " </details>"
   ]
  },
  {
   "cell_type": "markdown",
   "metadata": {},
   "source": [
    "<div class=\"alert alert-success\">\n",
    "<b>Task 2.5: Cumulative Sum</b>\n",
    "\n",
    "\n",
    "Reorder and properly indent the lines of code below so that they print a list with the cumulative sum of data. The result should be `[1, 3, 5, 10]`.\n",
    "    \n",
    "</div>"
   ]
  },
  {
   "cell_type": "code",
   "execution_count": null,
   "metadata": {},
   "outputs": [],
   "source": [
    "# FIXME\n",
    "cumulative.append(sum)\n",
    "for number in data:\n",
    "cumulative = []\n",
    "sum += number\n",
    "sum = 0\n",
    "print(cumulative)\n",
    "data = [1,2,2,5]"
   ]
  },
  {
   "cell_type": "markdown",
   "metadata": {},
   "source": [
    "<details><summary {style='color:green;font-weight:bold'}> Click here to see solution to Task 2.5</summary>\n",
    "    \n",
    "```python\n",
    "data = [1,2,2,5]\n",
    "cumulative = []\n",
    "sum = 0\n",
    "for number in data:\n",
    "    sum += number\n",
    "    cumulative.append(sum)\n",
    "print(cumulative)\n",
    "\n",
    "```\n",
    "\n",
    "\n",
    " </details>"
   ]
  },
  {
   "cell_type": "markdown",
   "metadata": {},
   "source": [
    "<div class=\"alert alert-success\">\n",
    "<b>Task 2.6: Identifying Variable Name Errors</b>\n",
    "\n",
    "\n",
    "1. Read the code below and try to identify what the errors are without running it.\n",
    "2. Run the code and read the error message. What type of `NameError` do you think this is? Is it a string with no quotes, a misspelled variable, or a variable that should have been defined but was not?\n",
    "3. Fix the error.\n",
    "4. Repeat steps 2 and 3, until you have fixed all the errors.\n",
    "    \n",
    "</div>"
   ]
  },
  {
   "cell_type": "code",
   "execution_count": null,
   "metadata": {},
   "outputs": [],
   "source": [
    "for number in range(10):\n",
    "    # use a if the number is a multiple of 3, otherwise use b\n",
    "    if (Number % 3) == 0:\n",
    "        message = message + a\n",
    "    else:\n",
    "        message = message + \"b\"\n",
    "print(message)"
   ]
  },
  {
   "cell_type": "markdown",
   "metadata": {},
   "source": [
    "<details><summary {style='color:green;font-weight:bold'}> Click here to see solution to Task 2.6 </summary>\n",
    "    \n",
    "```python\n",
    "message = \"\"\n",
    "for number in range(10):\n",
    "    # use a if the number is a multiple of 3, otherwise use b\n",
    "    if (number % 3) == 0:\n",
    "        message = message + \"a\"\n",
    "    else:\n",
    "        message = message + \"b\"\n",
    "print(message)\n",
    "\n",
    "```\n",
    "##### Explanation:\n",
    "The variable `message` needs to be initialized and Python variable names are case sensitive: `number` and `Number` refer to different variables.\n",
    "\n",
    " </details>\n"
   ]
  },
  {
   "cell_type": "markdown",
   "metadata": {},
   "source": [
    "<div class=\"alert alert-info\"> <b>Key Points</b><\n",
    "\n",
    "- A for loop executes commands once for each value in a collection.\n",
    "- A `for` loop is made up of a collection, a loop variable, and a body.\n",
    "- The first line of the `for` loop must end with a colon, and the body must be indented.\n",
    "- Indentation is always meaningful in Python.\n",
    "- Loop variables can be called anything (but it is strongly advised to have a meaningful name to the looping variable).\n",
    "- The body of a loop can contain many statements.\n",
    "- Use `range` to iterate over a sequence of numbers.\n",
    "- The Accumulator pattern turns many values into one.\n",
    "                                                   \n",
    "/div>"
   ]
  },
  {
   "cell_type": "markdown",
   "metadata": {},
   "source": [
    "## 3.2 Conditional loops <a id='32-conditional-loops'></a>"
   ]
  },
  {
   "cell_type": "markdown",
   "metadata": {},
   "source": [
    "Computer programming is often referred to as a \"language\" and often we use similar nomenclature to traditional languages. Here we will discover how **conditional** `loops` are interpretted by Python. Conditionals are used much like the tense in languages to speculate about what could happen with respect to an if clause. \n",
    "\n",
    "E.g. If it rains, take an umbrella. Or, if the pH is below 7, it's acidic. \n",
    "\n",
    "Notice how the first phrase controls the content of the second phrase.\n",
    "\n",
    "E.g. If it's sunny, wear sunscreen. Or if the pH is above 7, it's basic. \n",
    "\n",
    "\n",
    "We could take this analogy and allow more options,\n",
    "e.g.  if the pH is above 7, it's basic. Otherwise (or else) it's acidic. Notice how we can categories the information by these conditional statements. \n",
    "\n",
    "\n",
    "We can use `if` statements to allow our computer programs to do different things for different data. "
   ]
  },
  {
   "cell_type": "markdown",
   "metadata": {},
   "source": [
    "### Use `if` statements to control whether or not a block of code is executed"
   ]
  },
  {
   "cell_type": "markdown",
   "metadata": {},
   "source": [
    "### Example 6 - `if`"
   ]
  },
  {
   "cell_type": "markdown",
   "metadata": {},
   "source": [
    "Use an `if` statement to control whether or not a block of code is executed.\n",
    "- An `if` statement (more properly called a conditional statement) controls whether some block of code is executed or not.\n",
    "- Structure is similar to a `for` statement:\n",
    "    - First line opens with `if` and ends with a colon\n",
    "    - Body containing one or more statements is indented (usually by 4 spaces or a tab)"
   ]
  },
  {
   "cell_type": "code",
   "execution_count": null,
   "metadata": {},
   "outputs": [],
   "source": [
    "mass = 3.54\n",
    "if mass > 3.0:\n",
    "    print(f\"{mass} is large\")"
   ]
  },
  {
   "cell_type": "code",
   "execution_count": null,
   "metadata": {},
   "outputs": [],
   "source": [
    "mass = 2.07\n",
    "if mass > 3.0:\n",
    "    print(f\"{mass} is large\")"
   ]
  },
  {
   "cell_type": "markdown",
   "metadata": {},
   "source": [
    "Things that you should notice:\n",
    "- The importance of ending the first line of the `for` loop in a colon.\n",
    "- How the computer does not return anything in the second code block as it does not meet the `if` statement criteria. "
   ]
  },
  {
   "cell_type": "markdown",
   "metadata": {},
   "source": [
    "### Example 7 - `if`\n"
   ]
  },
  {
   "cell_type": "markdown",
   "metadata": {},
   "source": [
    "Conditionals are often used inside loops.\n",
    "- Not much point using a conditional when we know the value (as above).\n",
    "- But useful when we have a collection to process."
   ]
  },
  {
   "cell_type": "code",
   "execution_count": null,
   "metadata": {},
   "outputs": [],
   "source": [
    "masses = [3.54, 2.07, 9.22, 1.86, 1.71]\n",
    "for mass in masses:\n",
    "    if mass > 3.0:\n",
    "        print(f\"{mass} is large\")"
   ]
  },
  {
   "cell_type": "markdown",
   "metadata": {},
   "source": [
    "### Example 8 - `if` and `else`"
   ]
  },
  {
   "cell_type": "markdown",
   "metadata": {},
   "source": [
    "Use `else` to execute a block of code when an `if` condition is not true.\n",
    "- `else` can be used following an `if`.\n",
    "- Allows us to specify an alternative to execute when the `if` statement criterie is not met."
   ]
  },
  {
   "cell_type": "code",
   "execution_count": null,
   "metadata": {},
   "outputs": [],
   "source": [
    "masses = [3.54, 2.07, 9.22, 1.86, 1.71]\n",
    "for mass in masses:\n",
    "    if mass > 3.0:\n",
    "        print(f\"{mass} is large\")\n",
    "    else:\n",
    "        print(f\"{mass} is small\")"
   ]
  },
  {
   "cell_type": "markdown",
   "metadata": {},
   "source": [
    "### Example 9 - `if` and `elif`"
   ]
  },
  {
   "cell_type": "markdown",
   "metadata": {},
   "source": [
    "Use `elif` to specify additional tests.\n",
    "- May want to provide several alternative choices, each with its own test.\n",
    "- Use `elif` (short for “else if”) and a condition to specify these.\n",
    "- Always associated with an `if`.\n",
    "- Must come before the `else` (which is the “catch all”)."
   ]
  },
  {
   "cell_type": "code",
   "execution_count": null,
   "metadata": {},
   "outputs": [],
   "source": [
    "masses = [3.54, 2.07, 9.22, 1.86, 1.71]\n",
    "for mass in masses:\n",
    "    if mass > 9.0:\n",
    "        print(f\"{mass} is HUGE\")\n",
    "    elif mass > 3.0:\n",
    "        print(f\"{mass} is large\")\n",
    "    else:\n",
    "        print(f\"{mass} is small\")"
   ]
  },
  {
   "cell_type": "markdown",
   "metadata": {},
   "source": [
    "### Example 10 - order of conditions"
   ]
  },
  {
   "cell_type": "markdown",
   "metadata": {},
   "source": [
    "Conditions are tested once, in order.\n",
    "- Python steps through the branches of the conditional in order, testing each in turn.\n",
    "- So ordering matters."
   ]
  },
  {
   "cell_type": "code",
   "execution_count": null,
   "metadata": {},
   "outputs": [],
   "source": [
    "grade = 85\n",
    "if grade >= 70:\n",
    "    print(\"grade is C\")\n",
    "elif grade >= 80:\n",
    "    print(\"grade is B\")\n",
    "elif grade >= 90:\n",
    "    print(\"grade is A\")"
   ]
  },
  {
   "cell_type": "markdown",
   "metadata": {},
   "source": [
    "We can see here that our condition is met in the first conditional `if` statement, so none of the `elif` statements are evaluated."
   ]
  },
  {
   "cell_type": "markdown",
   "metadata": {},
   "source": [
    "### Example 11 - using conditionals to evolve the values of variables\n"
   ]
  },
  {
   "cell_type": "markdown",
   "metadata": {},
   "source": [
    "In the example below we use `if` and `else` within a `for` loop in order to change the value of `velocity`.\n",
    "\n",
    "Notice:\n",
    "- the indent for the `for` loop and also for the `if` and `else` statements.\n",
    "- the use of the colon at the end of `for`, `if` and `else` statements.\n",
    "- The program must have a `print` statement outside the body of the loop to show the final value of velocity, since its value is updated by the last iteration of the loop."
   ]
  },
  {
   "cell_type": "code",
   "execution_count": null,
   "metadata": {},
   "outputs": [],
   "source": [
    "velocity = 10.0\n",
    "# Execute the loop 5 times\n",
    "for i in range(5): \n",
    "    print(f\"try {i}:{velocity}\")\n",
    "    if velocity > 20.0:\n",
    "        print(\"moving too fast\")\n",
    "        velocity = velocity - 5.0\n",
    "    else:\n",
    "        print(\"moving too slow\")\n",
    "        velocity = velocity + 10.0\n",
    "print(f\"final velocity: {velocity}\")"
   ]
  },
  {
   "cell_type": "markdown",
   "metadata": {},
   "source": [
    "# Tasks 3 <a id=\"tasks-3\"></a>"
   ]
  },
  {
   "cell_type": "markdown",
   "metadata": {},
   "source": [
    "<div class=\"alert alert-success\">\n",
    "<b>Task 3.1: Trimming values:</b>\n",
    "\n",
    "\n",
    "Fill in the blanks so that this program creates a new list containing zeroes where the original list’s values were negative and ones where the original list's values were positive.\n",
    "\n",
    "</div>"
   ]
  },
  {
   "cell_type": "code",
   "execution_count": null,
   "metadata": {},
   "outputs": [],
   "source": [
    "original = [-1.5, 0.2, 0.4, 0.0, -1.3, 0.4]\n",
    "result = ____ # FIXME\n",
    "for value in original:\n",
    "    if ____: # FIXME\n",
    "        result.append(0)\n",
    "    else:\n",
    "        ____ # FIXME\n",
    "print(result)"
   ]
  },
  {
   "cell_type": "markdown",
   "metadata": {},
   "source": [
    "Output should look like this:   \n",
    "```[0, 1, 1, 1, 0, 1]```"
   ]
  },
  {
   "cell_type": "markdown",
   "metadata": {},
   "source": [
    "<details><summary {style='color:green;font-weight:bold'}> Click here to see solution to Task 3.1 </summary>\n",
    "    \n",
    "```python\n",
    "    \n",
    "original = [-1.5, 0.2, 0.4, 0.0, -1.3, 0.4]\n",
    "result = []\n",
    "for value in original:\n",
    "    if value<0.0:\n",
    "        result.append(0)\n",
    "    else:\n",
    "        result.append(1)\n",
    "print(result)\n",
    "\n",
    "```\n",
    "\n",
    "\n",
    " </details>"
   ]
  },
  {
   "cell_type": "markdown",
   "metadata": {},
   "source": [
    "<div class=\"alert alert-success\">\n",
    "<b>Task 3.2: Initializing</b>\n",
    "\n",
    "\n",
    "Modify this program so that it finds the largest and smallest values in the list no matter what the range of values originally is.\n",
    "\n",
    "What are the advantages and disadvantages of using this method to find the range of the data?\n",
    "    \n",
    "</div>"
   ]
  },
  {
   "cell_type": "code",
   "execution_count": null,
   "metadata": {},
   "outputs": [],
   "source": [
    "values = [...some test data...] # FIXME\n",
    "smallest, largest = None, None\n",
    "for v in values:\n",
    "    if ____: # FIXME\n",
    "        smallest, largest = v, v\n",
    "    ____: # FIXME\n",
    "        smallest = min(____, v) # FIXME\n",
    "        largest = max(____, v) # FIXME\n",
    "print(smallest, largest)"
   ]
  },
  {
   "cell_type": "markdown",
   "metadata": {},
   "source": [
    "<details><summary {style='color:green;font-weight:bold'}> Click here to see solution to Task 3.2 </summary>\n",
    "    \n",
    "```python\n",
    "values = [-2,1,65,78,-54,-24,100]\n",
    "smallest, largest = None, None\n",
    "for v in values:\n",
    "    if smallest==None and largest==None:\n",
    "        smallest, largest = v, v\n",
    "    else:\n",
    "        smallest = min(smallest, v)\n",
    "        largest = max(largest, v)\n",
    "print(smallest, largest)\n",
    "\n",
    "```\n",
    "\n",
    "\n",
    " </details>"
   ]
  },
  {
   "cell_type": "markdown",
   "metadata": {},
   "source": [
    "<div class=\"alert alert-info\"> <b>Key Points</b>\n",
    "\n",
    "- Use `if` statements to control whether or not a block of code is executed.\n",
    "- Conditionals are often used inside loops.\n",
    "- Use `else` to execute a block of code when an `if` condition is *not* true.\n",
    "- Use `elif` to specify additional tests.\n",
    "- Conditions are tested once, in order.\n",
    "- Create a table showing variables' values to trace a program's execution.\n",
    "</div>"
   ]
  },
  {
   "cell_type": "markdown",
   "metadata": {},
   "source": [
    "# Next notebook\n",
    "\n",
    "[Unit 03 Loops II](Unit_03_loops_II.ipynb)"
   ]
  },
  {
   "cell_type": "markdown",
   "metadata": {},
   "source": []
  }
 ],
 "metadata": {
  "kernelspec": {
   "display_name": "Python 3 (ipykernel)",
   "language": "python",
   "name": "python3"
  },
  "language_info": {
   "codemirror_mode": {
    "name": "ipython",
    "version": 3
   },
   "file_extension": ".py",
   "mimetype": "text/x-python",
   "name": "python",
   "nbconvert_exporter": "python",
   "pygments_lexer": "ipython3",
   "version": "3.8.13"
  },
  "toc": {
   "base_numbering": 1,
   "nav_menu": {},
   "number_sections": false,
   "sideBar": true,
   "skip_h1_title": false,
   "title_cell": "Table of Contents",
   "title_sidebar": "Contents",
   "toc_cell": false,
   "toc_position": {},
   "toc_section_display": true,
   "toc_window_display": true
  },
  "vscode": {
   "interpreter": {
    "hash": "cf51243a6e93b78f1f5c5d179cd4f66e9bfd7b6269bebfcfdbed7f35483e292c"
   }
  }
 },
 "nbformat": 4,
 "nbformat_minor": 4
}

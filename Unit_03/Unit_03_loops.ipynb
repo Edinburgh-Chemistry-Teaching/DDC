{
 "cells": [
  {
   "cell_type": "code",
   "execution_count": 1,
   "metadata": {},
   "outputs": [],
   "source": [
    "import numpy as np\n",
    "import matplotlib.pyplot as plt\n",
    "%matplotlib inline\n",
    "\n",
    "# Make the helper functions accessible\n",
    "import sys\n",
    "import os.path\n",
    "sys.path.append(os.path.abspath('../'))\n",
    "from helper_functions.mentimeter import Mentimeter"
   ]
  },
  {
   "cell_type": "markdown",
   "metadata": {},
   "source": [
    "# Session 3: Loops, pandas and simple plotting\n",
    "***\n",
    "<a rel=\"license\" href=\"http://creativecommons.org/licenses/by/4.0/\"><img alt=\"Creative Commons Licence\" style=\"border-width:0\" src=\"https://i.creativecommons.org/l/by/4.0/88x31.png\" title='This work is licensed under a Creative Commons Attribution 4.0 International License.' align=\"right\"/></a>\n",
    "\n",
    "Author: Dr Claire Hobday   \n",
    "Email: claire.hobday@ed.ac.uk\n",
    "\n",
    "Some of the material was adapted from [Dr. Matteo Degiacomi](https://github.com/Degiacomi-Lab/python4science/blob/master/2_Python_numerical_data.ipynb), as well as [Software Carpentries](FIXME).\n",
    "\n",
    "\n",
    "## Learning outcomes:\n",
    "> - import modules and libraries \n",
    "> - using [math](https://docs.python.org/3/library/math.html) module to do some simple scientific computing tasks\n",
    "> - developing more [pandas](https://pandas.pydata.org/) skills to deal with large volumes of data\n",
    "> - using logical operations to filter data\n",
    "> - understand and use the different types of loops to do repetitive tasks including:\n",
    ">  - `for`\n",
    ">  - `if`\n",
    ">  - `else`/`elif`\n",
    ">  - `While`\n",
    ">  - `Break`"
   ]
  },
  {
   "cell_type": "markdown",
   "metadata": {},
   "source": [
    "**Jupyter cheat sheet**:\n",
    "- to run the currently highlighted cell, hold <kbd>&#x21E7; Shift</kbd> and press <kbd>&#x23ce; Enter</kbd>;\n",
    "- to get help for a specific function, place the cursor within the function's brackets, hold <kbd>&#x21E7; Shift</kbd>, and press <kbd>&#x21E5; Tab</kbd>;"
   ]
  },
  {
   "cell_type": "markdown",
   "metadata": {},
   "source": [
    "## Table of Contents\n",
    "1. [Working with Pandas](#Pandas)    \n",
    "2. [Loops](#loops)  \n",
    "   2.1 [For loops](#s_loops)    \n",
    "   2.2 [Conditional Loops](#c_loops)    \n",
    "   2.3 [Loops and Pandas](#p_loops)    \n",
    "3. [Plotting with Pandas](#plotting)\n",
    "\n",
    "<div class=\"alert alert-info\">\n",
    "    <b>The aims of today's session</b> <br>\n",
    "-  Learning how to use in-built functionality in python <br>\n",
    "- Combining these tools together to analyse data on a large `.csv` file that contains information about the elements of the periodic table. <br>\n",
    "- We are going to use these tools to understand trends within the periodic table. \n",
    "\n",
    "</div>\n",
    "   "
   ]
  },
  {
   "cell_type": "markdown",
   "metadata": {},
   "source": [
    "# 1. Working with Pandas\n",
    "***\n",
    "<a id='pandas'></a>"
   ]
  },
  {
   "cell_type": "markdown",
   "metadata": {},
   "source": [
    "### Most of the power of a programming language is in its libraries.\n",
    "\n",
    "- A library is a collection of files (called modules) that contains functions for use by other programs.\n",
    "- May also contain data values (e.g., numerical constants) and other things.\n",
    "Library’s contents are supposed to be related, but there’s no way to enforce that.\n",
    "- The Python standard library is an extensive suite of modules that comes with Python itself.\n",
    "- Many additional libraries are available from anaconda or PyPI (the Python Package Index)."
   ]
  },
  {
   "cell_type": "markdown",
   "metadata": {},
   "source": [
    "### A program must import a library module before using it.\n",
    "- Use `import` to load a library module into a program’s memory.\n",
    "- Then refer to things from the module as module_name.thing_name.\n",
    "  - Python uses `.` to mean “part of”.\n",
    "- We will be using a library called `pandas`"
   ]
  },
  {
   "cell_type": "markdown",
   "metadata": {},
   "source": [
    "### Import specific items from a library module to shorten programs.\n",
    "- Use `from ... import ...` to load only specific items from a library module.\n",
    "- Then refer to them directly without library name as prefix."
   ]
  },
  {
   "cell_type": "code",
   "execution_count": 2,
   "metadata": {},
   "outputs": [
    {
     "name": "stdout",
     "output_type": "stream",
     "text": [
      "cos(pi) is -1.0\n"
     ]
    }
   ],
   "source": [
    "# We are importing the functions cos and the value pi from the library maths\n",
    "from math import cos, pi\n",
    "\n",
    "print('cos(pi) is', cos(pi))"
   ]
  },
  {
   "cell_type": "markdown",
   "metadata": {},
   "source": [
    "### Create an alias for a library module when importing it to shorten programs.\n",
    "\n",
    "- Use `import ... as ...` to give a library a short alias while importing it.\n",
    "- Then refer to items in the library using that shortened name."
   ]
  },
  {
   "cell_type": "code",
   "execution_count": 3,
   "metadata": {},
   "outputs": [
    {
     "name": "stdout",
     "output_type": "stream",
     "text": [
      "cos(pi) is -1.0\n"
     ]
    }
   ],
   "source": [
    "import math as m\n",
    "\n",
    "print('cos(pi) is', m.cos(m.pi))"
   ]
  },
  {
   "cell_type": "markdown",
   "metadata": {},
   "source": [
    "## 1. Tasks "
   ]
  },
  {
   "cell_type": "markdown",
   "metadata": {},
   "source": [
    "<div class=\"alert alert-success\">\n",
    "<b>Task 1.1: Jigsaw Puzzle (Parson’s Problem) Programming Example</b>\n",
    "</div>\n",
    "Rearrange the following statements so that a random DNA base is printed and its index in the string. Remember that you've already imported math above! You can check it in an empty cell below to understand what its doing. "
   ]
  },
  {
   "cell_type": "code",
   "execution_count": 4,
   "metadata": {},
   "outputs": [
    {
     "data": {
      "text/html": [
       "\n",
       "        <iframe\n",
       "            width=\"1000\"\n",
       "            height=\"400\"\n",
       "            src=\"http://parsons.problemsolving.io/puzzle/76a4e48e9ba646e6a9e704d3259ec65c\"\n",
       "            frameborder=\"0\"\n",
       "            allowfullscreen\n",
       "            \n",
       "        ></iframe>\n",
       "        "
      ],
      "text/plain": [
       "<IPython.lib.display.IFrame at 0x7fa40a2aa460>"
      ]
     },
     "execution_count": 4,
     "metadata": {},
     "output_type": "execute_result"
    }
   ],
   "source": [
    "from IPython.display import IFrame\n",
    "IFrame('https://parsons.herokuapp.com/puzzle/7cf55d16a0454de580f31418505f3b54', width=1000, height=400)"
   ]
  },
  {
   "cell_type": "code",
   "execution_count": 5,
   "metadata": {},
   "outputs": [],
   "source": [
    "#test out the code in this cell, once you have the right order!"
   ]
  },
  {
   "cell_type": "markdown",
   "metadata": {
    "tags": []
   },
   "source": [
    "##### Solution\n",
    "<details><summary {style='color:green;font-weight:bold'}> Click here to see solution to Task 1.1. </summary>\n",
    "    \n",
    "```python\n",
    "import math \n",
    "import random\n",
    "bases = \"ACTTGCTTGAC\" \n",
    "n_bases = len(bases)\n",
    "idx = random.randrange(n_bases)\n",
    "print(f\"Random base {bases[idx]} base index {idx}.\")\n",
    "\n",
    "```\n",
    " </details>"
   ]
  },
  {
   "cell_type": "markdown",
   "metadata": {},
   "source": [
    "<div class=\"alert alert-success\">\n",
    "<b>Task 1.2: Importing With Aliases</b>\n",
    "</div>\n",
    "\n",
    "\n",
    "1. Fill in the blanks so that the program below prints `90.0`.\n",
    "2. Rewrite the program so that it uses `import` without `as`.\n",
    "3. Which form do you find easier to read?"
   ]
  },
  {
   "cell_type": "code",
   "execution_count": 6,
   "metadata": {},
   "outputs": [
    {
     "ename": "SyntaxError",
     "evalue": "invalid syntax (3298776963.py, line 3)",
     "output_type": "error",
     "traceback": [
      "\u001b[0;36m  File \u001b[0;32m\"/var/folders/5s/7kfn94zs0gb92zvskhn1qyj40000gn/T/ipykernel_29601/3298776963.py\"\u001b[0;36m, line \u001b[0;32m3\u001b[0m\n\u001b[0;31m    angle = #FIXME.degrees(#FIXME.pi / 2)\u001b[0m\n\u001b[0m            ^\u001b[0m\n\u001b[0;31mSyntaxError\u001b[0m\u001b[0;31m:\u001b[0m invalid syntax\n"
     ]
    }
   ],
   "source": [
    "# Task 1.2 question 1\n",
    "import math as m\n",
    "angle = #FIXME.degrees(#FIXME.pi / 2)\n",
    "print(#FIXME)"
   ]
  },
  {
   "cell_type": "code",
   "execution_count": null,
   "metadata": {},
   "outputs": [],
   "source": [
    "# space to rewrite the program for Task 1.2 question 2"
   ]
  },
  {
   "cell_type": "markdown",
   "metadata": {},
   "source": [
    "##### Solution\n",
    "\n",
    "<details><summary {style='color:green;font-weight:bold'}> Click here to see solution to Task 1.2 </summary>\n",
    "    \n",
    "Filling in the right variables:  \n",
    "    \n",
    "```python\n",
    "import math as m\n",
    "angle = m.degrees(m.pi / 2)\n",
    "print(angle)   \n",
    "    \n",
    "```\n",
    "Re-writing the program without an import as:\n",
    "    \n",
    "```python\n",
    "import math\n",
    "angle = math.degrees(math.pi / 2)\n",
    "print(angle)  \n",
    "    \n",
    "```   \n",
    "    \n",
    "*Explanation*:\n",
    "  \n",
    "Since you just wrote the code and are familiar with it, you might actually find the first version easier to read. But when trying to read a huge piece of code written by someone else, or when getting back to your own huge piece of code after several months, non-abbreviated names are often easier, except where there are clear abbreviation conventions.\n",
    "\n",
    " </details>"
   ]
  },
  {
   "cell_type": "markdown",
   "metadata": {},
   "source": [
    "<div class=\"alert alert-success\">\n",
    "<b>Task 1.3: Importing specific items</b>\n",
    "</div>\n",
    "\n",
    "\n",
    "1. Import the exponential function from the math libary.\n",
    "2. Use it to work out e^10.\n",
    "3. Import a function from math which will allow you to raise a number to a power of your choice.\n",
    "4. Raise 6 ^ 5"
   ]
  },
  {
   "cell_type": "code",
   "execution_count": null,
   "metadata": {},
   "outputs": [],
   "source": [
    "# space to try out task 1.3\n"
   ]
  },
  {
   "cell_type": "markdown",
   "metadata": {},
   "source": [
    "##### Solution\n",
    "\n",
    "<details><summary {style='color:green;font-weight:bold'}> Click here to see solution to Task 1.3 </summary>\n",
    "    \n",
    "Filling in the right variables:  \n",
    "    \n",
    "```python\n",
    "#1\n",
    "from math import exp \n",
    "#2\n",
    "number= exp(10)\n",
    "print(number)\n",
    "#3\n",
    "from math import pow\n",
    "#4\n",
    "powered = pow(6,5)\n",
    "print(powered)   \n",
    "```   \n",
    "    \n",
    "*Explanation*:\n",
    "  \n",
    "The first part should be relatively straightforward. For part 3, you may need to google the math library and read the documentation to find the function that you need to raise a number to the power of another number. \n",
    "\n",
    " </details>"
   ]
  },
  {
   "cell_type": "markdown",
   "metadata": {},
   "source": [
    "<div class=\"alert alert-info\"> <b>Key Points</b></div>\n",
    "\n",
    "- Most of the power of a programming language is in its libraries.\n",
    "- A program must import a library module in order to use it.\n",
    "- Import specific items from a library to shorten programs.\n",
    "- Create an alias for a library when importing it to shorten programs."
   ]
  },
  {
   "cell_type": "markdown",
   "metadata": {},
   "source": [
    "## Import the pandas library\n",
    "***\n",
    "In session one, we looked at a couple of different ways of opening files, in this session we are going to exclusively use pandas. \n",
    "\n",
    "Pandas is a library in python that works much like excel, but we have the added advantage of being able to manipulate the data in a programmatic way. \n"
   ]
  },
  {
   "cell_type": "code",
   "execution_count": null,
   "metadata": {},
   "outputs": [],
   "source": [
    "import pandas as pd\n",
    "#The community agreed alias for pandas is pd, so loading pandas as pd is assumed standard practice for all of the pandas documentation."
   ]
  },
  {
   "cell_type": "markdown",
   "metadata": {},
   "source": [
    "### Import the data\n",
    "***"
   ]
  },
  {
   "cell_type": "markdown",
   "metadata": {},
   "source": [
    "Now, we need to import the data into what pandas calls a `Dataframe`, which takes the input data and formats it as a sort of \"spreadsheet\" with this form:\n",
    "\n",
    "\n",
    "\n",
    "![pandas-data-structure.svg](images/pandas-data-structure.svg)"
   ]
  },
  {
   "cell_type": "code",
   "execution_count": null,
   "metadata": {},
   "outputs": [],
   "source": [
    "data = pd.read_csv('files/ptable.csv') #use pandas to read the csv file, \n",
    "data #view the imported dataframe, note how the index column \"element\" is in bold. "
   ]
  },
  {
   "cell_type": "markdown",
   "metadata": {},
   "source": [
    "Now that we've imported this data, we will learn some more fundamental python concepts in order to interogate the data at the end of the session. \n",
    "\n",
    "<br>"
   ]
  },
  {
   "cell_type": "markdown",
   "metadata": {},
   "source": [
    "## Accessing the dataframe\n",
    "***\n",
    "We are now going to try and view the dataframe in different ways </br>\n",
    "- data.head() shows us the first 5 lines of the dataframe.... Note how python counts from 0. </br>\n",
    "- data.tail() shows us the last 5 lines of the dataframe.</br>\n",
    "- data.columns() lists us all the column headers which are properties associated with the elements.\n",
    "\n",
    "Test them out below"
   ]
  },
  {
   "cell_type": "code",
   "execution_count": null,
   "metadata": {},
   "outputs": [],
   "source": [
    "data.head()"
   ]
  },
  {
   "cell_type": "code",
   "execution_count": null,
   "metadata": {},
   "outputs": [],
   "source": [
    "data.tail()"
   ]
  },
  {
   "cell_type": "code",
   "execution_count": null,
   "metadata": {
    "scrolled": true
   },
   "outputs": [],
   "source": [
    "data.columns"
   ]
  },
  {
   "cell_type": "markdown",
   "metadata": {},
   "source": [
    "We might also be interested in knowing what the datatypes are for the columns."
   ]
  },
  {
   "cell_type": "code",
   "execution_count": null,
   "metadata": {},
   "outputs": [],
   "source": [
    "print('Period is data type', data['Period'].dtype)"
   ]
  },
  {
   "cell_type": "markdown",
   "metadata": {},
   "source": [
    "It is also possible to change the datatype of a column in a dataframe using `.astype()` function."
   ]
  },
  {
   "cell_type": "code",
   "execution_count": null,
   "metadata": {},
   "outputs": [],
   "source": [
    "data['Period'] = data['Period'].astype(float)"
   ]
  },
  {
   "cell_type": "code",
   "execution_count": null,
   "metadata": {},
   "outputs": [],
   "source": [
    "print('Period is data type', data['Period'].dtype)"
   ]
  },
  {
   "cell_type": "markdown",
   "metadata": {},
   "source": [
    "<div class=\"alert alert-info\">\n",
    "Once we learn a little more about how to play around with arrays, we will come back and analyse this data.\n",
    "</div>"
   ]
  },
  {
   "cell_type": "markdown",
   "metadata": {},
   "source": [
    "# 2. Loops\n",
    "---\n",
    "<a id='loops'></a>\n",
    "![loop.png](images/loop.png)\n",
    "\n",
    "\n",
    "A loop is used for iterating over a set of statements.\n",
    "There are many different kinds of loops that can be useful in different situations. We are going to go through some of the most common types of loops. "
   ]
  },
  {
   "cell_type": "markdown",
   "metadata": {},
   "source": [
    "## 2.1. For loops\n",
    "<a id='s_loops'></a>\n",
    "This loop is used for iterating over some kind of a sequence. That can be a list, tuple, dictionary, string, etc.\n",
    "\n",
    "Everything that is inside the for statement is going to be executed a number of times.\n",
    "![loop2.png](images/loop2.png)\n",
    "    \n",
    "  \n",
    "***\n",
    "If we think about how we would define a **for loop** in python it would have the structure:\n",
    "```Python\n",
    "for var in iterable:\n",
    "    statement(s) \n",
    "```\n",
    "***\n",
    "Where:\n",
    "* **var** is a variable \n",
    "* **iterable** is a collection of objects such as a list or tuple\n",
    "* **statement(s)** in the loop body (denoted by the indent) are executed once for each item in **iterable**.\n",
    "\n",
    "The loop variable **var** takes on the value of the next element in **iterable** each time through the loop, until we have iterated through all items in **iterable**."
   ]
  },
  {
   "cell_type": "markdown",
   "metadata": {},
   "source": [
    "Let's take a look at some simple examples that show us how powerful `for` loops can be, and how they must be properly structured to be interpreted by Python. "
   ]
  },
  {
   "cell_type": "markdown",
   "metadata": {},
   "source": [
    "### Example 2.1.1\n",
    "***\n",
    "The first line of the for loop must end with a colon, and the body must be indented.\n"
   ]
  },
  {
   "cell_type": "code",
   "execution_count": null,
   "metadata": {},
   "outputs": [],
   "source": [
    "for number in [2,3,5]:\n",
    "    print(number)"
   ]
  },
  {
   "cell_type": "markdown",
   "metadata": {},
   "source": [
    "This `for` loop is equivalent to:"
   ]
  },
  {
   "cell_type": "code",
   "execution_count": null,
   "metadata": {},
   "outputs": [],
   "source": [
    "print(2)\n",
    "print(3)\n",
    "print(5)"
   ]
  },
  {
   "cell_type": "markdown",
   "metadata": {},
   "source": [
    "We can see that the `for` loop is a much more efficient way of doing this task, than having to type of print(value). "
   ]
  },
  {
   "cell_type": "markdown",
   "metadata": {},
   "source": [
    "Notice the importance of the first line of the `for` loop must end with a colon, and the body must be indented. The colon at the end of the first line signals the start of a block of statements. The indent shows nesting, and the indent can take many forms as long as its consistent. e.g. 4 spaces or a \"tab\". \n",
    "When using python within a Jupyter Notebook, as soon as you finish the `for` loop line with a colon, the next line automatically indents properly. However, lets look at what happens when you don't indent or include the colon."
   ]
  },
  {
   "cell_type": "code",
   "execution_count": null,
   "metadata": {},
   "outputs": [],
   "source": [
    "for number in [2,3,5]:\n",
    "print(number)"
   ]
  },
  {
   "cell_type": "code",
   "execution_count": null,
   "metadata": {},
   "outputs": [],
   "source": [
    "for number in [2,3,5]\n",
    "    print(number)"
   ]
  },
  {
   "cell_type": "markdown",
   "metadata": {},
   "source": [
    "### Example 2.1.2\n",
    "***\n",
    "\n"
   ]
  },
  {
   "cell_type": "markdown",
   "metadata": {},
   "source": [
    "Loop variables can be called anything. So please try to make them be as meaningful as possible"
   ]
  },
  {
   "cell_type": "code",
   "execution_count": null,
   "metadata": {},
   "outputs": [],
   "source": [
    "for kitten in [2, 3, 5]:\n",
    "    print(kitten)"
   ]
  },
  {
   "cell_type": "code",
   "execution_count": null,
   "metadata": {},
   "outputs": [],
   "source": [
    "for numbers in [2,3,5]:\n",
    "    print(numbers)"
   ]
  },
  {
   "cell_type": "markdown",
   "metadata": {},
   "source": [
    "### Example 2.1.3\n",
    "***"
   ]
  },
  {
   "cell_type": "markdown",
   "metadata": {},
   "source": [
    "The body of a loop can contain many statements.\n",
    "However, its best practise to keep a loop to no more than a few lines long."
   ]
  },
  {
   "cell_type": "code",
   "execution_count": null,
   "metadata": {},
   "outputs": [],
   "source": [
    "primes = [2, 3, 5]\n",
    "for p in primes:\n",
    "    squared = p ** 2\n",
    "    cubed = p ** 3\n",
    "    print(p, squared, cubed)"
   ]
  },
  {
   "cell_type": "markdown",
   "metadata": {},
   "source": [
    "### Example 2.1.4\n",
    "***"
   ]
  },
  {
   "cell_type": "markdown",
   "metadata": {},
   "source": [
    "Use `range` to iterate over a sequence of numbers.\n",
    "\n",
    "The built-in function `range` produces a sequence of numbers.\n",
    "\n",
    "Not a list: the numbers are produced on demand to make looping over large ranges more efficient. Its easier than typing `[2,3,5,7,9,11,13]` like we have done in above examples.\n",
    "\n",
    "`range(N)` is the numbers `0..N-1`\n",
    "\n",
    "Exactly the legal indices of a list or character string of length N\n",
    "\n",
    "e.g. `range(5)` would be `0,1,2,3,4`"
   ]
  },
  {
   "cell_type": "code",
   "execution_count": null,
   "metadata": {},
   "outputs": [],
   "source": [
    "print('a range is not a list: range(0, 3)')\n",
    "for number in range(0, 3):\n",
    "    print(number)"
   ]
  },
  {
   "cell_type": "markdown",
   "metadata": {},
   "source": [
    "### Example 2.1.5 \n",
    "***"
   ]
  },
  {
   "cell_type": "markdown",
   "metadata": {},
   "source": [
    "The Accumulator pattern turns many values into one.\n",
    "- A common pattern in programs is to:\n",
    " 1. Initialize an accumulator variable to zero, the empty string, or the empty list.\n",
    " 1. Update the variable with values from a collection."
   ]
  },
  {
   "cell_type": "code",
   "execution_count": null,
   "metadata": {},
   "outputs": [],
   "source": [
    "# Sum the first 10 integers.\n",
    "total = 0\n",
    "for number in range(10):\n",
    "    total = total + (number + 1)\n",
    "print(total)"
   ]
  },
  {
   "cell_type": "markdown",
   "metadata": {},
   "source": [
    "- Read total = total + (number + 1) as:\n",
    " - Add 1 to the current value of the loop variable number.\n",
    " - Add that to the current value of the accumulator variable total.\n",
    " - Assign that to total, replacing the current value.\n",
    "- We have to add number + 1 because range produces 0..9, not 1..10."
   ]
  },
  {
   "cell_type": "markdown",
   "metadata": {},
   "source": [
    "## Tasks 2.1"
   ]
  },
  {
   "cell_type": "markdown",
   "metadata": {},
   "source": [
    "<div class=\"alert alert-success\">\n",
    "<b>Task 2.1.1: Practice Accumulating 1</b>\n",
    "</div>\n",
    "\n",
    "Fill in the blanks "
   ]
  },
  {
   "cell_type": "code",
   "execution_count": null,
   "metadata": {},
   "outputs": [],
   "source": [
    "# Total length of the strings in the list: [\"red\", \"green\", \"blue\"] => 12\n",
    "total = 0\n",
    "for word in [\"red\", \"green\", \"blue\"]:\n",
    "    ____ = ____ + len(word)\n",
    "print(total)"
   ]
  },
  {
   "cell_type": "markdown",
   "metadata": {},
   "source": [
    "##### Solution\n",
    "<details><summary {style='color:green;font-weight:bold'}> Click here to see solution to Task 2.1.1 </summary>\n",
    "    \n",
    "```python\n",
    "total = 0\n",
    "for word in [\"red\", \"green\", \"blue\"]:\n",
    "    total = total + len(word)\n",
    "print(total)\n",
    "```\n",
    "</details>  "
   ]
  },
  {
   "cell_type": "markdown",
   "metadata": {},
   "source": [
    "<div class=\"alert alert-success\">\n",
    "<b>Task 2.1.2: Practice Accumulating 2</b>\n",
    "</div>\n",
    "Fill in the blanks "
   ]
  },
  {
   "cell_type": "code",
   "execution_count": null,
   "metadata": {},
   "outputs": [],
   "source": [
    "# List of word lengths: [\"red\", \"green\", \"blue\"] => [3, 5, 4]\n",
    "lengths = ____\n",
    "for word in [\"red\", \"green\", \"blue\"]:\n",
    "    lengths.____(____)\n",
    "print(lengths)"
   ]
  },
  {
   "cell_type": "markdown",
   "metadata": {},
   "source": [
    "##### Solution\n",
    "<details><summary {style='color:green;font-weight:bold'}> Click here to see solution to Task 2.1.2 </summary>\n",
    "    \n",
    "```python\n",
    " \n",
    "lengths = []\n",
    "for word in [\"red\", \"green\", \"blue\"]:\n",
    "    lengths.append(len(word))\n",
    "print(lengths)\n",
    "\n",
    "```\n",
    "\n",
    "\n",
    " </details>"
   ]
  },
  {
   "cell_type": "markdown",
   "metadata": {},
   "source": [
    "<div class=\"alert alert-success\">\n",
    "<b>Task 2.1.3: Practice Accumulating 3</b>\n",
    "</div>\n",
    "Fill in the blanks"
   ]
  },
  {
   "cell_type": "code",
   "execution_count": null,
   "metadata": {},
   "outputs": [],
   "source": [
    "# Concatenate all words: [\"red\", \"green\", \"blue\"] => \"redgreenblue\"\n",
    "words = [\"red\", \"green\", \"blue\"]\n",
    "result = ____\n",
    "for ____ in ____:\n",
    "    ____\n",
    "print(result)"
   ]
  },
  {
   "cell_type": "markdown",
   "metadata": {},
   "source": [
    "##### Solution\n",
    "<details><summary {style='color:green;font-weight:bold'}> Click here to see solution to Task 2.1.3 </summary>\n",
    "    \n",
    "```python\n",
    "words = [\"red\", \"green\", \"blue\"]\n",
    "result = \"\"\n",
    "for word in words:\n",
    "    result = result + word\n",
    "print(result)\n",
    "\n",
    "```\n",
    "\n",
    "\n",
    " </details>\n"
   ]
  },
  {
   "cell_type": "markdown",
   "metadata": {},
   "source": [
    "<div class=\"alert alert-success\">\n",
    "<b>Task 2.1.4: Create a whole loop</b>\n",
    "</div>\n",
    "\n",
    "Start out with an empty string `acronym=\"\"`.\n",
    "Generate a loop that uses the words 'red', 'green', 'blue' and the function `upper()` that by the end of the loop the acronym contains \"RBG\" when you type `print(acronym)`"
   ]
  },
  {
   "cell_type": "code",
   "execution_count": null,
   "metadata": {},
   "outputs": [],
   "source": [
    "# Your solution here:\n",
    "acronym = \"\"\n",
    "\n",
    "\n",
    "print(acronym)"
   ]
  },
  {
   "cell_type": "markdown",
   "metadata": {},
   "source": [
    "##### Solution\n",
    "\n",
    "<details><summary {style='color:green;font-weight:bold'}> Click here to see solution to Task 2.1.4 </summary>\n",
    "    \n",
    "```python\n",
    "acronym = \"\"\n",
    "for word in [\"red\", \"green\", \"blue\"]:\n",
    "    acronym = acronym + word[0].upper()\n",
    "print(acronym)\n",
    "\n",
    "```\n",
    "\n",
    "\n",
    " </details>"
   ]
  },
  {
   "cell_type": "markdown",
   "metadata": {},
   "source": [
    "<div class=\"alert alert-success\">\n",
    "<b>Task 2.1.5: Cumulative Sum</b>\n",
    "</div>\n",
    "\n",
    "Reorder and properly indent the lines of code below so that they print a list with the cumulative sum of data. The result should be `[1, 3, 5, 10]`."
   ]
  },
  {
   "cell_type": "code",
   "execution_count": null,
   "metadata": {},
   "outputs": [],
   "source": [
    "cumulative.append(sum)\n",
    "for number in data:\n",
    "cumulative = []\n",
    "sum += number\n",
    "sum = 0\n",
    "print(cumulative)\n",
    "data = [1,2,2,5]"
   ]
  },
  {
   "cell_type": "markdown",
   "metadata": {},
   "source": [
    "#### Solution\n",
    "<details><summary {style='color:green;font-weight:bold'}> Click here to see solution to Task 2.1.5 </summary>\n",
    "    \n",
    "```python\n",
    "data = [1,2,2,5]\n",
    "cumulative = []\n",
    "sum = 0\n",
    "for number in data:\n",
    "    sum += number\n",
    "    cumulative.append(sum)\n",
    "print(cumulative)\n",
    "\n",
    "```\n",
    "\n",
    "\n",
    " </details>"
   ]
  },
  {
   "cell_type": "markdown",
   "metadata": {},
   "source": [
    "<div class=\"alert alert-success\">\n",
    "<b>Task 2.1.6: Identifying Variable Name Errors</b>\n",
    "</div>\n",
    "\n",
    "1. Read the code below and try to identify what the errors are without running it.\n",
    "2. Run the code and read the error message. What type of `NameError` do you think this is? Is it a string with no quotes, a misspelled variable, or a variable that should have been defined but was not?\n",
    "3. Fix the error.\n",
    "4. Repeat steps 2 and 3, until you have fixed all the errors."
   ]
  },
  {
   "cell_type": "code",
   "execution_count": null,
   "metadata": {},
   "outputs": [],
   "source": [
    "for number in range(10):\n",
    "    # use a if the number is a multiple of 3, otherwise use b\n",
    "    if (Number % 3) == 0:\n",
    "        message = message + a\n",
    "    else:\n",
    "        message = message + \"b\"\n",
    "print(message)"
   ]
  },
  {
   "cell_type": "markdown",
   "metadata": {},
   "source": [
    "##### Solution\n",
    "<details><summary {style='color:green;font-weight:bold'}> Click here to see solution to Task 2.1.6 </summary>\n",
    "    \n",
    "```python\n",
    "message = \"\"\n",
    "for number in range(10):\n",
    "    # use a if the number is a multiple of 3, otherwise use b\n",
    "    if (number % 3) == 0:\n",
    "        message = message + \"a\"\n",
    "    else:\n",
    "        message = message + \"b\"\n",
    "print(message)\n",
    "\n",
    "```\n",
    "##### Explanation:\n",
    "The variable `message` needs to be initialized and Python variable names are case sensitive: `number` and `Number` refer to different variables.\n",
    "\n",
    " </details>\n"
   ]
  },
  {
   "cell_type": "markdown",
   "metadata": {},
   "source": [
    "<div class=\"alert alert-info\"> <b>Key Points</b></div>\n",
    "\n",
    "- A for loop executes commands once for each value in a collection.\n",
    "- A `for` loop is made up of a collection, a loop variable, and a body.\n",
    "- The first line of the `for` loop must end with a colon, and the body must be indented.\n",
    "- Indentation is always meaningful in Python.\n",
    "- Loop variables can be called anything (but it is strongly advised to have a meaningful name to the looping variable).\n",
    "- The body of a loop can contain many statements.\n",
    "- Use `range` to iterate over a sequence of numbers.\n",
    "- The Accumulator pattern turns many values into one."
   ]
  },
  {
   "cell_type": "markdown",
   "metadata": {},
   "source": [
    "## 2.2. Conditional loops\n",
    "***\n",
    "<a id='c_loops'></a>"
   ]
  },
  {
   "cell_type": "markdown",
   "metadata": {},
   "source": [
    "Computer programming is often referred to as a \"language\" and often we use similar nomenclature to traditional languages. Here we will discover how conditional `loops` are interpretted by Python. Conditionals are used much like the tense in languages to speculate about what could happen with respect to an if clause. \n",
    "\n",
    "E.g. If it rains, take an umbrella. Or, if the pH is below 7, its acidic. \n",
    "\n",
    "Notice how the first phrase controls the content of the second phrase.\n",
    "\n",
    "E.g. If its sunny, wear sunscreen. Or if the pH is above 7, its basic. \n",
    "\n",
    "\n",
    "We could take this analogy and allow more options,\n",
    "e.g.  if the pH is above 7, its basic. Otherwise (or else) its acidic. Notice how we can categories the information by these conditional statements. \n",
    "\n",
    "\n",
    "We can use if statements to allow our computer programs to do different things for different data. "
   ]
  },
  {
   "cell_type": "markdown",
   "metadata": {},
   "source": [
    "### Use `if` statements to control whether or not a block of code is executed."
   ]
  },
  {
   "cell_type": "markdown",
   "metadata": {},
   "source": [
    "### Example 2.2.1 - `if`\n",
    "***"
   ]
  },
  {
   "cell_type": "markdown",
   "metadata": {},
   "source": [
    "Use an `if` statement to control whether or not a block of code is executed.\n",
    "- An `if` statement (more properly called a conditional statement) controls whether some block of code is executed or not.\n",
    "- Structure is similar to a `for` statement:\n",
    " - First line opens with if and ends with a colon\n",
    " - Body containing one or more statements is indented (usually by 4 spaces or a tab)"
   ]
  },
  {
   "cell_type": "code",
   "execution_count": null,
   "metadata": {},
   "outputs": [],
   "source": [
    "mass = 3.54\n",
    "if mass > 3.0:\n",
    "    print(mass, 'is large')"
   ]
  },
  {
   "cell_type": "code",
   "execution_count": null,
   "metadata": {},
   "outputs": [],
   "source": [
    "mass = 2.07\n",
    "if mass > 3.0:\n",
    "    print (mass, 'is large')"
   ]
  },
  {
   "cell_type": "markdown",
   "metadata": {},
   "source": [
    "Things that you should notice:\n",
    "- The importance of ending the first line of the for loop in a colon.\n",
    "- How the computer does not return anything in the second code block as it does not meet the `if` statement criteria. "
   ]
  },
  {
   "cell_type": "markdown",
   "metadata": {},
   "source": [
    "### Example 2.2.2 - `if`\n",
    "***"
   ]
  },
  {
   "cell_type": "markdown",
   "metadata": {},
   "source": [
    "Conditionals are often used inside loops.\n",
    "- Not much point using a conditional when we know the value (as above).\n",
    "- But useful when we have a collection to process."
   ]
  },
  {
   "cell_type": "code",
   "execution_count": null,
   "metadata": {},
   "outputs": [],
   "source": [
    "masses = [3.54, 2.07, 9.22, 1.86, 1.71]\n",
    "for mass in masses:\n",
    "    if mass > 3.0:\n",
    "        print(mass, 'is large')"
   ]
  },
  {
   "cell_type": "markdown",
   "metadata": {},
   "source": [
    "### Example 2.2.3 - `if` and `else`\n",
    "***"
   ]
  },
  {
   "cell_type": "markdown",
   "metadata": {},
   "source": [
    "Use `else` to execute a block of code when an `if` condition is not true.\n",
    "- `else` can be used following an if.\n",
    "- Allows us to specify an alternative to execute when the `if` branch isn’t taken."
   ]
  },
  {
   "cell_type": "code",
   "execution_count": null,
   "metadata": {},
   "outputs": [],
   "source": [
    "masses = [3.54, 2.07, 9.22, 1.86, 1.71]\n",
    "for mass in masses:\n",
    "    if mass > 3.0:\n",
    "        print(mass, 'is large')\n",
    "    else:\n",
    "        print(mass, 'is small')"
   ]
  },
  {
   "cell_type": "markdown",
   "metadata": {},
   "source": [
    "### Example 2.2.4 - `if` and `elif`\n",
    "***"
   ]
  },
  {
   "cell_type": "markdown",
   "metadata": {},
   "source": [
    "Use `elif` to specify additional tests.\n",
    "- May want to provide several alternative choices, each with its own test.\n",
    "- Use `elif` (short for “else if”) and a condition to specify these.\n",
    "- Always associated with an `if`.\n",
    "- Must come before the `else` (which is the “catch all”)."
   ]
  },
  {
   "cell_type": "code",
   "execution_count": null,
   "metadata": {},
   "outputs": [],
   "source": [
    "masses = [3.54, 2.07, 9.22, 1.86, 1.71]\n",
    "for mass in masses:\n",
    "    if mass > 9.0:\n",
    "        print(mass, 'is HUGE')\n",
    "    elif mass > 3.0:\n",
    "        print(mass, 'is large')\n",
    "    else:\n",
    "        print(mass, 'is small')"
   ]
  },
  {
   "cell_type": "markdown",
   "metadata": {},
   "source": [
    "### Example 2.2.5 - order of conditions\n",
    "***"
   ]
  },
  {
   "cell_type": "markdown",
   "metadata": {},
   "source": [
    "Conditions are tested once, in order.\n",
    "- Python steps through the branches of the conditional in order, testing each in turn.\n",
    "- So ordering matters."
   ]
  },
  {
   "cell_type": "code",
   "execution_count": null,
   "metadata": {},
   "outputs": [],
   "source": [
    "grade = 85\n",
    "if grade >= 70:\n",
    "    print('grade is C')\n",
    "elif grade >= 80:\n",
    "    print('grade is B')\n",
    "elif grade >= 90:\n",
    "    print('grade is A')"
   ]
  },
  {
   "cell_type": "markdown",
   "metadata": {},
   "source": [
    "We can see here that our condition is met in the first conditional `if` statement, so none of the `elif` statements are evaluated."
   ]
  },
  {
   "cell_type": "markdown",
   "metadata": {},
   "source": [
    "### Example 2.2.6 - using conditionals to evolve the values of variables\n",
    "***"
   ]
  },
  {
   "cell_type": "markdown",
   "metadata": {},
   "source": [
    "In the example below we use `if` and `else` within a `for` loop in order to change the value of `velocity`.\n",
    "\n",
    "Notice:\n",
    "- the indent for the `for` loop and also for the `if` and `else` statements.\n",
    "- the use of the colon at the end of `for`, `if` and `else` statements.\n",
    "- The program must have a `print` statement outside the body of the loop to show the final value of velocity, since its value is updated by the last iteration of the loop."
   ]
  },
  {
   "cell_type": "code",
   "execution_count": null,
   "metadata": {},
   "outputs": [],
   "source": [
    "velocity = 10.0\n",
    "for i in range(5): # execute the loop 5 times\n",
    "    print(\"try\",i, ':', velocity)\n",
    "    if velocity > 20.0:\n",
    "        print('moving too fast')\n",
    "        velocity = velocity - 5.0\n",
    "    else:\n",
    "        print('moving too slow')\n",
    "        velocity = velocity + 10.0\n",
    "print('final velocity:', velocity)"
   ]
  },
  {
   "cell_type": "markdown",
   "metadata": {},
   "source": [
    "## Tasks 2.2"
   ]
  },
  {
   "cell_type": "markdown",
   "metadata": {},
   "source": [
    "<div class=\"alert alert-success\">\n",
    "<b>Task 2.2.1: Trimming values:</b>\n",
    "</div>\n",
    "\n",
    "Fill in the blanks so that this program creates a new list containing zeroes where the original list’s values were negative and ones where the original list’s values were positive."
   ]
  },
  {
   "cell_type": "code",
   "execution_count": null,
   "metadata": {},
   "outputs": [],
   "source": [
    "original = [-1.5, 0.2, 0.4, 0.0, -1.3, 0.4]\n",
    "result = ____\n",
    "for value in original:\n",
    "    if ____:\n",
    "        result.append(0)\n",
    "    else:\n",
    "        ____\n",
    "print(result)"
   ]
  },
  {
   "cell_type": "markdown",
   "metadata": {},
   "source": [
    "Output should look like this:   \n",
    "```[0, 1, 1, 1, 0, 1]```"
   ]
  },
  {
   "cell_type": "markdown",
   "metadata": {},
   "source": [
    "##### Solution\n",
    "<details><summary {style='color:green;font-weight:bold'}> Click here to see solution to Task 2.2.1 </summary>\n",
    "    \n",
    "```python\n",
    "    \n",
    "original = [-1.5, 0.2, 0.4, 0.0, -1.3, 0.4]\n",
    "result = []\n",
    "for value in original:\n",
    "    if value<0.0:\n",
    "        result.append(0)\n",
    "    else:\n",
    "        result.append(1)\n",
    "print(result)\n",
    "\n",
    "```\n",
    "\n",
    "\n",
    " </details>"
   ]
  },
  {
   "cell_type": "markdown",
   "metadata": {},
   "source": [
    "<div class=\"alert alert-success\">\n",
    "<b>Task 2.2.2: Initializing</b>\n",
    "</div>\n",
    "\n",
    "Modify this program so that it finds the largest and smallest values in the list no matter what the range of values originally is.\n",
    "\n",
    "What are the advantages and disadvantages of using this method to find the range of the data?"
   ]
  },
  {
   "cell_type": "code",
   "execution_count": null,
   "metadata": {},
   "outputs": [],
   "source": [
    "values = [...some test data...]\n",
    "smallest, largest = None, None\n",
    "for v in values:\n",
    "    if ____:\n",
    "        smallest, largest = v, v\n",
    "    ____:\n",
    "        smallest = min(____, v)\n",
    "        largest = max(____, v)\n",
    "print(smallest, largest)"
   ]
  },
  {
   "cell_type": "markdown",
   "metadata": {},
   "source": [
    "##### Solution\n",
    "\n",
    "<details><summary {style='color:green;font-weight:bold'}> Click here to see solution to Task 2.2.2 </summary>\n",
    "    \n",
    "```python\n",
    "values = [-2,1,65,78,-54,-24,100]\n",
    "smallest, largest = None, None\n",
    "for v in values:\n",
    "    if smallest==None and largest==None:\n",
    "        smallest, largest = v, v\n",
    "    else:\n",
    "        smallest = min(smallest, v)\n",
    "        largest = max(largest, v)\n",
    "print(smallest, largest)\n",
    "\n",
    "```\n",
    "\n",
    "\n",
    " </details>"
   ]
  },
  {
   "cell_type": "markdown",
   "metadata": {},
   "source": [
    "<div class=\"alert alert-info\"> <b>Key Points</b></div>\n",
    "\n",
    "- Use `if` statements to control whether or not a block of code is executed.\n",
    "- Conditionals are often used inside loops.\n",
    "- Use `else` to execute a block of code when an `if` condition is *not* true.\n",
    "- Use `elif` to specify additional tests.\n",
    "- Conditions are tested once, in order.\n",
    "- Create a table showing variables’ values to trace a program’s execution."
   ]
  },
  {
   "cell_type": "markdown",
   "metadata": {},
   "source": [
    "----\n",
    "## 2.3 Boolean Indexing <a class=\"anchor\" id=\"bool\"></a>"
   ]
  },
  {
   "cell_type": "markdown",
   "metadata": {},
   "source": [
    "<img src=\"https://upload.wikimedia.org/wikipedia/commons/c/ce/George_Boole_color.jpg\" width=\"250\" style=\"float: right\">\n",
    "\n",
    "Related to `if`,  `elif` and `else` conditions are Booleans.\n",
    "\n",
    "\n",
    "**George Boole** was a 19th century self-taught English mathematician, philosopher and logician. He is known for Boolean algerbra, that is based on variables being **True** or **False**, denoted as **1** and **0** respectively. \n",
    "\n",
    "The operations in Boolean algebra are **and** denoted as $\\wedge$, **or** denoted as $\\vee$ , and **not** denoted as $\\neg$.\n",
    "\n",
    "<img src=\"https://upload.wikimedia.org/wikipedia/commons/thumb/a/ae/Vennandornot.svg/2560px-Vennandornot.svg.png\" width=\"300\" style=\"float: center\" title=\"Venn diagram\"> <em><center>Venn diagram</center></em>\n",
    "\n",
    "In fact, in using `if` we have already asked python to do a Boolean operation. If our answer to our if statement is true, we continue with our conditional loop. The return of the Boolean variable `true` or `false` is what determines the fate of our `if` loop. \n"
   ]
  },
  {
   "cell_type": "markdown",
   "metadata": {},
   "source": [
    "### Bitwise Operators\n",
    "\n",
    "In python there are many ways to do the same Boolean operations, we are going to use Bitwise operators which compare binary \n",
    "\n",
    "<div class=\"alert alert-info\">\n",
    "    \n",
    "| Operator | Name | Description |\n",
    "| :- | :- | :- |\n",
    "| `&` | AND | Sets each bit to 1 if both bits are 1 |\n",
    "|  &#124; | OR | Sets each bit to 1 if one of two bits is 1 |\n",
    "| `^` | XOR | Sets each bit to 1 if only one of two bits is 1 |\n",
    "| `~` | NOT | Inverts all the bits |\n",
    "| `<<` | Zero fill left shift | Shift left by pushing zeros in from the right and let the leftmost bits fall off |\n",
    "| `>>` | Signed right shift | Shift right by pushing copies of the leftmost bit in from the left, and let the rightmost bits fall off |\n",
    "\n",
    "</div>"
   ]
  },
  {
   "cell_type": "markdown",
   "metadata": {},
   "source": [
    "\n",
    "### Boolean Tests <a class=\"anchor\" id=\"booltest\"></a>\n",
    "\n",
    "Boolean tests on an array produce an array of booleans:\n",
    "\n",
    "<img src=\"images/BooleanOp.png\" width=\"500\">\n",
    "\n",
    "\n",
    "What we can see here is for each value in this series, what the Boolean outcome would be for two tests. \n"
   ]
  },
  {
   "cell_type": "code",
   "execution_count": null,
   "metadata": {},
   "outputs": [],
   "source": [
    "#declare a series dataframe (just 1D dataframe, like one column of an excel sheet)\n",
    "a = pd.Series([32, 2, 65, 29, 7, 14, 57, 81, 27, 0, 56])\n",
    "\n",
    "#take a look at the format of the series\n",
    "print(\"Series a\")\n",
    "print(a)\n",
    "print(\" \")\n",
    "\n",
    "#declare tests\n",
    "c = a[a>15]\n",
    "d = a[a<0]\n",
    "\n",
    "print (\"condition c = a>15 \", c)\n",
    "print(\" \")\n",
    "print (\"condition d = a<0 \", d)\n"
   ]
  },
  {
   "cell_type": "markdown",
   "metadata": {},
   "source": [
    "Both tests c and d are satisfied one after the other. \n",
    "What if we want to satisfy both tests at the same time?"
   ]
  },
  {
   "cell_type": "code",
   "execution_count": null,
   "metadata": {},
   "outputs": [],
   "source": [
    "#AND logic\n",
    "print(c & d)"
   ]
  },
  {
   "cell_type": "markdown",
   "metadata": {},
   "source": [
    "Here, you can see the output is False, and shows you all the indices where they are False. \n",
    "\n",
    "Now if we try `or` :"
   ]
  },
  {
   "cell_type": "code",
   "execution_count": null,
   "metadata": {},
   "outputs": [],
   "source": [
    "#OR logic\n",
    "print(c | d)"
   ]
  },
  {
   "cell_type": "markdown",
   "metadata": {},
   "source": [
    "###  Boolean Indexing in Series <a class=\"anchor\" id=\"boolind\"></a>\n",
    "We can also use an array of booleans to index another array, i.e. only elements coresponding to **True** are extracted from the indexed array.\n",
    "\n",
    "<img src=\"images/Boolean.png\" width=\"500\">"
   ]
  },
  {
   "cell_type": "code",
   "execution_count": null,
   "metadata": {},
   "outputs": [],
   "source": [
    "c = a>15\n",
    "d = a<0\n",
    "a_cVd = a[c | d]\n",
    "print(a_cVd)"
   ]
  },
  {
   "cell_type": "markdown",
   "metadata": {},
   "source": [
    "### Boolean Indexing in DataFrames\n",
    "\n",
    "Using these same logical principles, we can index whole dataframes to recover just the data we need. \n",
    "Let's take a look at the dataframe below:"
   ]
  },
  {
   "cell_type": "code",
   "execution_count": null,
   "metadata": {},
   "outputs": [],
   "source": [
    "# dictionary of lists\n",
    "dict = {'name':[\"Toni\", \"James\", \"Claire\", \"Valentina\"],\n",
    "        'degree': [\"Chemistry\", \"Medicinal and Biological Chemistry\", \"Chemical Physics\", \"Chemical Physics\"],\n",
    "        'score':[90, 77, 61, 98]}\n",
    " \n",
    "# creating a dataframe from a dictionary\n",
    "df = pd.DataFrame(dict)\n",
    "\n",
    "print(df)\n"
   ]
  },
  {
   "cell_type": "markdown",
   "metadata": {},
   "source": [
    "Now let's use the comparison operator to filter just those who do MBC."
   ]
  },
  {
   "cell_type": "code",
   "execution_count": null,
   "metadata": {},
   "outputs": [],
   "source": [
    "# using a comparison operator for filtering of data\n",
    "    \n",
    "Cr=df[\"degree\"] == \"Medicinal and Biological Chemistry\"\n",
    "print(Cr)\n",
    "#print(df['degree'] == 'Medicinal and Biological Chemistry')"
   ]
  },
  {
   "cell_type": "code",
   "execution_count": null,
   "metadata": {},
   "outputs": [],
   "source": [
    "# Apply the indexing to our dataframe to return only those that fit our criteria\n",
    "print(df[Cr])"
   ]
  },
  {
   "cell_type": "code",
   "execution_count": null,
   "metadata": {},
   "outputs": [],
   "source": [
    "# Apply the indexing to our dataframe to return only those that DO NOT fit our criteria\n",
    "print(df[~Cr])"
   ]
  },
  {
   "cell_type": "markdown",
   "metadata": {},
   "source": [
    "---\n",
    "# Tasks 2.3\n",
    "---"
   ]
  },
  {
   "cell_type": "markdown",
   "metadata": {},
   "source": [
    "<div class=\"alert alert-success\">\n",
    "    <b>TASK 2.3.1 </b> : Using the mass spec data in the file ms.txt, find m/z values in the region between m/z 6400 and 6600. \n",
    "</div>\n"
   ]
  },
  {
   "cell_type": "code",
   "execution_count": null,
   "metadata": {},
   "outputs": [],
   "source": [
    "#Your solution here\n",
    "\n",
    "#Read the file ms.txt into the dataframe, and make sure to give the data column names\n",
    "ms_data = pd.read_csv(filepath_or_buffer=____, sep=___, header=____, names = [_____])\n",
    "\n",
    "#criteria for slicing data\n",
    "\n",
    "print(Output)"
   ]
  },
  {
   "cell_type": "markdown",
   "metadata": {},
   "source": [
    "##### Solution\n",
    "\n",
    "<details><summary {style='color:green;font-weight:bold'}> Click here to see solution to Task 2.3.1 </summary>\n",
    "    \n",
    "```python\n",
    "ms_data = pd.read_csv(filepath_or_buffer=\"files/ms.txt\", sep=\"\\t\", header=None, \n",
    "                 names=[\"m/z\", \"intensity\"])\n",
    "\n",
    "#criteria for slicing data\n",
    "Crit1 = ms_data[\"m/z\"] > 6400\n",
    "Crit2 = ms_data[\"m/z\"]< 6600\n",
    "Output = ms_data[Crit1 & Crit2 ]\n",
    "print(Output)\n",
    "\n",
    "```\n",
    "\n",
    "**explanation** we need to know the path to the file, look at the file to work out how the columns of data are separated, does the data have headers?, what should the column names be?\n",
    " </details>"
   ]
  },
  {
   "cell_type": "markdown",
   "metadata": {},
   "source": [
    "<div class=\"alert alert-success\">\n",
    "    <b>TASK 2.3.2 </b> : Assess at what m/z value there is a peak between 6400 and 6600. \n",
    "</div>"
   ]
  },
  {
   "cell_type": "code",
   "execution_count": null,
   "metadata": {},
   "outputs": [],
   "source": [
    "#Your solution here\n"
   ]
  },
  {
   "cell_type": "markdown",
   "metadata": {},
   "source": [
    "##### Solution\n",
    "\n",
    "<details><summary {style='color:green;font-weight:bold'}> Click here to see solution to Task 2.3.2 </summary>\n",
    "    \n",
    "```python\n",
    "intensity = Output[\"intensity\"]\n",
    "m_z = Output[\"m/z\"]\n",
    "max_value = intensity.max()\n",
    "max_index = intensity.idxmax()\n",
    "\n",
    "print(\"peak\", max_value, \"at m/z\", m_z[max_index])\n",
    "\n",
    "```\n",
    "\n",
    "\n",
    " </details>"
   ]
  },
  {
   "cell_type": "markdown",
   "metadata": {},
   "source": [
    "## 2.3. Using pandas dataframe with loops to analyse data\n",
    "<a id='p_loops'></a>"
   ]
  },
  {
   "cell_type": "markdown",
   "metadata": {},
   "source": [
    "We are now going to play around with the dataframe we looked at earlier containing information about the periodic table and pull out some more information from this."
   ]
  },
  {
   "cell_type": "code",
   "execution_count": null,
   "metadata": {},
   "outputs": [],
   "source": [
    "ptable = pd.read_csv(\"files/ptable.csv\")"
   ]
  },
  {
   "cell_type": "code",
   "execution_count": null,
   "metadata": {},
   "outputs": [],
   "source": [
    "print(ptable.loc[0, :]) # the entries in the df are ordered 0 to 117 for each element. 0 is hydrogen."
   ]
  },
  {
   "cell_type": "markdown",
   "metadata": {},
   "source": [
    "We can see that there are some variables which return \"NaN\" (Not a number), we can remove or fill these values easily in pandas."
   ]
  },
  {
   "cell_type": "code",
   "execution_count": null,
   "metadata": {},
   "outputs": [],
   "source": [
    "ptable"
   ]
  },
  {
   "cell_type": "markdown",
   "metadata": {},
   "source": [
    "We are going to add a new column to our dataframe, which will calculate the mass number from the number of neutron and protons which we already have in two columns. This is just done as a simple addition of the two columns."
   ]
  },
  {
   "cell_type": "code",
   "execution_count": null,
   "metadata": {},
   "outputs": [],
   "source": [
    "# add new column to the dataframe\n",
    "ptable[\"Calculated_mass_number\"] = ptable[\"NumberofNeutrons\"] + ptable[\"NumberofProtons\"]"
   ]
  },
  {
   "cell_type": "markdown",
   "metadata": {},
   "source": [
    "Calculate the difference between our calculated value `Calculated_mass_number` and the value given in the array originally `AtomicMass`. <br>\n",
    "Think about why the values would be different."
   ]
  },
  {
   "cell_type": "code",
   "execution_count": null,
   "metadata": {},
   "outputs": [],
   "source": [
    "ptable[\"Difference_in_mass\"] = ptable[\"Calculated_mass_number\"] - ptable[\"AtomicMass\"]\n",
    "for i in range(len(ptable)):\n",
    "    Name = ptable.iloc[i,1]\n",
    "    Difference = ptable.iloc[i, -1]\n",
    "    print(\"Difference in mass for\", Name, Difference)"
   ]
  },
  {
   "cell_type": "markdown",
   "metadata": {},
   "source": [
    "---\n",
    "Now let's use some Boolean logic on the periodic table data. Below we will look for all elements that exist as solid as standard temperature and pressure. "
   ]
  },
  {
   "cell_type": "code",
   "execution_count": null,
   "metadata": {},
   "outputs": [],
   "source": [
    "solids = ptable[ptable['Phase'] =='solid']\n",
    "solids"
   ]
  },
  {
   "cell_type": "markdown",
   "metadata": {},
   "source": [
    "<div class=\"alert alert-success\">\n",
    "    <b>TASK 2.3.1 </b> : set boolean tests to check what elements are liquid at 297 K, and extract the names of those elements.\n",
    "</div>\n"
   ]
  },
  {
   "cell_type": "code",
   "execution_count": null,
   "metadata": {},
   "outputs": [],
   "source": [
    "##WHAT columns from the dataframe will we need?\n",
    "\n",
    "\n",
    "\n",
    "#SET Boolean tests to check what is liquid at 297 K (room T)\n",
    "\n",
    "\n",
    "\n",
    "#RUN the test and print names of elements that are liquid at room temperature\n",
    "\n"
   ]
  },
  {
   "cell_type": "markdown",
   "metadata": {},
   "source": [
    "<details>\n",
    "    <summary> <mark> COMPLETE SOLUTION:</mark> </summary>\n",
    "\n",
    "    \n",
    "```python\n",
    "    \n",
    "#what columns from the dataframe will we need?    \n",
    "element = ptable[\"Element\"]\n",
    "melting = ptable[\"MeltingPoint\"]\n",
    "boiling = ptable[\"BoilingPoint\"]\n",
    "    \n",
    "#boolean to check what is liquid at 297 K (room T)\n",
    "    \n",
    "T1 = melting<297\n",
    "T2 = boiling>297\n",
    "\n",
    "criteria = T1 & T2\n",
    "print(element[criteria])\n",
    "\n",
    "```\n",
    "    \n",
    "\n",
    "</details>\n"
   ]
  },
  {
   "cell_type": "markdown",
   "metadata": {},
   "source": [
    "# 3. Plotting with Pandas\n",
    "***\n",
    "<a id='plotting'></a>"
   ]
  },
  {
   "cell_type": "markdown",
   "metadata": {},
   "source": [
    "Plotting can be done in many ways within python. At first we will just use plotting straight from pandas. It uses a popular library `matplotlib` in the background. As we progress to later sessions we will use this directly, but for now we will just stick to pandas plotting. \n",
    "\n",
    "We can use the pandas dataframe to easily plot columns with matplotlib. <br>\n",
    "\n",
    "The easiest thing we could do, would be to plot all variables against our index\n",
    "\n",
    "with: "
   ]
  },
  {
   "cell_type": "code",
   "execution_count": null,
   "metadata": {},
   "outputs": [],
   "source": [
    "ptable.plot()"
   ]
  },
  {
   "cell_type": "markdown",
   "metadata": {},
   "source": [
    "However, we can see that this is not very informative, and we must use our knowledge that we have learned in the previous session and earlier in this session to plot the data more sensibly. <br>\n",
    "We can access what columns we can plot against each other with this command:"
   ]
  },
  {
   "cell_type": "code",
   "execution_count": null,
   "metadata": {},
   "outputs": [],
   "source": [
    "ptable.columns"
   ]
  },
  {
   "cell_type": "markdown",
   "metadata": {},
   "source": [
    "Now, let's take two variables from the column headers and plot them against each other.<br>\n",
    "Let's see if we can see trends in the periods of the periodic table."
   ]
  },
  {
   "cell_type": "code",
   "execution_count": null,
   "metadata": {
    "scrolled": true
   },
   "outputs": [],
   "source": [
    "ptable.plot.scatter(x = 'AtomicNumber', y = 'AtomicRadius')"
   ]
  },
  {
   "cell_type": "markdown",
   "metadata": {},
   "source": [
    "We can clearly see the trends of each period in the periodic table."
   ]
  },
  {
   "cell_type": "markdown",
   "metadata": {},
   "source": [
    "Now lets try another type of plot which isn't scatter. \n",
    "We can use a pie chart to show how many elements were discovered in each location. \n",
    "\n",
    "Pandas has a handy `values_counts()` function that we can use on our column of this data."
   ]
  },
  {
   "cell_type": "code",
   "execution_count": null,
   "metadata": {
    "scrolled": true
   },
   "outputs": [],
   "source": [
    "counting = ptable.discovery_location.value_counts()\n",
    "print(counting)"
   ]
  },
  {
   "cell_type": "code",
   "execution_count": null,
   "metadata": {},
   "outputs": [],
   "source": [
    "#then we can plot these data as a piechart\n",
    "\n",
    "counting.plot.pie(figsize=(10,10))"
   ]
  },
  {
   "cell_type": "markdown",
   "metadata": {},
   "source": [
    "We can also loop over our columns in ptable and plot them as a function of \"Element\"."
   ]
  },
  {
   "cell_type": "code",
   "execution_count": null,
   "metadata": {},
   "outputs": [],
   "source": [
    "for i in ptable.columns[4:9]:\n",
    "    print(i)\n",
    "    fig = plt.figure(figsize=(15,10))\n",
    "    plt.plot(ptable[\"Element\"],ptable[i])\n",
    "    plt.xticks(rotation=90)\n",
    "    plt.show()\n",
    "    \n",
    "#note how we rotate the xticks 90 degrees to see the name on its side!"
   ]
  },
  {
   "cell_type": "markdown",
   "metadata": {},
   "source": [
    "## Tasks 3.1"
   ]
  },
  {
   "cell_type": "markdown",
   "metadata": {},
   "source": [
    "<div class=\"alert alert-success\">\n",
    "<b>Task 3.1.1: Selecting individual values in a dataframe</b>\n",
    "</div>\n",
    "\n",
    "Using the ptable dataframe, write an expression to find and print the boiling point of argon."
   ]
  },
  {
   "cell_type": "code",
   "execution_count": null,
   "metadata": {},
   "outputs": [],
   "source": [
    "#put your solution here\n",
    "\n"
   ]
  },
  {
   "cell_type": "markdown",
   "metadata": {},
   "source": [
    "#### Solution\n",
    "\n",
    "<details><summary {style='color:green;font-weight:bold'}> Click here to see solution to Task 3.1.1 </summary>\n",
    "\n",
    "Like most things in python, this can be approached in a few ways, e.g. we know that Argon is the 18th element in the periodic table, therefore it is going to be index 17 in our dataframe (python counts from zero)    \n",
    "    \n",
    "```python\n",
    "print(ptable.loc[17, 'BoilingPoint'])\n",
    "\n",
    "```\n",
    "\n",
    "    \n",
    "    \n",
    "Another way to search for this would be to do some Boolean indexing.\n",
    "    \n",
    "```python    \n",
    "Criteria_ar = ptable[\"Element\"] == \"Argon\"\n",
    "print(Criteria_ar) \n",
    "print(ptable[Criteria_ar][\"BoilingPoint\"])\n",
    " \n",
    "    \n",
    "```\n",
    "\n",
    "    \n",
    " </details>"
   ]
  },
  {
   "cell_type": "markdown",
   "metadata": {},
   "source": [
    "<div class=\"alert alert-success\">\n",
    "<b>Task 3.1.2: Slicing dataframes</b>\n",
    "</div>\n",
    "\n",
    "Have a look at these two ways of slicing, what is different about them?"
   ]
  },
  {
   "cell_type": "code",
   "execution_count": null,
   "metadata": {},
   "outputs": [],
   "source": [
    "print(ptable.iloc[4:6, 1:3])"
   ]
  },
  {
   "cell_type": "code",
   "execution_count": null,
   "metadata": {},
   "outputs": [],
   "source": [
    "print(ptable.loc['4':'6', 'AtomicNumber':'Symbol'])"
   ]
  },
  {
   "cell_type": "markdown",
   "metadata": {},
   "source": [
    "#### Solution\n",
    "\n",
    "<details><summary {style='color:green;font-weight:bold'}> Click here to see solution to Task 3.1.2 </summary>\n",
    "    \n",
    "\n",
    "Notice how the second statement produces additional columns and many additional row compared to the first statement.\n",
    "\n",
    "What conclusion can we draw? We see that a numerical slice, (first example) omits the final index (i.e. 6) in the range provided, while a named slice, ‘'AtomicNumber':'Symbol'’, includes the final element \"Symbol\".\n",
    "\n",
    "A funny quirk of not naming our index is that all rows between 40 and 60 are printed with the second method. \n",
    "\n",
    " </details>\n"
   ]
  },
  {
   "cell_type": "markdown",
   "metadata": {},
   "source": [
    "<div class=\"alert alert-success\">\n",
    "<b>Task 3.1.3: Use a loop to identify all symbols with 1 letter</b>\n",
    "</div>\n",
    "\n",
    "Using the symbol column in the dataframe `ptable` use a loop to identify and count all the elements which have a one letter symbol."
   ]
  },
  {
   "cell_type": "code",
   "execution_count": null,
   "metadata": {},
   "outputs": [],
   "source": [
    "#Put your solution here"
   ]
  },
  {
   "cell_type": "markdown",
   "metadata": {},
   "source": [
    "#### Solution\n",
    "\n",
    "<details><summary {style='color:green;font-weight:bold'}> Click here to see solution to Task 3.1.3 </summary>\n",
    "    \n",
    "```python\n",
    "OneLetter= []\n",
    "for x in ptable.Symbol:\n",
    "    if len(x) < 2:\n",
    "        OneLetter.append(x)\n",
    "len(OneLetter)\n",
    "\n",
    "```\n",
    "\n",
    " </details>\n"
   ]
  },
  {
   "cell_type": "markdown",
   "metadata": {},
   "source": [
    "## Feedback on the session\n",
    "\n",
    "We are running this course for the first time, so its helpful for us to know what you did like about the session today and what you think could be improved. This will help us make your future sessions better, as well as help us for future years. \n",
    "Please fill in these two mentimeter Q&As which are anonymous and your answers will not be shown. "
   ]
  },
  {
   "cell_type": "code",
   "execution_count": null,
   "metadata": {},
   "outputs": [],
   "source": [
    "positive_feedback = Mentimeter(vote = 'https://www.menti.com/al5m2471wyzw')\n",
    "positive_feedback.show()"
   ]
  },
  {
   "cell_type": "code",
   "execution_count": null,
   "metadata": {},
   "outputs": [],
   "source": [
    "critical_feedback = Mentimeter(vote = 'https://www.menti.com/alrrb51myncy')\n",
    "critical_feedback.show()"
   ]
  }
 ],
 "metadata": {
  "kernelspec": {
   "display_name": "Python 3 (ipykernel)",
   "language": "python",
   "name": "python3"
  },
  "language_info": {
   "codemirror_mode": {
    "name": "ipython",
    "version": 3
   },
   "file_extension": ".py",
   "mimetype": "text/x-python",
   "name": "python",
   "nbconvert_exporter": "python",
   "pygments_lexer": "ipython3",
   "version": "3.8.13"
  },
  "toc": {
   "base_numbering": 1,
   "nav_menu": {},
   "number_sections": false,
   "sideBar": true,
   "skip_h1_title": false,
   "title_cell": "Table of Contents",
   "title_sidebar": "Contents",
   "toc_cell": false,
   "toc_position": {},
   "toc_section_display": true,
   "toc_window_display": true
  }
 },
 "nbformat": 4,
 "nbformat_minor": 4
}

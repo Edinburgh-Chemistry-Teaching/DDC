{
 "cells": [
  {
   "cell_type": "markdown",
   "metadata": {},
   "source": [
    "# Unit 03: Loops, pandas and simple plotting\n",
    "\n",
    "<a rel=\"license\" href=\"http://creativecommons.org/licenses/by/4.0/\"><img alt=\"Creative Commons Licence\" style=\"border-width:0\" src=\"https://i.creativecommons.org/l/by/4.0/88x31.png\" title='This work is licensed under a Creative Commons Attribution 4.0 International License.' align=\"right\"/></a>\n",
    "\n",
    "Author: Dr Claire Hobday   \n",
    "\n",
    "Email: claire.hobday@ed.ac.uk\n",
    "\n",
    "## Learning objectives:\n",
    "\n",
    "By the end of this unit, you should be able to\n",
    "- use in-built functionality in python\n",
    "- import modules and libraries \n",
    "- use the `math` module to do some simple scientific computing tasks\n",
    "- developemore `pandas` skills to deal with large volumes of data\n",
    "- use logical operations to filter data\n",
    "- understand and use the different types of loops to do repetitive tasks including:\n",
    "    - `for`\n",
    "    - `if`\n",
    "    - `else`/`elif`\n",
    "    - `while`\n",
    "    - `break`\n",
    "- combine these tools to analyse data in a large file containing information about the periodic table\n",
    "- use tools from python to understand trends in the periodic table\n",
    "\n",
    "Some of the material was adapted from [Dr. Matteo Degiacomi](https://github.com/Degiacomi-Lab/python4science/blob/master/2_Python_numerical_data.ipynb), as well as [Software Carpentries](http://swcarpentry.github.io/python-novice-gapminder/index.html)."
   ]
  },
  {
   "cell_type": "markdown",
   "metadata": {},
   "source": [
    "## Table of contents\n",
    "- [3.1 Working with Pandas](#31-Pandas)  \n",
    "   - [3.1.1 Importing libraries](#311-importing-libraries)\n",
    "   - [Tasks 3.1.1](#tasks-311)\n",
    "   - [3.1.2 Import the pandas library](#312-import-the-pandas-library)\n",
    "   - [3.1.3 Accessing the dataframe](#313-accessing-the-dataframe)\n",
    "- [3.2 Loops](#32-loops)  \n",
    "   - [3.2.1 For loops](#321-for-loops)\n",
    "   - [Tasks 3.2.1](#tasks-321)    \n",
    "   - [3.2.2 Conditional Loops](#322-conditional-loops)    \n",
    "   - [Tasks 3.2.2](#tasks-22)\n",
    "- [3.3 Boolean indexing](#33-boolean-indexing)    \n",
    "   - [Tasks 3.3.1](#tasks-331)\n",
    "- [3.4 Using Pandas DataFrames with loops to analyse data](#34-using-pandas-dataframes-with-loops-to-analyse-data)\n",
    "   - [Task 3.4.1](#task-341)\n",
    "- [3.5 Plotting with Pandas](#35-plotting-with-pandas)\n",
    "   - [Tasks 3.5.1](#tasks-351)\n",
    "- [3.6 Feedback](#36-feedback)\n",
    "\n",
    "\n",
    "   "
   ]
  },
  {
   "cell_type": "markdown",
   "metadata": {},
   "source": [
    "**<span style=\"color:black\">Jupyter Cheat Sheet</span>**\n",
    "- To run the currently highlighted cell and move focus to the next cell, hold <kbd>&#x21E7; Shift</kbd> and press <kbd>&#x23ce; Enter</kbd>;\n",
    "- To run the currently highlighted cell and keep focus in the same cell, hold <kbd>&#x21E7; Ctrl</kbd> and press <kbd>&#x23ce; Enter</kbd>;\n",
    "- To get help for a specific function, place the cursor within the function's brackets, hold <kbd>&#x21E7; Shift</kbd>, and press <kbd>&#x21E5; Tab</kbd>;"
   ]
  },
  {
   "cell_type": "markdown",
   "metadata": {},
   "source": [
    "### Links to documentation\n",
    "\n",
    "You can find useful information about using `math` and `pandas` at\n",
    "- [math](https://docs.python.org/3/library/math.html)\n",
    "- [pandas](https://pandas.pydata.org/)\n",
    "- [anaconda](https://anaconda.org)\n",
    "- [PyPI](https://pypi.org)"
   ]
  },
  {
   "cell_type": "markdown",
   "metadata": {},
   "source": [
    "# 3.1 Working with Pandas <a id='31-pandas'></a>"
   ]
  },
  {
   "cell_type": "markdown",
   "metadata": {},
   "source": [
    "## 3.1.1 Importing libraries <a id=\"311-importing-libraries\"></a>"
   ]
  },
  {
   "cell_type": "markdown",
   "metadata": {},
   "source": [
    "### Most of the power of a programming language is in its libraries.\n",
    "\n",
    "- A library is a collection of files (called modules) that contains functions for use by other programs.\n",
    "- May also contain data values (e.g. numerical constants) and other things.\n",
    "A library’s contents are supposed to be related, but there’s no way to enforce that.\n",
    "- The Python standard library is an extensive suite of modules that comes with Python itself.\n",
    "- Many additional libraries are available from anaconda or PyPI (the Python Package Index, see above for links)."
   ]
  },
  {
   "cell_type": "markdown",
   "metadata": {},
   "source": [
    "### A program must import a library module before using it.\n",
    "- Use `import` to load a library module into a program’s memory.\n",
    "- Then refer to things from the module as `module_name.thing_name`.\n",
    "  - Python uses `.` to mean “part of”.\n",
    "- We will be using a library called `pandas`"
   ]
  },
  {
   "cell_type": "markdown",
   "metadata": {},
   "source": [
    "### Import specific items from a library module to shorten programs.\n",
    "- Use `from ... import ...` to load only specific items from a library module.\n",
    "- Then refer to them directly without library name as prefix.\n",
    "\n",
    "Run the cell below to import all the required libraries for this unit:"
   ]
  },
  {
   "cell_type": "code",
   "execution_count": null,
   "metadata": {},
   "outputs": [],
   "source": [
    "import numpy as np\n",
    "import matplotlib.pyplot as plt\n",
    "%matplotlib inline\n",
    "\n",
    "# Make the helper functions accessible\n",
    "import sys\n",
    "import os.path\n",
    "sys.path.append(os.path.abspath('../'))\n",
    "from helper_functions.mentimeter import Mentimeter"
   ]
  },
  {
   "cell_type": "markdown",
   "metadata": {},
   "source": [
    "Run the below cell to import $\\cos$ and $\\pi$ from the library `math`:"
   ]
  },
  {
   "cell_type": "code",
   "execution_count": null,
   "metadata": {},
   "outputs": [],
   "source": [
    "# We are importing the functions cos and the value pi from the library math\n",
    "from math import cos, pi\n",
    "\n",
    "print('cos(pi) is', cos(pi))"
   ]
  },
  {
   "cell_type": "markdown",
   "metadata": {},
   "source": [
    "### Create an alias for a library module when importing it to shorten programs.\n",
    "\n",
    "- Use `import ... as ...` to give a library a short alias while importing it.\n",
    "- Then refer to items in the library using that shortened name."
   ]
  },
  {
   "cell_type": "code",
   "execution_count": null,
   "metadata": {},
   "outputs": [],
   "source": [
    "import math as m\n",
    "\n",
    "print('cos(pi) is', m.cos(m.pi))"
   ]
  },
  {
   "cell_type": "markdown",
   "metadata": {},
   "source": [
    "# Tasks 3.1.1 <a id=\"tasks-311\"></a> "
   ]
  },
  {
   "cell_type": "markdown",
   "metadata": {},
   "source": [
    "<div class=\"alert alert-success\">\n",
    "<b>Task 3.1.1 a: Jigsaw Puzzle (Parson’s Problem) Programming Example</b>\n",
    "</div>\n",
    "\n",
    "Rearrange the following statements so that a random DNA base is printed and its index in the string. Remember that you've already imported math above! You can check it in an empty cell below to understand what it is doing. "
   ]
  },
  {
   "cell_type": "code",
   "execution_count": null,
   "metadata": {},
   "outputs": [],
   "source": [
    "from IPython.display import IFrame\n",
    "IFrame('https://parsons.herokuapp.com/puzzle/7cf55d16a0454de580f31418505f3b54', width=1000, height=400)"
   ]
  },
  {
   "cell_type": "code",
   "execution_count": null,
   "metadata": {},
   "outputs": [],
   "source": [
    "# Test out the code in this cell once you have the right order!"
   ]
  },
  {
   "cell_type": "markdown",
   "metadata": {
    "tags": []
   },
   "source": [
    "<details><summary {style='color:green;font-weight:bold'}> Click here to see solution to Task 3.1.1 a </summary>\n",
    "    \n",
    "```python\n",
    "import math \n",
    "import random\n",
    "bases = \"ACTTGCTTGAC\" \n",
    "n_bases = len(bases)\n",
    "idx = random.randrange(n_bases)\n",
    "print(f\"Random base {bases[idx]} base index {idx}.\")\n",
    "\n",
    "```\n",
    " </details>"
   ]
  },
  {
   "cell_type": "markdown",
   "metadata": {},
   "source": [
    "<div class=\"alert alert-success\">\n",
    "<b>Task 3.1.1 b: Importing With Aliases</b>\n",
    "</div>\n",
    "\n",
    "\n",
    "1. Fill in the blanks so that the program below prints `90.0`.\n",
    "2. Rewrite the program so that it uses `import` without `as`.\n",
    "3. Which form do you find easier to read?"
   ]
  },
  {
   "cell_type": "code",
   "execution_count": null,
   "metadata": {},
   "outputs": [],
   "source": [
    "# Question 1\n",
    "import math as m\n",
    "angle = # FIXME.degrees(# FIXME.pi / 2)\n",
    "print(# FIXME)"
   ]
  },
  {
   "cell_type": "code",
   "execution_count": null,
   "metadata": {},
   "outputs": [],
   "source": [
    "# Question 2"
   ]
  },
  {
   "cell_type": "markdown",
   "metadata": {},
   "source": [
    "<details><summary {style='color:green;font-weight:bold'}> Click here to see solution to Task 3.1.1 b </summary>\n",
    "    \n",
    "Filling in the right variables:  \n",
    "    \n",
    "```python\n",
    "import math as m\n",
    "angle = m.degrees(m.pi / 2)\n",
    "print(angle)   \n",
    "    \n",
    "```\n",
    "Re-writing the program without an import as:\n",
    "    \n",
    "```python\n",
    "import math\n",
    "angle = math.degrees(math.pi / 2)\n",
    "print(angle)  \n",
    "    \n",
    "```   \n",
    "    \n",
    "*Explanation*:\n",
    "  \n",
    "Since you just wrote the code and are familiar with it, you might actually find the first version easier to read. But when trying to read a huge piece of code written by someone else, or when getting back to your own huge piece of code after several months, non-abbreviated names are often easier, except where there are clear abbreviation conventions.\n",
    "\n",
    " </details>"
   ]
  },
  {
   "cell_type": "markdown",
   "metadata": {},
   "source": [
    "<div class=\"alert alert-success\">\n",
    "<b>Task 3.1.1 c: Importing specific items</b>\n",
    "</div>\n",
    "\n",
    "\n",
    "1. Import the exponential function from the math libary.\n",
    "2. Use it to work out $e^{10}$.\n",
    "3. Import a function from math which will allow you to raise a number to a power of your choice.\n",
    "4. Raise $6^5$"
   ]
  },
  {
   "cell_type": "code",
   "execution_count": null,
   "metadata": {},
   "outputs": [],
   "source": [
    "# FIXME\n"
   ]
  },
  {
   "cell_type": "markdown",
   "metadata": {},
   "source": [
    "<details><summary {style='color:green;font-weight:bold'}> Click here to see solution to Task 3.1.1 c </summary>\n",
    "    \n",
    "Filling in the right variables:  \n",
    "    \n",
    "```python\n",
    "#1\n",
    "from math import exp \n",
    "#2\n",
    "number= exp(10)\n",
    "print(number)\n",
    "#3\n",
    "from math import pow\n",
    "#4\n",
    "powered = pow(6,5)\n",
    "print(powered)   \n",
    "```   \n",
    "    \n",
    "*Explanation*:\n",
    "  \n",
    "The first part should be relatively straightforward. For part 3, you may need to google the math library and read the documentation to find the function that you need to raise a number to the power of another number. \n",
    "\n",
    " </details>"
   ]
  },
  {
   "cell_type": "markdown",
   "metadata": {},
   "source": [
    "<div class=\"alert alert-info\"> <b>Key Points</b></div>\n",
    "\n",
    "- Most of the power of a programming language is in its libraries.\n",
    "- A program must import a library module in order to use it.\n",
    "- Import specific items from a library to shorten programs.\n",
    "- Create an alias for a library when importing it to shorten programs."
   ]
  },
  {
   "cell_type": "markdown",
   "metadata": {},
   "source": [
    "## 3.1.2 Importing the pandas library <a id=\"312-import-the-pandas-library\"></a>\n",
    "\n",
    "In [Unit 02](../Unit_02/Unit_02_variables.ipynb), we looked at a couple of different ways of opening files, in this session we are going to exclusively use pandas. \n",
    "\n",
    "Pandas is a library in python that works much like Excel, but we have the added advantage of being able to manipulate the data in a programmatic way. \n"
   ]
  },
  {
   "cell_type": "code",
   "execution_count": null,
   "metadata": {},
   "outputs": [],
   "source": [
    "# The community agreed alias for pandas is pd, \n",
    "# so loading pandas as pd is assumed standard practice for all of the pandas documentation.\n",
    "import pandas as pd"
   ]
  },
  {
   "cell_type": "markdown",
   "metadata": {},
   "source": [
    "### Import the data"
   ]
  },
  {
   "cell_type": "markdown",
   "metadata": {},
   "source": [
    "Now, we need to import the data into what pandas calls a `DataFrame`, which takes the input data and formats it as a sort of \"spreadsheet\" with this form:\n",
    "\n",
    "\n",
    "\n",
    "![pandas-data-structure.svg](images/pandas-data-structure.svg)"
   ]
  },
  {
   "cell_type": "code",
   "execution_count": null,
   "metadata": {},
   "outputs": [],
   "source": [
    "# Use pandas to read the csv file:\n",
    "data = pd.read_csv('files/ptable.csv') \n",
    "# View the imported dataframe, note how the index column \"element\" is in bold: \n",
    "data "
   ]
  },
  {
   "cell_type": "markdown",
   "metadata": {},
   "source": [
    "Now that we've imported this data, we will learn some more fundamental python concepts in order to examine the data at the end of the session. \n",
    "\n",
    "<br>"
   ]
  },
  {
   "cell_type": "markdown",
   "metadata": {},
   "source": [
    "## 3.1.3 Accessing the dataframe <a id=\"313-accessing-the-dataframe\"></a>\n",
    "\n",
    "We are now going to try and view the dataframe in different ways </br>\n",
    "- `data.head()` shows us the first 5 lines of the dataframe.... Note how python counts from 0. </br>\n",
    "- `data.tail()` shows us the last 5 lines of the dataframe.</br>\n",
    "- `data.columns` lists us all the column headers which are properties associated with the elements.\n",
    "\n",
    "Test them out below:"
   ]
  },
  {
   "cell_type": "code",
   "execution_count": null,
   "metadata": {},
   "outputs": [],
   "source": [
    "data.head()"
   ]
  },
  {
   "cell_type": "code",
   "execution_count": null,
   "metadata": {},
   "outputs": [],
   "source": [
    "data.tail()"
   ]
  },
  {
   "cell_type": "code",
   "execution_count": null,
   "metadata": {
    "scrolled": true
   },
   "outputs": [],
   "source": [
    "data.columns"
   ]
  },
  {
   "cell_type": "markdown",
   "metadata": {},
   "source": [
    "We might also be interested in knowing what the datatypes are for the columns."
   ]
  },
  {
   "cell_type": "code",
   "execution_count": null,
   "metadata": {},
   "outputs": [],
   "source": [
    "print('Period is data type', data['Period'].dtype)"
   ]
  },
  {
   "cell_type": "markdown",
   "metadata": {},
   "source": [
    "It is also possible to change the datatype of a column in a dataframe using `.astype()` function."
   ]
  },
  {
   "cell_type": "code",
   "execution_count": null,
   "metadata": {},
   "outputs": [],
   "source": [
    "data['Period'] = data['Period'].astype(float)"
   ]
  },
  {
   "cell_type": "code",
   "execution_count": null,
   "metadata": {},
   "outputs": [],
   "source": [
    "print('Period is data type', data['Period'].dtype)"
   ]
  },
  {
   "cell_type": "markdown",
   "metadata": {},
   "source": [
    "<div class=\"alert alert-info\">\n",
    "Once we learn a little more about how to play around with arrays, we will come back and analyse this data.\n",
    "</div>"
   ]
  },
  {
   "cell_type": "markdown",
   "metadata": {},
   "source": [
    "# 3.2 Loops\n",
    "\n",
    "<a id='313-loops'></a>\n",
    "![loop.png](images/loop.png)\n",
    "\n",
    "\n",
    "A loop is used for iterating over a set of statements.\n",
    "There are many different kinds of loops that can be useful in different situations. We are going to go through some of the most common types of loops. "
   ]
  },
  {
   "cell_type": "markdown",
   "metadata": {},
   "source": [
    "## 3.2.1. For loops\n",
    "<a id='321-for-loops'></a>\n",
    "This loop is used for iterating over some kind of a sequence. That can be a list, tuple, dictionary, string, etc.\n",
    "\n",
    "Everything that is inside the for statement is going to be executed a number of times.\n",
    "\n",
    "![loop2.png](images/loop2.png)\n",
    "    \n",
    "  \n",
    "\n",
    "If we think about how we would define a `for` loop in python it would have the structure:\n",
    "```Python\n",
    "for variable in iterable:\n",
    "    statement(s) \n",
    "```\n",
    "\n",
    "where:\n",
    "* `variable` is a variable \n",
    "* `iterable` is a collection of objects such as a list or tuple\n",
    "* `statement(s)` in the loop body (denoted by the **indent**) are executed once for each item in **iterable**.\n",
    "\n",
    "The loop variable `variable` takes on the value of the next element in `iterable` each time through the loop, until we have iterated through all items in `iterable`."
   ]
  },
  {
   "cell_type": "markdown",
   "metadata": {},
   "source": [
    "Let's take a look at some simple examples that show us how powerful `for` loops can be, and how they must be properly structured to be interpreted by Python. "
   ]
  },
  {
   "cell_type": "markdown",
   "metadata": {},
   "source": [
    "### Example 3.2.1\n",
    "\n",
    "The first line of the `for` loop must end with a colon, and the body must be indented.\n"
   ]
  },
  {
   "cell_type": "code",
   "execution_count": null,
   "metadata": {},
   "outputs": [],
   "source": [
    "for number in [2,3,5]:\n",
    "    print(number)"
   ]
  },
  {
   "cell_type": "markdown",
   "metadata": {},
   "source": [
    "This `for` loop is equivalent to:"
   ]
  },
  {
   "cell_type": "code",
   "execution_count": null,
   "metadata": {},
   "outputs": [],
   "source": [
    "print(2)\n",
    "print(3)\n",
    "print(5)"
   ]
  },
  {
   "cell_type": "markdown",
   "metadata": {},
   "source": [
    "We can see that the `for` loop is a much more efficient way of doing this task, than having to type of `print(value)`. "
   ]
  },
  {
   "cell_type": "code",
   "execution_count": null,
   "metadata": {},
   "outputs": [],
   "source": [
    "# FIXME\n",
    "for number in [2,3,5]:\n",
    "print(number)"
   ]
  },
  {
   "cell_type": "code",
   "execution_count": null,
   "metadata": {},
   "outputs": [],
   "source": [
    "# FIXME\n",
    "for number in [2,3,5]\n",
    "    print(number)"
   ]
  },
  {
   "cell_type": "markdown",
   "metadata": {},
   "source": [
    "### Example 3.2.2"
   ]
  },
  {
   "cell_type": "markdown",
   "metadata": {},
   "source": [
    "Loop variables can be called anything. So please try to make them be as meaningful as possible"
   ]
  },
  {
   "cell_type": "code",
   "execution_count": null,
   "metadata": {},
   "outputs": [],
   "source": [
    "for kitten in [2, 3, 5]:\n",
    "    print(kitten)"
   ]
  },
  {
   "cell_type": "code",
   "execution_count": null,
   "metadata": {},
   "outputs": [],
   "source": [
    "for numbers in [2,3,5]:\n",
    "    print(numbers)"
   ]
  },
  {
   "cell_type": "markdown",
   "metadata": {},
   "source": [
    "### Example 3.2.3"
   ]
  },
  {
   "cell_type": "markdown",
   "metadata": {},
   "source": [
    "The body of a loop can contain many statements.\n",
    "However, its best practise to keep a loop to no more than a few lines long."
   ]
  },
  {
   "cell_type": "code",
   "execution_count": null,
   "metadata": {},
   "outputs": [],
   "source": [
    "primes = [2, 3, 5]\n",
    "for p in primes:\n",
    "    squared = p ** 2\n",
    "    cubed = p ** 3\n",
    "    print(p, squared, cubed)"
   ]
  },
  {
   "cell_type": "markdown",
   "metadata": {},
   "source": [
    "### Example 3.2.4\n"
   ]
  },
  {
   "cell_type": "markdown",
   "metadata": {},
   "source": [
    "Use `range` to iterate over a sequence of numbers.\n",
    "\n",
    "The built-in function `range` produces a sequence of numbers.\n",
    "\n",
    "Not a list: the numbers are produced on demand to make looping over large ranges more efficient. Its easier than typing `[2,3,5,7,9,11,13]` like we have done in above examples.\n",
    "\n",
    "`range(N)` is the numbers `0..N-1`\n",
    "\n",
    "Exactly the legal indices of a list or character string of length N\n",
    "\n",
    "e.g. `range(5)` would be `0,1,2,3,4`"
   ]
  },
  {
   "cell_type": "code",
   "execution_count": null,
   "metadata": {},
   "outputs": [],
   "source": [
    "print('a range is not a list: range(0, 3)')\n",
    "for number in range(0, 3):\n",
    "    print(number)"
   ]
  },
  {
   "cell_type": "markdown",
   "metadata": {},
   "source": [
    "### Example 3.2.5 \n"
   ]
  },
  {
   "cell_type": "markdown",
   "metadata": {},
   "source": [
    "The Accumulator pattern turns many values into one.\n",
    "\n",
    "A common pattern in programs is to:\n",
    " 1. Initialize an accumulator variable to zero, the empty string, or the empty list.\n",
    " 2. Update the variable with values from a collection."
   ]
  },
  {
   "cell_type": "code",
   "execution_count": null,
   "metadata": {},
   "outputs": [],
   "source": [
    "# Sum the first 10 integers.\n",
    "total = 0\n",
    "for number in range(10):\n",
    "    total = total + (number + 1)\n",
    "print(total)"
   ]
  },
  {
   "cell_type": "markdown",
   "metadata": {},
   "source": [
    "- Read `total = total + (number + 1)` as:\n",
    " - Add 1 to the current value of the loop variable `number`.\n",
    " - Add that to the current value of the accumulator variable `total`.\n",
    " - Assign that to `total`, replacing the current value.\n",
    "- We have to add `number + 1` because `range` produces `0..9`, not `1..10`."
   ]
  },
  {
   "cell_type": "markdown",
   "metadata": {},
   "source": [
    "## Tasks 3.2.1 <a id=\"tasks-321\"></a>"
   ]
  },
  {
   "cell_type": "markdown",
   "metadata": {},
   "source": [
    "<div class=\"alert alert-success\">\n",
    "<b>Task 3.2.1 a: Practice Accumulating 1</b>\n",
    "</div>\n",
    "\n",
    "Fill in the blanks "
   ]
  },
  {
   "cell_type": "code",
   "execution_count": null,
   "metadata": {},
   "outputs": [],
   "source": [
    "# Total length of the strings in the list: [\"red\", \"green\", \"blue\"] => 12\n",
    "total = 0\n",
    "for word in [\"red\", \"green\", \"blue\"]:\n",
    "    ____ = ____ + len(word) # FIXME\n",
    "print(total)"
   ]
  },
  {
   "cell_type": "markdown",
   "metadata": {},
   "source": [
    "<details><summary {style='color:green;font-weight:bold'}> Click here to see solution to Task 3.2.1 a </summary>\n",
    "    \n",
    "```python\n",
    "total = 0\n",
    "for word in [\"red\", \"green\", \"blue\"]:\n",
    "    total = total + len(word)\n",
    "print(total)\n",
    "```\n",
    "</details>  "
   ]
  },
  {
   "cell_type": "markdown",
   "metadata": {},
   "source": [
    "<div class=\"alert alert-success\">\n",
    "<b>Task 3.2.1 b: Practice Accumulating 2</b>\n",
    "</div>\n",
    "Fill in the blanks "
   ]
  },
  {
   "cell_type": "code",
   "execution_count": null,
   "metadata": {},
   "outputs": [],
   "source": [
    "# List of word lengths: [\"red\", \"green\", \"blue\"] => [3, 5, 4]\n",
    "lengths = ____ # FIXME\n",
    "for word in [\"red\", \"green\", \"blue\"]:\n",
    "    lengths.____(____) # FIXME\n",
    "print(lengths)"
   ]
  },
  {
   "cell_type": "markdown",
   "metadata": {},
   "source": [
    "<details><summary {style='color:green;font-weight:bold'}> Click here to see solution to Task 3.2.1 b </summary>\n",
    "    \n",
    "```python\n",
    " \n",
    "lengths = []\n",
    "for word in [\"red\", \"green\", \"blue\"]:\n",
    "    lengths.append(len(word))\n",
    "print(lengths)\n",
    "\n",
    "```\n",
    "\n",
    "\n",
    " </details>"
   ]
  },
  {
   "cell_type": "markdown",
   "metadata": {},
   "source": [
    "<div class=\"alert alert-success\">\n",
    "<b>Task 3.2.1 c: Practice Accumulating 3</b>\n",
    "</div>\n",
    "Fill in the blanks"
   ]
  },
  {
   "cell_type": "code",
   "execution_count": null,
   "metadata": {},
   "outputs": [],
   "source": [
    "# Concatenate all words: [\"red\", \"green\", \"blue\"] => \"redgreenblue\"\n",
    "words = [\"red\", \"green\", \"blue\"]\n",
    "result = ____  # FIXME\n",
    "for ____ in ____: # FIXME\n",
    "    ____  # FIXME\n",
    "print(result)"
   ]
  },
  {
   "cell_type": "markdown",
   "metadata": {},
   "source": [
    "<details><summary {style='color:green;font-weight:bold'}> Click here to see solution to Task 3.2.1 c </summary>\n",
    "    \n",
    "```python\n",
    "words = [\"red\", \"green\", \"blue\"]\n",
    "result = \"\"\n",
    "for word in words:\n",
    "    result = result + word\n",
    "print(result)\n",
    "\n",
    "```\n",
    "\n",
    "\n",
    " </details>\n"
   ]
  },
  {
   "cell_type": "markdown",
   "metadata": {},
   "source": [
    "<div class=\"alert alert-success\">\n",
    "<b>Task 3.2.1 d Create a whole loop</b>\n",
    "</div>\n",
    "\n",
    "Start out with an empty string `acronym=\"\"`.\n",
    "Generate a loop that uses the words 'red', 'green', 'blue' and the function `upper()` that by the end of the loop the acronym contains \"RBG\" when you type `print(acronym)`"
   ]
  },
  {
   "cell_type": "code",
   "execution_count": null,
   "metadata": {},
   "outputs": [],
   "source": [
    "# FIXME\n",
    "acronym = \"\"\n",
    "\n",
    "\n",
    "print(acronym)"
   ]
  },
  {
   "cell_type": "markdown",
   "metadata": {},
   "source": [
    "<details><summary {style='color:green;font-weight:bold'}> Click here to see solution to Task 3.2.1 d </summary>\n",
    "    \n",
    "```python\n",
    "acronym = \"\"\n",
    "for word in [\"red\", \"green\", \"blue\"]:\n",
    "    acronym = acronym + word[0].upper()\n",
    "print(acronym)\n",
    "\n",
    "```\n",
    "\n",
    "\n",
    " </details>"
   ]
  },
  {
   "cell_type": "markdown",
   "metadata": {},
   "source": [
    "<div class=\"alert alert-success\">\n",
    "<b>Task 3.2.1 e: Cumulative Sum</b>\n",
    "</div>\n",
    "\n",
    "Reorder and properly indent the lines of code below so that they print a list with the cumulative sum of data. The result should be `[1, 3, 5, 10]`."
   ]
  },
  {
   "cell_type": "code",
   "execution_count": null,
   "metadata": {},
   "outputs": [],
   "source": [
    "# FIXME\n",
    "cumulative.append(sum)\n",
    "for number in data:\n",
    "cumulative = []\n",
    "sum += number\n",
    "sum = 0\n",
    "print(cumulative)\n",
    "data = [1,2,2,5]"
   ]
  },
  {
   "cell_type": "markdown",
   "metadata": {},
   "source": [
    "<details><summary {style='color:green;font-weight:bold'}> Click here to see solution to Task 3.2.1 e </summary>\n",
    "    \n",
    "```python\n",
    "data = [1,2,2,5]\n",
    "cumulative = []\n",
    "sum = 0\n",
    "for number in data:\n",
    "    sum += number\n",
    "    cumulative.append(sum)\n",
    "print(cumulative)\n",
    "\n",
    "```\n",
    "\n",
    "\n",
    " </details>"
   ]
  },
  {
   "cell_type": "markdown",
   "metadata": {},
   "source": [
    "<div class=\"alert alert-success\">\n",
    "<b>Task 3.2.1 f: Identifying Variable Name Errors</b>\n",
    "</div>\n",
    "\n",
    "1. Read the code below and try to identify what the errors are without running it.\n",
    "2. Run the code and read the error message. What type of `NameError` do you think this is? Is it a string with no quotes, a misspelled variable, or a variable that should have been defined but was not?\n",
    "3. Fix the error.\n",
    "4. Repeat steps 2 and 3, until you have fixed all the errors."
   ]
  },
  {
   "cell_type": "code",
   "execution_count": null,
   "metadata": {},
   "outputs": [],
   "source": [
    "for number in range(10):\n",
    "    # use a if the number is a multiple of 3, otherwise use b\n",
    "    if (Number % 3) == 0:\n",
    "        message = message + a\n",
    "    else:\n",
    "        message = message + \"b\"\n",
    "print(message)"
   ]
  },
  {
   "cell_type": "markdown",
   "metadata": {},
   "source": [
    "<details><summary {style='color:green;font-weight:bold'}> Click here to see solution to Task 3.2.1 f </summary>\n",
    "    \n",
    "```python\n",
    "message = \"\"\n",
    "for number in range(10):\n",
    "    # use a if the number is a multiple of 3, otherwise use b\n",
    "    if (number % 3) == 0:\n",
    "        message = message + \"a\"\n",
    "    else:\n",
    "        message = message + \"b\"\n",
    "print(message)\n",
    "\n",
    "```\n",
    "##### Explanation:\n",
    "The variable `message` needs to be initialized and Python variable names are case sensitive: `number` and `Number` refer to different variables.\n",
    "\n",
    " </details>\n"
   ]
  },
  {
   "cell_type": "markdown",
   "metadata": {},
   "source": [
    "<div class=\"alert alert-info\"> <b>Key Points</b></div>\n",
    "\n",
    "- A for loop executes commands once for each value in a collection.\n",
    "- A `for` loop is made up of a collection, a loop variable, and a body.\n",
    "- The first line of the `for` loop must end with a colon, and the body must be indented.\n",
    "- Indentation is always meaningful in Python.\n",
    "- Loop variables can be called anything (but it is strongly advised to have a meaningful name to the looping variable).\n",
    "- The body of a loop can contain many statements.\n",
    "- Use `range` to iterate over a sequence of numbers.\n",
    "- The Accumulator pattern turns many values into one."
   ]
  },
  {
   "cell_type": "markdown",
   "metadata": {},
   "source": [
    "## 3.2.2 Conditional loops <a id='322-conditional-loops'></a>"
   ]
  },
  {
   "cell_type": "markdown",
   "metadata": {},
   "source": [
    "Computer programming is often referred to as a \"language\" and often we use similar nomenclature to traditional languages. Here we will discover how **conditional** `loops` are interpretted by Python. Conditionals are used much like the tense in languages to speculate about what could happen with respect to an if clause. \n",
    "\n",
    "E.g. If it rains, take an umbrella. Or, if the pH is below 7, it's acidic. \n",
    "\n",
    "Notice how the first phrase controls the content of the second phrase.\n",
    "\n",
    "E.g. If it's sunny, wear sunscreen. Or if the pH is above 7, it's basic. \n",
    "\n",
    "\n",
    "We could take this analogy and allow more options,\n",
    "e.g.  if the pH is above 7, it's basic. Otherwise (or else) it's acidic. Notice how we can categories the information by these conditional statements. \n",
    "\n",
    "\n",
    "We can use `if` statements to allow our computer programs to do different things for different data. "
   ]
  },
  {
   "cell_type": "markdown",
   "metadata": {},
   "source": [
    "### Use `if` statements to control whether or not a block of code is executed"
   ]
  },
  {
   "cell_type": "markdown",
   "metadata": {},
   "source": [
    "### Example 3.2.6 - `if`"
   ]
  },
  {
   "cell_type": "markdown",
   "metadata": {},
   "source": [
    "Use an `if` statement to control whether or not a block of code is executed.\n",
    "- An `if` statement (more properly called a conditional statement) controls whether some block of code is executed or not.\n",
    "- Structure is similar to a `for` statement:\n",
    "    - First line opens with `if` and ends with a colon\n",
    "    - Body containing one or more statements is indented (usually by 4 spaces or a tab)"
   ]
  },
  {
   "cell_type": "code",
   "execution_count": null,
   "metadata": {},
   "outputs": [],
   "source": [
    "mass = 3.54\n",
    "if mass > 3.0:\n",
    "    print(mass, 'is large')"
   ]
  },
  {
   "cell_type": "code",
   "execution_count": null,
   "metadata": {},
   "outputs": [],
   "source": [
    "mass = 2.07\n",
    "if mass > 3.0:\n",
    "    print(mass, 'is large')"
   ]
  },
  {
   "cell_type": "markdown",
   "metadata": {},
   "source": [
    "Things that you should notice:\n",
    "- The importance of ending the first line of the `for` loop in a colon.\n",
    "- How the computer does not return anything in the second code block as it does not meet the `if` statement criteria. "
   ]
  },
  {
   "cell_type": "markdown",
   "metadata": {},
   "source": [
    "### Example 3.2.7 - `if`\n"
   ]
  },
  {
   "cell_type": "markdown",
   "metadata": {},
   "source": [
    "Conditionals are often used inside loops.\n",
    "- Not much point using a conditional when we know the value (as above).\n",
    "- But useful when we have a collection to process."
   ]
  },
  {
   "cell_type": "code",
   "execution_count": null,
   "metadata": {},
   "outputs": [],
   "source": [
    "masses = [3.54, 2.07, 9.22, 1.86, 1.71]\n",
    "for mass in masses:\n",
    "    if mass > 3.0:\n",
    "        print(mass, 'is large')"
   ]
  },
  {
   "cell_type": "markdown",
   "metadata": {},
   "source": [
    "### Example 3.2.8 - `if` and `else`"
   ]
  },
  {
   "cell_type": "markdown",
   "metadata": {},
   "source": [
    "Use `else` to execute a block of code when an `if` condition is not true.\n",
    "- `else` can be used following an `if`.\n",
    "- Allows us to specify an alternative to execute when the `if` statement criterie is not met."
   ]
  },
  {
   "cell_type": "code",
   "execution_count": null,
   "metadata": {},
   "outputs": [],
   "source": [
    "masses = [3.54, 2.07, 9.22, 1.86, 1.71]\n",
    "for mass in masses:\n",
    "    if mass > 3.0:\n",
    "        print(mass, 'is large')\n",
    "    else:\n",
    "        print(mass, 'is small')"
   ]
  },
  {
   "cell_type": "markdown",
   "metadata": {},
   "source": [
    "### Example 3.2.9 - `if` and `elif`"
   ]
  },
  {
   "cell_type": "markdown",
   "metadata": {},
   "source": [
    "Use `elif` to specify additional tests.\n",
    "- May want to provide several alternative choices, each with its own test.\n",
    "- Use `elif` (short for “else if”) and a condition to specify these.\n",
    "- Always associated with an `if`.\n",
    "- Must come before the `else` (which is the “catch all”)."
   ]
  },
  {
   "cell_type": "code",
   "execution_count": null,
   "metadata": {},
   "outputs": [],
   "source": [
    "masses = [3.54, 2.07, 9.22, 1.86, 1.71]\n",
    "for mass in masses:\n",
    "    if mass > 9.0:\n",
    "        print(mass, 'is HUGE')\n",
    "    elif mass > 3.0:\n",
    "        print(mass, 'is large')\n",
    "    else:\n",
    "        print(mass, 'is small')"
   ]
  },
  {
   "cell_type": "markdown",
   "metadata": {},
   "source": [
    "### Example 3.2.10 - order of conditions"
   ]
  },
  {
   "cell_type": "markdown",
   "metadata": {},
   "source": [
    "Conditions are tested once, in order.\n",
    "- Python steps through the branches of the conditional in order, testing each in turn.\n",
    "- So ordering matters."
   ]
  },
  {
   "cell_type": "code",
   "execution_count": null,
   "metadata": {},
   "outputs": [],
   "source": [
    "grade = 85\n",
    "if grade >= 70:\n",
    "    print('grade is C')\n",
    "elif grade >= 80:\n",
    "    print('grade is B')\n",
    "elif grade >= 90:\n",
    "    print('grade is A')"
   ]
  },
  {
   "cell_type": "markdown",
   "metadata": {},
   "source": [
    "We can see here that our condition is met in the first conditional `if` statement, so none of the `elif` statements are evaluated."
   ]
  },
  {
   "cell_type": "markdown",
   "metadata": {},
   "source": [
    "### Example 3.2.11 - using conditionals to evolve the values of variables\n"
   ]
  },
  {
   "cell_type": "markdown",
   "metadata": {},
   "source": [
    "In the example below we use `if` and `else` within a `for` loop in order to change the value of `velocity`.\n",
    "\n",
    "Notice:\n",
    "- the indent for the `for` loop and also for the `if` and `else` statements.\n",
    "- the use of the colon at the end of `for`, `if` and `else` statements.\n",
    "- The program must have a `print` statement outside the body of the loop to show the final value of velocity, since its value is updated by the last iteration of the loop."
   ]
  },
  {
   "cell_type": "code",
   "execution_count": null,
   "metadata": {},
   "outputs": [],
   "source": [
    "velocity = 10.0\n",
    "# Execute the loop 5 times\n",
    "for i in range(5): \n",
    "    print(\"try\",i, ':', velocity)\n",
    "    if velocity > 20.0:\n",
    "        print('moving too fast')\n",
    "        velocity = velocity - 5.0\n",
    "    else:\n",
    "        print('moving too slow')\n",
    "        velocity = velocity + 10.0\n",
    "print('final velocity:', velocity)"
   ]
  },
  {
   "cell_type": "markdown",
   "metadata": {},
   "source": [
    "# Tasks 3.2.2 <a id=\"tasks-322\"></a>"
   ]
  },
  {
   "cell_type": "markdown",
   "metadata": {},
   "source": [
    "<div class=\"alert alert-success\">\n",
    "<b>Task 3.2.2 a: Trimming values:</b>\n",
    "</div>\n",
    "\n",
    "Fill in the blanks so that this program creates a new list containing zeroes where the original list’s values were negative and ones where the original list’s values were positive."
   ]
  },
  {
   "cell_type": "code",
   "execution_count": null,
   "metadata": {},
   "outputs": [],
   "source": [
    "original = [-1.5, 0.2, 0.4, 0.0, -1.3, 0.4]\n",
    "result = ____ # FIXME\n",
    "for value in original:\n",
    "    if ____: # FIXME\n",
    "        result.append(0)\n",
    "    else:\n",
    "        ____ # FIXME\n",
    "print(result)"
   ]
  },
  {
   "cell_type": "markdown",
   "metadata": {},
   "source": [
    "Output should look like this:   \n",
    "```[0, 1, 1, 1, 0, 1]```"
   ]
  },
  {
   "cell_type": "markdown",
   "metadata": {},
   "source": [
    "<details><summary {style='color:green;font-weight:bold'}> Click here to see solution to Task 3.2.2 a </summary>\n",
    "    \n",
    "```python\n",
    "    \n",
    "original = [-1.5, 0.2, 0.4, 0.0, -1.3, 0.4]\n",
    "result = []\n",
    "for value in original:\n",
    "    if value<0.0:\n",
    "        result.append(0)\n",
    "    else:\n",
    "        result.append(1)\n",
    "print(result)\n",
    "\n",
    "```\n",
    "\n",
    "\n",
    " </details>"
   ]
  },
  {
   "cell_type": "markdown",
   "metadata": {},
   "source": [
    "<div class=\"alert alert-success\">\n",
    "<b>Task 3.2.2 b: Initializing</b>\n",
    "</div>\n",
    "\n",
    "Modify this program so that it finds the largest and smallest values in the list no matter what the range of values originally is.\n",
    "\n",
    "What are the advantages and disadvantages of using this method to find the range of the data?"
   ]
  },
  {
   "cell_type": "code",
   "execution_count": null,
   "metadata": {},
   "outputs": [],
   "source": [
    "values = [...some test data...] # FIXME\n",
    "smallest, largest = None, None\n",
    "for v in values:\n",
    "    if ____: # FIXME\n",
    "        smallest, largest = v, v\n",
    "    ____: # FIXME\n",
    "        smallest = min(____, v) # FIXME\n",
    "        largest = max(____, v) # FIXME\n",
    "print(smallest, largest)"
   ]
  },
  {
   "cell_type": "markdown",
   "metadata": {},
   "source": [
    "<details><summary {style='color:green;font-weight:bold'}> Click here to see solution to Task 3.2.2 b </summary>\n",
    "    \n",
    "```python\n",
    "values = [-2,1,65,78,-54,-24,100]\n",
    "smallest, largest = None, None\n",
    "for v in values:\n",
    "    if smallest==None and largest==None:\n",
    "        smallest, largest = v, v\n",
    "    else:\n",
    "        smallest = min(smallest, v)\n",
    "        largest = max(largest, v)\n",
    "print(smallest, largest)\n",
    "\n",
    "```\n",
    "\n",
    "\n",
    " </details>"
   ]
  },
  {
   "cell_type": "markdown",
   "metadata": {},
   "source": [
    "<div class=\"alert alert-info\"> <b>Key Points</b></div>\n",
    "\n",
    "- Use `if` statements to control whether or not a block of code is executed.\n",
    "- Conditionals are often used inside loops.\n",
    "- Use `else` to execute a block of code when an `if` condition is *not* true.\n",
    "- Use `elif` to specify additional tests.\n",
    "- Conditions are tested once, in order.\n",
    "- Create a table showing variables’ values to trace a program’s execution."
   ]
  },
  {
   "cell_type": "markdown",
   "metadata": {},
   "source": [
    "# 3.3 Boolean idexing<a class=\"anchor\" id=\"33-boolean-indexing\"></a>"
   ]
  },
  {
   "cell_type": "markdown",
   "metadata": {},
   "source": [
    "<img src=\"https://upload.wikimedia.org/wikipedia/commons/c/ce/George_Boole_color.jpg\" width=\"250\" style=\"float: right\">\n",
    "\n",
    "Related to `if`,  `elif` and `else` conditions are Booleans.\n",
    "\n",
    "\n",
    "**George Boole** was a 19th century self-taught English mathematician, philosopher and logician. He is known for Boolean algerbra, that is based on variables being **True** or **False**, denoted as **1** and **0** respectively. \n",
    "\n",
    "The operations in Boolean algebra are **and** denoted as $\\wedge$, **or** denoted as $\\vee$ , and **not** denoted as $\\neg$.\n",
    "\n",
    "<img src=\"https://upload.wikimedia.org/wikipedia/commons/thumb/a/ae/Vennandornot.svg/2560px-Vennandornot.svg.png\" width=\"300\" style=\"float: center\" title=\"Venn diagram\"> <em><center>Venn diagram</center></em>\n",
    "\n",
    "In fact, in using `if` we have already asked python to do a Boolean operation. If our answer to our if statement is true, we continue with our conditional loop. The return of the Boolean variable `true` or `false` is what determines the fate of our `if` loop. \n"
   ]
  },
  {
   "cell_type": "markdown",
   "metadata": {},
   "source": [
    "### Bitwise Operators\n",
    "\n",
    "In python there are many ways to do the same Boolean operations, we are going to use Bitwise operators which compare binary \n",
    "\n",
    "<div class=\"alert alert-info\">\n",
    "    \n",
    "| Operator | Name | Description |\n",
    "| :- | :- | :- |\n",
    "| `&` | AND | Sets each bit to 1 if both bits are 1 |\n",
    "|  &#124; | OR | Sets each bit to 1 if one of two bits is 1 |\n",
    "| `^` | XOR | Sets each bit to 1 if only one of two bits is 1 |\n",
    "| `~` | NOT | Inverts all the bits |\n",
    "| `<<` | Zero fill left shift | Shift left by pushing zeros in from the right and let the leftmost bits fall off |\n",
    "| `>>` | Signed right shift | Shift right by pushing copies of the leftmost bit in from the left, and let the rightmost bits fall off |\n",
    "\n",
    "</div>"
   ]
  },
  {
   "cell_type": "markdown",
   "metadata": {},
   "source": [
    "\n",
    "### Boolean Tests <a class=\"anchor\" id=\"booltest\"></a>\n",
    "\n",
    "Boolean tests on an array produce an array of booleans:\n",
    "\n",
    "<img src=\"images/BooleanOp.png\" width=\"500\">\n",
    "\n",
    "\n",
    "What we can see here is for each value in this series, what the Boolean outcome would be for two tests. \n"
   ]
  },
  {
   "cell_type": "code",
   "execution_count": null,
   "metadata": {},
   "outputs": [],
   "source": [
    "# Declare a series dataframe (just 1D dataframe, like one column of an excel sheet)\n",
    "a = pd.Series([32, 2, 65, 29, 7, 14, 57, 81, 27, 0, 56])"
   ]
  },
  {
   "cell_type": "markdown",
   "metadata": {},
   "source": [
    "To print variables together with strings, we can use [f-strings](https://realpython.com/python-f-strings/).\n",
    "\n",
    "The structure of f-strings is as follows: \n",
    "```python\n",
    "my_variable = 4\n",
    "print(f\"some text before a variable: {my_variable}\")\n",
    "```\n",
    "This prints the following:\n",
    "```python\n",
    "some text before a variable: 4\n",
    "```"
   ]
  },
  {
   "cell_type": "code",
   "execution_count": null,
   "metadata": {},
   "outputs": [],
   "source": [
    "# Take a look at the format of the series\n",
    "# \"\\n\" means new-line, so the variable gets printed on the line below followed by an empty line \n",
    "print(f\"Series a \\n {a} \\n\") "
   ]
  },
  {
   "cell_type": "code",
   "execution_count": null,
   "metadata": {},
   "outputs": [],
   "source": [
    "# Declare tests\n",
    "c = a[a > 15]\n",
    "d = a[a < 0]\n",
    "\n",
    "print (f\"condition c = a>15 \\n {c} \\n\")\n",
    "print (f\"condition d = a<0 \\n {d} \\n\")\n"
   ]
  },
  {
   "cell_type": "markdown",
   "metadata": {},
   "source": [
    "Both tests c and d are satisfied one after the other. \n",
    "What if we want to satisfy both tests at the same time?"
   ]
  },
  {
   "cell_type": "code",
   "execution_count": null,
   "metadata": {},
   "outputs": [],
   "source": [
    "# AND logic\n",
    "print(c & d)"
   ]
  },
  {
   "cell_type": "markdown",
   "metadata": {},
   "source": [
    "Here, you can see the output is False, and shows you all the indices where they are False. \n",
    "\n",
    "Now if we try `or` :"
   ]
  },
  {
   "cell_type": "code",
   "execution_count": null,
   "metadata": {},
   "outputs": [],
   "source": [
    "# OR logic\n",
    "print(c | d)"
   ]
  },
  {
   "cell_type": "markdown",
   "metadata": {},
   "source": [
    "###  Boolean Indexing in Series <a class=\"anchor\" id=\"boolind\"></a>\n",
    "We can also use an array of booleans to index another array, i.e. only elements coresponding to `True` are extracted from the indexed array.\n",
    "\n",
    "<img src=\"images/Boolean.png\" width=\"500\">"
   ]
  },
  {
   "cell_type": "code",
   "execution_count": null,
   "metadata": {},
   "outputs": [],
   "source": [
    "c = a > 15\n",
    "d = a < 0\n",
    "a_cVd = a[c | d]\n",
    "print(a_cVd)"
   ]
  },
  {
   "cell_type": "markdown",
   "metadata": {},
   "source": [
    "### Boolean Indexing in DataFrames\n",
    "\n",
    "Using these same logical principles, we can index whole dataframes to recover just the data we need. \n",
    "Let's take a look at the dataframe below:"
   ]
  },
  {
   "cell_type": "code",
   "execution_count": null,
   "metadata": {},
   "outputs": [],
   "source": [
    "# Dictionary of lists\n",
    "dict = {'name':[\"Toni\", \"James\", \"Claire\", \"Valentina\"],\n",
    "        'degree': [\"Chemistry\", \"Medicinal and Biological Chemistry\", \"Chemical Physics\", \"Chemical Physics\"],\n",
    "        'score':[90, 77, 61, 98]}\n",
    " \n",
    "# creating a dataframe from a dictionary\n",
    "df = pd.DataFrame(dict)\n",
    "\n",
    "print(df)\n"
   ]
  },
  {
   "cell_type": "markdown",
   "metadata": {},
   "source": [
    "Now let's use the comparison operator to filter just those who do MBC."
   ]
  },
  {
   "cell_type": "code",
   "execution_count": null,
   "metadata": {},
   "outputs": [],
   "source": [
    "# Using a comparison operator for filtering of data\n",
    "    \n",
    "Cr = df[\"degree\"] == \"Medicinal and Biological Chemistry\"\n",
    "print(Cr)\n",
    "# print(df['degree'] == 'Medicinal and Biological Chemistry')"
   ]
  },
  {
   "cell_type": "code",
   "execution_count": null,
   "metadata": {},
   "outputs": [],
   "source": [
    "# Apply the indexing to our dataframe to return only those that fit our criteria\n",
    "print(df[Cr])"
   ]
  },
  {
   "cell_type": "code",
   "execution_count": null,
   "metadata": {},
   "outputs": [],
   "source": [
    "# Apply the indexing to our dataframe to return only those that DO NOT fit our criteria\n",
    "print(df[~Cr])"
   ]
  },
  {
   "cell_type": "markdown",
   "metadata": {},
   "source": [
    "# Tasks 3.3.1 <a id=\"tasks-331\"></a>"
   ]
  },
  {
   "cell_type": "markdown",
   "metadata": {},
   "source": [
    "<div class=\"alert alert-success\">\n",
    "    <b>Task 3.3.1 a: Mass-spectrometry</b>\n",
    "\n",
    "Using the mass-spectometry data in the file `ms.txt`, find m/z values in the region between m/z 6400 and 6600. \n",
    "</div>\n"
   ]
  },
  {
   "cell_type": "code",
   "execution_count": null,
   "metadata": {},
   "outputs": [],
   "source": [
    "# FIXME\n",
    "# Read the file ms.txt into the dataframe, and make sure to give the data column names\n",
    "ms_data = pd.read_csv(filepath_or_buffer=____, sep=___, header=____, names = [_____])\n",
    "\n",
    "# Criteria for slicing data\n",
    "\n",
    "print(Output)"
   ]
  },
  {
   "cell_type": "markdown",
   "metadata": {},
   "source": [
    "<details><summary {style='color:green;font-weight:bold'}> Click here to see solution to Task 3.3.1 a </summary>\n",
    "    \n",
    "```python\n",
    "ms_data = pd.read_csv(filepath_or_buffer=\"files/ms.txt\", sep=\"\\t\", header=None, names=[\"m/z\", \"intensity\"])\n",
    "\n",
    "# Criteria for slicing data\n",
    "Crit1 = ms_data[\"m/z\"] > 6400\n",
    "Crit2 = ms_data[\"m/z\"]< 6600\n",
    "Output = ms_data[Crit1 & Crit2 ]\n",
    "print(Output)\n",
    "\n",
    "```\n",
    "\n",
    "*Explanation*: we need to know the path to the file, look at the file to work out how the columns of data are separated, does the data have headers? What should the column names be?\n",
    " </details>"
   ]
  },
  {
   "cell_type": "markdown",
   "metadata": {},
   "source": [
    "<div class=\"alert alert-success\">\n",
    "    <b>Task 3.3.1 b </b> : Assess at what m/z value there is a peak between 6400 and 6600. \n",
    "</div>"
   ]
  },
  {
   "cell_type": "code",
   "execution_count": null,
   "metadata": {},
   "outputs": [],
   "source": [
    "# FIXME\n"
   ]
  },
  {
   "cell_type": "markdown",
   "metadata": {},
   "source": [
    "<details><summary {style='color:green;font-weight:bold'}> Click here to see solution to Task 3.3.1 b </summary>\n",
    "    \n",
    "```python\n",
    "intensity = Output[\"intensity\"]\n",
    "m_z = Output[\"m/z\"]\n",
    "max_value = intensity.max()\n",
    "max_index = intensity.idxmax()\n",
    "\n",
    "print(\"peak\", max_value, \"at m/z\", m_z[max_index])\n",
    "\n",
    "```\n",
    "\n",
    "\n",
    " </details>"
   ]
  },
  {
   "cell_type": "markdown",
   "metadata": {},
   "source": [
    "# 3.4 Using Pandas DataFrames with loops to analyse data <a id='34-using-pandas-dataframes-with-loops-to-analyse-data'></a>"
   ]
  },
  {
   "cell_type": "markdown",
   "metadata": {},
   "source": [
    "We are now going to play around with the dataframe we looked at earlier containing information about the periodic table and pull out some more information from this."
   ]
  },
  {
   "cell_type": "code",
   "execution_count": null,
   "metadata": {},
   "outputs": [],
   "source": [
    "ptable = pd.read_csv(\"files/ptable.csv\")"
   ]
  },
  {
   "cell_type": "code",
   "execution_count": null,
   "metadata": {},
   "outputs": [],
   "source": [
    "# The entries in the df are ordered 0 to 117 for each element. \n",
    "# 0 is hydrogen.\n",
    "print(ptable.loc[0, :]) "
   ]
  },
  {
   "cell_type": "markdown",
   "metadata": {},
   "source": [
    "We can see that there are some variables which return `NaN` (which stands for \"Not a Number\"), we can remove or fill these values easily in pandas."
   ]
  },
  {
   "cell_type": "code",
   "execution_count": null,
   "metadata": {},
   "outputs": [],
   "source": [
    "# drop all values\n",
    "ptable.dropna() \n",
    "# or fill with zeros \n",
    "ptable.fillna(0)"
   ]
  },
  {
   "cell_type": "markdown",
   "metadata": {},
   "source": [
    "We are going to add a new column to our dataframe, which will calculate the mass number from the number of neutron and protons which we already have in two columns. This is just done as a simple addition of the two columns."
   ]
  },
  {
   "cell_type": "code",
   "execution_count": null,
   "metadata": {},
   "outputs": [],
   "source": [
    "# add new column to the dataframe\n",
    "ptable[\"Calculated_mass_number\"] = ptable[\"NumberofNeutrons\"] + ptable[\"NumberofProtons\"]"
   ]
  },
  {
   "cell_type": "markdown",
   "metadata": {},
   "source": [
    "Calculate the difference between our calculated value `Calculated_mass_number` and the value given in the array originally `AtomicMass`. <br>\n",
    "Think about why the values would be different."
   ]
  },
  {
   "cell_type": "code",
   "execution_count": null,
   "metadata": {},
   "outputs": [],
   "source": [
    "ptable[\"Difference_in_mass\"] = ptable[\"Calculated_mass_number\"] - ptable[\"AtomicMass\"]\n",
    "for i in range(len(ptable)):\n",
    "    Name = ptable.iloc[i,1]\n",
    "    Difference = ptable.iloc[i, -1]\n",
    "    print(\"Difference in mass for\", Name, Difference)"
   ]
  },
  {
   "cell_type": "markdown",
   "metadata": {},
   "source": [
    "Now let's use some Boolean logic on the periodic table data. Below we will look for all elements that exist as solid as standard temperature and pressure. "
   ]
  },
  {
   "cell_type": "code",
   "execution_count": null,
   "metadata": {},
   "outputs": [],
   "source": [
    "solids = ptable[ptable['Phase'] =='solid']\n",
    "solids"
   ]
  },
  {
   "cell_type": "markdown",
   "metadata": {},
   "source": [
    "# Task 3.4.1 <a id=\"task-341\"></a>"
   ]
  },
  {
   "cell_type": "markdown",
   "metadata": {},
   "source": [
    "<div class=\"alert alert-success\">\n",
    "    <b>Task 3.4.1 </b>: Set boolean tests to check what elements are liquid at 297 K, and extract the names of those elements.\n",
    "</div>\n"
   ]
  },
  {
   "cell_type": "code",
   "execution_count": null,
   "metadata": {},
   "outputs": [],
   "source": [
    "# What columns from the dataframe will we need?\n",
    "\n",
    "# FIXME\n",
    "\n",
    "# Set Boolean tests to check what is liquid at 297 K (room T)\n",
    "\n",
    "# FIXME\n",
    "\n",
    "# Run the test and print names of elements that are liquid at room temperature\n",
    "\n",
    "# FIXME\n"
   ]
  },
  {
   "cell_type": "markdown",
   "metadata": {},
   "source": [
    "<details> <summary {style=\"color:green;font-weight:bold\"}> Click here to see the full solution to Task 3.4.1 </summary>\n",
    "\n",
    "    \n",
    "```python\n",
    "    \n",
    "# What columns from the dataframe will we need?    \n",
    "element = ptable[\"Element\"]\n",
    "melting = ptable[\"MeltingPoint\"]\n",
    "boiling = ptable[\"BoilingPoint\"]\n",
    "    \n",
    "# Boolean to check what is liquid at 297 K (room T)\n",
    "    \n",
    "T1 = melting<297\n",
    "T2 = boiling>297\n",
    "\n",
    "criteria = T1 & T2\n",
    "print(element[criteria])\n",
    "\n",
    "```\n",
    "    \n",
    "\n",
    "</details>\n"
   ]
  },
  {
   "cell_type": "markdown",
   "metadata": {},
   "source": [
    "# 3.5 Plotting with Pandas <a id='35-plotting-with-pandas'></a>"
   ]
  },
  {
   "cell_type": "markdown",
   "metadata": {},
   "source": [
    "Plotting can be done in many ways within python. At first we will just use plotting straight from pandas. It uses a popular library `matplotlib` in the background. As we progress to later sessions we will use this directly, but for now we will just stick to pandas plotting. \n",
    "\n",
    "We can use the pandas dataframe to easily plot columns with matplotlib. <br>\n",
    "\n",
    "The easiest thing we could do, would be to plot all variables against our index\n",
    "\n",
    "with: "
   ]
  },
  {
   "cell_type": "code",
   "execution_count": null,
   "metadata": {},
   "outputs": [],
   "source": [
    "ptable.plot()"
   ]
  },
  {
   "cell_type": "markdown",
   "metadata": {},
   "source": [
    "However, we can see that this is not very informative, and we must use our knowledge that we have learned in the previous session and earlier in this session to plot the data more sensibly. <br>\n",
    "We can access what columns we can plot against each other with this command:"
   ]
  },
  {
   "cell_type": "code",
   "execution_count": null,
   "metadata": {},
   "outputs": [],
   "source": [
    "ptable.columns"
   ]
  },
  {
   "cell_type": "markdown",
   "metadata": {},
   "source": [
    "Now, let's take two variables from the column headers and plot them against each other.<br>\n",
    "Let's see if we can see trends in the periods of the periodic table."
   ]
  },
  {
   "cell_type": "code",
   "execution_count": null,
   "metadata": {
    "scrolled": true
   },
   "outputs": [],
   "source": [
    "ptable.plot.scatter(x = 'AtomicNumber', y = 'AtomicRadius')"
   ]
  },
  {
   "cell_type": "markdown",
   "metadata": {},
   "source": [
    "We can clearly see the trends of each period in the periodic table."
   ]
  },
  {
   "cell_type": "markdown",
   "metadata": {},
   "source": [
    "Now lets try another type of plot which isn't scatter. \n",
    "We can use a pie chart to show how many elements were discovered in each location. \n",
    "\n",
    "Pandas has a handy `values_counts()` function that we can use on our column of this data."
   ]
  },
  {
   "cell_type": "code",
   "execution_count": null,
   "metadata": {
    "scrolled": true
   },
   "outputs": [],
   "source": [
    "counting = ptable.discovery_location.value_counts()\n",
    "print(counting)"
   ]
  },
  {
   "cell_type": "code",
   "execution_count": null,
   "metadata": {},
   "outputs": [],
   "source": [
    "# Then we can plot these data as a piechart\n",
    "\n",
    "counting.plot.pie(figsize=(10,10))"
   ]
  },
  {
   "cell_type": "markdown",
   "metadata": {},
   "source": [
    "We can also loop over our columns in ptable and plot them as a function of \"Element\"."
   ]
  },
  {
   "cell_type": "code",
   "execution_count": null,
   "metadata": {},
   "outputs": [],
   "source": [
    "for i in ptable.columns[4:9]:\n",
    "    print(i)\n",
    "    fig = plt.figure(figsize=(15,10))\n",
    "    plt.plot(ptable[\"Element\"], ptable[i])\n",
    "    plt.xticks(rotation=90)\n",
    "    plt.show()\n",
    "    \n",
    "# Note how we rotate the xticks 90 degrees to see the name on its side!"
   ]
  },
  {
   "cell_type": "markdown",
   "metadata": {},
   "source": [
    "# Tasks 3.5.1 <a id=\"tasks-351\"></a>"
   ]
  },
  {
   "cell_type": "markdown",
   "metadata": {},
   "source": [
    "<div class=\"alert alert-success\">\n",
    "<b>Task 3.5.1 a: Selecting individual values in a dataframe</b>\n",
    "</div>\n",
    "\n",
    "Using the ptable dataframe, write an expression to find and print the boiling point of argon."
   ]
  },
  {
   "cell_type": "code",
   "execution_count": null,
   "metadata": {},
   "outputs": [],
   "source": [
    "# FIXME\n",
    "\n"
   ]
  },
  {
   "cell_type": "markdown",
   "metadata": {},
   "source": [
    "<details><summary {style='color:green;font-weight:bold'}> Click here to see solution to Task 3.5.1 </summary>\n",
    "\n",
    "Like most things in python, this can be approached in a few ways, e.g. we know that Argon is the 18th element in the periodic table, therefore it is going to be index 17 in our dataframe (python counts from zero)    \n",
    "    \n",
    "```python\n",
    "print(ptable.loc[17, 'BoilingPoint'])\n",
    "\n",
    "```\n",
    "\n",
    "    \n",
    "    \n",
    "Another way to search for this would be to do some Boolean indexing.\n",
    "    \n",
    "```python    \n",
    "Criteria_ar = ptable[\"Element\"] == \"Argon\"\n",
    "print(Criteria_ar) \n",
    "print(ptable[Criteria_ar][\"BoilingPoint\"])\n",
    "  \n",
    "```\n",
    " </details>"
   ]
  },
  {
   "cell_type": "markdown",
   "metadata": {},
   "source": [
    "<div class=\"alert alert-success\">\n",
    "<b>Task 3.5.2: Slicing dataframes</b>\n",
    "</div>\n",
    "\n",
    "Have a look at these two ways of slicing, what is different about them?"
   ]
  },
  {
   "cell_type": "code",
   "execution_count": null,
   "metadata": {},
   "outputs": [],
   "source": [
    "print(ptable.iloc[4:6, 1:3])"
   ]
  },
  {
   "cell_type": "code",
   "execution_count": null,
   "metadata": {},
   "outputs": [],
   "source": [
    "print(ptable.loc['4':'6', 'AtomicNumber':'Symbol'])"
   ]
  },
  {
   "cell_type": "markdown",
   "metadata": {},
   "source": [
    "<details><summary {style='color:green;font-weight:bold'}> Click here to see solution to Task 3.5.2 </summary>\n",
    "\n",
    "Notice how the second statement produces additional columns and many additional row compared to the first statement.\n",
    "\n",
    "What conclusion can we draw? We see that a numerical slice, (first example) omits the final index (i.e. 6) in the range provided, while a named slice, `'AtomicNumber':'Symbol'`, includes the final element \"Symbol\".\n",
    "\n",
    "A funny quirk of not naming our index is that all rows between 40 and 60 are printed with the second method. \n",
    "\n",
    " </details>\n"
   ]
  },
  {
   "cell_type": "markdown",
   "metadata": {},
   "source": [
    "<div class=\"alert alert-success\">\n",
    "<b>Task 3.5.3: Use a loop to identify all symbols with 1 letter</b>\n",
    "</div>\n",
    "\n",
    "Using the symbol column in the dataframe `ptable` use a loop to identify and count all the elements which have a one letter symbol."
   ]
  },
  {
   "cell_type": "code",
   "execution_count": 20,
   "metadata": {},
   "outputs": [],
   "source": [
    "# FIXME"
   ]
  },
  {
   "cell_type": "markdown",
   "metadata": {},
   "source": [
    "<details><summary {style='color:green;font-weight:bold'}> Click here to see solution to Task 3.5.3 </summary>\n",
    "    \n",
    "```python\n",
    "OneLetter= []\n",
    "for x in ptable.Symbol:\n",
    "    if len(x) < 2:\n",
    "        OneLetter.append(x)\n",
    "len(OneLetter)\n",
    "```\n",
    "\n",
    " </details>\n"
   ]
  },
  {
   "cell_type": "markdown",
   "metadata": {},
   "source": [
    "# 3.6 Feedback <a id=\"36-feedback\"></a>\n",
    "\n",
    "We are running this course for the first time, so its helpful for us to know what you did like about the session today and what you think could be improved. This will help us make your future sessions better, as well as help us for future years. \n",
    "Please fill in these two mentimeter Q&As which are anonymous and your answers will not be shown. "
   ]
  }
 ],
 "metadata": {
  "kernelspec": {
   "display_name": "Python 3.10.2 ('jupyterlab')",
   "language": "python",
   "name": "python3"
  },
  "language_info": {
   "codemirror_mode": {
    "name": "ipython",
    "version": 3
   },
   "file_extension": ".py",
   "mimetype": "text/x-python",
   "name": "python",
   "nbconvert_exporter": "python",
   "pygments_lexer": "ipython3",
   "version": "3.10.2"
  },
  "toc": {
   "base_numbering": 1,
   "nav_menu": {},
   "number_sections": false,
   "sideBar": true,
   "skip_h1_title": false,
   "title_cell": "Table of Contents",
   "title_sidebar": "Contents",
   "toc_cell": false,
   "toc_position": {},
   "toc_section_display": true,
   "toc_window_display": true
  },
  "vscode": {
   "interpreter": {
    "hash": "cf51243a6e93b78f1f5c5d179cd4f66e9bfd7b6269bebfcfdbed7f35483e292c"
   }
  }
 },
 "nbformat": 4,
 "nbformat_minor": 4
}

{
 "cells": [
  {
   "cell_type": "markdown",
   "metadata": {},
   "source": [
    "# Unit 07: Fitting Part II -- Linear and non-linear Fits"
   ]
  },
  {
   "cell_type": "markdown",
   "metadata": {
    "slideshow": {
     "slide_type": "slide"
    }
   },
   "source": [
    "<a rel=\"license\" href=\"https://creativecommons.org/licenses/by/4.0/\"><img alt=\"Creative Commons Licence\" style=\"border-width:0\" src=\"https://licensebuttons.net/l/by/4.0/88x31.png\" title='This work is licensed under a Creative Commons Attribution 4.0 International License.' align=\"right\"/></a>\n",
    "\n",
    "Author: Dr Antonia Mey   \n",
    "Email: antonia.mey@ed.ac.uk\n",
    "  \n",
    "### Learning objectives\n",
    "By the end of this unit, you should be able to \n",
    "* Get more practice with plotting data and computing molecular properties.\n",
    "* Test how correlated two datasets are using `scipy`\n",
    "* Understand how to find the minimum of a function computationally.\n",
    "* Use the library `scipy` to find a line of best fit.\n",
    "* Use the library `scipy` to be able to fit an exponential function.\n",
    "* Know of other fitting functions, such as polynomial or Gaussian fits."
   ]
  },
  {
   "cell_type": "markdown",
   "metadata": {
    "slideshow": {
     "slide_type": "slide"
    }
   },
   "source": [
    "### Table of Contents\n",
    "\n",
    "1. [Finding the line of best fit between two sets of data points](#3-findingin-the-line-of-best-fit-between-two-sets-of-data-points)    \n",
    "   1.1 [Finding the minimum of a function](#31-finding-the-minimum-of-a-function)    \n",
    "   1.2 [Tasks](#tasks-3)   \n",
    "   1.3 [Line of best fit and residuals](#32-line-of-best-fit-and-residuals)   \n",
    "   1.4 [Tasks](#tasks-4)    \n",
    "2. [Fitting non-linear functions](#33-fitting-a-non-linear-function)    \n",
    "   2.1[Fitting a Gaussian distribution](#34-fitting-a-gaussian-distribution)        "
   ]
  },
  {
   "cell_type": "markdown",
   "metadata": {},
   "source": [
    "### Links to documentation\n",
    "\n",
    "You can find the full documentation to `scipy` at [scipy.org](https://scipy.org)."
   ]
  },
  {
   "cell_type": "markdown",
   "metadata": {
    "slideshow": {
     "slide_type": "slide"
    }
   },
   "source": [
    "**<span style=\"color:black\">Jupyter Cheat Sheet</span>**\n",
    "- To run the currently highlighted cell and move focus to the next cell, hold <kbd>&#x21E7; Shift</kbd> and press <kbd>&#x23ce; Enter</kbd>;\n",
    "- To run the currently highlighted cell and keep focus in the same cell, hold <kbd>&#x21E7; Ctrl</kbd> and press <kbd>&#x23ce; Enter</kbd>;\n",
    "- To get help for a specific function, place the cursor within the function's brackets, hold <kbd>&#x21E7; Shift</kbd>, and press <kbd>&#x21E5; Tab</kbd>;"
   ]
  },
  {
   "cell_type": "markdown",
   "metadata": {},
   "source": [
    "# Import libraries"
   ]
  },
  {
   "cell_type": "code",
   "execution_count": null,
   "metadata": {},
   "outputs": [],
   "source": [
    "import sys\n",
    "import os.path\n",
    "sys.path.append(os.path.abspath('../'))\n",
    "from helper_functions.mentimeter import Mentimeter\n",
    "import numpy as np\n",
    "import matplotlib.pylab as plt\n",
    "import pandas as pd\n",
    "import math as m"
   ]
  },
  {
   "cell_type": "markdown",
   "metadata": {},
   "source": [
    "# 1. Finding the line of best fit between two sets of data points\n",
    "<a id='3-finding-the-line-of-best-fit-between-two-sets-of-data-points'></a>"
   ]
  },
  {
   "cell_type": "markdown",
   "metadata": {},
   "source": [
    "From the Anscombe's quartet we have learned that the correlation coefficient alone will not tell us everything about the data. \n",
    "- how many data points are we correlating?\n",
    "- Are there any outliers?\n",
    "- What is the best fitting line that goes through the data?"
   ]
  },
  {
   "cell_type": "markdown",
   "metadata": {},
   "source": [
    "## Reminder: functions and graphs\n",
    "\n",
    "Plots usually show the relationship between two related values, one (or more) independent variable(s), and a dependent variable one. In an experiment:\n",
    "- Independent variables (often denoted $x$) are measurable and unaffected by the value of other variables\n",
    "- Dependent variables (often denoted $y$) have values that are affected by the value of independent variables\n",
    "\n",
    "Mathematically one can say: $y = \\mathrm{function}(x)$, or $y = f(x)$."
   ]
  },
  {
   "cell_type": "markdown",
   "metadata": {},
   "source": [
    "#### Typical functions in chemistry\n",
    "1. Linear function: $y=mx+b$\n",
    "2. Polynomial functions: $y=ax^n+bx^m+c$\n",
    "2. Power Function: $y=ax^m$   \n",
    "Power functions can be linear, when taking the logarithm. Remember:\n",
    "$\\log y = m \\log x + \\log a$\n",
    "3. Exponential functions: $y=ae^{mx}$   \n",
    "Exponential functions are linear for a plot of the natural logarithm of the dependent variable against the independent variable: $\\ln y = mx+\\ln a$"
   ]
  },
  {
   "cell_type": "markdown",
   "metadata": {},
   "source": [
    "### Example 1: Solubility of sodium chloride\n",
    "\n",
    "The maximum amount of sodium chloride you can dissolve in water will change as a function of temperature. \n",
    "\n",
    "The file <code>sodium_data.dat</code> contains some measurements by a student raising water temperature from 0$^\\circ$C to 100$^\\circ$C.\n",
    "\n",
    "For example, if you have 26.1 g of salt it will dissolve in 100 g of water at 20$^\\circ$C, but if you add another 2 g the remaining salt will just stay solid. However, at 70$^\\circ$C the additional 2 g will also dissolve. \n",
    "\n",
    "Solubility is the dependent variable, as it depends on the independent variable temperature. \n",
    "\n",
    "The independent variable is often plotted along the x-axis and the dependent variable along the y-axis. "
   ]
  },
  {
   "cell_type": "code",
   "execution_count": null,
   "metadata": {},
   "outputs": [],
   "source": [
    "data = pd.read_csv(\"data/sodium_data.dat\", delimiter=\"\\t\")"
   ]
  },
  {
   "cell_type": "code",
   "execution_count": null,
   "metadata": {},
   "outputs": [],
   "source": [
    "# Plot the data here, and answer the question below\n",
    "# FIXME"
   ]
  },
  {
   "cell_type": "markdown",
   "metadata": {},
   "source": [
    "<details><summary {style='color:green;font-weight:bold'}> Click here to see the solution to Example 1. </summary>\n",
    "\n",
    "```python\n",
    "temp = data[\"temperature/C\"]\n",
    "solubility = data[\"solubility/g NaCl/100g water\"]\n",
    "plt.plot(temp, solubility)\n",
    "plt.xlabel(\"temperature (C)\")\n",
    "plt.ylabel(\"solubility (g)\")\n",
    "```\n",
    "\n"
   ]
  },
  {
   "cell_type": "markdown",
   "metadata": {},
   "source": [
    "## Mean Square Error (MSE)"
   ]
  },
  {
   "cell_type": "markdown",
   "metadata": {},
   "source": [
    "How do we find a line of best fit through our data?\n",
    "1. ~~Eyeball it by hand~~\n",
    "2. Programmatically\n",
    "\n",
    "To find the best fit, the computer needs to be able to quantify how well a line fits the data."
   ]
  },
  {
   "cell_type": "markdown",
   "metadata": {
    "slideshow": {
     "slide_type": "slide"
    }
   },
   "source": [
    "As an example, let's take some scattered data (green points below). We want to fit a linear model (blue line) through them. By eye, we can see that a line at $y = 0$ does not fit the data well. \n",
    "<img src=\"images/scatter_data.png\" alt=\"drawing\" width=\"300\"/>"
   ]
  },
  {
   "cell_type": "markdown",
   "metadata": {
    "slideshow": {
     "slide_type": "slide"
    }
   },
   "source": [
    "Each green point is located at a certain distance from the blue line. We call this distance a **residual**. A good fit leads to small residuals.\n",
    "<img src=\"images/initial_guess.png\" alt=\"drawing\" width=\"300\"/>"
   ]
  },
  {
   "cell_type": "markdown",
   "metadata": {
    "slideshow": {
     "slide_type": "slide"
    }
   },
   "source": [
    "We can quantify how well a line fits the data by calculating the **Mean square error (MSE)**. The MSE is a *second order polynomial* is defined as:\n",
    "\n",
    "$\\mathrm{MSE} = \\frac{1}{n}\\sum(Y_i - \\hat Y_i)^2$\n",
    "\n",
    "$n$ is the number of data points,   \n",
    "$Y_i$ is the observed value (i.e. the measured data point),   \n",
    "$\\hat Y_i$ is the predicted value (i.e. the value that lies on the line of best fit).   "
   ]
  },
  {
   "cell_type": "markdown",
   "metadata": {
    "slideshow": {
     "slide_type": "slide"
    }
   },
   "source": [
    "To find the line of best fit, we need to find which combination of its parameters (for a linear function, slope and intercept) leads to the smallest MSE.\n",
    "\n",
    "<img src=\"images/best_fit_loss.png\" alt=\"drawing\" width=\"300\"/>\n",
    "\n",
    " How do we minimise a function again?"
   ]
  },
  {
   "cell_type": "markdown",
   "metadata": {},
   "source": [
    "## 1.1. Finding the minimum of a function\n",
    "<a id='31-finding-the-minimum-of-a-function'></a>"
   ]
  },
  {
   "cell_type": "markdown",
   "metadata": {},
   "source": [
    "To remind ourselves of how the minimum of a function can be found, we will take as example a diatomic molecule, e.g. $O_2$.\n",
    "We can model the bond between the two atoms as a harmonic oscillator (i.e. a spring): $y=a(x+b)^2$."
   ]
  },
  {
   "cell_type": "markdown",
   "metadata": {
    "slideshow": {
     "slide_type": "slide"
    }
   },
   "source": [
    "## Tasks 3"
   ]
  },
  {
   "cell_type": "markdown",
   "metadata": {},
   "source": [
    "<div class=\"alert alert-success\">\n",
    "    <b>Task 3.1 </b> : Find the minimum of the following function manually: \n",
    "</div>\n",
    "\n",
    "$f(r) = 0.5(r -2)^2$"
   ]
  },
  {
   "cell_type": "markdown",
   "metadata": {},
   "source": [
    "<details><summary {style='color:green;font-weight:bold'}> Click here to see the solution to Task 3.1. </summary>\n",
    "\n",
    "We start with the first order derivative of the function\n",
    "$f'(r) = 2/2(r-2)^1(1) = (r-2)$\n",
    "\n",
    "In order to find the minimum we set the first order derivative to zero\n",
    "$f'(r) = 0 = r-2$\n",
    "\n",
    "And we solve for r:\n",
    "The minimum can be found at $r=2$\n",
    "\n",
    "</details>"
   ]
  },
  {
   "cell_type": "markdown",
   "metadata": {},
   "source": [
    "<div class=\"alert alert-success\">\n",
    "    <b>Task 3.2 </b> : Find the minimum of $ f(r) = 0.5(r -2)^2 $.\n",
    "    \n",
    "This time use <code>scipy.optimize.minimize</code>.\n",
    "    \n",
    "You can find more information on the minimize function in the documentation [here](https://docs.scipy.org/doc/scipy/reference/generated/scipy.optimize.minimize.html). Let's arbitrarily choose an initial guess of $r = 4$, and use the minimize function. What do the outputs mean? Does the output change based on the solver method used? Can you also plot the function?\n",
    "\n",
    "**Hint**: Start by writing a function `def f(r)` defining our harmonic oscillator.\n",
    "</div>"
   ]
  },
  {
   "cell_type": "code",
   "execution_count": null,
   "metadata": {},
   "outputs": [],
   "source": [
    "# Task 2: Test out the solution in this cell:\n",
    "def f(r):\n",
    "    # FIXME\n",
    "\n",
    "# create an array using np.arange with 100 values from -10 to 10. \n",
    "r = # FIXME\n",
    "\n",
    "# plot the function r v. f(r)\n",
    "# FIXME\n",
    "\n",
    "# use optimise.minimize to find the minimum\n",
    "# FIXME\n",
    "\n",
    "# what happens if you use a different starting point? Try a different optimizer? \n",
    "# FIXME\n"
   ]
  },
  {
   "cell_type": "markdown",
   "metadata": {},
   "source": [
    "<details><summary {style='color:green;font-weight:bold'}> Click here to see the solution to Task 3.2. </summary>\n",
    "    \n",
    "```python\n",
    "from scipy import optimize\n",
    "def f(r):\n",
    "    return 0.5*(r-2)**2\n",
    "\n",
    "# defining the r values\n",
    "r = np.arange(-10,10,0.1)\n",
    "plt.plot(r, f(r))\n",
    "print(optimize.minimize(f, x0=4))\n",
    "\n",
    "# Trying with a different method and starting point\n",
    "print(optimize.minimize(f, x0=7, method=\"L-BFGS-B\"))\n",
    "\n",
    "```\n",
    "</details>\n",
    "\n"
   ]
  },
  {
   "cell_type": "markdown",
   "metadata": {},
   "source": [
    "<div class=\"alert alert-warning\">\n",
    "    <b>Advanced Task 3.3 </b> : Find the minimum of $f(x) = x^4+x^3-6x^2$ by using <code>scipy.optimize.minimize</code>. Try different starting points and plot the function!\n",
    "</div>"
   ]
  },
  {
   "cell_type": "code",
   "execution_count": null,
   "metadata": {},
   "outputs": [],
   "source": [
    "# FIXME"
   ]
  },
  {
   "cell_type": "markdown",
   "metadata": {},
   "source": [
    "<details><summary {style='color:green;font-weight:bold'}> Click here to see the solution to Task 3.3. </summary>\n",
    "\n",
    "```python\n",
    "    \n",
    "from scipy import optimize\n",
    "def f(x):\n",
    "    return np.power(x,4)+np.power(x,3)-6*x**2\n",
    "\n",
    "# defining the r values\n",
    "r = np.arange(-4.1,3.7,0.1)\n",
    "plt.plot(r, f(r))\n",
    "print(optimize.minimize(f, x0=4))\n",
    "\n",
    "# Trying with a different method and starting point\n",
    "print(optimize.minimize(f, x0=7, method=\"L-BFGS-B\"))    \n",
    "```"
   ]
  },
  {
   "cell_type": "markdown",
   "metadata": {},
   "source": [
    "## 1.2. Line of best fit and residuals\n",
    "\n",
    "<a id='32-line-of-best-fit-and-residuals'></a>\n",
    "\n",
    "Take a look at the [linregress](https://docs.scipy.org/doc/scipy/reference/generated/scipy.stats.linregress.html) function in scipy. It will allow you to find the line of best fit."
   ]
  },
  {
   "cell_type": "markdown",
   "metadata": {},
   "source": [
    "In order to find the line of best fit, we need to find the minimum of the $\\mathrm{MSE}$ function, but it is now give by $\\mathrm{MSE}=\\frac{1}{n}\\sum(Y_i-\\hat Y_i)^2$. Now the issue that this function does not depend on a single data point Y anymore but many $Y$s! You can think of it graphically. You are trying to minimise the area of squares around your residuals. \n",
    "\n",
    "You can use linear least squares if your model parameters combine linearly. \n",
    "\n",
    "<img src=\"images/least_square_bad.jpg\" alt=\"drawing\" width=\"300\"/>\n",
    "\n",
    "Then the best line will have the smallest area of all squares of your residuals:\n",
    "\n",
    "<img src=\"images/least_square.jpg\" alt=\"drawing\" width=\"300\"/>"
   ]
  },
  {
   "cell_type": "markdown",
   "metadata": {},
   "source": [
    "## Tasks 4 <a id=\"tasks-4\"></a>"
   ]
  },
  {
   "cell_type": "markdown",
   "metadata": {},
   "source": [
    "<div class=\"alert alert-success\">\n",
    "    <b>Task 4.1 </b> : Discuss how you would try and find the line of best fit algorithmically.   \n",
    "</div>"
   ]
  },
  {
   "cell_type": "markdown",
   "metadata": {},
   "source": [
    "<details> <summary {style=\"color:green; font-weight:bold\"}> Mathematical background:</summary>\n",
    "    \n",
    "There are many different algorithms for this problem. If you have linear data and your problem is overdetermined the analytical solution of using linear least squares, will be the best.     \n",
    "https://en.wikipedia.org/wiki/Least_squares   \n",
    "https://www.youtube.com/watch?v=YwZYSTQs-Hk\n",
    "\n",
    "\n"
   ]
  },
  {
   "cell_type": "markdown",
   "metadata": {},
   "source": [
    "<div class=\"alert alert-success\">\n",
    "    <b>Task 4.2 </b> : Compute the line of best fit using the <code>linregress</code> function in <code>scipy.stats</code> for the solvation data of NaCl? \n",
    "</div>"
   ]
  },
  {
   "cell_type": "code",
   "execution_count": null,
   "metadata": {},
   "outputs": [],
   "source": [
    "# FIXME"
   ]
  },
  {
   "cell_type": "markdown",
   "metadata": {},
   "source": [
    "<details><summary {style='color:green;font-weight:bold'}> Click here to see the solution to Task 4.2. </summary>\n",
    "    \n",
    "```python\n",
    "from scipy import stats\n",
    "data = pd.read_csv(\"data/sodium_data.dat\", delimiter=\"\\t\")\n",
    "temperature = data.iloc[:, 1].to_list()\n",
    "solubility = data.iloc[:, 2].to_list()\n",
    "result = stats.linregress(temp,solubility)\n",
    "\n",
    "```\n",
    "\n",
    "</details>"
   ]
  },
  {
   "cell_type": "markdown",
   "metadata": {},
   "source": [
    "<div class=\"alert alert-success\">\n",
    "    <b>Task 4.3 </b> : Plot your line of best fit, the data and a histogram of residuals. \n",
    "</div>"
   ]
  },
  {
   "cell_type": "code",
   "execution_count": null,
   "metadata": {},
   "outputs": [],
   "source": [
    "# FIXME"
   ]
  },
  {
   "cell_type": "markdown",
   "metadata": {},
   "source": [
    "<details>\n",
    " <summary {style='color:green;font-weight:bold'}> Click here to see the solution to plotting the line of best fit in Task 4.3 </summary>\n",
    "    \n",
    "```python\n",
    "\n",
    "# plotting the line of best fit\n",
    "plt.plot(temp, solubility, \"o\", label=\"solubility data\")\n",
    "plt.plot(np.array(temp), res.intercept + res.slope*np.array(temp), \"r\", label=\"fitted line\")\n",
    "plt.legend()\n",
    "plt.xlabel(\"Temperature ($^{\\circ}$C)\")\n",
    "plt.ylabel(\"Solubility (mol/l)\")\n",
    "    \n",
    "```\n",
    "\n",
    "</details>"
   ]
  },
  {
   "cell_type": "markdown",
   "metadata": {},
   "source": [
    "<details>\n",
    "<summary {style='color:green;font-weight:bold'}> Click here to see the solution to plotting the residuals in Task 4.3 </summary>\n",
    "    \n",
    "```python\n",
    "# plotting the residuals\n",
    "residual = solubility -(res.intercept + res.slope*np.array(temp))\n",
    "plt.plot(temp,residual, \"o\", color=\"darkblue\")\n",
    "plt.title(\"Residual Plot\")\n",
    "plt.xlabel(\"Independent Variable\")\n",
    "plt.ylabel(\"Residual\")\n",
    "```\n",
    "\n",
    "</details>"
   ]
  },
  {
   "cell_type": "markdown",
   "metadata": {},
   "source": [
    "<details>\n",
    "<summary {style='color:green;font-weight:bold'}> Click here to see the solution to plotting the histogram of residuals in Task 4.3: </summary>\n",
    "    \n",
    "```python\n",
    "# plotting the histogram of residuals\n",
    "histogram = plt.hist(residual, bins=20)\n",
    "plt.xlabel(\"Residual\")\n",
    "plt.ylabel(\"Frequency of residual\")\n",
    "```\n"
   ]
  },
  {
   "cell_type": "markdown",
   "metadata": {},
   "source": [
    "#### Sanity checking your linear regression"
   ]
  },
  {
   "cell_type": "markdown",
   "metadata": {},
   "source": [
    "When looking at the distribution of residuals you expect them to be normally distributed. This means that the regression model (your line of best fit) should be randomly better or worse for certain data points making the right prediction. You can check this by plotting a histogram of your residuals. Your data behaves as expected if the distribution follows a normal distribution. For more analysis you can do on your regression fit see [here](https://www.itl.nist.gov/div898/handbook/pri/section2/pri24.htm)."
   ]
  },
  {
   "cell_type": "markdown",
   "metadata": {},
   "source": [
    "## 2. Fitting a non-linear function\n",
    "<a id='33-fitting-a-non-linear-function'></a>"
   ]
  },
  {
   "cell_type": "markdown",
   "metadata": {
    "slideshow": {
     "slide_type": "slide"
    }
   },
   "source": [
    "The time a drug will survive in the body can often be described by a single exponential process similar to $C(t) = C(0)\\exp(-kt)$, where $k$ is the reaction constant and $C(t)$ the concentration of e.g. a drug in the blood after time $t$. Let's look at an example measurement of concentrations over time and see if we can determine the reaction rate $k$."
   ]
  },
  {
   "cell_type": "code",
   "execution_count": null,
   "metadata": {},
   "outputs": [],
   "source": [
    "# Loading the data\n",
    "exp_data = pd.read_csv(\"data/drug_concentration.txt\", delimiter=\"\\t\")"
   ]
  },
  {
   "cell_type": "code",
   "execution_count": null,
   "metadata": {},
   "outputs": [],
   "source": [
    "time = exp_data.iloc[:, 1].to_list()\n",
    "concentration = exp_data.iloc[:, 2].to_list()\n",
    "fig, ax = plt.subplots(1,1)\n",
    "ax.scatter(time, concentration)\n",
    "ax.set_xlabel(\"time\")\n",
    "ax.set_ylabel(\"Concentration\")\n",
    "plt.show()"
   ]
  },
  {
   "cell_type": "markdown",
   "metadata": {},
   "source": [
    "#### Defining a fitting function\n",
    "We need to define the type of function we want to fit. The data looks like an exponential decay, so we can define an exponential function to be fitted. Using the definition from before, $f(x) = a\\exp(kx)+b$, we can determine the rate constant from the fit. \n"
   ]
  },
  {
   "cell_type": "code",
   "execution_count": 31,
   "metadata": {},
   "outputs": [],
   "source": [
    "def exp_func(x, a, k, b):\n",
    "    return a * np.exp(x * k) + b"
   ]
  },
  {
   "cell_type": "markdown",
   "metadata": {},
   "source": [
    "#### Initial guesses\n",
    "Just like for the linear regression we previously saw, we will need to give the function that will allow us to fit this exponential curve guesses for the initial parameters. Now we don't just have $x_0$, but inital guesses for the three parameters $a$, $k$ and $b$. This can be defined as an array!\n",
    "\n",
    "The actual curve fitting is done with the `scipy.optimize.curve_fit` function. Take a look at the documentation [here](https://docs.scipy.org/doc/scipy/reference/generated/scipy.optimize.curve_fit.html)."
   ]
  },
  {
   "cell_type": "code",
   "execution_count": null,
   "metadata": {},
   "outputs": [],
   "source": [
    "import scipy.optimize\n",
    "# using the scipy library to fit the x- and y-axis data \n",
    "# p0 is where you give the function guesses for the fitting parameters\n",
    "# this function returns:\n",
    "#   popt_exponential: this contains the fitting parameters\n",
    "#   pcov_exponential: estimated covariance of the fitting paramters\n",
    "popt_exponential, pcov_exponential = scipy.optimize.curve_fit(exp_func, \n",
    "                                                              time, \n",
    "                                                              concentration,\n",
    "                                                              p0=[1,-0.5, 1])\n",
    "\n",
    "# we then can find the error of the fitting parameters\n",
    "# from the pcov_linear array\n",
    "perr_exponential = np.sqrt(np.diag(pcov_exponential))"
   ]
  },
  {
   "cell_type": "code",
   "execution_count": null,
   "metadata": {},
   "outputs": [],
   "source": [
    "# this cell prints the fitting parameters with their errors\n",
    "print(f\"pre-exponential factor = {popt_exponential[0]:2.2f} ± {perr_exponential[0]:2.2f}\")\n",
    "print(f\"rate constant = {popt_exponential[1]:2.2f} ± {perr_exponential[1]:2.2f} \")"
   ]
  },
  {
   "cell_type": "markdown",
   "metadata": {},
   "source": [
    "<div class=\"alert alert-warning\">\n",
    "    <b>Advanced Task 4.4</b> : Plot your line of best fit, the data and a histogram of residuals for the exponential fit! \n",
    "</div>"
   ]
  },
  {
   "cell_type": "code",
   "execution_count": null,
   "metadata": {},
   "outputs": [],
   "source": [
    "# Task (advanced): Test out the solution in this cell:\n",
    "# FIXME"
   ]
  },
  {
   "cell_type": "markdown",
   "metadata": {},
   "source": [
    "<details><summary {style='color:green;font-weight:bold'}> Click here to see the solution to Task 4.4 (advanced). </summary>\n",
    "\n",
    "```Python\n",
    "fig, ax = plt.subplots(1,1)\n",
    "ax.scatter(time, concentration)\n",
    "ax.plot(time,exp_func(np.array(time),popt_exponential[0],popt_exponential[1],popt_exponential[2]))\n",
    "ax.xlabel(\"Time\")\n",
    "ax.ylabel(\"Concentration\")\n",
    "plt.show()\n",
    "```"
   ]
  },
  {
   "cell_type": "markdown",
   "metadata": {},
   "source": [
    "## 2.1. Fitting a Gaussian distribution\n",
    "<a id='34-fitting-a-gaussian-distribution'></a>\n",
    "\n",
    "Let's revisit the dataset from the previous session and fit a Gaussian or normal distribution to the densities of white wine. "
   ]
  },
  {
   "cell_type": "code",
   "execution_count": null,
   "metadata": {},
   "outputs": [],
   "source": [
    "# Loading the white wine dataset\n",
    "df_whites = pd.read_csv(\"data/winequality-white.csv\", delimiter=\"\";\"\")\n",
    "pH_whites = df_whites[\"pH\"]\n",
    "# We're using plt here instead of ax to just get a quick plot\n",
    "plt.hist(pH_whites, bins=50, alpha=0.5)"
   ]
  },
  {
   "cell_type": "code",
   "execution_count": null,
   "metadata": {},
   "outputs": [],
   "source": [
    "import pylab as plb\n",
    "from scipy.optimize import curve_fit\n",
    "from scipy import asarray as ar,exp\n",
    "heights, edges = np.histogram(pH_whites, bins=50, density=True)\n",
    "\n",
    "# Just an easy way of defining x and y\n",
    "x = edges[:49]\n",
    "y = heights[:49]\n",
    "\n",
    "# We're using plt here instead of ax to just get a quick plot\n",
    "plt.plot(x,y)"
   ]
  },
  {
   "cell_type": "code",
   "execution_count": null,
   "metadata": {},
   "outputs": [],
   "source": [
    "# the number of data\n",
    "n = len(x)                          \n",
    "# note this correction\n",
    "mean = sum(x*y)/n                  \n",
    "# note this correction \n",
    "sigma = sum(y*(x-mean)**2)/n       \n",
    "\n",
    "# defining the Gaussian distribution\n",
    "def Gauss(X,C,X_mean,sigma):\n",
    "    return C*exp(-(X-X_mean)**2/(2*sigma**2))\n",
    "\n",
    "# The actual curve fitting\n",
    "popt,pcov = curve_fit(Gauss,x,y,p0=[max(y),mean, sigma],maxfev=5000)\n",
    "\n",
    "# plotting the result\n",
    "plt.plot(x, y, \"b+:\", label=\"data\")\n",
    "plt.plot(x, Gauss(x,*popt), \"ro:\", label=\"fit\")"
   ]
  },
  {
   "cell_type": "markdown",
   "metadata": {},
   "source": [
    "<div class=\"alert alert-success\">\n",
    "    <b>Task 4.5 </b> : Fit a Gaussian to the citric acid of white wine and plot the fitted Gaussian over your histogram\n",
    "</div>\n",
    "\n",
    "**Hint**: use the above code as a template"
   ]
  },
  {
   "cell_type": "code",
   "execution_count": null,
   "metadata": {},
   "outputs": [],
   "source": [
    "# FIXME\n"
   ]
  },
  {
   "cell_type": "markdown",
   "metadata": {},
   "source": [
    "<details><summary {style='color:green;font-weight:bold'}> Click here to see the solution to Task 4.5. </summary>\n",
    "\n",
    "```python\n",
    "# This is the main difference, I am now selecting the citric acid column\n",
    "citric_acid = df_whites[\"citric acid\"] \n",
    "heights, edges = np.histogram(citric_acid, bins=50, density=True)\n",
    "x = edges[:49]\n",
    "y = heights[:49]\n",
    "\n",
    "# Copying code from before\n",
    "\n",
    "# the number of data          \n",
    "n = len(x)                \n",
    "# note this correction      \n",
    "mean = sum(x*y)/n             \n",
    "# note this correction\n",
    "sigma = sum(y*(x-mean)**2)/n       \n",
    "\n",
    "def Gauss(X,C,X_mean,sigma):\n",
    "    return C*exp(-(X-X_mean)**2/(2*sigma**2))\n",
    "\n",
    "popt,pcov = curve_fit(Gauss,x,y,p0=[max(y),mean, sigma],maxfev=5000)\n",
    "plt.plot(x, y, \"b+:\", label=\"data\")\n",
    "plt.plot(x, Gauss(x,*popt), \"ro:\", label=\"fit\")\n",
    "```"
   ]
  },
  {
   "cell_type": "markdown",
   "metadata": {},
   "source": [
    "<div class=\"alert alert-info\">\n",
    "    <b>Something to try </b> : You can also use <code>scipy.optimize.curve_fit</code> to fit a linear function. The way you do this is by defining the fitting function as a linear function. \n",
    "</div>\n",
    "\n",
    "You could use:\n",
    "\n",
    "```Python\n",
    "def linear_function(x, slope, intercept):\n",
    "    return slope*x + intercept\n",
    "```"
   ]
  }
 ],
 "metadata": {
  "kernelspec": {
   "display_name": "Python 3 (ipykernel)",
   "language": "python",
   "name": "python3"
  },
  "language_info": {
   "codemirror_mode": {
    "name": "ipython",
    "version": 3
   },
   "file_extension": ".py",
   "mimetype": "text/x-python",
   "name": "python",
   "nbconvert_exporter": "python",
   "pygments_lexer": "ipython3",
   "version": "3.9.13"
  },
  "vscode": {
   "interpreter": {
    "hash": "cf51243a6e93b78f1f5c5d179cd4f66e9bfd7b6269bebfcfdbed7f35483e292c"
   }
  }
 },
 "nbformat": 4,
 "nbformat_minor": 4
}

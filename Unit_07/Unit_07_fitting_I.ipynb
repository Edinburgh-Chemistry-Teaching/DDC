{
 "cells": [
  {
   "cell_type": "markdown",
   "metadata": {},
   "source": [
    "# Unit 07 Fitting Part I"
   ]
  },
  {
   "cell_type": "markdown",
   "metadata": {
    "slideshow": {
     "slide_type": "slide"
    }
   },
   "source": [
    "<a rel=\"license\" href=\"https://creativecommons.org/licenses/by/4.0/\"><img alt=\"Creative Commons Licence\" style=\"border-width:0\" src=\"https://licensebuttons.net/l/by/4.0/88x31.png\" title='This work is licensed under a Creative Commons Attribution 4.0 International License.' align=\"right\"/></a>\n",
    "\n",
    "Author: Dr Antonia Mey   \n",
    "Email: antonia.mey@ed.ac.uk\n",
    "  \n",
    "### Learning objectives\n",
    "By the end of this unit, you should be able to \n",
    "* Get more practice with plotting data and computing molecular properties.\n",
    "* Test how correlated two datasets are using `scipy`\n",
    "* Understand how to find the minimum of a function computationally.\n",
    "* Use the library `scipy` to find a line of best fit.\n",
    "* Use the library `scipy` to be able to fit an exponential function.\n",
    "* Know of other fitting functions, such as polynomial or Gaussian fits.   "
   ]
  },
  {
   "cell_type": "markdown",
   "metadata": {
    "slideshow": {
     "slide_type": "slide"
    }
   },
   "source": [
    "### Table of Contents\n",
    "1. [Recap](#1-recap-molecular-geometries-and-plotting)      \n",
    "   1.1 [Recap: molecular geometries](#11-recap-of-molecular-geometries)              \n",
    "   1.2 [Recap: mean $\\mu$ and standard deviation $\\sigma$](#12-recap-of-mean-and-std)      \n",
    "   1.3 [Recap: plotting distributions](#13-recap-of-plotting-distributions)     \n",
    "   1.4 [Tasks 1](#tasks-1)     \n",
    "2. [Skewed distributions](#2-skewed-distributions)    \n",
    "   2.1 [Radioactive decay](#21-radioactive-decay)    \n",
    "   2.2 [Bond lengths](#22-bond-length)    \n",
    "   2.3 [Atoms velocities in an ideal gas](#23-maxwell-boltzmann)    \n",
    "3. [Computing Correlations](#3-computing-correlations)    \n",
    "   3.1 [Pearson's correlation coefficient](#31-pearsons-correlation-coefficient)      \n",
    "   3.2 [Tasks 2](#tasks-2)   \n",
    "   3.3 [Spearman's rank correlation coefficient](#33-spearmans-rank-correlation-coefficient)    \n"
   ]
  },
  {
   "cell_type": "markdown",
   "metadata": {},
   "source": [
    "### Links to documentation\n",
    "\n",
    "You can find the full documentation to `scipy` at [scipy.org](https://scipy.org)."
   ]
  },
  {
   "cell_type": "markdown",
   "metadata": {
    "slideshow": {
     "slide_type": "slide"
    }
   },
   "source": [
    "**<span style=\"color:black\">Jupyter Cheat Sheet</span>**\n",
    "- To run the currently highlighted cell and move focus to the next cell, hold <kbd>&#x21E7; Shift</kbd> and press <kbd>&#x23ce; Enter</kbd>;\n",
    "- To run the currently highlighted cell and keep focus in the same cell, hold <kbd>&#x21E7; Ctrl</kbd> and press <kbd>&#x23ce; Enter</kbd>;\n",
    "- To get help for a specific function, place the cursor within the function's brackets, hold <kbd>&#x21E7; Shift</kbd>, and press <kbd>&#x21E5; Tab</kbd>;"
   ]
  },
  {
   "cell_type": "markdown",
   "metadata": {},
   "source": [
    "# Import libraries"
   ]
  },
  {
   "cell_type": "code",
   "execution_count": 1,
   "metadata": {},
   "outputs": [],
   "source": [
    "import sys\n",
    "import os.path\n",
    "import numpy as np\n",
    "import matplotlib.pylab as plt\n",
    "import pandas as pd\n",
    "import math as m\n",
    "\n",
    "try:\n",
    "    import google.colab\n",
    "    IN_COLAB = True\n",
    "except:\n",
    "    IN_COLAB = False\n",
    "if IN_COLAB:\n",
    "    # copy over data repository\n",
    "    !git clone https://github.com/Edinburgh-Chemistry-Teaching/Data-driven-chemistry\n",
    "    !cp -r Data-driven-chemistry/Unit_07/data .\n",
    "    sys.path.append(os.path.abspath('Data-driven-chemistry/'))\n",
    "else:\n",
    "    sys.path.append(os.path.abspath('../'))\n",
    "from helper_functions.mentimeter import Mentimeter"
   ]
  },
  {
   "cell_type": "markdown",
   "metadata": {
    "slideshow": {
     "slide_type": "slide"
    }
   },
   "source": [
    "# 1. Recap <a id='1-recap-molecular-geometries-and-plotting'></a>"
   ]
  },
  {
   "cell_type": "markdown",
   "metadata": {
    "slideshow": {
     "slide_type": "slide"
    }
   },
   "source": [
    "## 1.1 molecular geometries <a id='11-recap-of-molecular-geometries'></a>"
   ]
  },
  {
   "cell_type": "markdown",
   "metadata": {},
   "source": [
    "### Bonds\n",
    "To compute the length of a bond **a**, we need to know the length of the vector connecting two atoms A and B using this formula:\n",
    "\n",
    "$\\vert\\vert \\mathbf{a}\\vert \\vert$=$\\sqrt{(x_B-x_A)^2+(y_B-y_A)^2+(z_B-z_A)^2}$\n",
    "\n",
    "In Python, `np.linalg.norm(B-A)` is a fast way of computing the distance between two vectors if the input is the form of a NumPy array."
   ]
  },
  {
   "cell_type": "code",
   "execution_count": null,
   "metadata": {},
   "outputs": [],
   "source": [
    "# Example positions of a water molecule\n",
    "\n",
    "position_atom_H1 = np.array([0.758602, 0.000000,  0.504284])\n",
    "position_atom_O  = np.array([0.000000, 0.000000,  0.000000])\n",
    "position_atom_H2 = np.array([0.260455, 0.000000, -0.872893])"
   ]
  },
  {
   "cell_type": "code",
   "execution_count": null,
   "metadata": {},
   "outputs": [],
   "source": [
    "def compute_bond_length(atom1, atom2):\n",
    "    \"\"\" This function computes the bond length between two atoms\n",
    "    \n",
    "    Parameters:\n",
    "    -----------\n",
    "    atom1:numpy array \n",
    "        contains 3 entries as x, y and z coordinates\n",
    "    atom2:numpy array\n",
    "        contains 3 entries as x, y and z coordinates\n",
    "    \n",
    "    Returns:\n",
    "    --------\n",
    "    bond_length :float\n",
    "        value of the bond length\n",
    "    \"\"\"\n",
    "    \n",
    "    bond_length = np.linalg.norm(atom1-atom2)\n",
    "    return bond_length"
   ]
  },
  {
   "cell_type": "code",
   "execution_count": null,
   "metadata": {},
   "outputs": [],
   "source": [
    "bond_length = compute_bond_length(position_atom_H1, position_atom_O)\n",
    "print(f'The H-O bond length is: {bond_length:.2f} Å.')"
   ]
  },
  {
   "cell_type": "markdown",
   "metadata": {},
   "source": [
    "### Angles"
   ]
  },
  {
   "cell_type": "markdown",
   "metadata": {},
   "source": [
    "Here is an example of an angle in a water molecule, where vector *H1*, *O*, and *H2*  give the positions of the atoms in space.\n",
    "\n",
    "![indexing](images/bond_angles.png)\n",
    "\n",
    "The bond length between H1 and O is given by the vector connecting these two atoms **a** in the image and can be computed using the above formula. \n",
    "\n",
    "\n",
    "To determine the angle between two vectors you can use the scalar product: \n",
    "\n",
    "$$\\mathbf{a}\\cdot \\mathbf{b} = \\vert\\vert\\mathbf{a}\\vert\\vert \\,\\vert\\vert\\mathbf{b}\\vert\\vert\\cos \\phi,$$\n",
    "\n",
    "where $\\mathbf{a}$ and $\\mathbf{b}$ are vectors, and  $\\phi$ is the valence angle we are after. We need to solve the dot product according to the valence angle $\\phi$ by rearranging the above equation:\n",
    "\n",
    "$$\\phi = \\arccos\\Big(\\frac{\\mathbf{a}\\cdot\\mathbf{b}}{\\vert\\vert\\mathbf{a}\\vert\\vert \\,\\vert\\vert\\mathbf{b} \\vert\\vert}\\Big)$$\n",
    "\n",
    "You can use the `math` library to get the arccos of an angle, e.g.: `math.acos()`"
   ]
  },
  {
   "cell_type": "markdown",
   "metadata": {},
   "source": [
    "The scalar product or dot product can be computed using `np.dot()` in Python."
   ]
  },
  {
   "cell_type": "code",
   "execution_count": null,
   "metadata": {},
   "outputs": [],
   "source": [
    "def compute_angle_water(O_position, H1_position, H2_position):\n",
    "    \"\"\"This function computes the angle between two three atoms\n",
    "    \n",
    "    Parameters:\n",
    "    -----------\n",
    "    H1_position:numpy array \n",
    "        contains 3 entries as x, y and z coordinates\n",
    "    O_position:numpy array\n",
    "        contains 3 entries as x, y and z coordinates\n",
    "    H2_position:numpy array\n",
    "        contains 3 entries as x, y and z coordinates\n",
    "    \n",
    "    Returns:\n",
    "    --------\n",
    "    angle :float\n",
    "        value of the angle\n",
    "    \"\"\"\n",
    "    vector_of_bond_a = H1_position-O_position\n",
    "    vector_of_bond_b = H2_position-O_position\n",
    "\n",
    "    bond_length_a = compute_bond_length(H1_position, O_position)\n",
    "    bond_length_b = compute_bond_length(O_position, H2_position)\n",
    "    \n",
    "    angle = m.acos(np.dot(vector_of_bond_a,vector_of_bond_b)/(bond_length_a*bond_length_b))\n",
    "    return np.degrees(angle)\n",
    "    "
   ]
  },
  {
   "cell_type": "code",
   "execution_count": null,
   "metadata": {},
   "outputs": [],
   "source": [
    "angle = compute_angle_water(position_atom_O,position_atom_H1,position_atom_H2)\n",
    "print(f'The angle of a water molecule is: {angle:.2f}°.')"
   ]
  },
  {
   "cell_type": "markdown",
   "metadata": {},
   "source": [
    "## 1.2 Recap: mean $\\mu$ and standard deviation $\\sigma$  <a id='12-recap-of-mean-and-std'></a>"
   ]
  },
  {
   "cell_type": "markdown",
   "metadata": {},
   "source": [
    "The **mean** $\\mu$ is given by:\n",
    "\n",
    "\\begin{equation}\n",
    "\\mu = \\frac{1}{N} \\sum_i^N x_i ,\n",
    "\\end{equation}\n",
    "\n",
    "where $N$ is a number of samples, as as they increase the mean becomes closer to the 'true' value. \n",
    "\n",
    "\n",
    "```python\n",
    "mu = np.sum(x) / len(x)\n",
    "```\n",
    "\n",
    "or with numpy: `np.mean(x)`.\n",
    "\n",
    "_Note:_ **Median** is a middle value separating the greater and lesser halves of a data set, since the normal distribution is symmetric, mean and median are equivalent. \n",
    "\n",
    "\n",
    "\n",
    "The **standard deviation** (STD), $\\sigma$ quantifies how much the numbers in our set deviate from the mean, $\\mu$\n",
    "\n",
    "\\begin{equation}\n",
    "\\sigma = \\sqrt{\\frac{1}{N}\\sum_{i=1}^N(x_i-\\mu)^2}.\n",
    "\\end{equation}\n",
    "\n",
    "it can be written as:\n",
    "\n",
    "```python\n",
    "sigma = np.sqrt( np.sum( ( x - np.mean(x))**2 ) / len(x) )\n",
    "```\n",
    "\n",
    "or with numpy `np.std(x)`.\n",
    "\n",
    "\n",
    "\n",
    "On a **normal distribution** the values that are less than 1 $\\sigma$ away from the mean, $\\mu$, will account for the 68.27% of the set - this is our **confidence interval**\n",
    "\n",
    "<img src=\"images/NormalDist.png\" width=\"500\">\n",
    "\n"
   ]
  },
  {
   "cell_type": "markdown",
   "metadata": {},
   "source": [
    "## 1.3 Recap: plotting distributions <a id=\"13-recap-of-plotting-distributions\"></a>"
   ]
  },
  {
   "cell_type": "markdown",
   "metadata": {
    "slideshow": {
     "slide_type": "slide"
    }
   },
   "source": [
    "Take a look at the following code:\n",
    "\n",
    "```python\n",
    "\n",
    "# Generate 10000 random samples from a normal distriubution \n",
    "X = np.random.normal(4, 0.3, 10000)\n",
    "# initiate the plot\n",
    "fig, ax = plt.subplots()\n",
    "fig.set_figwidth(4)\n",
    "fig.set_figheight(4)\n",
    "# Use numpy to compute a histogram\n",
    "prob, edges = np.histogram(X, density = True, bins=30)\n",
    "half_width = (edges[1]-edges[0])/2\n",
    "bin_centres = edges[:-1]+half_width\n",
    "# plot the probability density from the histogram\n",
    "ax.plot(bin_centres, prob, marker=\"o\", color=\"red\")\n",
    "\n",
    "```\n",
    "\n",
    "How would you expect the final plot to look like?"
   ]
  },
  {
   "cell_type": "markdown",
   "metadata": {},
   "source": [
    "## 1.4. Tasks 1<a id=\"tasks-1\"></a>"
   ]
  },
  {
   "cell_type": "markdown",
   "metadata": {},
   "source": [
    "<div class=\"alert alert-success\">\n",
    "    <b>Task 1.1 </b> : generate a 1D array, x, and plot x squared using non-default line types and colours, label the plot\n",
    "</div>"
   ]
  },
  {
   "cell_type": "markdown",
   "metadata": {},
   "source": [
    "<div class=\"alert alert-info\">\n",
    "    <b>Hint 1</b> : Information on how to cutomise the your plots (e.g., setting line styles, labels, titles) can be found in the <a href=\"..\\Unit_05\\Extra_Plotting.ipynb\">extra material of Unit 05</a>.\n",
    "</div>\n",
    "\n"
   ]
  },
  {
   "cell_type": "markdown",
   "metadata": {},
   "source": [
    "<div class=\"alert alert-info\">\n",
    "    <b>Hint 2</b> : To neatly write sub- and superscripts on the plots, like  $x_2$  or $x^2$ in the example above, use the $LaTeX$ notation in the code - <code>$x_2$</code> and <code>$x^2$</code> respectively. For  <a href=\"https://matplotlib.org/3.1.1/tutorials/text/mathtext.html\">more examples see here</a>.\n",
    "</div>"
   ]
  },
  {
   "cell_type": "code",
   "execution_count": null,
   "metadata": {},
   "outputs": [],
   "source": [
    "# Task 1.1: Test out the solution in this cell:\n",
    "# FIXME\n"
   ]
  },
  {
   "cell_type": "markdown",
   "metadata": {},
   "source": [
    "<details><summary {style='color:green;font-weight:bold'}> Click here to see the solution to Task 1.1 </summary>\n",
    "    \n",
    "```python\n",
    "\n",
    "# generating an array\n",
    "x = np.linspace(-10, 10, 21) \n",
    "y = x**2\n",
    "\n",
    "# plotting with x in a named colour, connected by a dotted line of a declared width\n",
    "plt.plot(x, y, \"x:\", color=\"tomato\", linewidth=\"1.5\") \n",
    "\n",
    "# adding labeLs\n",
    "plt.xlabel(\"x\")\n",
    "plt.ylabel(\"y\")\n",
    "plt.title(\"my plot $y=x^2$\")\n",
    "\n",
    "plt.show()\n",
    "\n",
    "```\n",
    "\n",
    "</details>"
   ]
  },
  {
   "cell_type": "markdown",
   "metadata": {},
   "source": [
    "<div class=\"alert alert-success\">\n",
    "    <b>Task 1.2 </b> : The file <code>data/water.xyz</code> contains a cluster of ice, i.e. many water molecules in a solid state. It has the <code>xyz</code> -file format and below is some help given how to read data from the file. \n",
    "\n",
    "\n",
    "1. Take a look at how the file is read and make sure you understand it. This is one example way of reading this file. There are many other options too.   \n",
    "2. Compute the angle of each water molecule using the function defined above and append each angle to a list of angles.      \n",
    "3. Plot a distribution of from the list of angles and report its mean and standard deviation.     \n",
    "</div>"
   ]
  },
  {
   "cell_type": "code",
   "execution_count": null,
   "metadata": {},
   "outputs": [],
   "source": [
    "# Have a look at the data file first \n",
    "!head data/water.xyz"
   ]
  },
  {
   "cell_type": "code",
   "execution_count": null,
   "metadata": {},
   "outputs": [],
   "source": [
    "# reading the data in\n",
    "# This generates a numpy array with the coordinates\n",
    "data = np.genfromtxt('data/water.xyz', skip_header=1, usecols=[1,2,3])\n",
    "# We don't want to use the first row and the first column this is what skup_header and use_cols does\n",
    "\n",
    "# now we loop over this in threes to group the molecules together:\n",
    "water_molecules = []\n",
    "for i in range(0,len(data),3):\n",
    "    # This selects each water molecule\n",
    "    water_molecule = data[i:i+3]\n",
    "    # Uncomment this line to see what is happening in detail\n",
    "    # print(water_molecule)\n",
    "    water_molecules.append(water_molecule)\n",
    "print(f'We have {len(water_molecules)} water molecules in our file.')"
   ]
  },
  {
   "cell_type": "code",
   "execution_count": null,
   "metadata": {},
   "outputs": [],
   "source": [
    "# FIXME\n"
   ]
  },
  {
   "cell_type": "markdown",
   "metadata": {},
   "source": [
    "<details><summary {style='color:green;font-weight:bold'}> Click here to see the solution to Task 1.2 </summary>\n",
    "    \n",
    "```python\n",
    "\n",
    "# subtask 2\n",
    "# computing angle\n",
    "angles = []\n",
    "for water in water_molecules:\n",
    "    angle = compute_angle_water(water[0], water[1], water[2])\n",
    "    angles.append(angle)\n",
    "    \n",
    "# subtask 3\n",
    "# plotting the distribution\n",
    "plt.hist(angles, bins=30)\n",
    "plt.xlabel(\"angle in degree\")\n",
    "plt.ylabel(\"Count\")\n",
    "\n",
    "print(f\"The mean is {np.mean(angles):.2f}\")\n",
    "print(f\"The standard deviation is {np.std(angles):.2f}\")\n",
    "\n",
    "```\n",
    "\n",
    "</details>"
   ]
  },
  {
   "cell_type": "markdown",
   "metadata": {},
   "source": [
    "Data is said to be **perfectly correlated**, if all points fall onto a straight line that is $x=y$. Take a look at your data: which of the four plots do you think is the most correlated?"
   ]
  },
  {
   "cell_type": "markdown",
   "metadata": {},
   "source": [
    "<div class=\"alert alert-warning\">\n",
    "    <b>Task 1.3 (advanced) </b> : Working with data. Use the file <code>data/ramachandran.dat</code>. It contains dihedral angles of the backbone of a protein in two columns. Column 1 is the φ angle and column 2 the ψ angle. To find out more about Ramachandran diagrams take a look <a href=\"https://en.wikipedia.org/wiki/Ramachandran_plot\">here</a>, and for more on dihedral angles see <a href=\"https://en.wikipedia.org/wiki/Dihedral_angle\">here</a>. \n",
    "<p>1. Read the data into a pandas dataframe,  </p>  \n",
    "<p>2. Create a single plot that is a 2D density map of φ against ψ,  </p>\n",
    "<p>3. Make sure your plot is labelled correctly and displays a colour bar!   </p>   \n",
    "</div>"
   ]
  },
  {
   "cell_type": "code",
   "execution_count": null,
   "metadata": {},
   "outputs": [],
   "source": [
    "# Task 1.3: Test out the solution in this cell:\n",
    "\n",
    "# 1. Read the data into a pandas dataframe, \n",
    "# FIXME\n",
    "  \n",
    "# 2. Create a single plot that is a 2D density map of $\\phi$ against $\\psi$\n",
    "# FIXME\n",
    "\n",
    "# 3. Make sure your plot is labelled correctly and displays a colour bar!   \n",
    "# FIXME"
   ]
  },
  {
   "cell_type": "markdown",
   "metadata": {},
   "source": [
    "<details><summary {style=\"color:green; font-weight:bold\"}> Click here to see the solution to Task 1.3 (advanced)</summary>\n",
    "\n",
    "```python\n",
    "\n",
    "# Read in the dataframe\n",
    "df = pd.read_csv(\"data/ramachandran.dat\", \n",
    "                 skiprows=29, \n",
    "                 names=[\"phi\", \"psi\"], \n",
    "                 usecols=[0,1], \n",
    "                 sep=\"\\s+\",\n",
    "                 dtype=float)\n",
    "\n",
    "# Check that we read it correctly\n",
    "print(df.head())\n",
    "\n",
    "# Get the columns\n",
    "phi = df[\"phi\"].to_numpy()\n",
    "psi = df[\"psi\"].to_numpy()\n",
    "\n",
    "# Initialise figure object\n",
    "fig, ax = plt.subplots(1,1)\n",
    "\n",
    "# Plot a density plot as a 2D histogram\n",
    "histogram, x_edges, y_edges, image = ax.hist2d(phi, psi, bins=(200, 200), cmap=\"RdYlGn_r\", cmin=1)\n",
    "\n",
    "# Add a colour bar\n",
    "cbar = fig.colorbar(image, orientation=\"vertical\")\n",
    "cbar.set_label(\"Count\")\n",
    "\n",
    "# Add labels\n",
    "ax.set_title(\"Ramachandran plot\")\n",
    "ax.set_xlabel(\"$\\phi$\")\n",
    "ax.set_ylabel(\"$\\psi$\")\n",
    "\n",
    "# Show plot\n",
    "plt.show()\n",
    "\n",
    "\n",
    "```"
   ]
  },
  {
   "cell_type": "markdown",
   "metadata": {},
   "source": [
    "# 2. Skewed distributions <a id='2-skewed-distributions'></a>"
   ]
  },
  {
   "cell_type": "markdown",
   "metadata": {},
   "source": [
    "Previously we have discussed the Gaussian distribution. This distribution is nicely symmetrical around its mean value. Often, in chemistry, we are faced with data that does not conform with this distribution. Examples of situations where this can occur include:\n",
    "1. *radiactive decay* (measurement of lifetime of an unstable atom before it decays)\n",
    "2. *bond length* (covalent bonds have a length fluctuating around an equilibrium value)\n",
    "3. *ideal gas atoms velocity* (the temperature of a system is determined by the distribution of velocities of its costituent atoms)"
   ]
  },
  {
   "cell_type": "markdown",
   "metadata": {},
   "source": [
    "## 2.1 Radioactive decay  <a id='21-radioactive-decay'></a>"
   ]
  },
  {
   "cell_type": "markdown",
   "metadata": {},
   "source": [
    "Radioactive decay can be modelled with a statistical distribution called the *Poisson distribution*. This describes the probability of discrete event to happen at a certain moment in time, if the probability of such an event is independent from any previous observation. The distribution is defined as follows:\n",
    "\n",
    "\\begin{equation}\n",
    "f(k) = \\frac{\\lambda^k e^{-\\lambda}}{k!}\n",
    "\\end{equation}\n",
    "\n",
    "Where $\\lambda$ is the expected value, and $k$ the number of occurrences (an integer number)."
   ]
  },
  {
   "cell_type": "markdown",
   "metadata": {},
   "source": [
    "Numpy provides us means of generating random data according to a Poisson distribution. Let's generate 10000 datapoints with an expected value of 4, and plot a histogram of the result."
   ]
  },
  {
   "cell_type": "code",
   "execution_count": 311,
   "metadata": {
    "scrolled": true
   },
   "outputs": [
    {
     "data": {
      "image/png": "[encoded data removed]",
      "text/plain": [
       "<Figure size 400x300 with 1 Axes>"
      ]
     },
     "metadata": {},
     "output_type": "display_data"
    }
   ],
   "source": [
    "data = np.random.poisson(4, 10000)\n",
    "fig = plt.figure(figsize=(4, 3))\n",
    "count, bins, ignored = plt.hist(y, bins=12, density = True, color=\"silver\")\n",
    "plt.xlabel(\"k\")\n",
    "plt.ylabel(\"probability\");"
   ]
  },
  {
   "cell_type": "markdown",
   "metadata": {},
   "source": [
    "We notice that the distribution seems *skewed* to the right. The *skew* of a dataset, usually denoted as $\\mu_3$ (the \"3\" annotation comes from the formal definition of skew as the \"third moment of the distribution\") can be quantified as follows:\n",
    "\n",
    "\\begin{equation}\n",
    "\\mu_3 = \\frac{1}{N} \\sum_i^N \\left( \\frac{x_i - \\mu}{\\sigma} \\right)^3\n",
    "\\end{equation}"
   ]
  },
  {
   "cell_type": "markdown",
   "metadata": {},
   "source": [
    "<div class=\"alert alert-success\">\n",
    "    <b>Task 2.1.1 </b> : Calculate the skew of the data generate according to the Poisson distribution. How does that compare with that of a Gaussian?\n",
    "</div>"
   ]
  },
  {
   "cell_type": "markdown",
   "metadata": {},
   "source": [
    "<details><summary {style='color:green;font-weight:bold'}> Click here to see the solution to Task 2.1.1 </summary> \n",
    "\n",
    "```python\n",
    "skew = np.mean(((data-np.mean(data))/np.std(data))**3)\n",
    "print(skew)\n",
    "\n",
    "data2 = np.random.normal(size=10000)\n",
    "skew2 = np.mean(((data2-np.mean(data2))/np.std(data2))**3)\n",
    "print(skew2)\n",
    "```\n",
    "</details>"
   ]
  },
  {
   "cell_type": "markdown",
   "metadata": {},
   "source": [
    "## 2.2 Bond lengths  <a id='22-bond-length'></a>"
   ]
  },
  {
   "cell_type": "markdown",
   "metadata": {},
   "source": [
    "Bonds vibrate around an equilibrium distance, however the distribution is not symmetrical around the mean value. Let's simulate some data to showcase this."
   ]
  },
  {
   "cell_type": "code",
   "execution_count": 312,
   "metadata": {},
   "outputs": [
    {
     "data": {
      "image/png": "[encoded data removed]",
      "text/plain": [
       "<Figure size 640x480 with 1 Axes>"
      ]
     },
     "metadata": {},
     "output_type": "display_data"
    }
   ],
   "source": [
    "from scipy.stats import maxwell\n",
    "\n",
    "scale = 0.1\n",
    "loc = 1.4\n",
    "\n",
    "#get distribution\n",
    "x = np.linspace(0, 3, 5000)\n",
    "distr = maxwell.pdf(x, scale=scale, loc=loc)\n",
    "\n",
    "# generate random samples from the distribution\n",
    "data = maxwell.rvs(loc=loc, scale=scale, size=10000)\n",
    "count, bins, ignored = plt.hist(data, bins=20, density=True, color=\"silver\")\n",
    "\n",
    "plt.plot(x, distr, color=\"firebrick\")\n",
    "plt.xlabel(\"bond length ($\\AA$)\")\n",
    "plt.xlim([1.2, 2]);"
   ]
  },
  {
   "cell_type": "markdown",
   "metadata": {},
   "source": [
    "<div class=\"alert alert-success\">\n",
    "    <b>Task 2.2.1 </b> : Calculate the mode, median, mean, and skew of the bond length data we just generated, and stored in the variable <code>data</code>. Which do you think is a better metric to describe the distribution?\n",
    "</div>"
   ]
  },
  {
   "cell_type": "markdown",
   "metadata": {},
   "source": [
    "<details><summary {style='color:green;font-weight:bold'}> Click here to see the solution to Task 2.2.2 </summary> \n",
    "\n",
    "```python\n",
    "mean = np.mean(data)\n",
    "mode = np.max(data)\n",
    "median = np.percentile(data, 50)\n",
    "skew = np.mean(((data-np.mean(data))/np.std(data))**3)\n",
    "print(mean, mode, skew)\n",
    "```\n",
    "</details>"
   ]
  },
  {
   "cell_type": "markdown",
   "metadata": {},
   "source": [
    "## 2.3. Atoms velocities in an ideal gas <a id='23-maxwell-boltzmann'></a>"
   ]
  },
  {
   "cell_type": "markdown",
   "metadata": {},
   "source": [
    "A distribution relevant for chemistry and physics is the Maxwell-Boltzmann distribution, which was derived to describe the velocity of ideal gas atoms at a given temperature. This is defined as:\n",
    "\n",
    "\\begin{equation}\n",
    "f(v) = \\frac{4}{\\sqrt{\\pi}} \\left( \\frac{m}{2 k_B T} \\right)^{3/2} v^2 e^{(- mv^2 / 2 k_B T)}\n",
    "\\end{equation}\n",
    "\n",
    "Where $v$ is the velocity of the atom, $m$ its mass, $T$ the temperature, and $k_B$ the Boltzmann constant. Let's define a function generating this distribution."
   ]
  },
  {
   "cell_type": "code",
   "execution_count": 264,
   "metadata": {},
   "outputs": [],
   "source": [
    "def maxwell_boltzmann(v, T, m):\n",
    "    \"\"\"This function returns the probability of observing a specific atomic velocity\n",
    "    according to the Maxwell-Boltzmann distribution at a given temperature\n",
    "    \n",
    "    Parameters:\n",
    "    -----------\n",
    "    v: float \n",
    "        velocity in m/s\n",
    "    T: float\n",
    "        temperature in Kelvin\n",
    "    m: float\n",
    "        atomic mass in kg\n",
    "    \n",
    "    Returns:\n",
    "    --------\n",
    "    probability :float\n",
    "        probability of observing a given velocity\n",
    "    \"\"\"\n",
    "\n",
    "    kb = 1.380649*(10**(-23)) # Boltzmann constant\n",
    "    scale = (4/np.sqrt(np.pi))*(m/(2*kb*T))**(3./2) #scaling factor (ensure integral of whole distribution equals 1)\n",
    "    \n",
    "    return scale*(v**2)*np.exp(-(m*(v**2))/(2*kb*T))"
   ]
  },
  {
   "cell_type": "markdown",
   "metadata": {},
   "source": [
    "Let's now call our function to predict the distribution of atomic velocities in our ideal gas at a certain temperature."
   ]
  },
  {
   "cell_type": "code",
   "execution_count": 265,
   "metadata": {},
   "outputs": [],
   "source": [
    "# define mass of atom of interest, in kg\n",
    "atomic_mass = 4 # Helium 4, Nitrogen 20, Argon 40, ...\n",
    "mass = atomic_mass*1.660540199*(10**(-27)) # in kg\n",
    "\n",
    "#define temperature in Kelvin\n",
    "temperature = 300\n",
    "\n",
    "#get probability of a specific velocity being observed (in m/s)\n",
    "vel = np.linspace(0, 5000, 1000) # range of velocities\n",
    "prob = maxwell_boltzmann(vel, temperature, mass) # probability of each velocity"
   ]
  },
  {
   "cell_type": "markdown",
   "metadata": {},
   "source": [
    "Now let's calculate two quantities: the mean value, and the position of the highest value, also called the *mode*."
   ]
  },
  {
   "cell_type": "code",
   "execution_count": 266,
   "metadata": {},
   "outputs": [
    {
     "name": "stdout",
     "output_type": "stream",
     "text": [
      "mean velocity: 1259 m/s\n",
      "maximal velocity: 1116 m/s\n"
     ]
    }
   ],
   "source": [
    "# find mean velocity and its probability\n",
    "vel_mean = np.max(vel)*np.mean(prob*vel)\n",
    "prob_mean = maxwell_boltzmann(vel_mean, temperature, mass)\n",
    "print(f\"mean velocity: {vel_mean:4.0f} m/s\")\n",
    "\n",
    "# find mode (i.e., highest probability)\n",
    "vel_mode_pos = np.argmax(prob)\n",
    "vel_mode = vel[vel_mode_pos]\n",
    "prob_mode = maxwell_boltzmann(vel_mode, temperature, mass)\n",
    "print(f\"maximal velocity: {vel_mode:4.0f} m/s\")"
   ]
  },
  {
   "cell_type": "markdown",
   "metadata": {},
   "source": [
    "Looks like the mean and mode do not match. We have a skew, let's have a better look at the distribution."
   ]
  },
  {
   "cell_type": "code",
   "execution_count": 267,
   "metadata": {},
   "outputs": [
    {
     "data": {
      "image/png": "[encoded data removed]",
      "text/plain": [
       "<Figure size 640x480 with 1 Axes>"
      ]
     },
     "metadata": {},
     "output_type": "display_data"
    }
   ],
   "source": [
    "fig = plt.figure()\n",
    "ax = fig.add_subplot(1, 1, 1)\n",
    "ax.plot(vel, prob, color=\"firebrick\")\n",
    "ax.plot([vel_max, vel_max], [0, prob_max], linestyle=\"--\", color=\"black\", label=f\"mode ({vel_mode:4.0f} m/s)\")\n",
    "ax.plot([vel_mean, vel_mean], [0, prob_mean], linestyle=\"--\", color=\"silver\", label=f\"mean ({vel_mean:4.0f} m/s)\")\n",
    "ax.set_xlim([0, vel[-1]])\n",
    "ax.set_ylim([0, np.max(prob)*1.1])\n",
    "ax.set_xlabel(\"velocity m/s\")\n",
    "ax.set_ylabel(\"probability\")\n",
    "ax.legend(frameon=False);"
   ]
  },
  {
   "cell_type": "markdown",
   "metadata": {},
   "source": [
    "<div class=\"alert alert-success\">\n",
    "    <b>Task 2.3.1 </b> : What happens to the skew if you alter the temperature? And how about changing the gas with one of higher mass?\n",
    "</div>"
   ]
  },
  {
   "cell_type": "markdown",
   "metadata": {},
   "source": [
    "# 3. Computing Correlations\n",
    "<a id='3-computing-correlations'></a>\n"
   ]
  },
  {
   "cell_type": "markdown",
   "metadata": {},
   "source": [
    "<div class=\"alert alert-success\">\n",
    "    <b>Task 3.1 </b> : Working with data. Use the file <code>data/anscombes_quartet.dat</code>. This file is a tab delimiter file with 8 columns. The first and second columns make up one data set, the second and third the next one, and so forth.\n",
    "\n",
    "\n",
    "1. Read the data into a pandas dataframe,    \n",
    "2. Create four subplots of the data,       \n",
    "3. Answer the Mentimeter question.      \n",
    "</div>"
   ]
  },
  {
   "cell_type": "code",
   "execution_count": null,
   "metadata": {},
   "outputs": [],
   "source": [
    "# Task 3.1: Test out the solution in this cell:\n",
    "\n",
    "# An example of naming the columns of the file\n",
    "colnames=[\"X1\", \"Y1\", \"X2\", \"Y2\", \"X3\", \"Y3\", \"X4\", \"Y4\"]\n",
    "\n",
    "data = pd.read_csv(# FIXME\n",
    "                   skiprows=2, names=colnames)\n",
    "\n",
    "# Setup your 4 subplots\n",
    "fig, axs = plt.subplots(2, 2)\n",
    "\n",
    "# Set the figure size\n",
    "fig.set_figwidth(8)\n",
    "fig.set_figheight(8)\n",
    "\n",
    "# add data to plot\n",
    "axs[0, 0].scatter(data['X1'], data['Y1'])\n",
    "# FIXME\n",
    "# FIXME\n",
    "\n",
    "# make sure it is labelled\n",
    "for ax in axs.flat:\n",
    "    ax.set(xlabel='x-data', ylabel='y-data')\n",
    "    \n",
    "for ax in axs.flat:\n",
    "    ax.label_outer()\n",
    "\n",
    "# Set the ranges of all axes\n",
    "plt.setp(ax, xlim=(4,20), ylim=(3,13))"
   ]
  },
  {
   "cell_type": "markdown",
   "metadata": {},
   "source": [
    "<details><summary {style='color:green;font-weight:bold'}> Click here to see the solution to Task 3.1 </summary>\n",
    "    \n",
    "```python\n",
    "\n",
    "# Loading the dataset\n",
    "colnames=[\"X1\", \"Y1\", \"X2\", \"Y2\", \"X3\", \"Y3\", \"X4\", \"Y4\"]\n",
    "data = pd.read_csv(\"data/anscombes_quartet.dat\", delimiter=\"\\t\", skiprows=2, names=colnames)\n",
    "\n",
    "# Setup your 4 subplots\n",
    "fig, axs = plt.subplots(2, 2)\n",
    "fig.set_figwidth(8)\n",
    "fig.set_figheight(8)\n",
    "\n",
    "# add data to plot\n",
    "axs[0, 0].scatter(data[\"X1\"], data[\"Y1\"])\n",
    "axs[0, 1].scatter(data[\"X2\"], data[\"Y2\"])\n",
    "axs[1, 0].scatter(data[\"X3\"], data[\"Y3\"])\n",
    "axs[1, 1].scatter(data[\"X4\"], data[\"Y4\"])\n",
    "\n",
    "# make sure it is lablled\n",
    "for ax in axs.flat:\n",
    "    ax.set(xlabel=\"x-data\", ylabel=\"y-data\")\n",
    "    \n",
    "for ax in axs.flat:\n",
    "    ax.label_outer()\n",
    "\n",
    "# Setting the values for all axes.\n",
    "plt.setp(ax, xlim=(4,20), ylim=(3,13))\n",
    "\n",
    "```\n",
    "\n",
    "</details>"
   ]
  },
  {
   "cell_type": "markdown",
   "metadata": {},
   "source": [
    "## 3.1 Pearson's correlation coefficient\n",
    "<a id='31-pearsons-correlation-coefficient'></a>"
   ]
  },
  {
   "cell_type": "markdown",
   "metadata": {},
   "source": [
    "One way of quantifying the correlation between two datasets is to compute their **Pearson's correlation coefficient $R$**. \n",
    "- If $R$ it is 1, or close to 1 the data is highly correlated, \n",
    "- around 0 the data is not correlated  \n",
    "- when it is close to -1 the data is anticorrelated."
   ]
  },
  {
   "cell_type": "markdown",
   "metadata": {},
   "source": [
    "Mathematically the correlation coefficient is defined as:\n",
    "\n",
    "$R = \\frac{\\langle(X-\\mu_X)(Y-\\mu_Y)\\rangle}{\\sigma_X\\sigma_Y}$,\n",
    "\n",
    "where $\\sigma$ is the standard deviation of the data set $X$ or $Y$ and the symbol $\\langle \\cdot \\rangle$ denotes computing the mean of the quantities inside the angular bracket."
   ]
  },
  {
   "cell_type": "markdown",
   "metadata": {},
   "source": [
    "The equation contains exactly what you learned last week!"
   ]
  },
  {
   "cell_type": "markdown",
   "metadata": {},
   "source": [
    "Can you think of examples of correlated data?"
   ]
  },
  {
   "cell_type": "markdown",
   "metadata": {},
   "source": [
    "## 3.2. Tasks 2 <a id=\"tasks-2\"></a>"
   ]
  },
  {
   "cell_type": "markdown",
   "metadata": {},
   "source": [
    "<div class=\"alert alert-success\">\n",
    "    <b>Task 3.2 </b> : Write a function that computes the Pearson correlation coefficient between two datasets, making use of the numpy functions <code>np.mean()</code> and <code>np.std()</code> to compute the mean and standard deviation.\n",
    "</div>"
   ]
  },
  {
   "cell_type": "code",
   "execution_count": null,
   "metadata": {},
   "outputs": [],
   "source": [
    "# Here is some data\n",
    "number_generator = np.random.default_rng(12345)\n",
    "X = 20 * number_generator.standard_normal(size=1000) + 100\n",
    "Y = X + (10 * number_generator.standard_normal(1000) + 50)"
   ]
  },
  {
   "cell_type": "code",
   "execution_count": null,
   "metadata": {},
   "outputs": [],
   "source": [
    "# Task 3.2: Test out the solution in this cell:\n",
    "def compute_pearson_r(X, Y):\n",
    "    r''' function that computes the Pearson correlation coefficient\n",
    "    Parameters\n",
    "    ----------\n",
    "    Computes the correlation between X and Y\n",
    "    \n",
    "    X : 1-d numpy array\n",
    "        dataset 1\n",
    "    Y : 1-d numpy array\n",
    "        dataset 2\n",
    "        \n",
    "    Returns:\n",
    "    --------\n",
    "    R : float\n",
    "        value of pearson R\n",
    "    '''\n",
    "    \n",
    "    R = None\n",
    "    \n",
    "    # FIXME\n",
    "    \n",
    "    return R"
   ]
  },
  {
   "cell_type": "markdown",
   "metadata": {},
   "source": [
    "<details><summary {style='color:green;font-weight:bold'}> Click here to see the solution to Task 3.2. </summary>\n",
    "    \n",
    "```python\n",
    "\n",
    "\n",
    "def compute_pearson_r(X,Y):\n",
    "    r''' function that computes the Pearson correlation coefficient\n",
    "    Parameters\n",
    "    ----------\n",
    "    Computes the correlation between X and Y\n",
    "    \n",
    "    X : 1-d numpy array\n",
    "        dataset 1\n",
    "    Y : 1-d numpy array\n",
    "        dataset 2\n",
    "        \n",
    "    Returns:\n",
    "    --------\n",
    "    R : float\n",
    "        value of pearson R\n",
    "    '''\n",
    "    \n",
    "    R = None\n",
    "    mean_x = np.mean(X)\n",
    "    mean_y = np.mean(Y)\n",
    "    std_x = np.std(X)\n",
    "    std_y = np.std(Y)\n",
    "    covariance = np.mean((X-mean_x)*(Y-mean_y))\n",
    "    R = covariance/(std_x*std_y)\n",
    "    \n",
    "    return R\n",
    "\n",
    "```\n",
    "\n",
    "</details>"
   ]
  },
  {
   "cell_type": "markdown",
   "metadata": {},
   "source": [
    "<div class=\"alert alert-success\">\n",
    "    <b>Task 3.3 </b> : Does your function work correctly? Check if you get the same answers as from the built-in function <code>pearsonr</code> in the <code>scipy.stats</code> package. \n",
    "</div>"
   ]
  },
  {
   "cell_type": "code",
   "execution_count": null,
   "metadata": {},
   "outputs": [],
   "source": [
    "from scipy.stats import pearsonr\n",
    "# you use pearson r from the scipy.stats package in the following way:\n",
    "# pearsonr(dataset1, dataset2)[0]\n",
    "\n",
    "# Check what happens when you remove the [0] at the end and print the output. "
   ]
  },
  {
   "cell_type": "code",
   "execution_count": null,
   "metadata": {},
   "outputs": [],
   "source": [
    "# Task 3.3: Test out the solution in this cell:\n",
    "# FIXME\n"
   ]
  },
  {
   "cell_type": "markdown",
   "metadata": {},
   "source": [
    "<details><summary {style='color:green;font-weight:bold'}> Click here to see the solution to Task 3.3 </summary>\n",
    "    \n",
    "```python\n",
    "\n",
    "pearson1 = pearsonr(X, Y)[0]\n",
    "pearson2 = compute_pearson_r(X, Y)\n",
    "print(pearson1, pearson2)\n",
    "\n",
    "```\n",
    "\n",
    "</details>"
   ]
  },
  {
   "cell_type": "markdown",
   "metadata": {},
   "source": [
    "<div class=\"alert alert-success\">\n",
    "    <b>Task 3.4 </b> : Compute the correlation coefficient of all 4 datasets of the Anscombe's quartet. What do you observe?\n",
    "</div>"
   ]
  },
  {
   "cell_type": "code",
   "execution_count": 2,
   "metadata": {},
   "outputs": [],
   "source": [
    "# Task 3.4: Test out the solution in this cell:\n",
    "# FIXME"
   ]
  },
  {
   "cell_type": "markdown",
   "metadata": {},
   "source": [
    "<details><summary {style='color:green;font-weight:bold'}> Click here to see the solution to Task 3.4. </summary>\n",
    "\n",
    "```python\n",
    "pearson1 = pearsonr(data[\"X1\"], data[\"Y1\"])[0]\n",
    "pearson2 = pearsonr(data[\"X2\"], data[\"Y2\"])[0]\n",
    "pearson3 = pearsonr(data[\"X3\"], data[\"Y3\"])[0]\n",
    "pearson4 = pearsonr(data[\"X4\"], data[\"Y4\"])[0]\n",
    "print(f\"{pearson1}\\n{pearson2}\\n{pearson3}\\n{pearson4}\")\n",
    "```\n",
    "\n",
    "</details>"
   ]
  },
  {
   "cell_type": "markdown",
   "metadata": {},
   "source": [
    "## 3.3. Spearman's Rank Correlation Coefficient\n",
    "<a id='33-spearmans-rank-correlation-coefficient'></a>\n",
    "There are other ways of measuring correlation. Take a look at the documentation of the Spearman rank correlation coefficient in the scipy package [here](https://docs.scipy.org/doc/scipy/reference/generated/scipy.stats.spearmanr.html) and a bit more background on it [here](https://en.wikipedia.org/wiki/Spearman%27s_rank_correlation_coefficient). "
   ]
  },
  {
   "cell_type": "markdown",
   "metadata": {},
   "source": [
    "<div class=\"alert alert-warning\">\n",
    "    <b>Advanced Task 3.5  </b> : Compute the Spearman's rank correlation coefficient for the Anscombe's quartet.\n",
    "</div>"
   ]
  },
  {
   "cell_type": "code",
   "execution_count": 3,
   "metadata": {},
   "outputs": [],
   "source": [
    "# Task 3.5: Test out the solution in this cell:\n",
    "# FIXME"
   ]
  },
  {
   "cell_type": "markdown",
   "metadata": {},
   "source": [
    "<details><summary {style='color:green;font-weight:bold'}> Click here to see solution to Task. </summary>\n",
    "\n",
    "```Python\n",
    "from scipy.stats import spearmanr\n",
    "    \n",
    "spearman1 = spearmanr(data[\"X1\"], data[\"Y1\"])[0]\n",
    "spearman2 = spearmanr(data[\"X2\"], data[\"Y2\"])[0]\n",
    "spearman3 = spearmanr(data[\"X3\"], data[\"Y3\"])[0]\n",
    "spearman4 = spearmanr(data[\"X4\"], data[\"Y4\"])[0]\n",
    "print(f\"{spearman1}\\n{spearman2}\\n{spearman3}\\n{spearman4}\")\n",
    "```\n",
    "\n"
   ]
  },
  {
   "cell_type": "markdown",
   "metadata": {},
   "source": [
    "# Break\n",
    "<img src=\"images/break.png\" alt=\"drawing\" width=\"200\"/>"
   ]
  },
  {
   "cell_type": "markdown",
   "metadata": {},
   "source": [
    "# Next notebook\n",
    "\n",
    "[Unit 07 Fitting II](Unit_07_fitting_II.ipynb) "
   ]
  }
 ],
 "metadata": {
  "kernelspec": {
   "display_name": "Python 3 (ipykernel)",
   "language": "python",
   "name": "python3"
  },
  "language_info": {
   "codemirror_mode": {
    "name": "ipython",
    "version": 3
   },
   "file_extension": ".py",
   "mimetype": "text/x-python",
   "name": "python",
   "nbconvert_exporter": "python",
   "pygments_lexer": "ipython3",
   "version": "3.9.13"
  },
  "vscode": {
   "interpreter": {
    "hash": "cf51243a6e93b78f1f5c5d179cd4f66e9bfd7b6269bebfcfdbed7f35483e292c"
   }
  }
 },
 "nbformat": 4,
 "nbformat_minor": 4
}

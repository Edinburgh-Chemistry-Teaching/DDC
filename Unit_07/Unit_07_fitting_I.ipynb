{
 "cells": [
  {
   "cell_type": "markdown",
   "metadata": {},
   "source": [
    "# Unit 07 Fitting"
   ]
  },
  {
   "cell_type": "markdown",
   "metadata": {
    "slideshow": {
     "slide_type": "slide"
    }
   },
   "source": [
    "<a rel=\"license\" href=\"https://creativecommons.org/licenses/by/4.0/\"><img alt=\"Creative Commons Licence\" style=\"border-width:0\" src=\"https://licensebuttons.net/l/by/4.0/88x31.png\" title='This work is licensed under a Creative Commons Attribution 4.0 International License.' align=\"right\"/></a>\n",
    "\n",
    "Author: Dr Antonia Mey   \n",
    "Email: antonia.mey@ed.ac.uk\n",
    "  \n",
    "### Learning objectives\n",
    "By the end of this unit, you should be able to \n",
    "* Get more practice with plotting data and computing molecular properties.\n",
    "* Test how correlated two datasets are using `scipy`\n",
    "* Understand how to find the minimum of a function computationally.\n",
    "* Use the library `scipy` to find a line of best fit.\n",
    "* Use the library `scipy` to be able to fit an exponential function.\n",
    "* Know of other fitting functions, such as polynomial or Gaussian fits. \n",
    "\n",
    "\n",
    "Some material was contributed by Dr Matteo Degiacomi and Dr Valentina Erastova   "
   ]
  },
  {
   "cell_type": "markdown",
   "metadata": {
    "slideshow": {
     "slide_type": "slide"
    }
   },
   "source": [
    "### Table of Contents\n",
    "1. [Recap: molecular geometries and plotting](#1-recap-molecular-geometries-and-plotting)      \n",
    "   1.1 [Recap of molecular geometries](#11-recap-of-molecular-geometries)   \n",
    "   1.2 [Recap of plotting distributions](#12-recap-of-plotting-distributions)     \n",
    "   1.3 [Tasks](#tasks-1)    \n",
    "\n",
    "2. [Computing Correlations](#Correlation)    \n",
    "   2.1 [Pearson's correlation coefficient](#pearsons-correlation-coefficient)      \n",
    "   2.2 [Tasks](#tasks-2)   \n",
    "   2.3 [Spearman's rank correlation coefficient](#22-spearmans-rank-correlation-coefficient)    \n"
   ]
  },
  {
   "cell_type": "markdown",
   "metadata": {},
   "source": [
    "### Links to documentation\n",
    "\n",
    "You can find the full documentation to `scipy` at [scipy.org](https://scipy.org)."
   ]
  },
  {
   "cell_type": "markdown",
   "metadata": {
    "slideshow": {
     "slide_type": "slide"
    }
   },
   "source": [
    "**<span style=\"color:black\">Jupyter Cheat Sheet</span>**\n",
    "- To run the currently highlighted cell and move focus to the next cell, hold <kbd>&#x21E7; Shift</kbd> and press <kbd>&#x23ce; Enter</kbd>;\n",
    "- To run the currently highlighted cell and keep focus in the same cell, hold <kbd>&#x21E7; Ctrl</kbd> and press <kbd>&#x23ce; Enter</kbd>;\n",
    "- To get help for a specific function, place the cursor within the function's brackets, hold <kbd>&#x21E7; Shift</kbd>, and press <kbd>&#x21E5; Tab</kbd>;"
   ]
  },
  {
   "cell_type": "markdown",
   "metadata": {},
   "source": [
    "# Import libraries"
   ]
  },
  {
   "cell_type": "code",
   "execution_count": null,
   "metadata": {},
   "outputs": [],
   "source": [
    "import sys\n",
    "import os.path\n",
    "sys.path.append(os.path.abspath('../'))\n",
    "from helper_functions.mentimeter import Mentimeter\n",
    "import numpy as np\n",
    "import matplotlib.pylab as plt\n",
    "import pandas as pd\n",
    "import math as m"
   ]
  },
  {
   "cell_type": "markdown",
   "metadata": {
    "slideshow": {
     "slide_type": "slide"
    }
   },
   "source": [
    "# 1. Recap: molecular geometries and plotting <a id='1-recap-molecular-geometries-and-plotting'></a>"
   ]
  },
  {
   "cell_type": "markdown",
   "metadata": {
    "slideshow": {
     "slide_type": "slide"
    }
   },
   "source": [
    "## 1.1 Recap of molecular geometries <a id='11-recap-of-molecular-geometries'></a>"
   ]
  },
  {
   "cell_type": "markdown",
   "metadata": {},
   "source": [
    "### Bonds\n",
    "To compute the length of a bond **a**, we need to know the length of the vector connecting two atoms A and B using this formula:\n",
    "\n",
    "$\\vert\\vert \\mathbf{a}\\vert \\vert$=$\\sqrt{(x_B-x_A)^2+(y_B-y_A)^2+(z_B-z_A)^2}$\n",
    "\n",
    "In Python, `np.linalg.norm(B-A)` is a fast way of computing the distance between two vectors if the input is the form of a NumPy array."
   ]
  },
  {
   "cell_type": "code",
   "execution_count": null,
   "metadata": {},
   "outputs": [],
   "source": [
    "# Example positions of a water molecle\n",
    "\n",
    "position_atom_H1 = np.array([0.758602,0.000000,0.504284])\n",
    "position_atom_O = np.array([0.000,0.000,0.000])\n",
    "position_atom_H2 = np.array([0.260455, 0.000000, -0.872893])"
   ]
  },
  {
   "cell_type": "code",
   "execution_count": null,
   "metadata": {},
   "outputs": [],
   "source": [
    "def compute_bond_length(atom1, atom2):\n",
    "    \"\"\" This funciton computes the bond length between two atoms\n",
    "    \n",
    "    Parameters:\n",
    "    -----------\n",
    "    atom1:numpy array \n",
    "        contains 3 entries as x, y and z coordinates\n",
    "    atom2:numpy array\n",
    "        contains 3 entries as x, y and z coordinates\n",
    "    \n",
    "    Returns:\n",
    "    --------\n",
    "    bond_length :float\n",
    "        value of the bond length\n",
    "    \"\"\"\n",
    "    \n",
    "    bond_length = np.linalg.norm(atom1-atom2)\n",
    "    return bond_length"
   ]
  },
  {
   "cell_type": "code",
   "execution_count": null,
   "metadata": {},
   "outputs": [],
   "source": [
    "bond_length = compute_bond_length(position_atom_H1, position_atom_O)\n",
    "print(f'The H-O bondlength is: {bond_length:.2f} Å.')"
   ]
  },
  {
   "cell_type": "markdown",
   "metadata": {},
   "source": [
    "### Angles"
   ]
  },
  {
   "cell_type": "markdown",
   "metadata": {},
   "source": [
    "Here is an example of an angle in a water molecule, where vector *H1*, *O*, and *H2*  give the positions of the atoms in space.\n",
    "\n",
    "![indexing](images/bond_angles.png)\n",
    "\n",
    "The bond length between H1 and O is given by the vector connecting these two atoms **a** in the image and can be computed using the above formula. \n",
    "\n",
    "\n",
    "To determine the angle between two vectors you can use the scalar product: \n",
    "$$\\mathbf{a}\\cdot \\mathbf{b} = \\vert\\vert\\mathbf{a}\\vert\\vert \\,\\vert\\vert\\mathbf{b}\\vert\\vert\\cos \\phi,$$\n",
    "where $\\mathbf{a}$ and $\\mathbf{b}$ are vectors, and  $\\phi$ is the valence angle we are after. We need to solve the dot product according to the valence angle $\\phi$ by rearranging the above equation:\n",
    "$$\\phi = \\arccos\\big(\\frac{\\mathbf{a}\\cdot\\mathbf{b}}{\\vert\\vert\\mathbf{a}\\vert\\vert \\,\\vert\\vert\\mathbf{b} \\vert\\vert}\\big)$$\n",
    "\n",
    "You can use the `math` library to get the arccos of an angle, e.g.: `math.acos()`"
   ]
  },
  {
   "cell_type": "markdown",
   "metadata": {},
   "source": [
    "The scalar product or dot product can be computed using `np.dot()` in Python."
   ]
  },
  {
   "cell_type": "code",
   "execution_count": null,
   "metadata": {},
   "outputs": [],
   "source": [
    "def compute_angle_water(O_position,H1_position, H2_position):\n",
    "    \"\"\"This function computes the angle between two three atoms\n",
    "    \n",
    "    Parameters:\n",
    "    -----------\n",
    "    H1_position:numpy array \n",
    "        contains 3 entries as x, y and z coordinates\n",
    "    O_position:numpy array\n",
    "        contains 3 entries as x, y and z coordinates\n",
    "    H2_position:numpy array\n",
    "        contains 3 entries as x, y and z coordinates\n",
    "    \n",
    "    Returns:\n",
    "    --------\n",
    "    angle :float\n",
    "        value of the angle\n",
    "    \"\"\"\n",
    "    vector_of_bond_a = H1_position-O_position\n",
    "    vector_of_bond_b = H2_position-O_position\n",
    "\n",
    "    bond_length_a = compute_bond_length(H1_position, O_position)\n",
    "    bond_length_b = compute_bond_length(O_position, H2_position)\n",
    "    \n",
    "    angle = m.acos(np.dot(vector_of_bond_a,vector_of_bond_b)/(bond_length_a*bond_length_b))\n",
    "    return np.degrees(angle)\n",
    "    "
   ]
  },
  {
   "cell_type": "code",
   "execution_count": null,
   "metadata": {},
   "outputs": [],
   "source": [
    "angle = compute_angle_water(position_atom_O,position_atom_H1,position_atom_H2)\n",
    "print(f'The angle of a water molecule is: {angle:.2f}°.')"
   ]
  },
  {
   "cell_type": "markdown",
   "metadata": {
    "slideshow": {
     "slide_type": "slide"
    }
   },
   "source": [
    "### Recap: Reminder of further resources\n",
    "If you ever get stuck with Matplotlib, they have some very helpful [cheatsheets](https://matplotlib.org/cheatsheets/), one of which is shown below:\n",
    "\n",
    "![Matplotlib beginner cheat sheet](https://matplotlib.org/cheatsheets/handout-beginner.png)"
   ]
  },
  {
   "cell_type": "markdown",
   "metadata": {
    "slideshow": {
     "slide_type": "slide"
    }
   },
   "source": [
    "## 1.2 Recap of plotting distributions <a id=\"12-recap-of-plotting-distributions\"></a>\n",
    "\n",
    "Take a look at the following code:\n",
    "\n",
    "```python\n",
    "\n",
    "# Generate 10000 random samples from a normal distriubution \n",
    "X = np.random.normal(4, 0.3, 10000)\n",
    "# initiate the plot\n",
    "fig, ax = plt.subplots()\n",
    "fig.set_figwidth(4)\n",
    "fig.set_figheight(4)\n",
    "# Use numpy to compute a histogram\n",
    "prob, edges = np.histogram(X, density = True, bins=30)\n",
    "half_width = (edges[1]-edges[0])/2\n",
    "bin_centres = edges[:-1]+half_width\n",
    "# plot the probability density from the histogram\n",
    "ax.plot(bin_centres, prob, marker=\"o\", color=\"red\")\n",
    "\n",
    "```\n",
    "\n",
    "How would you expect the final plot to look like?"
   ]
  },
  {
   "cell_type": "markdown",
   "metadata": {},
   "source": [
    "# Tasks 1 <a id=\"tasks-1\"></a>"
   ]
  },
  {
   "cell_type": "markdown",
   "metadata": {},
   "source": [
    "<div class=\"alert alert-success\">\n",
    "    <b>Task 1.1 </b> : generate a 1D array, x, and plot x squared using non-default line types and colours, label the plot\n",
    "</div>"
   ]
  },
  {
   "cell_type": "markdown",
   "metadata": {},
   "source": [
    " Practice labelling your plot as well!\n",
    " - `xlabel()`\n",
    " - `ylabel()` \n",
    " - `title()`\n",
    "\n",
    "<div class=\"alert alert-info\">\n",
    "    <b>Hint</b> : To neatly write sub- and superscripts on the plots, like  $x_2$  or $x^2$ in the example above, use the $LaTeX$ notation in the code - <code>$x_2$</code> and <code>$x^2$</code> respectively. For  <a href=\"https://matplotlib.org/3.1.1/tutorials/text/mathtext.html\">more examples see here</a>.\n",
    "\n",
    "</div>\n",
    "\n"
   ]
  },
  {
   "cell_type": "code",
   "execution_count": null,
   "metadata": {},
   "outputs": [],
   "source": [
    "# Task 1: Test out the solution in this cell:\n",
    "# FIXME"
   ]
  },
  {
   "cell_type": "markdown",
   "metadata": {},
   "source": [
    "<details><summary {style='color:green;font-weight:bold'}> Click here to see the solution to Task 1.1 </summary>\n",
    "    \n",
    "```python\n",
    "\n",
    "# generating an array\n",
    "x = np.linspace(-10, 10, 21) \n",
    "y = x**2\n",
    "\n",
    "# plotting with x in a named colour, connected by a dotted line of a declared width\n",
    "plt.plot(x, y, \"x:\", color=\"tomato\", linewidth=\"1.5\") \n",
    "\n",
    "# adding labeLs\n",
    "plt.xlabel(\"x\")\n",
    "plt.ylabel(\"y\")\n",
    "plt.title(\"my plot $y=x^2$\")\n",
    "\n",
    "plt.show()\n",
    "\n",
    "```\n",
    "\n",
    "</details>"
   ]
  },
  {
   "cell_type": "markdown",
   "metadata": {},
   "source": [
    "<div class=\"alert alert-success\">\n",
    "    <b>Task 1.2 </b> : The file <code>data/water.xyz</code> contains a cluster of ice, i.e. many water molecules in a solid state. It has the <code>xyz</code> -file format and below is some help given how to read data from the file. \n",
    "\n",
    "\n",
    "1. Take a look at how the file is read and make sure you understand it. This is one example way of reading this file. There are many other options too.   \n",
    "2. Compute the angle of each water molecule using the function defined above and append each angle to a list of angles.      \n",
    "3. Plot a distribution of from the list of angles and report its mean and standard deviation.     \n",
    "</div>"
   ]
  },
  {
   "cell_type": "code",
   "execution_count": null,
   "metadata": {},
   "outputs": [],
   "source": [
    "# Have a look at the data file first \n",
    "!head data/water.xyz"
   ]
  },
  {
   "cell_type": "code",
   "execution_count": null,
   "metadata": {},
   "outputs": [],
   "source": [
    "# reading the data in\n",
    "# This generates a numpy array with the coordinates\n",
    "data = np.genfromtxt('data/water.xyz', skip_header=1, usecols=[1,2,3])\n",
    "# We don't want to use the first row and the first column this is what skup_header and use_cols does\n",
    "\n",
    "# now we loop over this in threes to group the molecules together:\n",
    "water_molecules = []\n",
    "for i in range(0,len(data),3):\n",
    "    # This selects each water molecule\n",
    "    water_molecule = data[i:i+3]\n",
    "    # Uncomment this line to see what is happening in detail\n",
    "    # print(water_molecule)\n",
    "    water_molecules.append(water_molecule)\n",
    "print(f'We have {len(water_molecules)} water molecules in our file.')"
   ]
  },
  {
   "cell_type": "code",
   "execution_count": null,
   "metadata": {},
   "outputs": [],
   "source": [
    "# FIXME\n"
   ]
  },
  {
   "cell_type": "markdown",
   "metadata": {},
   "source": [
    "<details><summary {style='color:green;font-weight:bold'}> Click here to see the solution to Task 1.2 </summary>\n",
    "    \n",
    "```python\n",
    "\n",
    "# subtask 2\n",
    "# computing angle\n",
    "angles = []\n",
    "for water in water_molecules:\n",
    "    angle = compute_angle_water(water[0], water[1], water[2])\n",
    "    angles.append(angle)\n",
    "    \n",
    "# subtask 3\n",
    "# plotting the distribution\n",
    "plt.hist(angles, bins=30)\n",
    "plt.xlabel(\"angle in degree\")\n",
    "plt.ylabel(\"Count\")\n",
    "\n",
    "print(f\"The mean is {np.mean(angles):.2f}\")\n",
    "print(f\"The standard deviation is {np.std(angles):.2f}\")\n",
    "\n",
    "```\n",
    "\n",
    "</details>"
   ]
  },
  {
   "cell_type": "markdown",
   "metadata": {},
   "source": [
    "<div class=\"alert alert-success\">\n",
    "    <b>Task 1.3 </b> : Working with data. Use the file <code>data/anscombes_quartet.dat</code>. This file is a tab delimiter file with 8 columns. The first and second columns make up one data set, the second and third the next one, and so forth.\n",
    "\n",
    "\n",
    "1. Read the data into a pandas dataframe,    \n",
    "2. Create four subplots of the data,       \n",
    "3. Answer the mentimeter question.      \n",
    "</div>"
   ]
  },
  {
   "cell_type": "code",
   "execution_count": null,
   "metadata": {},
   "outputs": [],
   "source": [
    "# Task 3: Test out the solution in this cell:\n",
    "\n",
    "# An example of naming the columns of the file\n",
    "colnames=[\"X1\", \"Y1\", \"X2\", \"Y2\", \"X3\", \"Y3\", \"X4\", \"Y4\"]\n",
    "\n",
    "data = pd.read_csv(# FIXME\n",
    "                   skiprows=2, names=colnames)\n",
    "\n",
    "# Setup your 4 subplots\n",
    "fig, axs = plt.subplots(2, 2)\n",
    "\n",
    "# Set the figure size\n",
    "fig.set_figwidth(8)\n",
    "fig.set_figheight(8)\n",
    "\n",
    "# add data to plot\n",
    "axs[0, 0].scatter(data['X1'], data['Y1'])\n",
    "# FIXME\n",
    "# FIXME\n",
    "\n",
    "# make sure it is labelled\n",
    "for ax in axs.flat:\n",
    "    ax.set(xlabel='x-data', ylabel='y-data')\n",
    "    \n",
    "for ax in axs.flat:\n",
    "    ax.label_outer()\n",
    "\n",
    "# Set the ranges of all axes\n",
    "plt.setp(ax, xlim=(4,20), ylim=(3,13))"
   ]
  },
  {
   "cell_type": "markdown",
   "metadata": {},
   "source": [
    "<details><summary {style='color:green;font-weight:bold'}> Click here to see the solution to Task 1.2 </summary>\n",
    "    \n",
    "```python\n",
    "\n",
    "# Loading the dataset\n",
    "colnames=[\"X1\", \"Y1\", \"X2\", \"Y2\", \"X3\", \"Y3\", \"X4\", \"Y4\"]\n",
    "data = pd.read_csv(\"data/anscombes_quartet.dat\", delimiter=\"\\t\", skiprows=2, names=colnames)\n",
    "\n",
    "# Setup your 4 subplots\n",
    "fig, axs = plt.subplots(2, 2)\n",
    "fig.set_figwidth(8)\n",
    "fig.set_figheight(8)\n",
    "\n",
    "# add data to plot\n",
    "axs[0, 0].scatter(data[\"X1\"], data[\"Y1\"])\n",
    "axs[0, 1].scatter(data[\"X2\"], data[\"Y2\"])\n",
    "axs[1, 0].scatter(data[\"X3\"], data[\"Y3\"])\n",
    "axs[1, 1].scatter(data[\"X4\"], data[\"Y4\"])\n",
    "\n",
    "# make sure it is lablled\n",
    "for ax in axs.flat:\n",
    "    ax.set(xlabel=\"x-data\", ylabel=\"y-data\")\n",
    "    \n",
    "for ax in axs.flat:\n",
    "    ax.label_outer()\n",
    "\n",
    "# Setting the values for all axes.\n",
    "plt.setp(ax, xlim=(4,20), ylim=(3,13))\n",
    "\n",
    "```\n",
    "\n",
    "</details>"
   ]
  },
  {
   "cell_type": "markdown",
   "metadata": {},
   "source": [
    "Data is said to be **perfectly correlated**, if all points fall onto a straight line that is $x=y$. Take a look at your data: which of the four plots do you think is the most correlated?"
   ]
  },
  {
   "cell_type": "markdown",
   "metadata": {},
   "source": [
    "<div class=\"alert alert-warning\">\n",
    "    <b>Task 1.4 (advanced) </b> : Working with data. Use the file <code>data/ramachandran.dat</code>. It contains dihedral angles of the backbone of a protein in two columns. Column 1 is the $\\phi$ angle and column 2 the $\\psi$ angle. To find out more about Ramachandran diagrams take a look <a href=\"https://en.wikipedia.org/wiki/Ramachandran_plot\">here</a>, and for more on dihedral angles see <a href=\"https://en.wikipedia.org/wiki/Dihedral_angle\">here</a>. \n",
    "<p>1. Read the data into a pandas dataframe,  </p>  \n",
    "<p>2. Create a single plot that is a 2D density map of $\\phi$ against $\\psi$,  </p>\n",
    "<p>3. Make sure your plot is labelled correctly and displays a colour bar!   </p>   \n",
    "</div>"
   ]
  },
  {
   "cell_type": "code",
   "execution_count": null,
   "metadata": {},
   "outputs": [],
   "source": [
    "# Task 4: Test out the solution in this cell:\n",
    "\n",
    "# 1. Read the data into a pandas dataframe, \n",
    "# FIXME\n",
    "  \n",
    "# 2. Create a single plot that is a 2D density map of $\\phi$ against $\\psi$\n",
    "# FIXME\n",
    "\n",
    "# 3. Make sure your plot is labelled correctly and displays a colour bar!   \n",
    "# FIXME"
   ]
  },
  {
   "cell_type": "markdown",
   "metadata": {},
   "source": [
    "<details><summary {style=\"color:green; font-weight:bold\"}> Click here to see the solution to Task 1.4 (Advanced)</summary>\n",
    "\n",
    "```python\n",
    "\n",
    "# Read in the dataframe\n",
    "df = pd.read_csv(\"data/ramachandran.dat\", \n",
    "                 skiprows=29, \n",
    "                 names=[\"phi\", \"psi\"], \n",
    "                 usecols=[0,1], \n",
    "                 sep=\"\\s+\",\n",
    "                 dtype=float)\n",
    "\n",
    "# Check that we read it correctly\n",
    "print(df.head())\n",
    "\n",
    "# Get the columns\n",
    "phi = df[\"phi\"].to_numpy()\n",
    "psi = df[\"psi\"].to_numpy()\n",
    "\n",
    "# Initialise figure object\n",
    "fig, ax = plt.subplots(1,1)\n",
    "\n",
    "# Plot a density plot as a 2D histogram\n",
    "histogram, x_edges, y_edges, image = ax.hist2d(phi, psi, bins=(200, 200), cmap=\"RdYlGn_r\", cmin=1)\n",
    "\n",
    "# Add a colour bar\n",
    "cbar = fig.colorbar(image, orientation=\"vertical\")\n",
    "cbar.set_label(\"Count\")\n",
    "\n",
    "# Add labels\n",
    "ax.set_title(\"Ramachandran plot\")\n",
    "ax.set_xlabel(\"$\\phi$\")\n",
    "ax.set_ylabel(\"$\\psi$\")\n",
    "\n",
    "# Show plot\n",
    "plt.show()\n",
    "\n",
    "\n",
    "```"
   ]
  },
  {
   "cell_type": "markdown",
   "metadata": {},
   "source": [
    "# 2. Computing Correlations\n",
    "<a id='2-computing-correlations'></a>\n"
   ]
  },
  {
   "cell_type": "markdown",
   "metadata": {},
   "source": [
    "## Reminder: mean $\\mu$ and standard deviation $\\sigma$\n",
    "\n",
    "The **mean** $\\mu$ is given by:\n",
    "\n",
    "\\begin{equation}\n",
    "\\mu = \\frac{1}{N} \\sum_i^N x_i ,\n",
    "\\end{equation}\n",
    "\n",
    "where $N$ is a number of samples, as as they increase the mean becomes closer to the 'true' value. \n",
    "\n",
    "\n",
    "```python\n",
    "mu = np.sum(x) / len(x)\n",
    "```\n",
    "\n",
    "or with numpy: `np.mean(x)`.\n",
    "\n",
    "_Note:_ **Median** is a middle value separating the greater and lesser halves of a data set, since the normal distribution is symmetric, mean and median are equivalent. \n",
    "\n",
    "\n",
    "\n",
    "The **standard deviation** (STD), $\\sigma$ quantifies how much the numbers in our set deviate from the mean, $\\mu$\n",
    "\n",
    "\\begin{equation}\n",
    "\\sigma = \\sqrt{\\frac{1}{N}\\sum_{i=1}^N(x_i-\\mu)^2}.\n",
    "\\end{equation}\n",
    "\n",
    "it can be written as:\n",
    "\n",
    "```python\n",
    "sigma = np.sqrt( np.sum( ( x - np.mean(x))**2 ) / len(x) )\n",
    "```\n",
    "\n",
    "or with numpy `np.std(x)`.\n",
    "\n",
    "\n",
    "\n",
    "On a **normal distribution** the values that are less than 1 $\\sigma$ away from the mean, $\\mu$, will account for the 68.27% of the set - this is our **confidence interval**\n",
    "\n",
    "<img src=\"images/NormalDist.png\" width=\"500\">\n",
    "\n"
   ]
  },
  {
   "cell_type": "markdown",
   "metadata": {},
   "source": [
    "## 2.1 Pearson's correlation coefficient\n",
    "<a id='21-pearsons-correlation-coefficient'></a>"
   ]
  },
  {
   "cell_type": "markdown",
   "metadata": {},
   "source": [
    "One way of quantifying the correlation between two datasets is to compute their **Pearson's correlation coefficient $R$**. \n",
    "- If $R$ it is 1, or close to 1 the data is highly correlated, \n",
    "- around 0 the data is not correlated  \n",
    "- when it is close to -1 the data is anticorrelated."
   ]
  },
  {
   "cell_type": "markdown",
   "metadata": {},
   "source": [
    "Mathematically the correlation coefficient is defined as:\n",
    "\n",
    "$R = \\frac{\\langle(X-\\mu_X)(Y-\\mu_Y)\\rangle}{\\sigma_X\\sigma_Y}$,\n",
    "\n",
    "where $\\sigma$ is the standard deviation of the data set $X$ or $Y$ and the symbol $\\langle \\cdot \\rangle$ denotes computing the mean of the quantities inside the angular bracket."
   ]
  },
  {
   "cell_type": "markdown",
   "metadata": {},
   "source": [
    "The equation contains exactly what you learned last week!"
   ]
  },
  {
   "cell_type": "markdown",
   "metadata": {},
   "source": [
    "Can you think of examples of correlated data?"
   ]
  },
  {
   "cell_type": "markdown",
   "metadata": {},
   "source": [
    "## Tasks 2 <a id=\"tasks-2\"></a>"
   ]
  },
  {
   "cell_type": "markdown",
   "metadata": {},
   "source": [
    "<div class=\"alert alert-success\">\n",
    "    <b>Task 2.1 </b> : Write a function that computes the Pearson correlation coefficient between two datasets, making use of the numpy functions <code>np.mean()</code> and <code>np.std()</code> to compute the mean and standard deviation.\n",
    "</div>"
   ]
  },
  {
   "cell_type": "code",
   "execution_count": null,
   "metadata": {},
   "outputs": [],
   "source": [
    "# Here is some data\n",
    "number_generator = np.random.default_rng(12345)\n",
    "X = 20 * number_generator.standard_normal(size=1000) + 100\n",
    "Y = X + (10 * number_generator.standard_normal(1000) + 50)"
   ]
  },
  {
   "cell_type": "code",
   "execution_count": null,
   "metadata": {},
   "outputs": [],
   "source": [
    "# Task 1: Test out the solution in this cell:\n",
    "def compute_pearson_r(X, Y):\n",
    "    r''' function that computes the Pearson correlation coefficient\n",
    "    Parameters\n",
    "    ----------\n",
    "    Computes the correlation between X and Y\n",
    "    \n",
    "    X : 1-d numpy array\n",
    "        dataset 1\n",
    "    Y : 1-d numpy array\n",
    "        dataset 2\n",
    "        \n",
    "    Returns:\n",
    "    --------\n",
    "    R : float\n",
    "        value of pearson R\n",
    "    '''\n",
    "    \n",
    "    R = None\n",
    "    \n",
    "    # FIXME\n",
    "    \n",
    "    return R"
   ]
  },
  {
   "cell_type": "markdown",
   "metadata": {},
   "source": [
    "<details><summary {style='color:green;font-weight:bold'}> Click here to see the solution to Task 2.1. </summary>\n",
    "    \n",
    "```python\n",
    "\n",
    "\n",
    "def compute_pearson_r(X,Y):\n",
    "    r''' function that computes the Pearson correlation coefficient\n",
    "    Parameters\n",
    "    ----------\n",
    "    Computes the correlation between X and Y\n",
    "    \n",
    "    X : 1-d numpy array\n",
    "        dataset 1\n",
    "    Y : 1-d numpy array\n",
    "        dataset 2\n",
    "        \n",
    "    Returns:\n",
    "    --------\n",
    "    R : float\n",
    "        value of pearson R\n",
    "    '''\n",
    "    \n",
    "    R = None\n",
    "    mean_x = np.mean(X)\n",
    "    mean_y = np.mean(Y)\n",
    "    std_x = np.std(X)\n",
    "    std_y = np.std(Y)\n",
    "    covariance = np.mean((X-mean_x)*(Y-mean_y))\n",
    "    R = covariance/(std_x*std_y)\n",
    "    \n",
    "    return R\n",
    "\n",
    "```\n",
    "\n",
    "</details>"
   ]
  },
  {
   "cell_type": "markdown",
   "metadata": {},
   "source": [
    "<div class=\"alert alert-success\">\n",
    "    <b>Task 2.2 </b> : Does your function work correctly? Check if you get the same answers as from the built-in function <code>pearsonr</code> in the <code>scipy.stats</code> package. \n",
    "</div>"
   ]
  },
  {
   "cell_type": "code",
   "execution_count": null,
   "metadata": {},
   "outputs": [],
   "source": [
    "from scipy.stats import pearsonr\n",
    "# you use pearson r from the scipy.stats package in the following way:\n",
    "# pearsonr(dataset1, dataset2)[0]\n",
    "\n",
    "# Check what happens when you remove the [0] at the end and print the output. "
   ]
  },
  {
   "cell_type": "code",
   "execution_count": null,
   "metadata": {},
   "outputs": [],
   "source": [
    "# Task 2: Test out the solution in this cell:\n",
    "# FIXME\n"
   ]
  },
  {
   "cell_type": "markdown",
   "metadata": {},
   "source": [
    "<details><summary {style='color:green;font-weight:bold'}> Click here to see the solution to Task 2.2 </summary>\n",
    "    \n",
    "```python\n",
    "\n",
    "pearson1 = pearsonr(X, Y)[0]\n",
    "pearson2 = compute_pearson_r(X, Y)\n",
    "print(pearson1, pearson2)\n",
    "\n",
    "```\n",
    "\n",
    "</details>"
   ]
  },
  {
   "cell_type": "markdown",
   "metadata": {},
   "source": [
    "<div class=\"alert alert-success\">\n",
    "    <b>Task 2.3 </b> : Compute the correlation coefficient of all 4 datasets of the Anscombe's quartet. What do you observe?\n",
    "</div>"
   ]
  },
  {
   "cell_type": "code",
   "execution_count": null,
   "metadata": {},
   "outputs": [],
   "source": [
    "# Task 3: Test out the solution in this cell:\n",
    "# FIXME"
   ]
  },
  {
   "cell_type": "markdown",
   "metadata": {},
   "source": [
    "<details><summary {style='color:green;font-weight:bold'}> Click here to see the solution to Task 2.3. </summary>\n",
    "\n",
    "```python\n",
    "pearson1 = pearsonr(data[\"X1\"], data[\"Y1\"])[0]\n",
    "pearson2 = pearsonr(data[\"X2\"], data[\"Y2\"])[0]\n",
    "pearson3 = pearsonr(data[\"X3\"], data[\"Y3\"])[0]\n",
    "pearson4 = pearsonr(data[\"X4\"], data[\"Y4\"])[0]\n",
    "print(f\"{pearson1}\\n{pearson2}\\n{pearson3}\\n{pearson4}\")\n",
    "```\n",
    "\n",
    "</details>"
   ]
  },
  {
   "cell_type": "markdown",
   "metadata": {},
   "source": [
    "## 2.2. Spearman's Rank Correlation Coefficient\n",
    "<a id='22-spearmans-rank-correlation-coefficient'></a>\n",
    "There are other ways of measuring correlation. Take a look at the documentation of the Spearman rank correlation coefficient in the scipy package [here](https://docs.scipy.org/doc/scipy/reference/generated/scipy.stats.spearmanr.html) and a bit more background on it [here](https://en.wikipedia.org/wiki/Spearman%27s_rank_correlation_coefficient). "
   ]
  },
  {
   "cell_type": "markdown",
   "metadata": {},
   "source": [
    "<div class=\"alert alert-warning\">\n",
    "    <b>Advanced Task 2.4  </b> : Compute the Spearman's rank correlation coefficient for the Anscombe's quartet.\n",
    "</div>"
   ]
  },
  {
   "cell_type": "code",
   "execution_count": 1,
   "metadata": {},
   "outputs": [],
   "source": [
    "# Task 2.4: Test out the solution in this cell:\n",
    "# FIXME"
   ]
  },
  {
   "cell_type": "markdown",
   "metadata": {},
   "source": [
    "<details><summary {style='color:green;font-weight:bold'}> Click here to see solution to Task. </summary>\n",
    "\n",
    "```Python\n",
    "from scipy.stats import spearmanr\n",
    "    \n",
    "spearman1 = spearmanr(data[\"X1\"], data[\"Y1\"])[0]\n",
    "spearman2 = spearmanr(data[\"X2\"], data[\"Y2\"])[0]\n",
    "spearman3 = spearmanr(data[\"X3\"], data[\"Y3\"])[0]\n",
    "spearman4 = spearmanr(data[\"X4\"], data[\"Y4\"])[0]\n",
    "print(f\"{spearman1}\\n{spearman2}\\n{spearman3}\\n{spearman4}\")\n",
    "```\n",
    "\n"
   ]
  },
  {
   "cell_type": "markdown",
   "metadata": {},
   "source": [
    "# Break\n",
    "<img src=\"images/break.png\" alt=\"drawing\" width=\"200\"/>"
   ]
  },
  {
   "cell_type": "markdown",
   "metadata": {},
   "source": [
    "# Next notebook\n",
    "\n",
    "[Unit 07 Fitting II](Unit_07_fitting_II.ipynb) "
   ]
  }
 ],
 "metadata": {
  "kernelspec": {
   "display_name": "Python 3 (ipykernel)",
   "language": "python",
   "name": "python3"
  },
  "language_info": {
   "codemirror_mode": {
    "name": "ipython",
    "version": 3
   },
   "file_extension": ".py",
   "mimetype": "text/x-python",
   "name": "python",
   "nbconvert_exporter": "python",
   "pygments_lexer": "ipython3",
   "version": "3.8.13"
  },
  "vscode": {
   "interpreter": {
    "hash": "cf51243a6e93b78f1f5c5d179cd4f66e9bfd7b6269bebfcfdbed7f35483e292c"
   }
  }
 },
 "nbformat": 4,
 "nbformat_minor": 4
}

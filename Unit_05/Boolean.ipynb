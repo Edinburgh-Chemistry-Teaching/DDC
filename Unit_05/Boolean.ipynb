{
 "cells": [
  {
   "cell_type": "markdown",
   "metadata": {},
   "source": [
    "\n",
    "# Boolean Indexing <a class=\"anchor\" id=\"bool\"></a>\n",
    "\n",
    "### extra material for the Session 5\n",
    "<br>\n",
    "\n",
    "\n",
    "by Valentina Erastova <valentina.erastova@ed.ac.uk>\n",
    "University of Edinburgh \n",
    "\n",
    "Thanks to Matteo Degiacomi, Durham University for sharing the material\n",
    "\n",
    "----\n",
    "\n"
   ]
  },
  {
   "cell_type": "markdown",
   "metadata": {},
   "source": [
    "<img src=\"https://upload.wikimedia.org/wikipedia/commons/c/ce/George_Boole_color.jpg\" width=\"250\" style=\"float: right\">\n",
    "\n",
    "**George Boole** was a 19th century self-taught English mathematician, philosopher and logician. He is known for Boolean algerbra, that is based on variables being **True** or **False**, denoted as **1** and **0** respectively. \n",
    "\n",
    "The operations in Boolean algebra are **and** denoted as $\\wedge$, **or** denoted as $\\vee$ , and **not** denoted as $\\neg$.\n",
    "\n",
    "<img src=\"https://upload.wikimedia.org/wikipedia/commons/thumb/a/ae/Vennandornot.svg/2560px-Vennandornot.svg.png\" width=\"300\" style=\"float: center\" title=\"Venn diagram\"> <em><center>Venn diagram</center></em>\n"
   ]
  },
  {
   "cell_type": "markdown",
   "metadata": {},
   "source": [
    "\n",
    "---\n",
    "\n",
    "<div class=\"alert alert-info\">\n",
    "Often there are a few ways to do the same thing.  \n",
    "Here we show two types of expressions Bitwise and NumPy logical. At the end both do the same. \n",
    "\n",
    "```python\n",
    "a | b ~= np.logical_or (A, B)\n",
    "a & b ~= np.logical_and (A, B)\n",
    "a ^ b ~= np.logical_xor (A, B)\n",
    "a ~ b ~= np.logical_not (A, B)\n",
    "```\n",
    "</div>\n",
    "\n",
    "---\n"
   ]
  },
  {
   "cell_type": "markdown",
   "metadata": {},
   "source": [
    "## 1. Boolean Tests <a class=\"anchor\" id=\"booltest\"></a>\n",
    "\n",
    "Boolean tests on an array produce an array of booleans:\n",
    "\n",
    "<img src=\"images/BooleanOp.png\" width=\"500\">\n",
    "\n",
    "\n",
    "The function `numpy.any(test)` tests for existence of at least a **True** value in a boolean array\n"
   ]
  },
  {
   "cell_type": "code",
   "execution_count": null,
   "metadata": {},
   "outputs": [],
   "source": [
    "import numpy as np"
   ]
  },
  {
   "cell_type": "code",
   "execution_count": null,
   "metadata": {},
   "outputs": [],
   "source": [
    "#declare an array\n",
    "a = np.array([32, 2, 65, 29, 7, 14, 57, 81, 27, 0, 56])\n",
    "\n",
    "#declare tests\n",
    "c = a>15\n",
    "d = a<0\n",
    "\n",
    "print (np.any(c))\n",
    "print (\"condition d = a<0 \", np.any(d))\n"
   ]
  },
  {
   "cell_type": "markdown",
   "metadata": {},
   "source": [
    "While the functions `numpy.logical_or(test1, test2)` and `numpy.logical_and(test1, test2)` apply element-wise boolean operations between two tests.\n",
    "\n",
    "\n",
    "Can a value satisfy both conditon `c` **and** condition `d`? "
   ]
  },
  {
   "cell_type": "code",
   "execution_count": null,
   "metadata": {
    "scrolled": true
   },
   "outputs": [],
   "source": [
    "#Boolean indexing\n",
    "print(np.logical_and(c, d))\n"
   ]
  },
  {
   "cell_type": "markdown",
   "metadata": {},
   "source": [
    "indeed, but it can be either condition `c` **or** `d`..."
   ]
  },
  {
   "cell_type": "code",
   "execution_count": null,
   "metadata": {
    "scrolled": false
   },
   "outputs": [],
   "source": [
    "#Boolean indexing\n",
    "print(np.logical_or(c, d))\n"
   ]
  },
  {
   "cell_type": "code",
   "execution_count": null,
   "metadata": {},
   "outputs": [],
   "source": [
    "#using Bitwise\n",
    "\n",
    "print (c | d)"
   ]
  },
  {
   "cell_type": "markdown",
   "metadata": {},
   "source": [
    "## 2. Boolean Indexing <a class=\"anchor\" id=\"boolind\"></a>\n",
    "We can also use an array of booleans to index another array, i.e. only elements corresponding to **True** are extracted from the indexed array.\n",
    "\n",
    "<img src=\"images/Boolean.png\" width=\"500\">"
   ]
  },
  {
   "cell_type": "code",
   "execution_count": null,
   "metadata": {},
   "outputs": [],
   "source": [
    "#print the values that satisfy either c or d\n",
    "a_slice = a[np.logical_or(c, d)]\n",
    "print(a_slice)\n"
   ]
  },
  {
   "cell_type": "markdown",
   "metadata": {},
   "source": [
    "<div class=\"alert alert-success\">\n",
    "    <b>TASK 1: </b>  Using the mass spec data above, find m/z values in the region between m/z 6400 and 6600. \n",
    "</div>\n"
   ]
  },
  {
   "cell_type": "code",
   "execution_count": null,
   "metadata": {},
   "outputs": [],
   "source": [
    "# your solution here!\n",
    "\n",
    "\n"
   ]
  },
  {
   "cell_type": "markdown",
   "metadata": {},
   "source": [
    "<details>\n",
    "    <summary> <mark> SOLUTION:</mark> </summary>\n",
    "\n",
    "    \n",
    "```python\n",
    "\n",
    "# your solution here!\n",
    "\n",
    "data = np.loadtxt(\"DATA/ms.txt\")\n",
    "\n",
    "#test and slicing \n",
    "test = np.logical_and(data[:,0]>6400, data[:,0]<6600)\n",
    "sliced_array = data[test, :]\n",
    "\n",
    "maxval = np.max(sliced_array[:,1])\n",
    "idx = np.argmax(sliced_array[:,1])\n",
    "mz=sliced_array[idx,0]\n",
    "\n",
    "print (\"peak\", maxval, \"at m/z\", mz)\n",
    "\n",
    "\n",
    "```\n",
    "    \n",
    "\n",
    "</details>\n",
    "\n"
   ]
  },
  {
   "cell_type": "markdown",
   "metadata": {},
   "source": [
    "\n",
    "## 3. Example application of Boolean logic  <a class=\"anchor\" id=\"boolex\"></a>\n",
    "\n",
    "Now, let's work together through the periodic table and find ***what elements are liquid at room temperature?*** \n",
    "\n",
    "To obtain properties of elements we can use a [Mendeleev package](https://pypi.org/project/mendeleev/) (you have seen it used in session 2). <a class=\"anchor\" id=\"package\"></a>\n",
    "\n",
    "It does not come as a default on our Jupyter Notebook, and so we have to install it\n",
    "\n",
    ">```python \n",
    "!pip install mendeleev\n",
    "```\n",
    "\n"
   ]
  },
  {
   "cell_type": "code",
   "execution_count": null,
   "metadata": {},
   "outputs": [],
   "source": [
    "#install mendeleev\n",
    "# Using pip\n",
    "!pip install mendeleev==0.6.0\n"
   ]
  },
  {
   "cell_type": "code",
   "execution_count": null,
   "metadata": {},
   "outputs": [],
   "source": [
    "#now we can import a table from it\n",
    "from mendeleev import get_table\n"
   ]
  },
  {
   "cell_type": "markdown",
   "metadata": {},
   "source": [
    "Now let's import the table we need from mendeleev... \n",
    "\n",
    "*Note, we choose to only include first 90 elements that have the information about their melting and boiling point.*\n",
    "\n",
    "...and start using it for our work. "
   ]
  },
  {
   "cell_type": "code",
   "execution_count": null,
   "metadata": {},
   "outputs": [],
   "source": [
    "#get data for the first 90 elements\n",
    "ptable = get_table('elements')[0:90]\n",
    "\n",
    "#assing the properties to a numpy array\n",
    "element = ptable[\"name\"].values\n",
    "melting = ptable[\"melting_point\"].values\n",
    "boiling = ptable[\"boiling_point\"].values\n",
    "\n",
    "#continue below..."
   ]
  },
  {
   "cell_type": "markdown",
   "metadata": {},
   "source": [
    "<div class=\"alert alert-success\">\n",
    "    <b>TASK 2 </b> : set boolean tests to check what elements have the desired properties, and extract the names of those elements.\n",
    "</div>\n"
   ]
  },
  {
   "cell_type": "code",
   "execution_count": null,
   "metadata": {},
   "outputs": [],
   "source": [
    "#...continue from above\n",
    "\n",
    "#SET Boolean tests to check what is liquid at 297 K (room T)\n",
    "\n",
    "\n",
    "\n",
    "#Run the test and print names of elements that are liquid at room temperature\n",
    "\n"
   ]
  },
  {
   "cell_type": "markdown",
   "metadata": {},
   "source": [
    "<details>\n",
    "    <summary> <mark> COMPLETE SOLUTION:</mark> </summary>\n",
    "\n",
    "    \n",
    "```python\n",
    "\n",
    "from mendeleev import get_table\n",
    "\n",
    "#let's get data for the first 90 elements\n",
    "ptable = get_table('elements')[0:90]\n",
    "\n",
    "element = ptable[\"name\"].values\n",
    "melting = ptable[\"melting_point\"].values\n",
    "boiling = ptable[\"boiling_point\"].values\n",
    "\n",
    "#boolean to check what is liquid at 297 K (room T)\n",
    "temp1 = melting<297.\n",
    "temp2 = boiling>297.\n",
    "\n",
    "test = np.logical_and(temp1, temp2)\n",
    "print(element[test])\n",
    "\n",
    "\n",
    "```\n",
    "    \n",
    "\n",
    "</details>\n",
    "\n"
   ]
  }
 ],
 "metadata": {
  "kernelspec": {
   "display_name": "Python 3.9.7 64-bit ('3.9.7')",
   "language": "python",
   "name": "python3"
  },
  "language_info": {
   "codemirror_mode": {
    "name": "ipython",
    "version": 3
   },
   "file_extension": ".py",
   "mimetype": "text/x-python",
   "name": "python",
   "nbconvert_exporter": "python",
   "pygments_lexer": "ipython3",
   "version": "3.9.7"
  },
  "vscode": {
   "interpreter": {
    "hash": "02f18a21a35e5954c18fa769bc3437e1d5dd28e5f0ee8ec3c48889ec5af25b37"
   }
  }
 },
 "nbformat": 4,
 "nbformat_minor": 4
}

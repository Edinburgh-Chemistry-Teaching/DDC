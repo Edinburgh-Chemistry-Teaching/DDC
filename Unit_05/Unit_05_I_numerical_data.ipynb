{
 "cells": [
  {
   "cell_type": "markdown",
   "metadata": {},
   "source": [
    "# Unit 05: Introduction to NumPy and Plotting, part I\n",
    "\n",
    "<a rel=\"license\" href=\"http://creativecommons.org/licenses/by/4.0/\"><img alt=\"Creative Commons Licence\" style=\"border-width:0\" src=\"https://i.creativecommons.org/l/by/4.0/88x31.png\" title='This work is licensed under a Creative Commons Attribution 4.0 International License.' align=\"right\"/></a>\n",
    "\n",
    "Authors: \n",
    "- Dr Valentina Erastova \n",
    "- Dr Matteo Degiacomi \n",
    "\n",
    "Email: valentina.erastova@ed.ac.uk\n"
   ]
  },
  {
   "cell_type": "markdown",
   "metadata": {},
   "source": [
    "## Learning objectives  <a id=\"learning\"></a>\n",
    "\n",
    "* use the `numpy` library \n",
    "* perform mathematical operations on `numpy` arrays in 1D and in 2D\n",
    "* access parts of arrays\n",
    "* load arrays to or from files\n",
    "\n",
    "Some of the material was adapted from [Python4Science](https://github.com/Degiacomi-Lab/python4science/blob/master/2_Python_numerical_data.ipynb)."
   ]
  },
  {
   "cell_type": "markdown",
   "metadata": {},
   "source": [
    "## Table of Contents\n",
    "\n",
    "1. [Arrays and NumPy](#1-arrays-and-numpy)    \n",
    "    1.1 [1D Arrays](#11-1d-arrays)    \n",
    "    1.2 [Tasks 1](#tasks-1)    \n",
    "2. [Mathematical operations on 1D arrays](#2-mathematical-operations-on-1d-arrays)    \n",
    "3. [Accessing slices of 1D arrays](#3-accessing-slices-of-1d-arrays)    \n",
    "4. [Multidimensional arrays](#4-multidimensional-arrays)    \n",
    "    4.1 [Generating 2D arrays](#41-generating-2d-arrays)     \n",
    "    4.2 [Slicing 2D arrays](#42-slicing-2d-arrays)     \n",
    "    4.3 [Tasks 2](#tasks-2)    \n",
    "5. [Mathematical operations on multidimensional arrays](#)    \n",
    "[Next notebook](Unit_05_plotting_II.ipynb)    "
   ]
  },
  {
   "cell_type": "markdown",
   "metadata": {},
   "source": [
    "**<span style=\"color:black\">Jupyter Cheat Sheet</span>**\n",
    "- To run the currently highlighted cell and move focus to the next cell, hold <kbd>&#x21E7; Shift</kbd> and press <kbd>&#x23ce; Enter</kbd>;\n",
    "- To run the currently highlighted cell and keep focus in the same cell, hold <kbd>&#x21E7; Ctrl</kbd> and press <kbd>&#x23ce; Enter</kbd>;\n",
    "- To get help for a specific function, place the cursor within the function's brackets, hold <kbd>&#x21E7; Shift</kbd>, and press <kbd>&#x21E5; Tab</kbd>;"
   ]
  },
  {
   "cell_type": "markdown",
   "metadata": {},
   "source": [
    "## Links to documentation\n",
    "\n",
    "You can find useful information about using `numpy` and `matplotlib` at\n",
    "* [NumPy](https://numpy.org)\n",
    "* [matplotlib](https://matplotlib.org)\n"
   ]
  },
  {
   "cell_type": "markdown",
   "metadata": {},
   "source": [
    "# 1. Arrays and NumPy <a id=\"1-arrays-and-numpy\"></a>"
   ]
  },
  {
   "cell_type": "markdown",
   "metadata": {},
   "source": [
    "* An **array** is a smart way of storing multidimensional numerical data.\n",
    "\n",
    "* **NumPy**, which stands for *Numerical Python*, is a module consisting of multidimensional array objects and a collection of routines for processing those arrays. \n",
    "\n",
    "* We can use `NumPy` to perform mathematical and logical operations on arrays.\n",
    "\n",
    "* `NumPy` is a base for many other modules, including Pandas, and so they can be used together."
   ]
  },
  {
   "cell_type": "markdown",
   "metadata": {},
   "source": [
    "### Import the NumPy library\n",
    "\n",
    "For `NumPy`, the standard-practice alias is `np.`:"
   ]
  },
  {
   "cell_type": "code",
   "execution_count": null,
   "metadata": {},
   "outputs": [],
   "source": [
    "import numpy as np"
   ]
  },
  {
   "cell_type": "code",
   "execution_count": null,
   "metadata": {},
   "outputs": [],
   "source": [
    "try:\n",
    "    import google.colab\n",
    "    IN_COLAB = True\n",
    "except:\n",
    "    IN_COLAB = False\n",
    "if IN_COLAB:\n",
    "    # copy over data repository\n",
    "    !git clone https://github.com/Edinburgh-Chemistry-Teaching/Data-driven-chemistry\n",
    "    !cp -r Data-driven-chemistry/Unit_05/data ."
   ]
  },
  {
   "cell_type": "markdown",
   "metadata": {},
   "source": [
    "## 1.1 1D Arrays <a id=\"11-1d-arrays\"></a>\n",
    "\n",
    "NumPy arrays can only contain **one datatype**, i.e. all integers, all floats, etc. This is in contrast to lists, which can contain a mix of datatypes.\n"
   ]
  },
  {
   "cell_type": "markdown",
   "metadata": {},
   "source": [
    "### Creating 1D arrays \n",
    "\n",
    "To create an array of integers (single numbers like 1, 2, 3, 4, 5) we can do it by converting a list to an array as:\n",
    "\n",
    "```python\n",
    "import numpy as np\n",
    "\n",
    "my_list = [1, 2, 3, 4, 5]\n",
    "\n",
    "my_array = np.array(my_list)\n",
    "```\n"
   ]
  },
  {
   "cell_type": "markdown",
   "metadata": {},
   "source": [
    "### Example 1"
   ]
  },
  {
   "cell_type": "code",
   "execution_count": null,
   "metadata": {},
   "outputs": [],
   "source": [
    "# Create a 1D numpy array:\n",
    "\n",
    "# FIXME"
   ]
  },
  {
   "cell_type": "markdown",
   "metadata": {},
   "source": [
    "<details><summary {style=\"color:green;font-weight:bold\"}> Click here to see the solution to Example 1.</summary>\n",
    "\n",
    "```python\n",
    "a = [1, 2, 3, 4, 5] # Your list can be of any length\n",
    "my_array = np.array(a)\n",
    "```\n",
    "</details>"
   ]
  },
  {
   "cell_type": "markdown",
   "metadata": {},
   "source": [
    "### Example 2\n",
    "\n",
    "Let's look at some of the **properties** of our array. \n",
    "\n",
    "How do you get the **dimensions**, **shape**, **size**, and **data type** of an array?"
   ]
  },
  {
   "cell_type": "code",
   "execution_count": 1,
   "metadata": {},
   "outputs": [],
   "source": [
    "# Create a 1D array\n",
    "\n",
    "# Check the properties of this 1D array\n",
    "\n",
    "# dimensions?\n",
    "\n",
    "# shape?\n",
    "\n",
    "# size? \n",
    "\n",
    "# data type?\n"
   ]
  },
  {
   "cell_type": "markdown",
   "metadata": {},
   "source": [
    "<details><summary {style=\"color:green;font-weight:bold\"}>Click here to see the solution to Example 2.</summary>\n",
    "\n",
    "```python\n",
    "# Create a 1D array\n",
    "a = [1, 2, 3, 4, 5]\n",
    "my_array = np.array(a)\n",
    "\n",
    "# Check the properties of this 1D array\n",
    "print(f\"Dimensions {my_array.ndim}\")\n",
    "print(f\"Shape {my_array.shape}\")\n",
    "print(f\"Size {my_array.size}\")\n",
    "print(f\"Datatype {my_array.dtype}\")\n",
    "```\n",
    "</details>"
   ]
  },
  {
   "cell_type": "markdown",
   "metadata": {},
   "source": [
    "### Example 3\n",
    "\n",
    "We can also use **functions** to generate arrays.\n",
    "\n",
    "Similarly to the built-in function `range`, we can generate one-dimensional arrays of equally-spaced numbers with:\n",
    "* `np.linspace(start, end, quantity)` or\n",
    "* `np.arange(start, end, step_size)`"
   ]
  },
  {
   "cell_type": "markdown",
   "metadata": {},
   "source": [
    "We can also generate multidimensional arrays filled with zeros or ones with NumPy functions:\n",
    "* `np.zeros(shape)`\n",
    "* `np.ones(shape)`\n",
    "\n",
    "where `shape` has to be an `int` for 1D arrays and `tuple`, such as `(5, 6)`, for creating a 2D array."
   ]
  },
  {
   "cell_type": "markdown",
   "metadata": {},
   "source": [
    "**Let's use `np.zeros(shape)` to create a 1D array full of zeros:**"
   ]
  },
  {
   "cell_type": "code",
   "execution_count": null,
   "metadata": {},
   "outputs": [],
   "source": [
    "# FIXME\n"
   ]
  },
  {
   "cell_type": "markdown",
   "metadata": {},
   "source": [
    "<details><summary {style=\"color:green;font-weight:bold\"}> Click here to see the solution to Example 4. </summary>\n",
    "\n",
    "```python\n",
    "z = np.zeros(10)\n",
    "print(f\"My array of zeros {z} is of type {z.dtype}\")\n",
    "\n",
    "```\n",
    "</details>"
   ]
  },
  {
   "cell_type": "markdown",
   "metadata": {},
   "source": [
    "## Tasks 1 <a id=\"tasks-1\"></a>\n",
    "\n",
    "We will continue to generate 1D arrays, access parts of an array, and perform some mathematical operations on them. \n"
   ]
  },
  {
   "cell_type": "markdown",
   "metadata": {},
   "source": [
    "<div class=\"alert alert-success\">\n",
    "    <b>Task 1.1 </b> : Generate a 1D array of length 5, filled with ones.\n",
    "</div>\n",
    "\n"
   ]
  },
  {
   "cell_type": "code",
   "execution_count": null,
   "metadata": {},
   "outputs": [],
   "source": [
    "# FIXME\n",
    "\n"
   ]
  },
  {
   "cell_type": "markdown",
   "metadata": {},
   "source": [
    "<details><summary {style=\"color:green;font-weight:bold\"}> Click here to see the solution to Task 1.1 </summary>\n",
    "\n",
    "```python\n",
    "ones = np.ones(5)\n",
    "print(f\"Array of five ones: {ones}\")\n",
    "```\n",
    "</details>"
   ]
  },
  {
   "cell_type": "markdown",
   "metadata": {},
   "source": [
    "<div class=\"alert alert-success\"><b> Task 1.2: Create an array with `np.arange`</b>\n",
    "\n",
    "Using `np.arange`, create a 1D array as a sequence from 0 to 20 in steps of 2.\n",
    "\n",
    "</div>"
   ]
  },
  {
   "cell_type": "code",
   "execution_count": null,
   "metadata": {},
   "outputs": [],
   "source": [
    "# FIXME\n"
   ]
  },
  {
   "cell_type": "markdown",
   "metadata": {},
   "source": [
    "<details><summary {style=\"color:green;font-weight:bold\"}> Click here to see the solution to Task 1.2</summary>\n",
    "\n",
    "```python\n",
    "sequence = np.arange(0, 21, 2) \n",
    "print(sequence)\n",
    "```\n",
    "</details>"
   ]
  },
  {
   "cell_type": "markdown",
   "metadata": {},
   "source": [
    "<div class=\"alert alert-success\"><b>Question</b>: What number did you have to stop at to include 20 as a last number? Why?\n",
    "</div>"
   ]
  },
  {
   "cell_type": "markdown",
   "metadata": {},
   "source": [
    "<details><summary {style=\"color:green;font-weight:bold\"}>Click here to see the answer to the above question.</summary>\n",
    "\n",
    "Python starts counting from 0 and in `np.arange(start, stop, step)`, the `stop` value is not inclusive.\n",
    "</details>"
   ]
  },
  {
   "cell_type": "markdown",
   "metadata": {},
   "source": [
    "<div class=\"aler alert-warning\"><b> Advanced Task 1.3</b> <a id=\"task-13\"></a>\n",
    "\n",
    "Find the last number in an array `np.arange(0, 20, 2)`.\n",
    "\n",
    "Is the answer as you expected?\n",
    "</div>"
   ]
  },
  {
   "cell_type": "code",
   "execution_count": null,
   "metadata": {},
   "outputs": [],
   "source": [
    "# FIXME\n"
   ]
  },
  {
   "cell_type": "markdown",
   "metadata": {},
   "source": [
    "<details><summary {style=\"color:green;font-weight:bold\"}>Click here to see the solution to the Advanced task 1.3.</summary>\n",
    "\n",
    "```python\n",
    "a = np.arange(0, 20, 2)\n",
    "last = a[-1]\n",
    "print(last)\n",
    "```\n",
    "</details>"
   ]
  },
  {
   "cell_type": "markdown",
   "metadata": {},
   "source": [
    "<div class=\"alert alert-success\"><b> Task 1.4: Generate another array</b>\n",
    "\n",
    "Generate the same array as we did with `np.arange(0, 20, 2)` but this time using `np.linspace(start, stop, n_steps)`.\n",
    "\n",
    "How do these two functions differ?\n",
    "\n",
    "</div>"
   ]
  },
  {
   "cell_type": "code",
   "execution_count": null,
   "metadata": {},
   "outputs": [],
   "source": [
    "# FIXME\n"
   ]
  },
  {
   "cell_type": "markdown",
   "metadata": {},
   "source": [
    "<details><summary {style=\"color:green; font-weight:bold\"}> Click here to see the solution to Task 1.4</summary>\n",
    "\n",
    "```python\n",
    "b = np.linspace(0, 20, 11)\n",
    "print(b)\n",
    "```\n",
    "\n",
    "Note that in this case, the end point is included in the generated array. This is also explained in the [documentation](https://numpy.org).\n",
    "</details>"
   ]
  },
  {
   "cell_type": "markdown",
   "metadata": {},
   "source": [
    "# 2. Mathematical operations on 1D arrays <a id=\"2-mathematical-operations-on-1d-arrays\"></a>\n",
    "\n",
    "All mathematical operations between NumPy arrays act element by element. This is not the same for lists, which is why using NumPy is so useful. \n",
    "\n",
    "Operations with scalar numbers act on every element of the array. \n",
    "\n",
    "For example:\n",
    "\n",
    "If we define: \n",
    "```python\n",
    "a = np.array([1, 2, 3])\n",
    "b = np.array([0, 1, 2])\n",
    "```\n",
    "then\n",
    "* `a * b` returns the array `[0, 2, 6]`\n",
    "* `a - b` returns the array `[1, 1, 1]`\n",
    "* `a + 1` returns the array `[2, 3, 4]`\n",
    "\n",
    "Arrays can be used to conduct mathematical operations in a compact way. If we were using *lists*, we would have to loop through each element of the list to perform similar operations.\n",
    "\n",
    "We will see some examples of this below."
   ]
  },
  {
   "cell_type": "markdown",
   "metadata": {},
   "source": [
    "<div class=\"alert alert-success\"><b> Task 2.1: Add a scalar to an array </b>\n",
    "\n",
    "Create an array called `my_array` containing the numbers 3, 6, 7, 2 and 8. Add the number 3 to every number of the array.\n",
    "\n",
    "</div>"
   ]
  },
  {
   "cell_type": "code",
   "execution_count": null,
   "metadata": {},
   "outputs": [],
   "source": [
    "# FIXME\n"
   ]
  },
  {
   "cell_type": "markdown",
   "metadata": {},
   "source": [
    "<details><summary {style=\"color:green; font-weight:bold\"}> Click here to see the solution to Task 2.1 </summary>\n",
    "\n",
    "```python\n",
    "\n",
    "my_array = np.array([3, 6, 7, 2, 8])\n",
    "\n",
    "new_array = my_array + 2\n",
    "\n",
    "print(f\"my_array + 3 = {new_array}\")\n",
    "```\n",
    "</details>"
   ]
  },
  {
   "cell_type": "markdown",
   "metadata": {},
   "source": [
    "We can also do mathematical operations between two arrays. \n",
    "\n",
    "**Note:** the arrays have to have the same dimensions."
   ]
  },
  {
   "cell_type": "markdown",
   "metadata": {},
   "source": [
    "<div class=\"alert alert-success\">\n",
    "    <b>Task 2.2: Mathematical operations between two arrays.</b>\n",
    "\n",
    "   Create 2 arrays of your liking and perform mathematical operations.\n",
    "   \n",
    "   For example: multiply them, substract one from another, and add them up.\n",
    "   \n",
    "   Print the answers.\n",
    "</div>\n",
    "\n",
    "\n"
   ]
  },
  {
   "cell_type": "code",
   "execution_count": null,
   "metadata": {},
   "outputs": [],
   "source": [
    "# FIXME\n",
    "a = \n",
    "b = \n",
    "\n",
    "print(f\"multiplication a * b = {___}\")\n",
    "print(f\"substraction a - b = {___}\")\n",
    "print(f\"addition a + b = {___}\")\n"
   ]
  },
  {
   "cell_type": "markdown",
   "metadata": {},
   "source": [
    "<details><summary {style=\"color:green; font-weight:bold\"}> Click here to see solution to Task 2.2 </summary>\n",
    "\n",
    "```python\n",
    "a = np.array([1, 2, 4])\n",
    "b = np.array([0, 1, 2])\n",
    "\n",
    "print(f\"multiplication a * b = {a * b}\")\n",
    "print(f\"substraction a - b = {a - b}\")\n",
    "print(f\"addition a + b = {a + b}\")\n",
    "```\n",
    "</details>"
   ]
  },
  {
   "cell_type": "markdown",
   "metadata": {},
   "source": [
    " <div class=\"alert alert-success\">\n",
    "    <b>Task 2.3: Square each value in <code>my_array</code></b> \n",
    "</div>"
   ]
  },
  {
   "cell_type": "markdown",
   "metadata": {},
   "source": [
    "<div class=\"alert alert-info\"><b> Hint:</b> you can use <code>**</code> as an operator to raise to a power, i.e. $x^2$ would be written as <code>x**2</code> in Python.\n",
    "</div>"
   ]
  },
  {
   "cell_type": "code",
   "execution_count": null,
   "metadata": {},
   "outputs": [],
   "source": [
    "# FIXME\n"
   ]
  },
  {
   "cell_type": "markdown",
   "metadata": {},
   "source": [
    "<details><summary {style=\"color:green; font-weight:bold\"}> Click here to see the soluton to Task 2.3. </summary>\n",
    "\n",
    "```python\n",
    "\n",
    "my_array = np.array([3, 6, 7, 2, 8])\n",
    "my_array_squared = my_array ** 2\n",
    "\n",
    "print(my_array_squared)\n",
    "\n",
    "```\n",
    "</details>"
   ]
  },
  {
   "cell_type": "markdown",
   "metadata": {},
   "source": [
    "### Example 4\n",
    "\n",
    "What is the difference between using `numpy` and using `math`?\n",
    "\n",
    "How do you calculate:\n",
    "* the square-root of a single number?\n",
    "* the square-root of a list?\n",
    "* the square-root of an array?\n",
    "\n",
    "See what happens when you run the code below."
   ]
  },
  {
   "cell_type": "markdown",
   "metadata": {},
   "source": [
    "<div class=\"alert alert-info\">\n",
    "<b>Note:</b> The community-agreed alias for the math library is just <code>m</code>.\n",
    "</div>"
   ]
  },
  {
   "cell_type": "code",
   "execution_count": null,
   "metadata": {},
   "outputs": [],
   "source": [
    "import math as m\n",
    "import numpy as np\n",
    "\n",
    "# Square-root of a single number:\n",
    "# with math\n",
    "print (m.sqrt(4)) \n",
    "# with numpy\n",
    "print (np.sqrt(4))\n",
    "# mathematically, by calculating 4^{1/2} \n",
    "print (4**0.5) \n",
    "\n",
    "# Square-root of a list of numbers\n",
    "l = [4, 9, 16] \n",
    "# numpy: square root of every element \n",
    "print (np.sqrt(l)) \n",
    " # Can you use math here?\n",
    "print (m.sqrt(l)) \n",
    "\n",
    "# Square-root of an array\n",
    "a = np.array(l)\n",
    "# square root of every element of a numpy array\n",
    "print(np.sqrt(a)) \n",
    "# would this work?\n",
    "print(m.sqrt(a)) "
   ]
  },
  {
   "cell_type": "markdown",
   "metadata": {},
   "source": [
    "# 3. Accessing *slices* of 1D arrays <a id=\"3-accessing-slices-of-1d-arrays\"></a>\n",
    "\n",
    "Slicing an array is the operation of extracting a subset of it, as shown in the figure below.\n",
    "\n",
    "<img src=\"images/slicing1.png\" width=\"500\">"
   ]
  },
  {
   "cell_type": "markdown",
   "metadata": {},
   "source": [
    "We will learn about *slicing* in the following task."
   ]
  },
  {
   "cell_type": "markdown",
   "metadata": {},
   "source": [
    "<div class=\"alert alert-success\"><b> Task 3.1: Slicing arrays </b>\n",
    "\n",
    "1. Generate a 1D array of 20 elements and fill it with random numbers.\n",
    "2. Pick every 3rd value within the first 10 values.\n",
    "3. Print how many values you get\n",
    "4. What is the last number in your array? (See [Advanced task 1.3](#task-13))\n",
    "</div>\n"
   ]
  },
  {
   "cell_type": "markdown",
   "metadata": {},
   "source": [
    "<div class=\"alert alert-info\"><b> Hint</b>\n",
    "\n",
    " Try executing  `np.random.default_rng(seed)`\n",
    "\n",
    "This is a random number generator, where the `seed` is used to \"initialise\" the number generator. You can read more about this in the [Random Generator Documentation from NumPy](https://numpy.org/doc/stable/reference/random/generator.html).\n",
    "\n",
    " </div>"
   ]
  },
  {
   "cell_type": "code",
   "execution_count": null,
   "metadata": {},
   "outputs": [],
   "source": [
    "# 1. Generate a 1D array of 20 elements and fill it with random numbers.\n",
    "# FIXME\n",
    "\n",
    "# 2. Pick every 3rd value within the first 10 values.\n",
    "# FIXME\n",
    "\n",
    "# 3. Print how many values you get\n",
    "# FIXME\n",
    "\n",
    "# 4. What is the last number in your array?\n",
    "# FIXME\n"
   ]
  },
  {
   "cell_type": "markdown",
   "metadata": {},
   "source": [
    "<details><summary {style=\"color:green; font-weight:bold\"}> Click here to see the solution to Task 3.1.</summary>\n",
    "\n",
    "```python\n",
    "\n",
    "# 1. Generate a 1D array of 20 elements and fill it with random numbers.\n",
    "\n",
    "random_generator = np.random.default_rng(12345)\n",
    "random_numbers = random_generator.random(20)\n",
    "print(random_numbers)\n",
    "\n",
    "# 2. Pick every 3rd value within the first 10 values.\n",
    "picked = random_numbers[0:10:3]\n",
    "\n",
    "# 3. Print how many values you get\n",
    "print(len(random_numbers))\n",
    "print(len(picked))\n",
    "\n",
    "# 4. What is the last number in your array?    \n",
    "last = random_numbers[-1]\n",
    "print(last)\n",
    "```\n",
    "</details>"
   ]
  },
  {
   "cell_type": "markdown",
   "metadata": {},
   "source": [
    "# 4. Multidimensional arrays <a id=\"4-multidimensional-arrays\"></a>"
   ]
  },
  {
   "cell_type": "markdown",
   "metadata": {},
   "source": [
    "## 4.1 Generating 2D arrays  <a id=\"31-generating-2d-arrays\"></a>\n",
    "\n",
    "Just like with 1D arrays, we can also create a 2D array in the following manner:\n",
    "\n",
    "```python\n",
    "a = [[1, 2], [3, 4], [5, 6]]\n",
    "my_2d_array = np.array(a)\n",
    "\n",
    "```\n",
    "\n",
    "Sometimes it's nice to write out the array in separate lines to see the columns and the rows more clearly. However, it doesn't change the way Python sees the array.\n",
    "\n",
    "```python\n",
    "a = [[1, 2], \n",
    "     [3, 4], \n",
    "     [5, 6]]\n",
    "my_2d_array = np.array(a)\n",
    "```\n"
   ]
  },
  {
   "cell_type": "markdown",
   "metadata": {},
   "source": [
    "<div class=\"alert alert-info\">\n",
    "<b>Note:</b> to create a 2D array, we pass a \"list of lists\" to numpy's <code>array</code> method. Each \"inner list\" describes a row, all inner lists should have the same length. For a 3D array, we would pass a \"list of lists of lists\", and so on.</div>"
   ]
  },
  {
   "cell_type": "markdown",
   "metadata": {},
   "source": [
    "### Example 5\n",
    "\n",
    "Create a two-dimensional array."
   ]
  },
  {
   "cell_type": "code",
   "execution_count": null,
   "metadata": {},
   "outputs": [],
   "source": [
    "# FIXME\n"
   ]
  },
  {
   "cell_type": "markdown",
   "metadata": {},
   "source": [
    "<details><summary {style=\"color:green; font-weight:bold\"}> Click here to see solution to Example 5.</summary>\n",
    "\n",
    "```python\n",
    "b = [[1, 2], [3, 4], [5, 6]]\n",
    "my_2d_array = np.array(b)\n",
    "\n",
    "print(my_2d_array)\n",
    "\n",
    "```"
   ]
  },
  {
   "cell_type": "markdown",
   "metadata": {},
   "source": [
    "<div class=\"alert alert-success\"><b>\n",
    "Question:</b> What is the difference between <code>tuple</code>, <code>array</code>, and <code>list</code>? \n",
    "</div>"
   ]
  },
  {
   "cell_type": "markdown",
   "metadata": {},
   "source": [
    "<details><summary {style=\"color:green; font-weight:bold\"}> Click here to see Answer.</summary>\n",
    "\n",
    "**List**: A list is of an ordered collection data type that is mutable which means it can be easily modified and we can change its data values and a list can be indexed, sliced, and changed and each element can be accessed using its index value in the list. The following are the main characteristics of a List:\n",
    "\n",
    "- The list is an ordered collection of data types.\n",
    "- The list is mutable.\n",
    "- List are dynamic and can contain objects of different data types.\n",
    "- List elements can be accessed by index number.\n",
    "\n",
    "```python\n",
    "list = [\"mango\", \"strawberry\", \"orange\",\n",
    "\t\t\"apple\", \"banana\"]\n",
    "print(list)\n",
    "\n",
    "# we can specify the range of the\n",
    "# index by specifying where to start\n",
    "# and where to end\n",
    "print(list[2:4])\n",
    "\n",
    "# we can also change the item in the\n",
    "# list by using its index number\n",
    "list[1] = \"grapes\"\n",
    "print(list[1])\n",
    "\n",
    "```\n",
    "    \n",
    "    \n",
    "**Array**:  An array is a collection of items stored at contiguous memory locations. The idea is to store multiple items of the same type together. This makes it easier to calculate the position of each element by simply adding an offset to a base value, i.e., the memory location of the first element of the array (generally denoted by the name of the array). The following are the main characteristics of an Array:\n",
    "    \n",
    "- An array is an ordered collection of the similar data types.\n",
    "- An array is mutable.\n",
    "- An array can be accessed by using its index number.\n",
    "\n",
    "```python\n",
    "# importing \"array\" for array creations\n",
    "import array as arr\n",
    "\n",
    "# creating an array with integer type\n",
    "a = arr.array('i', [1, 2, 3])\n",
    "\n",
    "# printing original array\n",
    "print (\"The new created array is : \", end =\" \")\n",
    "for i in range (0, 3):\n",
    "\tprint (a[i], end =\" \")\n",
    "print()\n",
    "\n",
    "# creating an array with float type\n",
    "b = arr.array('d', [2.5, 3.2, 3.3])\n",
    "\n",
    "```\n",
    "\n",
    "**Tuple**:  A tuple is an ordered and an immutable data type which means we cannot change its values and tuples are written in round brackets. We can access tuple by referring to the index number inside the square brackets.  The following are the main characteristics of a Tuple:\n",
    "\n",
    "- Tuples are immutable and can store any type of data type.\n",
    "- it is defined using ().\n",
    "- it cannot be changed or replaced as it is an immutable data type.\n",
    "\n",
    "```python\n",
    "tuple = (\"orange\",\"apple\",\"banana\")\n",
    "print(tuple)\n",
    "\n",
    "# we can access the items in\n",
    "# the tuple by its index number\n",
    "print(tuple[2])\n",
    "\n",
    "#we can specify the range of the\n",
    "# index by specifying where to start\n",
    "# and where to end\n",
    "print(tuple[0:2])\n",
    "```\n",
    "Taken from www.geeksforgeeks.org\n",
    "</details>"
   ]
  },
  {
   "cell_type": "markdown",
   "metadata": {},
   "source": [
    "### Array properties of 2D arrays\n",
    "\n",
    "Consider the array \n",
    "\n",
    "```python\n",
    "a = [[0, 1, 2, 3],\n",
    "     [10, 11, 12, 13],\n",
    "     [20, 21, 22, 23]]\n",
    "```\n",
    "\n",
    "* The number of dimensions or axes of the array is given by `a.ndim` and in this case returns `2`\n",
    "* The shape of the array, i.e. the size of each dimension is given by `a.shape`, which returns a tuple `(3, 4)`\n",
    "* The size of the array, i.e. the total number of elements in the array is given by `a.size`, which returns `12`\n",
    "* The datatype of each element is given by `a.dtype`, which returns `int64`"
   ]
  },
  {
   "cell_type": "markdown",
   "metadata": {},
   "source": [
    "### Example 6 \n",
    "\n",
    "Print the number of dimensions, shape and size of `my_2d_array` from above."
   ]
  },
  {
   "cell_type": "code",
   "execution_count": null,
   "metadata": {},
   "outputs": [],
   "source": [
    "# FIXME\n"
   ]
  },
  {
   "cell_type": "markdown",
   "metadata": {},
   "source": [
    "<details><summary {style=\"color:green; font-weight:bold\"}>Click here to see the solution to Example 6. </summary>\n",
    "\n",
    "```python\n",
    "print(f\"dimension: {my_2d_array.ndim}\")\n",
    "print(f\"shape: {my_2d_array.shape}\")\n",
    "print(f\"size: {my_2d_array.size}\")\n",
    "```\n",
    "</details>"
   ]
  },
  {
   "cell_type": "markdown",
   "metadata": {},
   "source": [
    "**Note** how in the example above, the shape of the matrix is defined as ```(rows, columns)``` - the number of *rows* and then *columns*. \n",
    "\n",
    "The output of `shape` is written in round brackets, i.e. it is a *tuple* and is non-changeable.\n"
   ]
  },
  {
   "cell_type": "markdown",
   "metadata": {},
   "source": [
    "### Example 7"
   ]
  },
  {
   "cell_type": "markdown",
   "metadata": {},
   "source": [
    "Let's try to create an array filled with predefined values and check it's properties.\n",
    "\n",
    "\n",
    "We can use `np.ones` to fill it with ones, or `np.zeros` to fill up an array with zeros. If we want to use a specific value to fill an array with, we can use the function `np.full`.\n",
    "\n",
    "Generate an array of shape `(4, 5)` filled with the number `1.234`."
   ]
  },
  {
   "cell_type": "code",
   "execution_count": null,
   "metadata": {},
   "outputs": [],
   "source": [
    "# FIXME\n"
   ]
  },
  {
   "cell_type": "markdown",
   "metadata": {},
   "source": [
    "<details><summary {style=\"color:green; font-weight:bold\"}> Click here to see solution to Example 7. </summary>\n",
    "\n",
    "```python \n",
    "\n",
    "# Generate an array of 4 x 5 filled up with a 1.234\n",
    "f = np.full((4, 5), 1.234)\n",
    "\n",
    "# Check its properties\n",
    "print(f\"Dimensions {f.ndim}\")\n",
    "print(f\"shape {f.shape}\")\n",
    "print(f\"Size {f.size}\")\n",
    "\n",
    "```\n",
    "</details>"
   ]
  },
  {
   "cell_type": "markdown",
   "metadata": {},
   "source": [
    "## 4.2 Slicing 2D arrays <a id=\"42-slicing-2d-arrays\"></a>\n",
    "\n",
    "We can access data in a multidimensional array by slicing it, in a similar way to 1D arrays:\n",
    "\n",
    "<img src=\"images/slicing2.png\" width=\"600\">"
   ]
  },
  {
   "cell_type": "markdown",
   "metadata": {},
   "source": [
    "### Example 8\n",
    "\n",
    "Create an array of shape `(5, 7)` filled with random integers.\n",
    "\n",
    "We can again use `np.random.default_rng(seed)` to generate a random number generator and `generator.integers(low, high, size)` to generate an array filled with random numbers."
   ]
  },
  {
   "cell_type": "code",
   "execution_count": null,
   "metadata": {},
   "outputs": [],
   "source": [
    "# FIXME\n"
   ]
  },
  {
   "cell_type": "markdown",
   "metadata": {},
   "source": [
    "<details><summary {style=\"color:green; font-weight:bold\"}> Click here to see the solution to Example 8. </summary>\n",
    "\n",
    "```python\n",
    "\n",
    "number_generator = np.random.default_rng(12345)\n",
    "random_big_array = number_generator.integers(low=1, high=50, size=(5, 7))\n",
    "\n",
    "print(random_big_array)\n",
    "```\n",
    "</details>"
   ]
  },
  {
   "cell_type": "markdown",
   "metadata": {},
   "source": [
    "### Example 9\n",
    "\n",
    "Use slicing on `random_big_array` to select:\n",
    "\n",
    "* the first column\n",
    "* the last column\n",
    "* the 4th row\n",
    "* an area \n",
    "* samples in a given space "
   ]
  },
  {
   "cell_type": "code",
   "execution_count": null,
   "metadata": {},
   "outputs": [],
   "source": [
    "# FIXME\n"
   ]
  },
  {
   "cell_type": "markdown",
   "metadata": {},
   "source": [
    "<details><summary {style=\"color:green; font-weight:bold\"}> Click here to see the solution to Example 9. </summary>\n",
    "\n",
    "```python\n",
    "print(f\"first column {random_big_array[:, 0]}\")\n",
    "print(f\"last column {random_big_array[:, -1]}\")\n",
    "print(f\"4th row {random_big_array[3, :]}\")\n",
    "print(f\"selected area {random_big_array[0:2, 3:7]}\")\n",
    "print(f\"samples {random_big_array[1:5:2, 3:10:3]}\")\n",
    "\n",
    "```\n",
    "</details>"
   ]
  },
  {
   "cell_type": "markdown",
   "metadata": {},
   "source": [
    "\n",
    "## Loading an array to/from a file <a id=\"loading-an-array-to-from-a-file\"></a>\n",
    "\n",
    "As you have seen before using `pandas`, we can also load arrays from a plain text file. \n"
   ]
  },
  {
   "cell_type": "markdown",
   "metadata": {},
   "source": [
    "There are many options available for loading the file, such as:\n",
    "\n",
    "To load a file `array.txt`: \n",
    "\n",
    "```python\n",
    "\n",
    "loaded_array = np.loadtxt(\"array.txt\")\n",
    "\n",
    "```"
   ]
  },
  {
   "cell_type": "markdown",
   "metadata": {},
   "source": [
    "We can skip some lines, for example in the case where the file has a header over the first 5 lines of the file, using the option `skiprows`. \n",
    "\n",
    "Similarly, if the file contains comments, we can use the option `comments` to specify the character used for comments, so that these lines also get ignored by python. \n",
    "```python\n",
    "clean_array = np.loadtxt(\"array.txt\", comments=\"#\", skiprows=5)\n",
    "```"
   ]
  },
  {
   "cell_type": "markdown",
   "metadata": {},
   "source": [
    "To save the array called `my_array` into the file, use `np.savetxt`:\n",
    "\n",
    "```python\n",
    "np.savetxt(\"my_array.txt\", data)\n",
    "```"
   ]
  },
  {
   "cell_type": "markdown",
   "metadata": {},
   "source": [
    "<div class=\"alert alert-success\"><b>Task 4.1: Load data to and from a file with arrays</b>\n",
    "\n",
    "1. Load in the file `data/slice_me.txt` and skip the first row. (The `data/` part specifies the folder in which the file is.)\n",
    "2. Print the shape of this data\n",
    "3. Save this to another file called `data/slice_me_copy.txt`\n",
    "\n",
    "</div>"
   ]
  },
  {
   "cell_type": "code",
   "execution_count": null,
   "metadata": {},
   "outputs": [],
   "source": [
    "# 1. Load in the file data/slice_me.txt and skip the first row.\n",
    "# FIXME\n",
    "\n",
    "# 2. Print the shape of this data\n",
    "# FIXME\n",
    "\n",
    "# 3. Save this to another file called data/slice_me_copy.txt\n",
    "# FIXME\n"
   ]
  },
  {
   "cell_type": "markdown",
   "metadata": {},
   "source": [
    "<details><summary {style=\"color:green; font-weight:bold\"}> Click here to see the solution to Task 4.1</summary>\n",
    "\n",
    "```python\n",
    "\n",
    "# 1. Load in the file data/slice_me.txt and skip the first row.\n",
    "data = np.loadtxt(\"data/slice_me.txt\", skiprows=1)\n",
    "\n",
    "# 2. Print the shape of this data\n",
    "print(data.shape)\n",
    "\n",
    "# 3. Save this to another file called data/slice_me_copy.txt\n",
    "np.savetxt(\"data/slice_me_copy.txt\", data)\n",
    "\n",
    "```\n",
    "</details>"
   ]
  },
  {
   "cell_type": "markdown",
   "metadata": {},
   "source": [
    "<div class=\"alert alert-success\"><b> Task 4.2: Slicing data arrays</b> <a id=\"task-23\"></a>\n",
    "\n",
    "The folder `data` contains a file called `ms.txt`, which contains mass spectrometry data given in two columns: m/z and intensity.\n",
    "\n",
    "1. Read in the file `ms.txt`\n",
    "2. Create a sub-sample of the intensities data by extracting every 10th line into a variable called `subdata`.\n",
    "3. Save the `subdata` into a new file.\n",
    "\n",
    "<b>Note:</b> it might be a good idea to print the shapes of `data` and `subdata` to check if your slicing is correct after step 2.\n",
    "</div>"
   ]
  },
  {
   "cell_type": "code",
   "execution_count": null,
   "metadata": {},
   "outputs": [],
   "source": [
    "# 1. Read in the file ms.txt\n",
    "# FIXME\n",
    "\n",
    "# 2. Create a sub-sample of the data by extracting every 10th line into a variable called `subdata`.\n",
    "# FIXME\n",
    "\n",
    "# 3. Save the intensities column from `subdata` into a new file.\n",
    "# FIXME\n"
   ]
  },
  {
   "cell_type": "markdown",
   "metadata": {},
   "source": [
    "<details><summary {style=\"color:green; font-weight:bold\"}> Click here to see the solution to Task 4.2. </summary>\n",
    "\n",
    "```python\n",
    "# 1. Read in the file ms.txt\n",
    "data = np.loadtxt(\"data/ms.txt\")\n",
    "\n",
    "# 2. Create a sub-sample of the data by extracting every 10th line into a variable called `subdata`.\n",
    "subdata = data[::10, 1]\n",
    "\n",
    "# Check the shapes of the datasets\n",
    "print(data.shape)\n",
    "print(subdata.shape)\n",
    "\n",
    "# 3. Save the intensities column from `subdata` into a new file.\n",
    "np.savetxt(\"data/sub_intensities.txt\", subdata)\n",
    "\n",
    "```\n",
    "</details>"
   ]
  },
  {
   "cell_type": "markdown",
   "metadata": {},
   "source": [
    "<div class=\"alert alert-warning\"><b> Advanced Task 4.3</b>\n",
    "\n",
    "Can you do the above without numpy, only using in-built python functionality?"
   ]
  },
  {
   "cell_type": "code",
   "execution_count": null,
   "metadata": {},
   "outputs": [],
   "source": [
    "# FIXME\n"
   ]
  },
  {
   "cell_type": "markdown",
   "metadata": {},
   "source": [
    "<details><summary {style=\"color:green; font-weight:bold\"}> Click here to see the solution to the Advanced task 2.4 </summary>\n",
    "\n",
    "```python\n",
    "\n",
    "# Read file in line by line\n",
    "with open(\"data/ms.txt\", \"r\") as input_file:\n",
    "    lines = input_file.readlines()\n",
    "\n",
    "# Counter for counting every 10th line\n",
    "counter = 0\n",
    "\n",
    "# Create an empty list to store intensity values\n",
    "intensities = []\n",
    "\n",
    "# Loop over the lines in the file\n",
    "for line in lines:\n",
    "\n",
    "    # If counter is divisible by 10\n",
    "    if counter % 10 == 0:\n",
    "        # split the line (string) into two columns:\n",
    "        columns = line.split()\n",
    "\n",
    "        # the second column is intensity\n",
    "        intensity = columns[1]\n",
    "\n",
    "        # append intensity value to intensities list\n",
    "        intensities.append(intensity)\n",
    "\n",
    "    # increment the counter\n",
    "    counter += 1\n",
    "\n",
    "# Open file for writing:\n",
    "with open(\"data/sub_densities.txt\", \"w\") as output_file:\n",
    "    # Loop over all the values in the list intensities\n",
    "    for intensity in intensities:\n",
    "        # Write each intensity to the file on separate lines\n",
    "        output_file.write(f\"{intensity} \\n\")\n",
    "\n",
    "```\n",
    "</details>"
   ]
  },
  {
   "cell_type": "markdown",
   "metadata": {},
   "source": [
    "# 5. Mathematical operations on multidimensional arrays <a id=\"5-mathematical-operations-on-multidimensional-arrays\"></a>"
   ]
  },
  {
   "cell_type": "markdown",
   "metadata": {},
   "source": [
    "all the algebraic operations described in [Section 2](#2-mathematical-operations-on-1d-arrays) for 1D arrays, also apply to n-dimensional arrays."
   ]
  },
  {
   "cell_type": "markdown",
   "metadata": {},
   "source": [
    "<div class=\"alert alert-info\">\n",
    "⚠️ Arrays do <b>not</b> behave like matrices. All mathematical operations between arrays of any shape act element by element (similarly to 1D arrays).\n",
    " </div>"
   ]
  },
  {
   "cell_type": "markdown",
   "metadata": {},
   "source": [
    "Let's start by defining a 2D array.\n",
    "\n",
    "```python\n",
    "my_list = [[0, 1, 2, 3],\n",
    "           [10, 11, 12, 13],\n",
    "           [20, 21, 22, 23]]\n",
    "my_array = np.array(my_list)\n",
    "```\n",
    "\n",
    "Numpy provides a range of methods to extract information from your numerical data. For instance, to sum all the values in the array you can use th `np.sum(a)` method (where `a` is an array):\n",
    "```python\n",
    "total_sum = np.sum(my_array) \n",
    "print(total_sum)\n",
    "```\n",
    "\n",
    "This prints `138`."
   ]
  },
  {
   "cell_type": "markdown",
   "metadata": {},
   "source": [
    "<div class=\"alert alert-info\">\n",
    "Besides sum, numpy offers many other useful methods to extract information from numerical data, for instance:\n",
    "    \n",
    " - `np.min(a)` find the minimum value in the array\n",
    " - `np.argmin(a)` find position (AKA index) of the minimum value in the array\n",
    " - `np.max(a)` find maximum value in the array\n",
    " - `np.argmax(a)` find position (AKA index) of the maximum value in the array\n",
    " - `np.unique(a)` selects a subset of unique elements\n",
    " - `np.sort(a)` sorts the array from the maximum to the minimum value\n",
    " - `np.mean(a)` and `numpy.std(a)` compute mean and standard deviation of array values\n",
    " - `np.median(a)` computes the median value of an array. \n",
    "</div>"
   ]
  },
  {
   "cell_type": "markdown",
   "metadata": {},
   "source": [
    "### Axis of operations"
   ]
  },
  {
   "cell_type": "markdown",
   "metadata": {},
   "source": [
    "What if we want to get the sum of elements, row by row? We can define the *axis of operation* as follows:\n",
    "\n",
    "```python\n",
    "row_sum = np.sum(my_array, axis=0)\n",
    "print(row_sum)\n",
    "```\n",
    "\n",
    "This prints `[30, 33, 36, 39]`.\n",
    "\n",
    "Similarly, to get the sum of elements, column by column:\n",
    "\n",
    "```python\n",
    "column_sum = np.sum(my_array, axis=1)\n",
    "print(column_sum)\n",
    "```\n",
    "\n",
    "This prints `[6, 46, 86]`.\n",
    "\n",
    "The following figure displays a graphical representation of what we just did."
   ]
  },
  {
   "cell_type": "markdown",
   "metadata": {},
   "source": [
    "<img src=\"images/operations_axes.jpg\" width=\"600\" align=\"left\">"
   ]
  },
  {
   "cell_type": "markdown",
   "metadata": {},
   "source": [
    "<div class=\"alert alert-success\"><b> Task 5.1: Sum of array elements</b>\n",
    "\n",
    "1. Calculate the sum of all the elements in the file `data/slice_me_copy.txt` that you created in Task 4.1.\n",
    "2. Calculate the \"vertical sum\", i.e. the sum along the rows.\n",
    "3. Calculate the \"horizontal sum\", i.e. the sum along the columns.\n",
    "    \n",
    "</div>"
   ]
  },
  {
   "cell_type": "code",
   "execution_count": null,
   "metadata": {},
   "outputs": [],
   "source": [
    "# 1. Calculate the sum of all the elements in the file `data/slice_me_copy.txt` that you created in the previous task.\n",
    "# FIXME\n",
    "\n",
    "# 2. Calculate the \"vertical sum\", i.e. the sum along the rows.\n",
    "# FIXME\n",
    "\n",
    "# 3. Calculate the \"horizontal sum\", i.e. the sum along the columns.\n",
    "# FIXME\n"
   ]
  },
  {
   "cell_type": "markdown",
   "metadata": {},
   "source": [
    "<details><summary {style=\"color:green; font-weight:bold\"}> Click here to see the solution to Task 5.1</summary>\n",
    "\n",
    "```python\n",
    "array = np.loadtxt(\"data/slice_me_copy.txt\")\n",
    "\n",
    "# 1. Calculate the sum of all the elements in the file `data/slice_me_copy.txt` that you created in the previous task.\n",
    "total_sum = np.sum(array)\n",
    "print(f\"total sum {total_sum}\")\n",
    "\n",
    "# 2. Calculate the \"vertical sum\", i.e. the sum along the rows.\n",
    "vertical_sum = np.sum(array, axis=0)\n",
    "print(f\"vertical sum {vertical_sum}\")\n",
    "\n",
    "# 3. Calculate the \"horizontal sum\", i.e. the sum along the columns.\n",
    "horizontal_sum = np.sum(array, axis=1)\n",
    "print(f\"horizontal sum {horizontal_sum}\")\n",
    "```\n",
    "</details>"
   ]
  },
  {
   "cell_type": "markdown",
   "metadata": {},
   "source": [
    "<div class=\"alert alert-warning\"><b> Advanced Task 5.2</b>\n",
    "\n",
    "Using the mass spectrometry data in the file `ms.txt` we previously studied in Task 4.2, find the m/z values in the region between 6400 and 6600.\n",
    "\n",
    "Also find the maximum peak value in this region and the corresponding m/z value.\n",
    "\n",
    "**Hint: You will need to use Boolean indexing.** This was covered in [Unit 03 Part II](../Unit_03/Unit_03_loops_II.ipynb)\n",
    "</div>"
   ]
  },
  {
   "cell_type": "code",
   "execution_count": null,
   "metadata": {},
   "outputs": [],
   "source": [
    "# FIXME\n"
   ]
  },
  {
   "cell_type": "markdown",
   "metadata": {},
   "source": [
    "<details><summary {style=\"color:green; font-weight:bold\"}> Click here to see the solution to Advanced task 5.2</summary>\n",
    "\n",
    "```python\n",
    "# Load in data\n",
    "data = np.loadtxt(\"data/ms.txt\")\n",
    "\n",
    "# Create criterion\n",
    "greater_than = data[:,0] > 6400\n",
    "less_than = data[:, 0] < 6600\n",
    "criterion = greater_than & less_than\n",
    "\n",
    "# slice the array\n",
    "sliced_array = data[criterion, :]\n",
    "\n",
    "# Get the maximum peak value\n",
    "maximum_value = np.max(sliced_array[:, 1])\n",
    "index_of_max = np.argmax(sliced_array[:, 1])\n",
    "mz_at_max = sliced_array[index_of_max, 0]\n",
    "\n",
    "print(f\"peak {maximum_value} is at m/z {mz_at_max}\")\n",
    "```\n",
    "</details>"
   ]
  },
  {
   "cell_type": "markdown",
   "metadata": {},
   "source": [
    "# Key Points <a id=\"recap\"></a>\n",
    "\n",
    "<div class=\"alert alert-info\">\n",
    "\n",
    "- Numpy is a Python package to efficiently read/write and manipulate numerical data\n",
    "- it can handle data of arbitrary size and shape\n",
    "- algebraic operations across arrays take place element by element, i.e. arrays are <b>not</b> matrices.\n",
    "- numpy enables applying mathematical operations along desider axes.\n",
    "</div>"
   ]
  },
  {
   "cell_type": "markdown",
   "metadata": {},
   "source": [
    "# Next notebook\n",
    "\n",
    "[Unit 05 II_plotting](Unit_05_II_plotting.ipynb)\n"
   ]
  }
 ],
 "metadata": {
  "kernelspec": {
   "display_name": "Python 3 (ipykernel)",
   "language": "python",
   "name": "python3"
  },
  "language_info": {
   "codemirror_mode": {
    "name": "ipython",
    "version": 3
   },
   "file_extension": ".py",
   "mimetype": "text/x-python",
   "name": "python",
   "nbconvert_exporter": "python",
   "pygments_lexer": "ipython3",
   "version": "3.9.16"
  },
  "vscode": {
   "interpreter": {
    "hash": "cf51243a6e93b78f1f5c5d179cd4f66e9bfd7b6269bebfcfdbed7f35483e292c"
   }
  }
 },
 "nbformat": 4,
 "nbformat_minor": 4
}

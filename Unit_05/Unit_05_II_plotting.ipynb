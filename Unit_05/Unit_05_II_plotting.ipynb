{
 "cells": [
  {
   "cell_type": "markdown",
   "metadata": {},
   "source": [
    "# Unit 05: Introduction to NumPy and Plotting, part II\n",
    "\n",
    "<a rel=\"license\" href=\"http://creativecommons.org/licenses/by/4.0/\"><img alt=\"Creative Commons Licence\" style=\"border-width:0\" src=\"https://i.creativecommons.org/l/by/4.0/88x31.png\" title='This work is licensed under a Creative Commons Attribution 4.0 International License.' align=\"right\"/></a>\n",
    "\n",
    "Authors: \n",
    "- Dr Valentina Erastova\n",
    "- Dr Matteo Degiacomi\n",
    "\n",
    "Email: valentina.erastova@ed.ac.uk\n"
   ]
  },
  {
   "cell_type": "markdown",
   "metadata": {},
   "source": [
    "## Learning objectives  <a id=\"learning\"></a>\n",
    "\n",
    "* plot data using `matplotlib`\n",
    "* understand sources of errors and how to mitigate them\n",
    "* analyse numerical data statistically using in-built functions\n",
    "* quantify uncertainties\n",
    "\n",
    "Some of the material was adapted from [Python4Science](https://github.com/Degiacomi-Lab/python4science/blob/master/2_Python_numerical_data.ipynb)."
   ]
  },
  {
   "cell_type": "markdown",
   "metadata": {},
   "source": [
    "## Table of Contents\n",
    "\n",
    "1. [Plotting Data](#1-plotting-data)    \n",
    "    1.1 [A simple plot](#11-simple-plot)    \n",
    "    1.2 [String Formatting](#11-quick-aside-on-string-formatting)  \n",
    "    1.3.[Object Oriented Plotting](#3-oo-plotting)\n",
    "2. [Errors: a Discussion](#2-errors)   \n",
    "    2.1 [Sources of Errors and Uncertainties](#21-sources-of-errors-and-uncertainties)    \n",
    "    2.2 [Accuracy vs Precision](#22-accuracy-vs-precision)    \n",
    "3. [Introduction to Statistics](#3-introduction-to-statistics)   \n",
    "    3.1 [Statistical Distributions](#31-statistical-distributions)    \n",
    "    3.2 [Distribution of Measurements](#32-distribution-of-measurements)    \n",
    "    3.3 [Quantifying Uncertainty](#33-quantifying-uncertainty)    \n",
    "4. [Key Points](#recap)\n",
    "\n"
   ]
  },
  {
   "cell_type": "markdown",
   "metadata": {},
   "source": [
    "**<span style=\"color:black\">Jupyter Cheat Sheet</span>**\n",
    "- To run the currently highlighted cell and move focus to the next cell, hold <kbd>&#x21E7; Shift</kbd> and press <kbd>&#x23ce; Enter</kbd>;\n",
    "- To run the currently highlighted cell and keep focus in the same cell, hold <kbd>&#x21E7; Ctrl</kbd> and press <kbd>&#x23ce; Enter</kbd>;\n",
    "- To get help for a specific function, place the cursor within the function's brackets, hold <kbd>&#x21E7; Shift</kbd>, and press <kbd>&#x21E5; Tab</kbd>;"
   ]
  },
  {
   "cell_type": "markdown",
   "metadata": {},
   "source": [
    "## Links to documentation\n",
    "\n",
    "You can find useful information about using `numpy` and `matplotlib` at\n",
    "* [NumPy](https://numpy.org)\n",
    "* [matplotlib](https://matplotlib.org)\n"
   ]
  },
  {
   "cell_type": "markdown",
   "metadata": {},
   "source": [
    "## Import libraries"
   ]
  },
  {
   "cell_type": "code",
   "execution_count": null,
   "metadata": {},
   "outputs": [],
   "source": [
    "import numpy as np\n",
    "import matplotlib.pyplot as plt"
   ]
  },
  {
   "cell_type": "code",
   "execution_count": null,
   "metadata": {},
   "outputs": [],
   "source": [
    "try:\n",
    "    import google.colab\n",
    "    IN_COLAB = True\n",
    "except:\n",
    "    IN_COLAB = False\n",
    "if IN_COLAB:\n",
    "    # copy over data repository\n",
    "    !git clone https://github.com/Edinburgh-Chemistry-Teaching/Data-driven-chemistry\n",
    "    !cp -r Data-driven-chemistry/Unit_05/data .\n",
    "    !cp -r Data-driven-chemistry/Unit_05/images ."
   ]
  },
  {
   "cell_type": "markdown",
   "metadata": {},
   "source": [
    "# 1. Plotting data <a id=\"1-plotting-data\"></a>\n",
    "\n",
    "We can use the [matplotlib](http://matplotlib.org) package to plot data using Python. \n",
    "\n",
    "We first look at the `pyplot` functional interface, which allows us to manipulate a given current figure. `pyplot` is great to quickly visualize data we are working with, but it is **not suitable** for plots of multiple data quantities, subplots, or more complex customizations.  In this case, an *object-oriented* plotting approach is needed. We will discuss the object-oriented plotting in Section 1.3."
   ]
  },
  {
   "cell_type": "markdown",
   "metadata": {},
   "source": [
    "## 1.1 A simple plot <a id=\"11-simple-plot\"></a>"
   ]
  },
  {
   "cell_type": "markdown",
   "metadata": {},
   "source": [
    "### Example 10 \n",
    "\n",
    "As always, we begin with **importing the `matplotlib.pyplot` module** with the alias `plt`. \n",
    "\n",
    "This is the community-agreed alias for `matplotlib.pyplot`."
   ]
  },
  {
   "cell_type": "code",
   "execution_count": null,
   "metadata": {},
   "outputs": [],
   "source": [
    "# FIXME \n"
   ]
  },
  {
   "cell_type": "markdown",
   "metadata": {},
   "source": [
    "<details><summary {style=\"color:green; font-weight:bold\"}> Click here to see the solution to Example 10.</summary>\n",
    "\n",
    "```python\n",
    "import matplotlib.pyplot as plt\n",
    "```\n",
    "</details>"
   ]
  },
  {
   "cell_type": "markdown",
   "metadata": {},
   "source": [
    "### Example 11\n",
    "\n",
    "To create a plot, we use the `matplotlib` function `plt.plot()`. \n",
    "\n",
    "Load in the file `data/sub_intensities.txt` that you created in Task 2.3 in the notebook of [Unit 05, part I](Unit_05_I_numerical_data.ipynb).\n",
    "\n",
    "It is good practice to use `plt.show()` to show the plot, even though the plot will pop up in Jupyter without this as well."
   ]
  },
  {
   "cell_type": "code",
   "execution_count": null,
   "metadata": {},
   "outputs": [],
   "source": [
    "# FIXME\n"
   ]
  },
  {
   "cell_type": "markdown",
   "metadata": {},
   "source": [
    "<details><summary {style=\"color:green; font-weight:bold\"}> Click here to see the solution to Example 11.</summary>\n",
    "\n",
    "```python\n",
    "\n",
    "# Read the file\n",
    "data = np.loadtxt(\"data/sub_intensities.txt\")\n",
    "\n",
    "# Plot \n",
    "plt.plot(data)\n",
    "plt.show()\n",
    "```\n",
    "</details>"
   ]
  },
  {
   "cell_type": "markdown",
   "metadata": {},
   "source": [
    "**Note:** the plot displayed is generated from the sub-sampled data, which only has intensities. Therefore, this data does not have the m/z column, so x-axis is just the row number."
   ]
  },
  {
   "cell_type": "markdown",
   "metadata": {},
   "source": [
    "\n",
    "### Labeling the plot and the data <a class=\"anchor\" id=\"labelplt\"></a>\n",
    "\n",
    "It is always good practice to **label the plots**. <a class=\"anchor\" id=\"labelplt\"></a>\n",
    "\n",
    "Use the following commands to add the labels to your plot:\n",
    " - `xlabel()`\n",
    " - `ylabel()` \n",
    " - `title()`"
   ]
  },
  {
   "cell_type": "markdown",
   "metadata": {},
   "source": [
    "<div class=\"alert alert-success\">\n",
    "    <b>Task 1.1</b> : Plot the <code>ms.txt</code> data as m/z vs Intensity, label the plot.\n",
    "        \n",
    "</div>"
   ]
  },
  {
   "cell_type": "code",
   "execution_count": null,
   "metadata": {},
   "outputs": [],
   "source": [
    "# FIXME\n"
   ]
  },
  {
   "cell_type": "markdown",
   "metadata": {},
   "source": [
    "<details><summary {style=\"color:green; font-weight:bold\"}> Click here to see the solution to Task 1.1.</summary>\n",
    "\n",
    "```python\n",
    "# Load in the data\n",
    "data = np.loadtxt(\"data/ms.txt\")\n",
    "\n",
    "# Assign the columns to 'mz' and 'intensity'\n",
    "mz = data[:,0]\n",
    "intensity = data[:,1]\n",
    "\n",
    "# plot mz against intensity\n",
    "plt.plot(mz, intensity)\n",
    "\n",
    "# label the plot\n",
    "plt.title(\"Mass spectrometry\")\n",
    "plt.xlabel(\"m/z\")\n",
    "plt.ylabel(\"Intensity\")\n",
    "\n",
    "# save the plot\n",
    "plt.savefig(\"images/myfigure.png\")\n",
    "\n",
    "# show the plot\n",
    "plt.show()\n",
    "```\n",
    "</details>"
   ]
  },
  {
   "cell_type": "markdown",
   "metadata": {},
   "source": [
    "## 1.2 Quick aside on string formatting <a id=\"11-quick-aside-on-string-formatting\"></a>\n",
    "\n",
    "We can use **f-strings** to format strings in a nice way. This is useful for, e.g., labelling scientific plots.\n",
    "\n",
    "For example, let's say we want to creare a plot label for pressure as \"Pressure ($\\mathrm{N / m}^2$)\" in Python:\n",
    "\n",
    "```python\n",
    "    plt.plot(x, y)\n",
    "    plt.xlabel(f\"pressure (N / m$^2$)\")\n",
    "```\n",
    "\n",
    "We can do this using LaTex notation given inside the `$ $` signs. \n",
    "\n",
    "[Click here](https://oeis.org/wiki/List_of_LaTeX_mathematical_symbols) for a list of some of the mathematical symbols you can write in this format. \n",
    "\n",
    "Some of the most useful ones for chemists are **superscripts** `$^{-2}$` and **subscripts** `$_{\\mathrm{exp}}$`. The expression `\\mathrm{}` stands for \"maths roman\" which ensures the superscript is written in non-italic. \n",
    "\n",
    "You can use this \"math mode\" in markdown cells in a similar way to write equations. \n",
    "\n",
    "Another useful method of f-strings is formatting the number of significant figures of values. For example, let's say we want to print the mass of something with 2 significant figures:\n",
    "\n",
    "```python\n",
    "    mass = 0.198 # in g\n",
    "    print(f\"The final mass is {mass:.2f} g.\")\n",
    "```\n",
    "\n",
    "which prints: `The final mass is 0.20 g.`"
   ]
  },
  {
   "cell_type": "markdown",
   "metadata": {},
   "source": [
    "## 1.3 Object Oriented Plotting <a id=\"3-oo-plotting\"></a>"
   ]
  },
  {
   "cell_type": "markdown",
   "metadata": {},
   "source": [
    "In [Section 1.1](#11-simple-plot), we have done only very basic plots  with the `pyplot` module of the matplotlib package. In this section, we will introduce more complex plotting, by adopting a more sophisticad **Object Oriented Plotting** approach. If you are eager to know more, please see discussion on [PyPlot vs. Object Oriented Interfaces](https://matplotlib.org/matplotblog/posts/pyplot-vs-object-oriented-interface/) on the matplotlib blog."
   ]
  },
  {
   "cell_type": "markdown",
   "metadata": {},
   "source": [
    "<div class=\"alert alert-info\">\n",
    "<b> Note:</b> a cheatsheet and an example of usage of matplotlib is available as <a href=\"Extra_Plotting.ipynb\">Extra material</a> in this Unit.\n",
    "</div>"
   ]
  },
  {
   "cell_type": "markdown",
   "metadata": {},
   "source": [
    "Object oriented plotting enables us to get control on all the components of a plot, shown in the figure below.\n",
    "\n",
    "<img src=\"images/anatomy-of-a-figure.webp\" width=\"600\"></img>\n",
    "\n",
    "To achieve this, we start with declaring an *object* which is a container for all elements (shown in <span style=\"color:blue\"> *blue* </span> in the image above) that are rendered onto the object, i.e. our **figure**."
   ]
  },
  {
   "cell_type": "markdown",
   "metadata": {},
   "source": [
    "### Declare a figure *object*:\n",
    "\n",
    "The following command produces a single figure (called `fig`) containing a single axes (i.e. a single plot called `ax` inside figure)\n",
    "\n",
    "```python\n",
    "fig, ax = plt.subplots()\n",
    "```\n",
    "With matplotlib, a figure can be created in different ways: \n",
    "    \n",
    "```python\n",
    "# an empty figure with no Axes\n",
    "fig = plt.figure()  \n",
    "# a figure with a single Axes\n",
    "fig, ax = plt.subplots()  \n",
    "# a figure with a 2x2 grid of Axes\n",
    "fig, axs = plt.subplots(2, 2)  \n",
    "```"
   ]
  },
  {
   "cell_type": "markdown",
   "metadata": {},
   "source": [
    "### Add the data onto the axes of the plot with:  \n",
    "\n",
    "```python\n",
    "ax.plot(time, distance)\n",
    "```\n",
    "\n",
    "We can also include labels, markers, colors:\n",
    "    \n",
    "```python\n",
    "# Plot some data on the axes\n",
    "ax.plot(x, x, label=\"linear\")  \n",
    "# Plot more data on the axes...\n",
    "ax.plot(x, x**2, label=\"quadratic\", \"x\")  \n",
    "# ... and some more:\n",
    "ax.plot(x, x**3, label=\"cubic\", color=\"orange\")\n",
    "````"
   ]
  },
  {
   "cell_type": "markdown",
   "metadata": {},
   "source": [
    "### Add other elements, such as labels:\n",
    "\n",
    "```python\n",
    "# Add a y-label to the axes.\n",
    "ax.set_ylabel(\"Distance (m)\")\n",
    "# Add an x-label to the axes. \n",
    "ax.set_xlabel(\"Time (s)\")\n",
    "# Add a title to the axes.  \n",
    "ax.set_title(\"My plot\")  \n",
    "# Add a legend.\n",
    "ax.legend()  \n",
    "```"
   ]
  },
  {
   "cell_type": "markdown",
   "metadata": {},
   "source": [
    "### Adjust figure size and resolution:  \n",
    "\n",
    "```python\n",
    "fig.set_size_inches(6,4)\n",
    "fig.set_dpi(200)\n",
    "```"
   ]
  },
  {
   "cell_type": "markdown",
   "metadata": {},
   "source": [
    "### To finish the figure, render it together:\n",
    "\n",
    "```python\n",
    "plt.show()\n",
    "```"
   ]
  },
  {
   "cell_type": "markdown",
   "metadata": {},
   "source": [
    "In [Section 3](#3-introduction-to-statistics), we will look at an example of how using object oriented plotting to plot a statistical distribution."
   ]
  },
  {
   "cell_type": "markdown",
   "metadata": {},
   "source": [
    "<div class=\"alert alert-warning\">\n",
    "    <b>Advanced Task 1.2</b> : plot again the <code>ms.txt</code> data using object oriented plotting, modifying the plot;s look to your taste.\n",
    "        \n",
    "</div>"
   ]
  },
  {
   "cell_type": "markdown",
   "metadata": {},
   "source": [
    "\n",
    "# 2. Errors: a Discussion <a id=\"2-errors-a-discussion\"></a>\n",
    "\n",
    "<div class=\"alert alert-info\"><b>In groups, discuss errors in scientific experiments and data handling</b>\n",
    "    \n",
    "Here are some questions to help you get started:\n",
    "\n",
    "- What kind or errors we often found in scientific experiments?\n",
    "\n",
    "- Are there any less obvious sources that may go unnoticed?\n",
    "\n",
    "- What are the sources of uncertainty? \n",
    "\n",
    "- How can we mitigate the errors?\n",
    "\n",
    "- What about the code we write? Can we make it more reproducible, minimising human error? \n",
    "\n",
    "- What are the differences between *random error*, *systematic error* and *mistakes*?\n",
    "\n",
    "- How does repeating measurements reduce (or not?) the effect on the above errors? \n",
    "\n",
    "- What is the difference between *accuracy* and *precision*?\n",
    "\n",
    "- Can you give examples of situations where accuracy is important and where it is not?\n",
    "\n",
    "- Why are repeat measurements  important for characterising accuracy. What about precision?\n",
    "    \n",
    "</div>\n",
    "\n",
    "\n"
   ]
  },
  {
   "cell_type": "markdown",
   "metadata": {},
   "source": [
    "## 2.1. Sources of Errors and Uncertainties <a id=\"21-sources-of-errors-and-uncertainties\"></a>\n",
    "\n",
    " - **Random Error:** \n",
    "     - Noise in the experimental data \n",
    "     - Some scatter of the values \n",
    "     - Repeated careful experiments can reduce this error\n",
    "     - Statistical tools are for dealing with these errors\n",
    "     - Not present in calculations, calculations return same output value (within the precision)\n",
    "\n",
    "      \n",
    "\n",
    "\n",
    "\n",
    " - **Systematic Error:**\n",
    "     - Systematically shifted values by a given value/ percentage\n",
    "     - Must be handled at the source, for example by recalibration of equipment\n",
    "     - May be accounted for during data processing if identified, example: shift all weights by 15 g\n",
    "     - Calculations are rarely exact, and so are subject to this error for any approximations that are used\n",
    "     \n",
    "\n",
    "     \n",
    "     \n",
    "     \n",
    " - **Mistakes:**\n",
    "     - Mainly human, may be in the equipment or in the code\n",
    "     - Must identify, redo/debug"
   ]
  },
  {
   "cell_type": "markdown",
   "metadata": {},
   "source": [
    "## 2.2. Accuracy vs Precision <a id=\"22-accuracy-vs-precision\"></a>\n",
    "\n",
    "<img src=\"images/DartPic2.png\" width=\"500\">\n",
    "\n",
    "\n",
    " - High **precision** = a low spread of results (low random error)\n",
    " - High **accuracy** = that the average result is close to “true” answer (low systematic error)\n",
    "\n",
    "High precision and high accuracy are always desirable, but not always essential.\n",
    "\n",
    "<br>\n",
    "We can only access accuracy and precision from multiple data points!\n"
   ]
  },
  {
   "cell_type": "markdown",
   "metadata": {},
   "source": [
    "# 3. Introduction to Statistics    <a id=\"3-introduction-to-statistics\"></a>"
   ]
  },
  {
   "cell_type": "markdown",
   "metadata": {},
   "source": [
    "### 3.1 Statistical Distributions <a id=\"31-statistical-distributions\"></a>\n",
    "\n",
    "\n",
    "\n",
    "### Example 12 \n",
    "    \n",
    "A set of 50 samples were weighed in the lab, returning the following results:\n",
    "\n",
    "\n",
    "|Sample No.| Weight, g ||Sample No.| Weight, g |\n",
    "| ----| -----|| ----| -----|\n",
    "| 1 | 12.7867 || 26 | 13.060 |\n",
    "| 2 | 11.2558 || 27 | 12.67 |\n",
    "| 3 | 11.8226 || 28 | 9.284  |\n",
    "| 4 | 14.2157 || 29 | 11.32  |\n",
    "| 5 | 11.9955 || 30 | 12.57 |\n",
    "| 6 | 12.753 || 31 | 11.909 |\n",
    "| 7 | 10.604 || 32 | 12.055 |\n",
    "| 8 | 12.7267 || 33 | 11.98 |\n",
    "| 9 | 11.3204 || 34 | 11.48  |\n",
    "| 10 | 11.3616 || 35 | 10.99  |\n",
    "| 11 | 12.1384 || 36 | 11.79 |\n",
    "| 12 | 12.301 || 37 | 11.357 |\n",
    "| 13 | 11.032 || 38 | 10.196 |\n",
    "| 14 | 10.8086 || 39 | 12.16 |\n",
    "| 15 | 13.58 || 40 | 11.01  |\n",
    "| 16 | 12.59  || 41 | 12.33  |\n",
    "| 17 | 11.93  || 42 | 12.14 |\n",
    "| 18 | 12.41 || 43 | 11.711 |\n",
    "| 19 | 12.426 || 44 | 12.373 |\n",
    "| 20 | 10.435 || 45 | 13.26 |\n",
    "| 21 | 10.39 || 46 | 11.26  |\n",
    "| 22 | 12.89  || 47 | 12.79 |\n",
    "| 23 | 11.49  || 48 | 12.11 |\n",
    "| 24 | 12.45 || 49 | 11.831 |\n",
    "| 25 | 12.022 || 50 | 10.810 |\n",
    "\n",
    "\n",
    "The data is stored in a file `data/Weights.txt` and may have a header! Let's load this data using `numpy` (storing it in a variable called `data`), plot it, and get some statistics!"
   ]
  },
  {
   "cell_type": "code",
   "execution_count": null,
   "metadata": {},
   "outputs": [],
   "source": [
    "# FIXME\n"
   ]
  },
  {
   "cell_type": "markdown",
   "metadata": {},
   "source": [
    "<details><summary {style=\"color:green; font-weight:bold\"}> Click here to see the solution to Example 12. </summary>\n",
    "\n",
    "```python\n",
    "import numpy as np\n",
    "import matplotlib.pyplot as plt\n",
    "\n",
    "# Load data\n",
    "data = np.loadtxt(\"data/Weights.txt\", comments=\"#\")\n",
    "    \n",
    "# Initialise the figure object\n",
    "fig, ax = plt.subplots()\n",
    "\n",
    "# Add data and labels\n",
    "ax.plot(data[:,0], data[:,1], \"X\", color=\"red\")\n",
    "ax.set_xlabel(\"Sample No.\")\n",
    "ax.set_ylabel(\"Weight (g)\")\n",
    "\n",
    "# Show plot\n",
    "plt.show()\n",
    "    \n",
    "```\n",
    "</details>"
   ]
  },
  {
   "cell_type": "markdown",
   "metadata": {},
   "source": [
    "### 3.2 Distribution of Measurements "
   ]
  },
  {
   "cell_type": "markdown",
   "metadata": {},
   "source": [
    "### Example 13\n",
    "\n",
    "If we measure a value many times, we should get a distribution, which can be visualised as a **histogram**\n",
    "\n",
    "<div class=\"alert alert-info\">\n",
    "⚠️ A histogram is a distribution and is characteristic for different statistical (random) processes.\n",
    "</div>\n",
    "\n",
    "Here, we look at the histogram for a **population** of 50 measurements.\n",
    "\n",
    "We can get a histogram using the [```np.histogram(a, bins=10)```](https://numpy.org/doc/stable/reference/generated/numpy.histogram.html#numpy.histogram) function, where `a` is a numpy array.\n",
    "\n",
    "How many bins do you think are needed to display the data we have previously loaded? Try it!"
   ]
  },
  {
   "cell_type": "code",
   "execution_count": null,
   "metadata": {},
   "outputs": [],
   "source": [
    "# FIXME\n"
   ]
  },
  {
   "cell_type": "markdown",
   "metadata": {},
   "source": [
    "<details><summary {style=\"color:green; font-weight:bold\"}> Click here to see the solution to Example 13.</summary>\n",
    "\n",
    "```python\n",
    "w = data[:, 1]\n",
    "counts, bins = np.histogram(w, bins=15)\n",
    "print(counts, bins)\n",
    "\n",
    "```\n",
    "</details>"
   ]
  },
  {
   "cell_type": "markdown",
   "metadata": {},
   "source": [
    "### Example 14\n",
    "\n",
    "We can now plot it, using ```ax.stairs(counts, bins)```:"
   ]
  },
  {
   "cell_type": "code",
   "execution_count": null,
   "metadata": {},
   "outputs": [],
   "source": [
    "# FIXME\n"
   ]
  },
  {
   "cell_type": "markdown",
   "metadata": {},
   "source": [
    "<details><summary {style=\"color:green; font-weight:bold\"}> Click here to see the solution to Example 14 </summary>\n",
    "\n",
    "```python\n",
    "fig, ax = plt.subplots()\n",
    "\n",
    "ax.stairs(counts, bins)\n",
    "ax.set_ylabel('Weight, g')\n",
    "ax.set_xlabel('Count')\n",
    "\n",
    "plt.plot()\n",
    "```\n",
    "</details>"
   ]
  },
  {
   "cell_type": "markdown",
   "metadata": {},
   "source": [
    "### Example 15\n",
    "\n",
    "Alternatively, we can use a the function ```plt.hist(a, bins=10)```:"
   ]
  },
  {
   "cell_type": "code",
   "execution_count": null,
   "metadata": {},
   "outputs": [],
   "source": [
    "# FIXME\n"
   ]
  },
  {
   "cell_type": "markdown",
   "metadata": {},
   "source": [
    "<details><summary {style=\"color:green; font-weight:bold\"}> Click here to see the solution to Example 15</summary>\n",
    "\n",
    "```python\n",
    "fig, ax = plt.subplots()\n",
    "\n",
    "ax.hist(w,bins=15)\n",
    "ax.set_ylabel('Weight, g')\n",
    "ax.set_xlabel('Count')\n",
    "plt.plot()\n",
    "```\n",
    "</details>"
   ]
  },
  {
   "cell_type": "markdown",
   "metadata": {},
   "source": [
    "### 3.3 Normalising the Data <a id=\"33-normalising-the-data\"></a> \n",
    "\n",
    "In the example above we created a **histogram** with 10 bins (default).\n",
    "\n",
    "If we change the bin number, the distribution changes.\n",
    "\n",
    "If we add more samples, it changes again. It's difficult to compare two datasets sets of various size. \n",
    "\n",
    "Therefore, we should express the data as a **probability distribution** instead of just a sample count.\n",
    "\n",
    "We can do it by **normalising** the the data:\n",
    "\n",
    "\\begin{equation}\n",
    "x_{\\mathrm{norm}} = \\dfrac{x-x_{\\mathrm{max}}}{x_{\\mathrm{max}}-x_{\\mathrm{min}}},\n",
    "\\end{equation}\n",
    "\n",
    "where $x$ is the value of the sample being normalised , while $x_{\\mathrm{max}}$ and $x_{\\mathrm{min}}$ are the maximum and minimum values, respectively.\n",
    "\n",
    "We can do this in Python by writing a function:\n",
    "\n",
    "```python\n",
    "def normalise(data):\n",
    "    max_value = max(data)\n",
    "    min_value = min(data)\n",
    "    for i in range(len(data)):\n",
    "        data[i] = (data[i] - min_value)/(max_value - min_value)\n",
    "    return data  \n",
    "# To have the data in percentages, mutliply by 100:\n",
    "n_ints = normalise(data[:, 1]) * 100 \n",
    "```\n",
    "\n",
    "Or, you can also use ```np.histogram(w, bins=15, density=True)``` to obtain a probability density, i.e. a normalised histogram.\n"
   ]
  },
  {
   "cell_type": "markdown",
   "metadata": {},
   "source": [
    "* What does this histogram tell us about the data?\n",
    "* How do **random** and **systematic errors** show up in histograms like his one? \n",
    "\n",
    "This is another way to show the **accuracy** vs **precision** we saw on the 'dart board' image in [Section 2.2](#22-accuracy-vs-precision):\n",
    "\n",
    "<img src=\"images/Accuracy_Precision.png\" width=\"500\"></img>\n"
   ]
  },
  {
   "cell_type": "markdown",
   "metadata": {},
   "source": [
    "### 3.4 Quantifying Uncertainty <a id=\"33-quantifying-uncertainty\"></a> \n",
    "\n",
    "Let's analyse this data a bit more to quantify the **uncertainties**.\n",
    "\n",
    "We first represent data as a **normal distribution** of the population. The normal distribution, or Gaussian distribution, is a distribution centered around the **mean value** and having a spread of the **standard deviation**. \n",
    "\n",
    "#### The mean, $\\mu$ <a class=\"anchor\" id=\"mean\"></a> \n",
    "\n",
    "\\begin{equation}\n",
    "\\mu = \\frac{1}{N} \\sum_i^N x_i ,\n",
    "\\end{equation}\n",
    "\n",
    "where $N$ is the number of samples. As the $N$ increases, the mean becomes closer to the 'true' value. This is know as the [law of large numbers](https://en.wikipedia.org/wiki/Law_of_large_numbers). \n",
    "\n",
    "\n",
    "```python\n",
    "mu = np.sum(a) / len(a)\n",
    "```\n",
    "\n",
    "or, we can just use the NumPy function `np.mean(a)`.\n",
    "\n",
    "\n",
    "_Note:_ **Median** is a middle value separating the greater and lesser halves of a data set, since the normal distribution is symmetric, mean and median are equivalent. \n",
    "\n",
    "\n",
    "\n",
    "#### The standard deviation (STD), $\\sigma$<a class=\"anchor\" id=\"STD\"></a> \n",
    "The STD quantifies how much the numbers in our set deviate from the mean, $\\mu$\n",
    "\n",
    "\\begin{equation}\n",
    "\\sigma = \\sqrt{\\frac{1}{N}\\sum_{i=1}^N(x_i-\\mu)^2}.\n",
    "\\end{equation}\n",
    "\n",
    "We can write the above as a function in python:\n",
    "\n",
    "```python\n",
    "import math as m\n",
    "sigma = m.sqrt(np.sum((a - np.mean(a))**2) / len(a))\n",
    "```\n",
    "\n",
    "or, we can just use the NumPy function `np.std(a)`.\n",
    "\n",
    "In a **normal distribution** the values that are less than 1 $\\sigma$ away from the mean, $\\mu$, will account for the 68.27% of the set - this is our **confidence interval**\n",
    "\n",
    "\n",
    "\\begin{equation}\n",
    "f(x) = \\frac{1}{\\sigma \\sqrt{2 \\pi} }  \\exp\\left(\\frac{-(x-\\mu)^2}{2\\sigma^2} \\right)\n",
    "\\end{equation}\n",
    "\n",
    "\n",
    "\n",
    "<img src=\"images/NormalDist.png\" width=\"500\"></img>\n",
    "\n"
   ]
  },
  {
   "cell_type": "markdown",
   "metadata": {},
   "source": [
    "<div class=\"aler alert-warning\"><b>Advanced Task 3.1: \n",
    "Analyse the data of weights of 50 samples given above.</b>\n",
    "\n",
    "Find the lightest and the heaviest samples, calculate the mean and standard deviation.\n",
    "\n",
    "Plot the normal distribution for this data:\n",
    "\n",
    "Create a plot, that will present:\n",
    "- a normalised histogram, shaded with a transparency \n",
    "- a line for mean and median (are they same?)\n",
    "- normalised probability distribution\n",
    "- make sure the plot is labeled\n",
    "\n",
    "**Hint**\n",
    "\n",
    "You can use [`scipy.stats` python package](https://docs.scipy.org/doc/scipy/reference/generated/scipy.stats.norm.html#scipy.stats.norm) to plot the **normal probability distribution** of our data.\n",
    "\n",
    "```python\n",
    "stats.norm.pdf(a, loc, scale)\n",
    "```\n",
    "where the `loc` specifies the mean and `scale` specifies standard deviation.\n",
    "</div>\n",
    " "
   ]
  },
  {
   "cell_type": "code",
   "execution_count": null,
   "metadata": {},
   "outputs": [],
   "source": [
    "# FIXME\n"
   ]
  },
  {
   "cell_type": "markdown",
   "metadata": {},
   "source": [
    "<details><summary {style=\"color:green; font-weight:bold\"}> Click here to see the solution to Advanced Task 3.1</summary>\n",
    "\n",
    "```python\n",
    "from scipy import stats\n",
    "\n",
    "# Smallest value and its index\n",
    "print(f\"Lightest sample weight {np.min(w)} g and the sample no. is {np.argmin(w) + 1}\")\n",
    "\n",
    "# Biggest value and its index\n",
    "print(f\"Heaviest sample weight {np.max(w)} g and the sample no. is {np.argmax(w) + 1}\")\n",
    "# Note we add +1 to the output of argmin/argmax, as they begin counting at 0 \n",
    "\n",
    "# Mean and standard deviation\n",
    "print(f\"The mean value is {np.mean(w)}\")\n",
    "print(f\"The standard deviation is {np.std(w)}\")\n",
    "\n",
    "# Calculate the probability distribution function (pdf) at each x\n",
    "pdf = stats.norm.pdf(w, loc=np.mean(w), scale=np.std(w))\n",
    "\n",
    "# Initialise the figure object \n",
    "fig, ax = plt.subplots(1, 1)\n",
    "\n",
    "# Add a normalised histogram\n",
    "ax.hist(w, density=\"True\", bins = 10, color=\"lime\", alpha=0.2, label=\"histogram\")\n",
    "\n",
    "# Add mean and a median as a line\n",
    "ax.axvline(np.mean(w), color=\"darkorange\", label=\"mean\")\n",
    "ax.axvline(np.median(w), color=\"magenta\", label=\"median\")\n",
    "\n",
    "# Add a PDF\n",
    "ax.plot(w, pdf, \".\", label=\"normal distribution\")\n",
    "\n",
    "# Add labels\n",
    "ax.set_xlabel(\"Weight (g)\")\n",
    "ax.set_ylabel(\"Probability, p(w)\")\n",
    "\n",
    "# Add the legend\n",
    "ax.legend()\n",
    "plt.show()\n",
    "```\n",
    "</details>"
   ]
  },
  {
   "cell_type": "markdown",
   "metadata": {},
   "source": [
    "\n",
    "<div class=\"alert alert-success\"><b>Task 3.1: Analyse the kinetic data for a reaction at 250 and 300 K given below.</b>\n",
    "    \n",
    "Plot a relative likelihood that a particular value of rate constant, $K$ would be measured, showing the relative probability of each $K$.\n",
    "    \n",
    "Produce a histogram for the data.    \n",
    "</div>"
   ]
  },
  {
   "cell_type": "code",
   "execution_count": null,
   "metadata": {},
   "outputs": [],
   "source": [
    "# Here are some rates, K, at a T:\n",
    "K_250 = np.array([2.567111, 2.562323, 2.61557, 2.4366565, 2.495657, 2.516454, 3.671456])\n",
    "K_300 = np.array([2.5700804, 2.5660756, 2.6201404, 2.437922,  2.4999964, 2.5190192, 3.6754052])\n",
    "\n",
    "# FIXME\n"
   ]
  },
  {
   "cell_type": "markdown",
   "metadata": {},
   "source": [
    "<details><summary {style=\"color:green; font-weight:bold\"}> Click here to see the solution to Task 3.1</summary>\n",
    "\n",
    "```python\n",
    "\n",
    "# Print the data\n",
    "print(f\"250 K mean = {np.mean(K_250):.3f}, std = {np.std(K_250):.3f}\")\n",
    "print(f\"300 K mean = {np.mean(K_300):.3f}, std = {np.std(K_300):.3f}\")\n",
    "\n",
    "# Generate 100 linearly spaced x values \n",
    "# Start a bit before and finish a bit after the min and max of K_250\n",
    "start = np.min(K_250) - 0.5\n",
    "finish = np.max(K_250) + 0.5\n",
    "x = np.linspace(start, finish, 100)\n",
    "\n",
    "# Calculate the probability distribution at each x\n",
    "y = stats.norm.pdf(x, loc=np.mean(K_250), scale=np.std(K_250))\n",
    "\n",
    "# Plot\n",
    "plt.plot(x, y, \".\")\n",
    "plt.xlabel(\"Rate (K)\")\n",
    "plt.ylabel(\"Population, p(K)\")\n",
    "plt.show()\n",
    "\n",
    "\n",
    "normal_distribution = stats.norm(loc=np.mean(K_250), scale=np.std(K_250))\n",
    "values = normal_distribution.rvs(5000)\n",
    "\n",
    "# Plot a histogram\n",
    "plt.hist(values, density=True, bins=50, alpha=0.5)\n",
    "\n",
    "# Use min and max of random numbers to create a range\n",
    "x = np.linspace(values.min(), values.max(), 100)\n",
    "\n",
    "# Plot the probability in that range\n",
    "plt.plot(x, normal_distribution.pdf(x))\n",
    "plt.xlabel(\"Rate (K)\")\n",
    "plt.ylabel(\"Population, p(K)\")\n",
    "plt.show() \n",
    "```\n",
    "</details>"
   ]
  },
  {
   "cell_type": "markdown",
   "metadata": {},
   "source": [
    "# Key Points <a id=\"recap\"></a>\n",
    "\n",
    "<div class=\"alert alert-info\">\n",
    "\n",
    "- <code>matplotlib</code> allows you to plot numerical data.\n",
    "- Besides line plots, <code>matplotlib</code> many more different types of data visualization.\n",
    "- Programming a <code>matplotlib</code> Figure using an object oriented style allows you to control and customise every element in the plot.\n",
    "- Most scientific data comes with characteristic uncertainties. Make sure you quantify them, and report them with appropriate Figures.\n",
    "</div>"
   ]
  }
 ],
 "metadata": {
  "kernelspec": {
   "display_name": "Python 3 (ipykernel)",
   "language": "python",
   "name": "python3"
  },
  "language_info": {
   "codemirror_mode": {
    "name": "ipython",
    "version": 3
   },
   "file_extension": ".py",
   "mimetype": "text/x-python",
   "name": "python",
   "nbconvert_exporter": "python",
   "pygments_lexer": "ipython3",
   "version": "3.9.16"
  },
  "vscode": {
   "interpreter": {
    "hash": "cf51243a6e93b78f1f5c5d179cd4f66e9bfd7b6269bebfcfdbed7f35483e292c"
   }
  }
 },
 "nbformat": 4,
 "nbformat_minor": 4
}

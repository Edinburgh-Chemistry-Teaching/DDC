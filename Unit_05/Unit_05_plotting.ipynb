{
 "cells": [
  {
   "cell_type": "code",
   "execution_count": 1,
   "metadata": {},
   "outputs": [],
   "source": [
    "import numpy as np\n",
    "import matplotlib.pyplot as plt\n",
    "%matplotlib inline\n",
    "import sys\n",
    "import os.path\n",
    "sys.path.append(os.path.abspath('../'))\n",
    "from helper_functions.mentimeter import Mentimeter"
   ]
  },
  {
   "cell_type": "markdown",
   "metadata": {},
   "source": [
    "----\n",
    "\n",
    "# Intro to Stats for Chemists\n",
    "\n",
    "## Numpy Arrays, Plotting, Basic Stats and Understanding Errors\n",
    "\n",
    "20 October 2022\n",
    "\n",
    "Dr Valentina Erastova\n",
    "\n",
    "<valentina.erastova@ed.ac.uk>\n",
    "\n",
    "School of Chemistry, \n",
    "University of Edinburgh\n",
    "\n",
    "\n",
    "Partially adapted from course by [Matteo Degiacomi](https://github.com/Degiacomi-Lab/python4science/blob/master/2_Python_numerical_data.ipynb), and with contributions from Antonia Mey and Hannah Pollak\n",
    "\n",
    "\n",
    "----\n",
    "<a class=\"anchor\" id=\"teabags\"></a>"
   ]
  },
  {
   "cell_type": "markdown",
   "metadata": {},
   "source": [
    "## Today's Plan <a id=\"Plan\"></a>\n",
    "\n",
    "In this workshop you will learn:\n",
    "\n",
    " \n",
    "* How to use [NumPy](#arrays) library to work with [1D](#1D) and [2D](#2D) arrays, those are useful for working with real raw data from experiments:\n",
    "\n",
    "    + using inbuild functions to **generate** [1D](#1Dgen) and [2D](#2Dgen) arrays and check their [**properties**](#2Dprop);\n",
    "    + to perform **mathematical operations** on arrays in [1D](#1Dmath) and [2D](#2Dmath);\n",
    "    + to access parts of arrays by **slicing** [1D](#1Dslice) and [2D](#2Dslice) arrays;\n",
    "    + to [**load**](#loading) arrays to/from a file;\n",
    "    \n",
    "\n",
    " \n",
    "* How to **plot your data with [MatPlotLib](#matplot)**:\n",
    "    + first, in a simple PyPlot manner; \n",
    "    + later in an [object-oriented](#matplotOO) way, giving greater control of the plot.\n",
    "\n",
    "\n",
    "\n",
    "* we will also look into the other tools a scientist may need, incl. their use, and libraries:\n",
    "    + [working with scientific quantities](#scinumb),\n",
    "    + [units](#units),\n",
    "    + [scientific notation](#sci_notation),\n",
    "    + [constants](#sci_const), \n",
    "    + and how to correctly [format the output](#string_form). \n",
    "\n",
    "\n",
    "* we will discuss [errors](#errors-discuss), their sources and mitigation and what can we do to ensure good data.\n",
    "\n",
    "\n",
    "* in the last part of the session we will look into the basics of [Statistics](#STATS), incl.:\n",
    "    + [Statistical distribution](#distr)\n",
    "    + [Normalizing data](#normalise)\n",
    "    + and quantifying the [uncertainty](#uncert) \n",
    "    + to analyze numerical data (i.e. arrays) using inbuilt functions, e.g. finding minimum and maximum values, calculating [mean and median](#mean), [standard deviation](#STD), plotting [histograms](hist) and calculating normal probability distribution.\n",
    "    \n",
    "    \n",
    "<a class=\"anchor\" id=\"teabags\"></a>\n",
    "\n",
    "---\n"
   ]
  },
  {
   "cell_type": "markdown",
   "metadata": {},
   "source": [
    "### Learning Outcomes  <a id=\"learning\"></a>\n",
    "\n",
    "During this session you will learn about:\n",
    "\n",
    "- mathematical operations on the data collections\n",
    "- scientific notation, constants & how to use significant figs \n",
    "- errors sources and their mitigations \n",
    "- basic statistics and operations on data\n",
    "- producing plots of your data\n",
    "\n",
    "----"
   ]
  },
  {
   "cell_type": "markdown",
   "metadata": {},
   "source": [
    "### Tasks  and Solutions\n",
    "\n",
    "In this workshop, I will be typing a little bit into the cells.\n",
    "\n",
    "Try to type it with me, but if you are unsure, the code is in the drop-down window below:\n",
    "\n",
    "<details>\n",
    "    <summary>  </summary>   \n",
    "   \n",
    "```python\n",
    "# code \n",
    "print ('I love Chemistry!') \n",
    "\n",
    "```\n",
    "</details>\n",
    "\n",
    "<br>\n",
    "\n",
    "There are also **Tasks** for you to try by yourself. Those are in green, like this:\n",
    "<div class=\"alert alert-success\">\n",
    "    <b>TASK xx.</b>  \n",
    "    this is a task for you to do \n",
    "</div>\n",
    "\n",
    "**Try it yourself first!**\n",
    "\n",
    "If you are stuck, the solutions are provided in a drop-down window underneath:\n",
    "\n",
    "<details>\n",
    "    <summary> <mark> SOLUTION:</mark> </summary>   \n",
    "   \n",
    "```python\n",
    "# solution code\n",
    "# please try the TASK yourself first \n",
    "# and ask demonstrators to help\n",
    "```\n",
    "</details>\n",
    "\n",
    "Please, avoid copy-pasting solutions, try to find the answer yourself first, ask me/demonstrators for help.\n",
    "\n",
    "There are a couple of **Advanced Tasks** - only attempt if you have time. Same for the extra Questions: \n",
    "\n",
    "<br></br>\n",
    "\n",
    "<details>\n",
    "    <summary> <b>Question:</b> something to think about when you have time! </summary> \n",
    "    There is an answer and some extra information in a drop-down window.\n",
    "</details>\n",
    "\n",
    "<br>\n",
    "\n",
    "**Example Tasks** are in the later part of the session, we will work through these together, as always solutions are given under \n",
    "\n",
    "<div class=\"alert alert-warning\">\n",
    "\n",
    "**Example:** This is a question, that we will do together as a class.\n",
    "    \n",
    "</div> \n",
    "\n",
    "---\n"
   ]
  },
  {
   "cell_type": "markdown",
   "metadata": {},
   "source": [
    "\n",
    "# Part 1: Arrays and NumPy <a id=\"arrays\"></a>\n",
    "    \n"
   ]
  },
  {
   "cell_type": "markdown",
   "metadata": {},
   "source": [
    "    \n",
    "Arrays is a smart way of storing multidimensional numerical data.\n",
    "\n",
    "**NumPy**, which stands for *Numerical Python*, is a module consisting of multidimensional array objects and a collection of routines for processing those arrays. \n",
    "\n",
    "Using NumPy, mathematical and logical operations on arrays can be performed, as it works on arrays.\n",
    "\n",
    "NumPy is a base for many other modules, incl. Pandas and so can be used together."
   ]
  },
  {
   "cell_type": "markdown",
   "metadata": {},
   "source": [
    "We can import the numpy:\n",
    "\n",
    "```python\n",
    "import numpy as np\n",
    "\n",
    "```\n",
    "\n",
    "This allows us to use abbreviation `np.` prefacing any further function, e.g. `np.multipy`"
   ]
  },
  {
   "cell_type": "code",
   "execution_count": 2,
   "metadata": {},
   "outputs": [],
   "source": [
    "#import numpy\n",
    "\n",
    "import numpy as np"
   ]
  },
  {
   "cell_type": "markdown",
   "metadata": {},
   "source": [
    "---\n",
    "\n",
    "## 1.1 - 1D Arrays <a class=\"anchor\" id=\"1D\"></a>\n",
    "\n",
    "NumPy arrays are homogeneous in nature, i.e. they comprise **one data type** (integer, float, double, etc.) unlike lists that can be a mix of data types."
   ]
  },
  {
   "cell_type": "markdown",
   "metadata": {},
   "source": [
    "### 1.1.A - Generating 1D arrays <a class=\"anchor\" id=\"1Dgen\"></a>\n",
    "\n",
    "For example, to create an array of integers (single numbers like 1, 2, 3, 4, 5) we can do it like so:\n",
    "\n",
    "<img src=\"images/nparray1D.png\" width=\"500\">"
   ]
  },
  {
   "cell_type": "code",
   "execution_count": 3,
   "metadata": {},
   "outputs": [
    {
     "data": {
      "text/plain": [
       "array([1, 2, 3, 4])"
      ]
     },
     "execution_count": 3,
     "metadata": {},
     "output_type": "execute_result"
    }
   ],
   "source": [
    "#Writing in 1D numpy array:\n",
    "\n",
    "a = [1, 2, 3, 4]\n",
    "np.array(a)"
   ]
  },
  {
   "cell_type": "markdown",
   "metadata": {},
   "source": [
    "<details>\n",
    "    <summary> </summary>   \n",
    "   \n",
    "```python\n",
    "a = [1, 2, 3, 4]\n",
    "np.array(a)\n",
    "```\n",
    " \n",
    "</details>"
   ]
  },
  {
   "cell_type": "markdown",
   "metadata": {},
   "source": [
    "And now lets look at **properties** of our array  <a class=\"anchor\" id=\"1Dprop\"></a>\n",
    "\n"
   ]
  },
  {
   "cell_type": "code",
   "execution_count": 4,
   "metadata": {},
   "outputs": [
    {
     "name": "stdout",
     "output_type": "stream",
     "text": [
      "dimensions 1\n",
      "shape (4,)\n",
      "size 4\n",
      "type int64\n"
     ]
    }
   ],
   "source": [
    "#Assign array to a variable\n",
    "\n",
    "my_array = np.array(a)\n",
    "\n",
    "#Check the properties of this 1D array\n",
    "\n",
    "print(\"dimensions\", my_array.ndim)\n",
    "print(\"shape\", my_array.shape)\n",
    "print(\"size\", my_array.size)\n",
    "print(\"type\", my_array.dtype)"
   ]
  },
  {
   "cell_type": "markdown",
   "metadata": {},
   "source": [
    "<details>\n",
    "    <summary> </summary>   \n",
    "   \n",
    "```python\n",
    "import numpy as np\n",
    "\n",
    "a = [1, 2, 3, 4, 5]\n",
    "\n",
    "my_array = np.array(a)\n",
    "\n",
    "#array properties of the 1D array\n",
    "print(\"dimensions\", my_array.ndim)\n",
    "print(\"shape\", my_array.shape)\n",
    "print(\"size\", my_array.size)\n",
    "print(\"type\", my_array.dtype)\n",
    "\n",
    "```\n",
    "</details>"
   ]
  },
  {
   "cell_type": "markdown",
   "metadata": {},
   "source": [
    "You can also use **functions** within numpy to generate these arrays. \n",
    "\n",
    "\n",
    "<img src=\"images/nparray3.png\" width=\"500\">\n",
    "\n",
    "for example, lets use `np.zeros(shape)` and generate a 1D array:"
   ]
  },
  {
   "cell_type": "code",
   "execution_count": 5,
   "metadata": {},
   "outputs": [
    {
     "name": "stdout",
     "output_type": "stream",
     "text": [
      "[1 6] [0. 0. 0. 0. 0. 0. 0. 0. 0. 0.]\n"
     ]
    }
   ],
   "source": [
    "#creating an array\n",
    "\n",
    "y = np.arange(1, 11, 5)\n",
    "\n",
    "\n",
    "z = np.zeros(10)\n",
    "print(y, z)"
   ]
  },
  {
   "cell_type": "markdown",
   "metadata": {},
   "source": [
    "<details>\n",
    "    <summary> </summary>   \n",
    "   \n",
    "```python\n",
    "z=np.zeros(10)\n",
    "print(\"my array of zeros\", z, \"is of a type\", z.dtype)\n",
    "```\n",
    "</details>"
   ]
  },
  {
   "cell_type": "markdown",
   "metadata": {},
   "source": [
    " ---\n",
    "<a class=\"anchor\" id=\"HandsOn1\"></a>\n",
    "## <span style=\"color:green\">**Hands-On Session 1**</span>\n",
    "<span style=\"color:green\"> In this session you will:<br>\n",
    "    continue to work through examples to generate 1D arrays, <br> \n",
    "    do some <a href=\"#1Dmath\">mathematical operations</a> on them, <br>\n",
    "    and <a href=\"#1Dslice\">slice</a> to pick the subset of interest.<br> \n",
    "    <br>\n",
    "    <b>Keep asking me/demonstrators if anything is not clear!</b>\n",
    "</span>\n"
   ]
  },
  {
   "cell_type": "markdown",
   "metadata": {},
   "source": [
    "<div class=\"alert alert-success\">\n",
    "    <b>TASK 1.1 </b> : \n",
    "    generate a 1D array of length of 5 filled with ones \n",
    "   \n",
    "</div>\n",
    "\n"
   ]
  },
  {
   "cell_type": "code",
   "execution_count": 7,
   "metadata": {},
   "outputs": [
    {
     "data": {
      "text/plain": [
       "array([1., 1., 1., 1., 1.])"
      ]
     },
     "execution_count": 7,
     "metadata": {},
     "output_type": "execute_result"
    }
   ],
   "source": [
    "# your solution here!\n",
    "\n"
   ]
  },
  {
   "cell_type": "markdown",
   "metadata": {},
   "source": [
    "<details>\n",
    "    <summary> <mark> SOLUTION:</mark> </summary>\n",
    "   \n",
    "```python\n",
    "np.ones(5)\n",
    "\n",
    "```\n",
    "\n",
    "</details>"
   ]
  },
  {
   "cell_type": "markdown",
   "metadata": {},
   "source": [
    "To create an array that has a given sequence, instead of having to type:\n",
    "\n",
    "```python\n",
    "sequence = np.array( [ 0,  2,  4,  6,  8, 10, 12, 14, 16, 18, 20] )\n",
    "```\n",
    "\n",
    "you can use function <code>np.arange(start, finish, stepsize) </code>\n",
    "\n",
    "<div class=\"alert alert-success\">\n",
    "    <b>TASK 1.2 </b> : \n",
    "Try to go from 0 to 20 in steps of 2, using <code>np.arrange</code>\n",
    "   \n",
    "</div>\n",
    "\n",
    "\n"
   ]
  },
  {
   "cell_type": "code",
   "execution_count": 8,
   "metadata": {},
   "outputs": [
    {
     "data": {
      "text/plain": [
       "array([ 0,  2,  4,  6,  8, 10, 12, 14, 16, 18, 20])"
      ]
     },
     "execution_count": 8,
     "metadata": {},
     "output_type": "execute_result"
    }
   ],
   "source": [
    "# make a 1D array using np.arrange\n",
    "\n",
    "\n"
   ]
  },
  {
   "cell_type": "markdown",
   "metadata": {},
   "source": [
    "<details>\n",
    "    <summary> <mark> SOLUTION:</mark> </summary>\n",
    "    \n",
    "```python\n",
    "np.arange(0,21,2) \n",
    "```\n",
    "    \n",
    "\n",
    "</details>\n"
   ]
  },
  {
   "cell_type": "markdown",
   "metadata": {},
   "source": [
    "<div class=\"alert alert-success\">\n",
    "    <b>Question</b>: What number did you have to stop at to have  20 as a last number? Why?\n",
    "</div>"
   ]
  },
  {
   "cell_type": "markdown",
   "metadata": {},
   "source": [
    "\n",
    "<details>\n",
    "    <summary> <mark> Answer:</mark> </summary>\n",
    "    Since python counts from 0, if we declare <code>np.arange(0, 20, 2)</code> the count will stop at 18\n",
    "</details>\n"
   ]
  },
  {
   "cell_type": "markdown",
   "metadata": {
    "collapsed": true
   },
   "source": [
    "<div class=\"alert alert-success\">  <a class=\"anchor\" id=\"Task1.3\"></a>\n",
    "    <b>TASK 1.3 - Advanced </b> : can you find the last number in an array <code>np.arange(0, 20, 2)</code>? <br>Is this what you expected?\n",
    "</div>\n"
   ]
  },
  {
   "cell_type": "code",
   "execution_count": 9,
   "metadata": {},
   "outputs": [
    {
     "name": "stdout",
     "output_type": "stream",
     "text": [
      "18\n"
     ]
    }
   ],
   "source": [
    "# find the last number in an array\n",
    "\n"
   ]
  },
  {
   "cell_type": "markdown",
   "metadata": {},
   "source": [
    "<details>\n",
    "    <summary> <mark> SOLUTION:</mark> </summary>\n",
    "    \n",
    "```python\n",
    "a = np.arange(0, 20, 2)\n",
    "last = a[-1]\n",
    "print(last)\n",
    "```\n",
    "    \n",
    "</details>"
   ]
  },
  {
   "cell_type": "markdown",
   "metadata": {
    "collapsed": true
   },
   "source": [
    "<div class=\"alert alert-success\">\n",
    "    <b>TASK 1.4</b> : Try to generate the same array using <code> np.linspace(start, finish, no. of steps) </code>  <br>   \n",
    "    How is it different?\n",
    "</div>\n",
    "\n",
    "\n",
    "\n"
   ]
  },
  {
   "cell_type": "code",
   "execution_count": 10,
   "metadata": {},
   "outputs": [
    {
     "data": {
      "text/plain": [
       "array([ 0.,  2.,  4.,  6.,  8., 10., 12., 14., 16., 18., 20.])"
      ]
     },
     "execution_count": 10,
     "metadata": {},
     "output_type": "execute_result"
    }
   ],
   "source": [
    "# your solution here!\n",
    "\n"
   ]
  },
  {
   "cell_type": "markdown",
   "metadata": {},
   "source": [
    "<details>\n",
    "    <summary> <mark> SOLUTION:</mark> </summary>\n",
    "\n",
    "    \n",
    "```python\n",
    "np.linspace(0, 20, 11)\n",
    "```\n",
    "    \n",
    "    \n",
    "\n",
    "</details>\n"
   ]
  },
  {
   "cell_type": "markdown",
   "metadata": {},
   "source": [
    "\n",
    "[back to start of Hands On Session 1](#HandsOn1)\n",
    "\n",
    "----\n",
    "\n",
    "###  1.1.B - Mathematical operations on 1D arrays <a class=\"anchor\" id=\"1Dmath\"></a>\n",
    "\n",
    "All mathematical operations between arrays act element by element. \n",
    "\n",
    "Operations with *scalars* (= a single number) act on every element of the array.\n",
    "\n",
    "<img src=\"images/math_array.png\" width=\"500\">\n",
    "\n",
    "You can think of the array as a *vector*, and perform math operations in a compact way (no need for loops or complex notations here).\n"
   ]
  },
  {
   "cell_type": "markdown",
   "metadata": {},
   "source": [
    "<div class=\"alert alert-success\">\n",
    "    <b>TASK 1.5</b>:\n",
    "    Declare an array <code>my_array</code> containing 3, 6, 7, 2, 8 then add 3 to every number.\n",
    "   \n",
    "</div>\n"
   ]
  },
  {
   "cell_type": "code",
   "execution_count": 11,
   "metadata": {},
   "outputs": [
    {
     "data": {
      "text/plain": [
       "array([ 6,  9, 10,  5, 11])"
      ]
     },
     "execution_count": 11,
     "metadata": {},
     "output_type": "execute_result"
    }
   ],
   "source": [
    "# declare an array\n",
    "\n",
    "# add 3 to the array\n"
   ]
  },
  {
   "cell_type": "markdown",
   "metadata": {},
   "source": [
    "<details>\n",
    "    <summary> <mark> SOLUTION:</mark> </summary>   \n",
    "   \n",
    "```python\n",
    "my_array = np.array([3, 6, 7, 2, 8])\n",
    "\n",
    "my_array + 3\n",
    "\n",
    "```\n",
    "</details>"
   ]
  },
  {
   "cell_type": "markdown",
   "metadata": {},
   "source": [
    "You can also do mathematical operations between two arrays. \n",
    "\n",
    "**Note** the arrays have to be same dimensions."
   ]
  },
  {
   "cell_type": "markdown",
   "metadata": {},
   "source": [
    "<div class=\"alert alert-success\">\n",
    "    <b>TASK 1.6</b>:\n",
    "   Create 2 arrays of your liking and perform mathematical operations.<br> For example - multiply them, substractone from another and add them up.<br>\n",
    "   Print the answers.\n",
    "</div>\n",
    "\n",
    "\n"
   ]
  },
  {
   "cell_type": "code",
   "execution_count": 12,
   "metadata": {},
   "outputs": [
    {
     "name": "stdout",
     "output_type": "stream",
     "text": [
      "multiplication a x b =  [0 2 6]\n",
      "substraction a - b =  [1 1 1]\n",
      "addition a + b =  [1 3 5]\n"
     ]
    }
   ],
   "source": [
    "a = \n",
    "b = \n",
    "\n",
    "print('multiplication a x b = ',     )\n",
    "print('substraction a - b = ',    )\n",
    "print('addition a + b = ',   )\n"
   ]
  },
  {
   "cell_type": "markdown",
   "metadata": {},
   "source": [
    "<details>\n",
    "    <summary> <mark> SOLUTION:</mark> </summary>    \n",
    "    \n",
    "```python\n",
    "a = np.array([1, 2, 3])\n",
    "b = np.array([0, 1, 2])\n",
    "print('multiplication a x b = ', a*b)\n",
    "print('substraction a - b = ', a-b)\n",
    "print('addition a + b = ', a+b)\n",
    "\n",
    "```\n",
    "</details>"
   ]
  },
  {
   "cell_type": "markdown",
   "metadata": {},
   "source": [
    " <div class=\"alert alert-success\">\n",
    "    <b>TASK 1.7 </b> : calculate the square of each value in <code>my_array</code>\n",
    "</div>\n",
    "\n",
    "\n",
    "<div class=\"alert alert-info\">\n",
    "    <b>Hint</b> : <code>**</code> is the <i>to the power of</i> operator, i.e. $x^2$ will be <code>x**2</code> in the code\n",
    "</div>\n",
    "\n",
    "\n"
   ]
  },
  {
   "cell_type": "code",
   "execution_count": 13,
   "metadata": {},
   "outputs": [
    {
     "data": {
      "text/plain": [
       "array([ 9, 36, 49,  4, 64])"
      ]
     },
     "execution_count": 13,
     "metadata": {},
     "output_type": "execute_result"
    }
   ],
   "source": [
    "# your solution here!\n",
    "\n",
    "\n"
   ]
  },
  {
   "cell_type": "markdown",
   "metadata": {},
   "source": [
    "<details>\n",
    "    <summary> <mark> SOLUTION:</mark> </summary>\n",
    "   \n",
    "```python\n",
    "my_array**2\n",
    "\n",
    "```\n",
    "\n",
    "</details>"
   ]
  },
  {
   "cell_type": "markdown",
   "metadata": {},
   "source": [
    "<details>\n",
    "    <summary>  <b>CONFUSED with <code>numpy</code> vs <code>math</code> packages?</b> </summary>\n",
    "   \n",
    "try the bellow to see the difference between functionality of `math` vs `numpy`:\n",
    "\n",
    "```python\n",
    "import math\n",
    "import numpy as np\n",
    "\n",
    "# single number operations\n",
    "print (math.sqrt(4)) # with math\n",
    "print (np.sqrt(4)) # with numpy\n",
    "print (4**0.5) #mathematically, by calculating 4^{1/2}\n",
    "\n",
    "# list of numbers\n",
    "l = [4, 9, 16] # make a list\n",
    "print (np.sqrt(l)) # square root of every element \n",
    "print (math.sqrt(l))  # scan you use math here?\n",
    "\n",
    "# an array\n",
    "a = np.array(l) # create a numpy array\n",
    "print(np.sqrt(a)) # square root of every element of a numpy array\n",
    "print(math.sqrt(a)) # would this work?\n",
    "\n",
    "\n",
    "```\n",
    "</details>\n"
   ]
  },
  {
   "cell_type": "code",
   "execution_count": null,
   "metadata": {},
   "outputs": [],
   "source": [
    "# space to try code\n",
    "\n"
   ]
  },
  {
   "cell_type": "markdown",
   "metadata": {},
   "source": [
    "[back to start of Hands On Session 1](#HandsOn1)\n",
    "\n",
    "---\n",
    "\n",
    "### 1.1.C - Accessing slices of 1D array <a class=\"anchor\" id=\"1Dslice\"></a>\n"
   ]
  },
  {
   "cell_type": "markdown",
   "metadata": {},
   "source": [
    "\n",
    "<img src=\"images/slicing1.png\" width=\"500\">\n",
    "\n",
    "Let's to *slice* the 1D array in the following tasks"
   ]
  },
  {
   "cell_type": "markdown",
   "metadata": {},
   "source": [
    "<div class=\"alert alert-success\">\n",
    "    <b>TASK 1.8 </b> : <br/><a class=\"anchor\" id=\"Task1.8\"></a>\n",
    "    generate a 1D array of 20 elements and fill it with random numbers,<br>\n",
    "    pick every 3rd value within first 10. <br>Print many values you got. <br>\n",
    "    What is the last number in your array? (As seen in <a href=\"#Task1.3\">Task 1.3</a>)\n",
    "</div>\n",
    "\n",
    "<div class=\"alert alert-info\">\n",
    "    <b>Hint</b> : Try  <code>np.random.random</code> <br/> \n",
    "</div>\n",
    "\n",
    "    \n"
   ]
  },
  {
   "cell_type": "code",
   "execution_count": 14,
   "metadata": {},
   "outputs": [
    {
     "name": "stdout",
     "output_type": "stream",
     "text": [
      "20\n",
      "4\n",
      "0.8681612164210969\n"
     ]
    }
   ],
   "source": [
    "# create a random number array of 20 elements\n",
    "\n",
    "\n",
    "# do the selection\n",
    "\n",
    "\n",
    "# print array length and length of the selection\n",
    "\n",
    "\n",
    "# find and print last number in the array    \n",
    "\n"
   ]
  },
  {
   "cell_type": "markdown",
   "metadata": {},
   "source": [
    "<details>\n",
    "    <summary> <mark> SOLUTION:</mark> </summary>\n",
    "    \n",
    "```python\n",
    "\n",
    "#create a random number array of 20 elements\n",
    "random = np.random.random(20)\n",
    "\n",
    "#do the selection\n",
    "picked = random[0:10:3]\n",
    "\n",
    "#print array length and length of the selection\n",
    "print(len(random))\n",
    "print(len(picked))\n",
    "\n",
    "# find and print last number in the array    \n",
    "last = random[-1]\n",
    "print (last)\n",
    "\n",
    "```\n",
    "    \n",
    "\n",
    "</details>\n",
    "\n"
   ]
  },
  {
   "cell_type": "markdown",
   "metadata": {},
   "source": [
    "\n",
    "<span style=\"color:green\">**End of the hands-on coding 1**</span>\n",
    "\n",
    "[back to start of Hands On Session 1](#HandsOn1)\n",
    "\n",
    "[back to top](#teabags)\n",
    "\n",
    "---\n",
    "\n"
   ]
  },
  {
   "cell_type": "markdown",
   "metadata": {},
   "source": [
    "# BREAK 1"
   ]
  },
  {
   "cell_type": "markdown",
   "metadata": {},
   "source": [
    "\n",
    "---\n",
    "\n",
    "## 1.2 - 2D and multiD arrays <a class=\"anchor\" id=\"2D\"></a>\n",
    "\n",
    "We have met 1D arrays above, now let's have a look at the multi-dimensional cases:\n",
    "\n",
    "\n",
    "<img src=\"images/scalar-tensor.png\" width=\"500\">\n",
    "\n",
    "\n",
    "\n",
    "### 1.2.1 - Generating 2D arrays  <a class=\"anchor\" id=\"2Dgen\"></a>\n",
    "\n",
    "\n",
    "Just like with 1D arrays, you can also create a 2D array in the following manner:\n",
    "\n",
    "<img src=\"images/nparray.png\" width=\"500\">\n",
    "\n"
   ]
  },
  {
   "cell_type": "code",
   "execution_count": 9,
   "metadata": {},
   "outputs": [
    {
     "name": "stdout",
     "output_type": "stream",
     "text": [
      "[[1 2]\n",
      " [3 4]\n",
      " [5 6]]\n"
     ]
    }
   ],
   "source": [
    "# Creating a 2D numpy array\n",
    "\n",
    "aa = [[1, 2], [3, 4], [5, 6]]\n",
    "my_array2 = np.array(aa)\n",
    "\n",
    "print(my_array2)"
   ]
  },
  {
   "cell_type": "markdown",
   "metadata": {},
   "source": [
    "<details>\n",
    "    <summary>  </summary>\n",
    "\n",
    "    \n",
    "```python\n",
    "\n",
    "aa = [[1, 2], [3, 4], [5, 6]]\n",
    "my_array2 = np.array(aa)\n",
    "print(my_array2)\n",
    "\n",
    "```\n",
    "    \n",
    "\n",
    "</details>\n",
    "\n"
   ]
  },
  {
   "cell_type": "markdown",
   "metadata": {},
   "source": [
    "<details>\n",
    "    <summary> <b> Question:</b> What is the difference between <code>tuple</code>, <code>array</code> and a <code>list</code>? </summary>\n",
    "    \n",
    "\n",
    "**ANSWER**:\n",
    "\n",
    "**List**: A list is of an ordered collection data type that is mutable which means it can be easily modified and we can change its data values and a list can be indexed, sliced, and changed and each element can be accessed using its index value in the list. The following are the main characteristics of a List:\n",
    "\n",
    "- The list is an ordered collection of data types.\n",
    "- The list is mutable.\n",
    "- List are dynamic and can contain objects of different data types.\n",
    "- List elements can be accessed by index number.\n",
    "\n",
    "```python\n",
    "list = [\"mango\", \"strawberry\", \"orange\",\n",
    "\t\t\"apple\", \"banana\"]\n",
    "print(list)\n",
    "\n",
    "# we can specify the range of the\n",
    "# index by specifying where to start\n",
    "# and where to end\n",
    "print(list[2:4])\n",
    "\n",
    "# we can also change the item in the\n",
    "# list by using its index number\n",
    "list[1] = \"grapes\"\n",
    "print(list[1])\n",
    "\n",
    "```\n",
    "    \n",
    "    \n",
    "**Array**:  An array is a collection of items stored at contiguous memory locations. The idea is to store multiple items of the same type together. This makes it easier to calculate the position of each element by simply adding an offset to a base value, i.e., the memory location of the first element of the array (generally denoted by the name of the array). The following are the main characteristics of an Array:\n",
    "    \n",
    "- An array is an ordered collection of the similar data types.\n",
    "- An array is mutable.\n",
    "- An array can be accessed by using its index number.\n",
    "\n",
    "```python\n",
    "# importing \"array\" for array creations\n",
    "import array as arr\n",
    "\n",
    "# creating an array with integer type\n",
    "a = arr.array('i', [1, 2, 3])\n",
    "\n",
    "# printing original array\n",
    "print (\"The new created array is : \", end =\" \")\n",
    "for i in range (0, 3):\n",
    "\tprint (a[i], end =\" \")\n",
    "print()\n",
    "\n",
    "# creating an array with float type\n",
    "b = arr.array('d', [2.5, 3.2, 3.3])\n",
    "\n",
    "```\n",
    "\n",
    "**Tuple**:  A tuple is an ordered and an immutable data type which means we cannot change its values and tuples are written in round brackets. We can access tuple by referring to the index number inside the square brackets.  The following are the main characteristics of a Tuple:\n",
    "\n",
    "- Tuples are immutable and can store any type of data type.\n",
    "- it is defined using ().\n",
    "- it cannot be changed or replaced as it is an immutable data type.\n",
    "\n",
    "```python\n",
    "tuple = (\"orange\",\"apple\",\"banana\")\n",
    "print(tuple)\n",
    "\n",
    "# we can access the items in\n",
    "# the tuple by its index number\n",
    "print(tuple[2])\n",
    "\n",
    "#we can specify the range of the\n",
    "# index by specifying where to start\n",
    "# and where to end\n",
    "print(tuple[0:2])\n",
    "```\n",
    "Taken from www.geeksforgeeks.org\n",
    "\n",
    "</details>"
   ]
  },
  {
   "cell_type": "markdown",
   "metadata": {},
   "source": [
    "\n",
    "<a class=\"anchor\" id=\"2Dprop\"></a>\n",
    "\n",
    "Again, in the same way as for 1D arrays, multiD arrays have properties\n",
    "<img src=\"images/nparray2.png\" width=\"500\">\n",
    " \n",
    "\n",
    "\n",
    "\n",
    "Let's check dimensions, shape, size of the array we created"
   ]
  },
  {
   "cell_type": "code",
   "execution_count": 10,
   "metadata": {},
   "outputs": [
    {
     "name": "stdout",
     "output_type": "stream",
     "text": [
      "dimensions 2\n",
      "shape (3, 2)\n",
      "size 6\n"
     ]
    }
   ],
   "source": [
    "#array properties of the 2D array\n",
    "\n",
    "print(\"dimensions\", my_array2.ndim)\n",
    "print(\"shape\", my_array2.shape)\n",
    "print(\"size\", my_array2.size)"
   ]
  },
  {
   "cell_type": "markdown",
   "metadata": {},
   "source": [
    "<details>\n",
    "    <summary>  </summary>\n",
    "\n",
    "    \n",
    "```python\n",
    "\n",
    "print(\"dimensions\", my_array2.ndim)\n",
    "print(\"shape\", my_array2.shape)\n",
    "print(\"size\", my_array2.size)\n",
    "\n",
    "```\n",
    "    \n",
    "\n",
    "</details>\n",
    "\n",
    "\n"
   ]
  },
  {
   "cell_type": "markdown",
   "metadata": {},
   "source": [
    "**Note** how in the example above, the shape of the matrix is defined as ```(rows, columns)``` - the number of *rows* and then *columns*. \n",
    "\n",
    "It is written in a round brackets, i.e. it is a *tuple* and is non-changeable.\n"
   ]
  },
  {
   "cell_type": "markdown",
   "metadata": {},
   "source": [
    "Let's try to create an array filled with a predefined valuea and check it's properties.\n",
    "\n",
    "\n",
    "We can use `np.ones` tio fill it with 1, or `np.zeros` to fill up an array with zreeros. But if it is a specific value, there is a function `np.full`\n",
    "\n"
   ]
  },
  {
   "cell_type": "code",
   "execution_count": 11,
   "metadata": {},
   "outputs": [
    {
     "name": "stdout",
     "output_type": "stream",
     "text": [
      "dimensions 2\n",
      "shape (4, 5)\n",
      "size 20\n"
     ]
    }
   ],
   "source": [
    "# generate an array of 4 x 5 filled up with a 1.234\n",
    "\n",
    "f = np.full((4, 5), 1.234)\n",
    "\n",
    "# check its properties\n",
    "\n",
    "print(\"dimensions\", f.ndim)\n",
    "print(\"shape\", f.shape)\n",
    "print(\"size\", f.size)"
   ]
  },
  {
   "cell_type": "markdown",
   "metadata": {},
   "source": [
    "\n",
    "<details>\n",
    "    <summary>  </summary>\n",
    "   \n",
    "```python\n",
    "# generate an array of 4 x 5 filled up with a 1.234\n",
    "\n",
    "f = np.full((4, 5), 1.234)\n",
    "\n",
    "# check its properties\n",
    "\n",
    "print(\"dimensions\", f.ndim)\n",
    "print(\"shape\", f.shape)\n",
    "print(\"size\", f.size)\n",
    "```\n",
    "\n",
    "</details>\n"
   ]
  },
  {
   "cell_type": "markdown",
   "metadata": {},
   "source": [
    "\n",
    "[back to top](#teabags)\n",
    "\n",
    "---\n",
    "\n",
    "### 1.2.2 - Slicing 2D arrays <a class=\"anchor\" id=\"2Dslice\"></a>\n",
    "\n",
    "Now, let's see what is within the file we have loaded. In the same way as for 1D array, we can access data *slicing* it\n",
    "<img src=\"images/slicing2.png\" width=\"600\">"
   ]
  },
  {
   "cell_type": "markdown",
   "metadata": {},
   "source": [
    "First. I will create an array of 7 columns and 5 rows array, filled with random integers. \n",
    "\n",
    "We can use function `np.random.randint(start, stop+1, size=(row, column))`"
   ]
  },
  {
   "cell_type": "code",
   "execution_count": 12,
   "metadata": {},
   "outputs": [
    {
     "name": "stdout",
     "output_type": "stream",
     "text": [
      "[[ 9 21 47 43 10  9 33]\n",
      " [29 13 37 10 17 13 35]\n",
      " [ 6 36 27  5 10 33 19]\n",
      " [13  1 29 40 10 17 29]\n",
      " [49 37  3  1  6 38 35]]\n"
     ]
    }
   ],
   "source": [
    "# generate an big_array filled with random integers\n",
    "\n",
    "big_array = np.random.randint(1, 50, size=(5, 7))\n",
    "\n",
    "print(big_array)"
   ]
  },
  {
   "cell_type": "markdown",
   "metadata": {},
   "source": [
    "<details>\n",
    "    <summary>  </summary>\n",
    "   \n",
    "```python\n",
    "# generate an big_array filled with random integers\n",
    "\n",
    "big_array = np.random.randint(1, 50, size=(5, 7))\n",
    "print(big_array)\n",
    "\n",
    "```\n",
    "\n",
    "</details>\n"
   ]
  },
  {
   "cell_type": "code",
   "execution_count": 13,
   "metadata": {},
   "outputs": [
    {
     "name": "stdout",
     "output_type": "stream",
     "text": [
      "column one [ 9 29  6 13 49]\n",
      "last column [33 35 19 29 35]\n",
      "row four [13  1 29 40 10 17 29]\n",
      "selected area [[43 10  9 33]\n",
      " [10 17 13 35]]\n",
      "samples [[10 35]\n",
      " [40 29]]\n"
     ]
    }
   ],
   "source": [
    "# using the array generated above let's try some slicing\n",
    "\n",
    "print('column one', big_array[:, 0])  #select first column\n",
    "print('last column', big_array[:, -1])  #last column\n",
    "print('row four', big_array[3, :])  #select 4th line\n",
    "print('selected area', big_array[0:2, 3:7])  #select area\n",
    "print('samples', big_array[1:5:2, 3:10:3])  #select samples in a given space"
   ]
  },
  {
   "cell_type": "markdown",
   "metadata": {},
   "source": [
    "\n",
    "<details>\n",
    "    <summary>  </summary>\n",
    "   \n",
    "```python\n",
    "\n",
    "print('column one', big_array[:, 0])  #select first column\n",
    "print('last column', big_array[:, -1])  #last column\n",
    "print('row four', big_array[3, :])  #select 4th line\n",
    "print('selected area', big_array[0:2, 3:7])  #select area\n",
    "print('samples', big_array[1:5:2, 3:10:3])  #select samples in a given space\n",
    "\n",
    "```\n",
    "\n",
    "</details>\n",
    "\n"
   ]
  },
  {
   "cell_type": "markdown",
   "metadata": {},
   "source": [
    "[back to top](#teabags)\n",
    "    \n",
    "----"
   ]
  },
  {
   "cell_type": "markdown",
   "metadata": {},
   "source": [
    "\n",
    "<a class=\"anchor\" id=\"HandsOn2\"></a>\n",
    "## <span style=\"color:green\">**Hands-On Session 2**</span>\n",
    "<span style=\"color:green\"> IN this session you will: <br>\n",
    "    <a href=\"loading\">load</a> data from a file, <br>\n",
    "    do some <a href=\"#2Dmath\">math</a> with the data, <br>\n",
    "    sub-sample the data by <a href=\"#2Dslice\">slice</a> it,<br> \n",
    "    and visualize it with a simple <a href=\"matplot\">plot</a>. </span>\n",
    "    "
   ]
  },
  {
   "cell_type": "markdown",
   "metadata": {},
   "source": [
    "\n",
    "### 1.2.3 - Loading an array from/to a file <a class=\"anchor\" id=\"loading\"></a>\n",
    "\n",
    "As you have seen before using `pandas`, we can also load arrays from a plain text file. \n"
   ]
  },
  {
   "cell_type": "markdown",
   "metadata": {},
   "source": [
    "Many options available for loading the file, here is one:\n",
    "\n",
    "To load a file `array.txt`: \n",
    ">```python\n",
    "numpy.loadtxt('array.txt')\n",
    "```"
   ]
  },
  {
   "cell_type": "markdown",
   "metadata": {},
   "source": [
    "if your file has a header of 5 top rows that you would like to skip, and you would like to ignore rows commented out with `#`, you can use:\n",
    ">```python\n",
    "numpy.loadtxt('array.txt', comments='#', skiprows=5)\n",
    "```"
   ]
  },
  {
   "cell_type": "markdown",
   "metadata": {},
   "source": [
    "To save the array `data` into the file, use `savetxt` function enables saving arrays in a file:\n",
    ">```python\n",
    "   numpy.savetxt('array.txt', data)\n",
    "```"
   ]
  },
  {
   "cell_type": "markdown",
   "metadata": {},
   "source": [
    "<div class=\"alert alert-success\">\n",
    "    <b>TASK 2.1</b> : <br/>\n",
    "    load <code>data/slice_me.txt</code> file, skipping the first row;  <br/>\n",
    "    print the shape of your data; <br/>\n",
    "    save the data only file into  <code>slice_me_copy.txt</code>.\n",
    "</div>\n"
   ]
  },
  {
   "cell_type": "code",
   "execution_count": 21,
   "metadata": {},
   "outputs": [
    {
     "name": "stdout",
     "output_type": "stream",
     "text": [
      "(6, 8)\n"
     ]
    }
   ],
   "source": [
    "# read the 'slice_me.txt' file in, assigning it to 'data', skip the header\n",
    "\n",
    "# always good to check the shape of your data\n",
    "\n",
    "# save a copy of the file \n",
    "\n"
   ]
  },
  {
   "cell_type": "markdown",
   "metadata": {},
   "source": [
    "\n",
    "<details>\n",
    "    <summary> <mark> SOLUTION:</mark> </summary>\n",
    "   \n",
    "```python\n",
    "data = np.loadtxt('DATA/slice_me.txt', skiprows=1) #load data, skip 1 row\n",
    "    \n",
    "print(data.shape) #shape of the data\n",
    "    \n",
    "np.savetxt('slice_me_copy.txt', data) #you saved a copy of an array\n",
    "\n",
    "```\n",
    "\n",
    "</details>\n",
    "\n"
   ]
  },
  {
   "cell_type": "markdown",
   "metadata": {},
   "source": [
    "\n",
    "### 1.2.4 - Mathematical operations on 2D arrays <a class=\"anchor\" id=\"2Dmath\"></a>\n",
    "\n",
    "All mathematical operations between arrays act element by element, we can also chose an axis of operation:\n"
   ]
  },
  {
   "cell_type": "markdown",
   "metadata": {},
   "source": [
    "<img src=\"images/AxisSum.png\" width=\"600\">\n"
   ]
  },
  {
   "cell_type": "markdown",
   "metadata": {},
   "source": [
    "<div class=\"alert alert-success\">\n",
    "    <b>TASK 2.2</b> : Calculate sum of all the elements in the <code>slice_me_copy.txt</code>,<br> \n",
    "    as well as vertical and horizontal sums.\n",
    "</div>\n"
   ]
  },
  {
   "cell_type": "code",
   "execution_count": 24,
   "metadata": {},
   "outputs": [
    {
     "name": "stdout",
     "output_type": "stream",
     "text": [
      "sum\n",
      "vertical sum\n",
      "horizontal sum\n"
     ]
    }
   ],
   "source": [
    "# load the slice_me_copy.txt if you need \n",
    "\n",
    "# do math\n",
    "\n",
    "print(\"sum\",     )\n",
    "print(\"vertical sum\",   )\n",
    "print(\"horizontal sum\",    )\n",
    "\n"
   ]
  },
  {
   "cell_type": "markdown",
   "metadata": {},
   "source": [
    "<details>\n",
    "    <summary> <mark> SOLUTION:</mark> </summary>\n",
    "\n",
    "    \n",
    "```python\n",
    "\n",
    "\n",
    "a = np.loadtxt('slice_me_copy.txt')\n",
    "\n",
    "print(\"sum\", np.sum(a))\n",
    "print(\"vertical sum\", np.sum(a, axis=0))\n",
    "print(\"horizontal sum\", np.sum(a, axis=1))\n",
    "\n",
    "\n",
    "\n",
    "```\n",
    "    \n",
    "\n",
    "</details>\n",
    "\n"
   ]
  },
  {
   "cell_type": "markdown",
   "metadata": {},
   "source": [
    "<div class=\"alert alert-success\">  <a class=\"anchor\" id=\"Task2.3\"></a>\n",
    "    <b>TASK 2.3</b> : In the folder <code>data</code> you will find the file <code>ms.txt</code>. <br/>\n",
    "    It is a MassSpec data and contains 2 columns of numbers - m/z and intensity. <br/>\n",
    "    Read the file, create a sub-sample by extracting one every 10th line, call this data <code>subdata</code>; <br/>\n",
    "    save only the sub-sampled intensities column(i.e. <code>subdata</code>) into a separate file .\n",
    "</div>\n"
   ]
  },
  {
   "cell_type": "code",
   "execution_count": 25,
   "metadata": {},
   "outputs": [
    {
     "name": "stdout",
     "output_type": "stream",
     "text": [
      "(75157, 2)\n",
      "(7516,)\n"
     ]
    }
   ],
   "source": [
    "# read file \"ms.txt\"\n",
    "\n",
    "\n",
    "#extract every 10th line for the second column only\n",
    "\n",
    "\n",
    "#check the shapes of the data sets to check you subsampled correctly\n",
    "\n",
    "#save the file\n",
    "\n"
   ]
  },
  {
   "cell_type": "markdown",
   "metadata": {},
   "source": [
    "<details>\n",
    "    <summary> <mark> SOLUTION:</mark> </summary>\n",
    "\n",
    "    \n",
    "```python\n",
    "\n",
    "# read file\n",
    "data = np.loadtxt('DATA/ms.txt')\n",
    "\n",
    "#extract every 10th line for the second column only\n",
    "subdata = data [::10, 1] \n",
    "\n",
    "#check the shapes of the data sets to check you subsampled correctly\n",
    "print (data.shape)\n",
    "print (subdata.shape)\n",
    "\n",
    "#save the file\n",
    "np.savetxt('sub_intensities.txt', subdata)\n",
    "\n",
    "\n",
    "```\n",
    "    \n",
    "\n",
    "</details>\n",
    "\n"
   ]
  },
  {
   "cell_type": "markdown",
   "metadata": {},
   "source": [
    "<div class=\"alert alert-success\">\n",
    "    <b> TASK 2.4 - Advanced</b> : can you do the same without numpy? <br/>\n",
    "</div>\n"
   ]
  },
  {
   "cell_type": "code",
   "execution_count": null,
   "metadata": {},
   "outputs": [],
   "source": [
    "# your solution here!\n",
    "\n"
   ]
  },
  {
   "cell_type": "markdown",
   "metadata": {},
   "source": [
    "<details>\n",
    "    <summary> <mark> SOLUTION:</mark> </summary>\n",
    "\n",
    "    \n",
    "```python\n",
    "#read in a file \n",
    "fin = open(\"DATA/ms.txt\", \"r\")\n",
    "\n",
    "#create a file to write into\n",
    "fout = open(\"sub_intensities2.txt\", \"w\")\n",
    "\n",
    "#start counter   \n",
    "cnt=0 \n",
    "\n",
    "#for each line in the file\n",
    "for line in fin:\n",
    "    \n",
    "    #if the line number is divisable by 10\n",
    "    if cnt %10 ==0:\n",
    "        \n",
    "        #split into columns, assigning the second one to intensity\n",
    "        columns = line.split()\n",
    "        intensity = columns[1]\n",
    "       \n",
    "        #write into the file\n",
    "        fout.write(intensity)\n",
    "        \n",
    "        #return to next line \n",
    "        fout.write(\"\\n\")\n",
    "        \n",
    "    #increment the count\n",
    "    cnt += 1\n",
    "    \n",
    "fin.close()\n",
    "fout.close()\n",
    "\n",
    "\n",
    "```\n",
    "    \n",
    "\n",
    "</details>\n",
    "\n"
   ]
  },
  {
   "cell_type": "markdown",
   "metadata": {},
   "source": [
    "<div class=\"alert alert-success\">\n",
    "    <b> TASK 2.5 - Advanced</b> using the mass spec data, find m/z values in the region between m/z 6400 and 6600.  <br/>\n",
    "</div>\n",
    "\n",
    "<div class=\"alert alert-info\">\n",
    "    <b>Hint</b> : You will need to use Boolean Indexing  <br/> \n",
    "    \n",
    "</div>\n",
    "\n",
    "    \n"
   ]
  },
  {
   "cell_type": "markdown",
   "metadata": {},
   "source": [
    "Review of Boolean Logic and example of Boolean Indexing - an extra material - can be found [HERE](Boolean.ipynb) - opens in a new tab"
   ]
  },
  {
   "cell_type": "code",
   "execution_count": null,
   "metadata": {},
   "outputs": [],
   "source": [
    "# your solution here!\n",
    "\n"
   ]
  },
  {
   "cell_type": "markdown",
   "metadata": {},
   "source": [
    "<details>\n",
    "    <summary> <mark> SOLUTION:</mark> </summary>\n",
    "\n",
    "    \n",
    "```python\n",
    "\n",
    "data = np.loadtxt(\"DATA/ms.txt\")\n",
    "\n",
    "#test and slicing \n",
    "test = np.logical_and(data[:,0]>6400, data[:,0]<6600)\n",
    "sliced_array = data[test, :]\n",
    "\n",
    "maxval = np.max(sliced_array[:,1])\n",
    "idx = np.argmax(sliced_array[:,1])\n",
    "mz=sliced_array[idx,0]\n",
    "\n",
    "print (\"peak\", maxval, \"at m/z\", mz)\n",
    "\n",
    "```\n",
    "    \n",
    "</details>"
   ]
  },
  {
   "cell_type": "markdown",
   "metadata": {},
   "source": [
    "[back to start of Hands On Session 2](#HandsOn2)\n",
    "\n",
    "---"
   ]
  },
  {
   "cell_type": "markdown",
   "metadata": {},
   "source": [
    "\n",
    "### 1.2.5 - Creating a simple plot of your data <a class=\"anchor\" id=\"matplot\"></a> \n",
    "\n",
    "A module [matplotlib](http://matplotlib.org) helps us to plot neatly our data we are analyzing.\n",
    "\n",
    "We first look at the `pyplot` functional interface, which allows us to manipulate a given current figure only. \n",
    "\n",
    "`pyplot` is great to quickly visualize data we are working with, but it is **not suitable** for plots of multiple data quantities, subplots, more complex customizations. In that case an object-oriented plotting is a must. We will discuss the object-oriented plotting in the second part of the session. If you are already eager to know details, please see discussion on [PyPlot vs. Object Oriented Interfaces](https://matplotlib.org/matplotblog/posts/pyplot-vs-object-oriented-interface/) on the matplotlib Blog.\n",
    "\n",
    "\n",
    "As always, we begin with **importing the `matplotlib.pyplot` module** and calling it `plt`. \n",
    "\n"
   ]
  },
  {
   "cell_type": "code",
   "execution_count": 14,
   "metadata": {},
   "outputs": [],
   "source": [
    "# import matplotlib\n",
    "import matplotlib.pyplot as plt\n",
    "\n",
    "#for jupyter notebooks\n",
    "%matplotlib inline  \n"
   ]
  },
  {
   "cell_type": "markdown",
   "metadata": {},
   "source": [
    "<details>\n",
    "    <summary> </summary>\n",
    "    \n",
    "```   python \n",
    "# import matplotlib\n",
    "import matplotlib.pyplot as plt\n",
    "    \n",
    "#for jupyter notebooks may need\n",
    "%matplotlib inline  \n",
    " \n",
    "```\n",
    "</details>\n",
    "\n"
   ]
  },
  {
   "cell_type": "markdown",
   "metadata": {},
   "source": [
    "Now, to create a very first plot, use command `plt.plot()` loading `subdata`, that you generated in the [Task 2.3](#Task2.3): \n",
    "```python\n",
    "plt.plot(subdata)\n",
    "```\n",
    "\n",
    "The plot will pop up, but if you would like control over when to display it, use `plt.show()`."
   ]
  },
  {
   "cell_type": "code",
   "execution_count": 17,
   "metadata": {},
   "outputs": [
    {
     "data": {
      "text/plain": [
       "[<matplotlib.lines.Line2D at 0x7fefd8dde1f0>]"
      ]
     },
     "execution_count": 17,
     "metadata": {},
     "output_type": "execute_result"
    },
    {
     "data": {
      "image/png": "[encoded data removed]",
      "text/plain": [
       "<Figure size 432x288 with 1 Axes>"
      ]
     },
     "metadata": {
      "needs_background": "light"
     },
     "output_type": "display_data"
    }
   ],
   "source": [
    "# plot subdata\n",
    "\n",
    "# read file\n",
    "data = np.loadtxt('data/ms.txt')\n",
    "\n",
    "#extract every 10th line for the second column only\n",
    "subdata = data [::10, 1] \n",
    "\n",
    "\n",
    "plt.plot(subdata)\n",
    "\n"
   ]
  },
  {
   "cell_type": "markdown",
   "metadata": {},
   "source": [
    "<details>\n",
    "    <summary> </summary>\n",
    "    \n",
    "```   python \n",
    "    \n",
    "# read file\n",
    "data = np.loadtxt('DATA/ms.txt')\n",
    "subdata = data [::10, 1] \n",
    "    \n",
    "    \n",
    "plt.plot(subdata)\n",
    "\n",
    "plt.show()\n",
    " \n",
    "```\n",
    "</details>\n",
    "\n"
   ]
  },
  {
   "cell_type": "markdown",
   "metadata": {},
   "source": [
    "\n",
    "**Note** this displayed plot is generated from the sub-sampled data, which only has intensities.<br>\n",
    "Therefore, this data does not have the m/z column, so x-axis is just the row number."
   ]
  },
  {
   "cell_type": "markdown",
   "metadata": {},
   "source": [
    "\n",
    "### Labeling the plot and the data <a class=\"anchor\" id=\"labelplt\"></a>\n",
    "\n",
    "It is always a good practice to **label the plots**. <a class=\"anchor\" id=\"labelplt\"></a>\n",
    "\n",
    "Use the following commands to add the labels to your plot:\n",
    " - `xlabel()`\n",
    " - `ylabel()` \n",
    " - `title()`\n",
    "\n",
    "\n"
   ]
  },
  {
   "cell_type": "markdown",
   "metadata": {},
   "source": [
    "<div class=\"alert alert-success\">\n",
    "    <b>TASK 2.3</b> : Plot the <code>ms.txt</code> data as m/z vs Intensity, label the plot.\n",
    "        \n",
    "</div>\n"
   ]
  },
  {
   "cell_type": "code",
   "execution_count": 18,
   "metadata": {},
   "outputs": [
    {
     "data": {
      "image/png": "[encoded data removed]",
      "text/plain": [
       "<Figure size 432x288 with 1 Axes>"
      ]
     },
     "metadata": {
      "needs_background": "light"
     },
     "output_type": "display_data"
    }
   ],
   "source": [
    "#load the data\n",
    "data = np.loadtxt('data/ms.txt')\n",
    "\n",
    "#assign the columns to 'mz' and 'i'\n",
    "mz = data[:,0]\n",
    "i = data[:,1]\n",
    "\n",
    "#plot mz against int\n",
    "plt.plot(mz,i)\n",
    "\n",
    "#label the plot\n",
    "plt.title('MassSpec')\n",
    "plt.xlabel('m/z')\n",
    "plt.ylabel('Intensity')\n",
    "\n",
    "# save the plot\n",
    "plt.savefig(\"myfigure.png\")\n",
    "\n",
    "#show the plot\n",
    "plt.show()"
   ]
  },
  {
   "cell_type": "markdown",
   "metadata": {},
   "source": [
    "<details>\n",
    "    <summary> <mark> SOLUTION:</mark> </summary>\n",
    "\n",
    "    \n",
    "```python\n",
    "#load the data\n",
    "data = np.loadtxt('DATA/ms.txt')\n",
    "\n",
    "#assign the columns to 'mz' and 'i'\n",
    "mz = data[:,0]\n",
    "i = data[:,1]\n",
    "\n",
    "\n",
    "#plot mz against int\n",
    "plt.plot(mz,i)\n",
    "\n",
    "#label the plot\n",
    "plt.title('MassSpec')\n",
    "plt.xlabel('m/z')\n",
    "plt.ylabel('Intensity')\n",
    "\n",
    "# save the plot\n",
    "plt.savefig(\"myfigure.png\")\n",
    "\n",
    "#show the plot\n",
    "plt.show()\n",
    "```\n",
    "    \n",
    "\n",
    "</details>\n",
    "\n"
   ]
  },
  {
   "cell_type": "markdown",
   "metadata": {},
   "source": [
    "[back to start of Hands On Session 2](#HandsOn2)\n",
    "\n",
    "[back to top](#teabags)\n",
    "\n",
    "---"
   ]
  },
  {
   "cell_type": "markdown",
   "metadata": {},
   "source": [
    "# BREAK 2\n",
    "\n",
    "----"
   ]
  },
  {
   "cell_type": "markdown",
   "metadata": {},
   "source": [
    "\n",
    "\n",
    "# Part 2 - Working with Scientific Numbers and Quantities <a class=\"anchor\" id=\"scinumb\"></a>\n",
    "\n",
    "\n",
    "Now, lets think about what numbers we _**plug into the command lines**_.\n",
    "\n",
    "\n",
    "\n",
    "The most expensive example of using wrong units is:\n",
    "\n",
    "<img src=\"images/OrbiterCrash.png\" width=\"600\">\n",
    "\n",
    "read full article [here](https://www.washingtonpost.com/wp-srv/national/longterm/space/stories/orbiter100199.htm )\n",
    "\n",
    "----\n",
    "\n",
    "  \n",
    "<div class=\"alert alert-warning\">\n",
    "\n",
    "**Example:** Distance (shortest route) between Edinburgh and London is  610 km. If you travel by train at an average speed 60 mph, how long will your travel be?\n",
    "    \n",
    "</div> \n",
    "\n",
    "\n",
    "\n",
    "Recall:\n",
    "\\begin{equation}\n",
    "time= \\frac{distance}{speed}\n",
    "\\end{equation}\n",
    "\n",
    "\n",
    "Correct the following:"
   ]
  },
  {
   "cell_type": "code",
   "execution_count": 20,
   "metadata": {},
   "outputs": [
    {
     "name": "stdout",
     "output_type": "stream",
     "text": [
      "Time of travel will be 6.318624404391962\n"
     ]
    }
   ],
   "source": [
    "#Fix this\n",
    "\n",
    "distance = 610\n",
    "speed = 60\n",
    "\n",
    "time = distance/speed\n",
    "\n",
    "\n",
    "\n",
    "\n",
    "#convert km to miles\n",
    "# 1 mile = 1.609 km \n",
    "\n",
    "factor = 1.609 #km/mile\n",
    "\n",
    "distance_miles = distance/factor  \n",
    "\n",
    "time = distance_miles/speed\n",
    "\n",
    "\n",
    "\n",
    "\n",
    "\n",
    "print ('Time of travel will be', time)\n"
   ]
  },
  {
   "cell_type": "markdown",
   "metadata": {},
   "source": [
    "Corrected? \n",
    "\n",
    "Run the cell below to check if you got it right!"
   ]
  },
  {
   "cell_type": "code",
   "execution_count": 21,
   "metadata": {},
   "outputs": [],
   "source": [
    "#do not delete - test\n",
    "if time > 8: print (\"\\n_______\\n You are still missing something in the equation - think about units!\") "
   ]
  },
  {
   "cell_type": "markdown",
   "metadata": {},
   "source": [
    "<details>\n",
    "    <summary> <mark> SOLUTION:</mark> </summary>   \n",
    "   \n",
    "```python\n",
    "distance = 610 #kilometers\n",
    "speed = 60 #miles per hour\n",
    "\n",
    "#convert km to miles\n",
    "# 1 mile = 1.609 km  \n",
    "\n",
    "factor = 1.609 #km/mile\n",
    "    \n",
    "distance_miles = distance/factor  \n",
    "\n",
    "time = distance_miles/speed\n",
    "\n",
    "print ('Time of travel will be', time, 'hours')\n",
    "```\n",
    " \n",
    "</details>"
   ]
  },
  {
   "cell_type": "markdown",
   "metadata": {},
   "source": [
    "---\n",
    "## 2.1 - Units <a id=\"units\"></a>\n",
    "\n",
    "Let's write the equation including units:\n",
    "\n",
    "\n",
    "\\begin{equation}\n",
    "t \\text{[h]} = \\frac{d \\text{[km]}}{s \\text{[m } \\text{h}^{-1}\\text{]}}\n",
    "\\end{equation}\n",
    "\n",
    "In the textbook/report/plot: \n",
    "\n",
    "&nbsp;&nbsp;&nbsp;&nbsp;&nbsp;&nbsp;   **physical quantity** is *italics*, e.g. \\$m\\$ is mass and m is metre   \n",
    "&nbsp;&nbsp;&nbsp;&nbsp;&nbsp;&nbsp;  **units** are straight with spaces betwen units, e.g. [ ms<sup>-1</sup>] is not same as [ m s<sup>-1</sup>]\n",
    "\n",
    "in the notebook, use `#` to note your units and prevent a disaster! \n",
    "\n",
    "\n"
   ]
  },
  {
   "cell_type": "markdown",
   "metadata": {},
   "source": [
    "### If time permits, else skip to [Base vs Derived Units](#base_units)\n",
    "\n",
    "Package [Pint](https://pint.readthedocs.io/en/stable/index.html) is a great tool to keep track of the units. \n",
    "\n",
    "It does not come as a default on our Jupyter Notebook, and so we have to install it\n",
    "\n",
    "```python \n",
    "!pip install pint\n",
    "```\n",
    "\n",
    "\n",
    "Here I will only show an example, please follow the tutorial + manual of Pint package if you decide to use it! "
   ]
  },
  {
   "cell_type": "code",
   "execution_count": 22,
   "metadata": {},
   "outputs": [
    {
     "name": "stdout",
     "output_type": "stream",
     "text": [
      "Requirement already satisfied: pint in /Users/valentina/opt/anaconda3/lib/python3.8/site-packages (0.18)\r\n",
      "Requirement already satisfied: packaging in /Users/valentina/opt/anaconda3/lib/python3.8/site-packages (from pint) (20.4)\r\n",
      "Requirement already satisfied: pyparsing>=2.0.2 in /Users/valentina/opt/anaconda3/lib/python3.8/site-packages (from packaging->pint) (2.4.6)\r\n",
      "Requirement already satisfied: six in /Users/valentina/opt/anaconda3/lib/python3.8/site-packages (from packaging->pint) (1.14.0)\r\n"
     ]
    }
   ],
   "source": [
    "#install package Pint using pip\n",
    "\n",
    "!pip install pint"
   ]
  },
  {
   "cell_type": "code",
   "execution_count": 23,
   "metadata": {
    "scrolled": true
   },
   "outputs": [
    {
     "name": "stdout",
     "output_type": "stream",
     "text": [
      "Distance of our travel is 610 kilometer\n",
      "SI distance is 610000.0 meter\n"
     ]
    }
   ],
   "source": [
    "from pint import UnitRegistry\n",
    "ureg = UnitRegistry()\n",
    "\n",
    "#from before we know\n",
    "distance = 610  #kilometers\n",
    "speed = 60  #mph\n",
    "\n",
    "#assign distance and speed their units\n",
    "distance = distance * ureg.kilometer\n",
    "print('Distance of our travel is', distance)\n",
    "\n",
    "#or ask for base, i.e. SI units\n",
    "distance_SI = distance.to_base_units()\n",
    "print('SI distance is', distance_SI)\n"
   ]
  },
  {
   "cell_type": "markdown",
   "metadata": {},
   "source": [
    "<details>\n",
    "    <summary>  </summary>   \n",
    "   \n",
    "```python\n",
    "from pint import UnitRegistry\n",
    "ureg = UnitRegistry()\n",
    "\n",
    "#from before we know\n",
    "distance = 610  #kilometers\n",
    "speed = 60  #mph\n",
    "\n",
    "#assign distance and speed their units\n",
    "distance = distance * ureg.kilometer\n",
    "print('Distance of our travel is', distance)\n",
    "\n",
    "#or ask for base, i.e. SI units\n",
    "distance_SI = distance.to_base_units()\n",
    "print('SI distance is', distance_SI)\n",
    "\n",
    "\n",
    "```\n",
    " \n",
    "</details>"
   ]
  },
  {
   "cell_type": "markdown",
   "metadata": {},
   "source": [
    "In exactly same way we can assign speed its units <br>\n",
    "and check what is speed a measure of, <br>\n",
    "we can then convert it to units we'd like... \n"
   ]
  },
  {
   "cell_type": "code",
   "execution_count": 24,
   "metadata": {},
   "outputs": [
    {
     "name": "stdout",
     "output_type": "stream",
     "text": [
      "Our average speed is 60 mile_per_hour\n",
      "Speed is a measure of [length] / [time]\n",
      "The speed of 60 mile_per_hour is equal to 96.56064 kilometer_per_hour\n"
     ]
    }
   ],
   "source": [
    "#define speed\n",
    "speed = speed * ureg.mile_per_hour  # mile/hour\n",
    "print('Our average speed is', speed)\n",
    "print('Speed is a measure of', speed.dimensionality)\n",
    "\n",
    "#convert speed\n",
    "speed_kmh = speed.to(ureg.kilometer_per_hour)\n",
    "print('The speed of', speed, 'is equal to', speed_kmh)\n"
   ]
  },
  {
   "cell_type": "markdown",
   "metadata": {},
   "source": [
    "<details>\n",
    "    <summary>  </summary>   \n",
    "   \n",
    "```python\n",
    "\n",
    "#define speed\n",
    "speed = speed * ureg.mile_per_hour # mile/hour\n",
    "print ('Our average speed is',speed)\n",
    "print('Speed is a measure of', speed.dimensionality)\n",
    "\n",
    "#convert speed\n",
    "speed_kmh=speed.to(ureg.kilometer_per_hour)\n",
    "print ('The speed of', speed, 'is equal to', speed_kmh)\n",
    "\n",
    "```\n",
    " \n",
    "</details>"
   ]
  },
  {
   "cell_type": "markdown",
   "metadata": {},
   "source": [
    "<details>\n",
    "    <summary> <b>In spare time you can also try these:</b> </summary>   \n",
    "    \n",
    "Convert distance to meters:<br>\n",
    "```python\n",
    "#we can convert the distance to  meters\n",
    "distance_m = distance.to(ureg.meter)\n",
    "print('Distance should be in meters like this', distance_m)\n",
    "    \n",
    "```\n",
    "<br>\n",
    "\n",
    "    SI units: \n",
    "```python\n",
    "#or ask for base, i.e. SI units\n",
    "distance_SI = distance.to_base_units()\n",
    "print('SI distance is', distance_SI)\n",
    "    \n",
    "```\n",
    "<br>\n",
    "\n",
    "    miles:\n",
    "    \n",
    "```python\n",
    "#we can convert the distance to other common units, such as miles\n",
    "distance_nonSI = distance.to(ureg.miles)\n",
    "print('Distance in other units...', distance_nonSI)   \n",
    "    \n",
    "```\n",
    "<br>\n",
    "\n",
    "    make the distance human readable:    \n",
    "```python\n",
    "#human readable\n",
    "distance_human = distance.to_compact()\n",
    "print('Most of humans would use this measure of distance', distance_human)\n",
    "```\n",
    "<br>     \n",
    "\n",
    " \n",
    "What if we try to assign a distance to be miles per hour? \n",
    "    \n",
    "```python\n",
    "distance_notOK = distance.to(ureg.mile_per_hour)\n",
    "```\n",
    "<br>\n",
    "    \n",
    "Can you convert speed into unusual units, such as decameter per fortnight?<br>\n",
    "We should be able to, as these are a measure of [length] per [time]\n",
    "    \n",
    "```python    \n",
    "#define speed\n",
    "speed = speed * ureg.mile_per_hour  # mile/hour\n",
    "print('Speed is a measure of', speed.dimensionality)\n",
    "\n",
    "#we can also decide to use a more unusual unit\n",
    "speed_odd = speed.to( ureg.decameter / ureg.fortnight)  \n",
    "#yep, fortnight is a registered unit of time in Pint package\n",
    "print('This is an unusual measure of speed', speed_odd)\n",
    "```\n",
    "</details>"
   ]
  },
  {
   "cell_type": "code",
   "execution_count": null,
   "metadata": {},
   "outputs": [],
   "source": [
    "# try to change convert distance and speed to other units\n",
    "\n",
    "\n"
   ]
  },
  {
   "cell_type": "markdown",
   "metadata": {},
   "source": [
    "And not to deviate too much from our original goal, we can calculate the travel time correctly.<br>\n",
    "Does it match? what you did earlier? "
   ]
  },
  {
   "cell_type": "code",
   "execution_count": 25,
   "metadata": {},
   "outputs": [
    {
     "name": "stdout",
     "output_type": "stream",
     "text": [
      "Our value of time is a measure of... [time]\n",
      "Our travel time is 6.317273787746228 hour\n",
      "or 0.2632197411560928 day\n"
     ]
    }
   ],
   "source": [
    "ti = distance/speed_kmh\n",
    "\n",
    "print('Our value of time is a measure of...', ti.dimensionality)\n",
    "\n",
    "ti_h=ti.to(ureg.hour)\n",
    "print ('Our travel time is', ti_h)\n",
    "\n",
    "ti_day=ti.to(ureg.day)\n",
    "print ('or', ti_day.to_reduced_units())\n"
   ]
  },
  {
   "cell_type": "markdown",
   "metadata": {},
   "source": [
    "<details>\n",
    "    <summary>  </summary>   \n",
    "   \n",
    "```python\n",
    "\n",
    "ti = distance/speed_kmh\n",
    "\n",
    "print('Our value of time is a measure of...', ti.dimensionality)\n",
    "\n",
    "ti_h=ti.to(ureg.hour)\n",
    "print ('Our travel time is', ti_h)\n",
    "\n",
    "ti_day=ti.to(ureg.day)\n",
    "print ('or', ti_day.to_reduced_units())\n",
    "```\n",
    " \n",
    "</details>"
   ]
  },
  {
   "cell_type": "markdown",
   "metadata": {},
   "source": [
    "\n",
    "[back to start of Scientific Numbers](#scinumb)\n",
    "\n",
    "[back to top](#teabags)\n",
    "\n",
    "-----\n",
    "\n",
    "### 2.1.1 -  Base vs Derived Units <a id=\"base_units\"></a>\n",
    "\n",
    "Here we have shown the unit convertions working with **Base units**:\n",
    "\n",
    "|  Base quantity    ||  SI base unit    || \n",
    "|:-:|:-:|:-:|:-:|\n",
    "| length  |  \\$l,\\$ \\$ x,\\$ \\$ r\\$ |  meter |  m |   \n",
    "| mass  | \\$m\\$  | kilogram  |  kg |   \n",
    "|  time, duration | \\$t\\$  |  second |  s |   \n",
    "|  electric current | \\$I,\\$ \\$  i\\$  |  ampere |  A |   \n",
    "|  thermodynamic temperature | \\$T\\$  |  kelvin |  K |   \n",
    "| amount of substance  | \\$n\\$ |  mole |  mol |   \n",
    "|  luminous intensity | \\$I_v\\$  | candela\t|cd |  \n",
    "\n",
    "There are also **Derived units**, for example:\n",
    "\n",
    "- 1 N is the force required to accelerate a 1 kg mass by 1 m s<sup>-2</sup>   \n",
    "N = kg m s<sup>-2</sup>   \n",
    "        \n",
    "- 1 J is the energy expended in moving a distance of 1 m against a force of 1 N   \n",
    "J = N m = kg m<sup>2</sup> s<sup>-2</sup>   \n",
    "        \n",
    "- 1 J is the energy required to move a charge of 1 C through a potential difference of 1 V   \n",
    "J = C V   \n",
    "- and so on...    \n",
    "\n",
    "_**When evaluating equations always multiply out the units as well as the numbers – and check that they work out correctly!**_\n",
    "\n",
    "\n",
    "\n",
    "\n",
    "**Dimentions of the units** - either side of an equality MUST be the same! \n",
    "\n",
    "&nbsp;&nbsp;&nbsp;&nbsp;&nbsp;&nbsp;    \\$c\\$ = 2.998 x 10<sup>8</sup> m s<sup>-1</sup>   \n",
    "&nbsp;&nbsp;&nbsp;&nbsp;&nbsp;&nbsp;  or  \n",
    "&nbsp;&nbsp;&nbsp;&nbsp;&nbsp;&nbsp;    \\$c\\$ / m s<sup>-1</sup>  =  2.998 x 10<sup>8</sup>   \n",
    "\n",
    "\n",
    "\n",
    "<img src=\"images/mrIncreadible_meter.jpg\" width=\"500\">\n",
    "\n",
    "---\n",
    "\n",
    "### 2.1.2 - Scientific Notation <a id=\"sci_notation\"></a>\n",
    "\n",
    "Very large/small numbers can be written using scientific notation. \n",
    "\n",
    "For example, *C-O* single bond is 1.165 Å, we know that $1 \\text{Å}=10^{−10}$ m,\n",
    "\n",
    "so we can write it as $1.165 \\times 10^{-10}$ m, \n",
    "\n",
    "which is Python can also be written as `1.165e-10`.\n",
    "\n"
   ]
  },
  {
   "cell_type": "markdown",
   "metadata": {},
   "source": [
    "<div class=\"alert alert-warning\">\n",
    "\n",
    "**Working example:** What is the pressure of 1.00 mol of an ideal gas in a 1.00 m<sup>3</sup> vessel at 298 K?   \n",
    "    \n",
    "</div>\n",
    "\n",
    "Recall:\n",
    "\\begin{equation}\n",
    "pV = nRT\n",
    "\\end{equation}\n",
    "\n",
    "Rearrange:\n",
    "\\begin{equation}\n",
    "p = \\frac{nRT}{V}\n",
    "\\end{equation}\n",
    "\n",
    "Check units: \n",
    "\\begin{equation}\n",
    "p = \\frac{ \\text{mol} \\text{ J K}^{-1} \\text{mol}^{-1} \\text{ K}} {\\text{m}^{3}} = \\frac{\\text{J}} {\\text{m}^{3}} = \\frac{\\text{N m}} {\\text{m}^{3}} = \\frac{\\text{N}} {\\text{m}^{2}} = \\text{N m}^{-2}\n",
    "\\end{equation}\n",
    "\n"
   ]
  },
  {
   "cell_type": "code",
   "execution_count": 27,
   "metadata": {},
   "outputs": [
    {
     "name": "stdout",
     "output_type": "stream",
     "text": [
      "Pressure is =  2477.87 N m-2\n"
     ]
    }
   ],
   "source": [
    "#declare known values\n",
    "n = 1.00 # mol\n",
    "R = 8.315 # J K-1 mol-1\n",
    "T = 298 # K\n",
    "V = 1.00 # m3\n",
    "\n",
    "#calculate p\n",
    "\n",
    "p = (n*R*T)/V  # N m-2\n",
    "\n",
    "print ('Pressure is = ', p, 'N m-2') "
   ]
  },
  {
   "cell_type": "markdown",
   "metadata": {},
   "source": [
    "Run the cell bellow - did you calculate it correctly?"
   ]
  },
  {
   "cell_type": "code",
   "execution_count": 28,
   "metadata": {},
   "outputs": [],
   "source": [
    "#do not delete - test\n",
    "if p != 2477.87: print (\"\\n_______\\n You should be getting 2477.87 N m-2\") "
   ]
  },
  {
   "cell_type": "markdown",
   "metadata": {},
   "source": [
    "<details>\n",
    "    <summary>  </summary>   \n",
    "   \n",
    "```python\n",
    "#declare known values\n",
    "n = 1.00 # mol\n",
    "R = 8.315 # J K-1 mol-1\n",
    "T = 298 # K\n",
    "V = 1.00 # m3\n",
    "\n",
    "#calculate p\n",
    "p = (n*R*T)/V  # N m-2\n",
    "\n",
    "print ('Pressure is = ', p, 'N m-2') \n",
    "\n",
    "```\n",
    " \n",
    "</details>\n",
    "\n"
   ]
  },
  {
   "cell_type": "markdown",
   "metadata": {},
   "source": [
    "<div class=\"alert alert-warning\">  \n",
    "Are you reporting correct units and significant figures?\n",
    "</div>"
   ]
  },
  {
   "cell_type": "markdown",
   "metadata": {},
   "source": [
    "\n",
    "-----\n",
    "\n",
    "### 2.1.3 - Significant figures\n",
    "\n",
    "Is the above pressure reported with a correct number of significant figures?   -  **Unlikely!**\n",
    "\n",
    "You should always report the same number of significant figures as the _poorest_ dataset.\n",
    "\n",
    "\n",
    "Use `round (number, x)` , where `x` is number of digits = 0 by defaut. `x` > 0 for right side of the `321.123` , and `x`<0 for the left. \n",
    "\n",
    "\n",
    "Try it below:"
   ]
  },
  {
   "cell_type": "code",
   "execution_count": 30,
   "metadata": {},
   "outputs": [
    {
     "name": "stdout",
     "output_type": "stream",
     "text": [
      "Pressure is =  2480.0 N m-2\n"
     ]
    }
   ],
   "source": [
    "#round the pressure to correct the significant figures \n",
    "#What is x=?\n",
    "\n",
    "x=-1  # x=1 or x=2 or x=3 or x=-1 or x=-2 ...\n",
    "p_rnd=round(p, x)\n",
    "\n",
    "print ('Pressure is = ', p_rnd, 'N m-2') "
   ]
  },
  {
   "cell_type": "markdown",
   "metadata": {},
   "source": [
    "Check:"
   ]
  },
  {
   "cell_type": "code",
   "execution_count": 31,
   "metadata": {
    "code_folding": []
   },
   "outputs": [],
   "source": [
    "#do not delete - test\n",
    "if p_rnd != 2480.0: print (\"\\n_______\\n Not there yet... should be 2480 N m-2\") "
   ]
  },
  {
   "cell_type": "markdown",
   "metadata": {},
   "source": [
    "\n",
    "<details>\n",
    "    <summary>  </summary>   \n",
    "   \n",
    "```python\n",
    "\n",
    "x=-1 \n",
    "p_rnd=round(p, x)\n",
    "\n",
    "print ('Pressure is = ', p_rnd, 'N m-2')  \n",
    "\n",
    "```\n",
    " \n",
    "</details>\n"
   ]
  },
  {
   "cell_type": "markdown",
   "metadata": {},
   "source": [
    "We are nearly there, but let's beautify our output"
   ]
  },
  {
   "cell_type": "markdown",
   "metadata": {},
   "source": [
    "\n",
    "[back to start of Scientific Numbers](#scinumb)\n",
    "\n",
    "[back to top](#teabags)\n",
    "\n",
    "-----\n"
   ]
  },
  {
   "cell_type": "markdown",
   "metadata": {},
   "source": [
    "\n",
    "### 2.1.4 - String Formating <a id=\"\"></a>\n",
    "\n",
    "Creating pretty output     \n",
    "\n",
    "  - **string formating**  using `%` for a variable, followed by a format code.  \n",
    "  \n",
    "     For example, `print('Presure is %s N/m2' %p)` will replace `%s` with a string equivalent to variable `p`.\n",
    "     \n",
    "     Other codes are:       \n",
    "    `d`\tfor integers    \n",
    "    `f`\tfor floating point numbers   \n",
    "    `s`\tfor string   \n",
    "    `e`\tfor floating point in exponent format  \n",
    "    \n",
    "    Or you can also use floating point, `f` like this `print('Presure is %.0f N/m2' %p)` where the `%.0f` would be replaced with `p` up to zero significant figures.\n",
    "\n",
    "\n",
    "  - **subscript** in the units. \n",
    "  For the figure captions you can write the subscripts and superscripts as: `$P_vap / N m^{-2}$`, <br>     \n",
    "  it is acceptable to print units to the screen in their non subscript or superscript form. \n",
    "  \n",
    "  But if you want, here is little converter you can use:\n",
    "  "
   ]
  },
  {
   "cell_type": "code",
   "execution_count": 32,
   "metadata": {},
   "outputs": [
    {
     "name": "stdout",
     "output_type": "stream",
     "text": [
      "Sulfuric acid is H₂SO₄\n",
      "Speed units are km h⁻¹\n"
     ]
    }
   ],
   "source": [
    "#FOR TYPING OUT SUB & SUPER SCRIPTS ONTO THE SCREEN\n",
    "SUB = str.maketrans(\"0123456789-+\", \"₀₁₂₃₄₅₆₇₈₉₋₊\")\n",
    "SUP = str.maketrans(\"0123456789-+\", \"⁰¹²³⁴⁵⁶⁷⁸⁹⁻⁺\")\n",
    "\n",
    "#Example\n",
    "acid='H2SO4'.translate(SUB)\n",
    "print('Sulfuric acid is', acid)\n",
    "\n",
    "units='km h-1'.translate(SUP)\n",
    "print('Speed units are %s' %units)\n"
   ]
  },
  {
   "cell_type": "markdown",
   "metadata": {},
   "source": [
    "<div class=\"alert alert-warning\">\n",
    "Combine the <code>round(p, x)</code> with the string formating <code>%s</code> in an excercise bellow to get the following output: <code>Pressure is = 2480 N m⁻²</code>\n",
    "\n",
    "</div>"
   ]
  },
  {
   "cell_type": "code",
   "execution_count": 34,
   "metadata": {},
   "outputs": [
    {
     "name": "stdout",
     "output_type": "stream",
     "text": [
      "Pressure is = 2480 N m⁻²\n"
     ]
    }
   ],
   "source": [
    "#make a correct and super pretty output onto the screen\n",
    "\n",
    "#declare known values\n",
    "n = 1.00 # mol\n",
    "R = 8.315 # J K-1 mol-1\n",
    "T = 298 # K\n",
    "V = 1.00 # m3\n",
    "\n",
    "#calculate p\n",
    "p = (n*R*T)/V  # N m-2\n",
    "\n",
    "#round the pressure\n",
    "p_rnd = round(p, -1)\n",
    "\n",
    "#units pretify\n",
    "units=\"N m-2\".translate(SUP)\n",
    "\n",
    "# print \n",
    "print ('Pressure is = %.0f %s' %(p_rnd, units) ) ## FIX ME \n"
   ]
  },
  {
   "cell_type": "markdown",
   "metadata": {},
   "source": [
    "<details>\n",
    "    <summary> <mark> SOLUTION:</mark> </summary>   \n",
    "\n",
    "```python\n",
    "    \n",
    "#declare known values\n",
    "n = 1.00 # mol\n",
    "R = 8.315 # J K-1 mol-1\n",
    "T = 298 # K\n",
    "V = 1.00 # m3\n",
    "\n",
    "#calculate p\n",
    "p = (n*R*T)/V  # N m-2\n",
    "\n",
    "\n",
    "#round the pressure\n",
    "p_rnd = round(p, -1)\n",
    "\n",
    "#units pretify\n",
    "units=\"N m-2\".translate(SUP)\n",
    "\n",
    "# print\n",
    "print ('Pressure is = %.0f %s' %(p_rnd, units))\n",
    "```\n",
    "\n",
    "</details>\n",
    "\n",
    "\n",
    "\n",
    "-----\n"
   ]
  },
  {
   "cell_type": "markdown",
   "metadata": {},
   "source": [
    "### 2.1.5 - Scientific Constants <a id=\"sci_const\"></a>"
   ]
  },
  {
   "cell_type": "markdown",
   "metadata": {},
   "source": [
    "Instead of looking up the gas constant in wikipedia (or where did you look it up?) \n",
    "and then copy-pasting or typing it in,<br> we can profit from the [scientific constants](https://docs.scipy.org/doc/scipy/reference/constants.html) `scipy.constants`, <br>\n",
    "giving us a much more accurate value according to [CODATA Recommended Values of the Fundamental Physical Constants 2018](https://physics.nist.gov/cuu/Constants/) \n",
    "\n",
    "<br>\n",
    "\n",
    "```python\n",
    "from scipy.constants import R\n",
    "```\n",
    "\n",
    "\n",
    "or more generally \n",
    "```python\n",
    "from scipy import constants \n",
    "```\n",
    "\n",
    "remembering all the full names and symbols can be tricky, so use the `constants.find('gas')` to help you here\n"
   ]
  },
  {
   "cell_type": "code",
   "execution_count": 35,
   "metadata": {},
   "outputs": [
    {
     "data": {
      "text/plain": [
       "['molar gas constant',\n",
       " 'molar volume of ideal gas (273.15 K, 100 kPa)',\n",
       " 'molar volume of ideal gas (273.15 K, 101.325 kPa)']"
      ]
     },
     "execution_count": 35,
     "metadata": {},
     "output_type": "execute_result"
    }
   ],
   "source": [
    "from scipy import constants \n",
    "\n",
    "# list of physical_constant keys containing a string 'gas'\n",
    "constants.find('gas')\n"
   ]
  },
  {
   "cell_type": "markdown",
   "metadata": {},
   "source": [
    "We now know that our constant is called 'molar gas constant' so we can import its value, also check units and precision"
   ]
  },
  {
   "cell_type": "code",
   "execution_count": 36,
   "metadata": {},
   "outputs": [
    {
     "name": "stdout",
     "output_type": "stream",
     "text": [
      "R = 8.314462618 J mol^-1 K^-1 and has the following precision 0.0\n"
     ]
    }
   ],
   "source": [
    "# find the value, precision and units of R\n",
    "\n",
    "R_value=constants.value('molar gas constant')\n",
    "R_units=constants.unit('molar gas constant')\n",
    "R_prec=constants.precision('molar gas constant')\n",
    "\n",
    "print('R =', R_value, R_units,'and has the following precision', R_prec)\n"
   ]
  },
  {
   "cell_type": "markdown",
   "metadata": {},
   "source": [
    "<details>\n",
    "    <summary>  </summary>   \n",
    "\n",
    "```python\n",
    "from scipy import constants \n",
    "\n",
    "# list of physical_constant keys containing a string 'gas'\n",
    "constants.find('gas')\n",
    "\n",
    "# find the value, precision and units of R\n",
    "R_value=constants.value('molar gas constant')\n",
    "R_units=constants.unit('molar gas constant')\n",
    "R_prec=constants.precision('molar gas constant')\n",
    "print('R =', R_value, R_units,'and has the following precision', R_prec)\n",
    "```\n",
    "\n",
    "</details>\n",
    "\n",
    "\n",
    "\n"
   ]
  },
  {
   "cell_type": "markdown",
   "metadata": {},
   "source": [
    "The `precision of 0.0` means that the **value of molar gas constant is exact**, <br>\n",
    "indeed during the 2019 redefinition of SI base units both Avogadro number and Boltzmann constant have been defined with exact numerical values, making gas constant, R, also exact."
   ]
  },
  {
   "cell_type": "markdown",
   "metadata": {},
   "source": [
    "<div class=\"alert alert-success\">\n",
    "    <b>TASK - only if you have time:</b> <br>\n",
    "Update your code to benefit from the <code>scipy.constants</code> package. <br>How much difference does it make?\n",
    "\n",
    "</div>"
   ]
  },
  {
   "cell_type": "code",
   "execution_count": 37,
   "metadata": {},
   "outputs": [
    {
     "name": "stdout",
     "output_type": "stream",
     "text": [
      "Pressure is = 2477.87000 N m-2\n",
      "Pressure using scipy.constants is = 2477.70986 N m-2\n",
      "The difference due to use of more precice constant is = 0.16014, which makes it = 0.006 percent\n",
      "Nevertheless, out other measurments have much greater margin of precision, and so we must report the pressure as before...\n",
      "Pressure is = 2480 N m⁻²\n"
     ]
    }
   ],
   "source": [
    "from scipy import constants \n",
    "\n",
    "# get R\n",
    "R_value=constants.value('molar gas constant')\n",
    "\n",
    "\n",
    "#declare known values\n",
    "n = 1.00 # mol\n",
    "R = 8.315 # J K-1 mol-1\n",
    "T = 298 # K\n",
    "V = 1.00 # m3\n",
    "\n",
    "#calculate p using the manually written R\n",
    "p = (n*R*T)/V  # N m-2\n",
    "print ('Pressure is = %.5f N m-2' %p)\n",
    "\n",
    "#calculate p using R from the scipy.constants\n",
    "p_const=(n*R_value*T)/V\n",
    "print('Pressure using scipy.constants is = %.5f N m-2' %p_const)\n",
    "\n",
    "\n",
    "#find the difference\n",
    "diff=p-p_const\n",
    "diff_pr= 2*diff*100/(p+p_const)\n",
    "print('The difference due to use of more precice constant is = %.5f, which makes it = %.3f percent' %(diff, diff_pr))\n",
    "\n",
    "print ('Nevertheless, out other measurments have much greater margin of precision, and so we must report the pressure as before...')\n",
    "p_rnd = round(p_const, -1)\n",
    "units=\"N m-2\".translate(SUP)\n",
    "\n",
    "print ('Pressure is = %.0f %s' %(p_rnd, units))"
   ]
  },
  {
   "cell_type": "markdown",
   "metadata": {},
   "source": [
    "<details>\n",
    "    <summary>  <mark> SOLUTION:</mark> </summary>   \n",
    "\n",
    "```python\n",
    "    \n",
    "from scipy import constants \n",
    "\n",
    "# get R\n",
    "R_value=constants.value('molar gas constant')\n",
    "\n",
    "\n",
    "#declare known values\n",
    "n = 1.00 # mol\n",
    "R = 8.315 # J K-1 mol-1\n",
    "T = 298 # K\n",
    "V = 1.00 # m3\n",
    "\n",
    "#calculate p using the manually written R\n",
    "p = (n*R*T)/V  # N m-2\n",
    "print ('Pressure is = %.5f N m-2' %p)\n",
    "\n",
    "#calculate p using R from the scipy.constants\n",
    "p_const=(n*R_value*T)/V\n",
    "print('Pressure using scipy.constants is = %.5f N m-2' %p_const)\n",
    "\n",
    "\n",
    "#find the difference\n",
    "diff=p-p_const\n",
    "diff_pr= 2*diff*100/(p+p_const)\n",
    "print('The difference due to use of more precice constant is = %.5f, which makes it = %.3f percent' %(diff, diff_pr))\n",
    "\n",
    "print ('Nevertheless, out other measurments have much greater margin of precision, and so we must report the pressure as before...')\n",
    "p_rnd = round(p_const, -1)\n",
    "units=\"N m-2\".translate(SUP)\n",
    "\n",
    "print ('Pressure is = %.0f %s' %(p_rnd, units))\n",
    "```\n",
    "\n",
    "</details>"
   ]
  },
  {
   "cell_type": "markdown",
   "metadata": {},
   "source": [
    "See the all these good practices - [Units](#units), [Scientific Notation](#sci_notation), [Constants](#sci_const) and [String formating](string_form) - in the short code below: "
   ]
  },
  {
   "cell_type": "markdown",
   "metadata": {},
   "source": [
    "<details>\n",
    "    <summary>  <mark> COMPLETE SOLUTION:</mark> </summary>   \n",
    "\n",
    "```python  \n",
    "from scipy import constants \n",
    "\n",
    "# get R\n",
    "R_value=constants.value('molar gas constant')\n",
    "\n",
    "#declare known values\n",
    "n = 1.00 # mol\n",
    "T = 298 # K\n",
    "V = 1.00 # m3\n",
    "    \n",
    "p_rnd = round(p_const, -1)\n",
    "units=\"N m-2\".translate(SUP)\n",
    "\n",
    "print ('Pressure is = %.0f %s' %(p_rnd, units))\n",
    "```\n",
    "\n",
    "</details>"
   ]
  },
  {
   "cell_type": "markdown",
   "metadata": {},
   "source": [
    "\n",
    "[back to start of Scientific Numbers](#scinumb)\n",
    "\n",
    "[back to top](#teabags)\n",
    "\n",
    "-----\n"
   ]
  },
  {
   "cell_type": "markdown",
   "metadata": {},
   "source": [
    "\n",
    "# 2.2 - Errors, a discussion. <a id=\"errors-discuss\"></a>\n",
    "\n",
    "<div class=\"alert alert-info\">\n",
    "    \n",
    "In groups discuss the **errors in the scientific experiment and data handling**. \n",
    "\n",
    "Here are some questions to help you get started:\n",
    "\n",
    "- what kind or errors we often find in the scientific experiment?\n",
    "\n",
    "- are there any less obvious sources that may go unnoticed?\n",
    "\n",
    "- what are the sources of uncertainty? \n",
    "\n",
    "- how can we mitigate the errors?\n",
    "\n",
    "- what about the code we write? Can we make it more reproduseable, minimizing human error? \n",
    "\n",
    "- what are the differences between *random error*, *systematic error* and *mistakes*?\n",
    "\n",
    "- how repeating measurements reduces (or not?) the effect on the above errors? \n",
    "\n",
    "- what is the difference between *accuracy* and *precision*?\n",
    "\n",
    "- can you give examples of the situations where accuracy is important and where it is not?\n",
    "\n",
    "- why repeat measurements are important for characterising accuracy, what about precision?\n",
    "    \n",
    "\n",
    "Drop the ideas into Mentimeter bellow\n",
    "\n",
    "</div>\n",
    "\n",
    "\n"
   ]
  },
  {
   "cell_type": "code",
   "execution_count": 38,
   "metadata": {
    "scrolled": true
   },
   "outputs": [
    {
     "data": {
      "text/html": [
       "<div style='width:100%; height:40vh;'> <iframe src=https://www.menti.com/4y6rg5cn7k height=100% width=70%></iframe> </div>"
      ],
      "text/plain": [
       "<IPython.core.display.HTML object>"
      ]
     },
     "execution_count": 38,
     "metadata": {},
     "output_type": "execute_result"
    }
   ],
   "source": [
    "Mentimeter(vote = 'https://www.menti.com/4y6rg5cn7k').show()\n"
   ]
  },
  {
   "cell_type": "markdown",
   "metadata": {},
   "source": [
    "<div class=\"alert alert-info\">\n",
    "    Rate these these statements?  \n",
    "</div>"
   ]
  },
  {
   "cell_type": "code",
   "execution_count": 6,
   "metadata": {},
   "outputs": [
    {
     "data": {
      "text/html": [
       "<div style='width:100%; height:40vh;'> <iframe src=https://www.menti.com/jt2rna57um height=100% width=70%></iframe> </div>"
      ],
      "text/plain": [
       "<IPython.core.display.HTML object>"
      ]
     },
     "execution_count": 6,
     "metadata": {},
     "output_type": "execute_result"
    }
   ],
   "source": [
    "Mentimeter(vote = 'https://www.menti.com/jt2rna57um').show()\n"
   ]
  },
  {
   "cell_type": "markdown",
   "metadata": {},
   "source": [
    "\n",
    "\n",
    "# BREAK 3 \n",
    "\n",
    "\n",
    "-----"
   ]
  },
  {
   "cell_type": "markdown",
   "metadata": {},
   "source": [
    "Let's see what we got!"
   ]
  },
  {
   "cell_type": "code",
   "execution_count": 40,
   "metadata": {
    "scrolled": true
   },
   "outputs": [
    {
     "data": {
      "text/html": [
       "<div style='width:100%; height:40vh;'> <iframe src=https://www.mentimeter.com/s/236720b73b4e25e6f889292aa111b6fc/5432ad782350 height=100% width=90%></iframe> </div>"
      ],
      "text/plain": [
       "<IPython.core.display.HTML object>"
      ]
     },
     "execution_count": 40,
     "metadata": {},
     "output_type": "execute_result"
    }
   ],
   "source": [
    "Mentimeter(result = 'https://www.mentimeter.com/s/236720b73b4e25e6f889292aa111b6fc/5432ad782350').show()\n"
   ]
  },
  {
   "cell_type": "code",
   "execution_count": 41,
   "metadata": {
    "scrolled": true
   },
   "outputs": [
    {
     "data": {
      "text/html": [
       "<div style='width:100%; height:40vh;'> <iframe src=https://www.mentimeter.com/s/5b7c2eab802c03cd657fb72f85491397/aae255b3658d height=100% width=90%></iframe> </div>"
      ],
      "text/plain": [
       "<IPython.core.display.HTML object>"
      ]
     },
     "execution_count": 41,
     "metadata": {},
     "output_type": "execute_result"
    }
   ],
   "source": [
    "Mentimeter(result = 'https://www.mentimeter.com/s/5b7c2eab802c03cd657fb72f85491397/aae255b3658d').show()\n"
   ]
  },
  {
   "cell_type": "markdown",
   "metadata": {},
   "source": [
    "<br>\n",
    "\n",
    "\n",
    "\n",
    "\n",
    "</br>\n",
    "\n",
    "## 2.2.1 - Sources of Errors and Uncertainties\n",
    " \n",
    " - **Random Error:** \n",
    "     - Noise of the experimental data \n",
    "     - Some scatter of the values \n",
    "     - Repeated careful experiments can reduce this error\n",
    "     - Statistical tools are for dealing with this errors\n",
    "     - Not present in calculations, calculations return same output value (within the precision)\n",
    "     \n",
    "     \n",
    "    \n",
    "     \n",
    " - **Systematic Error:**\n",
    "     - Systematically shifted values by a given value/ percentage\n",
    "     - Must be handled at the source, for example by recalibration of equipment\n",
    "     - May be accounted for during data processing if identified, example shift all weights by 15 g\n",
    "     - Calculations are rarely exact, and so are subject to this error for any approximations that are used\n",
    "     \n",
    "     \n",
    "    \n",
    " \n",
    " - **Mistakes:**\n",
    "     - Mainly human, may be at the equipment or in the code\n",
    "     - Must identify, redo/debug\n"
   ]
  },
  {
   "cell_type": "code",
   "execution_count": 42,
   "metadata": {
    "scrolled": true
   },
   "outputs": [
    {
     "data": {
      "text/html": [
       "<div style='width:100%; height:40vh;'> <iframe src=https://www.menti.com/onje2cuvqi height=100% width=70%></iframe> </div>"
      ],
      "text/plain": [
       "<IPython.core.display.HTML object>"
      ]
     },
     "execution_count": 42,
     "metadata": {},
     "output_type": "execute_result"
    }
   ],
   "source": [
    "Mentimeter(vote = 'https://www.menti.com/onje2cuvqi').show() \n"
   ]
  },
  {
   "cell_type": "code",
   "execution_count": 43,
   "metadata": {
    "scrolled": true
   },
   "outputs": [
    {
     "data": {
      "text/html": [
       "<div style='width:100%; height:40vh;'> <iframe src=https://www.menti.com/al735crdgf2i height=100% width=70%></iframe> </div>"
      ],
      "text/plain": [
       "<IPython.core.display.HTML object>"
      ]
     },
     "execution_count": 43,
     "metadata": {},
     "output_type": "execute_result"
    }
   ],
   "source": [
    "Mentimeter(vote = 'https://www.menti.com/al735crdgf2i').show() "
   ]
  },
  {
   "cell_type": "code",
   "execution_count": 69,
   "metadata": {},
   "outputs": [
    {
     "data": {
      "text/html": [
       "<div style='width:100%; height:40vh;'> <iframe src=https://www.mentimeter.com/s/3b6d06b2865b0e6879d4a8475f6851ab/fc2befb1c275 height=100% width=90%></iframe> </div>"
      ],
      "text/plain": [
       "<IPython.core.display.HTML object>"
      ]
     },
     "execution_count": 69,
     "metadata": {},
     "output_type": "execute_result"
    }
   ],
   "source": [
    "Mentimeter(result = 'https://www.mentimeter.com/s/3b6d06b2865b0e6879d4a8475f6851ab/fc2befb1c275').show()"
   ]
  },
  {
   "cell_type": "code",
   "execution_count": 70,
   "metadata": {
    "scrolled": true
   },
   "outputs": [
    {
     "data": {
      "text/html": [
       "<div style='width:100%; height:40vh;'> <iframe src=https://www.mentimeter.com/app/presentation/almxzuve42xrqyrmyb236r6x9ss2xg1g height=100% width=90%></iframe> </div>"
      ],
      "text/plain": [
       "<IPython.core.display.HTML object>"
      ]
     },
     "execution_count": 70,
     "metadata": {},
     "output_type": "execute_result"
    }
   ],
   "source": [
    "Mentimeter(result = 'https://www.mentimeter.com/app/presentation/almxzuve42xrqyrmyb236r6x9ss2xg1g').show()"
   ]
  },
  {
   "cell_type": "markdown",
   "metadata": {},
   "source": [
    "\n",
    "\n",
    "\n",
    "## 2.2.2 - Accuracy vs Precision\n",
    "\n",
    "<img src=\"images/DartPic2.png\" width=\"500\">\n",
    "\n",
    "\n",
    " - High **precision** = a low spread of results (low random error)\n",
    " - High **accuracy** = that the average result is close to “true” answer (low systematic error)\n",
    "\n",
    "High precision and high accuracy are always desirable, but not always essential.\n",
    "\n",
    "<br>\n",
    "We can only access accuracy and precision from multiple data points!\n"
   ]
  },
  {
   "cell_type": "markdown",
   "metadata": {},
   "source": [
    "\n",
    "[back to top](#teabags)\n",
    "\n",
    "[back to Errors discussion](#errors-discuss)\n",
    "\n",
    "\n",
    "---\n",
    "\n",
    "# Part 3 - Intro to Statistics    <a class=\"anchor\" id=\"STATS\"></a>"
   ]
  },
  {
   "cell_type": "markdown",
   "metadata": {},
   "source": [
    "First, let's return to Plotting! \n",
    "\n",
    "[Previously](#matplot), we have done only very basic plots  with `pyplot`\n",
    "\n",
    "In this section, we will need a little bit more complex plotting, so we will need to switch to Object Oriented Plotting with [matplotlib](http://matplotlib.org).\n",
    "\n",
    "We have also put together a summary, a cheatsheet and an example in this [Reference document](Plotting.ipynb).\n",
    "\n"
   ]
  },
  {
   "cell_type": "markdown",
   "metadata": {},
   "source": [
    "### Object Oriented Plotting <a class=\"anchor\" id=\"matplotOO\"></a>\n",
    "\n",
    "gives us control over many parameters, as illustrated here:\n",
    "\n",
    "<img src=\"images/anatomy-of-a-figure.webp\" width=\"600\">\n",
    "\n",
    "and to achieve this, we should start with declaring an object which is a container for all elements (shown in <span style=\"color:blue\"> *blue* </span>) that are rendered onto the object, i.e. our **figure**.\n",
    "\n",
    "1 - Declare a figure:\n",
    "\n",
    "```python\n",
    "fig, ax = plt.subplots()\n",
    "```\n",
    "\n",
    "<details>\n",
    "    <summary> Here we have only 1 axes, but it can be many </summary>   \n",
    "    \n",
    "```python\n",
    "fig = plt.figure()  # an empty figure with no Axes\n",
    "fig, ax = plt.subplots()  # a figure with a single Axes\n",
    "fig, axs = plt.subplots(2, 2)  # a figure with a 2x2 grid of Axes\n",
    "```\n",
    "</details>\n",
    "\n",
    "<br>\n",
    "\n",
    "\n",
    "\n",
    "2 -  Add the data onto the axes of the plot as:  \n",
    "```python\n",
    "ax.plot(time, distance)\n",
    "```\n",
    "\n",
    "<details>\n",
    "    <summary> We can also include labels, markers, colors  </summary>   \n",
    "    \n",
    "```python\n",
    "ax.plot(x, x, label='linear')  # Plot some data on the axes\n",
    "ax.plot(x, x**2, label='quadratic', 'x')  # Plot more data on the axes...\n",
    "ax.plot(x, x**3, label='cubic', color='orange')  # ... and some more.\n",
    "```\n",
    "</details>\n",
    "\n",
    "<br>\n",
    "\n",
    "3 - Add other elements, such as labels:\n",
    "\n",
    "```python\n",
    "ax.set_ylabel(\"distance (m)\") # Add a y-label to the axes.\n",
    "ax.set_xlabel(\"time (s)\")  # Add an x-label to the axes.\n",
    "ax.set_title(\"My Plot\")  # Add a title to the axes.\n",
    "ax.legend();  # Add a legend.\n",
    "```\n",
    "\n",
    "<br>\n",
    "\n",
    "4 - Adjust figure size and resolution:  \n",
    "\n",
    "```python\n",
    "fig.set_size_inches(6,4)\n",
    "fig.set_dpi(200)\n",
    "```\n",
    "<br>\n",
    "\n",
    "5 - To finish the figure, render it together:\n",
    "\n",
    "```python\n",
    "plt.show()\n",
    "```\n",
    "\n",
    "<br>\n",
    "\n",
    "It is best to try on an example bellow. \n"
   ]
  },
  {
   "cell_type": "markdown",
   "metadata": {},
   "source": [
    "## 3.1 - Statistical Distribution <a class=\"anchor\" id=\"distr\"></a>\n",
    "\n",
    "<div class=\"alert alert-warning\">\n",
    "\n",
    "**Working example**  \n",
    "    \n",
    "\n",
    "The set of 50 samples were weighted in the lab, returning the following results:\n",
    "</div>\n",
    "\n",
    "\n",
    "\n",
    "|Sample No.| Weight, g | |Sample No.| Weight, g |\n",
    "| ----| -----| | ----| -----|\n",
    "| 1 | 12.7867 || 26 | 13.060 |\n",
    "| 2 | 11.2558 || 27 | 12.67 |\n",
    "| 3 | 11.8226 || 28 | 9.284  |\n",
    "| 4 | 14.2157 || 29 | 11.32  |\n",
    "| 5 | 11.9955 || 30 | 12.57 |\n",
    "| 6 | 12.753 || 31 | 11.909 |\n",
    "| 7 | 10.604 || 32 | 12.055 |\n",
    "| 8 | 12.7267 || 33 | 11.98 |\n",
    "| 9 | 11.3204 || 34 | 11.48  |\n",
    "| 10 | 11.3616 || 35 | 10.99  |\n",
    "| 11 | 12.1384 || 36 | 11.79 |\n",
    "| 12 | 12.301 || 37 | 11.357 |\n",
    "| 13 | 11.032 || 38 | 10.196 |\n",
    "| 14 | 10.8086 || 39 | 12.16 |\n",
    "| 15 | 13.58 || 40 | 11.01  |\n",
    "| 16 | 12.59  || 41 | 12.33  |\n",
    "| 17 | 11.93  || 42 | 12.14 |\n",
    "| 18 | 12.41 || 43 | 11.711 |\n",
    "| 19 | 12.426 || 44 | 12.373 |\n",
    "| 20 | 10.435 || 45 | 13.26 |\n",
    "| 21 | 10.39 || 46 | 11.26  |\n",
    "| 22 | 12.89  || 47 | 12.79  |\n",
    "| 23 | 11.49  || 48 | 12.11 |\n",
    "| 24 | 12.45 || 49 | 11.831 |\n",
    "| 25 | 12.022 || 50 | 10.810 |\n",
    "\n",
    "<div class=\"alert alert-warning\"> \n",
    "    The data is stored in a file <code>DATA/Weights.txt</code>, and may have a header! <br> \n",
    "Lets load the data, plot it and get some statistics!\n",
    "</div>\n",
    "\n"
   ]
  },
  {
   "cell_type": "code",
   "execution_count": 7,
   "metadata": {},
   "outputs": [],
   "source": [
    "import numpy as np\n",
    "import matplotlib.pyplot as plt\n",
    "\n",
    "#load data\n",
    "data = np.loadtxt('data/Weights.txt', comments='#')\n"
   ]
  },
  {
   "cell_type": "markdown",
   "metadata": {},
   "source": [
    "Let's plot it\n"
   ]
  },
  {
   "cell_type": "code",
   "execution_count": 45,
   "metadata": {},
   "outputs": [
    {
     "data": {
      "image/png": "[encoded data removed]",
      "text/plain": [
       "<Figure size 432x288 with 1 Axes>"
      ]
     },
     "metadata": {
      "needs_background": "light"
     },
     "output_type": "display_data"
    }
   ],
   "source": [
    "# plot the weights\n",
    "\n",
    "fig, ax = plt.subplots()\n",
    "\n",
    "ax.plot(data[:,0], data[:,1], 'X', color='red')\n",
    "ax.set_xlabel('Sample No.')\n",
    "ax.set_ylabel('Weight, g')\n",
    "\n",
    "plt.show()"
   ]
  },
  {
   "cell_type": "markdown",
   "metadata": {},
   "source": [
    "<details>\n",
    "    <summary>  </summary>   \n",
    "   \n",
    "```python\n",
    "import numpy as np\n",
    "import matplotlib.pyplot as plt\n",
    "\n",
    "#load data\n",
    "data = np.loadtxt('DATA/Weights.txt', comments='#')\n",
    "    \n",
    "fig, ax = plt.subplots()\n",
    "\n",
    "ax.plot(data[:,0], data[:,1], 'X', color='red')\n",
    "ax.set_xlabel('Sample No.')\n",
    "ax.set_ylabel('Weight, g')\n",
    "\n",
    "plt.show()\n",
    "    \n",
    "```\n",
    "</details>"
   ]
  },
  {
   "cell_type": "markdown",
   "metadata": {},
   "source": [
    "---\n",
    "\n",
    "## 3.2 - Distribution of the measurements \n",
    "\n",
    "If we measure the value many times, we should get a distribution, that can be visualized as a **histogram**\n",
    "\n",
    "***Histogram** is a distribution and is characteristic for different statistical (random) processes.*\n",
    "\n",
    "Here, the histogram for a **population** of 50 measurements.\n",
    "\n",
    "Lets get a histogram using the [```numpy.histogram(a, bins=10)```](https://numpy.org/doc/stable/reference/generated/numpy.histogram.html#numpy.histogram)\n",
    "\n",
    "How many bins do you think are needed? Try!"
   ]
  },
  {
   "cell_type": "code",
   "execution_count": 46,
   "metadata": {},
   "outputs": [
    {
     "name": "stdout",
     "output_type": "stream",
     "text": [
      "[1 0 1 2 3 4 7 5 9 7 7 1 1 1 1] [ 9.284    9.61278  9.94156 10.27034 10.59912 10.9279  11.25668 11.58546\n",
      " 11.91424 12.24302 12.5718  12.90058 13.22936 13.55814 13.88692 14.2157 ]\n"
     ]
    }
   ],
   "source": [
    "#calculate a histogram\n",
    "w = data[:,1]\n",
    "counts, bins = np.histogram(w, bins=15)\n",
    "print(counts, bins)"
   ]
  },
  {
   "cell_type": "markdown",
   "metadata": {},
   "source": [
    "<details>\n",
    "    <summary>  </summary>   \n",
    "   \n",
    "```python\n",
    "    \n",
    "w = data[:,1]\n",
    "counts, bins = np.histogram(w, bins=15)\n",
    "print(counts, bins)\n",
    "    \n",
    "```\n",
    "</details>"
   ]
  },
  {
   "cell_type": "markdown",
   "metadata": {},
   "source": [
    "We can now plot it, using ```ax.stairs(counts, bins)```"
   ]
  },
  {
   "cell_type": "code",
   "execution_count": 47,
   "metadata": {},
   "outputs": [
    {
     "data": {
      "text/plain": [
       "[]"
      ]
     },
     "execution_count": 47,
     "metadata": {},
     "output_type": "execute_result"
    },
    {
     "data": {
      "image/png": "[encoded data removed]",
      "text/plain": [
       "<Figure size 432x288 with 1 Axes>"
      ]
     },
     "metadata": {
      "needs_background": "light"
     },
     "output_type": "display_data"
    }
   ],
   "source": [
    "# plot using ax.stairs\n",
    "\n",
    "fig, ax = plt.subplots()\n",
    "\n",
    "ax.stairs(counts, bins)\n",
    "ax.set_ylabel('Weight, g')\n",
    "ax.set_xlabel('Count')\n",
    "\n",
    "plt.plot()\n"
   ]
  },
  {
   "cell_type": "markdown",
   "metadata": {},
   "source": [
    "<details>\n",
    "    <summary>  </summary>   \n",
    "   \n",
    "```python\n",
    "    \n",
    "    \n",
    "fig, ax = plt.subplots()\n",
    "\n",
    "ax.stairs(counts, bins)\n",
    "ax.set_ylabel('Weight, g')\n",
    "ax.set_xlabel('Count')\n",
    "\n",
    "plt.plot()\n",
    "\n",
    "    \n",
    "```\n",
    "</details>"
   ]
  },
  {
   "cell_type": "markdown",
   "metadata": {},
   "source": [
    "Alternatively, we can use a pre-built function ```plt.hist(a, bins=10)```"
   ]
  },
  {
   "cell_type": "code",
   "execution_count": 48,
   "metadata": {},
   "outputs": [
    {
     "data": {
      "text/plain": [
       "[]"
      ]
     },
     "execution_count": 48,
     "metadata": {},
     "output_type": "execute_result"
    },
    {
     "data": {
      "image/png": "[encoded data removed]",
      "text/plain": [
       "<Figure size 432x288 with 1 Axes>"
      ]
     },
     "metadata": {
      "needs_background": "light"
     },
     "output_type": "display_data"
    }
   ],
   "source": [
    "#plot using ax.hist()\n",
    "\n",
    "fig, ax = plt.subplots()\n",
    "\n",
    "ax.hist(w,bins=15)\n",
    "ax.set_ylabel('Weight, g')\n",
    "ax.set_xlabel('Count')\n",
    "plt.plot()"
   ]
  },
  {
   "cell_type": "markdown",
   "metadata": {},
   "source": [
    "<details>\n",
    "    <summary>  </summary>   \n",
    "   \n",
    "```python\n",
    "    \n",
    "fig, ax = plt.subplots()\n",
    "\n",
    "ax.hist(w,bins=15)\n",
    "ax.set_ylabel('Weight, g')\n",
    "ax.set_xlabel('Count')\n",
    "plt.plot()\n",
    "    \n",
    "```\n",
    "</details>"
   ]
  },
  {
   "cell_type": "markdown",
   "metadata": {},
   "source": [
    "### 3.2.1 - Normalizing the data <a class=\"anchor\" id=\"normalise\"></a> \n",
    "\n",
    "In the example above we have created **histogram** with 10 bins (default);<br>\n",
    "If we change the bin number, the distribution changes;<br>\n",
    "If we add more samples, again, it changes and difficult to compare two datasets sets of various size. \n",
    "\n",
    "\n",
    "Therefore, we should express it as a **probability distribution** instead of just a sample count.\n",
    "\n",
    "We can do it by **normalizing** the the data:\n",
    "\n",
    "\\begin{equation}\n",
    "x_{norm} = \\dfrac{x-x_{max}}{x_{max}-x_{min}} ,\n",
    "\\end{equation}\n",
    "\n",
    "where $x$ is the value of the sample being normalised , while $x_{max}$ and $x_{min}$ are the maximum and minimum values.\n",
    "\n",
    "\n",
    "We can do it by writing such function:\n",
    "\n",
    "```python\n",
    "def normalise(data):\n",
    "    max_value = max(data)\n",
    "    min_value = min(data)\n",
    "    for i in range(len(data)):\n",
    "        data[i] = (data[i] - min_value)/(max_value - min_value)\n",
    "    return data  \n",
    "n_ints = normalise(data[:, 1])*100 #if you want it in %\n",
    "```\n",
    "\n",
    "Or, you can also use ```np.histogram(w, bins=15, density=True)``` to obtain a probability density, i.e. a normalised histogram\n"
   ]
  },
  {
   "cell_type": "markdown",
   "metadata": {},
   "source": [
    "<div class=\"alert alert-warning\">\n",
    "    \n",
    " - What does this histogram tell us about the data?\n",
    "    \n",
    " - How do **random** and **systematic errors** show up in histograms like his one? \n",
    "</div>\n",
    "\n",
    "\n",
    "This is another way to show the **accuracy** vs **precision** we saw on the 'dart board':\n",
    "\n",
    "<img src=\"images/Accuracy_Precision.png\" width=\"500\">\n",
    "\n",
    "\n",
    "\n",
    "\n",
    "[back to STATS](#\"STATS\")\n",
    "\n",
    "[back to top](#teabags)\n",
    "\n",
    "----"
   ]
  },
  {
   "cell_type": "markdown",
   "metadata": {},
   "source": [
    "### 3.2.3 - Quantifying Uncertainty <a class=\"anchor\" id=\"uncert\"></a> \n",
    "\n",
    "Lets analyse this data a bit more to quantify the **uncertainties**.\n",
    "\n",
    "We first represent data as a **normal distribution** of the population,\n",
    "is Gaussian centered around the **mean value** and having a spread of the **standard deviation**. \n",
    "\n",
    "\n",
    "### The mean, $\\mu$ <a class=\"anchor\" id=\"mean\"></a> \n",
    "\n",
    "\\begin{equation}\n",
    "\\mu = \\frac{1}{N} \\sum_i^N x_i ,\n",
    "\\end{equation}\n",
    "\n",
    "where $N$ is a number of samples, as as they increase the mean becomes closer to the 'true' value. \n",
    "\n",
    "\n",
    "```python\n",
    "mu = np.sum(a) / len(a)\n",
    "```\n",
    "\n",
    "or as a `np.mean(a)`.\n",
    "\n",
    "\n",
    "_Note:_ **Median** is a middle value separating the greater and lesser halves of a data set, since the normal distribution is symmetric, mean and median are equivalent. \n",
    "\n",
    "\n",
    "\n",
    "### The standard deviation (STD), $\\sigma$<a class=\"anchor\" id=\"STD\"></a> \n",
    "quantifies how much the numbers in our set deviate from the mean, $\\mu$\n",
    "\n",
    "\\begin{equation}\n",
    "\\sigma = \\sqrt{\\frac{1}{N}\\sum_{i=1}^N(x_i-\\mu)^2}.\n",
    "\\end{equation}\n",
    "\n",
    "it can be written as:\n",
    "\n",
    "```python\n",
    "import math\n",
    "sigma = math.sqrt( np.sum( ( a - np.mean(a))**2 ) / len(a) )\n",
    "```\n",
    "\n",
    "or as `np.std(a)`.\n",
    "\n",
    "\n",
    "\n",
    "On a **normal distribution** the values that are less than 1 $\\sigma$ away from the mean, $\\mu$, will account for the 68.27% of the set - this is our **confidence interval**\n",
    "\n",
    "\n",
    "\\begin{equation}\n",
    "f(x) = \\frac{1}{\\sigma \\sqrt{2 \\pi} }  exp\\left(\\frac{-(x-\\mu)^2}{2\\sigma^2} \\right)\n",
    "\\end{equation}\n",
    "\n",
    "\n",
    "\n",
    "<img src=\"images/NormalDist.png\" width=\"500\">\n",
    "\n"
   ]
  },
  {
   "cell_type": "markdown",
   "metadata": {},
   "source": [
    "-----\n",
    "\n",
    "#### In summary, \n",
    "\n",
    "you can now benefit from a **collection of methods** within numpy to process and analyse your data\n",
    "\n",
    " - `numpy.min(a)` find min value in the array\n",
    " - `numpy.argmin(a)` find position (AKA index) of the min value in the array\n",
    " - `numpy.max(a)` find max value in the array\n",
    " - `numpy.argmax(a)` find position (AKA index) of the max value in the array\n",
    " - `numpy.unique(a)` selects a subset of unique elements\n",
    " - `numpy.sort(a)` sorts the array max to min\n",
    " - `numpy.sum(a)` sum the elements of an array\n",
    " - `numpy.mean(a)` and `numpy.std(a)` compute mean and standard deviation of array values\n",
    " - `numpy.median(a)` \n"
   ]
  },
  {
   "cell_type": "markdown",
   "metadata": {},
   "source": [
    "\n",
    "<div class=\"alert alert-warning\">\n",
    "    \n",
    "**Working Example:**  \n",
    "Analyse the data on the weights of 50 samples given above,    \n",
    "find the lightest and the heaviest sample,   <br>\n",
    "calculate the mean and standanrd deviation,    \n",
    "plotting a normal distribution for this data.   \n",
    "    \n",
    "</div>"
   ]
  },
  {
   "cell_type": "code",
   "execution_count": 49,
   "metadata": {},
   "outputs": [
    {
     "name": "stdout",
     "output_type": "stream",
     "text": [
      "Lightest sample weight 9.284 g and sample no. is 28 \n",
      "Heaviest sample weight 14.2157 g and sample no. is 4 \n",
      "The mean value is 11.883619999999999\n",
      "Standard deviation is 0.9125228538507952\n"
     ]
    }
   ],
   "source": [
    "\n",
    "# Get some statistics\n",
    "#  smallest value and its index\n",
    "print('Lightest sample weight %s g and sample no. is %s ' %\n",
    "      (np.min(w), np.argmin(w) + 1))\n",
    "#  biggest value and its index\n",
    "print('Heaviest sample weight %s g and sample no. is %s ' %\n",
    "      (np.max(w), np.argmax(w) + 1))\n",
    "\n",
    "# note we add +1 tp the argmin/argmax, as those begin count at 0, \n",
    "# while out samples are counteed from 1\n",
    "\n",
    "print('The mean value is %s' % np.mean(w))  # mean\n",
    "print('Standard deviation is %s' %\n",
    "      np.std(w))  # compute standard deviation of array values"
   ]
  },
  {
   "cell_type": "markdown",
   "metadata": {},
   "source": [
    "<details>\n",
    "    <summary>   </summary>   \n",
    "\n",
    "```python\n",
    "    \n",
    "# Get some statistics\n",
    "#  smallest value and its index\n",
    "print('Lightest sample weight %s g and sample no. is %s ' %\n",
    "      (np.min(w), np.argmin(w) + 1))\n",
    "#  biggest value and its index\n",
    "print('Heaviest sample weight %s g and sample no. is %s ' %\n",
    "      (np.max(w), np.argmax(w) + 1))\n",
    "\n",
    "# note we add +1 tp the argmin/argmax, as those begin count at 0, \n",
    "# while out samples are counteed from 1\n",
    "\n",
    "print('The mean value is %s' % np.mean(w))  # mean\n",
    "print('Standard deviation is %s' %\n",
    "      np.std(w))  # compute standard deviation of array values\n",
    "\n",
    "\n",
    "```\n",
    "\n",
    "</details>"
   ]
  },
  {
   "cell_type": "markdown",
   "metadata": {},
   "source": [
    "we will use [`scipy.stats` python package](https://docs.scipy.org/doc/scipy/reference/generated/scipy.stats.norm.html#scipy.stats.norm) to plot the **normal probability distribution** of our data.\n",
    "\n",
    "```python\n",
    "stats.norm.pdf(a, loc, scale)\n",
    "```\n",
    "where the `loc` specifies the mean and `scale` specifies standard deviation.\n",
    "\n",
    "Let's try to use it for our data.\n"
   ]
  },
  {
   "cell_type": "code",
   "execution_count": 50,
   "metadata": {},
   "outputs": [],
   "source": [
    "#calculate the distribution probability at each X\n",
    "from scipy import stats\n",
    "    \n",
    "pdf = stats.norm.pdf(w, loc=np.mean(w), scale=np.std(w))\n"
   ]
  },
  {
   "cell_type": "markdown",
   "metadata": {},
   "source": [
    "<details>\n",
    "    <summary>   </summary>   \n",
    "\n",
    "```python\n",
    "from scipy import stats\n",
    "    \n",
    "pdf = stats.norm.pdf(w, loc=np.mean(w), scale=np.std(w))\n",
    "\n",
    "```\n",
    "</details>"
   ]
  },
  {
   "cell_type": "markdown",
   "metadata": {},
   "source": [
    "Create a plot, that will present:\n",
    "- a normalised histogram, shaded with a transparency \n",
    "- a line for each mean and median (are they same?)\n",
    "- normalised probability distribution\n",
    "- make sure the plot is labeled"
   ]
  },
  {
   "cell_type": "code",
   "execution_count": 51,
   "metadata": {},
   "outputs": [
    {
     "data": {
      "image/png": "[encoded data removed]",
      "text/plain": [
       "<Figure size 432x288 with 1 Axes>"
      ]
     },
     "metadata": {
      "needs_background": "light"
     },
     "output_type": "display_data"
    }
   ],
   "source": [
    "# plot\n",
    "fig, ax = plt.subplots(1, 1)\n",
    "\n",
    "# add a normalised histogram\n",
    "ax.hist(w, density='True', bins = 10, color='lime', alpha=0.2, label='histogram')\n",
    "\n",
    "# add mean, as a line\n",
    "ax.axvline(np.mean(w), color='darkorange', label='mean')\n",
    "ax.axvline(np.median(w), color='magenta', label='median')\n",
    "\n",
    "\n",
    "# add a PDF\n",
    "ax.plot(w, pdf, '.', label='normal distribution')\n",
    "\n",
    "ax.set_xlabel('Weight, g')\n",
    "ax.set_ylabel('Probability, p(W)')\n",
    "\n",
    "plt.legend()\n",
    "plt.show()"
   ]
  },
  {
   "cell_type": "markdown",
   "metadata": {},
   "source": [
    "<details>\n",
    "    <summary>   </summary>   \n",
    "\n",
    "```python\n",
    "    \n",
    "# plot\n",
    "fig, ax = plt.subplots(1, 1)\n",
    "\n",
    "# add a normalised histogram\n",
    "ax.hist(w, density='True', bins = 10, color='lime', alpha=0.2, label='histogram')\n",
    "\n",
    "# add mean, as a line\n",
    "ax.axvline(np.mean(w), color='darkorange', label='mean')\n",
    "ax.axvline(np.median(w), color='magenta', label='median')\n",
    "\n",
    "\n",
    "# add a PDF\n",
    "ax.plot(w, pdf, '.', label='normal distribution')\n",
    "\n",
    "ax.set_xlabel('Weight, g')\n",
    "ax.set_ylabel('Probability, p(W)')\n",
    "\n",
    "plt.legend()\n",
    "plt.show()\n",
    "```\n",
    "\n",
    "</details>"
   ]
  },
  {
   "cell_type": "markdown",
   "metadata": {},
   "source": [
    "[back to top](#teabags)\n",
    "\n",
    "\n",
    "---"
   ]
  },
  {
   "cell_type": "markdown",
   "metadata": {},
   "source": [
    "\n",
    "<div class=\"alert alert-success\">\n",
    "    \n",
    "**TASK :**  Analyse the kinetic data for reaction at 250 and 300 K given bellow.\n",
    "    \n",
    "Plot a relative likelihood that a particular value of rateconstant, K would be measured, showing the relative probability of each K.\n",
    "    \n",
    "Produce a histogram for the data.    \n",
    "</div>"
   ]
  },
  {
   "cell_type": "code",
   "execution_count": null,
   "metadata": {},
   "outputs": [],
   "source": [
    "# some rates, K, at a T\n",
    "\n",
    "K_250 = np.array([2.567111, 2.562323, 2.61557, 2.4366565, 2.495657, 2.516454, 3.671456])\n",
    "K_300 = np.array([2.5700804, 2.5660756, 2.6201404, 2.437922,  2.4999964, 2.5190192, 3.6754052])"
   ]
  },
  {
   "cell_type": "code",
   "execution_count": null,
   "metadata": {},
   "outputs": [],
   "source": [
    "\n",
    "\n"
   ]
  },
  {
   "cell_type": "markdown",
   "metadata": {},
   "source": [
    "<details>\n",
    "    <summary>  <mark> EXAMPLE SOLUTION:</mark> </summary>   \n",
    "\n",
    "```python\n",
    "\n",
    "import numpy as np\n",
    "import matplotlib.pyplot as plt\n",
    "from scipy import stats\n",
    "\n",
    "print(\"250 K mean = %.3f, std = %.3f\"%(np.mean(K_250), np.std(K_250)))\n",
    "print(\"300 K mean = %.3f, std = %.3f\"%(np.mean(K_300), np.std(K_300)))\n",
    "\n",
    "#generate 100 linearly spaced X values \n",
    "#start a bit before and finish a bit after the min and max of K_250\n",
    "strt=np.min(K_250)-0.5\n",
    "fin=np.max(K_250)+0.5\n",
    "x = np.linspace(strt, fin, 100)\n",
    "\n",
    "#calculate the distribution probability at each X\n",
    "y = stats.norm.pdf(x, loc=np.mean(K_250), scale=np.std(K_250))\n",
    "\n",
    "#plot\n",
    "plt.plot(x, y, '.')\n",
    "plt.xlabel('Rate, K')\n",
    "plt.ylabel('Population, p(K)')\n",
    "plt.show()\n",
    "\n",
    "\n",
    "dist = stats.norm(loc=np.mean(K_250), scale=np.std(K_250))\n",
    "values = dist.rvs(5000)\n",
    "\n",
    "#plot a histogram\n",
    "plt.hist(values, density=True, bins=50, alpha=0.5)\n",
    "\n",
    "#use min and max of random numbers to create a range\n",
    "x = np.linspace(values.min(), values.max(), 100)\n",
    "\n",
    "# Plot the probability in that range\n",
    "plt.plot(x, dist.pdf(x))\n",
    "plt.xlabel('Rate, K')\n",
    "plt.ylabel('Population, p(K)')\n",
    "plt.show() \n",
    "```\n",
    "</details>"
   ]
  },
  {
   "cell_type": "markdown",
   "metadata": {},
   "source": [
    "\n",
    "\n",
    "[back to STATS](#\"STATS\")\n",
    "\n",
    "[back to top](#teabags)\n",
    "\n",
    "----\n",
    "\n",
    "# END of the session !\n",
    "\n",
    "\n",
    "Please give us feedback:\n"
   ]
  },
  {
   "cell_type": "code",
   "execution_count": 52,
   "metadata": {},
   "outputs": [
    {
     "data": {
      "text/html": [
       "<div style='width:100%; height:40vh;'> <iframe src=https://www.menti.com/alnjrxqem6ap height=100% width=70%></iframe> </div>"
      ],
      "text/plain": [
       "<IPython.core.display.HTML object>"
      ]
     },
     "execution_count": 52,
     "metadata": {},
     "output_type": "execute_result"
    }
   ],
   "source": [
    "Mentimeter(vote = 'https://www.menti.com/alnjrxqem6ap').show()"
   ]
  },
  {
   "cell_type": "code",
   "execution_count": null,
   "metadata": {},
   "outputs": [],
   "source": []
  }
 ],
 "metadata": {
  "kernelspec": {
   "display_name": "Python 3 (ipykernel)",
   "language": "python",
   "name": "python3"
  },
  "language_info": {
   "codemirror_mode": {
    "name": "ipython",
    "version": 3
   },
   "file_extension": ".py",
   "mimetype": "text/x-python",
   "name": "python",
   "nbconvert_exporter": "python",
   "pygments_lexer": "ipython3",
   "version": "3.8.13"
  }
 },
 "nbformat": 4,
 "nbformat_minor": 4
}

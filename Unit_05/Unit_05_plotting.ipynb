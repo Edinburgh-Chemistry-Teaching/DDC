{
 "cells": [
  {
   "cell_type": "markdown",
   "metadata": {},
   "source": [
    "# Unit 05: Introduction to plotting\n",
    "\n",
    "<a rel=\"license\" href=\"http://creativecommons.org/licenses/by/4.0/\"><img alt=\"Creative Commons Licence\" style=\"border-width:0\" src=\"https://i.creativecommons.org/l/by/4.0/88x31.png\" title='This work is licensed under a Creative Commons Attribution 4.0 International License.' align=\"right\"/></a>\n",
    "\n",
    "Author: Dr Valentina Erastova, Dr Matteo Degiacomi, Dr Antonia SJS Mey, Hannah Pollak\n",
    "\n",
    "Email: <valentina.erastova@ed.ac.uk>, <antonia.mey@ed.ac.uk>\n"
   ]
  },
  {
   "cell_type": "markdown",
   "metadata": {},
   "source": [
    "## Learning objectives  <a id=\"learning\"></a>\n",
    "\n",
    "During this session you will learn about:\n",
    "\n",
    "By the end of this unit, you should be able to \n",
    "* use the `numpy` library \n",
    "* perform mathematical operations on `numpy` arrays in 1D and in 2D\n",
    "* access parts of arrays\n",
    "* load arrays to or from files\n",
    "* plot data using `matplotlib`\n",
    "* understand sources of errors and how to mitigate them\n",
    "* analyse numerical data statistically using in-built functions\n",
    "* quantify uncertainties\n",
    "\n",
    "Some of the material was adapted from [Dr Matteo Degiacomi](https://github.com/Degiacomi-Lab/python4science/blob/master/2_Python_numerical_data.ipynb).\n"
   ]
  },
  {
   "cell_type": "markdown",
   "metadata": {},
   "source": [
    "# Table of contents\n",
    "\n",
    "* [1. Arrays and NumPy](#1-arrays-and-numpy)\n",
    "    * [1.1 1D Arrays](#11-1d-arrays)\n",
    "* [Tasks 1](#tasks-1)\n",
    "* [2. Mathematical operations on 1D arrays](#2-mathematical-operations-on-1d-arrays)\n",
    "* [3. Accessing slices of 1D arrats](#3-accessing-slices-of-1d-arrays)\n",
    "* [4. Multidimensional arrays](#4-multidimensional-arrays)\n",
    "    * [4.1 Generating 2D arrays](#41-generating-2d-arrays)\n",
    "    * [4.2 Slicing 2D arrays](#42-slicing-2d-arrays)\n",
    "* [Tasks 2](#tasks-2)\n",
    "* [5. Mathematical operations on multidimensional arrays](#)\n",
    "* [6. Plotting data](#6-plotting-data)\n",
    "    * [6.1 Quick aside on string formatting](#61-quick-aside-on-string-formatting) \n",
    "* [7. Errors: a discussion](#7-errors)\n",
    "    * [7.1 Sources of Errors and Uncertainties](#71-sources-of-errors-and-uncertainties)\n",
    "    * [7.2 Accuracy vs Precision](#72-accuracy-vs-precision)\n",
    "* [8. Introduction to Statistics](#8-introduction-to-statistics)\n",
    "    * [8.1 Statistical distributions](#81-statistical-distributions)\n",
    "    * [8.2 Distribution of measurements](#82-distribution-of-measurements)\n",
    "    * [8.3 Quantifying Uncertainty](#83-quantifying-uncertainty)\n",
    "* [Recap](#recap)\n",
    "* [Feedback](#feedback)\n"
   ]
  },
  {
   "cell_type": "markdown",
   "metadata": {},
   "source": [
    "**<span style=\"color:black\">Jupyter Cheat Sheet</span>**\n",
    "- To run the currently highlighted cell and move focus to the next cell, hold <kbd>&#x21E7; Shift</kbd> and press <kbd>&#x23ce; Enter</kbd>;\n",
    "- To run the currently highlighted cell and keep focus in the same cell, hold <kbd>&#x21E7; Ctrl</kbd> and press <kbd>&#x23ce; Enter</kbd>;\n",
    "- To get help for a specific function, place the cursor within the function's brackets, hold <kbd>&#x21E7; Shift</kbd>, and press <kbd>&#x21E5; Tab</kbd>;"
   ]
  },
  {
   "cell_type": "markdown",
   "metadata": {},
   "source": [
    "### Links to documentation\n",
    "\n",
    "You can find useful information about using `numpy` and `matplotlib` at\n",
    "* [NumPy](https://numpy.org)\n",
    "* [matplotlib](https://matplotlib.org)\n"
   ]
  },
  {
   "cell_type": "markdown",
   "metadata": {},
   "source": [
    "### Further reading for this topic\n",
    "\n",
    "# FIXME"
   ]
  },
  {
   "cell_type": "markdown",
   "metadata": {},
   "source": [
    "# Import libraries"
   ]
  },
  {
   "cell_type": "code",
   "execution_count": null,
   "metadata": {},
   "outputs": [],
   "source": [
    "import numpy as np\n",
    "import matplotlib.pyplot as plt\n",
    "%matplotlib inline\n",
    "\n",
    "# Make the helper functions accessible\n",
    "import sys\n",
    "import os.path\n",
    "sys.path.append(os.path.abspath('../'))\n",
    "from helper_functions.mentimeter import Mentimeter"
   ]
  },
  {
   "cell_type": "markdown",
   "metadata": {},
   "source": [
    "# 1. Arrays and NumPy <a id=\"1-arrays-and-numpy\"></a>"
   ]
  },
  {
   "cell_type": "markdown",
   "metadata": {},
   "source": [
    "An **array** is a smart way of storing multidimensional numerical data.\n",
    "\n",
    "**NumPy**, which stands for *Numerical Python*, is a module consisting of multidimensional array objects and a collection of routines for processing those arrays. \n",
    "\n",
    "We can use NumPy to perform mathematical and logical operations on arrays.\n",
    "\n",
    "NumPy is a base for many other modules, including Pandas, and so they can be used together."
   ]
  },
  {
   "cell_type": "markdown",
   "metadata": {},
   "source": [
    "## Import the NumPy library\n",
    "\n",
    "For NumPy, the standard-practice alias is `np.`:"
   ]
  },
  {
   "cell_type": "code",
   "execution_count": null,
   "metadata": {},
   "outputs": [],
   "source": [
    "import numpy as np"
   ]
  },
  {
   "cell_type": "markdown",
   "metadata": {},
   "source": [
    "## 1.1 1D Arrays <a id=\"11-1d-arrays\"></a>\n",
    "\n",
    "NumPy arrays can only contain **one datatype**, i.e. all integers, all floats, etc. This is in contrast to lists, which can contain a mix of datatypes.\n"
   ]
  },
  {
   "cell_type": "markdown",
   "metadata": {},
   "source": [
    "### Creating 1D arrays \n",
    "\n",
    "To create an array of integers (single numbers like 1, 2, 3, 4, 5) we can do it by converting a list to an array as:\n",
    "\n",
    "```python\n",
    "import numpy as np\n",
    "\n",
    "my_list = [1, 2, 3, 4, 5]\n",
    "\n",
    "my_array = np.array(my_list)\n",
    "```\n"
   ]
  },
  {
   "cell_type": "markdown",
   "metadata": {},
   "source": [
    "### Example 1"
   ]
  },
  {
   "cell_type": "code",
   "execution_count": null,
   "metadata": {},
   "outputs": [],
   "source": [
    "# Create a 1D numpy array:\n",
    "\n",
    "# FIXME"
   ]
  },
  {
   "cell_type": "markdown",
   "metadata": {},
   "source": [
    "<details><summary {style=\"color:green;font-weight:bold\"}> Click here to see the solution to Example 1.</summary>\n",
    "\n",
    "```python\n",
    "a = [1, 2, 3, 4, 5] # Your list can be of any length\n",
    "my_array = np.array(a)\n",
    "```"
   ]
  },
  {
   "cell_type": "markdown",
   "metadata": {},
   "source": [
    "### Example 2\n",
    "\n",
    "Let's look at some of the **properties** of our array. \n",
    "\n",
    "How do you get the **dimensions**, **shape**, **size** and **datatype** of an array?"
   ]
  },
  {
   "cell_type": "code",
   "execution_count": null,
   "metadata": {},
   "outputs": [],
   "source": [
    "# Create a 1D array\n",
    "\n",
    "# Check the properties of this 1D array\n",
    "\n",
    "# dimensions?\n",
    "\n",
    "# shape?\n",
    "\n",
    "# size? \n",
    "\n",
    "# datatype?\n"
   ]
  },
  {
   "cell_type": "markdown",
   "metadata": {},
   "source": [
    "<details><summary {style=\"color:green;font-weight:bold\"}>Click here to see the solution to Example 2.</summary>\n",
    "\n",
    "```python\n",
    "# Create a 1D array\n",
    "a = [1, 2, 3, 4, 5]\n",
    "my_array = np.array(a)\n",
    "\n",
    "# Check the properties of this 1D array\n",
    "print(f\"Dimensions {my_array.ndim}\")\n",
    "print(f\"Shape {my_array.shape}\")\n",
    "print(f\"Size {my_array.size}\")\n",
    "print(f\"Datatype {my_array.dtype}\")\n",
    "```"
   ]
  },
  {
   "cell_type": "markdown",
   "metadata": {},
   "source": [
    "### Example 3\n",
    "\n",
    "We can also use **functions** to generate arrays.\n",
    "\n",
    "Similarly to the in-built function `range`, we can generate one-dimensional arrays of equally-spaced numbers with:\n",
    "* `np.linspace(start, end, quantity)` or\n",
    "* `np.arange(start, end, step_size)`"
   ]
  },
  {
   "cell_type": "markdown",
   "metadata": {},
   "source": [
    "We can also generate multidimensional arrays filled with zeros or ones with NumPy functions:\n",
    "* `np.zeros(shape)`\n",
    "* `np.ones(shape)`\n",
    "\n",
    "where `shape` has to be an `int` for 1D arrays and `tuple`, such as `(5, 6)`, for creating a 2D array."
   ]
  },
  {
   "cell_type": "markdown",
   "metadata": {},
   "source": [
    "**Let's use `np.zeros(shape)` to create a 1D array full of zeros:**"
   ]
  },
  {
   "cell_type": "code",
   "execution_count": null,
   "metadata": {},
   "outputs": [],
   "source": [
    "# FIXME\n"
   ]
  },
  {
   "cell_type": "markdown",
   "metadata": {},
   "source": [
    "<details><summary {style=\"color:green;font-weight:bold\"}> Click here to see the solution to Example 4. </summary>\n",
    "\n",
    "```python\n",
    "z = np.zeros(10)\n",
    "print(f\"My array of zeros {z} is of type {z.dtype}\")\n",
    "\n",
    "```"
   ]
  },
  {
   "cell_type": "markdown",
   "metadata": {},
   "source": [
    "# Tasks 1 <a id=\"tasks-1\"></a>\n",
    "\n",
    "We will continue to generate 1D arrays, access parts of an array and perform some mathematical operations on them. \n"
   ]
  },
  {
   "cell_type": "markdown",
   "metadata": {},
   "source": [
    "<div class=\"alert alert-success\">\n",
    "    <b>Task 1.1 </b> : Generate a 1D array of length 5, filled with ones.\n",
    "</div>\n",
    "\n"
   ]
  },
  {
   "cell_type": "code",
   "execution_count": null,
   "metadata": {},
   "outputs": [],
   "source": [
    "# FIXME\n",
    "\n"
   ]
  },
  {
   "cell_type": "markdown",
   "metadata": {},
   "source": [
    "<details><summary {style=\"color:green;font-weight:bold\"}> Click here to see the solution to Task 1.1 </summary>\n",
    "\n",
    "```python\n",
    "ones = np.ones(5)\n",
    "print(f\"Array of five ones: {ones}\")\n",
    "```"
   ]
  },
  {
   "cell_type": "markdown",
   "metadata": {},
   "source": [
    "<div class=\"alert alert-success\"><b> Task 1.2: Create an array with `np.arange`</b>\n",
    "\n",
    "Using `np.arange`, create a 1D array as a sequence from 0 to 20 in steps of 2.\n",
    "\n",
    "</div>"
   ]
  },
  {
   "cell_type": "code",
   "execution_count": null,
   "metadata": {},
   "outputs": [],
   "source": [
    "# FIXME"
   ]
  },
  {
   "cell_type": "markdown",
   "metadata": {},
   "source": [
    "<details><summary {style=\"color:green;font-weight:bold\"}> Click here to see the solution to Task 1.2</summary>\n",
    "\n",
    "```python\n",
    "sequence = np.arange(0, 21, 2) \n",
    "print(sequence)\n",
    "```"
   ]
  },
  {
   "cell_type": "markdown",
   "metadata": {},
   "source": [
    "<div class=\"alert alert-success\"><b>Question</b>: What number did you have to stop at to include 20 as a last number? Why?\n",
    "</div>"
   ]
  },
  {
   "cell_type": "markdown",
   "metadata": {},
   "source": [
    "<details><summary {style=\"color:green;font-weight:bold\"}>Click here to see the answer to the above question.</summary>\n",
    "\n",
    "Python starts counting from 0 and in `np.arange(start, stop, step)`, the `stop` value is not inclusive."
   ]
  },
  {
   "cell_type": "markdown",
   "metadata": {},
   "source": [
    "<div class=\"aler alert-warning\"><b> Advanced task 1.3</b> <a id=\"task-13\"></a>\n",
    "\n",
    "Find the last number in an array `np.arange(0, 20, 2)`.\n",
    "\n",
    "Is the answer as you expected?\n",
    "</div>"
   ]
  },
  {
   "cell_type": "code",
   "execution_count": null,
   "metadata": {},
   "outputs": [],
   "source": [
    "# FIXME"
   ]
  },
  {
   "cell_type": "markdown",
   "metadata": {},
   "source": [
    "<details><summary {style=\"color:green;font-weight:bold\"}>Click here to see the solution to the Advanced task 1.3.</summary>\n",
    "\n",
    "```python\n",
    "a = np.arange(0, 20, 2)\n",
    "last = a[-1]\n",
    "print(last)\n",
    "```\n"
   ]
  },
  {
   "cell_type": "markdown",
   "metadata": {},
   "source": [
    "<div class=\"alert alert-success\"><b> Task 1.4: Generate another array</b>\n",
    "\n",
    "Generate the same array as we did with `np.arange(0, 20, 2)` but this time using `np.linspace(start, stop, n_steps)`.\n",
    "\n",
    "How do these two functions differ?\n",
    "\n",
    "</div>"
   ]
  },
  {
   "cell_type": "code",
   "execution_count": null,
   "metadata": {},
   "outputs": [],
   "source": [
    "# FIXME\n"
   ]
  },
  {
   "cell_type": "markdown",
   "metadata": {},
   "source": [
    "<details><summary {style=\"color:green; font-weight:bold\"}> Click here to see the solution to Task 1.4</summary>\n",
    "\n",
    "```python\n",
    "b = np.linspace(0, 20, 11)\n",
    "print(b)\n",
    "```\n",
    "\n",
    "Note that in this case, the end point is included in the generated array. This is also explained in the [documentation](https://numpy.org)."
   ]
  },
  {
   "cell_type": "markdown",
   "metadata": {},
   "source": [
    "# 2. Mathematical operations on 1D arrays <a id=\"2-mathematical-operations-on-1d-arrays\"></a>\n",
    "\n",
    "All mathematical operations between NumPy arrays act element by element. This is not the same for lists, which is why using NumPy is so useful. \n",
    "\n",
    "Operations with scalar numbers act on every element of the array. \n",
    "\n",
    "For example:\n",
    "\n",
    "If we define: \n",
    "```python\n",
    "a = np.array([1, 2, 3])\n",
    "b = np.array([0, 1, 2])\n",
    "```\n",
    "then\n",
    "* `a * b` returns the array `[0, 2, 6]`\n",
    "* `a - b` returns the array `[1, 1, 1]`\n",
    "* `a + 1` returns the array `[2, 3, 4]`\n",
    "\n",
    "We can see that an array behaves much like *vectors* in maths. They can be used to conduct mathematical operations in a compact way. If we were using *lists*, we would have to loop through each element of the list to perform similar operations.\n",
    "\n",
    "We will see some examples of this below."
   ]
  },
  {
   "cell_type": "markdown",
   "metadata": {},
   "source": [
    "<div class=\"alert alert-success\"><b> Task 1.5: Add a scalar to an array </b>\n",
    "\n",
    "Create an array called `my_array` containing the numbers 3, 6, 7, 2 and 8. Add the number 3 to every number of the array.\n",
    "\n",
    "</div>"
   ]
  },
  {
   "cell_type": "code",
   "execution_count": null,
   "metadata": {},
   "outputs": [],
   "source": [
    "# FIXME\n"
   ]
  },
  {
   "cell_type": "markdown",
   "metadata": {},
   "source": [
    "<details><summary {style=\"color:green; font-weight:bold\"}> Click here to see the solution to Task 1.5 </summary>\n",
    "\n",
    "```python\n",
    "\n",
    "my_array = np.array([3, 6, 7, 2, 8])\n",
    "\n",
    "new_array = my_array + 2\n",
    "\n",
    "print(f\"my_array + 3 = {new_array}\")\n",
    "```"
   ]
  },
  {
   "cell_type": "markdown",
   "metadata": {},
   "source": [
    "We can also do mathematical operations between two arrays. \n",
    "\n",
    "**Note** the arrays have to be same dimensions."
   ]
  },
  {
   "cell_type": "markdown",
   "metadata": {},
   "source": [
    "<div class=\"alert alert-success\">\n",
    "    <b>Task 1.6: Mathematical operations between two arrays.</b>\n",
    "\n",
    "   Create 2 arrays of your liking and perform mathematical operations.\n",
    "   \n",
    "   For example - multiply them, substract one from another and add them up.\n",
    "   \n",
    "   Print the answers.\n",
    "</div>\n",
    "\n",
    "\n"
   ]
  },
  {
   "cell_type": "code",
   "execution_count": null,
   "metadata": {},
   "outputs": [],
   "source": [
    "# FIXME\n",
    "a = \n",
    "b = \n",
    "\n",
    "print(f\"multiplication a * b = {___}\")\n",
    "print(f\"substraction a - b = {___}\")\n",
    "print(f\"addition a + b = {___}\")\n"
   ]
  },
  {
   "cell_type": "markdown",
   "metadata": {},
   "source": [
    "<details><summary {style=\"color:green; font-weight:bold\"}> Click here to see solution to Task 1.6 </summary>\n",
    "\n",
    "```python\n",
    "a = np.array([1, 2, 4])\n",
    "b = np.array([0, 1, 2])\n",
    "\n",
    "print(f\"multiplication a * b = {a * b}\")\n",
    "print(f\"substraction a - b = {a - b}\")\n",
    "print(f\"addition a + b = {a + b}\")\n",
    "```"
   ]
  },
  {
   "cell_type": "markdown",
   "metadata": {},
   "source": [
    " <div class=\"alert alert-success\">\n",
    "    <b>Task 1.7: Square each value in an `my_array`</b> \n",
    "</div>"
   ]
  },
  {
   "cell_type": "markdown",
   "metadata": {},
   "source": [
    "<div class=\"alert alert-info\"><b> Hint</b>\n",
    "\n",
    "You can use `**` as an operator to raise to a power, i.e. $x^2$ would be written as `x**2` in python.\n",
    "\n",
    "</div>"
   ]
  },
  {
   "cell_type": "code",
   "execution_count": null,
   "metadata": {},
   "outputs": [],
   "source": [
    "# FIXME"
   ]
  },
  {
   "cell_type": "markdown",
   "metadata": {},
   "source": [
    "<details><summary {style=\"color:green; font-weight:bold\"}> Click here to see the soluton to Task 1.7. </summary>\n",
    "\n",
    "```python\n",
    "\n",
    "my_array = np.array([3, 6, 7, 2, 8])\n",
    "my_array_squared = my_array ** 2\n",
    "\n",
    "print(my_array_squared)\n",
    "\n",
    "```"
   ]
  },
  {
   "cell_type": "markdown",
   "metadata": {},
   "source": [
    "### Example 4\n",
    "\n",
    "What is the difference between using `numpy` and using `math`?\n",
    "\n",
    "How do you calculate\n",
    "* the square-root of a single number?\n",
    "* the square-root of a list?\n",
    "* the square-root of an array?\n",
    "\n",
    "See what happens when you run the below code."
   ]
  },
  {
   "cell_type": "markdown",
   "metadata": {},
   "source": [
    "<div class=\"alert alert-info\">\n",
    "<b>The community-agreed alias for the math library is just m.</b>\n",
    "</div>"
   ]
  },
  {
   "cell_type": "code",
   "execution_count": null,
   "metadata": {},
   "outputs": [],
   "source": [
    "import math as m\n",
    "import numpy as np\n",
    "\n",
    "# Square-root of a single number:\n",
    "# with math\n",
    "print (m.sqrt(4)) \n",
    "# with numpy\n",
    "print (np.sqrt(4))\n",
    "# mathematically, by calculating 4^{1/2} \n",
    "print (4**0.5) \n",
    "\n",
    "# Square-root of a list of numbers\n",
    "l = [4, 9, 16] \n",
    "# numpy: square root of every element \n",
    "print (np.sqrt(l)) \n",
    " # Can you use math here?\n",
    "print (m.sqrt(l)) \n",
    "\n",
    "# Square-root of an array\n",
    "a = np.array(l)\n",
    "# square root of every element of a numpy array\n",
    "print(np.sqrt(a)) \n",
    "# would this work?\n",
    "print(m.sqrt(a)) "
   ]
  },
  {
   "cell_type": "markdown",
   "metadata": {},
   "source": [
    "# 3. Accessing *slices* of 1D arrays <a id=\"3-accessing-slices-of-1d-arrays\"></a>\n",
    "\n",
    "\n",
    "<img src=\"images/slicing1.png\" width=\"500\">"
   ]
  },
  {
   "cell_type": "markdown",
   "metadata": {},
   "source": [
    "We will learn about *slicing* in the below task."
   ]
  },
  {
   "cell_type": "markdown",
   "metadata": {},
   "source": [
    "<div class=\"alert alert-succes\"><b> Task 1.8: Slicing arrays </b>\n",
    "\n",
    "1. Generate a 1D array of 20 elements and fill it with random numbers.\n",
    "2. Pick every 3rd value within the first 10 values.\n",
    "3. Print how many values you get\n",
    "4. What is the last number in your array? (See [Advanced task 1.3](#task-13))\n",
    "</div>\n"
   ]
  },
  {
   "cell_type": "markdown",
   "metadata": {},
   "source": [
    "<div class=\"alert alert-info\"><b> Hint</b>\n",
    "\n",
    " Try  `np.random.default_rng(seed)`\n",
    "\n",
    "This is a random number generator, where the `seed` is used to \"initialise\" the number generator. You can read more about this in the [Random Generator Documentation from NumPy](https://numpy.org/doc/stable/reference/random/generator.html).\n",
    "\n",
    " </div>"
   ]
  },
  {
   "cell_type": "code",
   "execution_count": null,
   "metadata": {},
   "outputs": [],
   "source": [
    "# 1. Generate a 1D array of 20 elements and fill it with random numbers.\n",
    "# FIXME\n",
    "\n",
    "# 2. Pick every 3rd value within the first 10 values.\n",
    "# FIXME\n",
    "\n",
    "# 3. Print how many values you get\n",
    "# FIXME\n",
    "\n",
    "# 4. What is the last number in your array?\n",
    "# FIXME\n"
   ]
  },
  {
   "cell_type": "markdown",
   "metadata": {},
   "source": [
    "<details><summary {style=\"color:green; font-weight:bold\"}> Click here to see the solution to Task 1.8 </summary>\n",
    "\n",
    "```python\n",
    "\n",
    "# 1. Generate a 1D array of 20 elements and fill it with random numbers.\n",
    "\n",
    "random_generator = np.random.default_rng(12345)\n",
    "random_numbers = random_generator.random(20)\n",
    "print(random_numbers)\n",
    "\n",
    "# 2. Pick every 3rd value within the first 10 values.\n",
    "picked = random_numbers[0:10:3]\n",
    "\n",
    "# 3. Print how many values you get\n",
    "print(len(random_numbers))\n",
    "print(len(picked))\n",
    "\n",
    "# 4. What is the last number in your array?    \n",
    "last = random_numbers[-1]\n",
    "print(last)\n",
    "```"
   ]
  },
  {
   "cell_type": "markdown",
   "metadata": {},
   "source": [
    "# 4 Multidimensional arrays <a id=\"4-multidimensional-arrays\"></a>\n",
    "\n",
    "We have met 1D arrays above, now let's have a look at the multidimensional cases:\n",
    "\n",
    "<img src=\"images/scalar-tensor.png\" width=\"500\">\n"
   ]
  },
  {
   "cell_type": "markdown",
   "metadata": {},
   "source": [
    "## 4.1 Generating 2D arrays  <a id=\"31-generating-2d-arrays\"></a>\n",
    "\n",
    "Just like with 1D arrays, we can also create a 2D array in the following manner:\n",
    "\n",
    "```python\n",
    "import numpy as np\n",
    "\n",
    "a = [[1, 2], [3, 4], [5, 6]]\n",
    "my_2d_array = np.array(a)\n",
    "\n",
    "```\n",
    "\n",
    "Sometimes it's nice to write out the array in separate lines to see the columns and the rows more clearly. However, it doesn't change the way python sees the array.\n",
    "\n",
    "```python\n",
    "a = [[1, 2], \n",
    "     [3, 4], \n",
    "     [5, 6]]\n",
    "my_2d_array = np.array(a)\n",
    "```\n"
   ]
  },
  {
   "cell_type": "markdown",
   "metadata": {},
   "source": [
    "### Example 5\n",
    "\n",
    "Create a two-dimensional array."
   ]
  },
  {
   "cell_type": "code",
   "execution_count": null,
   "metadata": {},
   "outputs": [],
   "source": [
    "# FIXME\n"
   ]
  },
  {
   "cell_type": "markdown",
   "metadata": {},
   "source": [
    "<details><summary {style=\"color:green; font-weight:bold\"}> Click here to see solution to Example 5.</summary>\n",
    "\n",
    "```python\n",
    "b = [[1, 2], [3, 4], [5, 6]]\n",
    "my_2d_array = np.array(b)\n",
    "\n",
    "print(my_2d_array)\n",
    "\n",
    "```"
   ]
  },
  {
   "cell_type": "markdown",
   "metadata": {},
   "source": [
    "# FIXME\n",
    "\n",
    "<details>\n",
    "    <summary> <b> Question:</b> What is the difference between <code>tuple</code>, <code>array</code> and a <code>list</code>? </summary>\n",
    "    \n",
    "\n",
    "**ANSWER**:\n",
    "\n",
    "**List**: A list is of an ordered collection data type that is mutable which means it can be easily modified and we can change its data values and a list can be indexed, sliced, and changed and each element can be accessed using its index value in the list. The following are the main characteristics of a List:\n",
    "\n",
    "- The list is an ordered collection of data types.\n",
    "- The list is mutable.\n",
    "- List are dynamic and can contain objects of different data types.\n",
    "- List elements can be accessed by index number.\n",
    "\n",
    "```python\n",
    "list = [\"mango\", \"strawberry\", \"orange\",\n",
    "\t\t\"apple\", \"banana\"]\n",
    "print(list)\n",
    "\n",
    "# we can specify the range of the\n",
    "# index by specifying where to start\n",
    "# and where to end\n",
    "print(list[2:4])\n",
    "\n",
    "# we can also change the item in the\n",
    "# list by using its index number\n",
    "list[1] = \"grapes\"\n",
    "print(list[1])\n",
    "\n",
    "```\n",
    "    \n",
    "    \n",
    "**Array**:  An array is a collection of items stored at contiguous memory locations. The idea is to store multiple items of the same type together. This makes it easier to calculate the position of each element by simply adding an offset to a base value, i.e., the memory location of the first element of the array (generally denoted by the name of the array). The following are the main characteristics of an Array:\n",
    "    \n",
    "- An array is an ordered collection of the similar data types.\n",
    "- An array is mutable.\n",
    "- An array can be accessed by using its index number.\n",
    "\n",
    "```python\n",
    "# importing \"array\" for array creations\n",
    "import array as arr\n",
    "\n",
    "# creating an array with integer type\n",
    "a = arr.array('i', [1, 2, 3])\n",
    "\n",
    "# printing original array\n",
    "print (\"The new created array is : \", end =\" \")\n",
    "for i in range (0, 3):\n",
    "\tprint (a[i], end =\" \")\n",
    "print()\n",
    "\n",
    "# creating an array with float type\n",
    "b = arr.array('d', [2.5, 3.2, 3.3])\n",
    "\n",
    "```\n",
    "\n",
    "**Tuple**:  A tuple is an ordered and an immutable data type which means we cannot change its values and tuples are written in round brackets. We can access tuple by referring to the index number inside the square brackets.  The following are the main characteristics of a Tuple:\n",
    "\n",
    "- Tuples are immutable and can store any type of data type.\n",
    "- it is defined using ().\n",
    "- it cannot be changed or replaced as it is an immutable data type.\n",
    "\n",
    "```python\n",
    "tuple = (\"orange\",\"apple\",\"banana\")\n",
    "print(tuple)\n",
    "\n",
    "# we can access the items in\n",
    "# the tuple by its index number\n",
    "print(tuple[2])\n",
    "\n",
    "#we can specify the range of the\n",
    "# index by specifying where to start\n",
    "# and where to end\n",
    "print(tuple[0:2])\n",
    "```\n",
    "Taken from www.geeksforgeeks.org\n",
    "\n",
    "</details>"
   ]
  },
  {
   "cell_type": "markdown",
   "metadata": {},
   "source": [
    "### Array properties of 2D arrays\n",
    "\n",
    "Consider the array \n",
    "\n",
    "```python\n",
    "a = [[0, 1, 2, 3],\n",
    "     [10, 11, 12, 13],\n",
    "     [20, 21, 22, 23]]\n",
    "```\n",
    "\n",
    "* The number of dimensions or axes of the array is given by `a.ndim` and in this case returns `2`\n",
    "* The shape of the array, i.e. the size of each dimension is given by `a.shape`, which returns a tuple `(3, 4)`\n",
    "* The size of the array, i.e. the total number of elements in the array is given by `a.size`, which returns `12`\n",
    "* The datatype of each element is given by `a.dtype`, which returns `int64`"
   ]
  },
  {
   "cell_type": "markdown",
   "metadata": {},
   "source": [
    "### Example 6 \n",
    "\n",
    "Print the number of dimensions, shape and size of `my_2d_array` from above."
   ]
  },
  {
   "cell_type": "code",
   "execution_count": null,
   "metadata": {},
   "outputs": [],
   "source": [
    "# FIXME"
   ]
  },
  {
   "cell_type": "markdown",
   "metadata": {},
   "source": [
    "<details><summary {style=\"color:green; font-weight:bold\"}>Click here to see the solution Example 6. </summary>\n",
    "\n",
    "```python\n",
    "print(f\"dimension: {my_2d_array.ndim}\")\n",
    "print(f\"shape: {my_2d_array.shape}\")\n",
    "print(f\"size: {my_2d_array.size}\")\n",
    "```"
   ]
  },
  {
   "cell_type": "markdown",
   "metadata": {},
   "source": [
    "**Note** how in the example above, the shape of the matrix is defined as ```(rows, columns)``` - the number of *rows* and then *columns*. \n",
    "\n",
    "The output of `shape` is written in round brackets, i.e. it is a *tuple* and is non-changeable.\n"
   ]
  },
  {
   "cell_type": "markdown",
   "metadata": {},
   "source": [
    "### Example 7"
   ]
  },
  {
   "cell_type": "markdown",
   "metadata": {},
   "source": [
    "Let's try to create an array filled with predefined values and check it's properties.\n",
    "\n",
    "\n",
    "We can use `np.ones` to fill it with ones, or `np.zeros` to fill up an array with zeros. If we want to use a specific value to fill an array with, we can use the function `np.full`.\n",
    "\n",
    "Generate an array of shape `(4, 5)` filled with the number `1.234`."
   ]
  },
  {
   "cell_type": "code",
   "execution_count": null,
   "metadata": {},
   "outputs": [],
   "source": [
    "# FIXME"
   ]
  },
  {
   "cell_type": "markdown",
   "metadata": {},
   "source": [
    "<details><summary {style=\"color:green; font-weigh:bold\"}> Click here to see solution to Example 7. </summary>\n",
    "\n",
    "```python \n",
    "\n",
    "# Generate an array of 4 x 5 filled up with a 1.234\n",
    "f = np.full((4, 5), 1.234)\n",
    "\n",
    "# Check its properties\n",
    "print(f\"Dimensions {f.ndim}\")\n",
    "print(f\"shape {f.shape}\")\n",
    "print(f\"Size {f.size}\")\n",
    "\n",
    "```"
   ]
  },
  {
   "cell_type": "markdown",
   "metadata": {},
   "source": [
    "## 4.2 Slicing 2D arrays <a id=\"42-slicing-2d-arrays\"></a>\n",
    "\n",
    "We can access data in a multidimensional array by slicing it, in a similar way to 1D arrays:\n",
    "\n",
    "<img src=\"images/slicing2.png\" width=\"600\">"
   ]
  },
  {
   "cell_type": "markdown",
   "metadata": {},
   "source": [
    "### Example 8\n",
    "\n",
    "Create an array of shape `(5, 7)` filled with random integers.\n",
    "\n",
    "We can again use `np.random.default_rng(seed)` to generate a random number generator and `generator.integers(low, high, size)` to generate an array filled with random numbers."
   ]
  },
  {
   "cell_type": "code",
   "execution_count": null,
   "metadata": {},
   "outputs": [],
   "source": [
    "# FIXME\n"
   ]
  },
  {
   "cell_type": "markdown",
   "metadata": {},
   "source": [
    "<details><summary {style=\"color:green; font-weight:bold\"}> Click here to see the solution to Example 8. </summary>\n",
    "\n",
    "```python\n",
    "\n",
    "number_generator = np.random.default_rng(12345)\n",
    "random_big_array = number_generator.integers(low=1, high=50, size=(5, 7))\n",
    "\n",
    "print(random_big_array)\n",
    "```"
   ]
  },
  {
   "cell_type": "markdown",
   "metadata": {},
   "source": [
    "### Example 9\n",
    "\n",
    "Use slicing on `random_big_array` to select:\n",
    "\n",
    "* the first column\n",
    "* the last column\n",
    "* the 4th row\n",
    "* an area \n",
    "* samples in a given space "
   ]
  },
  {
   "cell_type": "code",
   "execution_count": null,
   "metadata": {},
   "outputs": [],
   "source": [
    "# FIXME"
   ]
  },
  {
   "cell_type": "markdown",
   "metadata": {},
   "source": [
    "<details><summary {style=\"color:green; font-weight:bold\"}> Click here to see the solution to Example 9. </summary>\n",
    "\n",
    "```python\n",
    "print(f\"first column {random_big_array[:, 0]}\")\n",
    "print(f\"last column {random_big_array[:, -1]}\")\n",
    "print(f\"4th row {random_big_array[3, :]}\")\n",
    "print(f\"selected area {random_big_array[0:2, 3:7]}\")\n",
    "print(f\"samples {random_big_array[1:5:2, 3:10:3]}\")\n",
    "\n",
    "```"
   ]
  },
  {
   "cell_type": "markdown",
   "metadata": {},
   "source": [
    "# Tasks 2\n",
    "\n",
    "Here we will load some data from a file, do some maths with the data, use slicing to sub-sample the data and visualise the data with a simple plot."
   ]
  },
  {
   "cell_type": "markdown",
   "metadata": {},
   "source": [
    "\n",
    "## Loading an array to/from a file <a id=\"loading-an-array-to-from-a-file\"></a>\n",
    "\n",
    "As you have seen before using `pandas`, we can also load arrays from a plain text file. \n"
   ]
  },
  {
   "cell_type": "markdown",
   "metadata": {},
   "source": [
    "There are many options available for loading the file, such as:\n",
    "\n",
    "To load a file `array.txt`: \n",
    "\n",
    "```python\n",
    "\n",
    "loaded_array = np.loadtxt(\"array.txt\")\n",
    "\n",
    "```"
   ]
  },
  {
   "cell_type": "markdown",
   "metadata": {},
   "source": [
    "We can skip some lines, for example in the case where the file has a header over the first 5 lines of the file, using the option `skiprows`. \n",
    "\n",
    "Similarly, if the file contains comments, we can use the option `comments` to specify the character used for comments, so that these lines also get ignored by python. \n",
    "```python\n",
    "clean_array = np.loadtxt(\"array.txt\", comments=\"#\", skiprows=5)\n",
    "```"
   ]
  },
  {
   "cell_type": "markdown",
   "metadata": {},
   "source": [
    "To save the array called `my_array` into the file, use `np.savetxt`:\n",
    "\n",
    "```python\n",
    "np.savetxt(\"my_array.txt\", data)\n",
    "```"
   ]
  },
  {
   "cell_type": "markdown",
   "metadata": {},
   "source": [
    "<div class=\"alert alert-success\"><b>Task 2.1: Load data to and from a file with arrays</b>\n",
    "\n",
    "1. Load in the file `data/slice_me.txt` and skip the first row. (The `data/` part specifies the folder in which the file is.)\n",
    "2. Print the shape of this data\n",
    "3. Save this to another file called `data/slice_me_copy.txt`\n",
    "\n",
    "</div>"
   ]
  },
  {
   "cell_type": "code",
   "execution_count": null,
   "metadata": {},
   "outputs": [],
   "source": [
    "# 1. Load in the file data/slice_me.txt and skip the first row.\n",
    "# FIXME\n",
    "\n",
    "# 2. Print the shape of this data\n",
    "# FIXME\n",
    "\n",
    "# 3. Save this to another file called data/slice_me_copy.txt\n",
    "# FIXME\n"
   ]
  },
  {
   "cell_type": "markdown",
   "metadata": {},
   "source": [
    "<details><summary {style=\"color:green; font-weight:bold\"}> Click here to see the solution to Task 2.1</summary>\n",
    "\n",
    "```python\n",
    "\n",
    "# 1. Load in the file data/slice_me.txt and skip the first row.\n",
    "data = np.loadtxt(\"data/slice_me.txt\", skiprows=1)\n",
    "\n",
    "# 2. Print the shape of this data\n",
    "print(data.shape)\n",
    "\n",
    "# 3. Save this to another file called data/slice_me_copy.txt\n",
    "np.savetxt(\"data/slice_me_copy.txt\", data)\n",
    "\n",
    "```"
   ]
  },
  {
   "cell_type": "markdown",
   "metadata": {},
   "source": [
    "# 5. Mathematical operations on multidimensional arrays <a id=\"5-mathematical-operations-on-multidimensional-arrays\"></a>\n",
    "\n",
    "All mathematical operations between arrays act element by element, similarly to 1D arrays. \n",
    "\n",
    "With 2D arrays, we can also choose an axis of operation. \n",
    "\n",
    "For example, consider the array\n",
    "\n",
    "```python\n",
    "my_list = [[0, 1, 2, 3],\n",
    "           [10, 11, 12, 13],\n",
    "           [20, 21, 22, 23]]\n",
    "my_array = np.array(my_list)\n",
    "```\n",
    "\n",
    "### Getting sums from arrays\n",
    "\n",
    "We can use the function `np.sum()` to get the sum of all elements in our array with:\n",
    "```python\n",
    "total_sum = np.sum(my_array) \n",
    "print(total_sum)\n",
    "```\n",
    "\n",
    "This prints `138`.\n",
    "\n",
    "What if we want to get the sum of elements, row by row? We can do:\n",
    "\n",
    "```python\n",
    "row_sum = np.sum(my_array, axis=0)\n",
    "print(row_sum)\n",
    "```\n",
    "\n",
    "This prints `[30, 33, 36, 39]`.\n",
    "\n",
    "Similarly, to get the sum of elements, column by column:\n",
    "\n",
    "```python\n",
    "column_sum = np.sum(my_array, axis=1)\n",
    "print(column_sum)\n",
    "```\n",
    "\n",
    "This prints `[6, 46, 86]`."
   ]
  },
  {
   "cell_type": "markdown",
   "metadata": {},
   "source": [
    "<div class=\"alert alert-success\"><b> Task 2.2: Sum of array elements</b>\n",
    "\n",
    "1. Calculate the sum of all the elements in the file `data/slice_me_copy.txt` that you created in the previous task.\n",
    "2. Calculate the \"vertical sum\", i.e. the sum along the rows.\n",
    "3. Calculate the \"horizontal sum\", i.e. the sum along the columns."
   ]
  },
  {
   "cell_type": "code",
   "execution_count": null,
   "metadata": {},
   "outputs": [],
   "source": [
    "# 1. Calculate the sum of all the elements in the file `data/slice_me_copy.txt` that you created in the previous task.\n",
    "# FIXME\n",
    "\n",
    "# 2. Calculate the \"vertical sum\", i.e. the sum along the rows.\n",
    "# FIXME\n",
    "\n",
    "# 3. Calculate the \"horizontal sum\", i.e. the sum along the columns.\n",
    "# FIXME"
   ]
  },
  {
   "cell_type": "markdown",
   "metadata": {},
   "source": [
    "<details><summary {style=\"color:green; font-weight:bold\"}> Click here to see the solution to Task 2.2</summary>\n",
    "\n",
    "```python\n",
    "array = np.loadtxt(\"data/slice_me_copy.txt\")\n",
    "\n",
    "# 1. Calculate the sum of all the elements in the file `data/slice_me_copy.txt` that you created in the previous task.\n",
    "total_sum = np.sum(array)\n",
    "print(f\"total sum {total_sum}\")\n",
    "\n",
    "# 2. Calculate the \"vertical sum\", i.e. the sum along the rows.\n",
    "vertical_sum = np.sum(array, axis=0)\n",
    "print(f\"vertical sum {vertical_sum}\")\n",
    "\n",
    "# 3. Calculate the \"horizontal sum\", i.e. the sum along the columns.\n",
    "horizontal_sum = np.sum(array, axis=1)\n",
    "print(f\"horizontal sum {horizontal_sum}\")\n",
    "```"
   ]
  },
  {
   "cell_type": "markdown",
   "metadata": {},
   "source": [
    "<div class=\"alert alert-success\"><b> Task 2.3: Slicing data arrays</b> <a id=\"task-23\"></a>\n",
    "\n",
    "The folder `data` contains a file called `ms.txt`, which contains mass spectrometry data given in two columns: m/z and intensity.\n",
    "\n",
    "1. Read in the file `ms.txt`\n",
    "2. Create a sub-sample of the intensities data by extracting every 10th line into a variable called `subdata`.\n",
    "3. Save the `subdata` into a new file.\n",
    "\n",
    "</div>\n",
    "\n",
    "**Note: it might be a good idea to print the shapes of `data` and `subdata` to check if your slicing is correct after step 2.**"
   ]
  },
  {
   "cell_type": "code",
   "execution_count": null,
   "metadata": {},
   "outputs": [],
   "source": [
    "# 1. Read in the file ms.txt\n",
    "# FIXME\n",
    "\n",
    "# 2. Create a sub-sample of the data by extracting every 10th line into a variable called `subdata`.\n",
    "# FIXME\n",
    "\n",
    "# 3. Save the intensities column from `subdata` into a new file.\n",
    "# FIXME\n"
   ]
  },
  {
   "cell_type": "markdown",
   "metadata": {},
   "source": [
    "<details><summary {style=\"color:green; font-weight:bold\"}> Click here to see the solution to Task 2.3 </summary>\n",
    "\n",
    "```python\n",
    "# 1. Read in the file ms.txt\n",
    "data = np.loadtxt(\"data/ms.txt\")\n",
    "\n",
    "# 2. Create a sub-sample of the data by extracting every 10th line into a variable called `subdata`.\n",
    "subdata = data[::10, 1]\n",
    "\n",
    "# Check the shapes of the datasets\n",
    "print(data.shape)\n",
    "print(subdata.shape)\n",
    "\n",
    "# 3. Save the intensities column from `subdata` into a new file.\n",
    "np.savetxt(\"data/sub_intensities.txt\", subdata)\n",
    "\n",
    "```"
   ]
  },
  {
   "cell_type": "markdown",
   "metadata": {},
   "source": [
    "<div class=\"alert alert-warning\"><b> Advanced task 2.4</b>\n",
    "\n",
    "Can you do the above without numpy, only using in-built python functionality?"
   ]
  },
  {
   "cell_type": "code",
   "execution_count": null,
   "metadata": {},
   "outputs": [],
   "source": [
    "# FIXME\n"
   ]
  },
  {
   "cell_type": "markdown",
   "metadata": {},
   "source": [
    "<details><summary {style=\"color:green; font-weight:bold\"}> Click here to see the solution to the Advanced task 2.4 </summary>\n",
    "\n",
    "```python\n",
    "\n",
    "# Read file in line by line\n",
    "with open(\"data/ms.txt\", \"r\") as input_file:\n",
    "    lines = input_file.readlines()\n",
    "\n",
    "# Counter for counting every 10th line\n",
    "counter = 0\n",
    "\n",
    "# Create an empty list to store intensity values\n",
    "intensities = []\n",
    "\n",
    "# Loop over the lines in the file\n",
    "for line in lines:\n",
    "\n",
    "    # If counter is divisible by 10\n",
    "    if counter % 10 == 0:\n",
    "        # split the line (string) into two columns:\n",
    "        columns = line.split()\n",
    "\n",
    "        # the second column is intensity\n",
    "        intensity = columns[1]\n",
    "\n",
    "        # append intensity value to intensities list\n",
    "        intensities.append(intensity)\n",
    "\n",
    "    # increment the counter\n",
    "    counter += 1\n",
    "\n",
    "# Open file for writing:\n",
    "with open(\"data/sub_densities.txt\", \"w\") as output_file:\n",
    "    # Loop over all the values in the list intensities\n",
    "    for intensity in intensities:\n",
    "        # Write each intensity to the file on separate lines\n",
    "        output_file.write(f\"{intensity} \\n\")\n",
    "\n",
    "```\n"
   ]
  },
  {
   "cell_type": "markdown",
   "metadata": {},
   "source": [
    "<div class=\"alert alert-warning\"><b> Advanced task 2.5</b>\n",
    "\n",
    "Using the mass spectrometry data, find the m/z values in the region between 6400 and 6600.\n",
    "\n",
    "Also find the maximum peak value in this region and the corresponding m/z value.\n",
    "\n",
    "**Hint: You will need to use Boolean indexing.** This was covered in [Unit 03 Part II](../Unit_03/Unit_03_loops_II.ipynb)\n",
    "</div>"
   ]
  },
  {
   "cell_type": "code",
   "execution_count": null,
   "metadata": {},
   "outputs": [],
   "source": [
    "# FIXME\n"
   ]
  },
  {
   "cell_type": "markdown",
   "metadata": {},
   "source": [
    "<details><summary {style=\"color:green; font-weight:bold\"}> Click here to see the solution to Advanced task 2.5</summary>\n",
    "\n",
    "```python\n",
    "# Load in data\n",
    "data = np.loadtxt(\"data/ms.txt\")\n",
    "\n",
    "# Create criterion\n",
    "greater_than = data[:,0] > 6400\n",
    "less_than = data[:, 0] < 6600\n",
    "criterion = greater_than & less_than\n",
    "\n",
    "# slice the array\n",
    "sliced_array = data[criterion, :]\n",
    "\n",
    "# Get the maximum peak value\n",
    "maximum_value = np.max(sliced_array[:, 1])\n",
    "index_of_max = np.argmax(sliced_array[:, 1])\n",
    "mz_at_max = sliced_array[index_of_max, 0]\n",
    "\n",
    "print(f\"peak {maximum_value} is at m/z {mz_at_max}\")\n",
    "```"
   ]
  },
  {
   "cell_type": "markdown",
   "metadata": {},
   "source": [
    "# 6. Plotting data <a id=\"6-plotting-data\"></a>\n",
    "\n",
    "We can use [matplotlib](http://matplotlib.org) to plot data in python.  \n",
    "\n",
    "We first look at the `pyplot` functional interface, which allows us to manipulate a given current figure. \n",
    "\n",
    "`pyplot` is great to quickly visualize data we are working with, but it is **not suitable** for plots of multiple data quantities, subplots, or more complex customizations. \n",
    "\n",
    "In this case, an *object-oriented plotting* is needed. We will discuss the object-oriented plotting below. If you are eager to know more, please see discussion on [PyPlot vs. Object Oriented Interfaces](https://matplotlib.org/matplotblog/posts/pyplot-vs-object-oriented-interface/) on the matplotlib blog.\n"
   ]
  },
  {
   "cell_type": "markdown",
   "metadata": {},
   "source": [
    "### Example 10 \n",
    "\n",
    "As always, we begin with **importing the `matplotlib.pyplot` module** with the alias `plt`. \n",
    "\n",
    "This is the community-agreed alias for `matplotlib.pyplot`."
   ]
  },
  {
   "cell_type": "code",
   "execution_count": null,
   "metadata": {},
   "outputs": [],
   "source": [
    "# FIXME \n",
    "\n",
    "\n",
    "# Keep this, it's needed for jupyter notebooks\n",
    "%matplotlib inline  \n"
   ]
  },
  {
   "cell_type": "markdown",
   "metadata": {},
   "source": [
    "<details><summary {style=\"color:green; font-weight:bold\"}> Click here to see the solution to Example 10.</summary>\n",
    "\n",
    "```python\n",
    "import matplotlib.pyplot as plt\n",
    "\n",
    "%matplotlib inline\n",
    "```"
   ]
  },
  {
   "cell_type": "markdown",
   "metadata": {},
   "source": [
    "### Example 11\n",
    "\n",
    "To create a plot, we use the `matplotlib` function `plt.plot()`. \n",
    "\n",
    "Load in the file `data/sub_intensities.txt` that you created in [Task 2.3](#task-23)\n",
    "\n",
    "It's good practice to use `plt.show()` to show the plot, even though the plot will pop up in Jupyter without this as well."
   ]
  },
  {
   "cell_type": "code",
   "execution_count": null,
   "metadata": {},
   "outputs": [],
   "source": [
    "# FIXME\n"
   ]
  },
  {
   "cell_type": "markdown",
   "metadata": {},
   "source": [
    "<details><summary {style=\"color:green; font-weight:bold\"}> Click here to see the solution to Example 11.</summary>\n",
    "\n",
    "```python\n",
    "\n",
    "# Read the file\n",
    "data = np.loadtxt(\"data/sub_intensities.txt\")\n",
    "\n",
    "# Plot \n",
    "plt.plot(data)\n",
    "plt.show()\n",
    "```"
   ]
  },
  {
   "cell_type": "markdown",
   "metadata": {},
   "source": [
    "\n",
    "**Note** this displayed plot is generated from the sub-sampled data, which only has intensities.<br>\n",
    "Therefore, this data does not have the m/z column, so x-axis is just the row number."
   ]
  },
  {
   "cell_type": "markdown",
   "metadata": {},
   "source": [
    "\n",
    "### Labeling the plot and the data <a class=\"anchor\" id=\"labelplt\"></a>\n",
    "\n",
    "It is always good practice to **label the plots**. <a class=\"anchor\" id=\"labelplt\"></a>\n",
    "\n",
    "Use the following commands to add the labels to your plot:\n",
    " - `xlabel()`\n",
    " - `ylabel()` \n",
    " - `title()`"
   ]
  },
  {
   "cell_type": "markdown",
   "metadata": {},
   "source": [
    "<div class=\"alert alert-success\">\n",
    "    <b>Task 2.6</b> : Plot the <code>ms.txt</code> data as m/z vs Intensity, label the plot.\n",
    "        \n",
    "</div>\n"
   ]
  },
  {
   "cell_type": "code",
   "execution_count": null,
   "metadata": {},
   "outputs": [],
   "source": [
    "# FIXME\n"
   ]
  },
  {
   "cell_type": "markdown",
   "metadata": {},
   "source": [
    "<details><summary {style=\"color:green; font-weight:bold\"}> Click here to see the solution to Task 2.6.</summary>\n",
    "\n",
    "```python\n",
    "# Load in the data\n",
    "data = np.loadtxt(\"data/ms.txt\")\n",
    "\n",
    "# Assign the columns to 'mz' and 'intensity'\n",
    "mz = data[:,0]\n",
    "intensity = data[:,1]\n",
    "\n",
    "# plot mz against intensity\n",
    "plt.plot(mz, intensity)\n",
    "\n",
    "# label the plot\n",
    "plt.title(\"Mass spectrometry\")\n",
    "plt.xlabel(\"m/z\")\n",
    "plt.ylabel(\"Intensity\")\n",
    "\n",
    "# save the plot\n",
    "plt.savefig(\"images/myfigure.png\")\n",
    "\n",
    "# show the plot\n",
    "plt.show()\n",
    "```"
   ]
  },
  {
   "cell_type": "markdown",
   "metadata": {},
   "source": [
    "## 6.1 Quick aside on string formatting <a id=\"61-quick-aside-on-string-formatting\"></a>\n",
    "\n",
    "We can use f-strings to format strings in a nice way. This is useful for e.g. labelling scientific plots.\n",
    "\n",
    "For example, let's say we want to creare a plot label for pressure as \"Pressure ($\\mathrm{N / m}^2$)\" in python:\n",
    "\n",
    "```python\n",
    "    plt.plot(x, y)\n",
    "    plt.xlabel(f\"pressure (N / m$^2$)\")\n",
    "```\n",
    "\n",
    "We can do this using LaTex notation given inside the `$ $` signs. \n",
    "\n",
    "[Click here](https://oeis.org/wiki/List_of_LaTeX_mathematical_symbols) for a list of some of the mathematical symbols you can write in this format. \n",
    "\n",
    "Some of the most useful ones for chemists are **superscripts** `$^{-2}$` and **subscripts** `$_{\\mathrm{exp}}$`. The expression `\\mathrm{}` stands for \"maths roman\" which ensures the superscript is written in non-italic. \n",
    "\n",
    "You can use this \"math mode\" in markdown cells in a similar way to write equations. \n",
    "\n",
    "Another useful method of f-strings is formatting the number of significant figures of values. For example, let's say we want to print the mass of something with 2 significant figures:\n",
    "\n",
    "```python\n",
    "    mass = 0.198 # in g\n",
    "    print(f\"The final mass is {mass:.2f} g.\")\n",
    "```\n",
    "\n",
    "which prints: `The final mass is 0.20 g.`"
   ]
  },
  {
   "cell_type": "markdown",
   "metadata": {},
   "source": [
    "\n",
    "# 7. Errors: a discussion. <a id=\"7-errors-a-discussion\"></a>\n",
    "\n",
    "<div class=\"alert alert-info\"><b>In groups, discuss errors in scientific experiments and data handling</b>\n",
    "    \n",
    "Here are some questions to help you get started:\n",
    "\n",
    "- What kind or errors we often found in scientific experiments?\n",
    "\n",
    "- Are there any less obvious sources that may go unnoticed?\n",
    "\n",
    "- What are the sources of uncertainty? \n",
    "\n",
    "- How can we mitigate the errors?\n",
    "\n",
    "- What about the code we write? Can we make it more reproducible, minimising human error? \n",
    "\n",
    "- What are the differences between *random error*, *systematic error* and *mistakes*?\n",
    "\n",
    "- How does repeating measurements reduce (or not?) the effect on the above errors? \n",
    "\n",
    "- What is the difference between *accuracy* and *precision*?\n",
    "\n",
    "- Can you give examples of situations where accuracy is important and where it is not?\n",
    "\n",
    "- Why are repeat measurements  important for characterising accuracy. What about precision?\n",
    "    \n",
    "</div>\n",
    "\n",
    "\n"
   ]
  },
  {
   "cell_type": "markdown",
   "metadata": {},
   "source": [
    "## 7.1 - Sources of Errors and Uncertainties <a id=\"71-sources-of-errors-and-uncertainties\"></a>\n",
    "\n",
    " - **Random Error:** \n",
    "     - Noise in the experimental data \n",
    "     - Some scatter of the values \n",
    "     - Repeated careful experiments can reduce this error\n",
    "     - Statistical tools are for dealing with these errors\n",
    "     - Not present in calculations, calculations return same output value (within the precision)\n",
    "\n",
    "      \n",
    "\n",
    "\n",
    "\n",
    " - **Systematic Error:**\n",
    "     - Systematically shifted values by a given value/ percentage\n",
    "     - Must be handled at the source, for example by recalibration of equipment\n",
    "     - May be accounted for during data processing if identified, example: shift all weights by 15 g\n",
    "     - Calculations are rarely exact, and so are subject to this error for any approximations that are used\n",
    "     \n",
    "\n",
    "     \n",
    "     \n",
    "     \n",
    " - **Mistakes:**\n",
    "     - Mainly human, may be in the equipment or in the code\n",
    "     - Must identify, redo/debug"
   ]
  },
  {
   "cell_type": "markdown",
   "metadata": {},
   "source": [
    "## 7.2 - Accuracy vs Precision <a id=\"72-accuracy-vs-precision\"></a>\n",
    "\n",
    "<img src=\"images/DartPic2.png\" width=\"500\">\n",
    "\n",
    "\n",
    " - High **precision** = a low spread of results (low random error)\n",
    " - High **accuracy** = that the average result is close to “true” answer (low systematic error)\n",
    "\n",
    "High precision and high accuracy are always desirable, but not always essential.\n",
    "\n",
    "<br>\n",
    "We can only access accuracy and precision from multiple data points!\n"
   ]
  },
  {
   "cell_type": "markdown",
   "metadata": {},
   "source": [
    "# 8. Introduction to Statistics    <a id=\"8-introduction-to-statistocs\"></a>"
   ]
  },
  {
   "cell_type": "markdown",
   "metadata": {},
   "source": [
    "First, let's return to Plotting! \n",
    "\n",
    "[Previously](#6-plotting-data), we have done only very basic plots  with `pyplot`\n",
    "\n",
    "In this section, we will need a little bit more complex plotting, so we will need to switch to Object Oriented Plotting with [matplotlib](http://matplotlib.org).\n",
    "\n",
    "We have also put together a summary, a cheatsheet and an example in this [Reference document](Plotting.ipynb).\n",
    "\n"
   ]
  },
  {
   "cell_type": "markdown",
   "metadata": {},
   "source": [
    "### Object Oriented Plotting <a class=\"anchor\" id=\"matplotOO\"></a>\n",
    "\n",
    "This gives us control over many parameters, as illustrated here:\n",
    "\n",
    "<img src=\"images/anatomy-of-a-figure.webp\" width=\"600\">\n",
    "\n",
    "To achieve this, we start with declaring an *object* which is a container for all elements (shown in <span style=\"color:blue\"> *blue* </span>) that are rendered onto the object, i.e. our **figure**.\n",
    "\n",
    "### 1. Declare a figure *object*:\n",
    "\n",
    "```python\n",
    "fig, ax = plt.subplots()\n",
    "```\n",
    "\n",
    "Here we have only 1 axes, but we can have many: \n",
    "    \n",
    "```python\n",
    "# an empty figure with no Axes\n",
    "fig = plt.figure()  \n",
    "# a figure with a single Axes\n",
    "fig, ax = plt.subplots()  \n",
    "# a figure with a 2x2 grid of Axes\n",
    "fig, axs = plt.subplots(2, 2)  \n",
    "```\n",
    "\n",
    "### 2. Add the data onto the axes of the plot with:  \n",
    "\n",
    "```python\n",
    "ax.plot(time, distance)\n",
    "```\n",
    "\n",
    "We can also include labels, markers, colors:\n",
    "    \n",
    "```python\n",
    "# Plot some data on the axes\n",
    "ax.plot(x, x, label=\"linear\")  \n",
    "# Plot more data on the axes...\n",
    "ax.plot(x, x**2, label=\"quadratic\", \"x\")  \n",
    "# ... and some more:\n",
    "ax.plot(x, x**3, label=\"cubic\", color=\"orange\")\n",
    "```\n",
    "\n",
    "\n",
    "### 3. Add other elements, such as labels:\n",
    "\n",
    "```python\n",
    "# Add a y-label to the axes.\n",
    "ax.set_ylabel(\"Distance (m)\")\n",
    "# Add an x-label to the axes. \n",
    "ax.set_xlabel(\"Time (s)\")\n",
    "# Add a title to the axes.  \n",
    "ax.set_title(\"My plot\")  \n",
    "# Add a legend.\n",
    "ax.legend()  \n",
    "```\n",
    "\n",
    "\n",
    "### 4. Adjust figure size and resolution:  \n",
    "\n",
    "```python\n",
    "fig.set_size_inches(6,4)\n",
    "fig.set_dpi(200)\n",
    "```\n",
    "\n",
    "\n",
    "### 5. To finish the figure, render it together:\n",
    "\n",
    "```python\n",
    "plt.show()\n",
    "```\n",
    "\n",
    "It is best to try with an example below: \n"
   ]
  },
  {
   "cell_type": "markdown",
   "metadata": {},
   "source": [
    "## 8.1 Statistical distributions <a id=\"81-statistical-distributions\"></a>\n",
    "\n",
    "\n",
    "\n",
    "### Example 12 \n",
    "    \n",
    "<div class=\"alert alert-warning\">\n",
    "The set of 50 samples were weighed in the lab, returning the following results:\n",
    "</div>\n",
    "\n",
    "\n",
    "\n",
    "|Sample No.| Weight, g | |Sample No.| Weight, g |\n",
    "\n",
    "| ----| -----| | ----| -----|\n",
    "\n",
    "| 1 | 12.7867 || 26 | 13.060 |\n",
    "\n",
    "| 2 | 11.2558 || 27 | 12.67 |\n",
    "\n",
    "| 3 | 11.8226 || 28 | 9.284  |\n",
    "\n",
    "| 4 | 14.2157 || 29 | 11.32  |\n",
    "\n",
    "| 5 | 11.9955 || 30 | 12.57 |\n",
    "\n",
    "| 6 | 12.753 || 31 | 11.909 |\n",
    "\n",
    "| 7 | 10.604 || 32 | 12.055 |\n",
    "\n",
    "| 8 | 12.7267 || 33 | 11.98 |\n",
    "\n",
    "| 9 | 11.3204 || 34 | 11.48  |\n",
    "\n",
    "| 10 | 11.3616 || 35 | 10.99  |\n",
    "\n",
    "| 11 | 12.1384 || 36 | 11.79 |\n",
    "\n",
    "| 12 | 12.301 || 37 | 11.357 |\n",
    "\n",
    "| 13 | 11.032 || 38 | 10.196 |\n",
    "\n",
    "| 14 | 10.8086 || 39 | 12.16 |\n",
    "\n",
    "| 15 | 13.58 || 40 | 11.01  |\n",
    "\n",
    "| 16 | 12.59  || 41 | 12.33  |\n",
    "\n",
    "| 17 | 11.93  || 42 | 12.14 |\n",
    "\n",
    "| 18 | 12.41 || 43 | 11.711 |\n",
    "\n",
    "| 19 | 12.426 || 44 | 12.373 |\n",
    "\n",
    "| 20 | 10.435 || 45 | 13.26 |\n",
    "\n",
    "| 21 | 10.39 || 46 | 11.26  |\n",
    "\n",
    "| 22 | 12.89  || 47 | 12.79 |\n",
    "\n",
    "| 23 | 11.49  || 48 | 12.11 |\n",
    "\n",
    "| 24 | 12.45 || 49 | 11.831 |\n",
    "\n",
    "| 25 | 12.022 || 50 | 10.810 |\n",
    "\n",
    "\n",
    "The data is stored in a file `data/Weights.txt` and may have a header! \n",
    "\n",
    "Lets load the data, plot it and get some statistics!\n",
    "</div>\n",
    "\n"
   ]
  },
  {
   "cell_type": "code",
   "execution_count": null,
   "metadata": {},
   "outputs": [],
   "source": [
    "# FIXME"
   ]
  },
  {
   "cell_type": "markdown",
   "metadata": {},
   "source": [
    "<details><summary {style=\"color:green; font-weight:bold\"}> Click here to see the solution to Example 12. </summary>\n",
    "\n",
    "```python\n",
    "import numpy as np\n",
    "import matplotlib.pyplot as plt\n",
    "\n",
    "# Load data\n",
    "data = np.loadtxt(\"data/Weights.txt\", comments=\"#\")\n",
    "    \n",
    "# Initialise the figure object\n",
    "fig, ax = plt.subplots()\n",
    "\n",
    "# Add data and labels\n",
    "ax.plot(data[:,0], data[:,1], \"X\", color=\"red\")\n",
    "ax.set_xlabel(\"Sample No.\")\n",
    "ax.set_ylabel(\"Weight (g)\")\n",
    "\n",
    "# Show plot\n",
    "plt.show()\n",
    "    \n",
    "```\n"
   ]
  },
  {
   "cell_type": "markdown",
   "metadata": {},
   "source": [
    "## 8.2 - Distribution of measurements \n",
    "\n",
    "\n",
    "### Example 13\n",
    "\n",
    "If we measure a value many times, we should get a distribution, which can be visualised as a **histogram**\n",
    "\n",
    "***A histogram** is a distribution and is characteristic for different statistical (random) processes.*\n",
    "\n",
    "Here, we look at the histogram for a **population** of 50 measurements.\n",
    "\n",
    "We can get a histogram using the [```numpy.histogram(a, bins=10)```](https://numpy.org/doc/stable/reference/generated/numpy.histogram.html#numpy.histogram) function.\n",
    "\n",
    "How many bins do you think are needed? Try it!"
   ]
  },
  {
   "cell_type": "code",
   "execution_count": null,
   "metadata": {},
   "outputs": [],
   "source": [
    "# FIXME"
   ]
  },
  {
   "cell_type": "markdown",
   "metadata": {},
   "source": [
    "<details><summary {style=\"color:green; font-weight:bold\"}> Click here to see the solution to Example 13.</summary>\n",
    "\n",
    "```python\n",
    "w = data[:,1]\n",
    "counts, bins = np.histogram(w, bins=15)\n",
    "print(counts, bins)\n",
    "\n",
    "```"
   ]
  },
  {
   "cell_type": "markdown",
   "metadata": {},
   "source": [
    "### Example 14\n",
    "\n",
    "We can now plot it, using ```ax.stairs(counts, bins)```:"
   ]
  },
  {
   "cell_type": "code",
   "execution_count": null,
   "metadata": {},
   "outputs": [],
   "source": [
    "# FIXME"
   ]
  },
  {
   "cell_type": "markdown",
   "metadata": {},
   "source": [
    "<details><summary {style=\"color:green; font-weight:bold\"}> Click here to see the solution to Example 14 </summary>\n",
    "\n",
    "```python\n",
    "fig, ax = plt.subplots()\n",
    "\n",
    "ax.stairs(counts, bins)\n",
    "ax.set_ylabel('Weight, g')\n",
    "ax.set_xlabel('Count')\n",
    "\n",
    "plt.plot()\n",
    "```"
   ]
  },
  {
   "cell_type": "markdown",
   "metadata": {},
   "source": [
    "### Example 15\n",
    "\n",
    "Alternatively, we can use a the function ```plt.hist(a, bins=10)```:"
   ]
  },
  {
   "cell_type": "code",
   "execution_count": null,
   "metadata": {},
   "outputs": [],
   "source": [
    "# FIXME\n"
   ]
  },
  {
   "cell_type": "markdown",
   "metadata": {},
   "source": [
    "<details><summary {style=\"color:green; font-weight:bold\"}> Click here to see the solution to Example 15</summary>\n",
    "\n",
    "```python\n",
    "fig, ax = plt.subplots()\n",
    "\n",
    "ax.hist(w,bins=15)\n",
    "ax.set_ylabel('Weight, g')\n",
    "ax.set_xlabel('Count')\n",
    "plt.plot()\n",
    "```"
   ]
  },
  {
   "cell_type": "markdown",
   "metadata": {},
   "source": [
    "## 8.3 Normalising the data <a id=\"83-normalising-the-data\"></a> \n",
    "\n",
    "In the example above we created a **histogram** with 10 bins (default).\n",
    "\n",
    "If we change the bin number, the distribution changes.\n",
    "\n",
    "If we add more samples, it changes again. It's difficult to compare two datasets sets of various size. \n",
    "\n",
    "Therefore, we should express the data as a **probability distribution** instead of just a sample count.\n",
    "\n",
    "We can do it by **normalising** the the data:\n",
    "\n",
    "\\begin{equation}\n",
    "x_{\\mathrm{norm}} = \\dfrac{x-x_{\\mathrm{max}}}{x_{\\mathrm{max}}-x_{\\mathrm{min}}},\n",
    "\\end{equation}\n",
    "\n",
    "where $x$ is the value of the sample being normalised , while $x_{\\mathrm{max}}$ and $x_{\\mathrm{min}}$ are the maximum and minimum values, respectively.\n",
    "\n",
    "We can do this in Python by writing a function:\n",
    "\n",
    "```python\n",
    "def normalise(data):\n",
    "    max_value = max(data)\n",
    "    min_value = min(data)\n",
    "    for i in range(len(data)):\n",
    "        data[i] = (data[i] - min_value)/(max_value - min_value)\n",
    "    return data  \n",
    "# To have the data in percentages, mutliply by 100:\n",
    "n_ints = normalise(data[:, 1]) * 100 \n",
    "```\n",
    "\n",
    "Or, you can also use ```np.histogram(w, bins=15, density=True)``` to obtain a probability density, i.e. a normalised histogram.\n"
   ]
  },
  {
   "cell_type": "markdown",
   "metadata": {},
   "source": [
    "* What does this histogram tell us about the data?\n",
    "* How do **random** and **systematic errors** show up in histograms like his one? \n",
    "\n",
    "This is another way to show the **accuracy** vs **precision** we saw on the 'dart board':\n",
    "\n",
    "<img src=\"images/Accuracy_Precision.png\" width=\"500\">\n"
   ]
  },
  {
   "cell_type": "markdown",
   "metadata": {},
   "source": [
    "# 8.3 Quantifying Uncertainty <a id=\"83-quantifying-uncertainty\"></a> \n",
    "\n",
    "Let's analyse this data a bit more to quantify the **uncertainties**.\n",
    "\n",
    "We first represent data as a **normal distribution** of the population. The normal distribution, or Gaussian distribution, is a distribution centered around the **mean value** and having a spread of the **standard deviation**. \n",
    "\n",
    "### The mean, $\\mu$ <a class=\"anchor\" id=\"mean\"></a> \n",
    "\n",
    "\\begin{equation}\n",
    "\\mu = \\frac{1}{N} \\sum_i^N x_i ,\n",
    "\\end{equation}\n",
    "\n",
    "where $N$ is the number of samples. As the $N$ increases, the mean becomes closer to the 'true' value. This is know as the [law of large numbers](https://en.wikipedia.org/wiki/Law_of_large_numbers). \n",
    "\n",
    "\n",
    "```python\n",
    "mu = np.sum(a) / len(a)\n",
    "```\n",
    "\n",
    "or, we can just use the NumPy function `np.mean(a)`.\n",
    "\n",
    "\n",
    "_Note:_ **Median** is a middle value separating the greater and lesser halves of a data set, since the normal distribution is symmetric, mean and median are equivalent. \n",
    "\n",
    "\n",
    "\n",
    "### The standard deviation (STD), $\\sigma$<a class=\"anchor\" id=\"STD\"></a> \n",
    "The STD quantifies how much the numbers in our set deviate from the mean, $\\mu$\n",
    "\n",
    "\\begin{equation}\n",
    "\\sigma = \\sqrt{\\frac{1}{N}\\sum_{i=1}^N(x_i-\\mu)^2}.\n",
    "\\end{equation}\n",
    "\n",
    "We can write the above as a function in python:\n",
    "\n",
    "```python\n",
    "import math as m\n",
    "sigma = m.sqrt(np.sum((a - np.mean(a))**2) / len(a))\n",
    "```\n",
    "\n",
    "or, we can just use the NumPy function `np.std(a)`.\n",
    "\n",
    "In a **normal distribution** the values that are less than 1 $\\sigma$ away from the mean, $\\mu$, will account for the 68.27% of the set - this is our **confidence interval**\n",
    "\n",
    "\n",
    "\\begin{equation}\n",
    "f(x) = \\frac{1}{\\sigma \\sqrt{2 \\pi} }  exp\\left(\\frac{-(x-\\mu)^2}{2\\sigma^2} \\right)\n",
    "\\end{equation}\n",
    "\n",
    "\n",
    "\n",
    "<img src=\"images/NormalDist.png\" width=\"500\">\n",
    "\n"
   ]
  },
  {
   "cell_type": "markdown",
   "metadata": {},
   "source": [
    "<div class=\"aler alert-warning\"><b>Exercise 2.7: \n",
    "Analyse the data of weights of 50 samples given above.</b>\n",
    "\n",
    "Find the lightest and the heaviest samples, calculate the mean and standard deviation.\n",
    "\n",
    "Plot the normal distribution for this data:\n",
    "\n",
    "Create a plot, that will present:\n",
    "- a normalised histogram, shaded with a transparency \n",
    "- a line for mean and median (are they same?)\n",
    "- normalised probability distribution\n",
    "- make sure the plot is labeled\n",
    "\n",
    "**Hint**\n",
    "\n",
    "You can use [`scipy.stats` python package](https://docs.scipy.org/doc/scipy/reference/generated/scipy.stats.norm.html#scipy.stats.norm) to plot the **normal probability distribution** of our data.\n",
    "\n",
    "```python\n",
    "stats.norm.pdf(a, loc, scale)\n",
    "```\n",
    "where the `loc` specifies the mean and `scale` specifies standard deviation.\n",
    "</div>\n",
    " "
   ]
  },
  {
   "cell_type": "code",
   "execution_count": null,
   "metadata": {},
   "outputs": [],
   "source": [
    "# FIXME"
   ]
  },
  {
   "cell_type": "markdown",
   "metadata": {},
   "source": [
    "<details><summary {style=\"color:green; font-weight:bold\"}> Click here to see the solution to Exercise 2.7</summary>\n",
    "\n",
    "```python\n",
    "from scipy import stats\n",
    "\n",
    "# Smallest value and its index\n",
    "print(f\"Lightest sample weight {np.min(w)} g and the sample no. is {np.argmin(w) + 1}\")\n",
    "\n",
    "# Biggest value and its index\n",
    "print(f\"Heaviest sample weight {np.max(w)} g and the sample no. is {np.argmax(w) + 1}\")\n",
    "# Note we add +1 to the output of argmin/argmax, as they begin counting at 0 \n",
    "\n",
    "# Mean and standard deviation\n",
    "print(f\"The mean value is {np.mean(w)}\")\n",
    "print(f\"The standard deviation is {np.std(w)}\")\n",
    "\n",
    "# Calculate the probability distribution function (pdf) at each x\n",
    "pdf = stats.norm.pdf(w, loc=np.mean(w), scale=np.std(w))\n",
    "\n",
    "# Initialise the figure object \n",
    "fig, ax = plt.subplots(1, 1)\n",
    "\n",
    "# Add a normalised histogram\n",
    "ax.hist(w, density=\"True\", bins = 10, color=\"lime\", alpha=0.2, label=\"histogram\")\n",
    "\n",
    "# Add mean and a median as a line\n",
    "ax.axvline(np.mean(w), color=\"darkorange\", label=\"mean\")\n",
    "ax.axvline(np.median(w), color=\"magenta\", label=\"median\")\n",
    "\n",
    "# Add a PDF\n",
    "ax.plot(w, pdf, \".\", label=\"normal distribution\")\n",
    "\n",
    "# Add labels\n",
    "ax.set_xlabel(\"Weight (g)\")\n",
    "ax.set_ylabel(\"Probability, p(w)\")\n",
    "\n",
    "# Add the legend\n",
    "ax.legend()\n",
    "plt.show()\n",
    "```"
   ]
  },
  {
   "cell_type": "markdown",
   "metadata": {},
   "source": [
    "\n",
    "<div class=\"alert alert-success\"><b>Task 2.8: Analyse the kinetic data for a reaction at 250 and 300 K given below.</b>\n",
    "    \n",
    "Plot a relative likelihood that a particular value of rate constant, $K$ would be measured, showing the relative probability of each $K$.\n",
    "    \n",
    "Produce a histogram for the data.    \n",
    "</div>"
   ]
  },
  {
   "cell_type": "code",
   "execution_count": null,
   "metadata": {},
   "outputs": [],
   "source": [
    "# Here are some rates, K, at a T:\n",
    "K_250 = np.array([2.567111, 2.562323, 2.61557, 2.4366565, 2.495657, 2.516454, 3.671456])\n",
    "K_300 = np.array([2.5700804, 2.5660756, 2.6201404, 2.437922,  2.4999964, 2.5190192, 3.6754052])\n",
    "\n",
    "# FIXME"
   ]
  },
  {
   "cell_type": "markdown",
   "metadata": {},
   "source": [
    "<details><summary {style=\"color:green; font-weight:bold\"}> Click here to see the solution to Task 2.8.</summary>\n",
    "\n",
    "```python\n",
    "\n",
    "# Print the data\n",
    "print(f\"250 K mean = {np.mean(K_250):.3f}, std = {np.std(K_250):.3f}\")\n",
    "print(f\"300 K mean = {np.mean(K_300):.3f}, std = {np.std(K_300):.3f}\")\n",
    "\n",
    "# Generate 100 linearly spaced x values \n",
    "# Start a bit before and finish a bit after the min and max of K_250\n",
    "start = np.min(K_250) - 0.5\n",
    "finish = np.max(K_250) + 0.5\n",
    "x = np.linspace(start, finish, 100)\n",
    "\n",
    "# Calculate the probability distribution at each x\n",
    "y = stats.norm.pdf(x, loc=np.mean(K_250), scale=np.std(K_250))\n",
    "\n",
    "# Plot\n",
    "plt.plot(x, y, \".\")\n",
    "plt.xlabel(\"Rate (K)\")\n",
    "plt.ylabel(\"Population, p(K)\")\n",
    "plt.show()\n",
    "\n",
    "\n",
    "normal_distribution = stats.norm(loc=np.mean(K_250), scale=np.std(K_250))\n",
    "values = normal_distribution.rvs(5000)\n",
    "\n",
    "# Plot a histogram\n",
    "plt.hist(values, density=True, bins=50, alpha=0.5)\n",
    "\n",
    "# Use min and max of random numbers to create a range\n",
    "x = np.linspace(values.min(), values.max(), 100)\n",
    "\n",
    "# Plot the probability in that range\n",
    "plt.plot(x, normal_distribution.pdf(x))\n",
    "plt.xlabel(\"Rate (K)\")\n",
    "plt.ylabel(\"Population, p(K)\")\n",
    "plt.show() "
   ]
  },
  {
   "cell_type": "markdown",
   "metadata": {},
   "source": [
    "# Recap <a id=\"recap\"></a>\n",
    "\n",
    "You should now be able to use a **collection of methods** within NumPy to process and analyse your data:\n",
    "\n",
    " - `numpy.min(a)` find min value in the array\n",
    " - `numpy.argmin(a)` find position (AKA index) of the min value in the array\n",
    " - `numpy.max(a)` find max value in the array\n",
    " - `numpy.argmax(a)` find position (AKA index) of the max value in the array\n",
    " - `numpy.unique(a)` selects a subset of unique elements\n",
    " - `numpy.sort(a)` sorts the array max to min\n",
    " - `numpy.sum(a)` sum the elements of an array\n",
    " - `numpy.mean(a)` and `numpy.std(a)` compute mean and standard deviation of array values\n",
    " - `numpy.median(a)` \n"
   ]
  },
  {
   "cell_type": "markdown",
   "metadata": {},
   "source": [
    "# Feedback <a id=\"feedback\"></a>"
   ]
  }
 ],
 "metadata": {
  "kernelspec": {
   "display_name": "Python 3.10.2 ('jupyterlab')",
   "language": "python",
   "name": "python3"
  },
  "language_info": {
   "codemirror_mode": {
    "name": "ipython",
    "version": 3
   },
   "file_extension": ".py",
   "mimetype": "text/x-python",
   "name": "python",
   "nbconvert_exporter": "python",
   "pygments_lexer": "ipython3",
   "version": "3.10.2"
  },
  "vscode": {
   "interpreter": {
    "hash": "cf51243a6e93b78f1f5c5d179cd4f66e9bfd7b6269bebfcfdbed7f35483e292c"
   }
  }
 },
 "nbformat": 4,
 "nbformat_minor": 4
}

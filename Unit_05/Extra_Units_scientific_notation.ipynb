{
 "cells": [
  {
   "cell_type": "markdown",
   "metadata": {},
   "source": [
    "# Working with Scientific Numbers and Quantities <a class=\"anchor\" id=\"scinumb\"></a>\n",
    "\n",
    "### Extra material for Unit 05\n",
    "\n",
    "Authors:\n",
    "- Dr Valentina Erastova\n",
    "\n",
    "Email: <valentina.erastova@ed.ac.uk> "
   ]
  },
  {
   "cell_type": "markdown",
   "metadata": {},
   "source": [
    "Let's think about what numbers we _**plug into the command lines**_. The most expensive example of using wrong units is:\n",
    "\n",
    "<img src=\"images/OrbiterCrash.png\" width=\"600\">\n",
    "\n",
    "read full article [here](https://www.washingtonpost.com/wp-srv/national/longterm/space/stories/orbiter100199.htm )"
   ]
  },
  {
   "cell_type": "markdown",
   "metadata": {},
   "source": [
    "<div class=\"alert alert-warning\">\n",
    "\n",
    "**Example:** Distance (shortest route) between Edinburgh and London is  610 km. If you travel by train at an average speed 60 mph, how long will your travel be?\n",
    "    \n",
    "</div> "
   ]
  },
  {
   "cell_type": "markdown",
   "metadata": {},
   "source": [
    "Recall:\n",
    "\\begin{equation}\n",
    "\\mathrm{time} = \\frac{\\mathrm{distance}}{\\mathrm{speed}}\n",
    "\\end{equation}\n",
    "\n",
    "Correct the following:"
   ]
  },
  {
   "cell_type": "code",
   "execution_count": null,
   "metadata": {},
   "outputs": [],
   "source": [
    "distance = 610\n",
    "speed = 60\n",
    "\n",
    "time = distance/speed\n",
    "\n",
    "# FIXME\n",
    "# convert km to miles\n",
    "# 1 mile = 1.609 km \n",
    "\n",
    "factor = 1.609 #km/mile\n",
    "distance_miles = distance/factor  \n",
    "time = distance_miles/speed\n",
    "\n",
    "print (f'Time of travel will be {time}')"
   ]
  },
  {
   "cell_type": "markdown",
   "metadata": {},
   "source": [
    "Corrected? Run the cell below to check if you got it right!"
   ]
  },
  {
   "cell_type": "code",
   "execution_count": null,
   "metadata": {},
   "outputs": [],
   "source": [
    "if time > 8:\n",
    "    print (\"\\n_______\\n You are still missing something in the equation - think about units!\") "
   ]
  },
  {
   "cell_type": "markdown",
   "metadata": {},
   "source": [
    "<details>\n",
    "    <summary> <mark> SOLUTION:</mark> </summary>   \n",
    "   \n",
    "```python\n",
    "distance = 610 #kilometers\n",
    "speed = 60 #miles per hour\n",
    "\n",
    "#convert km to miles\n",
    "# 1 mile = 1.609 km  \n",
    "\n",
    "factor = 1.609 #km/mile\n",
    "    \n",
    "distance_miles = distance/factor  \n",
    "\n",
    "time = distance_miles/speed\n",
    "\n",
    "print ('Time of travel will be', time, 'hours')\n",
    "```\n",
    " \n",
    "</details>"
   ]
  },
  {
   "cell_type": "markdown",
   "metadata": {},
   "source": [
    "## 2.1 Units <a id=\"units\"></a>"
   ]
  },
  {
   "cell_type": "markdown",
   "metadata": {},
   "source": [
    "Let's write the equation including units:\n",
    "\n",
    "\\begin{equation}\n",
    "t \\text{[h]} = \\frac{d \\text{[km]}}{s \\text{[m } \\text{h}^{-1}\\text{]}}\n",
    "\\end{equation}\n",
    "\n",
    "In the textbook/report/plot: \n",
    "\n",
    "&nbsp;&nbsp;&nbsp;&nbsp;&nbsp;&nbsp;   **physical quantity** is *italics*, e.g. \\$m\\$ is mass and m is metre   \n",
    "&nbsp;&nbsp;&nbsp;&nbsp;&nbsp;&nbsp;  **units** are straight with spaces betwen units, e.g. [ ms<sup>-1</sup>] is not same as [ m s<sup>-1</sup>]\n",
    "\n",
    "in the notebook, use `#` to note your units and prevent a disaster! "
   ]
  },
  {
   "cell_type": "markdown",
   "metadata": {},
   "source": [
    "The [Pint](https://pint.readthedocs.io/en/stable/index.html) package is a great tool to keep track of the units. \n",
    "It does not come as a default on our Jupyter Notebook, and so we have to install it."
   ]
  },
  {
   "cell_type": "code",
   "execution_count": null,
   "metadata": {},
   "outputs": [],
   "source": [
    "!pip install pint"
   ]
  },
  {
   "cell_type": "markdown",
   "metadata": {},
   "source": [
    "Here we will only show an example, please follow the tutorial and manual of the Pint package if you decide to use it! "
   ]
  },
  {
   "cell_type": "code",
   "execution_count": null,
   "metadata": {},
   "outputs": [],
   "source": [
    "from pint import UnitRegistry\n",
    "\n",
    "ureg = UnitRegistry()\n",
    "\n",
    "#from before we know\n",
    "distance = 610  #kilometers\n",
    "speed = 60  #mph\n",
    "\n",
    "#assign distance and speed their units\n",
    "distance = distance * ureg.kilometer\n",
    "print(f'Distance of our travel is {distance}')\n",
    "\n",
    "#or ask for base, i.e. SI units\n",
    "distance_SI = distance.to_base_units()\n",
    "print(f'SI distance is {distance_SI}')"
   ]
  },
  {
   "cell_type": "markdown",
   "metadata": {},
   "source": [
    "In exactly same way we can assign speed its units, and check what is speed a measure of.\n",
    "We can then convert it to the unit we would like."
   ]
  },
  {
   "cell_type": "code",
   "execution_count": null,
   "metadata": {},
   "outputs": [],
   "source": [
    "#define speed\n",
    "speed = speed * ureg.mile_per_hour  # mile/hour\n",
    "print(f'Our average speed is {speed}')\n",
    "print(f'Speed is a measure of {speed.dimensionality}')\n",
    "\n",
    "#convert speed\n",
    "speed_kmh = speed.to(ureg.kilometer_per_hour)\n",
    "print(f'The speed of {speed} is equal to {speed_kmh}')"
   ]
  },
  {
   "cell_type": "markdown",
   "metadata": {},
   "source": [
    "Try to change convert distance and speed to other units."
   ]
  },
  {
   "cell_type": "code",
   "execution_count": null,
   "metadata": {},
   "outputs": [],
   "source": [
    "# FIXME\n"
   ]
  },
  {
   "cell_type": "markdown",
   "metadata": {},
   "source": [
    "<details>\n",
    "    <summary> Click here to see additional operations you can carry out using Pint!</summary>   \n",
    "\n",
    "Convert distance to meters:<br>\n",
    "```python\n",
    "#we can convert the distance to  meters\n",
    "distance_m = distance.to(ureg.meter)\n",
    "print('Distance should be in meters like this', distance_m)\n",
    "    \n",
    "```\n",
    "\n",
    "SI units: \n",
    "```python\n",
    "#or ask for base, i.e. SI units\n",
    "distance_SI = distance.to_base_units()\n",
    "print('SI distance is', distance_SI)\n",
    "    \n",
    "```\n",
    "\n",
    "Miles:\n",
    "    \n",
    "```python\n",
    "#we can convert the distance to other common units, such as miles\n",
    "distance_nonSI = distance.to(ureg.miles)\n",
    "print('Distance in other units...', distance_nonSI)   \n",
    "    \n",
    "```\n",
    "\n",
    "Make the distance human-readable:    \n",
    "```python\n",
    "#human readable\n",
    "distance_human = distance.to_compact()\n",
    "print('Most of humans would use this measure of distance', distance_human)\n",
    "```\n",
    " \n",
    "What if we try to assign a distance to be miles per hour? \n",
    "    \n",
    "```python\n",
    "distance_notOK = distance.to(ureg.mile_per_hour)\n",
    "```\n",
    "    \n",
    "Can you convert speed into unusual units, such as decameter per fortnight?<br>\n",
    "We should be able to, as these are a measure of [length] per [time]\n",
    "    \n",
    "```python    \n",
    "#define speed\n",
    "speed = speed * ureg.mile_per_hour  # mile/hour\n",
    "print('Speed is a measure of', speed.dimensionality)\n",
    "\n",
    "#we can also decide to use a more unusual unit\n",
    "speed_odd = speed.to( ureg.decameter / ureg.fortnight)  \n",
    "#yep, fortnight is a registered unit of time in Pint package\n",
    "print('This is an unusual measure of speed', speed_odd)\n",
    "```\n",
    "</details>"
   ]
  },
  {
   "cell_type": "markdown",
   "metadata": {},
   "source": [
    "Now that we know how to convert measurement units, let's go back to our original problem and calculate the travel time correctly. Does it match? what you did earlier? "
   ]
  },
  {
   "cell_type": "code",
   "execution_count": null,
   "metadata": {},
   "outputs": [],
   "source": [
    "ti = distance/speed_kmh\n",
    "\n",
    "print(f'Our value of time is a measure of {ti.dimensionality}')\n",
    "\n",
    "ti_h = ti.to(ureg.hour)\n",
    "print (f'Our travel time is {ti_h}')\n",
    "\n",
    "ti_day = ti.to(ureg.day)\n",
    "print (f'or {ti_day.to_reduced_units()}')"
   ]
  },
  {
   "cell_type": "markdown",
   "metadata": {},
   "source": [
    "### 2.1.1 Base vs Derived Units <a id=\"base_units\"></a>"
   ]
  },
  {
   "cell_type": "markdown",
   "metadata": {},
   "source": [
    "Here we have shown the unit convertions working with **Base units**:\n",
    "\n",
    "|  Base quantity    ||  SI base unit    || \n",
    "|:-:|:-:|:-:|:-:|\n",
    "| length  |  \\$l,\\$ \\$ x,\\$ \\$ r\\$ |  meter |  m |   \n",
    "| mass  | \\$m\\$  | kilogram  |  kg |   \n",
    "|  time, duration | \\$t\\$  |  second |  s |   \n",
    "|  electric current | \\$I,\\$ \\$  i\\$  |  ampere |  A |   \n",
    "|  thermodynamic temperature | \\$T\\$  |  kelvin |  K |   \n",
    "| amount of substance  | \\$n\\$ |  mole |  mol |   \n",
    "|  luminous intensity | \\$I_v\\$  | candela\t|cd |  "
   ]
  },
  {
   "cell_type": "markdown",
   "metadata": {},
   "source": [
    "There are also **Derived units**, for example:\n",
    "\n",
    "- 1 N is the force required to accelerate a 1 kg mass by 1 m s<sup>-2</sup>   \n",
    "N = kg m s<sup>-2</sup>   \n",
    "        \n",
    "- 1 J is the energy expended in moving a distance of 1 m against a force of 1 N   \n",
    "J = N m = kg m<sup>2</sup> s<sup>-2</sup>   \n",
    "        \n",
    "- 1 J is the energy required to move a charge of 1 C through a potential difference of 1 V   \n",
    "J = C V   \n",
    "- and so on...    \n",
    "\n",
    "_**When evaluating equations always multiply the units as well as the numbers and check that they work out correctly!**_\n",
    "\n",
    "**Dimentions of the units** - either side of an equality MUST be the same! \n",
    "\n",
    "&nbsp;&nbsp;&nbsp;&nbsp;&nbsp;&nbsp;    \\$c\\$ = 2.998 x 10<sup>8</sup> m s<sup>-1</sup>   \n",
    "&nbsp;&nbsp;&nbsp;&nbsp;&nbsp;&nbsp;  or  \n",
    "&nbsp;&nbsp;&nbsp;&nbsp;&nbsp;&nbsp;    \\$c\\$ / m s<sup>-1</sup>  =  2.998 x 10<sup>8</sup>   "
   ]
  },
  {
   "cell_type": "markdown",
   "metadata": {},
   "source": [
    "<img src=\"images/mrIncreadible_meter.jpg\" width=\"500\">"
   ]
  },
  {
   "cell_type": "markdown",
   "metadata": {},
   "source": [
    "### 2.1.2 Scientific Notation <a id=\"sci_notation\"></a>"
   ]
  },
  {
   "cell_type": "markdown",
   "metadata": {},
   "source": [
    "Very large/small numbers can be written using scientific notation. For example, *C-O* single bond is 1.165 Å, we know that $1 \\text{Å}=10^{−10}$ m, so we can write it as $1.165 \\times 10^{-10}$ m, which is Python can also be written as `1.165e-10`."
   ]
  },
  {
   "cell_type": "markdown",
   "metadata": {},
   "source": [
    "<div class=\"alert alert-info\">\n",
    "<b>Working example:</b> What is the pressure of 1.00 mol of an ideal gas in a 1.00 m<sup>3</sup> vessel at 298 K?      \n",
    "</div>"
   ]
  },
  {
   "cell_type": "markdown",
   "metadata": {},
   "source": [
    "Recall:\n",
    "\\begin{equation}\n",
    "pV = nRT\n",
    "\\end{equation}\n",
    "\n",
    "Rearrange:\n",
    "\\begin{equation}\n",
    "p = \\frac{nRT}{V}\n",
    "\\end{equation}\n",
    "\n",
    "Check units: \n",
    "\\begin{equation}\n",
    "p = \\frac{ \\text{mol} \\text{ J K}^{-1} \\text{mol}^{-1} \\text{ K}} {\\text{m}^{3}} = \\frac{\\text{J}} {\\text{m}^{3}} = \\frac{\\text{N m}} {\\text{m}^{3}} = \\frac{\\text{N}} {\\text{m}^{2}} = \\text{N m}^{-2}\n",
    "\\end{equation}\n",
    "\n"
   ]
  },
  {
   "cell_type": "code",
   "execution_count": null,
   "metadata": {},
   "outputs": [],
   "source": [
    "#declare known values\n",
    "n = 1.00 # mol\n",
    "R = 8.315 # J K-1 mol-1\n",
    "T = 298 # K\n",
    "V = 1.00 # m3\n",
    "\n",
    "#calculate p\n",
    "p = (n*R*T)/V  # N m-2\n",
    "\n",
    "print(f'The pressure is {p} N m-2')"
   ]
  },
  {
   "cell_type": "markdown",
   "metadata": {},
   "source": [
    "Run the cell below to find out if you calculate it correctly."
   ]
  },
  {
   "cell_type": "code",
   "execution_count": null,
   "metadata": {},
   "outputs": [],
   "source": [
    "if p != 2477.87:\n",
    "    print(\"\\n_______\\n You should be getting 2477.87 N m-2\")\n",
    "else:\n",
    "    print(\"Well done!\")"
   ]
  },
  {
   "cell_type": "markdown",
   "metadata": {},
   "source": [
    "### 2.1.3 Significant figures"
   ]
  },
  {
   "cell_type": "markdown",
   "metadata": {},
   "source": [
    "Does the pressure reported above feature a correct number of significant figures? Unlikely!\n",
    "\n",
    "You should always report the same number of significant figures as the _poorest_ dataset. To do this, use `round (number, x)` , where `x` is number of digits = 0 by defaut. `x > 0` for right side of the `321.123`, and `x < 0` for the left."
   ]
  },
  {
   "cell_type": "markdown",
   "metadata": {},
   "source": [
    "Let's try to round the pressure to correct the significant figures."
   ]
  },
  {
   "cell_type": "code",
   "execution_count": null,
   "metadata": {},
   "outputs": [],
   "source": [
    "#What is x = ?\n",
    "\n",
    "x = -1  # x = 1, or x = 2, or x = 3, or x = -1, or x = -2, ...\n",
    "p_rnd = round(p, x)\n",
    "\n",
    "print(f'The pressure is {p_rnd} N m-2') "
   ]
  },
  {
   "cell_type": "markdown",
   "metadata": {},
   "source": [
    "Run the cell below to see whether you did it right!"
   ]
  },
  {
   "cell_type": "code",
   "execution_count": null,
   "metadata": {},
   "outputs": [],
   "source": [
    "if p_rnd != 2480.0:\n",
    "    print(\"\\n_______\\n Not there yet... should be 2480 N m-2\")\n",
    "else:\n",
    "    print(\"Well done!\")"
   ]
  },
  {
   "cell_type": "markdown",
   "metadata": {},
   "source": [
    "You can type sub and super scripts as follows:"
   ]
  },
  {
   "cell_type": "code",
   "execution_count": null,
   "metadata": {},
   "outputs": [],
   "source": [
    "SUB = str.maketrans(\"0123456789-+\", \"₀₁₂₃₄₅₆₇₈₉₋₊\")\n",
    "SUP = str.maketrans(\"0123456789-+\", \"⁰¹²³⁴⁵⁶⁷⁸⁹⁻⁺\")\n",
    "\n",
    "#Example\n",
    "acid = 'H2SO4'.translate(SUB)\n",
    "print('Sulfuric acid is {acid}')\n",
    "\n",
    "units = 'km h-1'.translate(SUP)\n",
    "print(f'Speed units are {units}')"
   ]
  },
  {
   "cell_type": "markdown",
   "metadata": {},
   "source": [
    "<div class=\"alert alert-info\">\n",
    "Combine the <code>round(p, x)</code> with appropriate string formatting in an excercise below to get the following output: <code>Pressure is = 2480 N m⁻²</code>\n",
    "</div>"
   ]
  },
  {
   "cell_type": "code",
   "execution_count": null,
   "metadata": {},
   "outputs": [],
   "source": [
    "# declare known values\n",
    "n = 1.00 # mol\n",
    "R = 8.315 # J K-1 mol-1\n",
    "T = 298 # K\n",
    "V = 1.00 # m3\n",
    "\n",
    "# calculate p\n",
    "p = (n*R*T)/V  # N m-2\n",
    "\n",
    "# round the pressure\n",
    "p_rnd = round(p, -1)\n",
    "\n",
    "# units prettify\n",
    "units=\"N m-2\".translate(SUP)\n",
    "\n",
    "# print \n",
    "print (f'Pressure is = {p_rnd:.0f} {units}') "
   ]
  },
  {
   "cell_type": "markdown",
   "metadata": {},
   "source": [
    "<details>\n",
    "    <summary> <mark> SOLUTION:</mark> </summary>   \n",
    "\n",
    "```python\n",
    "    \n",
    "#declare known values\n",
    "n = 1.00 # mol\n",
    "R = 8.315 # J K-1 mol-1\n",
    "T = 298 # K\n",
    "V = 1.00 # m3\n",
    "\n",
    "#calculate p\n",
    "p = (n*R*T)/V  # N m-2\n",
    "\n",
    "\n",
    "#round the pressure\n",
    "p_rnd = round(p, -1)\n",
    "\n",
    "#units pretify\n",
    "units=\"N m-2\".translate(SUP)\n",
    "\n",
    "# print\n",
    "print ('Pressure is = %.0f %s' %(p_rnd, units))\n",
    "```\n",
    "</details>"
   ]
  },
  {
   "cell_type": "markdown",
   "metadata": {},
   "source": [
    "### 2.1.5 Scientific Constants <a id=\"sci_const\"></a>"
   ]
  },
  {
   "cell_type": "markdown",
   "metadata": {},
   "source": [
    "Instead of looking up the gas constant on Wikipedia (or where did you look it up?) and then copy-pasting or typing it in, we can profit from the [scientific constants](https://docs.scipy.org/doc/scipy/reference/constants.html) `scipy.constants`, giving us a much more accurate value according to [CODATA Recommended Values of the Fundamental Physical Constants 2018](https://physics.nist.gov/cuu/Constants/) \n",
    "\n",
    "```python\n",
    "from scipy.constants import R\n",
    "```\n",
    "or more generally \n",
    "```python\n",
    "from scipy import constants \n",
    "```\n",
    "\n",
    "Remembering all the full names and symbols can be tricky, so use the `constants.find('gas')` to help you here!"
   ]
  },
  {
   "cell_type": "code",
   "execution_count": null,
   "metadata": {},
   "outputs": [],
   "source": [
    "from scipy import constants \n",
    "\n",
    "# list of physical_constant keys containing a string 'gas'\n",
    "constants.find('gas')"
   ]
  },
  {
   "cell_type": "markdown",
   "metadata": {},
   "source": [
    "We now know that our constant is called 'molar gas constant' so we can import its value, and also check units and precision."
   ]
  },
  {
   "cell_type": "code",
   "execution_count": null,
   "metadata": {},
   "outputs": [],
   "source": [
    "R_value=constants.value('molar gas constant')\n",
    "R_units=constants.unit('molar gas constant')\n",
    "R_prec=constants.precision('molar gas constant')\n",
    "\n",
    "print(f'R = {R_value} {R_units} and has the following precision {R_prec}')"
   ]
  },
  {
   "cell_type": "markdown",
   "metadata": {},
   "source": [
    "The `precision of 0.0` means that the **value of molar gas constant is exact**, indeed during the 2019 redefinition of SI base units both Avogadro number and Boltzmann constant have been defined with exact numerical values, making gas constant, R, also exact."
   ]
  },
  {
   "cell_type": "markdown",
   "metadata": {},
   "source": [
    "<div class=\"alert alert-success\">\n",
    "    <b>Task:</b> <br>\n",
    "Update your code to benefit from the <code>scipy.constants</code> package. How much difference does it make?\n",
    "</div>"
   ]
  },
  {
   "cell_type": "markdown",
   "metadata": {},
   "source": [
    "<details>\n",
    "    <summary>  <mark> SOLUTION:</mark> </summary>   \n",
    "\n",
    "```python        \n",
    "from scipy import constants \n",
    "\n",
    "# get R\n",
    "R_value = constants.value('molar gas constant')\n",
    "\n",
    "#declare known values\n",
    "n = 1.00 # mol\n",
    "R = 8.315 # J K-1 mol-1\n",
    "T = 298 # K\n",
    "V = 1.00 # m3\n",
    "\n",
    "#calculate p using the manually written R\n",
    "p = (n*R*T)/V  # N m-2\n",
    "print (f'Pressure is = {p:.5f} N m-2')\n",
    "\n",
    "#calculate p using R from the scipy.constants\n",
    "p_const=(n*R_value*T)/V\n",
    "print(f'Pressure using scipy.constants is = {p:.5f} N m-2')\n",
    "\n",
    "#find the difference\n",
    "diff=p-p_const\n",
    "diff_pr= 2*diff*100/(p+p_const)\n",
    "print(f'The difference due to use of more precice constant is = {diff:.5f}, which makes it = {diff_pr:.3f} percent')\n",
    "\n",
    "print ('Nevertheless, out other measurments have much greater margin of precision,\n",
    "       and so we must report the pressure as before...')\n",
    "\n",
    "p_rnd = round(p_const, -1)\n",
    "units = \"N m-2\".translate(SUP)\n",
    "\n",
    "print (f'Pressure is = {p_rnd:.0f} {units}')\n",
    "```\n",
    "</details>"
   ]
  },
  {
   "cell_type": "markdown",
   "metadata": {},
   "source": [
    "See all the good practices on [Units](#units), [Scientific Notation](#sci_notation), [Constants](#sci_const) and [String formating](string_formatting) (seen in Part II of this Unit) applied in the short code below: "
   ]
  },
  {
   "cell_type": "code",
   "execution_count": null,
   "metadata": {},
   "outputs": [],
   "source": [
    "from scipy import constants \n",
    "\n",
    "# get R\n",
    "R_value = constants.value('molar gas constant')\n",
    "\n",
    "#declare known values\n",
    "n = 1.00 # mol\n",
    "T = 298 # K\n",
    "V = 1.00 # m3\n",
    "    \n",
    "p_rnd = round(p_const, -1)\n",
    "units=\"N m-2\".translate(SUP)\n",
    "\n",
    "print (f'Pressure is = {p_rnd:.0f} {units}')"
   ]
  },
  {
   "cell_type": "markdown",
   "metadata": {},
   "source": [
    "---"
   ]
  }
 ],
 "metadata": {
  "kernelspec": {
   "display_name": "Python 3 (ipykernel)",
   "language": "python",
   "name": "python3"
  },
  "language_info": {
   "codemirror_mode": {
    "name": "ipython",
    "version": 3
   },
   "file_extension": ".py",
   "mimetype": "text/x-python",
   "name": "python",
   "nbconvert_exporter": "python",
   "pygments_lexer": "ipython3",
   "version": "3.9.13"
  },
  "vscode": {
   "interpreter": {
    "hash": "02f18a21a35e5954c18fa769bc3437e1d5dd28e5f0ee8ec3c48889ec5af25b37"
   }
  }
 },
 "nbformat": 4,
 "nbformat_minor": 2
}

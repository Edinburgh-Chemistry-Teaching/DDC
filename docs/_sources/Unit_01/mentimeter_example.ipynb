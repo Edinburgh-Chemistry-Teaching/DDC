{
 "cells": [
  {
   "cell_type": "markdown",
   "metadata": {},
   "source": [
    "# Mentimeter Example\n",
    "\n",
    "This is an example notebook of how to embed Mentimeters in a markdown cell."
   ]
  },
  {
   "cell_type": "code",
   "execution_count": null,
   "metadata": {},
   "outputs": [],
   "source": [
    "import sys\n",
    "import os.path\n",
    "sys.path.append(os.path.abspath('../'))\n",
    "from helper_functions.mentimeter import Mentimeter"
   ]
  },
  {
   "cell_type": "code",
   "execution_count": null,
   "metadata": {},
   "outputs": [],
   "source": [
    "vote = Mentimeter(vote = 'mentimeter address here')\n",
    "vote.show()"
   ]
  }
 ],
 "metadata": {
  "kernelspec": {
   "display_name": "Python 3 (ipykernel)",
   "language": "python",
   "name": "python3"
  },
  "language_info": {
   "codemirror_mode": {
    "name": "ipython",
    "version": 3
   },
   "file_extension": ".py",
   "mimetype": "text/x-python",
   "name": "python",
   "nbconvert_exporter": "python",
   "pygments_lexer": "ipython3",
   "version": "3.8.13"
  },
  "vscode": {
   "interpreter": {
    "hash": "cf51243a6e93b78f1f5c5d179cd4f66e9bfd7b6269bebfcfdbed7f35483e292c"
   }
  }
 },
 "nbformat": 4,
 "nbformat_minor": 2
}

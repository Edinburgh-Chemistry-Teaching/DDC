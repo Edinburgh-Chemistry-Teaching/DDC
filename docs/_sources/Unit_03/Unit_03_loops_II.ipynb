{
 "cells": [
  {
   "cell_type": "markdown",
   "metadata": {},
   "source": [
    "# Unit 03: Loops, Pandas and Simple Plotting II\n",
    "\n",
    "<a rel=\"license\" href=\"http://creativecommons.org/licenses/by/4.0/\"><img alt=\"Creative Commons Licence\" style=\"border-width:0\" src=\"https://i.creativecommons.org/l/by/4.0/88x31.png\" title='This work is licensed under a Creative Commons Attribution 4.0 International License.' align=\"right\"/></a>\n",
    "\n",
    "Author: Dr Claire Hobday   \n",
    "\n",
    "Email: claire.hobday@ed.ac.uk\n",
    "\n",
    "## Learning objectives:\n",
    "\n",
    "By the end of this unit, you should be able to\n",
    "- use in-built functionality in Python\n",
    "- import modules and libraries \n",
    "- use the `math` module to do some simple scientific computing tasks\n",
    "- develop more `pandas` skills to deal with large volumes of data\n",
    "- use logical operations to filter data\n",
    "- understand and use the different types of loops to do repetitive tasks including:\n",
    "    - `for`\n",
    "    - `if`\n",
    "    - `else`/`elif`\n",
    "    - `while`\n",
    "    - `break`\n",
    "- combine these tools to analyse data in a large file containing information about the periodic table\n",
    "- use tools from Python to understand trends in the periodic table\n",
    "\n",
    "Some of the material was adapted from [Python4Science](https://github.com/Degiacomi-Lab/python4science/blob/master/2_Python_numerical_data.ipynb), as well as [Software Carpentries](http://swcarpentry.github.io/python-novice-gapminder/index.html)."
   ]
  },
  {
   "cell_type": "markdown",
   "metadata": {},
   "source": [
    "### Table of Contents\n",
    "1. [Boolean Indexing](#1-boolean-indexing)      \n",
    "    1.1. [Tasks 1](#tasks-1)\n",
    "2. [Using Pandas DataFrames with loops to analyse data](#2-using-pandas-dataframes-with-loops-to-analyse-data)\n",
    "3. [Plotting with Pandas](#3-plotting-with-pandas)   \n",
    "   3.1 [Tasks 2](#tasks-2) "
   ]
  },
  {
   "cell_type": "markdown",
   "metadata": {},
   "source": [
    "**<span style=\"color:black\">Jupyter Cheat Sheet</span>**\n",
    "- To run the currently highlighted cell and move focus to the next cell, hold <kbd>&#x21E7; Shift</kbd> and press <kbd>&#x23ce; Enter</kbd>;\n",
    "- To run the currently highlighted cell and keep focus in the same cell, hold <kbd>&#x21E7; Ctrl</kbd> and press <kbd>&#x23ce; Enter</kbd>;\n",
    "- To get help for a specific function, place the cursor within the function's brackets, hold <kbd>&#x21E7; Shift</kbd>, and press <kbd>&#x21E5; Tab</kbd>;"
   ]
  },
  {
   "cell_type": "markdown",
   "metadata": {},
   "source": [
    "### Links to documentation\n",
    "\n",
    "You can find useful information about using `math` and `pandas` at\n",
    "- [math](https://docs.python.org/3/library/math.html)\n",
    "- [pandas](https://pandas.pydata.org/)\n",
    "- [anaconda](https://anaconda.org)\n",
    "- [PyPI](https://pypi.org)"
   ]
  },
  {
   "cell_type": "markdown",
   "metadata": {},
   "source": [
    "# Import libraries\n",
    "\n",
    "Run the cell below to import all the required libraries"
   ]
  },
  {
   "cell_type": "code",
   "execution_count": null,
   "metadata": {},
   "outputs": [],
   "source": [
    "import numpy as np\n",
    "import matplotlib.pyplot as plt\n",
    "import pandas as pd"
   ]
  },
  {
   "cell_type": "markdown",
   "metadata": {},
   "source": [
    "# 1. Boolean idexing<a class=\"anchor\" id=\"1-boolean-indexing\"></a>"
   ]
  },
  {
   "cell_type": "markdown",
   "metadata": {},
   "source": [
    "<img src=\"https://upload.wikimedia.org/wikipedia/commons/c/ce/George_Boole_color.jpg\" width=\"250\" style=\"float: right\"></img>\n",
    "\n",
    "Related to `if`,  `elif` and `else` conditions are Booleans.\n",
    "\n",
    "\n",
    "**George Boole** was a 19th century self-taught English mathematician, philosopher and logician. He is known for Boolean algerbra, that is based on variables being **True** or **False**, denoted as **1** and **0** respectively. \n",
    "\n",
    "The operations in Boolean algebra are **and** denoted as $\\wedge$, **or** denoted as $\\vee$ , and **not** denoted as $\\neg$.\n",
    "\n",
    "<img src=\"https://upload.wikimedia.org/wikipedia/commons/thumb/a/ae/Vennandornot.svg/2560px-Vennandornot.svg.png\" width=\"300\" style=\"float: center\" title=\"Venn diagram\"> <em><center>Venn diagram</center></em></img>\n",
    "\n",
    "In fact, in using `if` we have already asked python to do a Boolean operation. If our answer to our if statement is true, we continue with our conditional loop. The return of the Boolean variable `true` or `false` is what determines the fate of our `if` loop. \n"
   ]
  },
  {
   "cell_type": "markdown",
   "metadata": {},
   "source": [
    "### Bitwise Operators\n",
    "\n",
    "In python there are many ways to do the same Boolean operations, we are going to use Bitwise operators which compare binary \n",
    "\n",
    "<div class=\"alert alert-info\">\n",
    "    \n",
    "| Operator | Name | Description |\n",
    "| :- | :- | :- |\n",
    "| `&` | AND | Sets each bit to 1 if both bits are 1 |\n",
    "|  &#124; | OR | Sets each bit to 1 if one of two bits is 1 |\n",
    "| `^` | XOR | Sets each bit to 1 if only one of two bits is 1 |\n",
    "| `~` | NOT | Inverts all the bits |\n",
    "| `<<` | Zero fill left shift | Shift left by pushing zeros in from the right and let the leftmost bits fall off |\n",
    "| `>>` | Signed right shift | Shift right by pushing copies of the leftmost bit in from the left, and let the rightmost bits fall off |\n",
    "\n",
    "</div>"
   ]
  },
  {
   "cell_type": "markdown",
   "metadata": {},
   "source": [
    "\n",
    "### Boolean Tests <a class=\"anchor\" id=\"booltest\"></a>\n",
    "\n",
    "Boolean tests on an array produce an array of booleans:\n",
    "\n",
    "<img src=\"images/BooleanOp.png\" width=\"500\">\n",
    "\n",
    "\n",
    "What we can see here is for each value in this series, what the Boolean outcome would be for two tests. \n"
   ]
  },
  {
   "cell_type": "code",
   "execution_count": null,
   "metadata": {},
   "outputs": [],
   "source": [
    "# Declare a series dataframe (just 1D dataframe, like one column of an excel sheet)\n",
    "a = pd.Series([32, 2, 65, 29, 7, 14, 57, 81, 27, 0, 56])"
   ]
  },
  {
   "cell_type": "code",
   "execution_count": null,
   "metadata": {},
   "outputs": [],
   "source": [
    "# Take a look at the format of the series\n",
    "# \"\\n\" means new-line, so the variable gets printed on the line below followed by an empty line \n",
    "print(f\"Series a \\n {a} \\n\") "
   ]
  },
  {
   "cell_type": "code",
   "execution_count": null,
   "metadata": {},
   "outputs": [],
   "source": [
    "# Declare tests\n",
    "c = a[a > 15]\n",
    "d = a[a < 0]\n",
    "\n",
    "print (f\"condition c = a>15 \\n {c} \\n\")\n",
    "print (f\"condition d = a<0 \\n {d} \\n\")\n"
   ]
  },
  {
   "cell_type": "markdown",
   "metadata": {},
   "source": [
    "Both tests c and d are satisfied one after the other. \n",
    "What if we want to satisfy both tests at the same time?"
   ]
  },
  {
   "cell_type": "code",
   "execution_count": null,
   "metadata": {},
   "outputs": [],
   "source": [
    "# AND logic\n",
    "print(c & d)"
   ]
  },
  {
   "cell_type": "markdown",
   "metadata": {},
   "source": [
    "Here, you can see the output is False, and shows you all the indices where they are False. \n",
    "\n",
    "Now if we try `or` :"
   ]
  },
  {
   "cell_type": "code",
   "execution_count": null,
   "metadata": {},
   "outputs": [],
   "source": [
    "# OR logic\n",
    "print(c | d)"
   ]
  },
  {
   "cell_type": "markdown",
   "metadata": {},
   "source": [
    "###  Boolean Indexing in Series <a class=\"anchor\" id=\"boolind\"></a>\n",
    "We can also use an array of booleans to index another array, i.e. only elements coresponding to `True` are extracted from the indexed array.\n",
    "\n",
    "<img src=\"images/Boolean.png\" width=\"500\">"
   ]
  },
  {
   "cell_type": "code",
   "execution_count": null,
   "metadata": {},
   "outputs": [],
   "source": [
    "c = a > 15\n",
    "d = a < 0\n",
    "a_cVd = a[c | d]\n",
    "print(a_cVd)"
   ]
  },
  {
   "cell_type": "markdown",
   "metadata": {},
   "source": [
    "### Boolean Indexing in DataFrames\n",
    "\n",
    "Using these same logical principles, we can index whole dataframes to recover just the data we need. \n",
    "Let's take a look at the dataframe below:"
   ]
  },
  {
   "cell_type": "code",
   "execution_count": null,
   "metadata": {},
   "outputs": [],
   "source": [
    "# Dictionary of lists\n",
    "dict = {\"name\":[\"Toni\", \"James\", \"Claire\", \"Valentina\"],\n",
    "        \"degree\": [\"Chemistry\", \"Medicinal and Biological Chemistry\", \"Chemical Physics\", \"Chemical Physics\"],\n",
    "        \"score\":[90, 77, 61, 98]}\n",
    " \n",
    "# creating a dataframe from a dictionary\n",
    "df = pd.DataFrame(dict)\n",
    "\n",
    "print(df)\n"
   ]
  },
  {
   "cell_type": "markdown",
   "metadata": {},
   "source": [
    "Now let's use the comparison operator to filter just those who do MBC."
   ]
  },
  {
   "cell_type": "code",
   "execution_count": null,
   "metadata": {},
   "outputs": [],
   "source": [
    "# Using a comparison operator for filtering of data\n",
    "    \n",
    "criterion = df[\"degree\"] == \"Medicinal and Biological Chemistry\"\n",
    "print(criterion)"
   ]
  },
  {
   "cell_type": "code",
   "execution_count": null,
   "metadata": {},
   "outputs": [],
   "source": [
    "# Apply the indexing to our dataframe to return only those that fit our criteria\n",
    "print(df[criterion])"
   ]
  },
  {
   "cell_type": "code",
   "execution_count": null,
   "metadata": {},
   "outputs": [],
   "source": [
    "# Apply the indexing to our dataframe to return only those that DO NOT fit our criteria\n",
    "print(df[~criterion])"
   ]
  },
  {
   "cell_type": "markdown",
   "metadata": {},
   "source": [
    "# Tasks 1 <a id=\"tasks-1\"></a>"
   ]
  },
  {
   "cell_type": "markdown",
   "metadata": {},
   "source": [
    "<div class=\"alert alert-success\">\n",
    "    <b>Task 1.1: Mass spectrometry</b>\n",
    "\n",
    "Using the mass spectometry data in the file `ms.txt`, find m/z values in the region between m/z 6400 and 6600. \n",
    "</div>\n"
   ]
  },
  {
   "cell_type": "code",
   "execution_count": null,
   "metadata": {},
   "outputs": [],
   "source": [
    "# FIXME\n",
    "# Read the file ms.txt into the dataframe, and make sure to give the data column names\n",
    "ms_data = pd.read_csv(filepath_or_buffer=____, sep=___, header=____, names = [_____])\n",
    "\n",
    "# Criteria for slicing data\n",
    "# FIXME\n",
    "print(output)"
   ]
  },
  {
   "cell_type": "markdown",
   "metadata": {},
   "source": [
    "<details><summary {style='color:green;font-weight:bold'}> Click here to see solution to Task 1.1</summary>\n",
    "    \n",
    "```python\n",
    "ms_data = pd.read_csv(filepath_or_buffer=\"files/ms.txt\", sep=\"\\t\", header=None, names=[\"m/z\", \"intensity\"])\n",
    "\n",
    "# Criteria for slicing data\n",
    "criterion_1 = ms_data[\"m/z\"] > 6400\n",
    "criterion_2 = ms_data[\"m/z\"]< 6600\n",
    "output = ms_data[criterion_1 & criterion_2]\n",
    "print(output)\n",
    "\n",
    "```\n",
    "\n",
    "*Explanation*: we need to know the path to the file, look at the file to work out how the columns of data are separated, does the data have headers? What should the column names be?\n",
    " </details>"
   ]
  },
  {
   "cell_type": "markdown",
   "metadata": {},
   "source": [
    "<div class=\"alert alert-success\">\n",
    "    <b>Task 1.2 </b> : Assess at what m/z value there is a peak between 6400 and 6600. \n",
    "</div>"
   ]
  },
  {
   "cell_type": "code",
   "execution_count": null,
   "metadata": {},
   "outputs": [],
   "source": [
    "# FIXME\n"
   ]
  },
  {
   "cell_type": "markdown",
   "metadata": {},
   "source": [
    "<details><summary {style='color:green;font-weight:bold'}> Click here to see solution to Task 1.2</summary>\n",
    "    \n",
    "```python\n",
    "intensity = output[\"intensity\"]\n",
    "m_z = output[\"m/z\"]\n",
    "max_value = intensity.max()\n",
    "max_index = intensity.idxmax()\n",
    "\n",
    "print(\"peak\", max_value, \"at m/z\", m_z[max_index])\n",
    "\n",
    "```\n",
    "\n",
    "\n",
    " </details>"
   ]
  },
  {
   "cell_type": "markdown",
   "metadata": {},
   "source": [
    "# 2. Using Pandas DataFrames with loops to analyse data <a id='2-using-pandas-dataframes-with-loops-to-analyse-data'></a>"
   ]
  },
  {
   "cell_type": "markdown",
   "metadata": {},
   "source": [
    "We are now going to play around with the dataframe we looked at earlier containing information about the periodic table and pull out some more information from this."
   ]
  },
  {
   "cell_type": "code",
   "execution_count": null,
   "metadata": {},
   "outputs": [],
   "source": [
    "ptable = pd.read_csv(\"files/ptable.csv\")"
   ]
  },
  {
   "cell_type": "code",
   "execution_count": null,
   "metadata": {},
   "outputs": [],
   "source": [
    "# The entries in the df are ordered 0 to 117 for each element. \n",
    "# 0 is hydrogen.\n",
    "print(ptable.loc[0, :]) "
   ]
  },
  {
   "cell_type": "markdown",
   "metadata": {},
   "source": [
    "We can see that there are some variables which return `NaN` (which stands for \"Not a Number\"), we can remove or fill these values easily in pandas."
   ]
  },
  {
   "cell_type": "code",
   "execution_count": null,
   "metadata": {},
   "outputs": [],
   "source": [
    "# drop all values\n",
    "ptable.dropna() \n",
    "# or fill with zeros \n",
    "ptable.fillna(0)"
   ]
  },
  {
   "cell_type": "markdown",
   "metadata": {},
   "source": [
    "We are going to add a new column to our dataframe, which will calculate the mass number from the number of neutron and protons which we already have in two columns. This is just done as a simple addition of the two columns."
   ]
  },
  {
   "cell_type": "code",
   "execution_count": null,
   "metadata": {},
   "outputs": [],
   "source": [
    "# add new column to the dataframe\n",
    "ptable[\"Calculated_mass_number\"] = ptable[\"NumberofNeutrons\"] + ptable[\"NumberofProtons\"]"
   ]
  },
  {
   "cell_type": "markdown",
   "metadata": {},
   "source": [
    "Calculate the difference between our calculated value `Calculated_mass_number` and the value given in the array originally `AtomicMass`. <br>\n",
    "Think about why the values would be different."
   ]
  },
  {
   "cell_type": "code",
   "execution_count": null,
   "metadata": {},
   "outputs": [],
   "source": [
    "ptable[\"Difference_in_mass\"] = ptable[\"Calculated_mass_number\"] - ptable[\"AtomicMass\"]\n",
    "for i in range(len(ptable)):\n",
    "    name = ptable.iloc[i,1]\n",
    "    difference = ptable.iloc[i, -1]\n",
    "    print(f\"Difference in mass for {name}, {difference}\")"
   ]
  },
  {
   "cell_type": "markdown",
   "metadata": {},
   "source": [
    "Now let's use some Boolean logic on the periodic table data. Below we will look for all elements that exist as solid as standard temperature and pressure. "
   ]
  },
  {
   "cell_type": "code",
   "execution_count": null,
   "metadata": {},
   "outputs": [],
   "source": [
    "solids = ptable[ptable[\"Phase\"] ==\"solid\"]\n",
    "solids"
   ]
  },
  {
   "cell_type": "markdown",
   "metadata": {},
   "source": [
    "<div class=\"alert alert-success\">\n",
    "    <b>Task 1.3 </b>: Set boolean tests to check what elements are liquid at 297 K, and extract the names of those elements.\n",
    "</div>\n"
   ]
  },
  {
   "cell_type": "code",
   "execution_count": null,
   "metadata": {},
   "outputs": [],
   "source": [
    "# What columns from the dataframe will we need?\n",
    "\n",
    "# FIXME\n",
    "\n",
    "# Set Boolean tests to check what is liquid at 297 K (room T)\n",
    "\n",
    "# FIXME\n",
    "\n",
    "# Run the test and print names of elements that are liquid at room temperature\n",
    "\n",
    "# FIXME\n"
   ]
  },
  {
   "cell_type": "markdown",
   "metadata": {},
   "source": [
    "<details> <summary {style=\"color:green;font-weight:bold\"}> Click here to see the full solution to Task 1.3 </summary>\n",
    "\n",
    "    \n",
    "```python\n",
    "    \n",
    "# What columns from the dataframe will we need?    \n",
    "element = ptable[\"Element\"]\n",
    "melting = ptable[\"MeltingPoint\"]\n",
    "boiling = ptable[\"BoilingPoint\"]\n",
    "    \n",
    "# Boolean to check what is liquid at 297 K (room T)\n",
    "    \n",
    "temperature_1 = melting < 297\n",
    "temperature_2 = boiling > 297\n",
    "\n",
    "criteria = temperature_1 & temperature_2\n",
    "print(element[criteria])\n",
    "\n",
    "```\n",
    "    \n",
    "\n",
    "</details>\n"
   ]
  },
  {
   "cell_type": "markdown",
   "metadata": {},
   "source": [
    "# 3. Plotting with Pandas <a id='3-plotting-with-pandas'></a>"
   ]
  },
  {
   "cell_type": "markdown",
   "metadata": {},
   "source": [
    "Plotting can be done in many ways within python. At first we will just use plotting straight from pandas. It uses a popular library `matplotlib` in the background. As we progress to later sessions we will use this directly, but for now we will just stick to pandas plotting. \n",
    "\n",
    "We can use the pandas dataframe to easily plot columns with matplotlib. <br>\n",
    "\n",
    "The easiest thing we could do, would be to plot all variables against our index\n",
    "\n",
    "with: "
   ]
  },
  {
   "cell_type": "code",
   "execution_count": null,
   "metadata": {},
   "outputs": [],
   "source": [
    "ptable.plot()"
   ]
  },
  {
   "cell_type": "markdown",
   "metadata": {},
   "source": [
    "However, we can see that this is not very informative, and we must use our knowledge that we have learned in the previous session and earlier in this session to plot the data more sensibly. <br>\n",
    "We can access what columns we can plot against each other with this command:"
   ]
  },
  {
   "cell_type": "code",
   "execution_count": null,
   "metadata": {},
   "outputs": [],
   "source": [
    "ptable.columns"
   ]
  },
  {
   "cell_type": "markdown",
   "metadata": {},
   "source": [
    "Now, let's take two variables from the column headers and plot them against each other.<br>\n",
    "Let's see if we can see trends in the periods of the periodic table."
   ]
  },
  {
   "cell_type": "code",
   "execution_count": null,
   "metadata": {
    "scrolled": true
   },
   "outputs": [],
   "source": [
    "ptable.plot.scatter(x = \"AtomicNumber\", y = \"AtomicRadius\")"
   ]
  },
  {
   "cell_type": "markdown",
   "metadata": {},
   "source": [
    "We can clearly see the trends of each period in the periodic table."
   ]
  },
  {
   "cell_type": "markdown",
   "metadata": {},
   "source": [
    "Now lets try another type of plot which isn't scatter. \n",
    "We can use a pie chart to show how many elements were discovered in each location. \n",
    "\n",
    "Pandas has a handy `values_counts()` function that we can use on our column of this data."
   ]
  },
  {
   "cell_type": "code",
   "execution_count": null,
   "metadata": {
    "scrolled": true
   },
   "outputs": [],
   "source": [
    "counting = ptable.discovery_location.value_counts()\n",
    "print(counting)"
   ]
  },
  {
   "cell_type": "code",
   "execution_count": null,
   "metadata": {},
   "outputs": [],
   "source": [
    "# Then we can plot these data as a piechart\n",
    "\n",
    "counting.plot.pie(figsize=(10,10))"
   ]
  },
  {
   "cell_type": "markdown",
   "metadata": {},
   "source": [
    "We can also loop over our columns in ptable and plot them as a function of \"Element\"."
   ]
  },
  {
   "cell_type": "code",
   "execution_count": null,
   "metadata": {},
   "outputs": [],
   "source": [
    "for i in ptable.columns[4:9]:\n",
    "    print(i)\n",
    "    fig = plt.figure(figsize=(15,10))\n",
    "    plt.plot(ptable[\"Element\"], ptable[i])\n",
    "    plt.xticks(rotation=90)\n",
    "    plt.show()\n",
    "    \n",
    "# Note how we rotate the xticks 90 degrees to see the name on its side!"
   ]
  },
  {
   "cell_type": "markdown",
   "metadata": {},
   "source": [
    "# Tasks 2 <a id=\"tasks-2\"></a>"
   ]
  },
  {
   "cell_type": "markdown",
   "metadata": {},
   "source": [
    "<div class=\"alert alert-success\">\n",
    "<b>Task 2.1: Selecting individual values in a dataframe</b>\n",
    "\n",
    "\n",
    "Using the ptable dataframe, write an expression to find and print the boiling point of argon.\n",
    "\n",
    "</div>"
   ]
  },
  {
   "cell_type": "code",
   "execution_count": null,
   "metadata": {},
   "outputs": [],
   "source": [
    "# FIXME\n",
    "\n"
   ]
  },
  {
   "cell_type": "markdown",
   "metadata": {},
   "source": [
    "<details><summary {style='color:green;font-weight:bold'}> Click here to see solution to Task 2.1 </summary>\n",
    "\n",
    "Like most things in python, this can be approached in a few ways, e.g. we know that Argon is the 18th element in the periodic table, therefore it is going to be index 17 in our dataframe (python counts from zero)    \n",
    "    \n",
    "```python\n",
    "print(ptable.loc[17, \"BoilingPoint\"])\n",
    "\n",
    "```\n",
    "\n",
    "    \n",
    "    \n",
    "Another way to search for this would be to do some Boolean indexing.\n",
    "    \n",
    "```python    \n",
    "criteria_ar = ptable[\"Element\"] == \"Argon\"\n",
    "print(criteria_ar) \n",
    "print(ptable[criteria_ar][\"BoilingPoint\"])\n",
    "  \n",
    "```\n",
    " </details>"
   ]
  },
  {
   "cell_type": "markdown",
   "metadata": {},
   "source": [
    "<div class=\"alert alert-success\">\n",
    "<b>Task 2.2: Slicing dataframes</b>\n",
    "</div>\n",
    "\n",
    "Have a look at these two ways of slicing, what is different about them?"
   ]
  },
  {
   "cell_type": "code",
   "execution_count": null,
   "metadata": {},
   "outputs": [],
   "source": [
    "print(ptable.iloc[4:6, 1:3])"
   ]
  },
  {
   "cell_type": "code",
   "execution_count": null,
   "metadata": {},
   "outputs": [],
   "source": [
    "print(ptable.loc[\"4\":\"6\", \"AtomicNumber\":\"Symbol\"])"
   ]
  },
  {
   "cell_type": "markdown",
   "metadata": {},
   "source": [
    "<details><summary {style='color:green;font-weight:bold'}> Click here to see solution to Task 2.2 </summary>\n",
    "\n",
    "Notice how the second statement produces additional columns and many additional row compared to the first statement.\n",
    "\n",
    "What conclusion can we draw? We see that a numerical slice, (first example) omits the final index (i.e. 6) in the range provided, while a named slice, `\"AtomicNumber\":\"Symbol\"`, includes the final element \"Symbol\".\n",
    "\n",
    "A funny quirk of not naming our index is that all rows between 40 and 60 are printed with the second method. \n",
    "\n",
    " </details>\n"
   ]
  },
  {
   "cell_type": "markdown",
   "metadata": {},
   "source": [
    "<div class=\"alert alert-success\">\n",
    "<b>Task 2.3: Use a loop to identify all symbols with 1 letter</b>\n",
    "</div>\n",
    "\n",
    "Using the symbol column in the dataframe `ptable` use a loop to identify and count all the elements which have a one letter symbol."
   ]
  },
  {
   "cell_type": "code",
   "execution_count": 20,
   "metadata": {},
   "outputs": [],
   "source": [
    "# FIXME\n"
   ]
  },
  {
   "cell_type": "markdown",
   "metadata": {},
   "source": [
    "<details><summary {style='color:green;font-weight:bold'}> Click here to see solution to Task 2.3 </summary>\n",
    "    \n",
    "```python\n",
    "one_etter= []\n",
    "for x in ptable[\"Symbol\"]:\n",
    "    if len(x) < 2:\n",
    "        one_letter.append(x)\n",
    "len(one_letter)\n",
    "```\n",
    "\n",
    " </details>\n"
   ]
  }
 ],
 "metadata": {
  "kernelspec": {
   "display_name": "Python 3 (ipykernel)",
   "language": "python",
   "name": "python3"
  },
  "language_info": {
   "codemirror_mode": {
    "name": "ipython",
    "version": 3
   },
   "file_extension": ".py",
   "mimetype": "text/x-python",
   "name": "python",
   "nbconvert_exporter": "python",
   "pygments_lexer": "ipython3",
   "version": "3.9.13"
  },
  "toc": {
   "base_numbering": 1,
   "nav_menu": {},
   "number_sections": false,
   "sideBar": true,
   "skip_h1_title": false,
   "title_cell": "Table of Contents",
   "title_sidebar": "Contents",
   "toc_cell": false,
   "toc_position": {},
   "toc_section_display": true,
   "toc_window_display": true
  },
  "vscode": {
   "interpreter": {
    "hash": "cf51243a6e93b78f1f5c5d179cd4f66e9bfd7b6269bebfcfdbed7f35483e292c"
   }
  }
 },
 "nbformat": 4,
 "nbformat_minor": 4
}

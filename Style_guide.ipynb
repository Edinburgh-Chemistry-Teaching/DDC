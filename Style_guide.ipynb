{
 "cells": [
  {
   "cell_type": "markdown",
   "id": "06155887",
   "metadata": {},
   "source": [
    "# Title of notebook"
   ]
  },
  {
   "cell_type": "markdown",
   "id": "ded0a015",
   "metadata": {},
   "source": [
    "<a rel=\"license\" href=\"http://creativecommons.org/licenses/by/4.0/\"><img alt=\"Creative Commons Licence\" style=\"border-width:0\" src=\"https://i.creativecommons.org/l/by/4.0/88x31.png\" title='This work is licensed under a Creative Commons Attribution 4.0 International License.' align=\"right\"/></a>\n",
    "\n",
    "Author: Dr James Cumby   \n",
    "Email: james.cumby@ed.ac.uk"
   ]
  },
  {
   "cell_type": "markdown",
   "id": "7c556056",
   "metadata": {},
   "source": [
    "### Learning Objectives\n",
    "\n",
    "- List learning objectives\n",
    "\n",
    "### TOC\n",
    "- [first item in toc](#link)\n",
    "- [second item in toc](#link2)\n",
    "\n",
    "Use TOC if the notebook is long, doesn't have to be there if the notebook is short.\n",
    "\n",
    "### Further reading for this topic\n",
    "- give links here\n",
    "\n",
    "The below cheatsheet should be in every notebook   \n",
    "**<span style=\"color:black\">Jupyter Cheat Sheet</span>**\n",
    "- To run the currently highlighted cell and move focus to the next cell, hold <kbd>&#x21E7; Shift</kbd> and press <kbd>&#x23ce; Enter</kbd>;\n",
    "- To run the currently highlighted cell and keep focus in the same cell, hold <kbd>&#x21E7; Ctrl</kbd> and press <kbd>&#x23ce; Enter</kbd>;\n",
    "- To get help for a specific function, place the cursor within the function's brackets, hold <kbd>&#x21E7; Shift</kbd>, and press <kbd>&#x21E5; Tab</kbd>;\n",
    "\n",
    "### Link to documentation:\n",
    "You can find the full documentation at [scipy.org](https://scipy.org)."
   ]
  },
  {
   "cell_type": "markdown",
   "id": "cd5006e9",
   "metadata": {},
   "source": [
    "## 1 Use Level 2 heading for section headings\n",
    "### 1.1 Use Level 3 heading for subsection headings"
   ]
  },
  {
   "cell_type": "markdown",
   "id": "aea5a64d",
   "metadata": {},
   "source": [
    "## Tasks:\n",
    "\n",
    "Make sure tasks are numbered. \n",
    "\n",
    "Tasks are announced using an alert alert-success box in this way:\n",
    "<div class=\"alert alert-success\">\n",
    "<b>Task 5.2: Write a function that computes bond lengths:</b>\n",
    "</div>\n",
    "and followed by an incomplete cell. All exercises should be numbered. \n",
    "Missing parts are indicated by:\n",
    "\n",
    "```python\n",
    "#FIXME\n",
    "```\n",
    "\n",
    "Solutions to tasks are given in the cell below using the following details tag that can be used for expansion using the standardised text to do so:\n",
    "\n",
    "<details><summary {style='color:green;font-weight:bold'}> Click here to see solution to Task. </summary>\n",
    "    \n",
    "```python\n",
    "from math import sqrt\n",
    "```\n",
    "    \n",
    "  "
   ]
  },
  {
   "cell_type": "markdown",
   "id": "afe47f49",
   "metadata": {},
   "source": [
    "<div class=\"alert alert-warning\">\n",
    "<b>Exercise 5.3: Extra exercises are given in yellow (Extra)</b>\n",
    "</div>  "
   ]
  },
  {
   "cell_type": "markdown",
   "id": "4336102f",
   "metadata": {},
   "source": [
    "## Additional information noteworthy things\n",
    "\n",
    "<div class=\"alert alert-info\">\n",
    "<b>Anything noteworthy should be added to an info box. You can use the <code>I am code</code> tags to write code here</b>\n",
    "</div>\n",
    "\n",
    "To give extra attention use the exclamation mark warning sign: ⚠️ (Literally copy this icon and put it into the file)"
   ]
  },
  {
   "cell_type": "markdown",
   "id": "9979b807",
   "metadata": {},
   "source": [
    "### Some formatting:\n",
    "\n",
    "- All equations should be type set using LaTex, i.e. $\\Delta \\Delta G$ and not ΔΔG. \n",
    "- All packages should be highlighted in code, i.e. `scipy`. \n",
    "- Common abbreviations could be highlighted either in the Readme or the first notebook. "
   ]
  },
  {
   "cell_type": "markdown",
   "id": "e4c4a542",
   "metadata": {},
   "source": [
    "## Structure of directory for each Unit"
   ]
  },
  {
   "cell_type": "markdown",
   "id": "c3186607",
   "metadata": {},
   "source": [
    "### Images\n",
    "Any images that are displayed in the notebook should be in an `images` directory, arranged in this way: `Unit_xx/images/name_of_image.png`\n",
    "\n",
    "### Data\n",
    "Any data used in the notebook should be in a `data` directory, arranged in this way: `Unit_xx/data/name_of_data_file.txt`"
   ]
  },
  {
   "cell_type": "markdown",
   "id": "21fc2e58",
   "metadata": {},
   "source": [
    "### License\n",
    "\n",
    "All data and images need to be licensed under CC-BY. Each notebook should have the CC-BY badge at the top as shown above. "
   ]
  },
  {
   "cell_type": "markdown",
   "id": "d16ec4a3",
   "metadata": {},
   "source": [
    "### Language\n",
    "\n",
    "Use inclusive language:\n",
    "- not master or slave\n",
    "- not parent or child\n",
    "- avoid complicated language such as parsing a file without explaining it. "
   ]
  },
  {
   "cell_type": "markdown",
   "id": "70d249fa",
   "metadata": {},
   "source": [
    "## Python Style Guide\n",
    "\n",
    "In general we should follow PEP8. But let's not break a leg over it: https://peps.python.org/pep-0008/ "
   ]
  },
  {
   "cell_type": "markdown",
   "id": "ba885ce5",
   "metadata": {},
   "source": [
    "### Things we should definitely do:\n",
    "1. Use fStrings: https://realpython.com/python-f-strings/ \n",
    "2. Place a space between a hashtag for a comment and code e.g.:\n",
    "    \n",
    "    ```Python\n",
    "    # This is a comment\n",
    "    a = 20\n",
    "    ```\n",
    "3. Avoid overflowing line lengths.\n",
    "4. Every function should be documented.\n",
    "5. Use descriptive variable names e.g. (don't go and change everything, but some examples my be very bad):\n",
    "   \n",
    "   ```Python\n",
    "   # bad\n",
    "   x = np.array([3,4,5,6])\n",
    "   # good\n",
    "   pressures = np.array([3,4,5,6])\n",
    "   ```"
   ]
  }
 ],
 "metadata": {
  "kernelspec": {
   "display_name": "Python 3 (ipykernel)",
   "language": "python",
   "name": "python3"
  },
  "language_info": {
   "codemirror_mode": {
    "name": "ipython",
    "version": 3
   },
   "file_extension": ".py",
   "mimetype": "text/x-python",
   "name": "python",
   "nbconvert_exporter": "python",
   "pygments_lexer": "ipython3",
   "version": "3.8.13"
  }
 },
 "nbformat": 4,
 "nbformat_minor": 5
}

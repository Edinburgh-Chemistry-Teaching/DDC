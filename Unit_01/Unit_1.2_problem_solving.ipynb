{
 "cells": [
  {
   "cell_type": "markdown",
   "metadata": {
    "slideshow": {
     "slide_type": "slide"
    }
   },
   "source": [
    "$$\\require{mhchem}$$\n",
    "# Unit 1: Problem Solving\n",
    "\n",
    "<a rel=\"license\" href=\"http://creativecommons.org/licenses/by/4.0/\"><img alt=\"Creative Commons Licence\" style=\"border-width:0\" src=\"https://i.creativecommons.org/l/by/4.0/88x31.png\" title='This work is licensed under a Creative Commons Attribution 4.0 International License.' align=\"right\"/></a>\n",
    "\n",
    "Author: Dr James Cumby   \n",
    "Email: james.cumby@ed.ac.uk"
   ]
  },
  {
   "cell_type": "markdown",
   "metadata": {
    "slideshow": {
     "slide_type": "skip"
    }
   },
   "source": [
    "Programming is almost entirely about **problem solving**, *i.e.* how do you take a complex problem and break it down in to manageable steps that a computer can perform. Whilst this is a useful skill for programming and data analysis, it is much more generally applicable, both within your degree and beyond. Importantly, problem solving is a skill that has to be learned, and this unit (and this course in general) will try to develop this skill."
   ]
  },
  {
   "cell_type": "markdown",
   "metadata": {},
   "source": [
    "## Learning objectives:\n",
    "\n",
    "By the end of this session, you should be able to:\n",
    "- interact with a Jupyter notebook\n",
    "- break a complex problem into smaller steps;\n",
    "- consider how those steps might be implemented as code (developed more later in the course);\n",
    "- use pseudocode to develop simple algorithms\n",
    "\n",
    "<!-- begin no_present -->\n",
    "Some of the content is adapted from [Software carpentry lessons](http://swcarpentry.github.io/python-novice-gapminder/index.html).\n",
    "<!-- end no_present -->"
   ]
  },
  {
   "cell_type": "markdown",
   "metadata": {},
   "source": [
    "## TOC\n",
    "- [Unit 1.1 Getting Started with Jupyter notebooks](Unit_1.1_intro_to_jupyter.ipynb) (Previous notebook)\n",
    "- [Unit 1.2 Problem solving and algorithms](#12-problem-solving-and-algorithms) (This notebook)\n",
    "    * [1.2.1 Import libraries](#121-import-libraries)\n",
    "    * [1.2.2 Understanding a problem and its solution](#122-understanding-the-problem-and-its-solution)\n",
    "    * [1.2.3 Step 1: Understand what the problem is and what it is asking for](#123-step-1-understand-what-the-problem-is-and-what-it-is-asking-for)\n",
    "    * [1.2.4 Step 2: Understand what the correct solution needs to be capable of (or equally not capable of)](#124-step-2-understand-what-the-correct-solution-needs-to-be-capable-of-or-equally-not-capable-of)\n",
    "    * [Tasks 1.2.1](#tasks-121)\n",
    "    * [1.2.5 Step 3: Work out a series of steps to get from start to finish](#124-step-3-work-out-a-series-of-steps-to-get-from-start-to-finish)\n",
    "    * [1.2.6 Pseudocode](#126-pseudocode)\n",
    "    * [1.2.7 Choosing an algorithm](#127-choosing-an-algorithm)\n",
    "    * [Tasks 1.2.2](#tasks-122)\n",
    "    * [1.2.8 Recap](#128-recap)\n",
    "    * [1.2.9 Feedback](#129-feedback)\n"
   ]
  },
  {
   "cell_type": "markdown",
   "metadata": {
    "slideshow": {
     "slide_type": "slide"
    }
   },
   "source": [
    "## 1.2 Problem solving and algorithms\n",
    "There are a number of steps involved in solving a problem:\n",
    "1. Understand what the problem is and what it is asking for\n",
    "    - Do you have enough information to solve it immediately?\n",
    "2. Understand what the correct solution needs to be capable of (or equally not capable of)\n",
    "3. Work out a series of steps to get from start to finish \n",
    "    - 'Solve the problem'!\n",
    "4. Check that the solution works as expected"
   ]
  },
  {
   "cell_type": "markdown",
   "metadata": {
    "slideshow": {
     "slide_type": "skip"
    }
   },
   "source": [
    "This unit will look at steps 1-3 and give you practice in breaking down complex problems."
   ]
  },
  {
   "cell_type": "markdown",
   "metadata": {
    "slideshow": {
     "slide_type": "slide"
    }
   },
   "source": [
    "## 1.2.1 Import libraries\n",
    "We need a few additional Python features ('Packages', see session 4) in this session - make sure to run the following cell!"
   ]
  },
  {
   "cell_type": "code",
   "execution_count": 1,
   "metadata": {
    "slideshow": {
     "slide_type": "fragment"
    }
   },
   "outputs": [],
   "source": [
    "import numpy as np\n",
    "import pandas as pd\n",
    "import sys\n",
    "import os.path\n",
    "sys.path.append(os.path.abspath('../'))\n",
    "from helper_functions.mentimeter import Mentimeter\n",
    "from helper_functions.formatting import format_pseudocode\n",
    "from IPython.display import IFrame"
   ]
  },
  {
   "cell_type": "markdown",
   "metadata": {
    "slideshow": {
     "slide_type": "slide"
    }
   },
   "source": [
    "## 1.2.2 Understanding the problem and its solution"
   ]
  },
  {
   "cell_type": "markdown",
   "metadata": {
    "slideshow": {
     "slide_type": "slide"
    }
   },
   "source": [
    "<!-- begin tutor -->\n",
    "Some problems are straightforward:\n",
    "\n",
    "> Find the value of x for which\n",
    ">\n",
    ">$$x - y = 6$$\n",
    "> and\n",
    ">$$2x + y = 18.$$\n",
    "<!-- end tutor -->"
   ]
  },
  {
   "cell_type": "markdown",
   "metadata": {
    "slideshow": {
     "slide_type": "skip"
    }
   },
   "source": [
    "Some problems have very clear goals, and once you have got used to them are relatively straighforward to solve, i.e.\n",
    "> Find the value of x for which\n",
    ">\n",
    ">$$x - y = 6$$\n",
    "> and\n",
    ">$$2x + y = 18.$$\n",
    "\n",
    "Even if a large number of steps are involved, the process is well-defined.\n"
   ]
  },
  {
   "cell_type": "markdown",
   "metadata": {
    "slideshow": {
     "slide_type": "slide"
    }
   },
   "source": [
    "<!-- begin tutor -->\n",
    "Some are less well-defined:\n",
    "\n",
    "> How would you synthesise 2,3-Dimethyl-2-cyclopenten-1-one from readily-available starting materials?\n",
    "> ![2,3-Dimethyl-2-cyclopenten-1-one structure](./images/dimethyl_2_cyclopenten_1_one.png)\n",
    "<!-- end tutor -->"
   ]
  },
  {
   "cell_type": "markdown",
   "metadata": {
    "slideshow": {
     "slide_type": "skip"
    }
   },
   "source": [
    "In contrast, some questions are much less defined, and these are quite challenging to overcome. Sometimes this is due to an uncertain objective, while sometimes there is a shortage of information.\n",
    "\n",
    "> How would you synthesise 2,3-Dimethyl-2-cyclopenten-1-one from readily-available starting materials?\n",
    "> ![2,3-Dimethyl-2-cyclopenten-1-one structure](./images/dimethyl_2_cyclopenten_1_one.png)\n",
    "(You'll see this in year 3)"
   ]
  },
  {
   "cell_type": "markdown",
   "metadata": {
    "slideshow": {
     "slide_type": "slide"
    }
   },
   "source": [
    "## 1.2.3 Step 1: Understand what the problem is and what it is asking for"
   ]
  },
  {
   "cell_type": "markdown",
   "metadata": {
    "slideshow": {
     "slide_type": "slide"
    }
   },
   "source": [
    "<!-- begin tutor -->\n",
    "First step - determine what the problem is asking!\n",
    "> Cheese is acidic, due to the presence of lactic acid. When cheese melts it can separate into milk solids and fat; this can be avoided by keeping the pH of the cheese mixture around 5.2. How much citric acid and/or sodium citrate must be added to cheese to prevent it from separating during melting?\n",
    "\n",
    "<!-- end tutor -->"
   ]
  },
  {
   "cell_type": "markdown",
   "metadata": {
    "slideshow": {
     "slide_type": "skip"
    }
   },
   "source": [
    "The first step of any problem is understanding what you are required to do, and working out whether you have all of the information required to solve it. Consider the following question and then vote in the poll below.\n",
    "\n",
    "> Cheese is acidic, due to the presence of lactic acid. When cheese melts it can separate into milk solids and fat; this can be avoided by keeping the pH of the cheese mixture around 5.2. How much citric acid and/or sodium citrate must be added to cheese to prevent it from separating during melting?"
   ]
  },
  {
   "cell_type": "code",
   "execution_count": 3,
   "metadata": {
    "slideshow": {
     "slide_type": "slide"
    }
   },
   "outputs": [
    {
     "data": {
      "text/html": [
       "<div style='width:100%; height:40vh;'> <iframe src=https://www.menti.com/inhgqptgjp height=100% width=70%></iframe> </div>"
      ],
      "text/plain": [
       "<IPython.core.display.HTML object>"
      ]
     },
     "execution_count": 3,
     "metadata": {},
     "output_type": "execute_result"
    }
   ],
   "source": [
    "cheese_vote = Mentimeter(vote = 'https://www.menti.com/inhgqptgjp')\n",
    "cheese_vote.show()"
   ]
  },
  {
   "cell_type": "markdown",
   "metadata": {
    "slideshow": {
     "slide_type": "skip"
    }
   },
   "source": [
    "<!-- begin silent_answer -->\n",
    "![Cheese vote result](https://static.mentimeter.com/screenshot/1-what-is-the-question-asking-you-to-do.jpg?url=https%3A%2F%2Fwww.mentimeter.com%2Fs%2F1757297eac993612be259ab788fa7d6e%2F1260b39d17bb%2Fpreview&maxage=600&w=1920&h=1080&cache_buster=7)\n",
    "<!-- end silent_answer -->"
   ]
  },
  {
   "cell_type": "markdown",
   "metadata": {
    "slideshow": {
     "slide_type": "slide"
    }
   },
   "source": [
    "## 1.2.4 Step 2: Understand what the correct solution needs to be capable of (or equally not capable of)"
   ]
  },
  {
   "cell_type": "markdown",
   "metadata": {
    "slideshow": {
     "slide_type": "fragment"
    }
   },
   "source": [
    "<!-- begin tutor -->\n",
    "What more information is required for the problem? Example:\n",
    "\n",
    "> If human hair is composed mainly of the protein α-keratin, estimate the rate of incorporation of amino acid units per follicle per second.\n",
    "<!-- end tutor -->"
   ]
  },
  {
   "cell_type": "markdown",
   "metadata": {
    "slideshow": {
     "slide_type": "skip"
    }
   },
   "source": [
    "Once you have determined the objective of a problem, you then need to work out if you have the information and knowledge required to solve it. For instance, the following question has a clear goal, but what additional information is required?\n",
    "\n",
    "> If human hair is composed mainly of the protein α-keratin, estimate the rate of incorporation of amino acid units per follicle per second."
   ]
  },
  {
   "cell_type": "code",
   "execution_count": 5,
   "metadata": {
    "slideshow": {
     "slide_type": "skip"
    }
   },
   "outputs": [
    {
     "data": {
      "text/html": [
       "<div style='width:100%; height:40vh;'> <iframe src=https://www.menti.com/459ubwoehy height=100% width=70%></iframe> </div>"
      ],
      "text/plain": [
       "<IPython.core.display.HTML object>"
      ]
     },
     "execution_count": 5,
     "metadata": {},
     "output_type": "execute_result"
    }
   ],
   "source": [
    "hair_vote = Mentimeter(vote = 'https://www.menti.com/459ubwoehy')\n",
    "hair_vote.show()"
   ]
  },
  {
   "cell_type": "markdown",
   "metadata": {
    "slideshow": {
     "slide_type": "skip"
    }
   },
   "source": [
    "<!-- begin silent_answer -->\n",
    "![Hair growth wordcloud](https://static.mentimeter.com/screenshot/1-what-information-is-required.jpg?url=https%3A%2F%2Fwww.mentimeter.com%2Fs%2F73888c0388173454ef53f05bffda5d9e%2F176aaba0c388%2Fpreview&maxage=600&w=1920&h=1080&cache_buster=7)\n",
    "<!-- end silent_answer -->"
   ]
  },
  {
   "cell_type": "markdown",
   "metadata": {
    "slideshow": {
     "slide_type": "slide"
    }
   },
   "source": [
    "## Tasks 1.2.1\n",
    "\n",
    "In pairs or groups of three, discuss the objective for the following questions, and any information you may require."
   ]
  },
  {
   "cell_type": "markdown",
   "metadata": {},
   "source": [
    "<div class=\"alert alert-success\"> \n",
    "<b> Task 1.2.1 a: If you could imagine an electron to have the same mass as the planet Mercury, which planet would have approximately the same mass as the proton?\n",
    "</div>"
   ]
  },
  {
   "cell_type": "markdown",
   "metadata": {},
   "source": [
    "<!-- begin answer -->\n",
    "<details><summary {style='color:green;font-weight:bold'}> Click here to see the solution to Task 1.2.1 a</summary>\n",
    "\n",
    "Need to know the electron : proton mass ratio, and also planet mass ratios <br>\n",
    "\n",
    "Answer: Saturn (approximately)\n",
    "<!-- end answer -->"
   ]
  },
  {
   "cell_type": "markdown",
   "metadata": {},
   "source": [
    "<div class=\"alert alert-success\"> \n",
    "<b> Task 1.2.1 b: Based purely on standard electrode potentials, which simple binary reaction would give the largest overall potential difference vs the standard hydrogen electrode?\n",
    "</div>"
   ]
  },
  {
   "cell_type": "markdown",
   "metadata": {},
   "source": [
    "<!-- begin answer -->\n",
    "<details><summary {style='color:green;font-weight:bold'}> Click here to see the solution to Task 1.2.1 b</summary>\n",
    "\n",
    "We need a list of electrode potentials, and to combine the most positive and negative values involving one species (to have a binary reaction overall). Other sources exist, but from [wikipedia](https://en.wikipedia.org/wiki/Standard_electrode_potential_(data_page)) the most negative half reaction is\n",
    "\n",
    "   $$\n",
    "   \\ce{Sr^+ + e^- -> Sr(s)}\\qquad E_{\\mathrm{vs\\ SHE}} = -4.101\\ \\mathrm{V}\n",
    "   $$\n",
    "   while the most positive (anionic) half reaction is\n",
    "   $$\n",
    "   \\ce{F2(g) + 2e^- -> 2F^-}\\qquad E_{\\mathrm{vs\\ SHE}} = +2.87\\ \\mathrm{V}\n",
    "   $$\n",
    "   Overall:\n",
    "   $$\n",
    "   \\ce{Sr + F2 -> SrF2}\\qquad E_{\\mathrm{vs\\ SHE}} = +6.971\\ \\mathrm{V}\n",
    "   $$\n",
    "\n",
    "<!-- end answer -->"
   ]
  },
  {
   "cell_type": "markdown",
   "metadata": {},
   "source": [
    "<div class=\"alert alert-success\"> \n",
    "<b> Task 1.2.1 c: If you placed a crystal of Tourmaline on top of a crystal of Herapathite and looked through them, what might you observe?\n",
    "</div>"
   ]
  },
  {
   "cell_type": "markdown",
   "metadata": {},
   "source": [
    "<!-- begin answer -->\n",
    "<details><summary {style='color:green;font-weight:bold'}> Click here to see the solution to Task 1.2.1 c</summary>\n",
    "\n",
    "Tourmaline (a borosilicate mineral) and herapathite (iodoquinine sulfate) are both optically active; the latter is used in optical polarizers. Depending on the relative orientation of the crystals, the colour and/or transparency is likely to change.\n",
    "<!-- end answer -->"
   ]
  },
  {
   "cell_type": "markdown",
   "metadata": {
    "slideshow": {
     "slide_type": "slide"
    }
   },
   "source": [
    "## 1.2.5 Step 3: Work out a series of steps to get from start to finish"
   ]
  },
  {
   "cell_type": "markdown",
   "metadata": {
    "slideshow": {
     "slide_type": "skip"
    }
   },
   "source": [
    "Once you have determined the problem and have all the information required, you then need to construct an algorithm (sequence of steps) to get to the answer. "
   ]
  },
  {
   "cell_type": "markdown",
   "metadata": {
    "slideshow": {
     "slide_type": "slide"
    }
   },
   "source": [
    "### Aside - program construction\n",
    "\n",
    "In general, computer programs consist of very few essential 'building blocks' (you will learn about these throughout the course):\n",
    "\n",
    "\n",
    "Operations | Loops | Decisions\n",
    "---------- | -------- | -----------\n",
    "These are things like adding/multiplying numbers, reading or writing files, displaying a graph, etc. | These allow you to repeat things more than once, for instance iterating over files | Decisions (of IF statements) divert the flow of a program by doing some sort of test\n",
    "![Green rectangle representing an operation](./images/operation_schematic.png) | ![Schematic of a loop](./images/loop_schematic.png) | ![Schematic of a decision operation](./images/decision_schematic.png)"
   ]
  },
  {
   "cell_type": "markdown",
   "metadata": {
    "slideshow": {
     "slide_type": "skip"
    }
   },
   "source": [
    "These can be combined together to create quite complex algorithms:\n",
    "\n",
    "![Combination of loops, decisions and operations as a schematic](./images/complex_schematic.png)"
   ]
  },
  {
   "cell_type": "markdown",
   "metadata": {
    "slideshow": {
     "slide_type": "skip"
    }
   },
   "source": [
    "> Hint: If you find this sort of graphical programming helpful to understand algorithm logic, check out [Blockly](https://developers.google.com/blockly)!"
   ]
  },
  {
   "cell_type": "markdown",
   "metadata": {
    "slideshow": {
     "slide_type": "slide"
    }
   },
   "source": [
    "## 1.2.6 Pseudocode\n"
   ]
  },
  {
   "cell_type": "markdown",
   "metadata": {
    "slideshow": {
     "slide_type": "fragment"
    }
   },
   "source": [
    "Loops and decision statements are normally shown as indented:\n",
    "\n",
    "```\n",
    "for each item in a sequence:\n",
    "    do something\n",
    "```\n",
    "\n",
    "Indents can be nested:\n",
    "\n",
    "```\n",
    "if x is 5:\n",
    "    if y is 10:\n",
    "        do something\n",
    "```\n",
    "\n",
    "This indentation is essential in Python (see session 3)!"
   ]
  },
  {
   "cell_type": "markdown",
   "metadata": {
    "slideshow": {
     "slide_type": "skip"
    }
   },
   "source": [
    "The previous examples were a form of 'pseudocode'; a way of writing down an algorithm without worrying about the specific commands required to run correctly. Pseudocode is often more readable than 'real' computer code, and can in theory be translated into any programming language."
   ]
  },
  {
   "cell_type": "markdown",
   "metadata": {
    "slideshow": {
     "slide_type": "slide"
    }
   },
   "source": [
    "<!-- begin tutor -->\n",
    "Pseudocode summarises the steps of an algorithm without using a specific syntax.\n",
    "<!-- end tutor -->"
   ]
  },
  {
   "cell_type": "markdown",
   "metadata": {
    "slideshow": {
     "slide_type": "fragment"
    }
   },
   "source": [
    "For instance, the following 'pseudocode' describes an algorithm to print any files containing the text 'Benzene'\n",
    "\n",
    "```\n",
    "for each file in a list of files:\n",
    "    open file and read contents\n",
    "    if 'Benzene' is in file contents:\n",
    "        print file name\n",
    "    close file    \n",
    "```"
   ]
  },
  {
   "cell_type": "markdown",
   "metadata": {
    "slideshow": {
     "slide_type": "fragment"
    }
   },
   "source": [
    "The same algorithm written for Python might look like:\n",
    "\n",
    "``` python\n",
    "for file in list_of_file_names:\n",
    "    file_handle = open(file, 'r')\n",
    "    contents = f.readlines()\n",
    "    if 'Benzene' in contents:\n",
    "        print(file)\n",
    "    file_handle.close()\n",
    "```"
   ]
  },
  {
   "cell_type": "markdown",
   "metadata": {
    "slideshow": {
     "slide_type": "slide"
    }
   },
   "source": [
    "## 1.2.7 Choosing an algorithm\n",
    "Often, there are multiple valid solutions to a problem. You should try to appreciate other approaches, but find one that you understand.\n",
    "\n",
    "As a simple example, in your head work out the answer to\n",
    "\n",
    "$$\n",
    "54 + 17\n",
    "$$"
   ]
  },
  {
   "cell_type": "markdown",
   "metadata": {
    "slideshow": {
     "slide_type": "slide"
    }
   },
   "source": [
    "How did you do it?\n",
    "- $50 + 10 = 60$, then $60 + 4 + 7 = 71$\n",
    "- $54 + 10 = 64$, then $64 + 7 = 71$\n",
    "- $50 + 17 = 67$, then $67 + 4 = 71$\n",
    "- Something else...?"
   ]
  },
  {
   "cell_type": "markdown",
   "metadata": {
    "slideshow": {
     "slide_type": "slide"
    }
   },
   "source": [
    "<div class=\"alert alert-success\">\n",
    "<b> Worked example: Finding alcohols\n",
    "\n",
    " If you were given 1000 random Infrared spectra from small molecules, how could you determine which ones were alcohols?\n",
    "</div>"
   ]
  },
  {
   "cell_type": "code",
   "execution_count": 6,
   "metadata": {
    "slideshow": {
     "slide_type": "slide"
    }
   },
   "outputs": [
    {
     "data": {
      "text/html": [
       "<div style='width:100%; height:40vh;'> <iframe src=https://www.menti.com/f47ebjqjh3 height=100% width=70%></iframe> </div>"
      ],
      "text/plain": [
       "<IPython.core.display.HTML object>"
      ]
     },
     "execution_count": 6,
     "metadata": {},
     "output_type": "execute_result"
    }
   ],
   "source": [
    "alcohol_vote = Mentimeter(vote = 'https://www.menti.com/f47ebjqjh3')\n",
    "alcohol_vote.show()"
   ]
  },
  {
   "cell_type": "code",
   "execution_count": 7,
   "metadata": {
    "slideshow": {
     "slide_type": "subslide"
    }
   },
   "outputs": [
    {
     "data": {
      "text/html": [
       "<div style='width:100%; height:40vh;'> <iframe src=https://www.mentimeter.com/s/85be1ce424071fc159ecee7f0fa90cb1/4868b2918b6d height=100% width=90%></iframe> </div>"
      ],
      "text/plain": [
       "<IPython.core.display.HTML object>"
      ]
     },
     "execution_count": 7,
     "metadata": {},
     "output_type": "execute_result"
    }
   ],
   "source": [
    "### begin tutor\n",
    "alcohol_result = Mentimeter(result = 'https://www.mentimeter.com/s/85be1ce424071fc159ecee7f0fa90cb1/4868b2918b6d')\n",
    "alcohol_result.show()\n",
    "### end tutor"
   ]
  },
  {
   "cell_type": "markdown",
   "metadata": {
    "slideshow": {
     "slide_type": "skip"
    }
   },
   "source": [
    "<!-- begin silent_answer -->\n",
    "![IR alcohol word cloud](https://static.mentimeter.com/screenshot/1-what-information-do-we-need.jpg?url=https%3A%2F%2Fwww.mentimeter.com%2Fs%2F85be1ce424071fc159ecee7f0fa90cb1%2F4868b2918b6d%2Fpreview&maxage=600&w=1920&h=1080&cache_buster=7)\n",
    "<!-- end silent_answer -->"
   ]
  },
  {
   "cell_type": "markdown",
   "metadata": {
    "slideshow": {
     "slide_type": "slide"
    }
   },
   "source": [
    "<details><summary {style='color:green;font-weight:bold'}> Click here to see solution to the Worked example. </summary>\n",
    "\n",
    "<!-- begin livecode -->\n",
    "```\n",
    "FOR each spectrum:\n",
    "    Find absorbance at approximately 3000 cm-1\n",
    "    IF absorbance > threshold:\n",
    "        assign as alcohol\n",
    "```\n",
    "<!-- end livecode -->\n",
    "</details>"
   ]
  },
  {
   "cell_type": "code",
   "execution_count": 8,
   "metadata": {
    "slideshow": {
     "slide_type": "subslide"
    }
   },
   "outputs": [
    {
     "data": {
      "text/html": [
       "<div style='width:100%; height:40vh;'> <iframe src=https://www.menti.com/aoz8bwsooh height=100% width=70%></iframe> </div>"
      ],
      "text/plain": [
       "<IPython.core.display.HTML object>"
      ]
     },
     "execution_count": 8,
     "metadata": {},
     "output_type": "execute_result"
    }
   ],
   "source": [
    "Mentimeter(vote = 'https://www.menti.com/aoz8bwsooh').show()"
   ]
  },
  {
   "cell_type": "code",
   "execution_count": 9,
   "metadata": {
    "slideshow": {
     "slide_type": "subslide"
    }
   },
   "outputs": [
    {
     "data": {
      "text/html": [
       "<div style='width:100%; height:40vh;'> <iframe src=https://www.mentimeter.com/s/caff9221a71d59127e5c34c264f04891/81e5b12fe18d height=100% width=90%></iframe> </div>"
      ],
      "text/plain": [
       "<IPython.core.display.HTML object>"
      ]
     },
     "execution_count": 9,
     "metadata": {},
     "output_type": "execute_result"
    }
   ],
   "source": [
    "### begin tutor\n",
    "Mentimeter(result = 'https://www.mentimeter.com/s/caff9221a71d59127e5c34c264f04891/81e5b12fe18d').show()\n",
    "### end tutor"
   ]
  },
  {
   "cell_type": "markdown",
   "metadata": {
    "slideshow": {
     "slide_type": "skip"
    }
   },
   "source": [
    "<!-- begin silent_answer -->\n",
    "![IR problems suggestions](https://static.mentimeter.com/screenshot/1-are-there-any-problems-with-this-1.jpg?url=https%3A%2F%2Fwww.mentimeter.com%2Fs%2Fcaff9221a71d59127e5c34c264f04891%2F81e5b12fe18d%2Fpreview%3Fp%3D0&maxage=600&w=1920&h=1080&cache_buster=7)\n",
    "<!-- end silent_answer -->"
   ]
  },
  {
   "cell_type": "markdown",
   "metadata": {
    "slideshow": {
     "slide_type": "slide"
    }
   },
   "source": [
    "### Addressing problems"
   ]
  },
  {
   "cell_type": "markdown",
   "metadata": {
    "slideshow": {
     "slide_type": "fragment"
    }
   },
   "source": [
    "<!-- begin answer -->\n",
    "The OH-stretching region is not unique:\n",
    "![Benzene vs benzoic acid IR](./images/benzene_IR.png)\n",
    "\n",
    "One solution could be to examine the peak width - alcohol OH peaks are typically broad\n",
    "<!-- end answer -->"
   ]
  },
  {
   "cell_type": "markdown",
   "metadata": {
    "slideshow": {
     "slide_type": "slide"
    }
   },
   "source": [
    "<!-- begin answer -->\n",
    "Background signal is not guaranteed to be ~100% T:\n",
    "![Comparison of IR background absorption](./images/IR_background_comparison.jpg)\n",
    "<!-- end answer -->"
   ]
  },
  {
   "cell_type": "markdown",
   "metadata": {
    "slideshow": {
     "slide_type": "subslide"
    }
   },
   "source": [
    "<!-- begin livecode -->\n",
    "```\n",
    "FOR each spectrum:\n",
    "    Find absorption for $2600 < \\nu < 3500$\n",
    "    fit background\n",
    "    IF absorption - background > threshold:\n",
    "        assign as alcohol\n",
    "```\n",
    "<!-- end livecode -->"
   ]
  },
  {
   "cell_type": "markdown",
   "metadata": {},
   "source": [
    "## Tasks 1.2.2\n",
    "\n",
    "In your groups, discuss and solve the following problems. Work together with one person controlling the computer - this is called 'pair-programming'."
   ]
  },
  {
   "cell_type": "markdown",
   "metadata": {},
   "source": [
    "<div class=\"alert alert-success\"> \n",
    "<b> Task 1.2.2 a: NMR spectroscopy \n",
    "\n",
    "Some reactions can be monitored in-situ by NMR spectroscopy, by following the growth of a new NMR peak with time. For such a reaction, what order would you need to perform the following steps in order to plot a concentration vs time profile?\n",
    "\n",
    "\n",
    "> Drag the boxes into the correct order, remembering to indent things that should be performed inside the loop\n",
    "\n",
    "</div>"
   ]
  },
  {
   "cell_type": "code",
   "execution_count": 2,
   "metadata": {
    "slideshow": {
     "slide_type": "slide"
    }
   },
   "outputs": [
    {
     "data": {
      "text/html": [
       "\n",
       "        <iframe\n",
       "            width=\"950\"\n",
       "            height=\"600\"\n",
       "            src=\" https://parsons.herokuapp.com/puzzle/17312c8d7d1d44348ed1bff8886c54da\"\n",
       "            frameborder=\"0\"\n",
       "            allowfullscreen\n",
       "            \n",
       "        ></iframe>\n",
       "        "
      ],
      "text/plain": [
       "<IPython.lib.display.IFrame at 0x105c7e320>"
      ]
     },
     "execution_count": 2,
     "metadata": {},
     "output_type": "execute_result"
    }
   ],
   "source": [
    "IFrame(' https://parsons.herokuapp.com/puzzle/17312c8d7d1d44348ed1bff8886c54da', 950, 600)"
   ]
  },
  {
   "cell_type": "markdown",
   "metadata": {
    "slideshow": {
     "slide_type": "subslide"
    }
   },
   "source": [
    "<!-- begin answer -->\n",
    "\n",
    "<details><summary {style='color:green;font-weight:bold'}> Click here to see solution to Task 1.2.2 a </summary>\n",
    "\n",
    "```\n",
    "FOR each NMR spectrum:\n",
    "    read in NMR data file(s)\n",
    "    extract time from NMR file\n",
    "    fit NMR peak of interest\n",
    "    extract peak area\n",
    "    convert area to concentration\n",
    "plot concentration vs time\n",
    "```\n",
    "<!-- end answer -->"
   ]
  },
  {
   "cell_type": "markdown",
   "metadata": {
    "slideshow": {
     "slide_type": "slide"
    }
   },
   "source": [
    "<div class=\"alert alert-success\">\n",
    "<b>Task 1.2.2 b: Write a function that computes bond lengths:</b>\n",
    "\n",
    "If you were given a sequence of atomic coordinates during a reaction that were for some reason in the wrong order, how might you try to put them back in the correct sequence? For example, consider the sequence of five steps from an S<sub>N</sub>2 reaction shown below (imagining you had the atomic coordinates):\n",
    "\n",
    "![SN2 Reaction steps](./images/SN2_reaction_steps.png)\n",
    "\n",
    "> Hint: If you know how far each atom must move to get to a different step, the next step along the S<sub>N</sub>2 reaction will be the one with the smallest (total) distance\n",
    "\n",
    "</div>\n"
   ]
  },
  {
   "cell_type": "code",
   "execution_count": 2,
   "metadata": {
    "slideshow": {
     "slide_type": "subslide"
    }
   },
   "outputs": [
    {
     "ename": "NameError",
     "evalue": "name 'IFrame' is not defined",
     "output_type": "error",
     "traceback": [
      "\u001b[0;31m---------------------------------------------------------------------------\u001b[0m",
      "\u001b[0;31mNameError\u001b[0m                                 Traceback (most recent call last)",
      "Input \u001b[0;32mIn [2]\u001b[0m, in \u001b[0;36m<cell line: 1>\u001b[0;34m()\u001b[0m\n\u001b[0;32m----> 1\u001b[0m \u001b[43mIFrame\u001b[49m(\u001b[38;5;124m'\u001b[39m\u001b[38;5;124m https://parsons.herokuapp.com/puzzle/7b69c59b740c4d8e82dcbd2875dd5ffe\u001b[39m\u001b[38;5;124m'\u001b[39m, \u001b[38;5;241m950\u001b[39m,\u001b[38;5;241m500\u001b[39m)\n",
      "\u001b[0;31mNameError\u001b[0m: name 'IFrame' is not defined"
     ]
    }
   ],
   "source": [
    "IFrame(' https://parsons.herokuapp.com/puzzle/7b69c59b740c4d8e82dcbd2875dd5ffe', 950,500)"
   ]
  },
  {
   "cell_type": "markdown",
   "metadata": {
    "slideshow": {
     "slide_type": "subslide"
    }
   },
   "source": [
    "<!-- begin answer -->\n",
    "\n",
    "<details><summary {style='color:green;font-weight:bold'}> Click here to see solution to Task 1.2.2 b </summary>\n",
    "\n",
    "```\n",
    "FOR each pair of structures:\n",
    "    Determine (summed) distance between equivalent pairs of atoms (e.g. O-O, Br-Br etc).\n",
    "Assign largest distance as that between start/end points\n",
    "Use starting point as `current` step\n",
    "LOOP continuously:\n",
    "    Find minimum distance from current step\n",
    "    IF not already part of sequence:\n",
    "        Assign to sequence.\n",
    "    IF next in sequence is the end point:\n",
    "        STOP - problem complete.\n",
    "    Change `current` step to next in sequence\n",
    "```\n",
    "\n",
    "<!-- end answer -->"
   ]
  },
  {
   "cell_type": "markdown",
   "metadata": {
    "slideshow": {
     "slide_type": "skip"
    }
   },
   "source": [
    "<div class=\"alert alert-warning\">\n",
    "<b>Exercise 1.2.3: Write a pseudocode algorithm to determine the molecular weight from an arbitrary chemical formula, e.g. (CH3)3CBr or CH3C(O)CN.</b>\n",
    "</div>  \n"
   ]
  },
  {
   "cell_type": "markdown",
   "metadata": {
    "slideshow": {
     "slide_type": "slide"
    }
   },
   "source": [
    "## 1.2.8 Recap\n",
    "This session has covered:\n",
    "- How to break down a problem\n",
    "    - Know *what* you are trying to answer\n",
    "    - Determine if you have all the information you need before starting\n",
    "- Constructing an algorithm\n",
    "    - Multiple ways of solving the problem\n",
    "        - as long as it works, *how* isn't important\n",
    "    - Try to think of pitfalls of your solution\n",
    "        - One solution may often be faster, more robust, easier to read, etc..."
   ]
  },
  {
   "cell_type": "markdown",
   "metadata": {
    "slideshow": {
     "slide_type": "slide"
    }
   },
   "source": [
    "## 1.2.9 Feedback\n",
    "Please say what you did and didn't like about this session!"
   ]
  },
  {
   "cell_type": "code",
   "execution_count": 12,
   "metadata": {
    "slideshow": {
     "slide_type": "subslide"
    }
   },
   "outputs": [
    {
     "data": {
      "text/html": [
       "<div style='width:100%; height:40vh;'> <iframe src=https://www.menti.com/d4sdwwt6er height=100% width=70%></iframe> </div>"
      ],
      "text/plain": [
       "<IPython.core.display.HTML object>"
      ]
     },
     "execution_count": 12,
     "metadata": {},
     "output_type": "execute_result"
    }
   ],
   "source": [
    "positive_feedback = Mentimeter(vote='https://www.menti.com/d4sdwwt6er')\n",
    "positive_feedback.show()"
   ]
  },
  {
   "cell_type": "code",
   "execution_count": 13,
   "metadata": {
    "slideshow": {
     "slide_type": "subslide"
    }
   },
   "outputs": [
    {
     "data": {
      "text/html": [
       "<div style='width:100%; height:40vh;'> <iframe src=https://www.menti.com/ybjs1a5299 height=100% width=70%></iframe> </div>"
      ],
      "text/plain": [
       "<IPython.core.display.HTML object>"
      ]
     },
     "execution_count": 13,
     "metadata": {},
     "output_type": "execute_result"
    }
   ],
   "source": [
    "critical_feedback = Mentimeter(vote='https://www.menti.com/ybjs1a5299')\n",
    "critical_feedback.show()"
   ]
  }
 ],
 "metadata": {
  "kernelspec": {
   "display_name": "Python 3.10.2 ('jupyterlab')",
   "language": "python",
   "name": "python3"
  },
  "language_info": {
   "codemirror_mode": {
    "name": "ipython",
    "version": 3
   },
   "file_extension": ".py",
   "mimetype": "text/x-python",
   "name": "python",
   "nbconvert_exporter": "python",
   "pygments_lexer": "ipython3",
   "version": "3.10.2"
  },
  "toc": {
   "base_numbering": 1,
   "nav_menu": {},
   "number_sections": false,
   "sideBar": true,
   "skip_h1_title": false,
   "title_cell": "Table of Contents",
   "title_sidebar": "Contents",
   "toc_cell": false,
   "toc_position": {},
   "toc_section_display": true,
   "toc_window_display": true
  },
  "vscode": {
   "interpreter": {
    "hash": "cf51243a6e93b78f1f5c5d179cd4f66e9bfd7b6269bebfcfdbed7f35483e292c"
   }
  }
 },
 "nbformat": 4,
 "nbformat_minor": 4
}

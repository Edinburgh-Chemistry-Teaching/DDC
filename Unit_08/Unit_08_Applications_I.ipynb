{
 "cells": [
  {
   "cell_type": "markdown",
   "metadata": {},
   "source": [
    "# Unit 08: Applications to Chemistry -- Mass Spectrometry and Radioactive Decay\n",
    "\n",
    "<a rel=\"license\" href=\"http://creativecommons.org/licenses/by/4.0/\"><img alt=\"Creative Commons Licence\" style=\"border-width:0\" src=\"https://i.creativecommons.org/l/by/4.0/88x31.png\" title='This work is licensed under a Creative Commons Attribution 4.0 International License.' align=\"right\"/></a>\n",
    "\n",
    "Authors: \n",
    "- Dr Valentina Erastova\n",
    "- Dr Matteo Degiacomi\n",
    "- Hannah Pollak\n",
    "\n",
    "Email: valentina.erastova@ed.ac.uk"
   ]
  },
  {
   "cell_type": "markdown",
   "metadata": {},
   "source": [
    "## Learning Objectives\n",
    "\n",
    "This is the first of two Units focussing on applying the learned material for chemistry-related problems. In this Unit you will:\n",
    "\n",
    "- look at the [real mass spectrometry data](#MSDATA) for some interesting molecules, visualise the structures, plot the data and find the peaks.\n",
    "\n",
    "- learn about carbon isotopes, their [stability and radioactive decay](#RadDecay), and how we can use it to calculate the age of a given sample. \n",
    "\n",
    "- make a [Quiz](#Quiz), that could even be helpful for you to learn periodic table."
   ]
  },
  {
   "cell_type": "markdown",
   "metadata": {},
   "source": [
    "## Table of Contents\n",
    "\n",
    "1. [Real Mass Spectrometry data of a fun molecule](#MSDATA)    \n",
    "    1.1 [Visualising Molecular Structure](#molec_view)    \n",
    "    1.2 [TASK 1 & 2 - Finding Peaks](#Task_Peaks)    \n",
    "2. [Radioactive Decay](#RadDecay)    \n",
    "    2.1 [Theoretical background - radiocarbon](#theory)    \n",
    "    2.2 [Exponential decay - Let's run a simulation](#simulation)    \n",
    "    2.3 [TASK 3 - Finding the half-life from the decay data collection](#Task_Halflife)    \n",
    "3. [Write a Chemistry Quiz](#Quiz)    \n",
    "    3.1 [What makes a good Quiz?](#whatis)    \n",
    "    3.2 [Structure of a Quiz](#structure_quiz)    \n",
    "    3.3 [TASK 4 & 5 - Write (and play) a Quiz](#Task_quiz)    \n",
    "\n",
    "<a class=\"anchor\" id=\"teabags\"></a>"
   ]
  },
  {
   "cell_type": "markdown",
   "metadata": {},
   "source": [
    "# Application 1: Real Mass Spectrometry data of a fun molecule\n",
    "<a class=\"anchor\" id=\"MSDATA\"></a>\n"
   ]
  },
  {
   "cell_type": "markdown",
   "metadata": {},
   "source": [
    "**Mass Spectrometry (MS)** is an experimental technique enabling the *measurement of the mass-to-charge (m/z) of a molecule*. In a mass spectrometer, molecules can also be fragmented: as such, the mass-to-charge of resulting fragments can also be simultaneously detected. A typical mass spectrum is reported in a dataset with two columns: the first is a regularly spaced range of m/z values, while the second is the detected intensity associated with each m/z value. In this first application, we will work with MS data of some fun molecules!"
   ]
  },
  {
   "cell_type": "markdown",
   "metadata": {},
   "source": [
    "By running the cell below, a random molecule will be selected. The following information will be returned:\n",
    "- a name of one of the molecules (saved in the variable `m`)\n",
    "- a link to the [The Molecule of the Month](http://www.chm.bris.ac.uk/motm/motm.htm) website associated to your molecule (saved in the variable `w`).\n",
    "\n",
    "Printed on screen, you will find the path to text files containing the molecular structure and MS data.\n",
    "- The MS data for all the compounds is taken from [*MassBank*](https://massbank.eu/MassBank/). ACCESSION, RECORD_TITLE, DATE and AUTHORS are given in the comment section (lines starting with `#`) of the `data/MS_*Molecule*.txt` file.\n",
    "- The molecular structures are obtained from [MolView](https://molview.org)."
   ]
  },
  {
   "cell_type": "markdown",
   "metadata": {},
   "source": [
    "<div class=\"alert alert-info\">\n",
    "The <b>Molecule of the Month website</b>, created by <a href=\"http://www.bris.ac.uk/chemistry/people/paul-w-may\">Prof Paul May</a> from  Bristol University, holds information on many of the interesting molecules that we meet in our lives. For more information, see: \n",
    "<p>P.W. May, S.A. Cotton, K. Harrison, H.S. Rzepa, The ‘Molecule of the Month’ website – an extraordinary chemistry educational resource online for over 20 years <a href=\"doi.org/10.3390/molecules22040549\"> Molecules 22 (2017) 549-559</a></p>\n",
    "</div>"
   ]
  },
  {
   "cell_type": "code",
   "execution_count": null,
   "metadata": {},
   "outputs": [],
   "source": [
    "try:\n",
    "    import google.colab\n",
    "    IN_COLAB = True\n",
    "except:\n",
    "    IN_COLAB = False\n",
    "if IN_COLAB:\n",
    "    # copy over data repository\n",
    "    !git clone https://github.com/Edinburgh-Chemistry-Teaching/Data-driven-chemistry\n",
    "    !cp -r Data-driven-chemistry/Unit_08/*.py .\n",
    "    !cp -r Data-driven-chemistry/Unit_08/data .\n",
    "    \n",
    "    !pip install condacolab\n",
    "    import condacolab\n",
    "    condacolab.install()\n",
    "    !mamba install -c conda-forge nglview ipywidgets=7.6.0 vpython\n",
    "    from google.colab import output\n",
    "    output.enable_custom_widget_manager()"
   ]
  },
  {
   "cell_type": "code",
   "execution_count": null,
   "metadata": {},
   "outputs": [],
   "source": [
    "import molecule_getter as mg\n",
    "m, w = mg.get_molecule()"
   ]
  },
  {
   "cell_type": "markdown",
   "metadata": {},
   "source": [
    "## 1.1 Visualising Molecular Structure\n",
    "<a class=\"anchor\" id=\"molec_view\"></a>"
   ]
  },
  {
   "cell_type": "markdown",
   "metadata": {},
   "source": [
    "The molecule selected for us has its name saved in the variable `m`. The molecule itself (as a .mol file), is available in the `data` directory of this unit. Let's store in the variable `molecule` the path to .mol file."
   ]
  },
  {
   "cell_type": "code",
   "execution_count": null,
   "metadata": {
    "scrolled": true
   },
   "outputs": [],
   "source": [
    "molecule = f'./data/{m}.mol'"
   ]
  },
  {
   "cell_type": "markdown",
   "metadata": {},
   "source": [
    "Let's start by visualising our molecule. For this we can use the `nglview` Python package (see its documentation [here](http://nglviewer.org/nglview/latest/))."
   ]
  },
  {
   "cell_type": "code",
   "execution_count": null,
   "metadata": {
    "scrolled": true
   },
   "outputs": [],
   "source": [
    "# Importing NGLview\n",
    "import nglview as nv"
   ]
  },
  {
   "cell_type": "code",
   "execution_count": null,
   "metadata": {
    "scrolled": true
   },
   "outputs": [],
   "source": [
    "mol_view = nv.show_structure_file(molecule)\n",
    "mol_view"
   ]
  },
  {
   "cell_type": "code",
   "execution_count": null,
   "metadata": {
    "scrolled": true
   },
   "outputs": [],
   "source": [
    "mol_view.add_surface(opacity=0.2) # add a surface representation"
   ]
  },
  {
   "cell_type": "code",
   "execution_count": null,
   "metadata": {
    "scrolled": true
   },
   "outputs": [],
   "source": [
    "mol_view.color_by('atomindex') # colour by index"
   ]
  },
  {
   "cell_type": "markdown",
   "metadata": {},
   "source": [
    "If we want to change the representation completely, we need to first *clear the previous representations*, then add the new one."
   ]
  },
  {
   "cell_type": "code",
   "execution_count": null,
   "metadata": {
    "scrolled": true
   },
   "outputs": [],
   "source": [
    "mol_view.clear_representations()\n",
    "mol_view.add_hyperball(color='white')\n",
    "mol_view.add_hyperball(selection='atom _O', color='red')"
   ]
  },
  {
   "cell_type": "markdown",
   "metadata": {},
   "source": [
    "## 1.2 Finding peaks on MS data\n",
    "<a class=\"anchor\" id=\"peaks\"></a>"
   ]
  },
  {
   "cell_type": "markdown",
   "metadata": {},
   "source": [
    "<div class=\"alert alert-success\">\n",
    "    <b>TASK 1 - Finding peaks on your MassSpec </b> \n",
    "    \n",
    "- Load the data from the mass spectrum in the .txt file named above\n",
    "\n",
    "- Label with a cross the highest peak in the txt file, and find its corresponding m/z\n",
    "    \n",
    "- add labels and legends to your plot, and save it\n",
    "\n",
    "- What is the difference between intensity and relative intensity? Calculate the relative intensity and produce a correctly labelled plot.\n",
    "\n",
    "- Using `scipy.signal.find_peaks`, find all peaks in the dataset, and mark them with a cross.\n",
    "    \n",
    "</div>"
   ]
  },
  {
   "cell_type": "markdown",
   "metadata": {},
   "source": [
    "<div class=\"alert alert-info\">\n",
    "        <b>HINTS: </b>   \n",
    "\n",
    "**Do you remember what molecule it was?**\n",
    "\n",
    "The variable defining your molecule is `m`, you can print it in the terminal:\n",
    "\n",
    "```python\n",
    "print(f'Your molecule is {m}, and the datafile is data/MS_{m}.txt')\n",
    "```\n",
    "---\n",
    "    \n",
    "**Do you know how your datafile looks like? What are the comments and the delimeters?**\n",
    "\n",
    "Before loading the mass spectrum data into our notebook we should take a closer look at what the datafile looks like.\n",
    "\n",
    "```python\n",
    "!head -24 ./data/filename.txt  \n",
    "```\n",
    "You should find that the file is has comments on the lines starting with '#'; the data is in 3 columns: m/z, intensity, relative intensity, separated by the white spaces.\n",
    "    \n",
    "---\n",
    "**Do you need a help to load datafiles?**  \n",
    "\n",
    "See Session 5 extra notebook [Pandas vs Numpy](../Unit_05/Extra_Pandas_NumPy.ipynb)\n",
    "\n",
    "---\n",
    "**Do you need a reminder on plotting?**  \n",
    "\n",
    "See Session 5 extra notebook [Plotting](../Unit_05/Unit_05_II_plotting.ipynb)\n",
    "\n",
    "---\n",
    "To **annotate your plot**:\n",
    "\n",
    "you can use function `plt.annotate ('text', xy=(x,y) )` more [information here](https://matplotlib.org/3.1.1/api/_as_gen/matplotlib.pyplot.annotate.html)\n",
    "in the case of this example the text will be *m/z= VALUE* and can be expressed like this: `mz = %s'%maxval[0]` \n",
    "the position is slightly offset from the peak itself `(maxval[0]+10, maxval[1]-50)` \n",
    "\n",
    "---\n",
    "To **find peaks**:\n",
    "\n",
    "package you have already seen `scipy.signal.find_peaks` manual [here](https://docs.scipy.org/doc/scipy/reference/generated/scipy.signal.find_peaks.html)\n",
    "\n",
    "we will see that the input should look like this:\n",
    "```python\n",
    "peaks, _ = find_peaks(x) \n",
    "\n",
    "```\n",
    "where `_` is used for an array that you will not use (see later details for this);\n",
    "where `x` is our signal the other parameters are non-compulsory, but necessary for a good search.\n",
    "</div>"
   ]
  },
  {
   "cell_type": "code",
   "execution_count": null,
   "metadata": {
    "scrolled": true
   },
   "outputs": [],
   "source": [
    "# Do you remember what is your molecule? \n",
    "\n"
   ]
  },
  {
   "cell_type": "code",
   "execution_count": null,
   "metadata": {
    "code_folding": [],
    "scrolled": true
   },
   "outputs": [],
   "source": [
    "# Your Solution\n",
    "\n"
   ]
  },
  {
   "cell_type": "markdown",
   "metadata": {},
   "source": [
    "<details>\n",
    "<summary> <mark> SOLUTION on an example of Caffeine using numpy only:</mark> </summary>\n",
    "   \n",
    "```python\n",
    "\n",
    "import numpy as np\n",
    "\n",
    "import matplotlib.pyplot as plt\n",
    "plt.rc('font', family='serif', size=12)\n",
    "\n",
    "from scipy.signal import find_peaks\n",
    "\n",
    "#load data\n",
    "data = np.loadtxt(\"./data/MS_Caffeine.txt\", comments='#')\n",
    "\n",
    "#assign columns to variable names\n",
    "mz = data[:, 0]\n",
    "intens = data[:, 1]\n",
    "relintens = data[:, 2]\n",
    "\n",
    "#find max in intensity and it's position\n",
    "maxpos = np.argmax(intens)\n",
    "maxval = data[maxpos, :]\n",
    "print('Max m/z is', maxval[0])\n",
    "\n",
    "#find peaks\n",
    "peaks, _ = find_peaks(relintens)\n",
    "print('found', len(peaks), 'peaks')\n",
    "\n",
    "#make a figure\n",
    "plt.figure(figsize=(10, 6))\n",
    "\n",
    "plt.subplot(1, 2, 1, title=\"Caffeine MS - single peak\")\n",
    "\n",
    "#add data to the plot\n",
    "plt.plot(mz, intens, '-', c='c', label='data')\n",
    "plt.plot(maxval[0], maxval[1], 'X', c='r', label='peak')\n",
    "\n",
    "#adding an value next to the peak\n",
    "x = maxval[0] + 10  #shift x axis to the right by 10\n",
    "y = maxval[1] - 50  #shift y axis down by 50\n",
    "plt.annotate('m/z=%s' % maxval[0], xy=(x, y))\n",
    "\n",
    "#plot legend with a location and label axis\n",
    "plt.legend(loc='upper left')\n",
    "plt.xlabel(\"m/z\")\n",
    "plt.ylabel(\"intensity\")\n",
    "\n",
    "#next plot\n",
    "plt.subplot(1, 2, 2, title=f'Caffeine MS - top {len(peaks)} peaks')\n",
    "plt.plot(mz, relintens, '-', c='c', label='data')\n",
    "plt.plot(data[peaks, 0], data[peaks, 2], 'X', c='r', label='peaks')\n",
    "\n",
    "#label and adjust plot\n",
    "plt.legend()\n",
    "plt.xlabel(\"m/z\")\n",
    "plt.ylabel(\"relative intensity\")\n",
    "plt.subplots_adjust(wspace=0.3)\n",
    "\n",
    "#save figure ans show the plot\n",
    "plt.savefig(\"MS_Caffeine_MZ.png\")\n",
    "plt.show()\n",
    "```\n",
    "</details>"
   ]
  },
  {
   "cell_type": "markdown",
   "metadata": {},
   "source": [
    "<details>\n",
    "\n",
    "<summary> <mark> SOLUTION on an example of Caffeine using pandas:</mark> </summary>\n",
    "\n",
    "```python    \n",
    "import pandas as pd\n",
    "\n",
    "import matplotlib.pyplot as plt\n",
    "plt.rc('font', family='serif', size=12)\n",
    "\n",
    "from scipy.signal import find_peaks\n",
    "\n",
    "#load data and assign column labels\n",
    "data = pd.read_csv(\"./data/MS_Caffeine.txt\",\n",
    "                   sep='\\s+',\n",
    "                   comment='#',\n",
    "                   names=['mz', 'I', 'relI'])\n",
    "\n",
    "#select 'm/z' as the index column\n",
    "data.set_index('mz', inplace=True)\n",
    "\n",
    "# one option for finding maximum intensity and mz at that position\n",
    "# use idxmax to select index where column 'I' is max\n",
    "# use max for finding maximum in 'I' column\n",
    "max_val = data['I'].idxmax()\n",
    "max_pos = data['I'].max()\n",
    "print(f'm/z of max I is {max_val}\\n' f'max I is {max_pos}\\n')\n",
    "\n",
    "# find peaks in 'relI' column\n",
    "peaks, _ = find_peaks(data['relI'])\n",
    "print('found', len(peaks), 'peaks')\n",
    "\n",
    "#make a figure\n",
    "plt.figure(figsize=(10, 6))\n",
    "\n",
    "plt.subplot(1, 2, 1, title=\"Caffeine MS - single peak\")\n",
    "\n",
    "#add data to the plot\n",
    "plt.plot(data.index, data['I'], '-', c='c', label='data')\n",
    "plt.plot(max_val, max_pos, 'X', c='r', label='peak')\n",
    "\n",
    "#adding an value next to the peak\n",
    "x = max_val + 10  #shift x axis to the right by 10\n",
    "y = max_pos - 50  #shift y axis down by 50\n",
    "plt.annotate(f'm/z={max_val}', xy=(x, y))\n",
    "\n",
    "#plot legend with a location and label axis\n",
    "plt.legend(loc='upper left')\n",
    "plt.xlabel(\"m/z\")\n",
    "plt.ylabel(\"intensity\")\n",
    "\n",
    "#next plot\n",
    "plt.subplot(1, 2, 2, title=f'Caffeine MS - top {len(peaks)} peaks')\n",
    "plt.plot(data.index, data['relI'], '-', c='c', label='data')\n",
    "plt.plot(data.iloc[peaks, 1].index,\n",
    "         data.iloc[peaks, 1],\n",
    "         'X',\n",
    "         c='r',\n",
    "         label='peaks')\n",
    "\n",
    "#label and adjust plot\n",
    "plt.legend()\n",
    "plt.xlabel(\"m/z\")\n",
    "plt.ylabel(\"relative intensity\")\n",
    "plt.subplots_adjust(wspace=0.3)\n",
    "\n",
    "#save figure ans show the plot\n",
    "plt.savefig(\"MS_Caffeine_MZ.png\")\n",
    "plt.show()\n",
    "```\n",
    "    \n",
    "</details>"
   ]
  },
  {
   "cell_type": "markdown",
   "metadata": {},
   "source": [
    "<div class=\"alert alert-success\">\n",
    "    <b>TASK 2 - Optimise the Search </b> \n",
    "    \n",
    "Optimise the search for peaks:\n",
    "    \n",
    "```python\n",
    "scipy.signal.find_peaks(x, height=None, threshold=None, distance=None, prominence=None, width=None, wlen=None, rel_height=0.5, plateau_size=None)\n",
    "```\n",
    "the output will then also give a dictionary of various properties, according to the parameters passed.\n",
    "\n",
    "Try 4 searches, setting the various height, threshold, distance, prominance and see how it affects the peak search, by plotting these next to each otheras 2x2 grid of subplots\n",
    "    \n",
    "</div>"
   ]
  },
  {
   "cell_type": "code",
   "execution_count": null,
   "metadata": {
    "scrolled": true
   },
   "outputs": [],
   "source": [
    "# Your Solution\n",
    "\n"
   ]
  },
  {
   "cell_type": "markdown",
   "metadata": {
    "scrolled": true
   },
   "source": [
    "<details>\n",
    "<summary> <mark> SOLUTION on an example of Caffeine:</mark> </summary>\n",
    "    \n",
    "```python\n",
    "import numpy as np\n",
    "\n",
    "from scipy.signal import find_peaks\n",
    "\n",
    "data = np.loadtxt(\"./data/MS_Caffeine.txt\", comments='#')\n",
    "\n",
    "#lets use normalised data\n",
    "intens = data[:, 2]\n",
    "\n",
    "#define parameters the test\n",
    "h = 20\n",
    "p = 100\n",
    "w = 1\n",
    "t = 10\n",
    "\n",
    "peaks1, properties1 = find_peaks(intens, height=h)\n",
    "print('found', len(peaks1), 'peaks for height=', h)\n",
    "\n",
    "peaks2, properties2 = find_peaks(intens, prominence=p)\n",
    "print('found', len(peaks2), 'peaks for prominence=', p)\n",
    "\n",
    "peaks3, properties3 = find_peaks(intens, height=h, width=w)\n",
    "print('found', len(peaks3), 'peaks for hight = %s and width=%s' % (h, w))\n",
    "\n",
    "peaks4, properties4 = find_peaks(intens, threshold=t)\n",
    "print('found', len(peaks4), 'peaks for threshold=', t)\n",
    "\n",
    "#plot it\n",
    "plt.figure(figsize=(10, 8))\n",
    "\n",
    "plt.subplot(2, 2, 1)\n",
    "plt.plot(data[peaks1, 0], data[peaks1, 2], \"xr\")\n",
    "plt.plot(data[:, 0], data[:, 2], 'c')\n",
    "plt.legend(['height'])\n",
    "\n",
    "plt.subplot(2, 2, 2)\n",
    "plt.plot(data[peaks2, 0], data[peaks2, 2], \"xb\")\n",
    "plt.plot(data[:, 0], data[:, 2], 'c')\n",
    "plt.legend(['prominence'])\n",
    "\n",
    "plt.subplot(2, 2, 3)\n",
    "plt.plot(data[peaks3, 0], data[peaks3, 2], \"xm\")\n",
    "plt.plot(data[:, 0], data[:, 2], 'c')\n",
    "plt.legend(['hight & width'])\n",
    "\n",
    "plt.subplot(2, 2, 4)\n",
    "plt.plot(data[peaks4, 0], data[peaks4, 2], \"xk\")\n",
    "plt.plot(data[:, 0], data[:, 2], 'c')\n",
    "plt.legend(['threshold'])\n",
    "\n",
    "plt.savefig(\"MS_Caffeine_Peaks_compare.png\")\n",
    "\n",
    "plt.show()\n",
    "\n",
    "```\n",
    "</details>"
   ]
  },
  {
   "cell_type": "markdown",
   "metadata": {},
   "source": [
    "**Feeling like you want to analyse and plot more data?**\n",
    "\n",
    "There are a few more data files for you, providing data on compounds typically used as calibrants in MS.\n",
    "\n",
    " - `MS_FC43pos.txt` Perfluorotributylamine (FC43), here as a positive ion\n",
    " - `MS_FC43neg.txt` FC43 as a negative ion\n",
    " - `MS_PFK.txt` Perfluorokerosene (PFK)\n",
    " - `MS_FC70pos.txt` Perfluorotripentylamine (FC70) pssitive\n",
    " - `MS_FC70neg.txt` FC70 negative ion\n",
    " - `MS_FAB.txt`\n",
    " - `MS_CsI.txt`"
   ]
  },
  {
   "cell_type": "markdown",
   "metadata": {
    "scrolled": false
   },
   "source": [
    "<details>\n",
    "<summary> <mark> SOLUTION example:</mark> </summary>\n",
    "    \n",
    "```python\n",
    "\n",
    "#load data\n",
    "data1 = np.loadtxt(\"./data/MS_FC43pos.txt\", comments='#')\n",
    "data2 = np.loadtxt(\"./data/MS_FC43neg.txt\", comments='#')\n",
    "\n",
    "#find max and min\n",
    "maxpos1 = np.argmax(data1[:, 1])\n",
    "maxval1 = data1[maxpos1, :]\n",
    "maxpos2 = np.argmax(data2[:, 1])\n",
    "maxval2 = data2[maxpos2, :]\n",
    "\n",
    "#make a figure\n",
    "plt.figure()\n",
    "\n",
    "#make subplot, name the figure\n",
    "plt.subplot(1, 1, 1, title=\"Perfluorotributylamine\")\n",
    "\n",
    "#add data to the plot\n",
    "plt.plot(data1[:, 0], data1[:, 1], '.-', c='c', label='Positive Ion')\n",
    "plt.plot(data2[:, 0], data2[:, 1], '.-', c='b', label='Negative Ion')\n",
    "plt.plot(maxval1[0], maxval1[1], 'X', c='r', label='peaks')\n",
    "plt.plot(maxval2[0], maxval2[1], 'X', c='r')\n",
    "\n",
    "#labe  axis\n",
    "plt.xlabel(\"m/z\")\n",
    "plt.ylabel(\"Rel. Abundance\")\n",
    "\n",
    "#plot legend with a location\n",
    "#'upper/lower left/right/center' or 'center left/right'\n",
    "plt.legend(loc='upper right')\n",
    "\n",
    "#save figure\n",
    "plt.savefig(\"MS_FC43.png\")\n",
    "\n",
    "plt.show()\n",
    "```\n",
    "</details>"
   ]
  },
  {
   "cell_type": "markdown",
   "metadata": {},
   "source": [
    "[back to top](#teabags)"
   ]
  },
  {
   "cell_type": "markdown",
   "metadata": {},
   "source": [
    "# Application 2: Radioactive Decay \n",
    "<a class=\"anchor\" id=\"RadDecay\"></a>"
   ]
  },
  {
   "cell_type": "markdown",
   "metadata": {},
   "source": [
    "## 1.2 Theory <a class=\"anchor\" id=\"theory\"></a>\n",
    "\n",
    "\n",
    "### Radiocarbon\n",
    "\n",
    "**Isotopes** of an element share the same number of protons but have different numbers of neutrons. \n",
    "Each element has numerous isotopes, but only a few will be stable enough to be found naturally. For example, carbon has:\n",
    " - two stable isotopes:\n",
    "     - 98+% of total carbon is <sup>12</sup>C, and \n",
    "     - ~1% is <sup>13</sup>C (<sup>13</sup>C allows us to do NMR!)\n",
    " - one radioactive (i.e. capable of a decay into another element) <sup>14</sup>C, formed cosmogenically in small amounts.\n",
    " - further 12 isotopes are known, only stable on the sub-second timescales they have been produced artificially.\n",
    "\n",
    "<img src=\"images/C_isotopes.jpg\" width=\"800\">\n"
   ]
  },
  {
   "cell_type": "markdown",
   "metadata": {},
   "source": [
    "Since Carbon-14 has one too many neutrons, it will undergo a $\\beta^-$ decay into <sup>14</sup>N, where a neutron will decay into a proton, emitting an electron ($\\beta$-particle) and an anti-neutrino, ν:\n",
    "\n",
    " <sub>6</sub><sup>14</sup>C  -> <sub>7</sub><sup>14</sup>N + e<sup>-</sup> +  ν\n",
    " \n",
    " \n",
    "The amount of carbon-14 is constantly replenished through the reaction of nitrogen-14 in the atmosphere under exposure to the cosmic ray action: \n",
    "\n",
    "n + <sub>7</sub><sup>14</sup>N  -> <sub>6</sub><sup>14</sup>C + p<sup>+</sup>\n",
    "\n",
    "Therefore, <sup>14</sup>C is a cosmogenic nuclide. However, open-air nuclear testing (between 1955 and 1980s) have also increased the amount of <sup>14</sup>C in the environment. This Carbon-14, reacts with oxygen, forming CO<sub>2</sub> and gets incorporated (photosynthesis, mixing, C-exchange) into various living species and natural materials. Decaying slowly with a halflife of 5730 years, it becomes ideal for dating materials up to 10 000 BC (Mesolithic age, when humans have still been mainly hunter/gatherers)."
   ]
  },
  {
   "cell_type": "markdown",
   "metadata": {},
   "source": [
    "The method of radiocarbon dating was proposed by [Willard Libby](https://en.wikipedia.org/wiki/Willard_Libby) in 1949. Here is the figure from the original paper explaining the ages of various materials - \n",
    "J. R. Arnold & W. F. Libby, “Age Determinations by Radiocarbon Content: Checks with Samples of Known Age,” Science 110(2869), 678–680, 1949.\n",
    "\n",
    "<img src=\"images/carbon_dating_libby.png\" width=\"400\">"
   ]
  },
  {
   "cell_type": "markdown",
   "metadata": {},
   "source": [
    "<div class=\"alert alert-info\">\n",
    "<b>Want to learn more?</b>\n",
    "\n",
    "- The <a href=\"https://en.wikipedia.org/wiki/Shroud_of_Turin\">Shroud of Turin</a> is a linen cloth, claimed to be the negative image of Jesus of Nazareth, as the cloth wrapped the body after crucifixion. In 1988, radiocarbon dating established that the shroud was from the Middle Ages, between the years 1260 and 1390.\n",
    "<a href=\"https://www.nature.com/articles/337611a0\">P. E. Damon et al., Radiocarbon Dating of the Shroud of Turin, Nature 337(6208), 611–615, 1989</a>.    \n",
    "\n",
    "- The [Bakhshali Manuscript](https://en.wikipedia.org/wiki/Bakhshali_manuscript) contains the earliest known Indian use of a zero symbol. There has been some debate on the age of this manuscript.\n",
    "\n",
    "- [J. Van der Plicht et al.Recent Developments in Calibration for Archaeological and Environmental Samples, Radiocarbon, 62(4), 1095-1117, 2020](https://www.cambridge.org/core/journals/radiocarbon/article/recent-developments-in-calibration-for-archaeological-and-environmental-samples/671DCC8A4A38ACF57786EFC659E5D8F6).\n",
    "    \n",
    "</div>"
   ]
  },
  {
   "cell_type": "markdown",
   "metadata": {},
   "source": [
    "### Radioactive Decay \n",
    "<a class=\"anchor\" id=\"Simulation\"></a>\n",
    "\n",
    "The decay itself is exponential - the number of particles, $N$, at a given moment in time, $t$, can be calculated as:\n",
    "\n",
    "$ N=N_0 e^{-\\lambda t}$ , \n",
    "\n",
    "where $\\lambda$ is the decay constant, $N_0$ is the number of particles at the start, i.e. at $t=0$.\n",
    "\n",
    "\n",
    "The halflife, $\\tau$, of a material is the time it takes for the half of radioactive particles to decay:\n",
    "\n",
    "$\\tau = \\frac{\\ln(2)}{\\lambda}$ .\n",
    "\n",
    "Let's see this in action with a simulation below.\n"
   ]
  },
  {
   "cell_type": "markdown",
   "metadata": {},
   "source": [
    "[back to top](#teabags)"
   ]
  },
  {
   "cell_type": "markdown",
   "metadata": {},
   "source": [
    "## 2.2 Simulating Radioactive Decay\n",
    "\n",
    "Adapted from [Wired](https://www.wired.com/2017/04/lets-model-radioactive-decay-show-carbon-dating-works), written by Rhett Allain."
   ]
  },
  {
   "cell_type": "markdown",
   "metadata": {},
   "source": [
    "\n",
    "A material made of element **X** is composed from <span style=\"color:blue\">**stable blue particles**</span> and  <span style=\"color:red\">**radioactive red particles**</span>, which decay into a new element **Y**, <span style=\"color:cyan\">**stable cyan particles**</span>.\n",
    "\n",
    "The total amount of particles forming material is 500 element **X**, out of which 34.4% are radioactive. \n",
    "\n",
    "The decay rate for the <span style=\"color:red\">**X**</span> --> <span style=\"color:cyan\">**Y**</span> is 1/3, i.e a particle has 33.3(3)% chance to decay over a given unit of time.\n",
    "\n",
    "Below, we calculate what happens over the 1000 time units, and we will run the calculation with a step of 5 time units.\n"
   ]
  },
  {
   "cell_type": "markdown",
   "metadata": {},
   "source": [
    "There will be a large print out of the code, change the cell view by:\n",
    "\n",
    "    Cell tab -> All Outputs -> Toggle Scrolling\n",
    "\n",
    "You likely need to install [vpython](https://www.glowscript.org/docs/VPythonDocs/index.html) installed. For this, please run the cell below."
   ]
  },
  {
   "cell_type": "code",
   "execution_count": null,
   "metadata": {
    "code_folding": [],
    "scrolled": false
   },
   "outputs": [],
   "source": [
    "# INPUTS FOR THE DECAY\n",
    "\n",
    "#N is the total number of atoms\n",
    "N = 500\n",
    "\n",
    "#N2 is number of atoms that can decay\n",
    "N2 = 0.344 * N  #0.344 is 34.4%. You could try changing this\n",
    "\n",
    "#instead of steps, I am using t for time. simulation will run untill tmax\n",
    "t = 0\n",
    "tmax = 1000\n",
    "\n",
    "#dt is the time interval. it is set to 5 time units. You could try changing this\n",
    "dt = 5\n",
    "\n",
    "#r is the decay rate - the probability that one atom decays at time interval dt\n",
    "r = 1 / 3 # rate of 1/3, is a decay chance of 33.3%. You could try changing this\n",
    "\n",
    "\n",
    "########## PROGRAM BELOW ###########\n",
    "\n",
    "from vpython import *\n",
    "# This is needed in Jupyter notebook and lab to make programs glowscript programs rerunnable\n",
    "canvas(title='<b>Decay Simulation</b>', background=color.white, height=400)  \n",
    "\n",
    "#Build initial system\n",
    "atoms = []\n",
    "atoms2 = []\n",
    "\n",
    "#n and n2 are counters\n",
    "n = 0\n",
    "while n <= (N - N2):\n",
    "    atoms = atoms + [ sphere(pos=vector(3 * (random() - 1), (3 * random() - 1), 0),\n",
    "               radius=0.05, color=color.blue, opacity=0.3) ]\n",
    "    n = n + 1\n",
    "\n",
    "n2 = 0\n",
    "while n2 <= N2:\n",
    "    atoms2 = atoms2 + [ sphere(pos=vector(3 * (random() - 1), (3 * random() - 1), 0),\n",
    "               radius=0.05, color=color.red) ]\n",
    "    n2 = n2 + 1\n",
    "\n",
    "print(f\"Total no. of atoms is {N}\")\n",
    "print( f\"{N2*100/N}.2f of them are unstable (=red),\")\n",
    "print (f\"i.e. at the start of simulation, t=0, there are {N2} unstable atoms\")\n",
    "\n",
    "#decay is the number of things that have decayed, starts with 0\n",
    "decay = 0\n",
    "\n",
    "#this part makes a graph\n",
    "g1 = graph(title='<b>Decay plot</b>', xtitle='time',\n",
    "           ytitle='No. of particles per type', width=600, height=400, fast=False)\n",
    "\n",
    "f1 = gdots(graph=g1, color=color.blue, radius=3) #points on the plot\n",
    "#f2 = gcurve(graph=g1) # add a line plot\n",
    "f3 = gdots(graph=g1, color=color.red, radius=3)\n",
    "#f4 = gcurve(graph=g1) \n",
    "f5 = gdots(graph=g1, color=color.cyan, radius=3)\n",
    "#f6 = gcurve(graph=g1) \n",
    "\n",
    "#add initial data to graph\n",
    "f1.plot(t, N)\n",
    "f3.plot(t, N2)\n",
    "f5.plot(t, decay)\n",
    "\n",
    "#the following is a loop to go through each item for decay\n",
    "#this runs as long as t is less than tmax\n",
    "while t < tmax:\n",
    "    #rate(10) means display ten loops per second\n",
    "    rate(10)\n",
    "\n",
    "    #this goes through each atom in the list and decides if it decays\n",
    "    for i in atoms2:\n",
    "        #temp is a random number between 0 and 1. temperature can be thought of as a probability\n",
    "        temp = random()\n",
    "\n",
    "    #if it decays, do two things:\n",
    "    if temp < r:\n",
    "        #1-make the atom change colour\n",
    "        i.color = color.cyan\n",
    "        #i.emissive=True\n",
    "        #i.visible=False\n",
    "        #2-remove it from the atom list, add to decay list\n",
    "        atoms2.remove(i)\n",
    "        decay = decay + 1\n",
    "    \n",
    "    #increase time by one time interval step\n",
    "    t = t + dt\n",
    "    \n",
    "    #add a data point to the graph\n",
    "    f1.plot(t, (len(atoms2) + len(atoms)))\n",
    "    #f2.plot(t, (len(atoms2) + len(atoms)))\n",
    "    f3.plot(t, (len(atoms2)))\n",
    "    #f4.plot(t, (len(atoms2)))\n",
    "    f5.plot(t, decay)\n",
    "    #f6.plot(t, decay)\n",
    "\n",
    "#prints the number of atoms that decayed at the end of the simulation\n",
    "print(f'{decay} of unstable atoms (=red) have decayed (=cyan) by the t = {f}')\n",
    "print(f'There are still {len(atoms2)} atoms that can decay')"
   ]
  },
  {
   "cell_type": "markdown",
   "metadata": {},
   "source": [
    "[back to top](#teabags)"
   ]
  },
  {
   "cell_type": "markdown",
   "metadata": {},
   "source": [
    "## 2.3 Fitting radioactive decay <a class=\"anchor\" id=\"Task_Halflife\"></a>\n",
    "\n",
    "Adapted from: Christian Hill, [The Second Edition of Learning Scientific Programming with Python](https://www.cambridge.org/sj/academic/subjects/physics/mathematical-methods/learning-scientific-programming-python-2nd-edition?format=PB), ISBN: 9781108745918, published by Cambridge University Press in Nov 2020."
   ]
  },
  {
   "cell_type": "markdown",
   "metadata": {},
   "source": [
    "<div class=\"alert alert-success\">\n",
    "    <b>TASK 3 - Fit <sup>14</sup>C decay datasets to find half-life $\\tau$  </b> \n",
    "    \n",
    "The dataset `data/14C_MC_sim.csv` contains a set of individual decay datapoints for carbon-14 over a series of time. \n",
    "\n",
    " - Load the data (is it commented? are comments useful? what are the separators?)\n",
    " - How many sets are there?\n",
    " - Fit the data to obtain $\\tau$ and $N_0$\n",
    " - Plot the fit, as well as the average and standard deviation OR the collection of all datasets.\n",
    "\n",
    "</div>"
   ]
  },
  {
   "cell_type": "markdown",
   "metadata": {},
   "source": [
    "<div class=\"alert alert-info\">\n",
    "        <b>HINTS: </b>   \n",
    "\n",
    "- Average individual simulation datapoints along the colums to use for the fitting: \n",
    "```python\n",
    "N = Data.mean(axis=1)\n",
    "```\n",
    "- You can calculate STD to plot it as an error bar:\n",
    "```python\n",
    "plt.errorbar(t, N, err)\n",
    "```\n",
    "- Profit from converting and exponential decay into a linear relation:\n",
    "    \n",
    "&nbsp;&nbsp;&nbsp; $ N = N_0 ~ \\exp\\left(\\frac{-t}{\\tau}\\right) $  &nbsp;   &nbsp;&nbsp;  =>   &nbsp; &nbsp;&nbsp;     $\\ln(N) = \\ln(N_0) \\frac{-t}{\\tau} $\n",
    "    \n",
    "- use [`np.linalg.lstsq`](https://numpy.org/doc/stable/reference/generated/numpy.linalg.lstsq.html) function to perform a linear least-squares fit  \n",
    "- OR use non-linear least squares fit, i.e. [curve_fit](https://docs.scipy.org/doc/scipy/reference/generated/scipy.optimize.curve_fit.html) to fit to the exponential function directly. Don't forget to..\n",
    "    \n",
    "```python\n",
    "from scipy.optimize import curve_fit\n",
    "```\n",
    "\n",
    "</div>   \n",
    "    \n",
    " \n"
   ]
  },
  {
   "cell_type": "code",
   "execution_count": null,
   "metadata": {
    "scrolled": false
   },
   "outputs": [],
   "source": [
    "# Your Solution\n",
    "\n"
   ]
  },
  {
   "cell_type": "markdown",
   "metadata": {},
   "source": [
    "<details>\n",
    "<summary> <mark> SOLUTION example:</mark> </summary>\n",
    "    \n",
    "```python\n",
    "#load libraries and make some pretty settings\n",
    "import numpy as np\n",
    "from scipy.optimize import curve_fit\n",
    "import matplotlib.pyplot as plt\n",
    "from matplotlib import cm\n",
    "plt.rc('font', family='Helvetica', size=14)\n",
    "import cmocean\n",
    "cm = cmocean.cm.ice\n",
    "\n",
    "# Load in the data and separate into a time column, tgrid, and columns of\n",
    "# simulation runs, Nsim. \n",
    "arr = np.loadtxt('data/14C_MC_sim.csv', delimiter=',')\n",
    "tgrid = arr[:, 0]\n",
    "npts = len(tgrid)\n",
    "Nsim = arr[:, 1:]\n",
    "# Average Nsim for each time point.\n",
    "N = Nsim.mean(axis=1)\n",
    "Nstd = Nsim.std(axis=1)\n",
    "\n",
    "\n",
    "# Least-squares fit to log(N) as a function of t: should be a straight line\n",
    "def decay(t, N0, tau):\n",
    "    return N0 * np.exp(-t / tau)\n",
    "\n",
    "\n",
    "# Initial guesses: estimate tau from the noisy data or a linear fit to log(N)\n",
    "p0 = N[0], 8000\n",
    "popt, pcov = curve_fit(decay, tgrid, N, p0)\n",
    "N0, tau = popt\n",
    "\n",
    "# Report N0 and the half-life\n",
    "thalf = np.log(2) * tau\n",
    "print('Fitted parameters: N_0 = %.1f tau = %.1f years' % (N0, thalf))\n",
    "NFit = N0 * np.exp(-tgrid / tau)\n",
    "\n",
    "# PLOT\n",
    "plt.figure(figsize=(12, 8))\n",
    "\n",
    "# Plot the averaged data and the fit curve\n",
    "colors = cm(np.linspace(0, 1, arr.shape[1]))\n",
    "for i in range(arr.shape[1]):\n",
    "    plt.plot(tgrid, Nsim[:, 1:], '.', alpha=0.2, c=colors[i])\n",
    "\n",
    "plt.errorbar(tgrid, N, Nstd, fmt='o', c='dimgrey', label='Average + STD')\n",
    "\n",
    "# Plot the fit\n",
    "plt.plot(tgrid,\n",
    "         NFit,\n",
    "         c='r',\n",
    "         label=r'Fit with $N_0$ = %.1f, $\\tau$ = %.1f yr' % (N0, thalf))\n",
    "plt.legend()\n",
    "plt.xlabel('Time, $t$/yr')\n",
    "plt.ylabel('Remaining 14-C count, $N(t)$')\n",
    "plt.savefig('decay-fit-nonlinear.png')\n",
    "plt.show()\n",
    "```\n",
    "</details>"
   ]
  },
  {
   "cell_type": "markdown",
   "metadata": {},
   "source": [
    "[back to top](#teabags)"
   ]
  },
  {
   "cell_type": "markdown",
   "metadata": {},
   "source": [
    "\n",
    "# Application 3: Write an Interactive Chemistry Quiz Application\n",
    "<a class=\"anchor\" id=\"Quiz\"></a>"
   ]
  },
  {
   "cell_type": "markdown",
   "metadata": {},
   "source": [
    "## 3.1 Components of a Good Quiz Application <a class=\"anchor\" id=\"whatis\"></a>\n"
   ]
  },
  {
   "cell_type": "code",
   "execution_count": null,
   "metadata": {
    "scrolled": true
   },
   "outputs": [],
   "source": [
    "from IPython.display import HTML, IFrame\n",
    "HTML('<iframe src=https://www.menti.com/alikv3cbwjwt/embed width=700 height=900></iframe>')"
   ]
  },
  {
   "cell_type": "code",
   "execution_count": null,
   "metadata": {
    "scrolled": true
   },
   "outputs": [],
   "source": [
    "HTML('<iframe src=https://www.mentimeter.com/app/presentation/al9q2arbho621ads5j496qsweyx3nirh/embed width=700 height=400></iframe>')"
   ]
  },
  {
   "cell_type": "markdown",
   "metadata": {},
   "source": [
    "### Prerequisites of a good Quiz application:\n",
    "\n",
    "1. What do you want to test? What questions should you ask? How to make them non-ambiguous?\n",
    "2. What are the rules of the Quiz? State them clearly.\n",
    "3. Make the application user friendly, communicate to the player, interactivity is key.\n",
    "4. Make sure the application is bombproof - user will make mistakes, and should be able to restart.\n",
    "5. Keep the code organised: use lists/tuples/dictionaries.\n",
    "6. Make sure you are not revealing information you test to the player (esp if running from a Jupyter Notebook, where code is displayed) - hide the data you test against into a file.\n",
    "7. Check conditions you test with ```if``` statements.\n",
    "8. Repeat actions with the ```for```/```while``` loops.\n",
    "9. Use functions!\n",
    "10. Make your code flexible, easy to expand - odds are you will be keen to add new functionality.\n",
    "11. Keep testing by playing!"
   ]
  },
  {
   "cell_type": "markdown",
   "metadata": {},
   "source": [
    "## 3.2 Making a Quiz <a class=\"anchor\" id=\"structure_quiz\"></a>\n",
    "\n",
    "Let's create a quiz that will test the player on their knowledge of periodic table of elements - very chemistry Quiz!"
   ]
  },
  {
   "cell_type": "markdown",
   "metadata": {},
   "source": [
    "### Step 1: Ask your Question \n",
    "\n",
    "Make sure to suggest the options for the answer:\n",
    "\n",
    "``` python\n",
    "startgame = input('Are you ready to start the Game? [Y/n]')\n",
    "```\n",
    "\n",
    "Act on the instructions (=answer) received you will need an `if` statement. \n",
    "\n",
    "Remain flexible with the answer! While suggested `Y` the use could have not paid attention and put a small `y` instead. Nevertheless, any other letter should be assumed as attempt to quit\n",
    "\n",
    "```python\n",
    "if startgame.lower()[0] != 'y':\n",
    "    sys.exit('Quitting...')\n",
    "```"
   ]
  },
  {
   "cell_type": "code",
   "execution_count": null,
   "metadata": {
    "scrolled": true
   },
   "outputs": [],
   "source": [
    "# TRY HERE\n",
    "\n",
    "\n"
   ]
  },
  {
   "cell_type": "markdown",
   "metadata": {},
   "source": [
    "### Step 2:  Check the Answer against some Data\n",
    "\n",
    "Hide the questions and answers behind the code into a file. \n",
    "\n",
    "For example, here we can use this a datafile, containing the information on periodic table:\n",
    "```python\n",
    "ptable = pd.read_csv('data/ptable.csv')\n",
    "```\n",
    "<br>\n",
    "\n",
    "Ask the question using the datafile. Here, `random` is a handy function to randomise the questions (like used in the Application 1)\n",
    "```python\n",
    "randel = random.randint(0, 117)\n",
    "\n",
    "element = ptable.iloc[randel]\n",
    "    \n",
    "print(f'What is the name of an element {element['symbol']}? ')\n",
    "answer = input('')\n",
    "```\n",
    "<br>\n",
    "\n",
    "Check the answer against the datafile. Here you will need an `if` statement.\n",
    "\n",
    "Don't forget the feedback! Even if the user is wrong, it would be good to give them the correct answer! \n",
    "\n",
    "```python\n",
    "if answer.lower() == element['name'].lower():\n",
    "    # feedback\n",
    "    print('Correct!')\n",
    "    \n",
    "else:\n",
    "    # feedback, incl correct answer!\n",
    "    print(f'Wrong, it is {element['name']} ')\n",
    "```\n",
    " "
   ]
  },
  {
   "cell_type": "code",
   "execution_count": null,
   "metadata": {
    "scrolled": true
   },
   "outputs": [],
   "source": [
    "# TRY HERE\n",
    "\n",
    "\n",
    "    "
   ]
  },
  {
   "cell_type": "markdown",
   "metadata": {},
   "source": [
    "### Step 3: no quiz is good without a score!\n",
    "\n",
    "Add a count for the score and keep track!\n",
    "```python\n",
    "# set the counters\n",
    "score = 0\n",
    "\n",
    "ptable = pd.read_csv('data/ptable.csv')\n",
    "\n",
    "randel = random.randint(0, 117)\n",
    "element = ptable.iloc[randel]\n",
    "print(f'What is the name of an element {element['symbol']}?')\n",
    "answer = input('')\n",
    "\n",
    "# check the answer\n",
    "if answer.lower() == element['name'].lower():\n",
    "    print('Correct!')\n",
    "    #update the score\n",
    "    score += 1 \n",
    "    \n",
    "else:\n",
    "    print(f'Wrong, it is {element['name']} ')\n",
    "\n",
    "```\n"
   ]
  },
  {
   "cell_type": "code",
   "execution_count": null,
   "metadata": {
    "scrolled": false
   },
   "outputs": [],
   "source": [
    "# Want to try? or edit the code in the cell above\n",
    "\n"
   ]
  },
  {
   "cell_type": "markdown",
   "metadata": {},
   "source": [
    "### Step 4: Make Sure the Quiz is not infinite and users can exit\n",
    "\n",
    "Even the best quiz has to come to an end! \n",
    "\n",
    "Ask the user how many Questions they want to play, set the counter as a loop.\n",
    "\n",
    "```python\n",
    "# Ask how many questions to set, input should be an intiger!\n",
    "qcount = int(input('How many questions do you want to brave this time?'))\n",
    "\n",
    "# print out to confirm\n",
    "print (f'> You have chosen to do {qcount} questions')\n",
    "\n",
    "#set the counter \n",
    "questions = 0\n",
    "\n",
    "# start the loop over the number of questions player wants to answer\n",
    "for i in range(0, qcount):\n",
    "    \n",
    "    if answer.lower() == element['name'].lower():\n",
    "        print('Correct!')\n",
    "        score += 1 \n",
    "        questions += 1\n",
    "    \n",
    "    else:\n",
    "        print(f'Wrong, it is {element['name']}')   \n",
    "        questions += 1\n",
    "```\n",
    "\n",
    "<br>\n",
    "\n",
    "Make sure you have given clear instructions for the game.  \n",
    "```python\n",
    "print ('I will give you an element, and you will write its symbol. ')\n",
    "print ('Answers are not case sensitive')\n",
    "```\n",
    "<br>\n",
    "\n",
    "Add a functionality of exiting at any time, and getting the score. This can be within the loop, testing the answers:\n",
    "\n",
    "```python\n",
    "print ('You can exit any time by typing `quit`')\n",
    "\n",
    "# check the answer\n",
    "if answer.lower() == element['name'].lower():\n",
    "    print('Correct!')\n",
    "    score += 1 \n",
    "    questions += 1\n",
    "    \n",
    "elif answer.lower() == 'quit':\n",
    "    print(f'You got {score} out of {questions} questions!')\n",
    "    #get out of the loop\n",
    "    break\n",
    "    \n",
    "else:\n",
    "    print('Wrong, it is %s ' %element['name'])\n",
    "```\n",
    "Now, let's put this all the elements together in a Quiz!\n",
    "\n"
   ]
  },
  {
   "cell_type": "markdown",
   "metadata": {},
   "source": [
    "-----\n",
    "[back to top](#teabags)\n",
    "\n",
    "\n",
    "## 3.3 Write (and play) your Quiz<a class=\"anchor\" id=\"Task_quiz\"></a>\n",
    "Adapted from: [replit.com/@IsaacCHITTILAPP](https://replit.com/@IsaacCHITTILAPP)\n",
    "\n",
    "\n",
    "<div class=\"alert alert-success\">\n",
    "    <b>TASK 4 - Write a quiz about periodic table of elements  </b> \n",
    "    \n",
    " - Use [`mendeleev`](https://mendeleev.readthedocs.io/en/stable/) package to get data on the element, its name and atomic number,<br >\n",
    "    \n",
    " - or load the datafile `data/ptable.csv`, already containing the columns 'symbol', 'name', 'atomic_number' for all 117 elements.<br>\n",
    "    \n",
    " - Make sure the game is interactive:<br>\n",
    "  ```How many questions would you like to attempt? ...```<br>\n",
    "    \n",
    " - Print to the screen to confirm you read in the info right:<br>\n",
    "    ```> You have chosen to do X questions```<br>\n",
    "    \n",
    " -  Create tests for the input by the user. Did they type in an integer where they should have?\n",
    " \n",
    " - Provide instructions and how to get out:<br>\n",
    "    ```Answers are not case sensitive```<br>\n",
    "    ```type `quit` at any time to stop the game and get your score``` <br>\n",
    "    \n",
    " - Keep playing, bombproofing your code and adding extra features!  \n",
    "    \n",
    "</div>  "
   ]
  },
  {
   "cell_type": "code",
   "execution_count": null,
   "metadata": {
    "scrolled": true
   },
   "outputs": [],
   "source": [
    "# anything you need to import? \n",
    "import random\n",
    "import mendeleev as mv\n",
    "import pandas as pd\n",
    "import sys\n"
   ]
  },
  {
   "cell_type": "code",
   "execution_count": null,
   "metadata": {
    "scrolled": true
   },
   "outputs": [],
   "source": [
    "# gather data - use mendeleev? \n",
    "# what information would you want to include/test?\n",
    "cols = [ 'symbol', 'name', 'atomic_number']\n",
    "ptable = mv.get_table('elements')[cols]\n",
    "\n",
    "# or you can load the file data/ptable.csv prepared for you\n",
    "#pt = pd.read_csv('data/ptable.csv')"
   ]
  },
  {
   "cell_type": "code",
   "execution_count": null,
   "metadata": {
    "scrolled": true
   },
   "outputs": [],
   "source": [
    "# YOUR QUIZ\n",
    "\n"
   ]
  },
  {
   "cell_type": "markdown",
   "metadata": {},
   "source": [
    "<details>\n",
    "<summary> <mark> SOLUTION example:</mark> </summary>\n",
    "    \n",
    "```python\n",
    "import random\n",
    "import mendeleev as mv\n",
    "import pandas as pd\n",
    "import sys\n",
    "\n",
    "cols = [ 'symbol', 'name', 'atomic_number']\n",
    "ptable = mv.get_table('elements')[cols]\n",
    "\n",
    "\n",
    "startgame = input('Are you ready to start the Game? [Y/n]')\n",
    "\n",
    "# test if they answerred Y or y, any other letter quit\n",
    "if startgame.lower()[0] != 'y':\n",
    "    sys.exit('Quitting...')\n",
    "\n",
    "# Give instructions\n",
    "print('I will give you an element, and you will write its symbol. ')\n",
    "print('Answers are not case sensitive, and you can exit any time by typing `quit`')\n",
    "\n",
    "# Ask how many qestions to set, input should be an intiger\n",
    "qcount = int(input('How many questions do you want to brave this time?'))\n",
    "# print out to confirm\n",
    "print('> You have chosen to do %s questions' % qcount)\n",
    "\n",
    "# set the counters\n",
    "score = 0\n",
    "questions = 0\n",
    "\n",
    "# start the loop over the number of questions player wants to answer\n",
    "for i in range(0, qcount):\n",
    "\n",
    "    # get random number\n",
    "    randel = random.randint(0, 117)\n",
    "\n",
    "    # set the question:\n",
    "    print('What is the name of an element %s ? ' %\n",
    "          ptable.iloc[randel]['symbol'])\n",
    "\n",
    "    # await the answer in the new line\n",
    "    answer = input('')\n",
    "\n",
    "    # check the answer\n",
    "    # Does it match (make sure both are set to lower case to not be case-sencitive)\n",
    "    if answer.lower() == ptable.iloc[randel]['name'].lower():\n",
    "        # feedback\n",
    "        print('Correct!')\n",
    "        # update counts\n",
    "        score += 1\n",
    "        questions += 1\n",
    "\n",
    "    # don't forget, the player may want to quit now!\n",
    "    elif answer.lower() == 'quit':\n",
    "        # feedback\n",
    "        print('You got %s out of %s questions!' % (score, questions))\n",
    "        #get out of the loop\n",
    "        break\n",
    "\n",
    "    # what else can happen? the answer is wrong!\n",
    "    else:\n",
    "        # feedback, incl correct answer!\n",
    "        print('Wrong, it is %s ' % ptable.iloc[randel]['name'])\n",
    "        #update the question number counter, the score stays the same\n",
    "        questions += 1\n",
    "\n",
    "#end the loop,\n",
    "print('You got %s out of %s questions!' % (score, questions))\n",
    "```\n",
    "</details>"
   ]
  },
  {
   "cell_type": "markdown",
   "metadata": {},
   "source": [
    "<div class=\"alert alert-success\">\n",
    "    <b>TASK 5 - make the Quiz multi difficulty-level </b> \n",
    "    \n",
    " - create tests for the input by the user. Did the player type in an integer where they should have?\n",
    " \n",
    " - create levels of difficulty for the player, for example:<br>\n",
    "    ```Level 1: Gives you an element symbol, and you must give the element name```<br>\n",
    "    ```Level 2: The same as difficulty 1 but it also asks you for the atomic number```<br>\n",
    "    ```Level 3: Gives you the atomic number and you have to give the element name and symbol```<br>\n",
    "    \n",
    " - Keep playing and adding extra features!\n",
    "        \n",
    "</div>  "
   ]
  },
  {
   "cell_type": "code",
   "execution_count": null,
   "metadata": {
    "scrolled": true
   },
   "outputs": [],
   "source": [
    "# YOUR SOLUTION \n",
    "\n",
    "\n",
    "\n"
   ]
  },
  {
   "cell_type": "markdown",
   "metadata": {},
   "source": [
    "<details>\n",
    "<summary> <mark> SOLUTION example - more advanced:</mark> </summary>\n",
    "    \n",
    "```python\n",
    "import numpy as np\n",
    "import random\n",
    "import mendeleev as mv\n",
    "import pandas as pd\n",
    "import sys\n",
    "\n",
    "cols = [ 'symbol', 'name', 'atomic_number']\n",
    "ptable = mv.get_table('elements')[cols]\n",
    "\n",
    "\n",
    "startgame = input('Are you ready to start the Game? [Y/n]')\n",
    "\n",
    "if startgame.lower()[0] != 'y':\n",
    "    sys.exit('Quitting...')\n",
    "    \n",
    "# Give instructions\n",
    "print ('')\n",
    "print ('I will give you an element, and you will write its symbol. ')\n",
    "print ('')\n",
    "print ('Answers are not case sensitive, and you can exit any time by typing `quit`')\n",
    "print ('')\n",
    "print ('Level 1: Gives you an element symbol, and you must give the element name')\n",
    "print ('')\n",
    "print ('Level 2: The same as difficulty 1 but it also asks you for the atomic number')\n",
    "print ('')\n",
    "print ('Level 3: Gives you the atomic number and you have to give the element name and symbol')\n",
    "print ('')\n",
    "\n",
    "# ask what level\n",
    "level = input('Choose difficulty level 1, 2 or 3 : ')\n",
    "\n",
    "#test the answer is within the range\n",
    "if int(level[0]) < 4:\n",
    "    print ('> You have chosen level %s' %level )\n",
    "    print ('')\n",
    "else:\n",
    "    print ('> You have chosen level above possible' )\n",
    "    level = input('Try again and choose difficulty level 1, 2 or 3 : ')\n",
    "    print ('')\n",
    "    if int(level[0]) < 4:\n",
    "        print ('> You have chosen level %s' %level )\n",
    "        print ('')\n",
    "    else:\n",
    "        print ('> You have chosen level above possible. There is no hope in you' )\n",
    "        sys.exit('Quitting...')\n",
    "        \n",
    "\n",
    "# Ask how many qestions to set\n",
    "qcount = int(input('How many questions do you want to brave this time?'))\n",
    "print ('> You have chosen to do %s questions' %qcount)\n",
    "print ('')\n",
    "    \n",
    "    \n",
    "# set the counters\n",
    "score = 0\n",
    "questions = 0\n",
    "\n",
    "\n",
    "# start a loop of Qs depending on the level:\n",
    "\n",
    "    \n",
    "if level == '1':\n",
    "    # start the loop over the number of questions player wants to answer\n",
    "    for i in range(0, qcount):\n",
    "        # get random number\n",
    "        randel = random.randint(0, 117)\n",
    "        \n",
    "        # set the question:\n",
    "        print('What is the name of an element %s ? ' %ptable.iloc[randel]['symbol'])\n",
    "        \n",
    "        # await the answer\n",
    "        answer = input('')\n",
    "    \n",
    "        # check the answer\n",
    "        # Does it match (make sure both are set to lower case to not be case-sencitive)\n",
    "        if answer.lower() == ptable.iloc[randel]['name'].lower():\n",
    "            # feedback\n",
    "            print('Correct!')\n",
    "            # update counts\n",
    "            score += 1\n",
    "            questions += 1\n",
    "            \n",
    "            \n",
    "        # don't forget, the player may want to quit now! \n",
    "        elif answer.lower() == 'quit':\n",
    "            # feedback\n",
    "            print('You got %s out of %s questions!'%(score, questions))\n",
    "            #get out of the loop\n",
    "            break\n",
    "            \n",
    "        # what else can happen? the answer is wrong!\n",
    "        else:\n",
    "            # feedback, incl correct answer!\n",
    "            print('Wrong, it is %s ' %ptable.iloc[randel]['name'])\n",
    "            #update the question number counter, the score stays the same\n",
    "            questions += 1\n",
    "            \n",
    "    #end the loop,         \n",
    "    print('You got %s out of %s questions!'%(score, questions))\n",
    "\n",
    "\n",
    "elif level == '2':\n",
    "    for i in range(0, qcount):\n",
    "        randel = random.randint(0, 117)\n",
    "        \n",
    "        print('What is the name of an element %s ? ' %ptable.iloc[randel]['symbol'])\n",
    "        \n",
    "        answer = input('Name:')\n",
    "        \n",
    "        if answer.lower() == ptable.iloc[randel]['name'].lower():\n",
    "            print('Correct!')\n",
    "            \n",
    "            print('What is the atomic number of an element %s ? ' %ptable.iloc[randel]['symbol'])\n",
    "            answer = int(input('Atomic number: '))\n",
    "            \n",
    "            \n",
    "            #check if correct\n",
    "            if answer == ptable.iloc[randel]['atomic_number']:\n",
    "                print('Correct again!')\n",
    "                score += 1\n",
    "                questions += 1\n",
    "\n",
    "            elif answer == 'quit':\n",
    "                print('You got %s out of %s questions!'%(score, questions))\n",
    "                break\n",
    "\n",
    "            else:\n",
    "                print('Wrong, it is %s ' %ptable.iloc[randel]['atomic_number'])                    \n",
    "                questions += 1\n",
    "\n",
    "        elif answer.lower() == 'quit':\n",
    "            print('You got %s out of %s questions!'%(score, questions))\n",
    "            break\n",
    "            \n",
    "        else:\n",
    "            print('Wrong, it is %s ' %ptable.iloc[randel]['name'])\n",
    "            questions += 1\n",
    "            \n",
    "    print('You got %s out of %s questions!'%(score, questions))\n",
    "        \n",
    "  \n",
    "\n",
    "elif level == '3':\n",
    "    for i in range(0, qcount):\n",
    "        randel = random.randint(0, 117)\n",
    "        \n",
    "        print('What is the name of an element number %s ? ' %ptable.iloc[randel]['atomic_number'])\n",
    "        \n",
    "        answer = input('Name: ')\n",
    "        \n",
    "        if answer.lower() == ptable.iloc[randel]['name'].lower():\n",
    "            print('Correct!')\n",
    "            \n",
    "            print('What is the symbol of an element number %s ? ' %ptable.iloc[randel]['atomic_number'])\n",
    "            answer = input('Symbol: ')\n",
    "            \n",
    "            \n",
    "            #check if correct\n",
    "            if answer.lower() == ptable.iloc[randel]['symbol'].lower():\n",
    "                print('Correct again!')\n",
    "                score += 1\n",
    "                questions += 1\n",
    "\n",
    "            elif answer.lower() == 'quit':\n",
    "                print('You got %s out of %s questions!'%(score, questions))\n",
    "                break\n",
    "\n",
    "            else:\n",
    "                print('Wrong, it is %s ' %ptable.iloc[randel]['name'])                    \n",
    "                questions += 1\n",
    "\n",
    "        elif answer.lower() == 'quit':\n",
    "            print('You got %s out of %s questions!'%(score, questions))\n",
    "            break\n",
    "            \n",
    "        else:\n",
    "            print('Wrong, it is %s, %s ' %(ptable.iloc[randel]['name'], ptable.iloc[randel]['symbol']))\n",
    "            questions += 1\n",
    "            \n",
    "    print('You got %s out of %s questions!'%(score, questions))\n",
    "    \n",
    "else:\n",
    "    print('this is not a level')\n",
    "    \n",
    "```\n",
    "</details>"
   ]
  },
  {
   "cell_type": "markdown",
   "metadata": {},
   "source": [
    "<div class=\"alert alert-info\">\n",
    "<b> Have you made a cool code and want to share it with others?</b> You could:<br>\n",
    "- Upload it to GitHub <br>\n",
    "- Convert into a trinket.io or replit.com, and embed into a website/Learn page <br>\n",
    "</div>  "
   ]
  },
  {
   "cell_type": "markdown",
   "metadata": {},
   "source": [
    "[back to top](#teabags)"
   ]
  },
  {
   "cell_type": "markdown",
   "metadata": {},
   "source": [
    "---"
   ]
  }
 ],
 "metadata": {
  "kernelspec": {
   "display_name": "Python 3 (ipykernel)",
   "language": "python",
   "name": "python3"
  },
  "language_info": {
   "codemirror_mode": {
    "name": "ipython",
    "version": 3
   },
   "file_extension": ".py",
   "mimetype": "text/x-python",
   "name": "python",
   "nbconvert_exporter": "python",
   "pygments_lexer": "ipython3",
   "version": "3.9.16"
  }
 },
 "nbformat": 4,
 "nbformat_minor": 4
}
